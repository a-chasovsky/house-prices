{
 "cells": [
  {
   "cell_type": "code",
   "execution_count": 1,
   "id": "f0582df4-d1f9-41e5-995b-fbbb967a1594",
   "metadata": {},
   "outputs": [],
   "source": [
    "# run stopwatch\n",
    "from tools import Stopwatch\n",
    "stopwatch = Stopwatch()\n",
    "start = stopwatch.start()"
   ]
  },
  {
   "cell_type": "markdown",
   "id": "2c95d435-4737-4915-b754-1739200ac9cc",
   "metadata": {},
   "source": [
    "### Load libraries, functions, palette, theme"
   ]
  },
  {
   "cell_type": "code",
   "execution_count": 2,
   "id": "e05c2384-adb5-4097-8b5a-696c9503e830",
   "metadata": {},
   "outputs": [],
   "source": [
    "%run _libraries.ipynb"
   ]
  },
  {
   "cell_type": "code",
   "execution_count": 3,
   "id": "fa9ea267-d1f4-408a-a468-d01e1f0aeecd",
   "metadata": {},
   "outputs": [],
   "source": [
    "%run _functions.ipynb"
   ]
  },
  {
   "cell_type": "code",
   "execution_count": 4,
   "id": "072f5500-5438-4e7d-a7de-47c85a6f89ee",
   "metadata": {},
   "outputs": [],
   "source": [
    "dir_save = 'Section7-ML-models'"
   ]
  },
  {
   "cell_type": "markdown",
   "id": "9d5d5b67-e29d-4498-869b-e20b24a4065d",
   "metadata": {},
   "source": [
    "# Section VI. ML Models"
   ]
  },
  {
   "cell_type": "markdown",
   "id": "a55e5675-de39-482c-b834-caee0538d617",
   "metadata": {},
   "source": [
    "## Load Saved Section if exists"
   ]
  },
  {
   "cell_type": "raw",
   "id": "c40f2a54-a3e1-470a-bbba-6470b9feab1b",
   "metadata": {},
   "source": [
    "if os.path.exists(f'sessions/{dir_save}'):\n",
    "    load_session(dir_save)\n",
    "else:\n",
    "    print(f'No such session in directory: \"sessions/{dir_save}/\"')"
   ]
  },
  {
   "cell_type": "markdown",
   "id": "55d72e15-c793-468f-9364-ec5fcc57004b",
   "metadata": {},
   "source": [
    "## Load Data"
   ]
  },
  {
   "cell_type": "code",
   "execution_count": 5,
   "id": "5f168d66-319b-43ba-8a8a-8b33d53a7066",
   "metadata": {},
   "outputs": [],
   "source": [
    "# dicts\n",
    "datasets_dict = loadit(\n",
    "    'datasets_dict', dir='Section3-Feature-selection-and-Preprocessing')\n",
    "features_dict = loadit(\n",
    "    'features_dict', dir='Section4-Linear-models-research')\n",
    "simulation_datasets_dict = loadit(\n",
    "    'simulation_datasets_dict', dir='Section6-HPP-evaluation')\n",
    "estimators_dict = loadit(\n",
    "    'estimators_dict', dir='Section6-HPP-evaluation')\n",
    "evaluation_dict = loadit(\n",
    "    'evaluation_dict', dir='Section6-HPP-evaluation')\n",
    "\n",
    "# datasets\n",
    "train = datasets_dict['train_cv'].copy()\n",
    "train_fit = datasets_dict['train'].copy()\n",
    "\n",
    "# features\n",
    "features = features_dict['features']\n",
    "features_raw = features_dict['features_raw']\n",
    "numeric = features_dict['numeric']\n",
    "categorical = features_dict['categorical']\n",
    "categorical_transform = features_dict['categorical_transform']\n",
    "factor = features_dict['factor']\n",
    "target = 'price'"
   ]
  },
  {
   "cell_type": "markdown",
   "id": "85e60038-011f-48e9-894d-649fde7cad32",
   "metadata": {},
   "source": [
    "## Datasets"
   ]
  },
  {
   "cell_type": "code",
   "execution_count": 6,
   "id": "45974619-bc48-42fc-9cd3-a1fc9891ae4d",
   "metadata": {},
   "outputs": [
    {
     "data": {
      "text/plain": [
       "(1311, 106)"
      ]
     },
     "execution_count": 6,
     "metadata": {},
     "output_type": "execute_result"
    }
   ],
   "source": [
    "train.shape"
   ]
  },
  {
   "cell_type": "code",
   "execution_count": 7,
   "id": "9cc94e58-99da-4e6c-b9cf-568dbc9c0299",
   "metadata": {},
   "outputs": [
    {
     "data": {
      "text/html": [
       "<div>\n",
       "<style scoped>\n",
       "    .dataframe tbody tr th:only-of-type {\n",
       "        vertical-align: middle;\n",
       "    }\n",
       "\n",
       "    .dataframe tbody tr th {\n",
       "        vertical-align: top;\n",
       "    }\n",
       "\n",
       "    .dataframe thead th {\n",
       "        text-align: right;\n",
       "    }\n",
       "</style>\n",
       "<table border=\"1\" class=\"dataframe\">\n",
       "  <thead>\n",
       "    <tr style=\"text-align: right;\">\n",
       "      <th></th>\n",
       "      <th>mssubclass</th>\n",
       "      <th>lg_lotfrontage</th>\n",
       "      <th>lg_lotarea</th>\n",
       "      <th>yearbuilt</th>\n",
       "      <th>lg_yearremodadd</th>\n",
       "      <th>lg_masvnrarea</th>\n",
       "      <th>lg_bsmtfinsf_first</th>\n",
       "      <th>lg_bsmtfinsf_second</th>\n",
       "      <th>lg_bsmtunfsf</th>\n",
       "      <th>lg_totalbsmtsf</th>\n",
       "      <th>...</th>\n",
       "      <th>lowqualfinsf_exst</th>\n",
       "      <th>second_flrsf_exst</th>\n",
       "      <th>garagearea_exst</th>\n",
       "      <th>wooddecksf_exst</th>\n",
       "      <th>openporchsf_exst</th>\n",
       "      <th>enclosedporch_exst</th>\n",
       "      <th>three_ssnporch_exst</th>\n",
       "      <th>screenporch_exst</th>\n",
       "      <th>poolarea_exst</th>\n",
       "      <th>miscval_exst</th>\n",
       "    </tr>\n",
       "  </thead>\n",
       "  <tbody>\n",
       "    <tr>\n",
       "      <th>907</th>\n",
       "      <td>50</td>\n",
       "      <td>4.465908</td>\n",
       "      <td>9.350189</td>\n",
       "      <td>1936</td>\n",
       "      <td>7.594884</td>\n",
       "      <td>0.0</td>\n",
       "      <td>5.411646</td>\n",
       "      <td>0.0</td>\n",
       "      <td>6.678342</td>\n",
       "      <td>6.925595</td>\n",
       "      <td>...</td>\n",
       "      <td>0</td>\n",
       "      <td>1</td>\n",
       "      <td>1</td>\n",
       "      <td>0</td>\n",
       "      <td>0</td>\n",
       "      <td>0</td>\n",
       "      <td>0</td>\n",
       "      <td>1</td>\n",
       "      <td>0</td>\n",
       "      <td>0</td>\n",
       "    </tr>\n",
       "    <tr>\n",
       "      <th>782</th>\n",
       "      <td>20</td>\n",
       "      <td>4.219508</td>\n",
       "      <td>9.698061</td>\n",
       "      <td>2001</td>\n",
       "      <td>7.602401</td>\n",
       "      <td>0.0</td>\n",
       "      <td>0.000000</td>\n",
       "      <td>0.0</td>\n",
       "      <td>7.254178</td>\n",
       "      <td>7.254178</td>\n",
       "      <td>...</td>\n",
       "      <td>0</td>\n",
       "      <td>0</td>\n",
       "      <td>1</td>\n",
       "      <td>0</td>\n",
       "      <td>1</td>\n",
       "      <td>0</td>\n",
       "      <td>0</td>\n",
       "      <td>0</td>\n",
       "      <td>0</td>\n",
       "      <td>0</td>\n",
       "    </tr>\n",
       "    <tr>\n",
       "      <th>952</th>\n",
       "      <td>85</td>\n",
       "      <td>4.110874</td>\n",
       "      <td>8.881975</td>\n",
       "      <td>1972</td>\n",
       "      <td>7.602900</td>\n",
       "      <td>0.0</td>\n",
       "      <td>6.493754</td>\n",
       "      <td>0.0</td>\n",
       "      <td>4.691348</td>\n",
       "      <td>6.645091</td>\n",
       "      <td>...</td>\n",
       "      <td>0</td>\n",
       "      <td>0</td>\n",
       "      <td>1</td>\n",
       "      <td>1</td>\n",
       "      <td>0</td>\n",
       "      <td>0</td>\n",
       "      <td>0</td>\n",
       "      <td>0</td>\n",
       "      <td>0</td>\n",
       "      <td>0</td>\n",
       "    </tr>\n",
       "    <tr>\n",
       "      <th>620</th>\n",
       "      <td>30</td>\n",
       "      <td>3.828641</td>\n",
       "      <td>9.017847</td>\n",
       "      <td>1914</td>\n",
       "      <td>7.576097</td>\n",
       "      <td>0.0</td>\n",
       "      <td>3.737670</td>\n",
       "      <td>0.0</td>\n",
       "      <td>6.714171</td>\n",
       "      <td>6.762730</td>\n",
       "      <td>...</td>\n",
       "      <td>0</td>\n",
       "      <td>0</td>\n",
       "      <td>0</td>\n",
       "      <td>0</td>\n",
       "      <td>0</td>\n",
       "      <td>1</td>\n",
       "      <td>0</td>\n",
       "      <td>0</td>\n",
       "      <td>0</td>\n",
       "      <td>0</td>\n",
       "    </tr>\n",
       "    <tr>\n",
       "      <th>669</th>\n",
       "      <td>30</td>\n",
       "      <td>4.394449</td>\n",
       "      <td>9.358847</td>\n",
       "      <td>1922</td>\n",
       "      <td>7.576097</td>\n",
       "      <td>0.0</td>\n",
       "      <td>0.000000</td>\n",
       "      <td>0.0</td>\n",
       "      <td>6.552508</td>\n",
       "      <td>6.552508</td>\n",
       "      <td>...</td>\n",
       "      <td>0</td>\n",
       "      <td>0</td>\n",
       "      <td>1</td>\n",
       "      <td>0</td>\n",
       "      <td>0</td>\n",
       "      <td>1</td>\n",
       "      <td>0</td>\n",
       "      <td>0</td>\n",
       "      <td>0</td>\n",
       "      <td>0</td>\n",
       "    </tr>\n",
       "  </tbody>\n",
       "</table>\n",
       "<p>5 rows × 104 columns</p>\n",
       "</div>"
      ],
      "text/plain": [
       "    mssubclass  lg_lotfrontage  lg_lotarea  yearbuilt  lg_yearremodadd  \\\n",
       "907         50        4.465908    9.350189       1936         7.594884   \n",
       "782         20        4.219508    9.698061       2001         7.602401   \n",
       "952         85        4.110874    8.881975       1972         7.602900   \n",
       "620         30        3.828641    9.017847       1914         7.576097   \n",
       "669         30        4.394449    9.358847       1922         7.576097   \n",
       "\n",
       "     lg_masvnrarea  lg_bsmtfinsf_first  lg_bsmtfinsf_second  lg_bsmtunfsf  \\\n",
       "907            0.0            5.411646                  0.0      6.678342   \n",
       "782            0.0            0.000000                  0.0      7.254178   \n",
       "952            0.0            6.493754                  0.0      4.691348   \n",
       "620            0.0            3.737670                  0.0      6.714171   \n",
       "669            0.0            0.000000                  0.0      6.552508   \n",
       "\n",
       "     lg_totalbsmtsf  ...  lowqualfinsf_exst  second_flrsf_exst  \\\n",
       "907        6.925595  ...                  0                  1   \n",
       "782        7.254178  ...                  0                  0   \n",
       "952        6.645091  ...                  0                  0   \n",
       "620        6.762730  ...                  0                  0   \n",
       "669        6.552508  ...                  0                  0   \n",
       "\n",
       "     garagearea_exst  wooddecksf_exst  openporchsf_exst  enclosedporch_exst  \\\n",
       "907                1                0                 0                   0   \n",
       "782                1                0                 1                   0   \n",
       "952                1                1                 0                   0   \n",
       "620                0                0                 0                   1   \n",
       "669                1                0                 0                   1   \n",
       "\n",
       "     three_ssnporch_exst  screenporch_exst  poolarea_exst  miscval_exst  \n",
       "907                    0                 1              0             0  \n",
       "782                    0                 0              0             0  \n",
       "952                    0                 0              0             0  \n",
       "620                    0                 0              0             0  \n",
       "669                    0                 0              0             0  \n",
       "\n",
       "[5 rows x 104 columns]"
      ]
     },
     "execution_count": 7,
     "metadata": {},
     "output_type": "execute_result"
    }
   ],
   "source": [
    "train[features].head()"
   ]
  },
  {
   "cell_type": "code",
   "execution_count": 8,
   "id": "18cdc1da-11c4-4d96-a15b-7792982f826c",
   "metadata": {},
   "outputs": [
    {
     "data": {
      "text/html": [
       "<div>\n",
       "<style scoped>\n",
       "    .dataframe tbody tr th:only-of-type {\n",
       "        vertical-align: middle;\n",
       "    }\n",
       "\n",
       "    .dataframe tbody tr th {\n",
       "        vertical-align: top;\n",
       "    }\n",
       "\n",
       "    .dataframe thead th {\n",
       "        text-align: right;\n",
       "    }\n",
       "</style>\n",
       "<table border=\"1\" class=\"dataframe\">\n",
       "  <thead>\n",
       "    <tr style=\"text-align: right;\">\n",
       "      <th></th>\n",
       "      <th>mssubclass</th>\n",
       "      <th>lg_lotfrontage</th>\n",
       "      <th>lg_lotarea</th>\n",
       "      <th>yearbuilt</th>\n",
       "      <th>lg_yearremodadd</th>\n",
       "      <th>lg_masvnrarea</th>\n",
       "      <th>lg_bsmtfinsf_first</th>\n",
       "      <th>lg_bsmtfinsf_second</th>\n",
       "      <th>lg_bsmtunfsf</th>\n",
       "      <th>lg_totalbsmtsf</th>\n",
       "      <th>...</th>\n",
       "      <th>masvnrtype</th>\n",
       "      <th>foundation</th>\n",
       "      <th>heating</th>\n",
       "      <th>centralair</th>\n",
       "      <th>electrical</th>\n",
       "      <th>paveddrive</th>\n",
       "      <th>fence</th>\n",
       "      <th>miscfeature</th>\n",
       "      <th>saletype</th>\n",
       "      <th>salecondition</th>\n",
       "    </tr>\n",
       "  </thead>\n",
       "  <tbody>\n",
       "    <tr>\n",
       "      <th>907</th>\n",
       "      <td>50</td>\n",
       "      <td>4.465908</td>\n",
       "      <td>9.350189</td>\n",
       "      <td>1936</td>\n",
       "      <td>7.594884</td>\n",
       "      <td>0.0</td>\n",
       "      <td>5.411646</td>\n",
       "      <td>0.0</td>\n",
       "      <td>6.678342</td>\n",
       "      <td>6.925595</td>\n",
       "      <td>...</td>\n",
       "      <td>NA</td>\n",
       "      <td>CBlock</td>\n",
       "      <td>GasA</td>\n",
       "      <td>Y</td>\n",
       "      <td>SBrkr</td>\n",
       "      <td>Y</td>\n",
       "      <td>NA</td>\n",
       "      <td>NA</td>\n",
       "      <td>WD</td>\n",
       "      <td>Normal</td>\n",
       "    </tr>\n",
       "    <tr>\n",
       "      <th>782</th>\n",
       "      <td>20</td>\n",
       "      <td>4.219508</td>\n",
       "      <td>9.698061</td>\n",
       "      <td>2001</td>\n",
       "      <td>7.602401</td>\n",
       "      <td>0.0</td>\n",
       "      <td>0.000000</td>\n",
       "      <td>0.0</td>\n",
       "      <td>7.254178</td>\n",
       "      <td>7.254178</td>\n",
       "      <td>...</td>\n",
       "      <td>NA</td>\n",
       "      <td>PConc</td>\n",
       "      <td>GasA</td>\n",
       "      <td>Y</td>\n",
       "      <td>SBrkr</td>\n",
       "      <td>Y</td>\n",
       "      <td>NA</td>\n",
       "      <td>NA</td>\n",
       "      <td>WD</td>\n",
       "      <td>Normal</td>\n",
       "    </tr>\n",
       "    <tr>\n",
       "      <th>952</th>\n",
       "      <td>85</td>\n",
       "      <td>4.110874</td>\n",
       "      <td>8.881975</td>\n",
       "      <td>1972</td>\n",
       "      <td>7.602900</td>\n",
       "      <td>0.0</td>\n",
       "      <td>6.493754</td>\n",
       "      <td>0.0</td>\n",
       "      <td>4.691348</td>\n",
       "      <td>6.645091</td>\n",
       "      <td>...</td>\n",
       "      <td>NA</td>\n",
       "      <td>CBlock</td>\n",
       "      <td>GasA</td>\n",
       "      <td>Y</td>\n",
       "      <td>SBrkr</td>\n",
       "      <td>Y</td>\n",
       "      <td>MnPrv</td>\n",
       "      <td>NA</td>\n",
       "      <td>WD</td>\n",
       "      <td>Normal</td>\n",
       "    </tr>\n",
       "    <tr>\n",
       "      <th>620</th>\n",
       "      <td>30</td>\n",
       "      <td>3.828641</td>\n",
       "      <td>9.017847</td>\n",
       "      <td>1914</td>\n",
       "      <td>7.576097</td>\n",
       "      <td>0.0</td>\n",
       "      <td>3.737670</td>\n",
       "      <td>0.0</td>\n",
       "      <td>6.714171</td>\n",
       "      <td>6.762730</td>\n",
       "      <td>...</td>\n",
       "      <td>NA</td>\n",
       "      <td>BrkTil</td>\n",
       "      <td>GasA</td>\n",
       "      <td>N</td>\n",
       "      <td>FuseF</td>\n",
       "      <td>N</td>\n",
       "      <td>NA</td>\n",
       "      <td>NA</td>\n",
       "      <td>WD</td>\n",
       "      <td>Normal</td>\n",
       "    </tr>\n",
       "    <tr>\n",
       "      <th>669</th>\n",
       "      <td>30</td>\n",
       "      <td>4.394449</td>\n",
       "      <td>9.358847</td>\n",
       "      <td>1922</td>\n",
       "      <td>7.576097</td>\n",
       "      <td>0.0</td>\n",
       "      <td>0.000000</td>\n",
       "      <td>0.0</td>\n",
       "      <td>6.552508</td>\n",
       "      <td>6.552508</td>\n",
       "      <td>...</td>\n",
       "      <td>NA</td>\n",
       "      <td>BrkTil</td>\n",
       "      <td>GasA</td>\n",
       "      <td>Y</td>\n",
       "      <td>SBrkr</td>\n",
       "      <td>Y</td>\n",
       "      <td>NA</td>\n",
       "      <td>NA</td>\n",
       "      <td>WD</td>\n",
       "      <td>Normal</td>\n",
       "    </tr>\n",
       "  </tbody>\n",
       "</table>\n",
       "<p>5 rows × 79 columns</p>\n",
       "</div>"
      ],
      "text/plain": [
       "    mssubclass  lg_lotfrontage  lg_lotarea  yearbuilt  lg_yearremodadd  \\\n",
       "907         50        4.465908    9.350189       1936         7.594884   \n",
       "782         20        4.219508    9.698061       2001         7.602401   \n",
       "952         85        4.110874    8.881975       1972         7.602900   \n",
       "620         30        3.828641    9.017847       1914         7.576097   \n",
       "669         30        4.394449    9.358847       1922         7.576097   \n",
       "\n",
       "     lg_masvnrarea  lg_bsmtfinsf_first  lg_bsmtfinsf_second  lg_bsmtunfsf  \\\n",
       "907            0.0            5.411646                  0.0      6.678342   \n",
       "782            0.0            0.000000                  0.0      7.254178   \n",
       "952            0.0            6.493754                  0.0      4.691348   \n",
       "620            0.0            3.737670                  0.0      6.714171   \n",
       "669            0.0            0.000000                  0.0      6.552508   \n",
       "\n",
       "     lg_totalbsmtsf  ...  masvnrtype  foundation  heating  centralair  \\\n",
       "907        6.925595  ...          NA      CBlock     GasA           Y   \n",
       "782        7.254178  ...          NA       PConc     GasA           Y   \n",
       "952        6.645091  ...          NA      CBlock     GasA           Y   \n",
       "620        6.762730  ...          NA      BrkTil     GasA           N   \n",
       "669        6.552508  ...          NA      BrkTil     GasA           Y   \n",
       "\n",
       "     electrical  paveddrive  fence  miscfeature  saletype  salecondition  \n",
       "907       SBrkr           Y     NA           NA        WD         Normal  \n",
       "782       SBrkr           Y     NA           NA        WD         Normal  \n",
       "952       SBrkr           Y  MnPrv           NA        WD         Normal  \n",
       "620       FuseF           N     NA           NA        WD         Normal  \n",
       "669       SBrkr           Y     NA           NA        WD         Normal  \n",
       "\n",
       "[5 rows x 79 columns]"
      ]
     },
     "execution_count": 8,
     "metadata": {},
     "output_type": "execute_result"
    }
   ],
   "source": [
    "train[features_raw].head()"
   ]
  },
  {
   "cell_type": "code",
   "execution_count": 9,
   "id": "11a62913-2d4b-407b-9b8a-6fff7532159e",
   "metadata": {},
   "outputs": [
    {
     "data": {
      "text/plain": [
       "907     12.429216\n",
       "782     12.139399\n",
       "952     11.804849\n",
       "620     11.112448\n",
       "669     11.831379\n",
       "          ...    \n",
       "1095    12.080691\n",
       "1130    11.813030\n",
       "1294    11.652687\n",
       "860     12.154516\n",
       "1126    12.066811\n",
       "Name: price, Length: 1311, dtype: float64"
      ]
     },
     "execution_count": 9,
     "metadata": {},
     "output_type": "execute_result"
    }
   ],
   "source": [
    "train[target]"
   ]
  },
  {
   "cell_type": "code",
   "execution_count": 10,
   "id": "6d08cae1-195a-4246-b94e-ccab5c9424b8",
   "metadata": {},
   "outputs": [],
   "source": [
    "datasets1 = [\n",
    "    train[features],\n",
    "    train[target]\n",
    "]\n",
    "datasets2 = [\n",
    "    train[features_raw],\n",
    "    train[target]\n",
    "]"
   ]
  },
  {
   "cell_type": "markdown",
   "id": "7bbcdb15-dcdd-4038-8ed3-a13d71809551",
   "metadata": {},
   "source": [
    "## Preprocessing Pipelines"
   ]
  },
  {
   "cell_type": "code",
   "execution_count": 11,
   "id": "8311c5f5-1ec9-4dd4-8205-41f4ff75556c",
   "metadata": {},
   "outputs": [],
   "source": [
    "encoder = OrdinalEncoder(\n",
    "    encoding_method='ordered',\n",
    "    variables=categorical_transform,\n",
    "    missing_values='ignore',\n",
    "    unseen='encode'\n",
    ")"
   ]
  },
  {
   "cell_type": "code",
   "execution_count": 12,
   "id": "1dc1259e-1f0b-4714-b130-2e8edb2d9a62",
   "metadata": {},
   "outputs": [],
   "source": [
    "scaler = StandardScaler()"
   ]
  },
  {
   "cell_type": "code",
   "execution_count": 13,
   "id": "22937259-900f-4368-b51b-d5ea48bf6018",
   "metadata": {},
   "outputs": [],
   "source": [
    "preprocessor = Pipeline([\n",
    "    ('encoder', encoder),\n",
    "    ('scaler', scaler),\n",
    "])"
   ]
  },
  {
   "cell_type": "code",
   "execution_count": 14,
   "id": "e83167dc-2b58-4675-a653-e54feaf54f34",
   "metadata": {},
   "outputs": [
    {
     "data": {
      "text/html": [
       "<style>#sk-container-id-1 {color: black;}#sk-container-id-1 pre{padding: 0;}#sk-container-id-1 div.sk-toggleable {background-color: white;}#sk-container-id-1 label.sk-toggleable__label {cursor: pointer;display: block;width: 100%;margin-bottom: 0;padding: 0.3em;box-sizing: border-box;text-align: center;}#sk-container-id-1 label.sk-toggleable__label-arrow:before {content: \"▸\";float: left;margin-right: 0.25em;color: #696969;}#sk-container-id-1 label.sk-toggleable__label-arrow:hover:before {color: black;}#sk-container-id-1 div.sk-estimator:hover label.sk-toggleable__label-arrow:before {color: black;}#sk-container-id-1 div.sk-toggleable__content {max-height: 0;max-width: 0;overflow: hidden;text-align: left;background-color: #f0f8ff;}#sk-container-id-1 div.sk-toggleable__content pre {margin: 0.2em;color: black;border-radius: 0.25em;background-color: #f0f8ff;}#sk-container-id-1 input.sk-toggleable__control:checked~div.sk-toggleable__content {max-height: 200px;max-width: 100%;overflow: auto;}#sk-container-id-1 input.sk-toggleable__control:checked~label.sk-toggleable__label-arrow:before {content: \"▾\";}#sk-container-id-1 div.sk-estimator input.sk-toggleable__control:checked~label.sk-toggleable__label {background-color: #d4ebff;}#sk-container-id-1 div.sk-label input.sk-toggleable__control:checked~label.sk-toggleable__label {background-color: #d4ebff;}#sk-container-id-1 input.sk-hidden--visually {border: 0;clip: rect(1px 1px 1px 1px);clip: rect(1px, 1px, 1px, 1px);height: 1px;margin: -1px;overflow: hidden;padding: 0;position: absolute;width: 1px;}#sk-container-id-1 div.sk-estimator {font-family: monospace;background-color: #f0f8ff;border: 1px dotted black;border-radius: 0.25em;box-sizing: border-box;margin-bottom: 0.5em;}#sk-container-id-1 div.sk-estimator:hover {background-color: #d4ebff;}#sk-container-id-1 div.sk-parallel-item::after {content: \"\";width: 100%;border-bottom: 1px solid gray;flex-grow: 1;}#sk-container-id-1 div.sk-label:hover label.sk-toggleable__label {background-color: #d4ebff;}#sk-container-id-1 div.sk-serial::before {content: \"\";position: absolute;border-left: 1px solid gray;box-sizing: border-box;top: 0;bottom: 0;left: 50%;z-index: 0;}#sk-container-id-1 div.sk-serial {display: flex;flex-direction: column;align-items: center;background-color: white;padding-right: 0.2em;padding-left: 0.2em;position: relative;}#sk-container-id-1 div.sk-item {position: relative;z-index: 1;}#sk-container-id-1 div.sk-parallel {display: flex;align-items: stretch;justify-content: center;background-color: white;position: relative;}#sk-container-id-1 div.sk-item::before, #sk-container-id-1 div.sk-parallel-item::before {content: \"\";position: absolute;border-left: 1px solid gray;box-sizing: border-box;top: 0;bottom: 0;left: 50%;z-index: -1;}#sk-container-id-1 div.sk-parallel-item {display: flex;flex-direction: column;z-index: 1;position: relative;background-color: white;}#sk-container-id-1 div.sk-parallel-item:first-child::after {align-self: flex-end;width: 50%;}#sk-container-id-1 div.sk-parallel-item:last-child::after {align-self: flex-start;width: 50%;}#sk-container-id-1 div.sk-parallel-item:only-child::after {width: 0;}#sk-container-id-1 div.sk-dashed-wrapped {border: 1px dashed gray;margin: 0 0.4em 0.5em 0.4em;box-sizing: border-box;padding-bottom: 0.4em;background-color: white;}#sk-container-id-1 div.sk-label label {font-family: monospace;font-weight: bold;display: inline-block;line-height: 1.2em;}#sk-container-id-1 div.sk-label-container {text-align: center;}#sk-container-id-1 div.sk-container {/* jupyter's `normalize.less` sets `[hidden] { display: none; }` but bootstrap.min.css set `[hidden] { display: none !important; }` so we also need the `!important` here to be able to override the default hidden behavior on the sphinx rendered scikit-learn.org. See: https://github.com/scikit-learn/scikit-learn/issues/21755 */display: inline-block !important;position: relative;}#sk-container-id-1 div.sk-text-repr-fallback {display: none;}</style><div id=\"sk-container-id-1\" class=\"sk-top-container\"><div class=\"sk-text-repr-fallback\"><pre>Pipeline(steps=[(&#x27;encoder&#x27;,\n",
       "                 OrdinalEncoder(missing_values=&#x27;ignore&#x27;, unseen=&#x27;encode&#x27;,\n",
       "                                variables=[&#x27;mszoning&#x27;, &#x27;street&#x27;, &#x27;alley&#x27;,\n",
       "                                           &#x27;lotshape&#x27;, &#x27;landcontour&#x27;,\n",
       "                                           &#x27;utilities&#x27;, &#x27;lotconfig&#x27;,\n",
       "                                           &#x27;landslope&#x27;, &#x27;neighborhood&#x27;,\n",
       "                                           &#x27;condition_first&#x27;,\n",
       "                                           &#x27;condition_second&#x27;, &#x27;bldgtype&#x27;,\n",
       "                                           &#x27;housestyle&#x27;, &#x27;roofstyle&#x27;,\n",
       "                                           &#x27;roofmatl&#x27;, &#x27;exterior_first&#x27;,\n",
       "                                           &#x27;exterior_second&#x27;, &#x27;masvnrtype&#x27;,\n",
       "                                           &#x27;foundation&#x27;, &#x27;heating&#x27;,\n",
       "                                           &#x27;centralair&#x27;, &#x27;electrical&#x27;,\n",
       "                                           &#x27;paveddrive&#x27;, &#x27;fence&#x27;, &#x27;miscfeature&#x27;,\n",
       "                                           &#x27;saletype&#x27;, &#x27;salecondition&#x27;,\n",
       "                                           &#x27;mssubclass&#x27;])),\n",
       "                (&#x27;scaler&#x27;, StandardScaler())])</pre><b>In a Jupyter environment, please rerun this cell to show the HTML representation or trust the notebook. <br />On GitHub, the HTML representation is unable to render, please try loading this page with nbviewer.org.</b></div><div class=\"sk-container\" hidden><div class=\"sk-item sk-dashed-wrapped\"><div class=\"sk-label-container\"><div class=\"sk-label sk-toggleable\"><input class=\"sk-toggleable__control sk-hidden--visually\" id=\"sk-estimator-id-1\" type=\"checkbox\" ><label for=\"sk-estimator-id-1\" class=\"sk-toggleable__label sk-toggleable__label-arrow\">Pipeline</label><div class=\"sk-toggleable__content\"><pre>Pipeline(steps=[(&#x27;encoder&#x27;,\n",
       "                 OrdinalEncoder(missing_values=&#x27;ignore&#x27;, unseen=&#x27;encode&#x27;,\n",
       "                                variables=[&#x27;mszoning&#x27;, &#x27;street&#x27;, &#x27;alley&#x27;,\n",
       "                                           &#x27;lotshape&#x27;, &#x27;landcontour&#x27;,\n",
       "                                           &#x27;utilities&#x27;, &#x27;lotconfig&#x27;,\n",
       "                                           &#x27;landslope&#x27;, &#x27;neighborhood&#x27;,\n",
       "                                           &#x27;condition_first&#x27;,\n",
       "                                           &#x27;condition_second&#x27;, &#x27;bldgtype&#x27;,\n",
       "                                           &#x27;housestyle&#x27;, &#x27;roofstyle&#x27;,\n",
       "                                           &#x27;roofmatl&#x27;, &#x27;exterior_first&#x27;,\n",
       "                                           &#x27;exterior_second&#x27;, &#x27;masvnrtype&#x27;,\n",
       "                                           &#x27;foundation&#x27;, &#x27;heating&#x27;,\n",
       "                                           &#x27;centralair&#x27;, &#x27;electrical&#x27;,\n",
       "                                           &#x27;paveddrive&#x27;, &#x27;fence&#x27;, &#x27;miscfeature&#x27;,\n",
       "                                           &#x27;saletype&#x27;, &#x27;salecondition&#x27;,\n",
       "                                           &#x27;mssubclass&#x27;])),\n",
       "                (&#x27;scaler&#x27;, StandardScaler())])</pre></div></div></div><div class=\"sk-serial\"><div class=\"sk-item\"><div class=\"sk-estimator sk-toggleable\"><input class=\"sk-toggleable__control sk-hidden--visually\" id=\"sk-estimator-id-2\" type=\"checkbox\" ><label for=\"sk-estimator-id-2\" class=\"sk-toggleable__label sk-toggleable__label-arrow\">OrdinalEncoder</label><div class=\"sk-toggleable__content\"><pre>OrdinalEncoder(missing_values=&#x27;ignore&#x27;, unseen=&#x27;encode&#x27;,\n",
       "               variables=[&#x27;mszoning&#x27;, &#x27;street&#x27;, &#x27;alley&#x27;, &#x27;lotshape&#x27;,\n",
       "                          &#x27;landcontour&#x27;, &#x27;utilities&#x27;, &#x27;lotconfig&#x27;, &#x27;landslope&#x27;,\n",
       "                          &#x27;neighborhood&#x27;, &#x27;condition_first&#x27;, &#x27;condition_second&#x27;,\n",
       "                          &#x27;bldgtype&#x27;, &#x27;housestyle&#x27;, &#x27;roofstyle&#x27;, &#x27;roofmatl&#x27;,\n",
       "                          &#x27;exterior_first&#x27;, &#x27;exterior_second&#x27;, &#x27;masvnrtype&#x27;,\n",
       "                          &#x27;foundation&#x27;, &#x27;heating&#x27;, &#x27;centralair&#x27;, &#x27;electrical&#x27;,\n",
       "                          &#x27;paveddrive&#x27;, &#x27;fence&#x27;, &#x27;miscfeature&#x27;, &#x27;saletype&#x27;,\n",
       "                          &#x27;salecondition&#x27;, &#x27;mssubclass&#x27;])</pre></div></div></div><div class=\"sk-item\"><div class=\"sk-estimator sk-toggleable\"><input class=\"sk-toggleable__control sk-hidden--visually\" id=\"sk-estimator-id-3\" type=\"checkbox\" ><label for=\"sk-estimator-id-3\" class=\"sk-toggleable__label sk-toggleable__label-arrow\">StandardScaler</label><div class=\"sk-toggleable__content\"><pre>StandardScaler()</pre></div></div></div></div></div></div></div>"
      ],
      "text/plain": [
       "Pipeline(steps=[('encoder',\n",
       "                 OrdinalEncoder(missing_values='ignore', unseen='encode',\n",
       "                                variables=['mszoning', 'street', 'alley',\n",
       "                                           'lotshape', 'landcontour',\n",
       "                                           'utilities', 'lotconfig',\n",
       "                                           'landslope', 'neighborhood',\n",
       "                                           'condition_first',\n",
       "                                           'condition_second', 'bldgtype',\n",
       "                                           'housestyle', 'roofstyle',\n",
       "                                           'roofmatl', 'exterior_first',\n",
       "                                           'exterior_second', 'masvnrtype',\n",
       "                                           'foundation', 'heating',\n",
       "                                           'centralair', 'electrical',\n",
       "                                           'paveddrive', 'fence', 'miscfeature',\n",
       "                                           'saletype', 'salecondition',\n",
       "                                           'mssubclass'])),\n",
       "                ('scaler', StandardScaler())])"
      ]
     },
     "execution_count": 14,
     "metadata": {},
     "output_type": "execute_result"
    }
   ],
   "source": [
    "preprocessor"
   ]
  },
  {
   "cell_type": "code",
   "execution_count": 15,
   "id": "6bb7d412-becd-46b7-aa94-1cee6757da0e",
   "metadata": {},
   "outputs": [],
   "source": [
    "n_folds = 20"
   ]
  },
  {
   "cell_type": "code",
   "execution_count": 16,
   "id": "9be7eaa8-43ff-4786-8ff8-e83ba1307a1a",
   "metadata": {},
   "outputs": [],
   "source": [
    "params_knn = {\n",
    "    'estimator__n_neighbors': [2, 3, 4, 5, 7, 10, 15],\n",
    "    'estimator__weights': ['uniform']\n",
    "}"
   ]
  },
  {
   "cell_type": "code",
   "execution_count": 17,
   "id": "a1ceef27-fae3-438a-811b-bbf6a884592c",
   "metadata": {},
   "outputs": [],
   "source": [
    "params_svr = {\n",
    "    'estimator__kernel': ['linear'],\n",
    "    'estimator__C': [0.1, 1, 10],\n",
    "    'estimator__gamma': [0.01, 0.1]\n",
    "}"
   ]
  },
  {
   "cell_type": "code",
   "execution_count": 18,
   "id": "8df0fa68-aa4d-4ac5-9d1a-d6c59edc847b",
   "metadata": {},
   "outputs": [],
   "source": [
    "params_rf = {\n",
    "    'estimator__n_estimators': [25, 50, 75, 100],\n",
    "    'estimator__max_depth': [2, 3, 4, 5, 7, 10],\n",
    "    'estimator__random_state':[seed]\n",
    "}"
   ]
  },
  {
   "cell_type": "code",
   "execution_count": 19,
   "id": "ae1f2319-7fd2-466e-9125-303f1d80ad23",
   "metadata": {},
   "outputs": [],
   "source": [
    "params_bag = {\n",
    "    'estimator__n_estimators': [25, 50, 75, 100, 150, 200],\n",
    "    'estimator__random_state':[seed]\n",
    "}"
   ]
  },
  {
   "cell_type": "code",
   "execution_count": 20,
   "id": "0ff4aa21-20e2-4641-a66e-8f616d717a52",
   "metadata": {},
   "outputs": [],
   "source": [
    "params_lgb = {\n",
    "    'estimator__n_estimators': [25, 50, 75, 100, 150, 200],\n",
    "    'estimator__max_depth': [2, 3, 4, 5, 7, 10],\n",
    "    'estimator__num_leaves': [3, 25, 100, ],\n",
    "    'estimator__learning_rate': [0.1, 0.3],\n",
    "    'estimator__random_state':[seed],\n",
    "    'estimator__verbose': [-1]\n",
    "}"
   ]
  },
  {
   "cell_type": "code",
   "execution_count": 21,
   "id": "bf17e41a-7d4a-42e3-b6fb-2f601b86181d",
   "metadata": {},
   "outputs": [],
   "source": [
    "params_hgb = {\n",
    "    'estimator__loss': ['squared_error'],\n",
    "    'estimator__learning_rate': [0.1, 0.3],\n",
    "    'estimator__max_iter': [100, 200, 300],\n",
    "    'estimator__max_depth': [2, 3, 4, 5, 7, 10],\n",
    "    'estimator__random_state':[seed]\n",
    "}"
   ]
  },
  {
   "cell_type": "code",
   "execution_count": 22,
   "id": "17f0c38b-e630-4ae4-b92d-e87c6b933e4e",
   "metadata": {},
   "outputs": [],
   "source": [
    "params_xgb = {\n",
    "    'estimator__n_estimators': [25, 50, 75, 100, 150, 200],\n",
    "    'estimator__max_depth': [2, 3, 4, 5, 7, 10],\n",
    "    'estimator__random_state':[seed],\n",
    "    'estimator__learning_rate': [0.1, 0.3],\n",
    "}"
   ]
  },
  {
   "cell_type": "code",
   "execution_count": 23,
   "id": "4b278309-9fa6-46f1-881d-e54b0c632dc3",
   "metadata": {},
   "outputs": [],
   "source": [
    "pipeline_knn = Pipeline(steps=[\n",
    "    ('preprocessor', preprocessor),\n",
    "    ('estimator', KNeighborsRegressor())\n",
    "])\n",
    "\n",
    "pipeline_svr = Pipeline(steps=[\n",
    "    ('preprocessor', preprocessor),\n",
    "    ('estimator', SVR())\n",
    "])\n",
    "\n",
    "pipeline_rf = Pipeline(steps=[\n",
    "    ('preprocessor', preprocessor),\n",
    "    ('estimator', RandomForestRegressor())\n",
    "])\n",
    "\n",
    "pipeline_bag = Pipeline(steps=[\n",
    "    ('preprocessor', preprocessor),\n",
    "    ('estimator', BaggingRegressor())\n",
    "])\n",
    "\n",
    "pipeline_lgb = Pipeline(steps=[\n",
    "    ('preprocessor', preprocessor),\n",
    "    ('estimator', LGBMRegressor())\n",
    "])\n",
    "\n",
    "pipeline_hgb = Pipeline(steps=[\n",
    "    ('preprocessor', preprocessor),\n",
    "    ('estimator', HistGradientBoostingRegressor())\n",
    "])\n",
    "\n",
    "pipeline_xgb = Pipeline(steps=[\n",
    "    ('preprocessor', preprocessor),\n",
    "    ('estimator', XGBRegressor())\n",
    "])"
   ]
  },
  {
   "cell_type": "code",
   "execution_count": 24,
   "id": "160af8bb-f64c-43f4-943d-62bde1f07b72",
   "metadata": {},
   "outputs": [],
   "source": [
    "models_list = [\n",
    "    'KNN', 'SVM', 'RF', 'Bagging',\n",
    "    'LGBoost', 'HGBoost', 'XGBoost'\n",
    "]"
   ]
  },
  {
   "cell_type": "code",
   "execution_count": 25,
   "id": "bb27c0fc-b03e-4a3c-acc1-417d7f67cf9d",
   "metadata": {},
   "outputs": [],
   "source": [
    "estimators_list = [\n",
    "    pipeline_knn, pipeline_svr, pipeline_rf, pipeline_bag,\n",
    "    pipeline_lgb, pipeline_hgb, pipeline_xgb\n",
    "]"
   ]
  },
  {
   "cell_type": "code",
   "execution_count": 26,
   "id": "f9aea0a5-de1a-41fa-861a-ee29556fad71",
   "metadata": {},
   "outputs": [],
   "source": [
    "params_list = [\n",
    "    params_knn, params_svr, params_rf, params_bag,\n",
    "    params_lgb, params_hgb, params_xgb\n",
    "]"
   ]
  },
  {
   "cell_type": "markdown",
   "id": "223442c5-bf5d-4e61-ad02-5d00e44cb512",
   "metadata": {},
   "source": [
    "## Part 1. Train Data with new predictors"
   ]
  },
  {
   "cell_type": "code",
   "execution_count": 27,
   "id": "63300beb-f3a4-43c2-92ce-0386cf68373e",
   "metadata": {},
   "outputs": [
    {
     "name": "stdout",
     "output_type": "stream",
     "text": [
      "Execution time: 1:35:29\n"
     ]
    }
   ],
   "source": [
    "st = stopwatch.start()\n",
    "results_grid1, cv_dict1 = models_evaluation(\n",
    "    X=train[features],\n",
    "    y=train[target],\n",
    "    names=models_list,\n",
    "    estimators=estimators_list,\n",
    "    parameters=params_list,\n",
    "    n_folds=20,\n",
    "    full_results=True\n",
    ")\n",
    "print(f'Execution time: {stopwatch.stop(st)}')"
   ]
  },
  {
   "cell_type": "code",
   "execution_count": 28,
   "id": "1124a8b6-6a04-40b8-bdcf-732a6bbfc34b",
   "metadata": {},
   "outputs": [
    {
     "data": {
      "text/html": [
       "<div>\n",
       "<style scoped>\n",
       "    .dataframe tbody tr th:only-of-type {\n",
       "        vertical-align: middle;\n",
       "    }\n",
       "\n",
       "    .dataframe tbody tr th {\n",
       "        vertical-align: top;\n",
       "    }\n",
       "\n",
       "    .dataframe thead th {\n",
       "        text-align: right;\n",
       "    }\n",
       "</style>\n",
       "<table border=\"1\" class=\"dataframe\">\n",
       "  <thead>\n",
       "    <tr style=\"text-align: right;\">\n",
       "      <th></th>\n",
       "      <th>Model</th>\n",
       "      <th>MeanScore</th>\n",
       "      <th>StdScore</th>\n",
       "      <th>FitTime</th>\n",
       "      <th>StdFitTime</th>\n",
       "      <th>ScoreTime</th>\n",
       "      <th>StdScoreTime</th>\n",
       "      <th>HyperSearchTime</th>\n",
       "      <th>TotalTime</th>\n",
       "      <th>BestEstimator</th>\n",
       "    </tr>\n",
       "  </thead>\n",
       "  <tbody>\n",
       "    <tr>\n",
       "      <th>0</th>\n",
       "      <td>SVM</td>\n",
       "      <td>-0.114657</td>\n",
       "      <td>0.019492</td>\n",
       "      <td>0.607232</td>\n",
       "      <td>0.091940</td>\n",
       "      <td>0.044550</td>\n",
       "      <td>0.007932</td>\n",
       "      <td>0:38:17</td>\n",
       "      <td>1:35:29</td>\n",
       "      <td>((OrdinalEncoder(missing_values='ignore', unse...</td>\n",
       "    </tr>\n",
       "    <tr>\n",
       "      <th>1</th>\n",
       "      <td>LGBoost</td>\n",
       "      <td>-0.120204</td>\n",
       "      <td>0.027586</td>\n",
       "      <td>0.164013</td>\n",
       "      <td>0.004520</td>\n",
       "      <td>0.041461</td>\n",
       "      <td>0.003465</td>\n",
       "      <td>0:15:28</td>\n",
       "      <td>1:35:29</td>\n",
       "      <td>((OrdinalEncoder(missing_values='ignore', unse...</td>\n",
       "    </tr>\n",
       "    <tr>\n",
       "      <th>2</th>\n",
       "      <td>HGBoost</td>\n",
       "      <td>-0.120407</td>\n",
       "      <td>0.024204</td>\n",
       "      <td>0.430129</td>\n",
       "      <td>0.005143</td>\n",
       "      <td>0.043650</td>\n",
       "      <td>0.003431</td>\n",
       "      <td>0:10:23</td>\n",
       "      <td>1:35:29</td>\n",
       "      <td>((OrdinalEncoder(missing_values='ignore', unse...</td>\n",
       "    </tr>\n",
       "    <tr>\n",
       "      <th>3</th>\n",
       "      <td>XGBoost</td>\n",
       "      <td>-0.121548</td>\n",
       "      <td>0.023911</td>\n",
       "      <td>0.278771</td>\n",
       "      <td>0.007652</td>\n",
       "      <td>0.049528</td>\n",
       "      <td>0.001838</td>\n",
       "      <td>0:14:19</td>\n",
       "      <td>1:35:29</td>\n",
       "      <td>((OrdinalEncoder(missing_values='ignore', unse...</td>\n",
       "    </tr>\n",
       "    <tr>\n",
       "      <th>4</th>\n",
       "      <td>Bagging</td>\n",
       "      <td>-0.132469</td>\n",
       "      <td>0.026399</td>\n",
       "      <td>5.613951</td>\n",
       "      <td>0.206116</td>\n",
       "      <td>0.062062</td>\n",
       "      <td>0.003639</td>\n",
       "      <td>0:07:50</td>\n",
       "      <td>1:35:29</td>\n",
       "      <td>((OrdinalEncoder(missing_values='ignore', unse...</td>\n",
       "    </tr>\n",
       "    <tr>\n",
       "      <th>5</th>\n",
       "      <td>RF</td>\n",
       "      <td>-0.134011</td>\n",
       "      <td>0.026277</td>\n",
       "      <td>2.988283</td>\n",
       "      <td>0.165518</td>\n",
       "      <td>0.043395</td>\n",
       "      <td>0.006222</td>\n",
       "      <td>0:08:51</td>\n",
       "      <td>1:35:29</td>\n",
       "      <td>((OrdinalEncoder(missing_values='ignore', unse...</td>\n",
       "    </tr>\n",
       "    <tr>\n",
       "      <th>6</th>\n",
       "      <td>KNN</td>\n",
       "      <td>-0.174617</td>\n",
       "      <td>0.027281</td>\n",
       "      <td>0.081352</td>\n",
       "      <td>0.008318</td>\n",
       "      <td>0.040611</td>\n",
       "      <td>0.005236</td>\n",
       "      <td>0:00:20</td>\n",
       "      <td>1:35:29</td>\n",
       "      <td>((OrdinalEncoder(missing_values='ignore', unse...</td>\n",
       "    </tr>\n",
       "  </tbody>\n",
       "</table>\n",
       "</div>"
      ],
      "text/plain": [
       "     Model  MeanScore  StdScore   FitTime  StdFitTime  ScoreTime  \\\n",
       "0      SVM  -0.114657  0.019492  0.607232    0.091940   0.044550   \n",
       "1  LGBoost  -0.120204  0.027586  0.164013    0.004520   0.041461   \n",
       "2  HGBoost  -0.120407  0.024204  0.430129    0.005143   0.043650   \n",
       "3  XGBoost  -0.121548  0.023911  0.278771    0.007652   0.049528   \n",
       "4  Bagging  -0.132469  0.026399  5.613951    0.206116   0.062062   \n",
       "5       RF  -0.134011  0.026277  2.988283    0.165518   0.043395   \n",
       "6      KNN  -0.174617  0.027281  0.081352    0.008318   0.040611   \n",
       "\n",
       "   StdScoreTime HyperSearchTime TotalTime  \\\n",
       "0      0.007932         0:38:17   1:35:29   \n",
       "1      0.003465         0:15:28   1:35:29   \n",
       "2      0.003431         0:10:23   1:35:29   \n",
       "3      0.001838         0:14:19   1:35:29   \n",
       "4      0.003639         0:07:50   1:35:29   \n",
       "5      0.006222         0:08:51   1:35:29   \n",
       "6      0.005236         0:00:20   1:35:29   \n",
       "\n",
       "                                       BestEstimator  \n",
       "0  ((OrdinalEncoder(missing_values='ignore', unse...  \n",
       "1  ((OrdinalEncoder(missing_values='ignore', unse...  \n",
       "2  ((OrdinalEncoder(missing_values='ignore', unse...  \n",
       "3  ((OrdinalEncoder(missing_values='ignore', unse...  \n",
       "4  ((OrdinalEncoder(missing_values='ignore', unse...  \n",
       "5  ((OrdinalEncoder(missing_values='ignore', unse...  \n",
       "6  ((OrdinalEncoder(missing_values='ignore', unse...  "
      ]
     },
     "execution_count": 28,
     "metadata": {},
     "output_type": "execute_result"
    }
   ],
   "source": [
    "results_grid1"
   ]
  },
  {
   "cell_type": "code",
   "execution_count": 29,
   "id": "ecec375e-7849-459a-9c48-de4881575908",
   "metadata": {},
   "outputs": [
    {
     "data": {
      "text/html": [
       "<div>\n",
       "<style scoped>\n",
       "    .dataframe tbody tr th:only-of-type {\n",
       "        vertical-align: middle;\n",
       "    }\n",
       "\n",
       "    .dataframe tbody tr th {\n",
       "        vertical-align: top;\n",
       "    }\n",
       "\n",
       "    .dataframe thead th {\n",
       "        text-align: right;\n",
       "    }\n",
       "</style>\n",
       "<table border=\"1\" class=\"dataframe\">\n",
       "  <thead>\n",
       "    <tr style=\"text-align: right;\">\n",
       "      <th></th>\n",
       "      <th>Model</th>\n",
       "      <th>MeanScore</th>\n",
       "      <th>StdScore</th>\n",
       "      <th>FitTime</th>\n",
       "      <th>StdFitTime</th>\n",
       "      <th>ScoreTime</th>\n",
       "      <th>StdScoreTime</th>\n",
       "    </tr>\n",
       "  </thead>\n",
       "  <tbody>\n",
       "    <tr>\n",
       "      <th>0</th>\n",
       "      <td>SVM</td>\n",
       "      <td>-0.114657</td>\n",
       "      <td>0.019492</td>\n",
       "      <td>0.607232</td>\n",
       "      <td>0.091940</td>\n",
       "      <td>0.044550</td>\n",
       "      <td>0.007932</td>\n",
       "    </tr>\n",
       "    <tr>\n",
       "      <th>1</th>\n",
       "      <td>LGBoost</td>\n",
       "      <td>-0.120204</td>\n",
       "      <td>0.027586</td>\n",
       "      <td>0.164013</td>\n",
       "      <td>0.004520</td>\n",
       "      <td>0.041461</td>\n",
       "      <td>0.003465</td>\n",
       "    </tr>\n",
       "    <tr>\n",
       "      <th>2</th>\n",
       "      <td>HGBoost</td>\n",
       "      <td>-0.120407</td>\n",
       "      <td>0.024204</td>\n",
       "      <td>0.430129</td>\n",
       "      <td>0.005143</td>\n",
       "      <td>0.043650</td>\n",
       "      <td>0.003431</td>\n",
       "    </tr>\n",
       "    <tr>\n",
       "      <th>3</th>\n",
       "      <td>XGBoost</td>\n",
       "      <td>-0.121548</td>\n",
       "      <td>0.023911</td>\n",
       "      <td>0.278771</td>\n",
       "      <td>0.007652</td>\n",
       "      <td>0.049528</td>\n",
       "      <td>0.001838</td>\n",
       "    </tr>\n",
       "    <tr>\n",
       "      <th>4</th>\n",
       "      <td>Bagging</td>\n",
       "      <td>-0.132469</td>\n",
       "      <td>0.026399</td>\n",
       "      <td>5.613951</td>\n",
       "      <td>0.206116</td>\n",
       "      <td>0.062062</td>\n",
       "      <td>0.003639</td>\n",
       "    </tr>\n",
       "    <tr>\n",
       "      <th>5</th>\n",
       "      <td>RF</td>\n",
       "      <td>-0.134011</td>\n",
       "      <td>0.026277</td>\n",
       "      <td>2.988283</td>\n",
       "      <td>0.165518</td>\n",
       "      <td>0.043395</td>\n",
       "      <td>0.006222</td>\n",
       "    </tr>\n",
       "    <tr>\n",
       "      <th>6</th>\n",
       "      <td>KNN</td>\n",
       "      <td>-0.174617</td>\n",
       "      <td>0.027281</td>\n",
       "      <td>0.081352</td>\n",
       "      <td>0.008318</td>\n",
       "      <td>0.040611</td>\n",
       "      <td>0.005236</td>\n",
       "    </tr>\n",
       "  </tbody>\n",
       "</table>\n",
       "</div>"
      ],
      "text/plain": [
       "     Model  MeanScore  StdScore   FitTime  StdFitTime  ScoreTime  StdScoreTime\n",
       "0      SVM  -0.114657  0.019492  0.607232    0.091940   0.044550      0.007932\n",
       "1  LGBoost  -0.120204  0.027586  0.164013    0.004520   0.041461      0.003465\n",
       "2  HGBoost  -0.120407  0.024204  0.430129    0.005143   0.043650      0.003431\n",
       "3  XGBoost  -0.121548  0.023911  0.278771    0.007652   0.049528      0.001838\n",
       "4  Bagging  -0.132469  0.026399  5.613951    0.206116   0.062062      0.003639\n",
       "5       RF  -0.134011  0.026277  2.988283    0.165518   0.043395      0.006222\n",
       "6      KNN  -0.174617  0.027281  0.081352    0.008318   0.040611      0.005236"
      ]
     },
     "execution_count": 29,
     "metadata": {},
     "output_type": "execute_result"
    }
   ],
   "source": [
    "results_grid1.iloc[:, :7]"
   ]
  },
  {
   "cell_type": "code",
   "execution_count": 30,
   "id": "6d45e923-4375-4ac2-894b-d49715a5d544",
   "metadata": {},
   "outputs": [],
   "source": [
    "results_estimators1 = (results_grid1['BestEstimator']\n",
    "                      .map(lambda x: x.named_steps['estimator']).tolist())"
   ]
  },
  {
   "cell_type": "code",
   "execution_count": 31,
   "id": "605a8ba8-b5a4-4207-8d27-6d91ac5587a7",
   "metadata": {},
   "outputs": [
    {
     "data": {
      "text/plain": [
       "[SVR(C=0.1, gamma=0.01, kernel='linear'),\n",
       " LGBMRegressor(max_depth=2, n_estimators=200, num_leaves=3, random_state=42,\n",
       "               verbose=-1),\n",
       " HistGradientBoostingRegressor(max_depth=2, max_iter=300, random_state=42),\n",
       " XGBRegressor(base_score=None, booster=None, callbacks=None,\n",
       "              colsample_bylevel=None, colsample_bynode=None,\n",
       "              colsample_bytree=None, device=None, early_stopping_rounds=None,\n",
       "              enable_categorical=False, eval_metric=None, feature_types=None,\n",
       "              gamma=None, grow_policy=None, importance_type=None,\n",
       "              interaction_constraints=None, learning_rate=0.1, max_bin=None,\n",
       "              max_cat_threshold=None, max_cat_to_onehot=None,\n",
       "              max_delta_step=None, max_depth=2, max_leaves=None,\n",
       "              min_child_weight=None, missing=nan, monotone_constraints=None,\n",
       "              multi_strategy=None, n_estimators=200, n_jobs=None,\n",
       "              num_parallel_tree=None, random_state=42, ...),\n",
       " BaggingRegressor(n_estimators=150, random_state=42),\n",
       " RandomForestRegressor(max_depth=10, random_state=42),\n",
       " KNeighborsRegressor(n_neighbors=15)]"
      ]
     },
     "execution_count": 31,
     "metadata": {},
     "output_type": "execute_result"
    }
   ],
   "source": [
    "results_estimators1"
   ]
  },
  {
   "cell_type": "code",
   "execution_count": 32,
   "id": "fe0ee320-7c3d-4541-a112-2e7904b36f3a",
   "metadata": {},
   "outputs": [],
   "source": [
    "params_best_dict1 = {}"
   ]
  },
  {
   "cell_type": "code",
   "execution_count": 33,
   "id": "bb7645f9-57cb-48d0-a1b5-1d00e4582698",
   "metadata": {},
   "outputs": [],
   "source": [
    "for name, estimator in zip(results_grid1['Model'], results_estimators1):\n",
    "    params_best_dict1[name] = estimator.get_params()"
   ]
  },
  {
   "cell_type": "code",
   "execution_count": 34,
   "id": "0e154144-ed85-47fa-b429-f85a53d3cd3a",
   "metadata": {},
   "outputs": [
    {
     "name": "stdout",
     "output_type": "stream",
     "text": [
      "Image 'fit_time_new.png' successfully saved into 'img/Section7-ML-models' directory\n"
     ]
    },
    {
     "data": {
      "image/png": "[encoded data removed]",
      "text/plain": [
       "<Figure size 700x300 with 1 Axes>"
      ]
     },
     "metadata": {},
     "output_type": "display_data"
    }
   ],
   "source": [
    "fig = plt.figure(figsize=(7,3))\n",
    "sns.barplot(\n",
    "    x=results_grid1['Model'],\n",
    "    y=results_grid1['FitTime'],\n",
    "    width=0.5,\n",
    "    color=palette[0]\n",
    ")\n",
    "plt.errorbar(\n",
    "    x=results_grid1['Model'],\n",
    "    y=results_grid1['FitTime'],\n",
    "    yerr=results_grid1['StdFitTime'],\n",
    "    linestyle='none',\n",
    "    color=palette[-1]\n",
    ")\n",
    "plt.xlabel(str.upper('model'), fontsize=9)\n",
    "plt.ylabel(str.upper('fit time'), fontsize=9)\n",
    "# f.suptitle('Fit time comparing', weight='bold', x=0.159, y=1, fontsize=10)\n",
    "plt.title('Fit time comparing', loc='left', fontsize=10)\n",
    "savefig('fit_time_new', dir_save)"
   ]
  },
  {
   "cell_type": "markdown",
   "id": "cc3ae5fa-f0fe-4336-9b0c-7d488f40197f",
   "metadata": {},
   "source": [
    "## Voting And Stacking estimators"
   ]
  },
  {
   "cell_type": "code",
   "execution_count": 35,
   "id": "8e1beaed-ff67-460d-8d8f-f3a3f50a065d",
   "metadata": {},
   "outputs": [],
   "source": [
    "estimator_knn1 = KNeighborsRegressor(**params_best_dict1['KNN'])\n",
    "estimator_svr1 = SVR(**params_best_dict1['SVM'])\n",
    "estimator_rf1 = RandomForestRegressor(**params_best_dict1['RF'])\n",
    "estimator_bag1 = BaggingRegressor(**params_best_dict1['Bagging'])\n",
    "estimator_lgb1 = LGBMRegressor(**params_best_dict1['LGBoost'])\n",
    "estimator_hgb1 = HistGradientBoostingRegressor(**params_best_dict1['HGBoost'])\n",
    "estimator_xgb1 = XGBRegressor(**params_best_dict1['XGBoost'])"
   ]
  },
  {
   "cell_type": "code",
   "execution_count": 36,
   "id": "7a33d5c4-f757-4315-83e4-e6693f125401",
   "metadata": {},
   "outputs": [],
   "source": [
    "estimators1 = [\n",
    "    ('SVM', estimator_svr1),\n",
    "    ('RF', estimator_rf1),\n",
    "    ('Bagging', estimator_bag1),\n",
    "    ('LGBoost', estimator_lgb1),\n",
    "    ('HGBoost', estimator_hgb1),\n",
    "    ('XGBoost', estimator_xgb1)\n",
    "]"
   ]
  },
  {
   "cell_type": "markdown",
   "id": "e579878c-61c0-41ee-aaae-d10db161a0c8",
   "metadata": {},
   "source": [
    "### Voting Regressor "
   ]
  },
  {
   "cell_type": "code",
   "execution_count": 37,
   "id": "9d4eb762-0db5-4309-a412-4931323a5616",
   "metadata": {},
   "outputs": [],
   "source": [
    "estimator_vote1 = VotingRegressor(estimators=estimators1)"
   ]
  },
  {
   "cell_type": "code",
   "execution_count": 38,
   "id": "b08370e8-e2af-49c5-897c-99ec383c6ba5",
   "metadata": {},
   "outputs": [
    {
     "data": {
      "text/html": [
       "<style>#sk-container-id-2 {color: black;}#sk-container-id-2 pre{padding: 0;}#sk-container-id-2 div.sk-toggleable {background-color: white;}#sk-container-id-2 label.sk-toggleable__label {cursor: pointer;display: block;width: 100%;margin-bottom: 0;padding: 0.3em;box-sizing: border-box;text-align: center;}#sk-container-id-2 label.sk-toggleable__label-arrow:before {content: \"▸\";float: left;margin-right: 0.25em;color: #696969;}#sk-container-id-2 label.sk-toggleable__label-arrow:hover:before {color: black;}#sk-container-id-2 div.sk-estimator:hover label.sk-toggleable__label-arrow:before {color: black;}#sk-container-id-2 div.sk-toggleable__content {max-height: 0;max-width: 0;overflow: hidden;text-align: left;background-color: #f0f8ff;}#sk-container-id-2 div.sk-toggleable__content pre {margin: 0.2em;color: black;border-radius: 0.25em;background-color: #f0f8ff;}#sk-container-id-2 input.sk-toggleable__control:checked~div.sk-toggleable__content {max-height: 200px;max-width: 100%;overflow: auto;}#sk-container-id-2 input.sk-toggleable__control:checked~label.sk-toggleable__label-arrow:before {content: \"▾\";}#sk-container-id-2 div.sk-estimator input.sk-toggleable__control:checked~label.sk-toggleable__label {background-color: #d4ebff;}#sk-container-id-2 div.sk-label input.sk-toggleable__control:checked~label.sk-toggleable__label {background-color: #d4ebff;}#sk-container-id-2 input.sk-hidden--visually {border: 0;clip: rect(1px 1px 1px 1px);clip: rect(1px, 1px, 1px, 1px);height: 1px;margin: -1px;overflow: hidden;padding: 0;position: absolute;width: 1px;}#sk-container-id-2 div.sk-estimator {font-family: monospace;background-color: #f0f8ff;border: 1px dotted black;border-radius: 0.25em;box-sizing: border-box;margin-bottom: 0.5em;}#sk-container-id-2 div.sk-estimator:hover {background-color: #d4ebff;}#sk-container-id-2 div.sk-parallel-item::after {content: \"\";width: 100%;border-bottom: 1px solid gray;flex-grow: 1;}#sk-container-id-2 div.sk-label:hover label.sk-toggleable__label {background-color: #d4ebff;}#sk-container-id-2 div.sk-serial::before {content: \"\";position: absolute;border-left: 1px solid gray;box-sizing: border-box;top: 0;bottom: 0;left: 50%;z-index: 0;}#sk-container-id-2 div.sk-serial {display: flex;flex-direction: column;align-items: center;background-color: white;padding-right: 0.2em;padding-left: 0.2em;position: relative;}#sk-container-id-2 div.sk-item {position: relative;z-index: 1;}#sk-container-id-2 div.sk-parallel {display: flex;align-items: stretch;justify-content: center;background-color: white;position: relative;}#sk-container-id-2 div.sk-item::before, #sk-container-id-2 div.sk-parallel-item::before {content: \"\";position: absolute;border-left: 1px solid gray;box-sizing: border-box;top: 0;bottom: 0;left: 50%;z-index: -1;}#sk-container-id-2 div.sk-parallel-item {display: flex;flex-direction: column;z-index: 1;position: relative;background-color: white;}#sk-container-id-2 div.sk-parallel-item:first-child::after {align-self: flex-end;width: 50%;}#sk-container-id-2 div.sk-parallel-item:last-child::after {align-self: flex-start;width: 50%;}#sk-container-id-2 div.sk-parallel-item:only-child::after {width: 0;}#sk-container-id-2 div.sk-dashed-wrapped {border: 1px dashed gray;margin: 0 0.4em 0.5em 0.4em;box-sizing: border-box;padding-bottom: 0.4em;background-color: white;}#sk-container-id-2 div.sk-label label {font-family: monospace;font-weight: bold;display: inline-block;line-height: 1.2em;}#sk-container-id-2 div.sk-label-container {text-align: center;}#sk-container-id-2 div.sk-container {/* jupyter's `normalize.less` sets `[hidden] { display: none; }` but bootstrap.min.css set `[hidden] { display: none !important; }` so we also need the `!important` here to be able to override the default hidden behavior on the sphinx rendered scikit-learn.org. See: https://github.com/scikit-learn/scikit-learn/issues/21755 */display: inline-block !important;position: relative;}#sk-container-id-2 div.sk-text-repr-fallback {display: none;}</style><div id=\"sk-container-id-2\" class=\"sk-top-container\"><div class=\"sk-text-repr-fallback\"><pre>VotingRegressor(estimators=[(&#x27;SVM&#x27;, SVR(C=0.1, gamma=0.01, kernel=&#x27;linear&#x27;)),\n",
       "                            (&#x27;RF&#x27;,\n",
       "                             RandomForestRegressor(max_depth=10,\n",
       "                                                   random_state=42)),\n",
       "                            (&#x27;Bagging&#x27;,\n",
       "                             BaggingRegressor(n_estimators=150,\n",
       "                                              random_state=42)),\n",
       "                            (&#x27;LGBoost&#x27;,\n",
       "                             LGBMRegressor(max_depth=2, n_estimators=200,\n",
       "                                           num_leaves=3, random_state=42,\n",
       "                                           verbose=-1)),\n",
       "                            (&#x27;HGBoost&#x27;,\n",
       "                             HistGradientBoostingRegressor(max_depth=2,\n",
       "                                                           max_i...\n",
       "                                          gamma=None, grow_policy=None,\n",
       "                                          importance_type=None,\n",
       "                                          interaction_constraints=None,\n",
       "                                          learning_rate=0.1, max_bin=None,\n",
       "                                          max_cat_threshold=None,\n",
       "                                          max_cat_to_onehot=None,\n",
       "                                          max_delta_step=None, max_depth=2,\n",
       "                                          max_leaves=None,\n",
       "                                          min_child_weight=None, missing=nan,\n",
       "                                          monotone_constraints=None,\n",
       "                                          multi_strategy=None, n_estimators=200,\n",
       "                                          n_jobs=None, num_parallel_tree=None,\n",
       "                                          random_state=42, ...))])</pre><b>In a Jupyter environment, please rerun this cell to show the HTML representation or trust the notebook. <br />On GitHub, the HTML representation is unable to render, please try loading this page with nbviewer.org.</b></div><div class=\"sk-container\" hidden><div class=\"sk-item sk-dashed-wrapped\"><div class=\"sk-label-container\"><div class=\"sk-label sk-toggleable\"><input class=\"sk-toggleable__control sk-hidden--visually\" id=\"sk-estimator-id-4\" type=\"checkbox\" ><label for=\"sk-estimator-id-4\" class=\"sk-toggleable__label sk-toggleable__label-arrow\">VotingRegressor</label><div class=\"sk-toggleable__content\"><pre>VotingRegressor(estimators=[(&#x27;SVM&#x27;, SVR(C=0.1, gamma=0.01, kernel=&#x27;linear&#x27;)),\n",
       "                            (&#x27;RF&#x27;,\n",
       "                             RandomForestRegressor(max_depth=10,\n",
       "                                                   random_state=42)),\n",
       "                            (&#x27;Bagging&#x27;,\n",
       "                             BaggingRegressor(n_estimators=150,\n",
       "                                              random_state=42)),\n",
       "                            (&#x27;LGBoost&#x27;,\n",
       "                             LGBMRegressor(max_depth=2, n_estimators=200,\n",
       "                                           num_leaves=3, random_state=42,\n",
       "                                           verbose=-1)),\n",
       "                            (&#x27;HGBoost&#x27;,\n",
       "                             HistGradientBoostingRegressor(max_depth=2,\n",
       "                                                           max_i...\n",
       "                                          gamma=None, grow_policy=None,\n",
       "                                          importance_type=None,\n",
       "                                          interaction_constraints=None,\n",
       "                                          learning_rate=0.1, max_bin=None,\n",
       "                                          max_cat_threshold=None,\n",
       "                                          max_cat_to_onehot=None,\n",
       "                                          max_delta_step=None, max_depth=2,\n",
       "                                          max_leaves=None,\n",
       "                                          min_child_weight=None, missing=nan,\n",
       "                                          monotone_constraints=None,\n",
       "                                          multi_strategy=None, n_estimators=200,\n",
       "                                          n_jobs=None, num_parallel_tree=None,\n",
       "                                          random_state=42, ...))])</pre></div></div></div><div class=\"sk-parallel\"><div class=\"sk-parallel-item\"><div class=\"sk-item\"><div class=\"sk-label-container\"><div class=\"sk-label sk-toggleable\"><label>SVM</label></div></div><div class=\"sk-serial\"><div class=\"sk-item\"><div class=\"sk-estimator sk-toggleable\"><input class=\"sk-toggleable__control sk-hidden--visually\" id=\"sk-estimator-id-5\" type=\"checkbox\" ><label for=\"sk-estimator-id-5\" class=\"sk-toggleable__label sk-toggleable__label-arrow\">SVR</label><div class=\"sk-toggleable__content\"><pre>SVR(C=0.1, gamma=0.01, kernel=&#x27;linear&#x27;)</pre></div></div></div></div></div></div><div class=\"sk-parallel-item\"><div class=\"sk-item\"><div class=\"sk-label-container\"><div class=\"sk-label sk-toggleable\"><label>RF</label></div></div><div class=\"sk-serial\"><div class=\"sk-item\"><div class=\"sk-estimator sk-toggleable\"><input class=\"sk-toggleable__control sk-hidden--visually\" id=\"sk-estimator-id-6\" type=\"checkbox\" ><label for=\"sk-estimator-id-6\" class=\"sk-toggleable__label sk-toggleable__label-arrow\">RandomForestRegressor</label><div class=\"sk-toggleable__content\"><pre>RandomForestRegressor(max_depth=10, random_state=42)</pre></div></div></div></div></div></div><div class=\"sk-parallel-item\"><div class=\"sk-item\"><div class=\"sk-label-container\"><div class=\"sk-label sk-toggleable\"><label>Bagging</label></div></div><div class=\"sk-serial\"><div class=\"sk-item\"><div class=\"sk-estimator sk-toggleable\"><input class=\"sk-toggleable__control sk-hidden--visually\" id=\"sk-estimator-id-7\" type=\"checkbox\" ><label for=\"sk-estimator-id-7\" class=\"sk-toggleable__label sk-toggleable__label-arrow\">BaggingRegressor</label><div class=\"sk-toggleable__content\"><pre>BaggingRegressor(n_estimators=150, random_state=42)</pre></div></div></div></div></div></div><div class=\"sk-parallel-item\"><div class=\"sk-item\"><div class=\"sk-label-container\"><div class=\"sk-label sk-toggleable\"><label>LGBoost</label></div></div><div class=\"sk-serial\"><div class=\"sk-item\"><div class=\"sk-estimator sk-toggleable\"><input class=\"sk-toggleable__control sk-hidden--visually\" id=\"sk-estimator-id-8\" type=\"checkbox\" ><label for=\"sk-estimator-id-8\" class=\"sk-toggleable__label sk-toggleable__label-arrow\">LGBMRegressor</label><div class=\"sk-toggleable__content\"><pre>LGBMRegressor(max_depth=2, n_estimators=200, num_leaves=3, random_state=42,\n",
       "              verbose=-1)</pre></div></div></div></div></div></div><div class=\"sk-parallel-item\"><div class=\"sk-item\"><div class=\"sk-label-container\"><div class=\"sk-label sk-toggleable\"><label>HGBoost</label></div></div><div class=\"sk-serial\"><div class=\"sk-item\"><div class=\"sk-estimator sk-toggleable\"><input class=\"sk-toggleable__control sk-hidden--visually\" id=\"sk-estimator-id-9\" type=\"checkbox\" ><label for=\"sk-estimator-id-9\" class=\"sk-toggleable__label sk-toggleable__label-arrow\">HistGradientBoostingRegressor</label><div class=\"sk-toggleable__content\"><pre>HistGradientBoostingRegressor(max_depth=2, max_iter=300, random_state=42)</pre></div></div></div></div></div></div><div class=\"sk-parallel-item\"><div class=\"sk-item\"><div class=\"sk-label-container\"><div class=\"sk-label sk-toggleable\"><label>XGBoost</label></div></div><div class=\"sk-serial\"><div class=\"sk-item\"><div class=\"sk-estimator sk-toggleable\"><input class=\"sk-toggleable__control sk-hidden--visually\" id=\"sk-estimator-id-10\" type=\"checkbox\" ><label for=\"sk-estimator-id-10\" class=\"sk-toggleable__label sk-toggleable__label-arrow\">XGBRegressor</label><div class=\"sk-toggleable__content\"><pre>XGBRegressor(base_score=None, booster=None, callbacks=None,\n",
       "             colsample_bylevel=None, colsample_bynode=None,\n",
       "             colsample_bytree=None, device=None, early_stopping_rounds=None,\n",
       "             enable_categorical=False, eval_metric=None, feature_types=None,\n",
       "             gamma=None, grow_policy=None, importance_type=None,\n",
       "             interaction_constraints=None, learning_rate=0.1, max_bin=None,\n",
       "             max_cat_threshold=None, max_cat_to_onehot=None,\n",
       "             max_delta_step=None, max_depth=2, max_leaves=None,\n",
       "             min_child_weight=None, missing=nan, monotone_constraints=None,\n",
       "             multi_strategy=None, n_estimators=200, n_jobs=None,\n",
       "             num_parallel_tree=None, random_state=42, ...)</pre></div></div></div></div></div></div></div></div></div></div>"
      ],
      "text/plain": [
       "VotingRegressor(estimators=[('SVM', SVR(C=0.1, gamma=0.01, kernel='linear')),\n",
       "                            ('RF',\n",
       "                             RandomForestRegressor(max_depth=10,\n",
       "                                                   random_state=42)),\n",
       "                            ('Bagging',\n",
       "                             BaggingRegressor(n_estimators=150,\n",
       "                                              random_state=42)),\n",
       "                            ('LGBoost',\n",
       "                             LGBMRegressor(max_depth=2, n_estimators=200,\n",
       "                                           num_leaves=3, random_state=42,\n",
       "                                           verbose=-1)),\n",
       "                            ('HGBoost',\n",
       "                             HistGradientBoostingRegressor(max_depth=2,\n",
       "                                                           max_i...\n",
       "                                          gamma=None, grow_policy=None,\n",
       "                                          importance_type=None,\n",
       "                                          interaction_constraints=None,\n",
       "                                          learning_rate=0.1, max_bin=None,\n",
       "                                          max_cat_threshold=None,\n",
       "                                          max_cat_to_onehot=None,\n",
       "                                          max_delta_step=None, max_depth=2,\n",
       "                                          max_leaves=None,\n",
       "                                          min_child_weight=None, missing=nan,\n",
       "                                          monotone_constraints=None,\n",
       "                                          multi_strategy=None, n_estimators=200,\n",
       "                                          n_jobs=None, num_parallel_tree=None,\n",
       "                                          random_state=42, ...))])"
      ]
     },
     "execution_count": 38,
     "metadata": {},
     "output_type": "execute_result"
    }
   ],
   "source": [
    "estimator_vote1"
   ]
  },
  {
   "cell_type": "code",
   "execution_count": 39,
   "id": "1c4b85d4-09e0-4171-8c25-a55607187d7c",
   "metadata": {},
   "outputs": [],
   "source": [
    "pipeline_vote = Pipeline(steps=[\n",
    "    ('encoding', encoder),\n",
    "    ('scaler', scaler),\n",
    "    ('vote', estimator_vote1)\n",
    "])"
   ]
  },
  {
   "cell_type": "code",
   "execution_count": 40,
   "id": "335cd25f-39db-4fdd-8dff-a2d6d9f8bc64",
   "metadata": {},
   "outputs": [
    {
     "name": "stdout",
     "output_type": "stream",
     "text": [
      "Execution time: 0:03:25\n"
     ]
    }
   ],
   "source": [
    "st = stopwatch.start()\n",
    "estimator_vote1_cv = cross_validate(\n",
    "    pipeline_vote, *datasets1, cv=n_folds,\n",
    "    scoring='neg_root_mean_squared_error',\n",
    "    return_train_score=True\n",
    ")\n",
    "print(f'Execution time: {stopwatch.stop(st)}')"
   ]
  },
  {
   "cell_type": "code",
   "execution_count": 41,
   "id": "2d7b6c63-0b76-4b8d-995c-bd9000c03547",
   "metadata": {},
   "outputs": [],
   "source": [
    "estimator_vote1_scores_mean = np.mean(estimator_vote1_cv['test_score'])"
   ]
  },
  {
   "cell_type": "code",
   "execution_count": 42,
   "id": "7c6dae00-a3b7-474a-b92d-d3a6767f35a1",
   "metadata": {},
   "outputs": [
    {
     "data": {
      "text/plain": [
       "-0.11602169888115783"
      ]
     },
     "execution_count": 42,
     "metadata": {},
     "output_type": "execute_result"
    }
   ],
   "source": [
    "estimator_vote1_scores_mean"
   ]
  },
  {
   "cell_type": "code",
   "execution_count": 43,
   "id": "79129ca7-c0cc-45d0-b775-f0b8b179d00f",
   "metadata": {},
   "outputs": [],
   "source": [
    "estimator_vote1_scores_std = np.std(estimator_vote1_cv['test_score'], ddof=1)"
   ]
  },
  {
   "cell_type": "code",
   "execution_count": 44,
   "id": "87883f86-1ed7-4d05-a23e-4191be7ddadb",
   "metadata": {},
   "outputs": [
    {
     "data": {
      "text/plain": [
       "0.025669608977595366"
      ]
     },
     "execution_count": 44,
     "metadata": {},
     "output_type": "execute_result"
    }
   ],
   "source": [
    "estimator_vote1_scores_std"
   ]
  },
  {
   "cell_type": "code",
   "execution_count": 45,
   "id": "73e0e340-72a1-44ee-ad3a-45c0463a76c7",
   "metadata": {},
   "outputs": [],
   "source": [
    "estimator_vote1_fit_time_mean = np.mean(estimator_vote1_cv['fit_time'])"
   ]
  },
  {
   "cell_type": "code",
   "execution_count": 46,
   "id": "14a76bb3-0335-43f0-a1fa-334c5fb79d91",
   "metadata": {},
   "outputs": [
    {
     "data": {
      "text/plain": [
       "9.80712332725525"
      ]
     },
     "execution_count": 46,
     "metadata": {},
     "output_type": "execute_result"
    }
   ],
   "source": [
    "estimator_vote1_fit_time_mean"
   ]
  },
  {
   "cell_type": "code",
   "execution_count": 47,
   "id": "4e55da17-8329-44ac-97f9-f5156d1e19c3",
   "metadata": {},
   "outputs": [],
   "source": [
    "estimator_vote1_fit_time_std = np.std(estimator_vote1_cv['fit_time'], ddof=1)"
   ]
  },
  {
   "cell_type": "code",
   "execution_count": 48,
   "id": "680bab09-8b55-4b9c-8af4-78400c94d4d7",
   "metadata": {},
   "outputs": [
    {
     "data": {
      "text/plain": [
       "0.39106896702270644"
      ]
     },
     "execution_count": 48,
     "metadata": {},
     "output_type": "execute_result"
    }
   ],
   "source": [
    "estimator_vote1_fit_time_std"
   ]
  },
  {
   "cell_type": "markdown",
   "id": "e7a1dc04-4eba-4a7c-ab7b-97a86b39c016",
   "metadata": {},
   "source": [
    "### Stacking Regressor"
   ]
  },
  {
   "cell_type": "code",
   "execution_count": 49,
   "id": "c06d7c0b-b358-41b0-b39a-b404373540c1",
   "metadata": {},
   "outputs": [],
   "source": [
    "final_estimator1 = RidgeCV()"
   ]
  },
  {
   "cell_type": "code",
   "execution_count": 50,
   "id": "297da2f2-c560-4f1f-8762-c89f27e5a7b6",
   "metadata": {},
   "outputs": [],
   "source": [
    "estimator_stack1 = StackingRegressor(\n",
    "    estimators=estimators1,\n",
    "    final_estimator=final_estimator1)"
   ]
  },
  {
   "cell_type": "code",
   "execution_count": 51,
   "id": "9a7671db-8f3f-453b-bced-db0ee2fb04ce",
   "metadata": {},
   "outputs": [
    {
     "data": {
      "text/html": [
       "<style>#sk-container-id-3 {color: black;}#sk-container-id-3 pre{padding: 0;}#sk-container-id-3 div.sk-toggleable {background-color: white;}#sk-container-id-3 label.sk-toggleable__label {cursor: pointer;display: block;width: 100%;margin-bottom: 0;padding: 0.3em;box-sizing: border-box;text-align: center;}#sk-container-id-3 label.sk-toggleable__label-arrow:before {content: \"▸\";float: left;margin-right: 0.25em;color: #696969;}#sk-container-id-3 label.sk-toggleable__label-arrow:hover:before {color: black;}#sk-container-id-3 div.sk-estimator:hover label.sk-toggleable__label-arrow:before {color: black;}#sk-container-id-3 div.sk-toggleable__content {max-height: 0;max-width: 0;overflow: hidden;text-align: left;background-color: #f0f8ff;}#sk-container-id-3 div.sk-toggleable__content pre {margin: 0.2em;color: black;border-radius: 0.25em;background-color: #f0f8ff;}#sk-container-id-3 input.sk-toggleable__control:checked~div.sk-toggleable__content {max-height: 200px;max-width: 100%;overflow: auto;}#sk-container-id-3 input.sk-toggleable__control:checked~label.sk-toggleable__label-arrow:before {content: \"▾\";}#sk-container-id-3 div.sk-estimator input.sk-toggleable__control:checked~label.sk-toggleable__label {background-color: #d4ebff;}#sk-container-id-3 div.sk-label input.sk-toggleable__control:checked~label.sk-toggleable__label {background-color: #d4ebff;}#sk-container-id-3 input.sk-hidden--visually {border: 0;clip: rect(1px 1px 1px 1px);clip: rect(1px, 1px, 1px, 1px);height: 1px;margin: -1px;overflow: hidden;padding: 0;position: absolute;width: 1px;}#sk-container-id-3 div.sk-estimator {font-family: monospace;background-color: #f0f8ff;border: 1px dotted black;border-radius: 0.25em;box-sizing: border-box;margin-bottom: 0.5em;}#sk-container-id-3 div.sk-estimator:hover {background-color: #d4ebff;}#sk-container-id-3 div.sk-parallel-item::after {content: \"\";width: 100%;border-bottom: 1px solid gray;flex-grow: 1;}#sk-container-id-3 div.sk-label:hover label.sk-toggleable__label {background-color: #d4ebff;}#sk-container-id-3 div.sk-serial::before {content: \"\";position: absolute;border-left: 1px solid gray;box-sizing: border-box;top: 0;bottom: 0;left: 50%;z-index: 0;}#sk-container-id-3 div.sk-serial {display: flex;flex-direction: column;align-items: center;background-color: white;padding-right: 0.2em;padding-left: 0.2em;position: relative;}#sk-container-id-3 div.sk-item {position: relative;z-index: 1;}#sk-container-id-3 div.sk-parallel {display: flex;align-items: stretch;justify-content: center;background-color: white;position: relative;}#sk-container-id-3 div.sk-item::before, #sk-container-id-3 div.sk-parallel-item::before {content: \"\";position: absolute;border-left: 1px solid gray;box-sizing: border-box;top: 0;bottom: 0;left: 50%;z-index: -1;}#sk-container-id-3 div.sk-parallel-item {display: flex;flex-direction: column;z-index: 1;position: relative;background-color: white;}#sk-container-id-3 div.sk-parallel-item:first-child::after {align-self: flex-end;width: 50%;}#sk-container-id-3 div.sk-parallel-item:last-child::after {align-self: flex-start;width: 50%;}#sk-container-id-3 div.sk-parallel-item:only-child::after {width: 0;}#sk-container-id-3 div.sk-dashed-wrapped {border: 1px dashed gray;margin: 0 0.4em 0.5em 0.4em;box-sizing: border-box;padding-bottom: 0.4em;background-color: white;}#sk-container-id-3 div.sk-label label {font-family: monospace;font-weight: bold;display: inline-block;line-height: 1.2em;}#sk-container-id-3 div.sk-label-container {text-align: center;}#sk-container-id-3 div.sk-container {/* jupyter's `normalize.less` sets `[hidden] { display: none; }` but bootstrap.min.css set `[hidden] { display: none !important; }` so we also need the `!important` here to be able to override the default hidden behavior on the sphinx rendered scikit-learn.org. See: https://github.com/scikit-learn/scikit-learn/issues/21755 */display: inline-block !important;position: relative;}#sk-container-id-3 div.sk-text-repr-fallback {display: none;}</style><div id=\"sk-container-id-3\" class=\"sk-top-container\"><div class=\"sk-text-repr-fallback\"><pre>StackingRegressor(estimators=[(&#x27;SVM&#x27;, SVR(C=0.1, gamma=0.01, kernel=&#x27;linear&#x27;)),\n",
       "                              (&#x27;RF&#x27;,\n",
       "                               RandomForestRegressor(max_depth=10,\n",
       "                                                     random_state=42)),\n",
       "                              (&#x27;Bagging&#x27;,\n",
       "                               BaggingRegressor(n_estimators=150,\n",
       "                                                random_state=42)),\n",
       "                              (&#x27;LGBoost&#x27;,\n",
       "                               LGBMRegressor(max_depth=2, n_estimators=200,\n",
       "                                             num_leaves=3, random_state=42,\n",
       "                                             verbose=-1)),\n",
       "                              (&#x27;HGBoost&#x27;,\n",
       "                               HistGradientBoostingRegressor(max_depth=2,\n",
       "                                                             max...\n",
       "                                            importance_type=None,\n",
       "                                            interaction_constraints=None,\n",
       "                                            learning_rate=0.1, max_bin=None,\n",
       "                                            max_cat_threshold=None,\n",
       "                                            max_cat_to_onehot=None,\n",
       "                                            max_delta_step=None, max_depth=2,\n",
       "                                            max_leaves=None,\n",
       "                                            min_child_weight=None, missing=nan,\n",
       "                                            monotone_constraints=None,\n",
       "                                            multi_strategy=None,\n",
       "                                            n_estimators=200, n_jobs=None,\n",
       "                                            num_parallel_tree=None,\n",
       "                                            random_state=42, ...))],\n",
       "                  final_estimator=RidgeCV())</pre><b>In a Jupyter environment, please rerun this cell to show the HTML representation or trust the notebook. <br />On GitHub, the HTML representation is unable to render, please try loading this page with nbviewer.org.</b></div><div class=\"sk-container\" hidden><div class=\"sk-item sk-dashed-wrapped\"><div class=\"sk-label-container\"><div class=\"sk-label sk-toggleable\"><input class=\"sk-toggleable__control sk-hidden--visually\" id=\"sk-estimator-id-11\" type=\"checkbox\" ><label for=\"sk-estimator-id-11\" class=\"sk-toggleable__label sk-toggleable__label-arrow\">StackingRegressor</label><div class=\"sk-toggleable__content\"><pre>StackingRegressor(estimators=[(&#x27;SVM&#x27;, SVR(C=0.1, gamma=0.01, kernel=&#x27;linear&#x27;)),\n",
       "                              (&#x27;RF&#x27;,\n",
       "                               RandomForestRegressor(max_depth=10,\n",
       "                                                     random_state=42)),\n",
       "                              (&#x27;Bagging&#x27;,\n",
       "                               BaggingRegressor(n_estimators=150,\n",
       "                                                random_state=42)),\n",
       "                              (&#x27;LGBoost&#x27;,\n",
       "                               LGBMRegressor(max_depth=2, n_estimators=200,\n",
       "                                             num_leaves=3, random_state=42,\n",
       "                                             verbose=-1)),\n",
       "                              (&#x27;HGBoost&#x27;,\n",
       "                               HistGradientBoostingRegressor(max_depth=2,\n",
       "                                                             max...\n",
       "                                            importance_type=None,\n",
       "                                            interaction_constraints=None,\n",
       "                                            learning_rate=0.1, max_bin=None,\n",
       "                                            max_cat_threshold=None,\n",
       "                                            max_cat_to_onehot=None,\n",
       "                                            max_delta_step=None, max_depth=2,\n",
       "                                            max_leaves=None,\n",
       "                                            min_child_weight=None, missing=nan,\n",
       "                                            monotone_constraints=None,\n",
       "                                            multi_strategy=None,\n",
       "                                            n_estimators=200, n_jobs=None,\n",
       "                                            num_parallel_tree=None,\n",
       "                                            random_state=42, ...))],\n",
       "                  final_estimator=RidgeCV())</pre></div></div></div><div class=\"sk-serial\"><div class=\"sk-item\"><div class=\"sk-parallel\"><div class=\"sk-parallel-item\"><div class=\"sk-item\"><div class=\"sk-label-container\"><div class=\"sk-label sk-toggleable\"><label>SVM</label></div></div><div class=\"sk-serial\"><div class=\"sk-item\"><div class=\"sk-estimator sk-toggleable\"><input class=\"sk-toggleable__control sk-hidden--visually\" id=\"sk-estimator-id-12\" type=\"checkbox\" ><label for=\"sk-estimator-id-12\" class=\"sk-toggleable__label sk-toggleable__label-arrow\">SVR</label><div class=\"sk-toggleable__content\"><pre>SVR(C=0.1, gamma=0.01, kernel=&#x27;linear&#x27;)</pre></div></div></div></div></div></div><div class=\"sk-parallel-item\"><div class=\"sk-item\"><div class=\"sk-label-container\"><div class=\"sk-label sk-toggleable\"><label>RF</label></div></div><div class=\"sk-serial\"><div class=\"sk-item\"><div class=\"sk-estimator sk-toggleable\"><input class=\"sk-toggleable__control sk-hidden--visually\" id=\"sk-estimator-id-13\" type=\"checkbox\" ><label for=\"sk-estimator-id-13\" class=\"sk-toggleable__label sk-toggleable__label-arrow\">RandomForestRegressor</label><div class=\"sk-toggleable__content\"><pre>RandomForestRegressor(max_depth=10, random_state=42)</pre></div></div></div></div></div></div><div class=\"sk-parallel-item\"><div class=\"sk-item\"><div class=\"sk-label-container\"><div class=\"sk-label sk-toggleable\"><label>Bagging</label></div></div><div class=\"sk-serial\"><div class=\"sk-item\"><div class=\"sk-estimator sk-toggleable\"><input class=\"sk-toggleable__control sk-hidden--visually\" id=\"sk-estimator-id-14\" type=\"checkbox\" ><label for=\"sk-estimator-id-14\" class=\"sk-toggleable__label sk-toggleable__label-arrow\">BaggingRegressor</label><div class=\"sk-toggleable__content\"><pre>BaggingRegressor(n_estimators=150, random_state=42)</pre></div></div></div></div></div></div><div class=\"sk-parallel-item\"><div class=\"sk-item\"><div class=\"sk-label-container\"><div class=\"sk-label sk-toggleable\"><label>LGBoost</label></div></div><div class=\"sk-serial\"><div class=\"sk-item\"><div class=\"sk-estimator sk-toggleable\"><input class=\"sk-toggleable__control sk-hidden--visually\" id=\"sk-estimator-id-15\" type=\"checkbox\" ><label for=\"sk-estimator-id-15\" class=\"sk-toggleable__label sk-toggleable__label-arrow\">LGBMRegressor</label><div class=\"sk-toggleable__content\"><pre>LGBMRegressor(max_depth=2, n_estimators=200, num_leaves=3, random_state=42,\n",
       "              verbose=-1)</pre></div></div></div></div></div></div><div class=\"sk-parallel-item\"><div class=\"sk-item\"><div class=\"sk-label-container\"><div class=\"sk-label sk-toggleable\"><label>HGBoost</label></div></div><div class=\"sk-serial\"><div class=\"sk-item\"><div class=\"sk-estimator sk-toggleable\"><input class=\"sk-toggleable__control sk-hidden--visually\" id=\"sk-estimator-id-16\" type=\"checkbox\" ><label for=\"sk-estimator-id-16\" class=\"sk-toggleable__label sk-toggleable__label-arrow\">HistGradientBoostingRegressor</label><div class=\"sk-toggleable__content\"><pre>HistGradientBoostingRegressor(max_depth=2, max_iter=300, random_state=42)</pre></div></div></div></div></div></div><div class=\"sk-parallel-item\"><div class=\"sk-item\"><div class=\"sk-label-container\"><div class=\"sk-label sk-toggleable\"><label>XGBoost</label></div></div><div class=\"sk-serial\"><div class=\"sk-item\"><div class=\"sk-estimator sk-toggleable\"><input class=\"sk-toggleable__control sk-hidden--visually\" id=\"sk-estimator-id-17\" type=\"checkbox\" ><label for=\"sk-estimator-id-17\" class=\"sk-toggleable__label sk-toggleable__label-arrow\">XGBRegressor</label><div class=\"sk-toggleable__content\"><pre>XGBRegressor(base_score=None, booster=None, callbacks=None,\n",
       "             colsample_bylevel=None, colsample_bynode=None,\n",
       "             colsample_bytree=None, device=None, early_stopping_rounds=None,\n",
       "             enable_categorical=False, eval_metric=None, feature_types=None,\n",
       "             gamma=None, grow_policy=None, importance_type=None,\n",
       "             interaction_constraints=None, learning_rate=0.1, max_bin=None,\n",
       "             max_cat_threshold=None, max_cat_to_onehot=None,\n",
       "             max_delta_step=None, max_depth=2, max_leaves=None,\n",
       "             min_child_weight=None, missing=nan, monotone_constraints=None,\n",
       "             multi_strategy=None, n_estimators=200, n_jobs=None,\n",
       "             num_parallel_tree=None, random_state=42, ...)</pre></div></div></div></div></div></div></div></div><div class=\"sk-item\"><div class=\"sk-parallel\"><div class=\"sk-parallel-item\"><div class=\"sk-item\"><div class=\"sk-label-container\"><div class=\"sk-label sk-toggleable\"><label>final_estimator</label></div></div><div class=\"sk-serial\"><div class=\"sk-item\"><div class=\"sk-estimator sk-toggleable\"><input class=\"sk-toggleable__control sk-hidden--visually\" id=\"sk-estimator-id-18\" type=\"checkbox\" ><label for=\"sk-estimator-id-18\" class=\"sk-toggleable__label sk-toggleable__label-arrow\">RidgeCV</label><div class=\"sk-toggleable__content\"><pre>RidgeCV()</pre></div></div></div></div></div></div></div></div></div></div></div></div>"
      ],
      "text/plain": [
       "StackingRegressor(estimators=[('SVM', SVR(C=0.1, gamma=0.01, kernel='linear')),\n",
       "                              ('RF',\n",
       "                               RandomForestRegressor(max_depth=10,\n",
       "                                                     random_state=42)),\n",
       "                              ('Bagging',\n",
       "                               BaggingRegressor(n_estimators=150,\n",
       "                                                random_state=42)),\n",
       "                              ('LGBoost',\n",
       "                               LGBMRegressor(max_depth=2, n_estimators=200,\n",
       "                                             num_leaves=3, random_state=42,\n",
       "                                             verbose=-1)),\n",
       "                              ('HGBoost',\n",
       "                               HistGradientBoostingRegressor(max_depth=2,\n",
       "                                                             max...\n",
       "                                            importance_type=None,\n",
       "                                            interaction_constraints=None,\n",
       "                                            learning_rate=0.1, max_bin=None,\n",
       "                                            max_cat_threshold=None,\n",
       "                                            max_cat_to_onehot=None,\n",
       "                                            max_delta_step=None, max_depth=2,\n",
       "                                            max_leaves=None,\n",
       "                                            min_child_weight=None, missing=nan,\n",
       "                                            monotone_constraints=None,\n",
       "                                            multi_strategy=None,\n",
       "                                            n_estimators=200, n_jobs=None,\n",
       "                                            num_parallel_tree=None,\n",
       "                                            random_state=42, ...))],\n",
       "                  final_estimator=RidgeCV())"
      ]
     },
     "execution_count": 51,
     "metadata": {},
     "output_type": "execute_result"
    }
   ],
   "source": [
    "estimator_stack1"
   ]
  },
  {
   "cell_type": "code",
   "execution_count": 52,
   "id": "770f50f8-5e1a-4582-80c5-78b3d19f23a6",
   "metadata": {},
   "outputs": [],
   "source": [
    "pipeline_stack = Pipeline(steps=[\n",
    "    ('encoding', encoder),\n",
    "    ('scaler', scaler),\n",
    "    ('stack', estimator_stack1)\n",
    "])"
   ]
  },
  {
   "cell_type": "code",
   "execution_count": 53,
   "id": "ae1787c7-0124-4ab3-8281-afd79cd96bee",
   "metadata": {},
   "outputs": [
    {
     "name": "stdout",
     "output_type": "stream",
     "text": [
      "Execution time: 0:16:40\n"
     ]
    }
   ],
   "source": [
    "st = stopwatch.start()\n",
    "estimator_stack1_cv = cross_validate(\n",
    "    pipeline_stack, *datasets1, cv=n_folds,\n",
    "    scoring='neg_root_mean_squared_error',\n",
    "    return_train_score=True\n",
    ")\n",
    "print(f'Execution time: {stopwatch.stop(st)}')"
   ]
  },
  {
   "cell_type": "code",
   "execution_count": 54,
   "id": "327324de-e42e-4bee-9ac2-3ee058b52c10",
   "metadata": {},
   "outputs": [],
   "source": [
    "estimator_stack1_scores_mean = np.mean(estimator_stack1_cv['test_score'])"
   ]
  },
  {
   "cell_type": "code",
   "execution_count": 55,
   "id": "998a7a8c-5225-4e0b-8422-79bcd8ca64cb",
   "metadata": {},
   "outputs": [
    {
     "data": {
      "text/plain": [
       "-0.11171694012697231"
      ]
     },
     "execution_count": 55,
     "metadata": {},
     "output_type": "execute_result"
    }
   ],
   "source": [
    "estimator_stack1_scores_mean"
   ]
  },
  {
   "cell_type": "code",
   "execution_count": 56,
   "id": "40dafa59-b6bc-4df8-a509-bca56b6b8b0f",
   "metadata": {},
   "outputs": [],
   "source": [
    "estimator_stack1_scores_std = np.std(estimator_stack1_cv['test_score'], ddof=1)"
   ]
  },
  {
   "cell_type": "code",
   "execution_count": 57,
   "id": "e6be9d5f-1d75-4acb-9c67-978239db2c2a",
   "metadata": {},
   "outputs": [
    {
     "data": {
      "text/plain": [
       "0.02234245441993257"
      ]
     },
     "execution_count": 57,
     "metadata": {},
     "output_type": "execute_result"
    }
   ],
   "source": [
    "estimator_stack1_scores_std"
   ]
  },
  {
   "cell_type": "code",
   "execution_count": 58,
   "id": "8ccb7a2c-c36c-4509-a2a8-4c9ddf767c53",
   "metadata": {},
   "outputs": [],
   "source": [
    "estimator_stack1_fit_time_mean = np.mean(estimator_stack1_cv['fit_time'])"
   ]
  },
  {
   "cell_type": "code",
   "execution_count": 59,
   "id": "ac86f87c-2571-4c0e-9a6b-ec9d79467a60",
   "metadata": {},
   "outputs": [
    {
     "data": {
      "text/plain": [
       "49.557216823101044"
      ]
     },
     "execution_count": 59,
     "metadata": {},
     "output_type": "execute_result"
    }
   ],
   "source": [
    "estimator_stack1_fit_time_mean"
   ]
  },
  {
   "cell_type": "code",
   "execution_count": 60,
   "id": "9a9d7fac-47cb-4c1f-93a3-cd6bc01ab9d2",
   "metadata": {},
   "outputs": [],
   "source": [
    "estimator_stack1_fit_time_std = np.std(estimator_stack1_cv['fit_time'], ddof=1)"
   ]
  },
  {
   "cell_type": "code",
   "execution_count": 61,
   "id": "c4e2a14b-159a-4c95-9e1c-c7c60157fe0c",
   "metadata": {},
   "outputs": [
    {
     "data": {
      "text/plain": [
       "3.8716275005763467"
      ]
     },
     "execution_count": 61,
     "metadata": {},
     "output_type": "execute_result"
    }
   ],
   "source": [
    "estimator_stack1_fit_time_std"
   ]
  },
  {
   "cell_type": "markdown",
   "id": "ffa74788-d443-4c36-9dfd-831445a6921f",
   "metadata": {},
   "source": [
    "### Compare estimators"
   ]
  },
  {
   "cell_type": "code",
   "execution_count": 62,
   "id": "89e4242e-c08c-4634-8772-df95344d1ac4",
   "metadata": {},
   "outputs": [],
   "source": [
    "plot_vote_stack11 = pd.DataFrame(\n",
    "    data=estimator_vote1_cv['test_score'],\n",
    "    columns=['Voting']\n",
    ")\n",
    "plot_vote_stack12 = pd.DataFrame(\n",
    "    data=estimator_stack1_cv['test_score'],\n",
    "    columns=['Stacking']\n",
    ")\n",
    "plot_vote_stack1 = pd.concat([plot_vote_stack11, plot_vote_stack12], axis=1)"
   ]
  },
  {
   "cell_type": "code",
   "execution_count": 63,
   "id": "2472c37b-c13d-4798-8b53-40b6b946b3c2",
   "metadata": {},
   "outputs": [
    {
     "data": {
      "text/html": [
       "<div>\n",
       "<style scoped>\n",
       "    .dataframe tbody tr th:only-of-type {\n",
       "        vertical-align: middle;\n",
       "    }\n",
       "\n",
       "    .dataframe tbody tr th {\n",
       "        vertical-align: top;\n",
       "    }\n",
       "\n",
       "    .dataframe thead th {\n",
       "        text-align: right;\n",
       "    }\n",
       "</style>\n",
       "<table border=\"1\" class=\"dataframe\">\n",
       "  <thead>\n",
       "    <tr style=\"text-align: right;\">\n",
       "      <th></th>\n",
       "      <th>Voting</th>\n",
       "      <th>Stacking</th>\n",
       "    </tr>\n",
       "  </thead>\n",
       "  <tbody>\n",
       "    <tr>\n",
       "      <th>0</th>\n",
       "      <td>-0.160236</td>\n",
       "      <td>-0.151825</td>\n",
       "    </tr>\n",
       "    <tr>\n",
       "      <th>1</th>\n",
       "      <td>-0.120275</td>\n",
       "      <td>-0.123477</td>\n",
       "    </tr>\n",
       "    <tr>\n",
       "      <th>2</th>\n",
       "      <td>-0.105924</td>\n",
       "      <td>-0.108313</td>\n",
       "    </tr>\n",
       "    <tr>\n",
       "      <th>3</th>\n",
       "      <td>-0.077123</td>\n",
       "      <td>-0.079305</td>\n",
       "    </tr>\n",
       "    <tr>\n",
       "      <th>4</th>\n",
       "      <td>-0.140171</td>\n",
       "      <td>-0.134565</td>\n",
       "    </tr>\n",
       "  </tbody>\n",
       "</table>\n",
       "</div>"
      ],
      "text/plain": [
       "     Voting  Stacking\n",
       "0 -0.160236 -0.151825\n",
       "1 -0.120275 -0.123477\n",
       "2 -0.105924 -0.108313\n",
       "3 -0.077123 -0.079305\n",
       "4 -0.140171 -0.134565"
      ]
     },
     "execution_count": 63,
     "metadata": {},
     "output_type": "execute_result"
    }
   ],
   "source": [
    "plot_vote_stack1.head()"
   ]
  },
  {
   "cell_type": "code",
   "execution_count": 6,
   "id": "2153908a-4ba9-4006-8b66-9a34d860f3c9",
   "metadata": {},
   "outputs": [
    {
     "data": {
      "image/png": "[encoded data removed]",
      "text/plain": [
       "<Figure size 900x400 with 2 Axes>"
      ]
     },
     "metadata": {},
     "output_type": "display_data"
    },
    {
     "name": "stdout",
     "output_type": "stream",
     "text": [
      "Image 'vote_stack_compare_new.png' successfully saved into 'img/Section7-ML-models' directory\n"
     ]
    }
   ],
   "source": [
    "fig = plot_estimators_comparing(\n",
    "    data=plot_vote_stack1,\n",
    "    labels=['Voting', 'Stacking'],\n",
    "    ylabels=['RMSE', 'Delta'],\n",
    "    kind='bar',\n",
    "    figsize=(9, 4),\n",
    "    width=0.15,\n",
    "    palette=[alpha_color(palette[0], 0.85), palette[1]],\n",
    "    ax0_y_ticks=[-0.20, -0.05, 0.05],\n",
    "    ax1_y_ticks=[-0.010, 0.015, 0.01]\n",
    "    \n",
    ")\n",
    "savefig('vote_stack_compare_new', dir_save)"
   ]
  },
  {
   "cell_type": "code",
   "execution_count": 65,
   "id": "30da508e-e782-4cf3-98cc-763d41ee0d57",
   "metadata": {},
   "outputs": [],
   "source": [
    "# create df with results\n",
    "results_full_cols = [\n",
    "    'Model', 'MeanScore', 'StdScore', 'FitTime', 'StdFitTime'\n",
    "]\t\n",
    "results_full1 = results_grid1[results_full_cols].copy()\n",
    "results_full1['MeanScore'] = results_full1['MeanScore'].abs() \n",
    "results_full1['Estimator'] = results_estimators1 "
   ]
  },
  {
   "cell_type": "code",
   "execution_count": 66,
   "id": "179761e9-ddd5-405c-9ab4-4312b9640bf6",
   "metadata": {},
   "outputs": [],
   "source": [
    "# add scores of vote and stacking regressors\n",
    "vote_row = [\n",
    "    'Voting',\n",
    "    np.abs(estimator_vote1_scores_mean),\n",
    "    estimator_vote1_scores_std,\n",
    "    estimator_vote1_fit_time_mean,\n",
    "    estimator_vote1_fit_time_std,\n",
    "    estimator_vote1\n",
    "]\n",
    "stack_row = [\n",
    "    'Stacking',\n",
    "    np.abs(estimator_stack1_scores_mean),\n",
    "    estimator_stack1_scores_std,\n",
    "    estimator_stack1_fit_time_mean,\n",
    "    estimator_stack1_fit_time_std,\n",
    "    estimator_stack1\n",
    "]"
   ]
  },
  {
   "cell_type": "code",
   "execution_count": 67,
   "id": "ecb547ba-3ca0-4767-a713-58abc7dc13bb",
   "metadata": {},
   "outputs": [],
   "source": [
    "results_full1.loc[len(results_full1)] = vote_row\n",
    "results_full1.loc[len(results_full1)] = stack_row\n",
    "\n",
    "results_full1 = results_full1.sort_values('MeanScore', ascending=True)\n",
    "results_full1 = results_full1.reset_index(drop=True)"
   ]
  },
  {
   "cell_type": "code",
   "execution_count": 68,
   "id": "f6a58bc6-0752-42c4-a9ef-731eb4b009ad",
   "metadata": {},
   "outputs": [],
   "source": [
    "# calculate CI and margin of errors\n",
    "results_full1['CiMin'] = results_full1.apply(\n",
    "    lambda x: ci_t_distribution(\n",
    "        mean=x['MeanScore'], std=x['StdScore'], n=n_folds)['min'],\n",
    "    axis=1)\n",
    "\n",
    "results_full1['CiMax'] = results_full1.apply(\n",
    "    lambda x: ci_t_distribution(\n",
    "        mean=x['MeanScore'], std=x['StdScore'], n=n_folds)['max'],\n",
    "    axis=1)\n",
    "\n",
    "results_full1['MarginOfError'] = results_full1.apply(\n",
    "    lambda x: ci_t_distribution(\n",
    "        mean=x['MeanScore'], std=x['StdScore'], n=n_folds)['margin'],\n",
    "    axis=1)\n",
    "\n",
    "# move 'Estimator' column to last position\n",
    "old_cols = results_full1.columns\n",
    "new_cols = [col for col in old_cols if col != 'Estimator'] + ['Estimator']\n",
    "results_full1 = results_full1[new_cols].copy()"
   ]
  },
  {
   "cell_type": "code",
   "execution_count": 69,
   "id": "d69f426a-14a6-4bea-af37-0ff461840b1b",
   "metadata": {},
   "outputs": [
    {
     "data": {
      "text/html": [
       "<div>\n",
       "<style scoped>\n",
       "    .dataframe tbody tr th:only-of-type {\n",
       "        vertical-align: middle;\n",
       "    }\n",
       "\n",
       "    .dataframe tbody tr th {\n",
       "        vertical-align: top;\n",
       "    }\n",
       "\n",
       "    .dataframe thead th {\n",
       "        text-align: right;\n",
       "    }\n",
       "</style>\n",
       "<table border=\"1\" class=\"dataframe\">\n",
       "  <thead>\n",
       "    <tr style=\"text-align: right;\">\n",
       "      <th></th>\n",
       "      <th>Model</th>\n",
       "      <th>MeanScore</th>\n",
       "      <th>StdScore</th>\n",
       "      <th>FitTime</th>\n",
       "      <th>StdFitTime</th>\n",
       "      <th>CiMin</th>\n",
       "      <th>CiMax</th>\n",
       "      <th>MarginOfError</th>\n",
       "      <th>Estimator</th>\n",
       "    </tr>\n",
       "  </thead>\n",
       "  <tbody>\n",
       "    <tr>\n",
       "      <th>0</th>\n",
       "      <td>Stacking</td>\n",
       "      <td>0.111717</td>\n",
       "      <td>0.022342</td>\n",
       "      <td>49.557217</td>\n",
       "      <td>3.871628</td>\n",
       "      <td>0.101260</td>\n",
       "      <td>0.122174</td>\n",
       "      <td>0.010457</td>\n",
       "      <td>StackingRegressor(estimators=[('SVM', SVR(C=0....</td>\n",
       "    </tr>\n",
       "    <tr>\n",
       "      <th>1</th>\n",
       "      <td>SVM</td>\n",
       "      <td>0.114657</td>\n",
       "      <td>0.019492</td>\n",
       "      <td>0.607232</td>\n",
       "      <td>0.091940</td>\n",
       "      <td>0.105534</td>\n",
       "      <td>0.123779</td>\n",
       "      <td>0.009123</td>\n",
       "      <td>SVR(C=0.1, gamma=0.01, kernel='linear')</td>\n",
       "    </tr>\n",
       "    <tr>\n",
       "      <th>2</th>\n",
       "      <td>Voting</td>\n",
       "      <td>0.116022</td>\n",
       "      <td>0.025670</td>\n",
       "      <td>9.807123</td>\n",
       "      <td>0.391069</td>\n",
       "      <td>0.104008</td>\n",
       "      <td>0.128035</td>\n",
       "      <td>0.012014</td>\n",
       "      <td>VotingRegressor(estimators=[('SVM', SVR(C=0.1,...</td>\n",
       "    </tr>\n",
       "    <tr>\n",
       "      <th>3</th>\n",
       "      <td>LGBoost</td>\n",
       "      <td>0.120204</td>\n",
       "      <td>0.027586</td>\n",
       "      <td>0.164013</td>\n",
       "      <td>0.004520</td>\n",
       "      <td>0.107293</td>\n",
       "      <td>0.133115</td>\n",
       "      <td>0.012911</td>\n",
       "      <td>LGBMRegressor(max_depth=2, n_estimators=200, n...</td>\n",
       "    </tr>\n",
       "    <tr>\n",
       "      <th>4</th>\n",
       "      <td>HGBoost</td>\n",
       "      <td>0.120407</td>\n",
       "      <td>0.024204</td>\n",
       "      <td>0.430129</td>\n",
       "      <td>0.005143</td>\n",
       "      <td>0.109080</td>\n",
       "      <td>0.131735</td>\n",
       "      <td>0.011328</td>\n",
       "      <td>HistGradientBoostingRegressor(max_depth=2, max...</td>\n",
       "    </tr>\n",
       "    <tr>\n",
       "      <th>5</th>\n",
       "      <td>XGBoost</td>\n",
       "      <td>0.121548</td>\n",
       "      <td>0.023911</td>\n",
       "      <td>0.278771</td>\n",
       "      <td>0.007652</td>\n",
       "      <td>0.110358</td>\n",
       "      <td>0.132739</td>\n",
       "      <td>0.011191</td>\n",
       "      <td>XGBRegressor(base_score=None, booster=None, ca...</td>\n",
       "    </tr>\n",
       "    <tr>\n",
       "      <th>6</th>\n",
       "      <td>Bagging</td>\n",
       "      <td>0.132469</td>\n",
       "      <td>0.026399</td>\n",
       "      <td>5.613951</td>\n",
       "      <td>0.206116</td>\n",
       "      <td>0.120114</td>\n",
       "      <td>0.144824</td>\n",
       "      <td>0.012355</td>\n",
       "      <td>(DecisionTreeRegressor(random_state=1952926171...</td>\n",
       "    </tr>\n",
       "    <tr>\n",
       "      <th>7</th>\n",
       "      <td>RF</td>\n",
       "      <td>0.134011</td>\n",
       "      <td>0.026277</td>\n",
       "      <td>2.988283</td>\n",
       "      <td>0.165518</td>\n",
       "      <td>0.121713</td>\n",
       "      <td>0.146309</td>\n",
       "      <td>0.012298</td>\n",
       "      <td>(DecisionTreeRegressor(max_depth=10, max_featu...</td>\n",
       "    </tr>\n",
       "    <tr>\n",
       "      <th>8</th>\n",
       "      <td>KNN</td>\n",
       "      <td>0.174617</td>\n",
       "      <td>0.027281</td>\n",
       "      <td>0.081352</td>\n",
       "      <td>0.008318</td>\n",
       "      <td>0.161849</td>\n",
       "      <td>0.187385</td>\n",
       "      <td>0.012768</td>\n",
       "      <td>KNeighborsRegressor(n_neighbors=15)</td>\n",
       "    </tr>\n",
       "  </tbody>\n",
       "</table>\n",
       "</div>"
      ],
      "text/plain": [
       "      Model  MeanScore  StdScore    FitTime  StdFitTime     CiMin     CiMax  \\\n",
       "0  Stacking   0.111717  0.022342  49.557217    3.871628  0.101260  0.122174   \n",
       "1       SVM   0.114657  0.019492   0.607232    0.091940  0.105534  0.123779   \n",
       "2    Voting   0.116022  0.025670   9.807123    0.391069  0.104008  0.128035   \n",
       "3   LGBoost   0.120204  0.027586   0.164013    0.004520  0.107293  0.133115   \n",
       "4   HGBoost   0.120407  0.024204   0.430129    0.005143  0.109080  0.131735   \n",
       "5   XGBoost   0.121548  0.023911   0.278771    0.007652  0.110358  0.132739   \n",
       "6   Bagging   0.132469  0.026399   5.613951    0.206116  0.120114  0.144824   \n",
       "7        RF   0.134011  0.026277   2.988283    0.165518  0.121713  0.146309   \n",
       "8       KNN   0.174617  0.027281   0.081352    0.008318  0.161849  0.187385   \n",
       "\n",
       "   MarginOfError                                          Estimator  \n",
       "0       0.010457  StackingRegressor(estimators=[('SVM', SVR(C=0....  \n",
       "1       0.009123            SVR(C=0.1, gamma=0.01, kernel='linear')  \n",
       "2       0.012014  VotingRegressor(estimators=[('SVM', SVR(C=0.1,...  \n",
       "3       0.012911  LGBMRegressor(max_depth=2, n_estimators=200, n...  \n",
       "4       0.011328  HistGradientBoostingRegressor(max_depth=2, max...  \n",
       "5       0.011191  XGBRegressor(base_score=None, booster=None, ca...  \n",
       "6       0.012355  (DecisionTreeRegressor(random_state=1952926171...  \n",
       "7       0.012298  (DecisionTreeRegressor(max_depth=10, max_featu...  \n",
       "8       0.012768                KNeighborsRegressor(n_neighbors=15)  "
      ]
     },
     "execution_count": 69,
     "metadata": {},
     "output_type": "execute_result"
    }
   ],
   "source": [
    "results_full1"
   ]
  },
  {
   "cell_type": "code",
   "execution_count": 70,
   "id": "8140c8c8-4056-49f9-ab56-d568954daae6",
   "metadata": {},
   "outputs": [
    {
     "data": {
      "image/png": "[encoded data removed]",
      "text/plain": [
       "<Figure size 900x300 with 1 Axes>"
      ]
     },
     "metadata": {},
     "output_type": "display_data"
    }
   ],
   "source": [
    "f = plt.figure(figsize=(9,3))\n",
    "plt.scatter(\n",
    "    x=results_full1['Model'],\n",
    "    y=results_full1['MeanScore'],\n",
    "    s=30\n",
    ")\n",
    "plt.errorbar(\n",
    "    x=results_full1['Model'],\n",
    "    y=results_full1['MeanScore'],\n",
    "    yerr=results_full1['MarginOfError'],\n",
    "    elinewidth=1,\n",
    "    capsize=1.5,\n",
    "    capthick=1,\n",
    "    linestyle='none',\n",
    "    alpha=0.75\n",
    ")\n",
    "ylim_delta = 2*results_full1['MarginOfError'].max()\n",
    "ylim_min = results_full1['CiMin'].min() - 0.5*ylim_delta\n",
    "ylim_max = results_full1['CiMax'].max() + 0.5*ylim_delta\n",
    "plt.xlim(-1, len(results_full1))\n",
    "plt.ylim(ylim_min, ylim_max)\n",
    "plt.xticks(fontsize=9, weight='bold')\n",
    "plt.ylabel(str.upper('rmse'))\n",
    "plt.xlabel(str.upper('estimators'))\n",
    "plt.title(\n",
    "    'Comparing models after hyperparameters tuning', loc='left')\n",
    "plt.show()"
   ]
  },
  {
   "cell_type": "code",
   "execution_count": 71,
   "id": "a113971c-9fbf-4a1b-9f35-09a7b68bdb95",
   "metadata": {},
   "outputs": [
    {
     "data": {
      "image/png": "[encoded data removed]",
      "text/plain": [
       "<Figure size 900x300 with 1 Axes>"
      ]
     },
     "metadata": {},
     "output_type": "display_data"
    }
   ],
   "source": [
    "plt.figure(figsize=(9,3))\n",
    "sns.barplot(\n",
    "    x=results_full1['Model'],\n",
    "    y=results_full1['FitTime'],\n",
    "    width=0.5,\n",
    "    color=palette[0]\n",
    ")\n",
    "plt.errorbar(\n",
    "    x=results_full1['Model'],\n",
    "    y=results_full1['FitTime'],\n",
    "    yerr=results_full1['StdFitTime'],\n",
    "    linestyle='none',\n",
    "    color=palette[-1]\n",
    ")\n",
    "plt.show()"
   ]
  },
  {
   "cell_type": "markdown",
   "id": "cdf17fa2-e357-484e-86c2-9acf2a19f72b",
   "metadata": {},
   "source": [
    "## Part 2. Train Data without New Predictors"
   ]
  },
  {
   "cell_type": "code",
   "execution_count": 72,
   "id": "ec3eaba3-c96e-41ef-b8bd-200e28c2312c",
   "metadata": {},
   "outputs": [
    {
     "name": "stdout",
     "output_type": "stream",
     "text": [
      "Execution time: 1:20:31\n"
     ]
    }
   ],
   "source": [
    "st = stopwatch.start()\n",
    "results_grid2, cv_dict2 = models_evaluation(\n",
    "    X=train[features_raw],\n",
    "    y=train[target],\n",
    "    names=models_list,\n",
    "    estimators=estimators_list,\n",
    "    parameters=params_list,\n",
    "    n_folds=20,\n",
    "    full_results=True\n",
    ")\n",
    "print(f'Execution time: {stopwatch.stop(st)}')"
   ]
  },
  {
   "cell_type": "code",
   "execution_count": 73,
   "id": "cd0ec39c-00cb-49f4-a4ad-624cf617b452",
   "metadata": {},
   "outputs": [
    {
     "data": {
      "text/html": [
       "<div>\n",
       "<style scoped>\n",
       "    .dataframe tbody tr th:only-of-type {\n",
       "        vertical-align: middle;\n",
       "    }\n",
       "\n",
       "    .dataframe tbody tr th {\n",
       "        vertical-align: top;\n",
       "    }\n",
       "\n",
       "    .dataframe thead th {\n",
       "        text-align: right;\n",
       "    }\n",
       "</style>\n",
       "<table border=\"1\" class=\"dataframe\">\n",
       "  <thead>\n",
       "    <tr style=\"text-align: right;\">\n",
       "      <th></th>\n",
       "      <th>Model</th>\n",
       "      <th>MeanScore</th>\n",
       "      <th>StdScore</th>\n",
       "      <th>FitTime</th>\n",
       "      <th>StdFitTime</th>\n",
       "      <th>ScoreTime</th>\n",
       "      <th>StdScoreTime</th>\n",
       "      <th>HyperSearchTime</th>\n",
       "      <th>TotalTime</th>\n",
       "      <th>BestEstimator</th>\n",
       "    </tr>\n",
       "  </thead>\n",
       "  <tbody>\n",
       "    <tr>\n",
       "      <th>0</th>\n",
       "      <td>SVM</td>\n",
       "      <td>-0.117609</td>\n",
       "      <td>0.017543</td>\n",
       "      <td>0.501347</td>\n",
       "      <td>0.064139</td>\n",
       "      <td>0.046143</td>\n",
       "      <td>0.006798</td>\n",
       "      <td>0:23:13</td>\n",
       "      <td>1:20:31</td>\n",
       "      <td>((OrdinalEncoder(missing_values='ignore', unse...</td>\n",
       "    </tr>\n",
       "    <tr>\n",
       "      <th>1</th>\n",
       "      <td>HGBoost</td>\n",
       "      <td>-0.118362</td>\n",
       "      <td>0.023832</td>\n",
       "      <td>0.527692</td>\n",
       "      <td>0.084247</td>\n",
       "      <td>0.049298</td>\n",
       "      <td>0.009265</td>\n",
       "      <td>0:10:59</td>\n",
       "      <td>1:20:31</td>\n",
       "      <td>((OrdinalEncoder(missing_values='ignore', unse...</td>\n",
       "    </tr>\n",
       "    <tr>\n",
       "      <th>2</th>\n",
       "      <td>LGBoost</td>\n",
       "      <td>-0.119566</td>\n",
       "      <td>0.023849</td>\n",
       "      <td>0.178143</td>\n",
       "      <td>0.037595</td>\n",
       "      <td>0.043298</td>\n",
       "      <td>0.005232</td>\n",
       "      <td>0:17:31</td>\n",
       "      <td>1:20:31</td>\n",
       "      <td>((OrdinalEncoder(missing_values='ignore', unse...</td>\n",
       "    </tr>\n",
       "    <tr>\n",
       "      <th>3</th>\n",
       "      <td>XGBoost</td>\n",
       "      <td>-0.120786</td>\n",
       "      <td>0.020643</td>\n",
       "      <td>0.495160</td>\n",
       "      <td>0.059735</td>\n",
       "      <td>0.052868</td>\n",
       "      <td>0.004936</td>\n",
       "      <td>0:14:24</td>\n",
       "      <td>1:20:31</td>\n",
       "      <td>((OrdinalEncoder(missing_values='ignore', unse...</td>\n",
       "    </tr>\n",
       "    <tr>\n",
       "      <th>4</th>\n",
       "      <td>Bagging</td>\n",
       "      <td>-0.134981</td>\n",
       "      <td>0.027072</td>\n",
       "      <td>5.178789</td>\n",
       "      <td>0.398840</td>\n",
       "      <td>0.076393</td>\n",
       "      <td>0.015686</td>\n",
       "      <td>0:06:52</td>\n",
       "      <td>1:20:31</td>\n",
       "      <td>((OrdinalEncoder(missing_values='ignore', unse...</td>\n",
       "    </tr>\n",
       "    <tr>\n",
       "      <th>5</th>\n",
       "      <td>RF</td>\n",
       "      <td>-0.136660</td>\n",
       "      <td>0.027193</td>\n",
       "      <td>2.602295</td>\n",
       "      <td>0.370086</td>\n",
       "      <td>0.057516</td>\n",
       "      <td>0.026089</td>\n",
       "      <td>0:07:09</td>\n",
       "      <td>1:20:31</td>\n",
       "      <td>((OrdinalEncoder(missing_values='ignore', unse...</td>\n",
       "    </tr>\n",
       "    <tr>\n",
       "      <th>6</th>\n",
       "      <td>KNN</td>\n",
       "      <td>-0.174142</td>\n",
       "      <td>0.026302</td>\n",
       "      <td>0.084264</td>\n",
       "      <td>0.007848</td>\n",
       "      <td>0.043494</td>\n",
       "      <td>0.006136</td>\n",
       "      <td>0:00:23</td>\n",
       "      <td>1:20:31</td>\n",
       "      <td>((OrdinalEncoder(missing_values='ignore', unse...</td>\n",
       "    </tr>\n",
       "  </tbody>\n",
       "</table>\n",
       "</div>"
      ],
      "text/plain": [
       "     Model  MeanScore  StdScore   FitTime  StdFitTime  ScoreTime  \\\n",
       "0      SVM  -0.117609  0.017543  0.501347    0.064139   0.046143   \n",
       "1  HGBoost  -0.118362  0.023832  0.527692    0.084247   0.049298   \n",
       "2  LGBoost  -0.119566  0.023849  0.178143    0.037595   0.043298   \n",
       "3  XGBoost  -0.120786  0.020643  0.495160    0.059735   0.052868   \n",
       "4  Bagging  -0.134981  0.027072  5.178789    0.398840   0.076393   \n",
       "5       RF  -0.136660  0.027193  2.602295    0.370086   0.057516   \n",
       "6      KNN  -0.174142  0.026302  0.084264    0.007848   0.043494   \n",
       "\n",
       "   StdScoreTime HyperSearchTime TotalTime  \\\n",
       "0      0.006798         0:23:13   1:20:31   \n",
       "1      0.009265         0:10:59   1:20:31   \n",
       "2      0.005232         0:17:31   1:20:31   \n",
       "3      0.004936         0:14:24   1:20:31   \n",
       "4      0.015686         0:06:52   1:20:31   \n",
       "5      0.026089         0:07:09   1:20:31   \n",
       "6      0.006136         0:00:23   1:20:31   \n",
       "\n",
       "                                       BestEstimator  \n",
       "0  ((OrdinalEncoder(missing_values='ignore', unse...  \n",
       "1  ((OrdinalEncoder(missing_values='ignore', unse...  \n",
       "2  ((OrdinalEncoder(missing_values='ignore', unse...  \n",
       "3  ((OrdinalEncoder(missing_values='ignore', unse...  \n",
       "4  ((OrdinalEncoder(missing_values='ignore', unse...  \n",
       "5  ((OrdinalEncoder(missing_values='ignore', unse...  \n",
       "6  ((OrdinalEncoder(missing_values='ignore', unse...  "
      ]
     },
     "execution_count": 73,
     "metadata": {},
     "output_type": "execute_result"
    }
   ],
   "source": [
    "results_grid2"
   ]
  },
  {
   "cell_type": "code",
   "execution_count": 74,
   "id": "73f641aa-94c2-4cc2-829e-2f2b7ce7d4ce",
   "metadata": {},
   "outputs": [],
   "source": [
    "results_estimators2 = (results_grid2['BestEstimator']\n",
    "                      .map(lambda x: x.named_steps['estimator']).tolist())"
   ]
  },
  {
   "cell_type": "code",
   "execution_count": 75,
   "id": "19041169-1be1-4c5d-a793-1bcad5a124a3",
   "metadata": {},
   "outputs": [
    {
     "data": {
      "text/plain": [
       "[SVR(C=0.1, gamma=0.01, kernel='linear'),\n",
       " HistGradientBoostingRegressor(max_depth=2, max_iter=300, random_state=42),\n",
       " LGBMRegressor(max_depth=2, n_estimators=200, num_leaves=25, random_state=42,\n",
       "               verbose=-1),\n",
       " XGBRegressor(base_score=None, booster=None, callbacks=None,\n",
       "              colsample_bylevel=None, colsample_bynode=None,\n",
       "              colsample_bytree=None, device=None, early_stopping_rounds=None,\n",
       "              enable_categorical=False, eval_metric=None, feature_types=None,\n",
       "              gamma=None, grow_policy=None, importance_type=None,\n",
       "              interaction_constraints=None, learning_rate=0.1, max_bin=None,\n",
       "              max_cat_threshold=None, max_cat_to_onehot=None,\n",
       "              max_delta_step=None, max_depth=4, max_leaves=None,\n",
       "              min_child_weight=None, missing=nan, monotone_constraints=None,\n",
       "              multi_strategy=None, n_estimators=200, n_jobs=None,\n",
       "              num_parallel_tree=None, random_state=42, ...),\n",
       " BaggingRegressor(n_estimators=150, random_state=42),\n",
       " RandomForestRegressor(max_depth=10, random_state=42),\n",
       " KNeighborsRegressor(n_neighbors=15)]"
      ]
     },
     "execution_count": 75,
     "metadata": {},
     "output_type": "execute_result"
    }
   ],
   "source": [
    "results_estimators2"
   ]
  },
  {
   "cell_type": "code",
   "execution_count": 76,
   "id": "ae814f89-6c38-4a3f-bd20-f0189dd68983",
   "metadata": {},
   "outputs": [],
   "source": [
    "params_best_dict2 = {}"
   ]
  },
  {
   "cell_type": "code",
   "execution_count": 77,
   "id": "640e2d36-0c3f-4a61-94f4-5a792435ffeb",
   "metadata": {},
   "outputs": [],
   "source": [
    "for name, estimator in zip(results_grid2['Model'], results_estimators2):\n",
    "    params_best_dict2[name] = estimator.get_params()"
   ]
  },
  {
   "cell_type": "code",
   "execution_count": 78,
   "id": "705f0296-6f3d-4d33-b2cc-3b9dc41f3b50",
   "metadata": {},
   "outputs": [
    {
     "name": "stdout",
     "output_type": "stream",
     "text": [
      "Image 'fit_time_orig.png' successfully saved into 'img/Section7-ML-models' directory\n"
     ]
    },
    {
     "data": {
      "image/png": "[encoded data removed]",
      "text/plain": [
       "<Figure size 700x300 with 1 Axes>"
      ]
     },
     "metadata": {},
     "output_type": "display_data"
    }
   ],
   "source": [
    "fig = plt.figure(figsize=(7,3))\n",
    "sns.barplot(\n",
    "    x=results_grid2['Model'],\n",
    "    y=results_grid2['FitTime'],\n",
    "    width=0.5,\n",
    "    color=palette[0]\n",
    ")\n",
    "plt.errorbar(\n",
    "    x=results_grid2['Model'],\n",
    "    y=results_grid2['FitTime'],\n",
    "    yerr=results_grid2['StdFitTime'],\n",
    "    linestyle='none',\n",
    "    color=palette[-1]\n",
    ")\n",
    "plt.xlabel(str.upper('model'), fontsize=9)\n",
    "plt.ylabel(str.upper('fit time'), fontsize=9)\n",
    "plt.title('Fit time comparing', loc='left', fontsize=10)\n",
    "savefig('fit_time_orig', dir_save)"
   ]
  },
  {
   "cell_type": "markdown",
   "id": "32a39da8-0219-4000-9548-de9dfc19a3db",
   "metadata": {},
   "source": [
    "## Voting And Stacking estimators"
   ]
  },
  {
   "cell_type": "code",
   "execution_count": 79,
   "id": "eb9accb5-1fba-4f74-aa3d-53aa5134ad5b",
   "metadata": {},
   "outputs": [],
   "source": [
    "estimator_knn2 = KNeighborsRegressor(**params_best_dict2['KNN'])\n",
    "estimator_svr2 = SVR(**params_best_dict2['SVM'])\n",
    "estimator_rf2 = RandomForestRegressor(**params_best_dict2['RF'])\n",
    "estimator_bag2 = BaggingRegressor(**params_best_dict2['Bagging'])\n",
    "estimator_lgb2 = LGBMRegressor(**params_best_dict2['LGBoost'])\n",
    "estimator_hgb2 = HistGradientBoostingRegressor(**params_best_dict2['HGBoost'])\n",
    "estimator_xgb2 = XGBRegressor(**params_best_dict2['XGBoost'])"
   ]
  },
  {
   "cell_type": "code",
   "execution_count": 80,
   "id": "e2b84165-ddf7-456d-9ddc-99688b11fbdf",
   "metadata": {},
   "outputs": [],
   "source": [
    "estimators2 = [\n",
    "    ('SVM', estimator_svr2),\n",
    "    ('RF', estimator_rf2),\n",
    "    ('Bagging', estimator_bag2),\n",
    "    ('LGBoost', estimator_lgb2),\n",
    "    ('HGBoost', estimator_hgb2),\n",
    "    ('XGBoost', estimator_xgb2)\n",
    "]"
   ]
  },
  {
   "cell_type": "markdown",
   "id": "4175085a-7197-40ba-a21d-88bc6e47506a",
   "metadata": {},
   "source": [
    "### Voting Regressor "
   ]
  },
  {
   "cell_type": "code",
   "execution_count": 81,
   "id": "9a7a4f28-12b2-470c-a833-063ef82884c1",
   "metadata": {},
   "outputs": [],
   "source": [
    "estimator_vote2 = VotingRegressor(estimators=estimators2)"
   ]
  },
  {
   "cell_type": "code",
   "execution_count": 82,
   "id": "a835ce2f-cf64-42a7-9b32-9cb3ad584997",
   "metadata": {},
   "outputs": [
    {
     "data": {
      "text/html": [
       "<style>#sk-container-id-4 {color: black;}#sk-container-id-4 pre{padding: 0;}#sk-container-id-4 div.sk-toggleable {background-color: white;}#sk-container-id-4 label.sk-toggleable__label {cursor: pointer;display: block;width: 100%;margin-bottom: 0;padding: 0.3em;box-sizing: border-box;text-align: center;}#sk-container-id-4 label.sk-toggleable__label-arrow:before {content: \"▸\";float: left;margin-right: 0.25em;color: #696969;}#sk-container-id-4 label.sk-toggleable__label-arrow:hover:before {color: black;}#sk-container-id-4 div.sk-estimator:hover label.sk-toggleable__label-arrow:before {color: black;}#sk-container-id-4 div.sk-toggleable__content {max-height: 0;max-width: 0;overflow: hidden;text-align: left;background-color: #f0f8ff;}#sk-container-id-4 div.sk-toggleable__content pre {margin: 0.2em;color: black;border-radius: 0.25em;background-color: #f0f8ff;}#sk-container-id-4 input.sk-toggleable__control:checked~div.sk-toggleable__content {max-height: 200px;max-width: 100%;overflow: auto;}#sk-container-id-4 input.sk-toggleable__control:checked~label.sk-toggleable__label-arrow:before {content: \"▾\";}#sk-container-id-4 div.sk-estimator input.sk-toggleable__control:checked~label.sk-toggleable__label {background-color: #d4ebff;}#sk-container-id-4 div.sk-label input.sk-toggleable__control:checked~label.sk-toggleable__label {background-color: #d4ebff;}#sk-container-id-4 input.sk-hidden--visually {border: 0;clip: rect(1px 1px 1px 1px);clip: rect(1px, 1px, 1px, 1px);height: 1px;margin: -1px;overflow: hidden;padding: 0;position: absolute;width: 1px;}#sk-container-id-4 div.sk-estimator {font-family: monospace;background-color: #f0f8ff;border: 1px dotted black;border-radius: 0.25em;box-sizing: border-box;margin-bottom: 0.5em;}#sk-container-id-4 div.sk-estimator:hover {background-color: #d4ebff;}#sk-container-id-4 div.sk-parallel-item::after {content: \"\";width: 100%;border-bottom: 1px solid gray;flex-grow: 1;}#sk-container-id-4 div.sk-label:hover label.sk-toggleable__label {background-color: #d4ebff;}#sk-container-id-4 div.sk-serial::before {content: \"\";position: absolute;border-left: 1px solid gray;box-sizing: border-box;top: 0;bottom: 0;left: 50%;z-index: 0;}#sk-container-id-4 div.sk-serial {display: flex;flex-direction: column;align-items: center;background-color: white;padding-right: 0.2em;padding-left: 0.2em;position: relative;}#sk-container-id-4 div.sk-item {position: relative;z-index: 1;}#sk-container-id-4 div.sk-parallel {display: flex;align-items: stretch;justify-content: center;background-color: white;position: relative;}#sk-container-id-4 div.sk-item::before, #sk-container-id-4 div.sk-parallel-item::before {content: \"\";position: absolute;border-left: 1px solid gray;box-sizing: border-box;top: 0;bottom: 0;left: 50%;z-index: -1;}#sk-container-id-4 div.sk-parallel-item {display: flex;flex-direction: column;z-index: 1;position: relative;background-color: white;}#sk-container-id-4 div.sk-parallel-item:first-child::after {align-self: flex-end;width: 50%;}#sk-container-id-4 div.sk-parallel-item:last-child::after {align-self: flex-start;width: 50%;}#sk-container-id-4 div.sk-parallel-item:only-child::after {width: 0;}#sk-container-id-4 div.sk-dashed-wrapped {border: 1px dashed gray;margin: 0 0.4em 0.5em 0.4em;box-sizing: border-box;padding-bottom: 0.4em;background-color: white;}#sk-container-id-4 div.sk-label label {font-family: monospace;font-weight: bold;display: inline-block;line-height: 1.2em;}#sk-container-id-4 div.sk-label-container {text-align: center;}#sk-container-id-4 div.sk-container {/* jupyter's `normalize.less` sets `[hidden] { display: none; }` but bootstrap.min.css set `[hidden] { display: none !important; }` so we also need the `!important` here to be able to override the default hidden behavior on the sphinx rendered scikit-learn.org. See: https://github.com/scikit-learn/scikit-learn/issues/21755 */display: inline-block !important;position: relative;}#sk-container-id-4 div.sk-text-repr-fallback {display: none;}</style><div id=\"sk-container-id-4\" class=\"sk-top-container\"><div class=\"sk-text-repr-fallback\"><pre>VotingRegressor(estimators=[(&#x27;SVM&#x27;, SVR(C=0.1, gamma=0.01, kernel=&#x27;linear&#x27;)),\n",
       "                            (&#x27;RF&#x27;,\n",
       "                             RandomForestRegressor(max_depth=10,\n",
       "                                                   random_state=42)),\n",
       "                            (&#x27;Bagging&#x27;,\n",
       "                             BaggingRegressor(n_estimators=150,\n",
       "                                              random_state=42)),\n",
       "                            (&#x27;LGBoost&#x27;,\n",
       "                             LGBMRegressor(max_depth=2, n_estimators=200,\n",
       "                                           num_leaves=25, random_state=42,\n",
       "                                           verbose=-1)),\n",
       "                            (&#x27;HGBoost&#x27;,\n",
       "                             HistGradientBoostingRegressor(max_depth=2,\n",
       "                                                           max_...\n",
       "                                          gamma=None, grow_policy=None,\n",
       "                                          importance_type=None,\n",
       "                                          interaction_constraints=None,\n",
       "                                          learning_rate=0.1, max_bin=None,\n",
       "                                          max_cat_threshold=None,\n",
       "                                          max_cat_to_onehot=None,\n",
       "                                          max_delta_step=None, max_depth=4,\n",
       "                                          max_leaves=None,\n",
       "                                          min_child_weight=None, missing=nan,\n",
       "                                          monotone_constraints=None,\n",
       "                                          multi_strategy=None, n_estimators=200,\n",
       "                                          n_jobs=None, num_parallel_tree=None,\n",
       "                                          random_state=42, ...))])</pre><b>In a Jupyter environment, please rerun this cell to show the HTML representation or trust the notebook. <br />On GitHub, the HTML representation is unable to render, please try loading this page with nbviewer.org.</b></div><div class=\"sk-container\" hidden><div class=\"sk-item sk-dashed-wrapped\"><div class=\"sk-label-container\"><div class=\"sk-label sk-toggleable\"><input class=\"sk-toggleable__control sk-hidden--visually\" id=\"sk-estimator-id-19\" type=\"checkbox\" ><label for=\"sk-estimator-id-19\" class=\"sk-toggleable__label sk-toggleable__label-arrow\">VotingRegressor</label><div class=\"sk-toggleable__content\"><pre>VotingRegressor(estimators=[(&#x27;SVM&#x27;, SVR(C=0.1, gamma=0.01, kernel=&#x27;linear&#x27;)),\n",
       "                            (&#x27;RF&#x27;,\n",
       "                             RandomForestRegressor(max_depth=10,\n",
       "                                                   random_state=42)),\n",
       "                            (&#x27;Bagging&#x27;,\n",
       "                             BaggingRegressor(n_estimators=150,\n",
       "                                              random_state=42)),\n",
       "                            (&#x27;LGBoost&#x27;,\n",
       "                             LGBMRegressor(max_depth=2, n_estimators=200,\n",
       "                                           num_leaves=25, random_state=42,\n",
       "                                           verbose=-1)),\n",
       "                            (&#x27;HGBoost&#x27;,\n",
       "                             HistGradientBoostingRegressor(max_depth=2,\n",
       "                                                           max_...\n",
       "                                          gamma=None, grow_policy=None,\n",
       "                                          importance_type=None,\n",
       "                                          interaction_constraints=None,\n",
       "                                          learning_rate=0.1, max_bin=None,\n",
       "                                          max_cat_threshold=None,\n",
       "                                          max_cat_to_onehot=None,\n",
       "                                          max_delta_step=None, max_depth=4,\n",
       "                                          max_leaves=None,\n",
       "                                          min_child_weight=None, missing=nan,\n",
       "                                          monotone_constraints=None,\n",
       "                                          multi_strategy=None, n_estimators=200,\n",
       "                                          n_jobs=None, num_parallel_tree=None,\n",
       "                                          random_state=42, ...))])</pre></div></div></div><div class=\"sk-parallel\"><div class=\"sk-parallel-item\"><div class=\"sk-item\"><div class=\"sk-label-container\"><div class=\"sk-label sk-toggleable\"><label>SVM</label></div></div><div class=\"sk-serial\"><div class=\"sk-item\"><div class=\"sk-estimator sk-toggleable\"><input class=\"sk-toggleable__control sk-hidden--visually\" id=\"sk-estimator-id-20\" type=\"checkbox\" ><label for=\"sk-estimator-id-20\" class=\"sk-toggleable__label sk-toggleable__label-arrow\">SVR</label><div class=\"sk-toggleable__content\"><pre>SVR(C=0.1, gamma=0.01, kernel=&#x27;linear&#x27;)</pre></div></div></div></div></div></div><div class=\"sk-parallel-item\"><div class=\"sk-item\"><div class=\"sk-label-container\"><div class=\"sk-label sk-toggleable\"><label>RF</label></div></div><div class=\"sk-serial\"><div class=\"sk-item\"><div class=\"sk-estimator sk-toggleable\"><input class=\"sk-toggleable__control sk-hidden--visually\" id=\"sk-estimator-id-21\" type=\"checkbox\" ><label for=\"sk-estimator-id-21\" class=\"sk-toggleable__label sk-toggleable__label-arrow\">RandomForestRegressor</label><div class=\"sk-toggleable__content\"><pre>RandomForestRegressor(max_depth=10, random_state=42)</pre></div></div></div></div></div></div><div class=\"sk-parallel-item\"><div class=\"sk-item\"><div class=\"sk-label-container\"><div class=\"sk-label sk-toggleable\"><label>Bagging</label></div></div><div class=\"sk-serial\"><div class=\"sk-item\"><div class=\"sk-estimator sk-toggleable\"><input class=\"sk-toggleable__control sk-hidden--visually\" id=\"sk-estimator-id-22\" type=\"checkbox\" ><label for=\"sk-estimator-id-22\" class=\"sk-toggleable__label sk-toggleable__label-arrow\">BaggingRegressor</label><div class=\"sk-toggleable__content\"><pre>BaggingRegressor(n_estimators=150, random_state=42)</pre></div></div></div></div></div></div><div class=\"sk-parallel-item\"><div class=\"sk-item\"><div class=\"sk-label-container\"><div class=\"sk-label sk-toggleable\"><label>LGBoost</label></div></div><div class=\"sk-serial\"><div class=\"sk-item\"><div class=\"sk-estimator sk-toggleable\"><input class=\"sk-toggleable__control sk-hidden--visually\" id=\"sk-estimator-id-23\" type=\"checkbox\" ><label for=\"sk-estimator-id-23\" class=\"sk-toggleable__label sk-toggleable__label-arrow\">LGBMRegressor</label><div class=\"sk-toggleable__content\"><pre>LGBMRegressor(max_depth=2, n_estimators=200, num_leaves=25, random_state=42,\n",
       "              verbose=-1)</pre></div></div></div></div></div></div><div class=\"sk-parallel-item\"><div class=\"sk-item\"><div class=\"sk-label-container\"><div class=\"sk-label sk-toggleable\"><label>HGBoost</label></div></div><div class=\"sk-serial\"><div class=\"sk-item\"><div class=\"sk-estimator sk-toggleable\"><input class=\"sk-toggleable__control sk-hidden--visually\" id=\"sk-estimator-id-24\" type=\"checkbox\" ><label for=\"sk-estimator-id-24\" class=\"sk-toggleable__label sk-toggleable__label-arrow\">HistGradientBoostingRegressor</label><div class=\"sk-toggleable__content\"><pre>HistGradientBoostingRegressor(max_depth=2, max_iter=300, random_state=42)</pre></div></div></div></div></div></div><div class=\"sk-parallel-item\"><div class=\"sk-item\"><div class=\"sk-label-container\"><div class=\"sk-label sk-toggleable\"><label>XGBoost</label></div></div><div class=\"sk-serial\"><div class=\"sk-item\"><div class=\"sk-estimator sk-toggleable\"><input class=\"sk-toggleable__control sk-hidden--visually\" id=\"sk-estimator-id-25\" type=\"checkbox\" ><label for=\"sk-estimator-id-25\" class=\"sk-toggleable__label sk-toggleable__label-arrow\">XGBRegressor</label><div class=\"sk-toggleable__content\"><pre>XGBRegressor(base_score=None, booster=None, callbacks=None,\n",
       "             colsample_bylevel=None, colsample_bynode=None,\n",
       "             colsample_bytree=None, device=None, early_stopping_rounds=None,\n",
       "             enable_categorical=False, eval_metric=None, feature_types=None,\n",
       "             gamma=None, grow_policy=None, importance_type=None,\n",
       "             interaction_constraints=None, learning_rate=0.1, max_bin=None,\n",
       "             max_cat_threshold=None, max_cat_to_onehot=None,\n",
       "             max_delta_step=None, max_depth=4, max_leaves=None,\n",
       "             min_child_weight=None, missing=nan, monotone_constraints=None,\n",
       "             multi_strategy=None, n_estimators=200, n_jobs=None,\n",
       "             num_parallel_tree=None, random_state=42, ...)</pre></div></div></div></div></div></div></div></div></div></div>"
      ],
      "text/plain": [
       "VotingRegressor(estimators=[('SVM', SVR(C=0.1, gamma=0.01, kernel='linear')),\n",
       "                            ('RF',\n",
       "                             RandomForestRegressor(max_depth=10,\n",
       "                                                   random_state=42)),\n",
       "                            ('Bagging',\n",
       "                             BaggingRegressor(n_estimators=150,\n",
       "                                              random_state=42)),\n",
       "                            ('LGBoost',\n",
       "                             LGBMRegressor(max_depth=2, n_estimators=200,\n",
       "                                           num_leaves=25, random_state=42,\n",
       "                                           verbose=-1)),\n",
       "                            ('HGBoost',\n",
       "                             HistGradientBoostingRegressor(max_depth=2,\n",
       "                                                           max_...\n",
       "                                          gamma=None, grow_policy=None,\n",
       "                                          importance_type=None,\n",
       "                                          interaction_constraints=None,\n",
       "                                          learning_rate=0.1, max_bin=None,\n",
       "                                          max_cat_threshold=None,\n",
       "                                          max_cat_to_onehot=None,\n",
       "                                          max_delta_step=None, max_depth=4,\n",
       "                                          max_leaves=None,\n",
       "                                          min_child_weight=None, missing=nan,\n",
       "                                          monotone_constraints=None,\n",
       "                                          multi_strategy=None, n_estimators=200,\n",
       "                                          n_jobs=None, num_parallel_tree=None,\n",
       "                                          random_state=42, ...))])"
      ]
     },
     "execution_count": 82,
     "metadata": {},
     "output_type": "execute_result"
    }
   ],
   "source": [
    "estimator_vote2"
   ]
  },
  {
   "cell_type": "code",
   "execution_count": 83,
   "id": "0058964f-413a-4a94-9bd1-2fc95904f54f",
   "metadata": {},
   "outputs": [],
   "source": [
    "pipeline_vote2 = Pipeline(steps=[\n",
    "    ('encoding', encoder),\n",
    "    ('scaler', scaler),\n",
    "    ('vote', estimator_vote2)\n",
    "])"
   ]
  },
  {
   "cell_type": "code",
   "execution_count": 84,
   "id": "85555d50-e741-41fd-b374-0b1b7ae3870b",
   "metadata": {},
   "outputs": [
    {
     "name": "stdout",
     "output_type": "stream",
     "text": [
      "Execution time: 0:03:04\n"
     ]
    }
   ],
   "source": [
    "st = stopwatch.start()\n",
    "estimator_vote2_cv = cross_validate(\n",
    "    pipeline_vote2, *datasets2, cv=n_folds,\n",
    "    scoring='neg_root_mean_squared_error',\n",
    "    return_train_score=True\n",
    ")\n",
    "print(f'Execution time: {stopwatch.stop(st)}')"
   ]
  },
  {
   "cell_type": "code",
   "execution_count": 85,
   "id": "33f68f1f-d478-484f-8182-ab17513ba66b",
   "metadata": {},
   "outputs": [],
   "source": [
    "estimator_vote2_scores_mean = np.mean(estimator_vote2_cv['test_score'])"
   ]
  },
  {
   "cell_type": "code",
   "execution_count": 86,
   "id": "0d976c1a-989f-496d-85ff-7653dc31e9a0",
   "metadata": {},
   "outputs": [
    {
     "data": {
      "text/plain": [
       "-0.11630788870908385"
      ]
     },
     "execution_count": 86,
     "metadata": {},
     "output_type": "execute_result"
    }
   ],
   "source": [
    "estimator_vote2_scores_mean"
   ]
  },
  {
   "cell_type": "code",
   "execution_count": 87,
   "id": "567a5475-ac6e-4acc-a647-b470b31c1cb5",
   "metadata": {},
   "outputs": [],
   "source": [
    "estimator_vote2_scores_std = np.std(estimator_vote2_cv['test_score'], ddof=1)"
   ]
  },
  {
   "cell_type": "code",
   "execution_count": 88,
   "id": "ce5de7f9-c10b-44d3-bb55-47eabd5c9c60",
   "metadata": {},
   "outputs": [
    {
     "data": {
      "text/plain": [
       "0.024406739707932282"
      ]
     },
     "execution_count": 88,
     "metadata": {},
     "output_type": "execute_result"
    }
   ],
   "source": [
    "estimator_vote2_scores_std"
   ]
  },
  {
   "cell_type": "code",
   "execution_count": 89,
   "id": "85da7c89-b344-4668-9787-53752071dd24",
   "metadata": {},
   "outputs": [],
   "source": [
    "estimator_vote2_fit_time_mean = np.mean(estimator_vote2_cv['fit_time'])"
   ]
  },
  {
   "cell_type": "code",
   "execution_count": 90,
   "id": "4b3dfb4a-9d67-4c4e-9ce5-4d6761f9482e",
   "metadata": {},
   "outputs": [
    {
     "data": {
      "text/plain": [
       "8.72186462879181"
      ]
     },
     "execution_count": 90,
     "metadata": {},
     "output_type": "execute_result"
    }
   ],
   "source": [
    "estimator_vote2_fit_time_mean"
   ]
  },
  {
   "cell_type": "code",
   "execution_count": 91,
   "id": "5d57c0ab-2f2c-4252-9cf1-576f2edd6f4b",
   "metadata": {},
   "outputs": [],
   "source": [
    "estimator_vote2_fit_time_std = np.std(estimator_vote2_cv['fit_time'], ddof=1)"
   ]
  },
  {
   "cell_type": "code",
   "execution_count": 92,
   "id": "e543644b-e8ab-487f-8caf-c69e3b822918",
   "metadata": {},
   "outputs": [
    {
     "data": {
      "text/plain": [
       "0.6834346883105661"
      ]
     },
     "execution_count": 92,
     "metadata": {},
     "output_type": "execute_result"
    }
   ],
   "source": [
    "estimator_vote2_fit_time_std"
   ]
  },
  {
   "cell_type": "markdown",
   "id": "fa15908a-762b-4ffe-a54b-a792d2ce4885",
   "metadata": {},
   "source": [
    "### Stacking Regressor"
   ]
  },
  {
   "cell_type": "code",
   "execution_count": 93,
   "id": "eba8721d-9eb5-4e72-a140-3ac0d33be939",
   "metadata": {},
   "outputs": [],
   "source": [
    "final_estimator2 = RidgeCV()"
   ]
  },
  {
   "cell_type": "code",
   "execution_count": 94,
   "id": "404294ad-49c7-490e-831e-40b14ff2394e",
   "metadata": {},
   "outputs": [],
   "source": [
    "estimator_stack2 = StackingRegressor(\n",
    "    estimators=estimators2,\n",
    "    final_estimator=final_estimator2)"
   ]
  },
  {
   "cell_type": "code",
   "execution_count": 95,
   "id": "b4c40fd8-214b-49ed-9dc9-40e8c3f6970f",
   "metadata": {},
   "outputs": [
    {
     "data": {
      "text/html": [
       "<style>#sk-container-id-5 {color: black;}#sk-container-id-5 pre{padding: 0;}#sk-container-id-5 div.sk-toggleable {background-color: white;}#sk-container-id-5 label.sk-toggleable__label {cursor: pointer;display: block;width: 100%;margin-bottom: 0;padding: 0.3em;box-sizing: border-box;text-align: center;}#sk-container-id-5 label.sk-toggleable__label-arrow:before {content: \"▸\";float: left;margin-right: 0.25em;color: #696969;}#sk-container-id-5 label.sk-toggleable__label-arrow:hover:before {color: black;}#sk-container-id-5 div.sk-estimator:hover label.sk-toggleable__label-arrow:before {color: black;}#sk-container-id-5 div.sk-toggleable__content {max-height: 0;max-width: 0;overflow: hidden;text-align: left;background-color: #f0f8ff;}#sk-container-id-5 div.sk-toggleable__content pre {margin: 0.2em;color: black;border-radius: 0.25em;background-color: #f0f8ff;}#sk-container-id-5 input.sk-toggleable__control:checked~div.sk-toggleable__content {max-height: 200px;max-width: 100%;overflow: auto;}#sk-container-id-5 input.sk-toggleable__control:checked~label.sk-toggleable__label-arrow:before {content: \"▾\";}#sk-container-id-5 div.sk-estimator input.sk-toggleable__control:checked~label.sk-toggleable__label {background-color: #d4ebff;}#sk-container-id-5 div.sk-label input.sk-toggleable__control:checked~label.sk-toggleable__label {background-color: #d4ebff;}#sk-container-id-5 input.sk-hidden--visually {border: 0;clip: rect(1px 1px 1px 1px);clip: rect(1px, 1px, 1px, 1px);height: 1px;margin: -1px;overflow: hidden;padding: 0;position: absolute;width: 1px;}#sk-container-id-5 div.sk-estimator {font-family: monospace;background-color: #f0f8ff;border: 1px dotted black;border-radius: 0.25em;box-sizing: border-box;margin-bottom: 0.5em;}#sk-container-id-5 div.sk-estimator:hover {background-color: #d4ebff;}#sk-container-id-5 div.sk-parallel-item::after {content: \"\";width: 100%;border-bottom: 1px solid gray;flex-grow: 1;}#sk-container-id-5 div.sk-label:hover label.sk-toggleable__label {background-color: #d4ebff;}#sk-container-id-5 div.sk-serial::before {content: \"\";position: absolute;border-left: 1px solid gray;box-sizing: border-box;top: 0;bottom: 0;left: 50%;z-index: 0;}#sk-container-id-5 div.sk-serial {display: flex;flex-direction: column;align-items: center;background-color: white;padding-right: 0.2em;padding-left: 0.2em;position: relative;}#sk-container-id-5 div.sk-item {position: relative;z-index: 1;}#sk-container-id-5 div.sk-parallel {display: flex;align-items: stretch;justify-content: center;background-color: white;position: relative;}#sk-container-id-5 div.sk-item::before, #sk-container-id-5 div.sk-parallel-item::before {content: \"\";position: absolute;border-left: 1px solid gray;box-sizing: border-box;top: 0;bottom: 0;left: 50%;z-index: -1;}#sk-container-id-5 div.sk-parallel-item {display: flex;flex-direction: column;z-index: 1;position: relative;background-color: white;}#sk-container-id-5 div.sk-parallel-item:first-child::after {align-self: flex-end;width: 50%;}#sk-container-id-5 div.sk-parallel-item:last-child::after {align-self: flex-start;width: 50%;}#sk-container-id-5 div.sk-parallel-item:only-child::after {width: 0;}#sk-container-id-5 div.sk-dashed-wrapped {border: 1px dashed gray;margin: 0 0.4em 0.5em 0.4em;box-sizing: border-box;padding-bottom: 0.4em;background-color: white;}#sk-container-id-5 div.sk-label label {font-family: monospace;font-weight: bold;display: inline-block;line-height: 1.2em;}#sk-container-id-5 div.sk-label-container {text-align: center;}#sk-container-id-5 div.sk-container {/* jupyter's `normalize.less` sets `[hidden] { display: none; }` but bootstrap.min.css set `[hidden] { display: none !important; }` so we also need the `!important` here to be able to override the default hidden behavior on the sphinx rendered scikit-learn.org. See: https://github.com/scikit-learn/scikit-learn/issues/21755 */display: inline-block !important;position: relative;}#sk-container-id-5 div.sk-text-repr-fallback {display: none;}</style><div id=\"sk-container-id-5\" class=\"sk-top-container\"><div class=\"sk-text-repr-fallback\"><pre>StackingRegressor(estimators=[(&#x27;SVM&#x27;, SVR(C=0.1, gamma=0.01, kernel=&#x27;linear&#x27;)),\n",
       "                              (&#x27;RF&#x27;,\n",
       "                               RandomForestRegressor(max_depth=10,\n",
       "                                                     random_state=42)),\n",
       "                              (&#x27;Bagging&#x27;,\n",
       "                               BaggingRegressor(n_estimators=150,\n",
       "                                                random_state=42)),\n",
       "                              (&#x27;LGBoost&#x27;,\n",
       "                               LGBMRegressor(max_depth=2, n_estimators=200,\n",
       "                                             num_leaves=25, random_state=42,\n",
       "                                             verbose=-1)),\n",
       "                              (&#x27;HGBoost&#x27;,\n",
       "                               HistGradientBoostingRegressor(max_depth=2,\n",
       "                                                             ma...\n",
       "                                            importance_type=None,\n",
       "                                            interaction_constraints=None,\n",
       "                                            learning_rate=0.1, max_bin=None,\n",
       "                                            max_cat_threshold=None,\n",
       "                                            max_cat_to_onehot=None,\n",
       "                                            max_delta_step=None, max_depth=4,\n",
       "                                            max_leaves=None,\n",
       "                                            min_child_weight=None, missing=nan,\n",
       "                                            monotone_constraints=None,\n",
       "                                            multi_strategy=None,\n",
       "                                            n_estimators=200, n_jobs=None,\n",
       "                                            num_parallel_tree=None,\n",
       "                                            random_state=42, ...))],\n",
       "                  final_estimator=RidgeCV())</pre><b>In a Jupyter environment, please rerun this cell to show the HTML representation or trust the notebook. <br />On GitHub, the HTML representation is unable to render, please try loading this page with nbviewer.org.</b></div><div class=\"sk-container\" hidden><div class=\"sk-item sk-dashed-wrapped\"><div class=\"sk-label-container\"><div class=\"sk-label sk-toggleable\"><input class=\"sk-toggleable__control sk-hidden--visually\" id=\"sk-estimator-id-26\" type=\"checkbox\" ><label for=\"sk-estimator-id-26\" class=\"sk-toggleable__label sk-toggleable__label-arrow\">StackingRegressor</label><div class=\"sk-toggleable__content\"><pre>StackingRegressor(estimators=[(&#x27;SVM&#x27;, SVR(C=0.1, gamma=0.01, kernel=&#x27;linear&#x27;)),\n",
       "                              (&#x27;RF&#x27;,\n",
       "                               RandomForestRegressor(max_depth=10,\n",
       "                                                     random_state=42)),\n",
       "                              (&#x27;Bagging&#x27;,\n",
       "                               BaggingRegressor(n_estimators=150,\n",
       "                                                random_state=42)),\n",
       "                              (&#x27;LGBoost&#x27;,\n",
       "                               LGBMRegressor(max_depth=2, n_estimators=200,\n",
       "                                             num_leaves=25, random_state=42,\n",
       "                                             verbose=-1)),\n",
       "                              (&#x27;HGBoost&#x27;,\n",
       "                               HistGradientBoostingRegressor(max_depth=2,\n",
       "                                                             ma...\n",
       "                                            importance_type=None,\n",
       "                                            interaction_constraints=None,\n",
       "                                            learning_rate=0.1, max_bin=None,\n",
       "                                            max_cat_threshold=None,\n",
       "                                            max_cat_to_onehot=None,\n",
       "                                            max_delta_step=None, max_depth=4,\n",
       "                                            max_leaves=None,\n",
       "                                            min_child_weight=None, missing=nan,\n",
       "                                            monotone_constraints=None,\n",
       "                                            multi_strategy=None,\n",
       "                                            n_estimators=200, n_jobs=None,\n",
       "                                            num_parallel_tree=None,\n",
       "                                            random_state=42, ...))],\n",
       "                  final_estimator=RidgeCV())</pre></div></div></div><div class=\"sk-serial\"><div class=\"sk-item\"><div class=\"sk-parallel\"><div class=\"sk-parallel-item\"><div class=\"sk-item\"><div class=\"sk-label-container\"><div class=\"sk-label sk-toggleable\"><label>SVM</label></div></div><div class=\"sk-serial\"><div class=\"sk-item\"><div class=\"sk-estimator sk-toggleable\"><input class=\"sk-toggleable__control sk-hidden--visually\" id=\"sk-estimator-id-27\" type=\"checkbox\" ><label for=\"sk-estimator-id-27\" class=\"sk-toggleable__label sk-toggleable__label-arrow\">SVR</label><div class=\"sk-toggleable__content\"><pre>SVR(C=0.1, gamma=0.01, kernel=&#x27;linear&#x27;)</pre></div></div></div></div></div></div><div class=\"sk-parallel-item\"><div class=\"sk-item\"><div class=\"sk-label-container\"><div class=\"sk-label sk-toggleable\"><label>RF</label></div></div><div class=\"sk-serial\"><div class=\"sk-item\"><div class=\"sk-estimator sk-toggleable\"><input class=\"sk-toggleable__control sk-hidden--visually\" id=\"sk-estimator-id-28\" type=\"checkbox\" ><label for=\"sk-estimator-id-28\" class=\"sk-toggleable__label sk-toggleable__label-arrow\">RandomForestRegressor</label><div class=\"sk-toggleable__content\"><pre>RandomForestRegressor(max_depth=10, random_state=42)</pre></div></div></div></div></div></div><div class=\"sk-parallel-item\"><div class=\"sk-item\"><div class=\"sk-label-container\"><div class=\"sk-label sk-toggleable\"><label>Bagging</label></div></div><div class=\"sk-serial\"><div class=\"sk-item\"><div class=\"sk-estimator sk-toggleable\"><input class=\"sk-toggleable__control sk-hidden--visually\" id=\"sk-estimator-id-29\" type=\"checkbox\" ><label for=\"sk-estimator-id-29\" class=\"sk-toggleable__label sk-toggleable__label-arrow\">BaggingRegressor</label><div class=\"sk-toggleable__content\"><pre>BaggingRegressor(n_estimators=150, random_state=42)</pre></div></div></div></div></div></div><div class=\"sk-parallel-item\"><div class=\"sk-item\"><div class=\"sk-label-container\"><div class=\"sk-label sk-toggleable\"><label>LGBoost</label></div></div><div class=\"sk-serial\"><div class=\"sk-item\"><div class=\"sk-estimator sk-toggleable\"><input class=\"sk-toggleable__control sk-hidden--visually\" id=\"sk-estimator-id-30\" type=\"checkbox\" ><label for=\"sk-estimator-id-30\" class=\"sk-toggleable__label sk-toggleable__label-arrow\">LGBMRegressor</label><div class=\"sk-toggleable__content\"><pre>LGBMRegressor(max_depth=2, n_estimators=200, num_leaves=25, random_state=42,\n",
       "              verbose=-1)</pre></div></div></div></div></div></div><div class=\"sk-parallel-item\"><div class=\"sk-item\"><div class=\"sk-label-container\"><div class=\"sk-label sk-toggleable\"><label>HGBoost</label></div></div><div class=\"sk-serial\"><div class=\"sk-item\"><div class=\"sk-estimator sk-toggleable\"><input class=\"sk-toggleable__control sk-hidden--visually\" id=\"sk-estimator-id-31\" type=\"checkbox\" ><label for=\"sk-estimator-id-31\" class=\"sk-toggleable__label sk-toggleable__label-arrow\">HistGradientBoostingRegressor</label><div class=\"sk-toggleable__content\"><pre>HistGradientBoostingRegressor(max_depth=2, max_iter=300, random_state=42)</pre></div></div></div></div></div></div><div class=\"sk-parallel-item\"><div class=\"sk-item\"><div class=\"sk-label-container\"><div class=\"sk-label sk-toggleable\"><label>XGBoost</label></div></div><div class=\"sk-serial\"><div class=\"sk-item\"><div class=\"sk-estimator sk-toggleable\"><input class=\"sk-toggleable__control sk-hidden--visually\" id=\"sk-estimator-id-32\" type=\"checkbox\" ><label for=\"sk-estimator-id-32\" class=\"sk-toggleable__label sk-toggleable__label-arrow\">XGBRegressor</label><div class=\"sk-toggleable__content\"><pre>XGBRegressor(base_score=None, booster=None, callbacks=None,\n",
       "             colsample_bylevel=None, colsample_bynode=None,\n",
       "             colsample_bytree=None, device=None, early_stopping_rounds=None,\n",
       "             enable_categorical=False, eval_metric=None, feature_types=None,\n",
       "             gamma=None, grow_policy=None, importance_type=None,\n",
       "             interaction_constraints=None, learning_rate=0.1, max_bin=None,\n",
       "             max_cat_threshold=None, max_cat_to_onehot=None,\n",
       "             max_delta_step=None, max_depth=4, max_leaves=None,\n",
       "             min_child_weight=None, missing=nan, monotone_constraints=None,\n",
       "             multi_strategy=None, n_estimators=200, n_jobs=None,\n",
       "             num_parallel_tree=None, random_state=42, ...)</pre></div></div></div></div></div></div></div></div><div class=\"sk-item\"><div class=\"sk-parallel\"><div class=\"sk-parallel-item\"><div class=\"sk-item\"><div class=\"sk-label-container\"><div class=\"sk-label sk-toggleable\"><label>final_estimator</label></div></div><div class=\"sk-serial\"><div class=\"sk-item\"><div class=\"sk-estimator sk-toggleable\"><input class=\"sk-toggleable__control sk-hidden--visually\" id=\"sk-estimator-id-33\" type=\"checkbox\" ><label for=\"sk-estimator-id-33\" class=\"sk-toggleable__label sk-toggleable__label-arrow\">RidgeCV</label><div class=\"sk-toggleable__content\"><pre>RidgeCV()</pre></div></div></div></div></div></div></div></div></div></div></div></div>"
      ],
      "text/plain": [
       "StackingRegressor(estimators=[('SVM', SVR(C=0.1, gamma=0.01, kernel='linear')),\n",
       "                              ('RF',\n",
       "                               RandomForestRegressor(max_depth=10,\n",
       "                                                     random_state=42)),\n",
       "                              ('Bagging',\n",
       "                               BaggingRegressor(n_estimators=150,\n",
       "                                                random_state=42)),\n",
       "                              ('LGBoost',\n",
       "                               LGBMRegressor(max_depth=2, n_estimators=200,\n",
       "                                             num_leaves=25, random_state=42,\n",
       "                                             verbose=-1)),\n",
       "                              ('HGBoost',\n",
       "                               HistGradientBoostingRegressor(max_depth=2,\n",
       "                                                             ma...\n",
       "                                            importance_type=None,\n",
       "                                            interaction_constraints=None,\n",
       "                                            learning_rate=0.1, max_bin=None,\n",
       "                                            max_cat_threshold=None,\n",
       "                                            max_cat_to_onehot=None,\n",
       "                                            max_delta_step=None, max_depth=4,\n",
       "                                            max_leaves=None,\n",
       "                                            min_child_weight=None, missing=nan,\n",
       "                                            monotone_constraints=None,\n",
       "                                            multi_strategy=None,\n",
       "                                            n_estimators=200, n_jobs=None,\n",
       "                                            num_parallel_tree=None,\n",
       "                                            random_state=42, ...))],\n",
       "                  final_estimator=RidgeCV())"
      ]
     },
     "execution_count": 95,
     "metadata": {},
     "output_type": "execute_result"
    }
   ],
   "source": [
    "estimator_stack2"
   ]
  },
  {
   "cell_type": "code",
   "execution_count": 96,
   "id": "38a9f981-f5d2-4cd4-b8c6-b23efa02fb35",
   "metadata": {},
   "outputs": [],
   "source": [
    "pipeline_stack2 = Pipeline(steps=[\n",
    "    ('encoding', encoder),\n",
    "    ('scaler', scaler),\n",
    "    ('stack', estimator_stack2)\n",
    "])"
   ]
  },
  {
   "cell_type": "code",
   "execution_count": 97,
   "id": "f1af4c8f-c62a-4cfe-9f97-9617f3ccb975",
   "metadata": {},
   "outputs": [
    {
     "name": "stdout",
     "output_type": "stream",
     "text": [
      "Execution time: 0:14:48\n"
     ]
    }
   ],
   "source": [
    "st = stopwatch.start()\n",
    "estimator_stack2_cv = cross_validate(\n",
    "    pipeline_stack2, *datasets2, cv=n_folds,\n",
    "    scoring='neg_root_mean_squared_error',\n",
    "    return_train_score=True\n",
    ")\n",
    "print(f'Execution time: {stopwatch.stop(st)}')"
   ]
  },
  {
   "cell_type": "code",
   "execution_count": 98,
   "id": "89544dac-5a61-4d8f-b37f-f33e1cca6332",
   "metadata": {},
   "outputs": [],
   "source": [
    "estimator_stack2_scores_mean = np.mean(estimator_stack2_cv['test_score'])"
   ]
  },
  {
   "cell_type": "code",
   "execution_count": 99,
   "id": "11664ad4-9821-4d34-a3b3-cbb5006de0e7",
   "metadata": {},
   "outputs": [
    {
     "data": {
      "text/plain": [
       "-0.1114760410372539"
      ]
     },
     "execution_count": 99,
     "metadata": {},
     "output_type": "execute_result"
    }
   ],
   "source": [
    "estimator_stack2_scores_mean"
   ]
  },
  {
   "cell_type": "code",
   "execution_count": 100,
   "id": "568c4fc1-ba60-4ab6-918c-d45059fc013e",
   "metadata": {},
   "outputs": [],
   "source": [
    "estimator_stack2_scores_std = np.std(estimator_stack2_cv['test_score'], ddof=1)"
   ]
  },
  {
   "cell_type": "code",
   "execution_count": 101,
   "id": "b7092584-d0c5-4a12-b8bd-63407e077386",
   "metadata": {},
   "outputs": [
    {
     "data": {
      "text/plain": [
       "0.021144717332511012"
      ]
     },
     "execution_count": 101,
     "metadata": {},
     "output_type": "execute_result"
    }
   ],
   "source": [
    "estimator_stack2_scores_std"
   ]
  },
  {
   "cell_type": "code",
   "execution_count": 102,
   "id": "cb43e1f4-d832-46d5-8b10-18df0e2d50fc",
   "metadata": {},
   "outputs": [],
   "source": [
    "estimator_stack2_fit_time_mean = np.mean(estimator_stack2_cv['fit_time'])"
   ]
  },
  {
   "cell_type": "code",
   "execution_count": 103,
   "id": "3434f046-0e37-41b5-9ec3-173a54fcbc78",
   "metadata": {},
   "outputs": [
    {
     "data": {
      "text/plain": [
       "43.934728384017944"
      ]
     },
     "execution_count": 103,
     "metadata": {},
     "output_type": "execute_result"
    }
   ],
   "source": [
    "estimator_stack2_fit_time_mean"
   ]
  },
  {
   "cell_type": "code",
   "execution_count": 104,
   "id": "52069098-16e2-40dd-b894-9ee113e5bcb8",
   "metadata": {},
   "outputs": [],
   "source": [
    "estimator_stack2_fit_time_std = np.std(estimator_stack2_cv['fit_time'], ddof=1)"
   ]
  },
  {
   "cell_type": "code",
   "execution_count": 105,
   "id": "9fa04ecf-593f-4a18-bd28-18b2d6779dcd",
   "metadata": {},
   "outputs": [
    {
     "data": {
      "text/plain": [
       "2.5297275433945776"
      ]
     },
     "execution_count": 105,
     "metadata": {},
     "output_type": "execute_result"
    }
   ],
   "source": [
    "estimator_stack2_fit_time_std"
   ]
  },
  {
   "cell_type": "markdown",
   "id": "24e7bebe-f673-43e1-b5c5-d6e656b0978e",
   "metadata": {},
   "source": [
    "### Compare estimators"
   ]
  },
  {
   "cell_type": "code",
   "execution_count": 106,
   "id": "bfd26781-a96a-4fe5-b865-a2b5701b6a7f",
   "metadata": {},
   "outputs": [],
   "source": [
    "plot_vote_stack21 = pd.DataFrame(\n",
    "    data=estimator_vote2_cv['test_score'],\n",
    "    columns=['Voting']\n",
    ")\n",
    "plot_vote_stack22 = pd.DataFrame(\n",
    "    data=estimator_stack2_cv['test_score'],\n",
    "    columns=['Stacking']\n",
    ")\n",
    "plot_vote_stack2 = pd.concat([plot_vote_stack21, plot_vote_stack22], axis=1)"
   ]
  },
  {
   "cell_type": "code",
   "execution_count": 107,
   "id": "79628032-cc40-4df8-a98c-2955c0e64d08",
   "metadata": {},
   "outputs": [
    {
     "data": {
      "text/html": [
       "<div>\n",
       "<style scoped>\n",
       "    .dataframe tbody tr th:only-of-type {\n",
       "        vertical-align: middle;\n",
       "    }\n",
       "\n",
       "    .dataframe tbody tr th {\n",
       "        vertical-align: top;\n",
       "    }\n",
       "\n",
       "    .dataframe thead th {\n",
       "        text-align: right;\n",
       "    }\n",
       "</style>\n",
       "<table border=\"1\" class=\"dataframe\">\n",
       "  <thead>\n",
       "    <tr style=\"text-align: right;\">\n",
       "      <th></th>\n",
       "      <th>Voting</th>\n",
       "      <th>Stacking</th>\n",
       "    </tr>\n",
       "  </thead>\n",
       "  <tbody>\n",
       "    <tr>\n",
       "      <th>0</th>\n",
       "      <td>-0.156775</td>\n",
       "      <td>-0.147111</td>\n",
       "    </tr>\n",
       "    <tr>\n",
       "      <th>1</th>\n",
       "      <td>-0.121551</td>\n",
       "      <td>-0.117125</td>\n",
       "    </tr>\n",
       "    <tr>\n",
       "      <th>2</th>\n",
       "      <td>-0.101644</td>\n",
       "      <td>-0.108163</td>\n",
       "    </tr>\n",
       "    <tr>\n",
       "      <th>3</th>\n",
       "      <td>-0.074974</td>\n",
       "      <td>-0.074047</td>\n",
       "    </tr>\n",
       "    <tr>\n",
       "      <th>4</th>\n",
       "      <td>-0.138760</td>\n",
       "      <td>-0.131761</td>\n",
       "    </tr>\n",
       "  </tbody>\n",
       "</table>\n",
       "</div>"
      ],
      "text/plain": [
       "     Voting  Stacking\n",
       "0 -0.156775 -0.147111\n",
       "1 -0.121551 -0.117125\n",
       "2 -0.101644 -0.108163\n",
       "3 -0.074974 -0.074047\n",
       "4 -0.138760 -0.131761"
      ]
     },
     "execution_count": 107,
     "metadata": {},
     "output_type": "execute_result"
    }
   ],
   "source": [
    "plot_vote_stack2.head()"
   ]
  },
  {
   "cell_type": "code",
   "execution_count": 7,
   "id": "61b9f5fb-c80d-43d2-8046-36b55a11c07c",
   "metadata": {},
   "outputs": [
    {
     "data": {
      "image/png": "[encoded data removed]",
      "text/plain": [
       "<Figure size 900x400 with 2 Axes>"
      ]
     },
     "metadata": {},
     "output_type": "display_data"
    },
    {
     "name": "stdout",
     "output_type": "stream",
     "text": [
      "Image 'vote_stack_compare_orig.png' successfully saved into 'img/Section7-ML-models' directory\n"
     ]
    }
   ],
   "source": [
    "fig = plot_estimators_comparing(\n",
    "    data=plot_vote_stack2,\n",
    "    labels=['Voting', 'Stacking'],\n",
    "    ylabels=['RMSE', 'Delta'],\n",
    "    kind='bar',\n",
    "    figsize=(9, 4),\n",
    "    width=0.15,\n",
    "    palette=[alpha_color(palette[0], 0.85), palette[2]],\n",
    "    ax0_y_ticks=[-0.20, -0.05, 0.05],\n",
    "    ax1_y_ticks=[-0.010, 0.015, 0.01]\n",
    ")\n",
    "savefig('vote_stack_compare_orig', dir_save)"
   ]
  },
  {
   "cell_type": "code",
   "execution_count": 109,
   "id": "dc5fa52e-b955-441c-b409-75e1632be5e5",
   "metadata": {},
   "outputs": [],
   "source": [
    "# create df with results\n",
    "results_full_cols = [\n",
    "    'Model', 'MeanScore', 'StdScore', 'FitTime', 'StdFitTime'\n",
    "]\t\n",
    "results_full2 = results_grid2[results_full_cols].copy()\n",
    "results_full2['MeanScore'] = results_full2['MeanScore'].abs() \n",
    "results_full2['Estimator'] = results_estimators2"
   ]
  },
  {
   "cell_type": "code",
   "execution_count": 110,
   "id": "79ac6938-2724-4ebe-91d3-f4efd5bcdae1",
   "metadata": {},
   "outputs": [],
   "source": [
    "# add scores of vote and stacking regressors\n",
    "vote_row = [\n",
    "    'Voting',\n",
    "    np.abs(estimator_vote2_scores_mean),\n",
    "    estimator_vote2_scores_std,\n",
    "    estimator_vote2_fit_time_mean,\n",
    "    estimator_vote2_fit_time_std,\n",
    "    estimator_vote2\n",
    "]\n",
    "stack_row = [\n",
    "    'Stacking',\n",
    "    np.abs(estimator_stack2_scores_mean),\n",
    "    estimator_stack2_scores_std,\n",
    "    estimator_stack2_fit_time_mean,\n",
    "    estimator_stack2_fit_time_std,\n",
    "    estimator_stack2\n",
    "]"
   ]
  },
  {
   "cell_type": "code",
   "execution_count": 111,
   "id": "631c103e-29cf-4eb6-b115-69473021f535",
   "metadata": {},
   "outputs": [],
   "source": [
    "results_full2.loc[len(results_full2)] = vote_row\n",
    "results_full2.loc[len(results_full2)] = stack_row\n",
    "\n",
    "results_full2 = results_full2.sort_values('MeanScore', ascending=True)\n",
    "results_full2 = results_full2.reset_index(drop=True)"
   ]
  },
  {
   "cell_type": "code",
   "execution_count": 112,
   "id": "9d118563-b770-463b-95e7-42276ad032ea",
   "metadata": {},
   "outputs": [],
   "source": [
    "# calculate CI and margin of errors\n",
    "results_full2['CiMin'] = results_full2.apply(\n",
    "    lambda x: ci_t_distribution(\n",
    "        mean=x['MeanScore'], std=x['StdScore'], n=n_folds)['min'],\n",
    "    axis=1)\n",
    "\n",
    "results_full2['CiMax'] = results_full2.apply(\n",
    "    lambda x: ci_t_distribution(\n",
    "        mean=x['MeanScore'], std=x['StdScore'], n=n_folds)['max'],\n",
    "    axis=1)\n",
    "\n",
    "results_full2['MarginOfError'] = results_full2.apply(\n",
    "    lambda x: ci_t_distribution(\n",
    "        mean=x['MeanScore'], std=x['StdScore'], n=n_folds)['margin'],\n",
    "    axis=1)\n",
    "# move 'Estimator' column to last position\n",
    "old_cols = results_full2.columns\n",
    "new_cols = [col for col in old_cols if col != 'Estimator'] + ['Estimator']\n",
    "results_full2 = results_full2[new_cols].copy()"
   ]
  },
  {
   "cell_type": "code",
   "execution_count": 113,
   "id": "5a9d261b-2bd5-438b-a9c1-3efa53779306",
   "metadata": {},
   "outputs": [
    {
     "data": {
      "text/html": [
       "<div>\n",
       "<style scoped>\n",
       "    .dataframe tbody tr th:only-of-type {\n",
       "        vertical-align: middle;\n",
       "    }\n",
       "\n",
       "    .dataframe tbody tr th {\n",
       "        vertical-align: top;\n",
       "    }\n",
       "\n",
       "    .dataframe thead th {\n",
       "        text-align: right;\n",
       "    }\n",
       "</style>\n",
       "<table border=\"1\" class=\"dataframe\">\n",
       "  <thead>\n",
       "    <tr style=\"text-align: right;\">\n",
       "      <th></th>\n",
       "      <th>Model</th>\n",
       "      <th>MeanScore</th>\n",
       "      <th>StdScore</th>\n",
       "      <th>FitTime</th>\n",
       "      <th>StdFitTime</th>\n",
       "      <th>CiMin</th>\n",
       "      <th>CiMax</th>\n",
       "      <th>MarginOfError</th>\n",
       "      <th>Estimator</th>\n",
       "    </tr>\n",
       "  </thead>\n",
       "  <tbody>\n",
       "    <tr>\n",
       "      <th>0</th>\n",
       "      <td>Stacking</td>\n",
       "      <td>0.111476</td>\n",
       "      <td>0.021145</td>\n",
       "      <td>43.934728</td>\n",
       "      <td>2.529728</td>\n",
       "      <td>0.101580</td>\n",
       "      <td>0.121372</td>\n",
       "      <td>0.009896</td>\n",
       "      <td>StackingRegressor(estimators=[('SVM', SVR(C=0....</td>\n",
       "    </tr>\n",
       "    <tr>\n",
       "      <th>1</th>\n",
       "      <td>Voting</td>\n",
       "      <td>0.116308</td>\n",
       "      <td>0.024407</td>\n",
       "      <td>8.721865</td>\n",
       "      <td>0.683435</td>\n",
       "      <td>0.104885</td>\n",
       "      <td>0.127731</td>\n",
       "      <td>0.011423</td>\n",
       "      <td>VotingRegressor(estimators=[('SVM', SVR(C=0.1,...</td>\n",
       "    </tr>\n",
       "    <tr>\n",
       "      <th>2</th>\n",
       "      <td>SVM</td>\n",
       "      <td>0.117609</td>\n",
       "      <td>0.017543</td>\n",
       "      <td>0.501347</td>\n",
       "      <td>0.064139</td>\n",
       "      <td>0.109399</td>\n",
       "      <td>0.125820</td>\n",
       "      <td>0.008211</td>\n",
       "      <td>SVR(C=0.1, gamma=0.01, kernel='linear')</td>\n",
       "    </tr>\n",
       "    <tr>\n",
       "      <th>3</th>\n",
       "      <td>HGBoost</td>\n",
       "      <td>0.118362</td>\n",
       "      <td>0.023832</td>\n",
       "      <td>0.527692</td>\n",
       "      <td>0.084247</td>\n",
       "      <td>0.107208</td>\n",
       "      <td>0.129515</td>\n",
       "      <td>0.011154</td>\n",
       "      <td>HistGradientBoostingRegressor(max_depth=2, max...</td>\n",
       "    </tr>\n",
       "    <tr>\n",
       "      <th>4</th>\n",
       "      <td>LGBoost</td>\n",
       "      <td>0.119566</td>\n",
       "      <td>0.023849</td>\n",
       "      <td>0.178143</td>\n",
       "      <td>0.037595</td>\n",
       "      <td>0.108404</td>\n",
       "      <td>0.130727</td>\n",
       "      <td>0.011162</td>\n",
       "      <td>LGBMRegressor(max_depth=2, n_estimators=200, n...</td>\n",
       "    </tr>\n",
       "    <tr>\n",
       "      <th>5</th>\n",
       "      <td>XGBoost</td>\n",
       "      <td>0.120786</td>\n",
       "      <td>0.020643</td>\n",
       "      <td>0.495160</td>\n",
       "      <td>0.059735</td>\n",
       "      <td>0.111125</td>\n",
       "      <td>0.130447</td>\n",
       "      <td>0.009661</td>\n",
       "      <td>XGBRegressor(base_score=None, booster=None, ca...</td>\n",
       "    </tr>\n",
       "    <tr>\n",
       "      <th>6</th>\n",
       "      <td>Bagging</td>\n",
       "      <td>0.134981</td>\n",
       "      <td>0.027072</td>\n",
       "      <td>5.178789</td>\n",
       "      <td>0.398840</td>\n",
       "      <td>0.122311</td>\n",
       "      <td>0.147651</td>\n",
       "      <td>0.012670</td>\n",
       "      <td>(DecisionTreeRegressor(random_state=1952926171...</td>\n",
       "    </tr>\n",
       "    <tr>\n",
       "      <th>7</th>\n",
       "      <td>RF</td>\n",
       "      <td>0.136660</td>\n",
       "      <td>0.027193</td>\n",
       "      <td>2.602295</td>\n",
       "      <td>0.370086</td>\n",
       "      <td>0.123934</td>\n",
       "      <td>0.149387</td>\n",
       "      <td>0.012727</td>\n",
       "      <td>(DecisionTreeRegressor(max_depth=10, max_featu...</td>\n",
       "    </tr>\n",
       "    <tr>\n",
       "      <th>8</th>\n",
       "      <td>KNN</td>\n",
       "      <td>0.174142</td>\n",
       "      <td>0.026302</td>\n",
       "      <td>0.084264</td>\n",
       "      <td>0.007848</td>\n",
       "      <td>0.161832</td>\n",
       "      <td>0.186451</td>\n",
       "      <td>0.012310</td>\n",
       "      <td>KNeighborsRegressor(n_neighbors=15)</td>\n",
       "    </tr>\n",
       "  </tbody>\n",
       "</table>\n",
       "</div>"
      ],
      "text/plain": [
       "      Model  MeanScore  StdScore    FitTime  StdFitTime     CiMin     CiMax  \\\n",
       "0  Stacking   0.111476  0.021145  43.934728    2.529728  0.101580  0.121372   \n",
       "1    Voting   0.116308  0.024407   8.721865    0.683435  0.104885  0.127731   \n",
       "2       SVM   0.117609  0.017543   0.501347    0.064139  0.109399  0.125820   \n",
       "3   HGBoost   0.118362  0.023832   0.527692    0.084247  0.107208  0.129515   \n",
       "4   LGBoost   0.119566  0.023849   0.178143    0.037595  0.108404  0.130727   \n",
       "5   XGBoost   0.120786  0.020643   0.495160    0.059735  0.111125  0.130447   \n",
       "6   Bagging   0.134981  0.027072   5.178789    0.398840  0.122311  0.147651   \n",
       "7        RF   0.136660  0.027193   2.602295    0.370086  0.123934  0.149387   \n",
       "8       KNN   0.174142  0.026302   0.084264    0.007848  0.161832  0.186451   \n",
       "\n",
       "   MarginOfError                                          Estimator  \n",
       "0       0.009896  StackingRegressor(estimators=[('SVM', SVR(C=0....  \n",
       "1       0.011423  VotingRegressor(estimators=[('SVM', SVR(C=0.1,...  \n",
       "2       0.008211            SVR(C=0.1, gamma=0.01, kernel='linear')  \n",
       "3       0.011154  HistGradientBoostingRegressor(max_depth=2, max...  \n",
       "4       0.011162  LGBMRegressor(max_depth=2, n_estimators=200, n...  \n",
       "5       0.009661  XGBRegressor(base_score=None, booster=None, ca...  \n",
       "6       0.012670  (DecisionTreeRegressor(random_state=1952926171...  \n",
       "7       0.012727  (DecisionTreeRegressor(max_depth=10, max_featu...  \n",
       "8       0.012310                KNeighborsRegressor(n_neighbors=15)  "
      ]
     },
     "execution_count": 113,
     "metadata": {},
     "output_type": "execute_result"
    }
   ],
   "source": [
    "results_full2"
   ]
  },
  {
   "cell_type": "code",
   "execution_count": 114,
   "id": "2dee0784-932b-465e-bb71-110bf5f4fa11",
   "metadata": {},
   "outputs": [
    {
     "data": {
      "image/png": "[encoded data removed]",
      "text/plain": [
       "<Figure size 900x300 with 1 Axes>"
      ]
     },
     "metadata": {},
     "output_type": "display_data"
    }
   ],
   "source": [
    "f = plt.figure(figsize=(9,3))\n",
    "plt.scatter(\n",
    "    x=results_full2['Model'],\n",
    "    y=results_full2['MeanScore'],\n",
    "    s=30\n",
    ")\n",
    "plt.errorbar(\n",
    "    x=results_full2['Model'],\n",
    "    y=results_full2['MeanScore'],\n",
    "    yerr=results_full2['MarginOfError'],\n",
    "    elinewidth=1,\n",
    "    capsize=1.2,\n",
    "    capthick=1,\n",
    "    linestyle='none',\n",
    "    alpha=0.75\n",
    ")\n",
    "ylim_delta = 2*results_full2['MarginOfError'].max()\n",
    "ylim_min = results_full2['CiMin'].min() - 0.5*ylim_delta\n",
    "ylim_max = results_full2['CiMax'].max() + 0.5*ylim_delta\n",
    "plt.xlim(-1, len(results_full2))\n",
    "plt.ylim(ylim_min, ylim_max)\n",
    "plt.xticks(fontsize=9, weight='bold')\n",
    "plt.ylabel(str.upper('rmse'))\n",
    "plt.xlabel(str.upper('estimators'))\n",
    "plt.title(\n",
    "    'Comparing models after hyperparameters tuning', loc='left')\n",
    "plt.show()"
   ]
  },
  {
   "cell_type": "code",
   "execution_count": 115,
   "id": "3a01457f-1fc9-4bcf-9b62-ee0d1aeb6389",
   "metadata": {},
   "outputs": [
    {
     "data": {
      "image/png": "[encoded data removed]",
      "text/plain": [
       "<Figure size 900x300 with 1 Axes>"
      ]
     },
     "metadata": {},
     "output_type": "display_data"
    }
   ],
   "source": [
    "plt.figure(figsize=(9,3))\n",
    "sns.barplot(\n",
    "    x=results_full2['Model'],\n",
    "    y=results_full2['FitTime'],\n",
    "    width=0.5,\n",
    "    color=palette[0]\n",
    ")\n",
    "plt.errorbar(\n",
    "    x=results_full2['Model'],\n",
    "    y=results_full2['FitTime'],\n",
    "    yerr=results_full2['StdFitTime'],\n",
    "    linestyle='none',\n",
    "    color=palette[-1]\n",
    ")\n",
    "plt.show()"
   ]
  },
  {
   "cell_type": "markdown",
   "id": "b21589fe-f947-4876-81d3-594357f02239",
   "metadata": {},
   "source": [
    "## Results"
   ]
  },
  {
   "cell_type": "code",
   "execution_count": 116,
   "id": "c9ba3945-51ce-4b25-8ee8-cb897768d108",
   "metadata": {},
   "outputs": [],
   "source": [
    "results_full1_ = results_full1[['Model', 'MeanScore', 'MarginOfError', 'FitTime']].copy()\n",
    "results_full2_ = results_full2[['Model', 'MeanScore', 'MarginOfError', 'FitTime']].copy()"
   ]
  },
  {
   "cell_type": "code",
   "execution_count": 117,
   "id": "2fd153d7-7e6d-454a-93e5-cd693c5be024",
   "metadata": {},
   "outputs": [],
   "source": [
    "for col in results_full1_.columns[1:]:\n",
    "    results_full1_ = results_full1_.rename(columns={col: col+'_new'})\n",
    "\n",
    "for col in results_full2_.columns[1:]:\n",
    "    results_full2_ = results_full2_.rename(columns={col: col+'_original'})"
   ]
  },
  {
   "cell_type": "code",
   "execution_count": 118,
   "id": "702d8e74-0b93-4bdc-828c-c1e678884403",
   "metadata": {},
   "outputs": [],
   "source": [
    "results = results_full1_.merge(results_full2_, on='Model')"
   ]
  },
  {
   "cell_type": "code",
   "execution_count": 119,
   "id": "bbecb6fd-8219-491c-a17b-740897275d0f",
   "metadata": {},
   "outputs": [
    {
     "data": {
      "text/html": [
       "<div>\n",
       "<style scoped>\n",
       "    .dataframe tbody tr th:only-of-type {\n",
       "        vertical-align: middle;\n",
       "    }\n",
       "\n",
       "    .dataframe tbody tr th {\n",
       "        vertical-align: top;\n",
       "    }\n",
       "\n",
       "    .dataframe thead th {\n",
       "        text-align: right;\n",
       "    }\n",
       "</style>\n",
       "<table border=\"1\" class=\"dataframe\">\n",
       "  <thead>\n",
       "    <tr style=\"text-align: right;\">\n",
       "      <th></th>\n",
       "      <th>Model</th>\n",
       "      <th>MeanScore_new</th>\n",
       "      <th>MarginOfError_new</th>\n",
       "      <th>FitTime_new</th>\n",
       "      <th>MeanScore_original</th>\n",
       "      <th>MarginOfError_original</th>\n",
       "      <th>FitTime_original</th>\n",
       "    </tr>\n",
       "  </thead>\n",
       "  <tbody>\n",
       "    <tr>\n",
       "      <th>0</th>\n",
       "      <td>Stacking</td>\n",
       "      <td>0.111717</td>\n",
       "      <td>0.010457</td>\n",
       "      <td>49.557217</td>\n",
       "      <td>0.111476</td>\n",
       "      <td>0.009896</td>\n",
       "      <td>43.934728</td>\n",
       "    </tr>\n",
       "    <tr>\n",
       "      <th>1</th>\n",
       "      <td>SVM</td>\n",
       "      <td>0.114657</td>\n",
       "      <td>0.009123</td>\n",
       "      <td>0.607232</td>\n",
       "      <td>0.117609</td>\n",
       "      <td>0.008211</td>\n",
       "      <td>0.501347</td>\n",
       "    </tr>\n",
       "    <tr>\n",
       "      <th>2</th>\n",
       "      <td>Voting</td>\n",
       "      <td>0.116022</td>\n",
       "      <td>0.012014</td>\n",
       "      <td>9.807123</td>\n",
       "      <td>0.116308</td>\n",
       "      <td>0.011423</td>\n",
       "      <td>8.721865</td>\n",
       "    </tr>\n",
       "    <tr>\n",
       "      <th>3</th>\n",
       "      <td>LGBoost</td>\n",
       "      <td>0.120204</td>\n",
       "      <td>0.012911</td>\n",
       "      <td>0.164013</td>\n",
       "      <td>0.119566</td>\n",
       "      <td>0.011162</td>\n",
       "      <td>0.178143</td>\n",
       "    </tr>\n",
       "    <tr>\n",
       "      <th>4</th>\n",
       "      <td>HGBoost</td>\n",
       "      <td>0.120407</td>\n",
       "      <td>0.011328</td>\n",
       "      <td>0.430129</td>\n",
       "      <td>0.118362</td>\n",
       "      <td>0.011154</td>\n",
       "      <td>0.527692</td>\n",
       "    </tr>\n",
       "    <tr>\n",
       "      <th>5</th>\n",
       "      <td>XGBoost</td>\n",
       "      <td>0.121548</td>\n",
       "      <td>0.011191</td>\n",
       "      <td>0.278771</td>\n",
       "      <td>0.120786</td>\n",
       "      <td>0.009661</td>\n",
       "      <td>0.495160</td>\n",
       "    </tr>\n",
       "    <tr>\n",
       "      <th>6</th>\n",
       "      <td>Bagging</td>\n",
       "      <td>0.132469</td>\n",
       "      <td>0.012355</td>\n",
       "      <td>5.613951</td>\n",
       "      <td>0.134981</td>\n",
       "      <td>0.012670</td>\n",
       "      <td>5.178789</td>\n",
       "    </tr>\n",
       "    <tr>\n",
       "      <th>7</th>\n",
       "      <td>RF</td>\n",
       "      <td>0.134011</td>\n",
       "      <td>0.012298</td>\n",
       "      <td>2.988283</td>\n",
       "      <td>0.136660</td>\n",
       "      <td>0.012727</td>\n",
       "      <td>2.602295</td>\n",
       "    </tr>\n",
       "    <tr>\n",
       "      <th>8</th>\n",
       "      <td>KNN</td>\n",
       "      <td>0.174617</td>\n",
       "      <td>0.012768</td>\n",
       "      <td>0.081352</td>\n",
       "      <td>0.174142</td>\n",
       "      <td>0.012310</td>\n",
       "      <td>0.084264</td>\n",
       "    </tr>\n",
       "  </tbody>\n",
       "</table>\n",
       "</div>"
      ],
      "text/plain": [
       "      Model  MeanScore_new  MarginOfError_new  FitTime_new  \\\n",
       "0  Stacking       0.111717           0.010457    49.557217   \n",
       "1       SVM       0.114657           0.009123     0.607232   \n",
       "2    Voting       0.116022           0.012014     9.807123   \n",
       "3   LGBoost       0.120204           0.012911     0.164013   \n",
       "4   HGBoost       0.120407           0.011328     0.430129   \n",
       "5   XGBoost       0.121548           0.011191     0.278771   \n",
       "6   Bagging       0.132469           0.012355     5.613951   \n",
       "7        RF       0.134011           0.012298     2.988283   \n",
       "8       KNN       0.174617           0.012768     0.081352   \n",
       "\n",
       "   MeanScore_original  MarginOfError_original  FitTime_original  \n",
       "0            0.111476                0.009896         43.934728  \n",
       "1            0.117609                0.008211          0.501347  \n",
       "2            0.116308                0.011423          8.721865  \n",
       "3            0.119566                0.011162          0.178143  \n",
       "4            0.118362                0.011154          0.527692  \n",
       "5            0.120786                0.009661          0.495160  \n",
       "6            0.134981                0.012670          5.178789  \n",
       "7            0.136660                0.012727          2.602295  \n",
       "8            0.174142                0.012310          0.084264  "
      ]
     },
     "execution_count": 119,
     "metadata": {},
     "output_type": "execute_result"
    }
   ],
   "source": [
    "results"
   ]
  },
  {
   "cell_type": "code",
   "execution_count": 120,
   "id": "1e333411-cf3c-48c4-8394-4925620c4d53",
   "metadata": {},
   "outputs": [],
   "source": [
    "results_columns_new = [\n",
    "    'Model', 'MeanScore_new', 'MeanScore_original',\n",
    "    'MarginOfError_new', 'MarginOfError_original',\n",
    "    'FitTime_new', 'FitTime_original'\n",
    "]"
   ]
  },
  {
   "cell_type": "code",
   "execution_count": 121,
   "id": "b9fa9e86-3e25-43da-95c8-51ec17d5aa8d",
   "metadata": {},
   "outputs": [],
   "source": [
    "results = results[results_columns_new]"
   ]
  },
  {
   "cell_type": "code",
   "execution_count": 122,
   "id": "18cefd98-092c-44d6-b59f-08340d61e5f1",
   "metadata": {},
   "outputs": [
    {
     "data": {
      "text/html": [
       "<div>\n",
       "<style scoped>\n",
       "    .dataframe tbody tr th:only-of-type {\n",
       "        vertical-align: middle;\n",
       "    }\n",
       "\n",
       "    .dataframe tbody tr th {\n",
       "        vertical-align: top;\n",
       "    }\n",
       "\n",
       "    .dataframe thead th {\n",
       "        text-align: right;\n",
       "    }\n",
       "</style>\n",
       "<table border=\"1\" class=\"dataframe\">\n",
       "  <thead>\n",
       "    <tr style=\"text-align: right;\">\n",
       "      <th></th>\n",
       "      <th>Model</th>\n",
       "      <th>MeanScore_new</th>\n",
       "      <th>MeanScore_original</th>\n",
       "      <th>MarginOfError_new</th>\n",
       "      <th>MarginOfError_original</th>\n",
       "      <th>FitTime_new</th>\n",
       "      <th>FitTime_original</th>\n",
       "    </tr>\n",
       "  </thead>\n",
       "  <tbody>\n",
       "    <tr>\n",
       "      <th>0</th>\n",
       "      <td>Stacking</td>\n",
       "      <td>0.111717</td>\n",
       "      <td>0.111476</td>\n",
       "      <td>0.010457</td>\n",
       "      <td>0.009896</td>\n",
       "      <td>49.557217</td>\n",
       "      <td>43.934728</td>\n",
       "    </tr>\n",
       "    <tr>\n",
       "      <th>1</th>\n",
       "      <td>SVM</td>\n",
       "      <td>0.114657</td>\n",
       "      <td>0.117609</td>\n",
       "      <td>0.009123</td>\n",
       "      <td>0.008211</td>\n",
       "      <td>0.607232</td>\n",
       "      <td>0.501347</td>\n",
       "    </tr>\n",
       "    <tr>\n",
       "      <th>2</th>\n",
       "      <td>Voting</td>\n",
       "      <td>0.116022</td>\n",
       "      <td>0.116308</td>\n",
       "      <td>0.012014</td>\n",
       "      <td>0.011423</td>\n",
       "      <td>9.807123</td>\n",
       "      <td>8.721865</td>\n",
       "    </tr>\n",
       "    <tr>\n",
       "      <th>3</th>\n",
       "      <td>LGBoost</td>\n",
       "      <td>0.120204</td>\n",
       "      <td>0.119566</td>\n",
       "      <td>0.012911</td>\n",
       "      <td>0.011162</td>\n",
       "      <td>0.164013</td>\n",
       "      <td>0.178143</td>\n",
       "    </tr>\n",
       "    <tr>\n",
       "      <th>4</th>\n",
       "      <td>HGBoost</td>\n",
       "      <td>0.120407</td>\n",
       "      <td>0.118362</td>\n",
       "      <td>0.011328</td>\n",
       "      <td>0.011154</td>\n",
       "      <td>0.430129</td>\n",
       "      <td>0.527692</td>\n",
       "    </tr>\n",
       "    <tr>\n",
       "      <th>5</th>\n",
       "      <td>XGBoost</td>\n",
       "      <td>0.121548</td>\n",
       "      <td>0.120786</td>\n",
       "      <td>0.011191</td>\n",
       "      <td>0.009661</td>\n",
       "      <td>0.278771</td>\n",
       "      <td>0.495160</td>\n",
       "    </tr>\n",
       "    <tr>\n",
       "      <th>6</th>\n",
       "      <td>Bagging</td>\n",
       "      <td>0.132469</td>\n",
       "      <td>0.134981</td>\n",
       "      <td>0.012355</td>\n",
       "      <td>0.012670</td>\n",
       "      <td>5.613951</td>\n",
       "      <td>5.178789</td>\n",
       "    </tr>\n",
       "    <tr>\n",
       "      <th>7</th>\n",
       "      <td>RF</td>\n",
       "      <td>0.134011</td>\n",
       "      <td>0.136660</td>\n",
       "      <td>0.012298</td>\n",
       "      <td>0.012727</td>\n",
       "      <td>2.988283</td>\n",
       "      <td>2.602295</td>\n",
       "    </tr>\n",
       "    <tr>\n",
       "      <th>8</th>\n",
       "      <td>KNN</td>\n",
       "      <td>0.174617</td>\n",
       "      <td>0.174142</td>\n",
       "      <td>0.012768</td>\n",
       "      <td>0.012310</td>\n",
       "      <td>0.081352</td>\n",
       "      <td>0.084264</td>\n",
       "    </tr>\n",
       "  </tbody>\n",
       "</table>\n",
       "</div>"
      ],
      "text/plain": [
       "      Model  MeanScore_new  MeanScore_original  MarginOfError_new  \\\n",
       "0  Stacking       0.111717            0.111476           0.010457   \n",
       "1       SVM       0.114657            0.117609           0.009123   \n",
       "2    Voting       0.116022            0.116308           0.012014   \n",
       "3   LGBoost       0.120204            0.119566           0.012911   \n",
       "4   HGBoost       0.120407            0.118362           0.011328   \n",
       "5   XGBoost       0.121548            0.120786           0.011191   \n",
       "6   Bagging       0.132469            0.134981           0.012355   \n",
       "7        RF       0.134011            0.136660           0.012298   \n",
       "8       KNN       0.174617            0.174142           0.012768   \n",
       "\n",
       "   MarginOfError_original  FitTime_new  FitTime_original  \n",
       "0                0.009896    49.557217         43.934728  \n",
       "1                0.008211     0.607232          0.501347  \n",
       "2                0.011423     9.807123          8.721865  \n",
       "3                0.011162     0.164013          0.178143  \n",
       "4                0.011154     0.430129          0.527692  \n",
       "5                0.009661     0.278771          0.495160  \n",
       "6                0.012670     5.613951          5.178789  \n",
       "7                0.012727     2.988283          2.602295  \n",
       "8                0.012310     0.081352          0.084264  "
      ]
     },
     "execution_count": 122,
     "metadata": {},
     "output_type": "execute_result"
    }
   ],
   "source": [
    "results"
   ]
  },
  {
   "cell_type": "code",
   "execution_count": 123,
   "id": "76a6523d-0edb-4825-8bf0-c2858584531a",
   "metadata": {},
   "outputs": [],
   "source": [
    "xtickslabels = [\n",
    "    'Stacking', 'SVM', 'Voting', 'LGBoost', 'HGBoost',\n",
    "    'XGBoost', 'Bagging', 'RF', 'KNN']\n",
    "xticks_ft = np.arange(1, len(results['Model'])+1)\n",
    "results_delta = 0.08\n",
    "x1 = xticks_ft + results_delta\n",
    "x2 = xticks_ft - results_delta\n",
    "\n",
    "y1 = results['MeanScore_new'].tolist()\n",
    "y2 = results['MeanScore_original'].tolist()"
   ]
  },
  {
   "cell_type": "code",
   "execution_count": 8,
   "id": "0ccead9a-c88d-405a-8ef5-e2186dad34c0",
   "metadata": {},
   "outputs": [
    {
     "data": {
      "image/png": "[encoded data removed]",
      "text/plain": [
       "<Figure size 900x400 with 2 Axes>"
      ]
     },
     "metadata": {},
     "output_type": "display_data"
    },
    {
     "name": "stdout",
     "output_type": "stream",
     "text": [
      "Image 'ml_models_plot.png' successfully saved into 'img/Section7-ML-models' directory\n"
     ]
    }
   ],
   "source": [
    "fig, ax = plt.subplots(2, 1, figsize=(9, 4), height_ratios=[2.5, 1])\n",
    "\n",
    "# feaures plot\n",
    "plt.subplot(2,1,1)\n",
    "\n",
    "# AX0\n",
    "# original features\n",
    "ax[0].scatter(\n",
    "    x=x2,\n",
    "    y=y2,\n",
    "    label='Original features',\n",
    "    s=5,\n",
    "    color=palette[0],\n",
    "    zorder=5,\n",
    "    alpha=0.9,\n",
    ")\n",
    "ax[0].errorbar(\n",
    "    x=x2,\n",
    "    y=y2,\n",
    "    yerr=results['MarginOfError_original'],\n",
    "    elinewidth=1,\n",
    "    capsize=1.5,\n",
    "    capthick=1,\n",
    "    linestyle='none',\n",
    "    alpha=0.9,\n",
    "    color=palette[0]\n",
    ")\n",
    "# new features\n",
    "ax[0].scatter(\n",
    "    x=x1,\n",
    "    y=y1,\n",
    "    label='New features',\n",
    "    s=5,\n",
    "    color=palette[1],\n",
    "    zorder=5,\n",
    "    alpha=0.9\n",
    ")\n",
    "ax[0].errorbar(\n",
    "    x=x1,\n",
    "    y=y1,\n",
    "    yerr=results['MarginOfError_new'],\n",
    "    elinewidth=1,\n",
    "    capsize=1.1,\n",
    "    capthick=1,\n",
    "    linestyle='none',\n",
    "    alpha=0.9,\n",
    "    color=palette[1]\n",
    ")\n",
    "# connection lines\n",
    "ax[0].plot([x1,x2], [y1,y2], lw=0.5, color=palette[0], alpha=0.5)\n",
    "# spines\n",
    "ax[0].spines['bottom'].set_visible(False)\n",
    "ax[0].spines['left'].set_position(('outward', 5))\n",
    "ax[0].spines['left'].set_color(custom_axis_color)\n",
    "ax[0].spines['left'].set_bounds(0.08, 0.18)\n",
    "ax[0].spines['left'].set_linewidth(custom_axis_linewidth)\n",
    "# ticks parameters\n",
    "ax[0].tick_params(\n",
    "    bottom=False, direction='out', pad=11, color=custom_axis_color)\n",
    "ax[0].tick_params(axis='y', pad=7)\n",
    "ax[0].tick_params(axis='x', pad=7)\n",
    "# xticks and limits\n",
    "ax0_xticks = np.arange(1, 10)\n",
    "ax[0].set_xticks(ax0_xticks)\n",
    "ax[0].set_xticklabels(\n",
    "    xtickslabels, weight='bold', fontsize=9, color=palette[0])\n",
    "ax[0].set_xlim(0.5, 9.25)\n",
    "# yticks and limits\n",
    "ax0_yticks = arange(0.08, 0.18, 0.02, True)\n",
    "ax[0].set_yticks(ax0_yticks)\n",
    "ax[0].set_ylim(0.08, 0.19)\n",
    "# ylabel\n",
    "ax[0].set_ylabel('RMSE')\n",
    "# grid false\n",
    "ax[0].grid(False)\n",
    "# generate grid\n",
    "# horizontal lines\n",
    "for i in ax0_yticks[1:-1]:\n",
    "    ax[0].hlines(\n",
    "        i, ax[0].get_xlim()[0], ax[0].get_xlim()[-1],\n",
    "        lw=0.5, ls=':', color='0.85')\n",
    "# vertical lines\n",
    "for i in ax0_xticks:\n",
    "    ax[0].vlines(\n",
    "        i, ax[0].get_ylim()[0], ax0_yticks[-1],\n",
    "        lw=0.5, ls=':', color='0.85')\n",
    "\n",
    "# AX1\n",
    "plt.subplot(2,1,2)\n",
    "ax[1].scatter(\n",
    "    x=xticks_ft, y=-results['FitTime_new'],\n",
    "    marker='|', s=10, lw=1, color=palette[1], alpha=1\n",
    ")\n",
    "ax[1].scatter(\n",
    "    x=xticks_ft, y=-results['FitTime_original'],\n",
    "    marker='|', s=10, lw=1, color=palette[0], alpha=1\n",
    ")\n",
    "# connection lines\n",
    "ax[1].plot(\n",
    "    xticks_ft, -results['FitTime_new'],\n",
    "    lw=0.5, color=palette[1], alpha=0.25)\n",
    "ax[1].plot(\n",
    "    xticks_ft, -results['FitTime_original'],\n",
    "    lw=0.5, color=palette[0], alpha=0.25)\n",
    "# set visible top xaxis and hide bottom xaxis\n",
    "ax[1].spines['bottom'].set_visible(False)\n",
    "ax[1].spines['top'].set_visible(False)\n",
    "ax[1].spines['left'].set_position(('outward', 5))\n",
    "ax[1].spines['left'].set_color(custom_axis_color)\n",
    "ax[1].spines['left'].set_bounds(-20, 0)\n",
    "ax[1].spines['left'].set_linewidth(custom_axis_linewidth)\n",
    "# xticks parameters\n",
    "ax[1].tick_params(\n",
    "    top=False, bottom=False, labeltop=False, labelbottom=False,\n",
    "    direction='out', pad=9, color=custom_axis_color)\n",
    "# xticks and limits\n",
    "ax1_xticks = np.arange(1, 10)\n",
    "ax[1].set_xticks(ax1_xticks)\n",
    "ax[1].set_xticklabels(\n",
    "    xtickslabels, weight='bold', fontsize=9, color='0.4')\n",
    "ax[1].set_xlim(0.5, 9.25)\n",
    "# yticks and limits\n",
    "ax1_yticks = arange(-20, 0, 10, True)\n",
    "ax[1].set_yticks(ax1_yticks)\n",
    "ax[1].set_ylim(-20, 5)\n",
    "# ylabel\n",
    "ax[1].set_ylabel('Fit time')\n",
    "# grid false\n",
    "ax[1].grid(False)\n",
    "# generate grid\n",
    "# horizontal lines\n",
    "for i in ax1_yticks[1:-1]:\n",
    "    ax[1].hlines(i, ax[1].get_xlim()[0], ax[1].get_xlim()[-1], lw=0.5, ls=':', color='0.85')\n",
    "# vertical lines\n",
    "for i in ax1_xticks:\n",
    "    ax[1].vlines(i, ax[1].get_ylim()[0], ax1_yticks[-1], lw=0.5, ls=':', color='0.85')\n",
    "# legend\n",
    "ax[0].legend(\n",
    "    ncols=2, bbox_to_anchor=(0, 0.94), loc='lower left', frameon=False,\n",
    "    fontsize=8, alignment='left', markerscale=1,\n",
    "    handletextpad=0.5, handlelength=0.75, scatteryoffsets=[0.5]\n",
    ")\n",
    "# adjust\n",
    "plt.subplots_adjust(hspace=0.2)\n",
    "plt.show()\n",
    "\n",
    "savefig('ml_models_plot', dir_save)"
   ]
  },
  {
   "cell_type": "markdown",
   "id": "96aa190d-f3b0-4928-9b6d-1da0caaa16b4",
   "metadata": {},
   "source": [
    "### Save Data"
   ]
  },
  {
   "cell_type": "code",
   "execution_count": 125,
   "id": "37b33cba-76e9-4d09-bdbb-e2e7308c295f",
   "metadata": {},
   "outputs": [],
   "source": [
    "stack = StackingRegressor(\n",
    "    estimators=estimators2,\n",
    "    final_estimator=final_estimator2)"
   ]
  },
  {
   "cell_type": "code",
   "execution_count": 126,
   "id": "f4cddb4d-0233-4712-805c-976cef09df5e",
   "metadata": {},
   "outputs": [
    {
     "data": {
      "text/html": [
       "<style>#sk-container-id-6 {color: black;}#sk-container-id-6 pre{padding: 0;}#sk-container-id-6 div.sk-toggleable {background-color: white;}#sk-container-id-6 label.sk-toggleable__label {cursor: pointer;display: block;width: 100%;margin-bottom: 0;padding: 0.3em;box-sizing: border-box;text-align: center;}#sk-container-id-6 label.sk-toggleable__label-arrow:before {content: \"▸\";float: left;margin-right: 0.25em;color: #696969;}#sk-container-id-6 label.sk-toggleable__label-arrow:hover:before {color: black;}#sk-container-id-6 div.sk-estimator:hover label.sk-toggleable__label-arrow:before {color: black;}#sk-container-id-6 div.sk-toggleable__content {max-height: 0;max-width: 0;overflow: hidden;text-align: left;background-color: #f0f8ff;}#sk-container-id-6 div.sk-toggleable__content pre {margin: 0.2em;color: black;border-radius: 0.25em;background-color: #f0f8ff;}#sk-container-id-6 input.sk-toggleable__control:checked~div.sk-toggleable__content {max-height: 200px;max-width: 100%;overflow: auto;}#sk-container-id-6 input.sk-toggleable__control:checked~label.sk-toggleable__label-arrow:before {content: \"▾\";}#sk-container-id-6 div.sk-estimator input.sk-toggleable__control:checked~label.sk-toggleable__label {background-color: #d4ebff;}#sk-container-id-6 div.sk-label input.sk-toggleable__control:checked~label.sk-toggleable__label {background-color: #d4ebff;}#sk-container-id-6 input.sk-hidden--visually {border: 0;clip: rect(1px 1px 1px 1px);clip: rect(1px, 1px, 1px, 1px);height: 1px;margin: -1px;overflow: hidden;padding: 0;position: absolute;width: 1px;}#sk-container-id-6 div.sk-estimator {font-family: monospace;background-color: #f0f8ff;border: 1px dotted black;border-radius: 0.25em;box-sizing: border-box;margin-bottom: 0.5em;}#sk-container-id-6 div.sk-estimator:hover {background-color: #d4ebff;}#sk-container-id-6 div.sk-parallel-item::after {content: \"\";width: 100%;border-bottom: 1px solid gray;flex-grow: 1;}#sk-container-id-6 div.sk-label:hover label.sk-toggleable__label {background-color: #d4ebff;}#sk-container-id-6 div.sk-serial::before {content: \"\";position: absolute;border-left: 1px solid gray;box-sizing: border-box;top: 0;bottom: 0;left: 50%;z-index: 0;}#sk-container-id-6 div.sk-serial {display: flex;flex-direction: column;align-items: center;background-color: white;padding-right: 0.2em;padding-left: 0.2em;position: relative;}#sk-container-id-6 div.sk-item {position: relative;z-index: 1;}#sk-container-id-6 div.sk-parallel {display: flex;align-items: stretch;justify-content: center;background-color: white;position: relative;}#sk-container-id-6 div.sk-item::before, #sk-container-id-6 div.sk-parallel-item::before {content: \"\";position: absolute;border-left: 1px solid gray;box-sizing: border-box;top: 0;bottom: 0;left: 50%;z-index: -1;}#sk-container-id-6 div.sk-parallel-item {display: flex;flex-direction: column;z-index: 1;position: relative;background-color: white;}#sk-container-id-6 div.sk-parallel-item:first-child::after {align-self: flex-end;width: 50%;}#sk-container-id-6 div.sk-parallel-item:last-child::after {align-self: flex-start;width: 50%;}#sk-container-id-6 div.sk-parallel-item:only-child::after {width: 0;}#sk-container-id-6 div.sk-dashed-wrapped {border: 1px dashed gray;margin: 0 0.4em 0.5em 0.4em;box-sizing: border-box;padding-bottom: 0.4em;background-color: white;}#sk-container-id-6 div.sk-label label {font-family: monospace;font-weight: bold;display: inline-block;line-height: 1.2em;}#sk-container-id-6 div.sk-label-container {text-align: center;}#sk-container-id-6 div.sk-container {/* jupyter's `normalize.less` sets `[hidden] { display: none; }` but bootstrap.min.css set `[hidden] { display: none !important; }` so we also need the `!important` here to be able to override the default hidden behavior on the sphinx rendered scikit-learn.org. See: https://github.com/scikit-learn/scikit-learn/issues/21755 */display: inline-block !important;position: relative;}#sk-container-id-6 div.sk-text-repr-fallback {display: none;}</style><div id=\"sk-container-id-6\" class=\"sk-top-container\"><div class=\"sk-text-repr-fallback\"><pre>StackingRegressor(estimators=[(&#x27;SVM&#x27;, SVR(C=0.1, gamma=0.01, kernel=&#x27;linear&#x27;)),\n",
       "                              (&#x27;RF&#x27;,\n",
       "                               RandomForestRegressor(max_depth=10,\n",
       "                                                     random_state=42)),\n",
       "                              (&#x27;Bagging&#x27;,\n",
       "                               BaggingRegressor(n_estimators=150,\n",
       "                                                random_state=42)),\n",
       "                              (&#x27;LGBoost&#x27;,\n",
       "                               LGBMRegressor(max_depth=2, n_estimators=200,\n",
       "                                             num_leaves=25, random_state=42,\n",
       "                                             verbose=-1)),\n",
       "                              (&#x27;HGBoost&#x27;,\n",
       "                               HistGradientBoostingRegressor(max_depth=2,\n",
       "                                                             ma...\n",
       "                                            importance_type=None,\n",
       "                                            interaction_constraints=None,\n",
       "                                            learning_rate=0.1, max_bin=None,\n",
       "                                            max_cat_threshold=None,\n",
       "                                            max_cat_to_onehot=None,\n",
       "                                            max_delta_step=None, max_depth=4,\n",
       "                                            max_leaves=None,\n",
       "                                            min_child_weight=None, missing=nan,\n",
       "                                            monotone_constraints=None,\n",
       "                                            multi_strategy=None,\n",
       "                                            n_estimators=200, n_jobs=None,\n",
       "                                            num_parallel_tree=None,\n",
       "                                            random_state=42, ...))],\n",
       "                  final_estimator=RidgeCV())</pre><b>In a Jupyter environment, please rerun this cell to show the HTML representation or trust the notebook. <br />On GitHub, the HTML representation is unable to render, please try loading this page with nbviewer.org.</b></div><div class=\"sk-container\" hidden><div class=\"sk-item sk-dashed-wrapped\"><div class=\"sk-label-container\"><div class=\"sk-label sk-toggleable\"><input class=\"sk-toggleable__control sk-hidden--visually\" id=\"sk-estimator-id-34\" type=\"checkbox\" ><label for=\"sk-estimator-id-34\" class=\"sk-toggleable__label sk-toggleable__label-arrow\">StackingRegressor</label><div class=\"sk-toggleable__content\"><pre>StackingRegressor(estimators=[(&#x27;SVM&#x27;, SVR(C=0.1, gamma=0.01, kernel=&#x27;linear&#x27;)),\n",
       "                              (&#x27;RF&#x27;,\n",
       "                               RandomForestRegressor(max_depth=10,\n",
       "                                                     random_state=42)),\n",
       "                              (&#x27;Bagging&#x27;,\n",
       "                               BaggingRegressor(n_estimators=150,\n",
       "                                                random_state=42)),\n",
       "                              (&#x27;LGBoost&#x27;,\n",
       "                               LGBMRegressor(max_depth=2, n_estimators=200,\n",
       "                                             num_leaves=25, random_state=42,\n",
       "                                             verbose=-1)),\n",
       "                              (&#x27;HGBoost&#x27;,\n",
       "                               HistGradientBoostingRegressor(max_depth=2,\n",
       "                                                             ma...\n",
       "                                            importance_type=None,\n",
       "                                            interaction_constraints=None,\n",
       "                                            learning_rate=0.1, max_bin=None,\n",
       "                                            max_cat_threshold=None,\n",
       "                                            max_cat_to_onehot=None,\n",
       "                                            max_delta_step=None, max_depth=4,\n",
       "                                            max_leaves=None,\n",
       "                                            min_child_weight=None, missing=nan,\n",
       "                                            monotone_constraints=None,\n",
       "                                            multi_strategy=None,\n",
       "                                            n_estimators=200, n_jobs=None,\n",
       "                                            num_parallel_tree=None,\n",
       "                                            random_state=42, ...))],\n",
       "                  final_estimator=RidgeCV())</pre></div></div></div><div class=\"sk-serial\"><div class=\"sk-item\"><div class=\"sk-parallel\"><div class=\"sk-parallel-item\"><div class=\"sk-item\"><div class=\"sk-label-container\"><div class=\"sk-label sk-toggleable\"><label>SVM</label></div></div><div class=\"sk-serial\"><div class=\"sk-item\"><div class=\"sk-estimator sk-toggleable\"><input class=\"sk-toggleable__control sk-hidden--visually\" id=\"sk-estimator-id-35\" type=\"checkbox\" ><label for=\"sk-estimator-id-35\" class=\"sk-toggleable__label sk-toggleable__label-arrow\">SVR</label><div class=\"sk-toggleable__content\"><pre>SVR(C=0.1, gamma=0.01, kernel=&#x27;linear&#x27;)</pre></div></div></div></div></div></div><div class=\"sk-parallel-item\"><div class=\"sk-item\"><div class=\"sk-label-container\"><div class=\"sk-label sk-toggleable\"><label>RF</label></div></div><div class=\"sk-serial\"><div class=\"sk-item\"><div class=\"sk-estimator sk-toggleable\"><input class=\"sk-toggleable__control sk-hidden--visually\" id=\"sk-estimator-id-36\" type=\"checkbox\" ><label for=\"sk-estimator-id-36\" class=\"sk-toggleable__label sk-toggleable__label-arrow\">RandomForestRegressor</label><div class=\"sk-toggleable__content\"><pre>RandomForestRegressor(max_depth=10, random_state=42)</pre></div></div></div></div></div></div><div class=\"sk-parallel-item\"><div class=\"sk-item\"><div class=\"sk-label-container\"><div class=\"sk-label sk-toggleable\"><label>Bagging</label></div></div><div class=\"sk-serial\"><div class=\"sk-item\"><div class=\"sk-estimator sk-toggleable\"><input class=\"sk-toggleable__control sk-hidden--visually\" id=\"sk-estimator-id-37\" type=\"checkbox\" ><label for=\"sk-estimator-id-37\" class=\"sk-toggleable__label sk-toggleable__label-arrow\">BaggingRegressor</label><div class=\"sk-toggleable__content\"><pre>BaggingRegressor(n_estimators=150, random_state=42)</pre></div></div></div></div></div></div><div class=\"sk-parallel-item\"><div class=\"sk-item\"><div class=\"sk-label-container\"><div class=\"sk-label sk-toggleable\"><label>LGBoost</label></div></div><div class=\"sk-serial\"><div class=\"sk-item\"><div class=\"sk-estimator sk-toggleable\"><input class=\"sk-toggleable__control sk-hidden--visually\" id=\"sk-estimator-id-38\" type=\"checkbox\" ><label for=\"sk-estimator-id-38\" class=\"sk-toggleable__label sk-toggleable__label-arrow\">LGBMRegressor</label><div class=\"sk-toggleable__content\"><pre>LGBMRegressor(max_depth=2, n_estimators=200, num_leaves=25, random_state=42,\n",
       "              verbose=-1)</pre></div></div></div></div></div></div><div class=\"sk-parallel-item\"><div class=\"sk-item\"><div class=\"sk-label-container\"><div class=\"sk-label sk-toggleable\"><label>HGBoost</label></div></div><div class=\"sk-serial\"><div class=\"sk-item\"><div class=\"sk-estimator sk-toggleable\"><input class=\"sk-toggleable__control sk-hidden--visually\" id=\"sk-estimator-id-39\" type=\"checkbox\" ><label for=\"sk-estimator-id-39\" class=\"sk-toggleable__label sk-toggleable__label-arrow\">HistGradientBoostingRegressor</label><div class=\"sk-toggleable__content\"><pre>HistGradientBoostingRegressor(max_depth=2, max_iter=300, random_state=42)</pre></div></div></div></div></div></div><div class=\"sk-parallel-item\"><div class=\"sk-item\"><div class=\"sk-label-container\"><div class=\"sk-label sk-toggleable\"><label>XGBoost</label></div></div><div class=\"sk-serial\"><div class=\"sk-item\"><div class=\"sk-estimator sk-toggleable\"><input class=\"sk-toggleable__control sk-hidden--visually\" id=\"sk-estimator-id-40\" type=\"checkbox\" ><label for=\"sk-estimator-id-40\" class=\"sk-toggleable__label sk-toggleable__label-arrow\">XGBRegressor</label><div class=\"sk-toggleable__content\"><pre>XGBRegressor(base_score=None, booster=None, callbacks=None,\n",
       "             colsample_bylevel=None, colsample_bynode=None,\n",
       "             colsample_bytree=None, device=None, early_stopping_rounds=None,\n",
       "             enable_categorical=False, eval_metric=None, feature_types=None,\n",
       "             gamma=None, grow_policy=None, importance_type=None,\n",
       "             interaction_constraints=None, learning_rate=0.1, max_bin=None,\n",
       "             max_cat_threshold=None, max_cat_to_onehot=None,\n",
       "             max_delta_step=None, max_depth=4, max_leaves=None,\n",
       "             min_child_weight=None, missing=nan, monotone_constraints=None,\n",
       "             multi_strategy=None, n_estimators=200, n_jobs=None,\n",
       "             num_parallel_tree=None, random_state=42, ...)</pre></div></div></div></div></div></div></div></div><div class=\"sk-item\"><div class=\"sk-parallel\"><div class=\"sk-parallel-item\"><div class=\"sk-item\"><div class=\"sk-label-container\"><div class=\"sk-label sk-toggleable\"><label>final_estimator</label></div></div><div class=\"sk-serial\"><div class=\"sk-item\"><div class=\"sk-estimator sk-toggleable\"><input class=\"sk-toggleable__control sk-hidden--visually\" id=\"sk-estimator-id-41\" type=\"checkbox\" ><label for=\"sk-estimator-id-41\" class=\"sk-toggleable__label sk-toggleable__label-arrow\">RidgeCV</label><div class=\"sk-toggleable__content\"><pre>RidgeCV()</pre></div></div></div></div></div></div></div></div></div></div></div></div>"
      ],
      "text/plain": [
       "StackingRegressor(estimators=[('SVM', SVR(C=0.1, gamma=0.01, kernel='linear')),\n",
       "                              ('RF',\n",
       "                               RandomForestRegressor(max_depth=10,\n",
       "                                                     random_state=42)),\n",
       "                              ('Bagging',\n",
       "                               BaggingRegressor(n_estimators=150,\n",
       "                                                random_state=42)),\n",
       "                              ('LGBoost',\n",
       "                               LGBMRegressor(max_depth=2, n_estimators=200,\n",
       "                                             num_leaves=25, random_state=42,\n",
       "                                             verbose=-1)),\n",
       "                              ('HGBoost',\n",
       "                               HistGradientBoostingRegressor(max_depth=2,\n",
       "                                                             ma...\n",
       "                                            importance_type=None,\n",
       "                                            interaction_constraints=None,\n",
       "                                            learning_rate=0.1, max_bin=None,\n",
       "                                            max_cat_threshold=None,\n",
       "                                            max_cat_to_onehot=None,\n",
       "                                            max_delta_step=None, max_depth=4,\n",
       "                                            max_leaves=None,\n",
       "                                            min_child_weight=None, missing=nan,\n",
       "                                            monotone_constraints=None,\n",
       "                                            multi_strategy=None,\n",
       "                                            n_estimators=200, n_jobs=None,\n",
       "                                            num_parallel_tree=None,\n",
       "                                            random_state=42, ...))],\n",
       "                  final_estimator=RidgeCV())"
      ]
     },
     "execution_count": 126,
     "metadata": {},
     "output_type": "execute_result"
    }
   ],
   "source": [
    "stack.fit(train_fit[features_raw], train_fit[target])"
   ]
  },
  {
   "cell_type": "code",
   "execution_count": 127,
   "id": "efd0aa26-186f-4f23-b9bd-892d245a6bf4",
   "metadata": {},
   "outputs": [],
   "source": [
    "params_svr = params_best_dict1['SVM']"
   ]
  },
  {
   "cell_type": "code",
   "execution_count": 128,
   "id": "1a99d96a-3b73-4a23-95dc-0a454a24a2e0",
   "metadata": {},
   "outputs": [],
   "source": [
    "svr = SVR(**params_svr)"
   ]
  },
  {
   "cell_type": "code",
   "execution_count": 129,
   "id": "3bc0c2b8-dcb8-4380-a97b-a41f00fd4f76",
   "metadata": {},
   "outputs": [
    {
     "data": {
      "text/html": [
       "<style>#sk-container-id-7 {color: black;}#sk-container-id-7 pre{padding: 0;}#sk-container-id-7 div.sk-toggleable {background-color: white;}#sk-container-id-7 label.sk-toggleable__label {cursor: pointer;display: block;width: 100%;margin-bottom: 0;padding: 0.3em;box-sizing: border-box;text-align: center;}#sk-container-id-7 label.sk-toggleable__label-arrow:before {content: \"▸\";float: left;margin-right: 0.25em;color: #696969;}#sk-container-id-7 label.sk-toggleable__label-arrow:hover:before {color: black;}#sk-container-id-7 div.sk-estimator:hover label.sk-toggleable__label-arrow:before {color: black;}#sk-container-id-7 div.sk-toggleable__content {max-height: 0;max-width: 0;overflow: hidden;text-align: left;background-color: #f0f8ff;}#sk-container-id-7 div.sk-toggleable__content pre {margin: 0.2em;color: black;border-radius: 0.25em;background-color: #f0f8ff;}#sk-container-id-7 input.sk-toggleable__control:checked~div.sk-toggleable__content {max-height: 200px;max-width: 100%;overflow: auto;}#sk-container-id-7 input.sk-toggleable__control:checked~label.sk-toggleable__label-arrow:before {content: \"▾\";}#sk-container-id-7 div.sk-estimator input.sk-toggleable__control:checked~label.sk-toggleable__label {background-color: #d4ebff;}#sk-container-id-7 div.sk-label input.sk-toggleable__control:checked~label.sk-toggleable__label {background-color: #d4ebff;}#sk-container-id-7 input.sk-hidden--visually {border: 0;clip: rect(1px 1px 1px 1px);clip: rect(1px, 1px, 1px, 1px);height: 1px;margin: -1px;overflow: hidden;padding: 0;position: absolute;width: 1px;}#sk-container-id-7 div.sk-estimator {font-family: monospace;background-color: #f0f8ff;border: 1px dotted black;border-radius: 0.25em;box-sizing: border-box;margin-bottom: 0.5em;}#sk-container-id-7 div.sk-estimator:hover {background-color: #d4ebff;}#sk-container-id-7 div.sk-parallel-item::after {content: \"\";width: 100%;border-bottom: 1px solid gray;flex-grow: 1;}#sk-container-id-7 div.sk-label:hover label.sk-toggleable__label {background-color: #d4ebff;}#sk-container-id-7 div.sk-serial::before {content: \"\";position: absolute;border-left: 1px solid gray;box-sizing: border-box;top: 0;bottom: 0;left: 50%;z-index: 0;}#sk-container-id-7 div.sk-serial {display: flex;flex-direction: column;align-items: center;background-color: white;padding-right: 0.2em;padding-left: 0.2em;position: relative;}#sk-container-id-7 div.sk-item {position: relative;z-index: 1;}#sk-container-id-7 div.sk-parallel {display: flex;align-items: stretch;justify-content: center;background-color: white;position: relative;}#sk-container-id-7 div.sk-item::before, #sk-container-id-7 div.sk-parallel-item::before {content: \"\";position: absolute;border-left: 1px solid gray;box-sizing: border-box;top: 0;bottom: 0;left: 50%;z-index: -1;}#sk-container-id-7 div.sk-parallel-item {display: flex;flex-direction: column;z-index: 1;position: relative;background-color: white;}#sk-container-id-7 div.sk-parallel-item:first-child::after {align-self: flex-end;width: 50%;}#sk-container-id-7 div.sk-parallel-item:last-child::after {align-self: flex-start;width: 50%;}#sk-container-id-7 div.sk-parallel-item:only-child::after {width: 0;}#sk-container-id-7 div.sk-dashed-wrapped {border: 1px dashed gray;margin: 0 0.4em 0.5em 0.4em;box-sizing: border-box;padding-bottom: 0.4em;background-color: white;}#sk-container-id-7 div.sk-label label {font-family: monospace;font-weight: bold;display: inline-block;line-height: 1.2em;}#sk-container-id-7 div.sk-label-container {text-align: center;}#sk-container-id-7 div.sk-container {/* jupyter's `normalize.less` sets `[hidden] { display: none; }` but bootstrap.min.css set `[hidden] { display: none !important; }` so we also need the `!important` here to be able to override the default hidden behavior on the sphinx rendered scikit-learn.org. See: https://github.com/scikit-learn/scikit-learn/issues/21755 */display: inline-block !important;position: relative;}#sk-container-id-7 div.sk-text-repr-fallback {display: none;}</style><div id=\"sk-container-id-7\" class=\"sk-top-container\"><div class=\"sk-text-repr-fallback\"><pre>SVR(C=0.1, gamma=0.01, kernel=&#x27;linear&#x27;)</pre><b>In a Jupyter environment, please rerun this cell to show the HTML representation or trust the notebook. <br />On GitHub, the HTML representation is unable to render, please try loading this page with nbviewer.org.</b></div><div class=\"sk-container\" hidden><div class=\"sk-item\"><div class=\"sk-estimator sk-toggleable\"><input class=\"sk-toggleable__control sk-hidden--visually\" id=\"sk-estimator-id-42\" type=\"checkbox\" checked><label for=\"sk-estimator-id-42\" class=\"sk-toggleable__label sk-toggleable__label-arrow\">SVR</label><div class=\"sk-toggleable__content\"><pre>SVR(C=0.1, gamma=0.01, kernel=&#x27;linear&#x27;)</pre></div></div></div></div></div>"
      ],
      "text/plain": [
       "SVR(C=0.1, gamma=0.01, kernel='linear')"
      ]
     },
     "execution_count": 129,
     "metadata": {},
     "output_type": "execute_result"
    }
   ],
   "source": [
    "svr.fit(train_fit[features], train_fit[target])"
   ]
  },
  {
   "cell_type": "code",
   "execution_count": 130,
   "id": "6ccc1f92-b79c-47a3-87da-8b2032798ed0",
   "metadata": {},
   "outputs": [],
   "source": [
    "simulation_datasets_dict['train_ml'] = train_fit\n",
    "simulation_datasets_dict['features_ml_stack'] = features_raw\n",
    "simulation_datasets_dict['features_ml_svr'] = features"
   ]
  },
  {
   "cell_type": "code",
   "execution_count": 131,
   "id": "6b90f666-6cd3-471e-9459-d85746a26409",
   "metadata": {},
   "outputs": [],
   "source": [
    "estimators_dict['stack_ml'] = stack\n",
    "estimators_dict['svr_ml'] = svr"
   ]
  },
  {
   "cell_type": "code",
   "execution_count": 132,
   "id": "9dcc80f6-0a7b-4f0d-8147-9a19e96098f6",
   "metadata": {},
   "outputs": [],
   "source": [
    "evaluation_dict['cv_stack_ml'] = estimator_stack2_cv\n",
    "evaluation_dict['cv_svr_ml'] = cv_dict1['SVM']"
   ]
  },
  {
   "cell_type": "code",
   "execution_count": 133,
   "id": "b19797e6-7442-40bf-9784-2a6da30d7e84",
   "metadata": {},
   "outputs": [],
   "source": [
    "saveit(simulation_datasets_dict, 'simulation_datasets_dict', dir_save)"
   ]
  },
  {
   "cell_type": "code",
   "execution_count": 134,
   "id": "ebe80bb9-8720-4bad-b40e-0ded0cfc95aa",
   "metadata": {},
   "outputs": [],
   "source": [
    "saveit(estimators_dict, 'estimators_dict', dir_save)"
   ]
  },
  {
   "cell_type": "code",
   "execution_count": 135,
   "id": "2cdcc7ac-879a-4f7f-b9ba-221e8c7e02e9",
   "metadata": {},
   "outputs": [],
   "source": [
    "saveit(evaluation_dict, 'evaluation_dict', dir_save)"
   ]
  },
  {
   "cell_type": "markdown",
   "id": "608a8853-6fe0-4eb4-8248-e056a37fa095",
   "metadata": {},
   "source": [
    "### Save Session"
   ]
  },
  {
   "cell_type": "code",
   "execution_count": 136,
   "id": "7bfb7b4b-8422-43f6-937e-8242028ce92c",
   "metadata": {},
   "outputs": [],
   "source": [
    "save_session(dir_save)"
   ]
  },
  {
   "cell_type": "markdown",
   "id": "5ef09453-8467-4158-b48b-660eb4c82dfc",
   "metadata": {},
   "source": [
    "### Execution time"
   ]
  },
  {
   "cell_type": "code",
   "execution_count": 137,
   "id": "ecbc947e-3ac5-41ee-9e72-c6f0bf3e8449",
   "metadata": {},
   "outputs": [
    {
     "name": "stdout",
     "output_type": "stream",
     "text": [
      "Execution time: 3:35:13\n"
     ]
    }
   ],
   "source": [
    "print(f'Execution time: {stopwatch.stop(start)}')"
   ]
  }
 ],
 "metadata": {
  "kernelspec": {
   "display_name": "venv_kgl_house_prices",
   "language": "python",
   "name": "venv_kgl_house_prices"
  },
  "language_info": {
   "codemirror_mode": {
    "name": "ipython",
    "version": 3
   },
   "file_extension": ".py",
   "mimetype": "text/x-python",
   "name": "python",
   "nbconvert_exporter": "python",
   "pygments_lexer": "ipython3",
   "version": "3.12.2"
  }
 },
 "nbformat": 4,
 "nbformat_minor": 5
}
