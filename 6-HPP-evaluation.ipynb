{
 "cells": [
  {
   "cell_type": "code",
   "execution_count": 1,
   "id": "13bce851-0197-471f-a2bc-f8fe541893fa",
   "metadata": {},
   "outputs": [],
   "source": [
    "# run stopwatch\n",
    "from tools import Stopwatch\n",
    "stopwatch = Stopwatch()\n",
    "start = stopwatch.start()"
   ]
  },
  {
   "cell_type": "markdown",
   "id": "a99bcb21-f293-45af-a6f7-cd809b57e725",
   "metadata": {},
   "source": [
    "### Load libraries, functions, palette, theme"
   ]
  },
  {
   "cell_type": "code",
   "execution_count": 2,
   "id": "ee9559c6-3e72-4a17-9ef5-197ed707d0e8",
   "metadata": {},
   "outputs": [],
   "source": [
    "%run _libraries.ipynb"
   ]
  },
  {
   "cell_type": "code",
   "execution_count": 3,
   "id": "367b9e6c-f29f-4ecb-8450-8f6a62b08d26",
   "metadata": {},
   "outputs": [],
   "source": [
    "%run _functions.ipynb"
   ]
  },
  {
   "cell_type": "code",
   "execution_count": 189,
   "id": "c0ec2055-300b-4789-b373-5b01e1a6df85",
   "metadata": {},
   "outputs": [],
   "source": [
    "save_files = 'files/Section6-HPP-evaluation'"
   ]
  },
  {
   "cell_type": "code",
   "execution_count": 190,
   "id": "6b7e33ac-771b-424a-82f8-fee3bec1d795",
   "metadata": {},
   "outputs": [],
   "source": [
    "save_img = 'docs/img/Section6-HPP-evaluation'"
   ]
  },
  {
   "cell_type": "code",
   "execution_count": 191,
   "id": "f1fb3222-0ef1-4f7c-9534-0992f0ac83d9",
   "metadata": {},
   "outputs": [],
   "source": [
    "session_name = 'Section6-HPP-evaluation'"
   ]
  },
  {
   "cell_type": "markdown",
   "id": "64910cbc-df14-404d-aa54-e92357778b52",
   "metadata": {},
   "source": [
    "# Section VII. HPP evaluation"
   ]
  },
  {
   "cell_type": "markdown",
   "id": "0d768d4b-e5c4-4762-8ed6-bfa14f32760b",
   "metadata": {},
   "source": [
    "## Load Saved Section if exists"
   ]
  },
  {
   "cell_type": "raw",
   "id": "25a88f89-16f4-4331-9afb-8a176f4948f1",
   "metadata": {},
   "source": [
    "if os.path.exists(f'sessions/{session_name}'):\n",
    "    load_session(session_name)\n",
    "else:\n",
    "    print(f'No such session in directory: \"sessions/{session_name}/\"')"
   ]
  },
  {
   "cell_type": "markdown",
   "id": "4822da1c-3c9a-4257-b566-1925354a8394",
   "metadata": {},
   "source": [
    "## Load Data"
   ]
  },
  {
   "cell_type": "code",
   "execution_count": 5,
   "id": "1bdfa229-7b98-4f01-9c55-d32c626d2c3a",
   "metadata": {},
   "outputs": [],
   "source": [
    "# dicts\n",
    "datasets_dict = loadit(\n",
    "    'datasets_dict', dir='Section3-Feature-selection-and-Preprocessing')\n",
    "features_dict = loadit(\n",
    "    'features_dict', dir='Section4-Linear-models-research')\n",
    "transform_dict = loadit(\n",
    "    'transform_dict', dir='Section3-Feature-selection-and-Preprocessing')\n",
    "groups_dict = loadit(\n",
    "    'groups_dict', dir='Section2-Explore-and-Clean')\n",
    "stack = loadit(\n",
    "    'estimator_stack', dir='Section5-Residuals-prediction'\n",
    ")\n",
    "simulation_datasets_dict = loadit(\n",
    "    'simulation_datasets_dict', dir='Section4-Linear-models-research')\n",
    "estimators_dict = loadit(\n",
    "    'estimators_dict', dir='Section4-Linear-models-research')\n",
    "evaluation_dict = loadit(\n",
    "    'evaluation_dict', dir='Section4-Linear-models-research')\n",
    "\n",
    "# datasets\n",
    "train_raw = datasets_dict['train_raw'].copy()\n",
    "train = datasets_dict['train'].copy()\n",
    "train_cv = datasets_dict['train_cv'].copy()\n",
    "test = datasets_dict['test'].copy()\n",
    "\n",
    "# models\n",
    "lr = estimators_dict['lr']\n",
    "\n",
    "# features lists\n",
    "features = features_dict['features'].copy()\n",
    "features_linear = features_dict['features_linear'].copy()\n",
    "features_raw = features_dict['features_raw'].copy()\n",
    "numeric = features_dict['numeric'].copy()\n",
    "numeric_raw = features_dict['numeric_raw'].copy()\n",
    "categorical = features_dict['categorical'].copy()\n",
    "categorical_transform = features_dict['categorical_transform'].copy()\n",
    "categorical_raw = features_dict['categorical_raw'].copy()\n",
    "factor = features_dict['factor'].copy()\n",
    "target = features_dict['target']\n",
    "\n",
    "# overview transformers\n",
    "transformer_overview = transform_dict['transformer_overview']\n",
    "transformer_imputer_median = transform_dict['transformer_imputer_median']\n",
    "transformer_imputer_frequent = transform_dict['transformer_imputer_frequent']\n",
    "transformer_label = transform_dict['transformer_label']\n",
    "\n",
    "# feature selection transformers\n",
    "transformer_features_creator = transform_dict['transformer_features_creator']\n",
    "transformer_features_logger = transform_dict['transformer_features_logger']\n",
    "\n",
    "# preprocessing transformers\n",
    "encoder = transform_dict['encoder']\n",
    "scaler = transform_dict['scaler']\n",
    "\n",
    "# additional features lists\n",
    "features_na = transform_dict['features_na'].copy()\n",
    "features_log = transform_dict['features_log'].copy()"
   ]
  },
  {
   "cell_type": "markdown",
   "id": "e5b8cd0e-821d-4ba0-ba7a-7ce347cc6879",
   "metadata": {},
   "source": [
    "## HHP evaluation with K-Fold CV"
   ]
  },
  {
   "cell_type": "code",
   "execution_count": 6,
   "id": "c3135683-8704-49c3-9213-eaa7f449a28a",
   "metadata": {},
   "outputs": [],
   "source": [
    "n_folds = 20"
   ]
  },
  {
   "cell_type": "code",
   "execution_count": 7,
   "id": "b751638f-5876-459e-b7b0-3a64deeb6012",
   "metadata": {},
   "outputs": [],
   "source": [
    "encoder = OrdinalEncoder(\n",
    "    encoding_method='ordered',\n",
    "    variables=categorical_transform,\n",
    "    missing_values='ignore',\n",
    "    unseen='encode'\n",
    ")"
   ]
  },
  {
   "cell_type": "code",
   "execution_count": 8,
   "id": "34de5026-4e67-4c31-ab6a-e551efce29f0",
   "metadata": {},
   "outputs": [],
   "source": [
    "scaler = StandardScaler()"
   ]
  },
  {
   "cell_type": "code",
   "execution_count": 9,
   "id": "65abd7e5-1885-454c-906c-aa31fbf45de3",
   "metadata": {},
   "outputs": [],
   "source": [
    "pipeline_transform = Pipeline(steps=[\n",
    "    ('encoder', encoder),\n",
    "    ('scaler', scaler)\n",
    "])"
   ]
  },
  {
   "cell_type": "code",
   "execution_count": 10,
   "id": "bb384577-0839-412f-b280-2c2d8d34c2b0",
   "metadata": {},
   "outputs": [],
   "source": [
    "hpp = HousePricePredictor(\n",
    "    residuals_estimator=stack,\n",
    "    predictors=features_linear,\n",
    "    features=features,\n",
    "    target=target\n",
    ")"
   ]
  },
  {
   "cell_type": "code",
   "execution_count": 11,
   "id": "972c56cb-0dea-4423-afdf-fea39a74b978",
   "metadata": {},
   "outputs": [
    {
     "name": "stdout",
     "output_type": "stream",
     "text": [
      "Execution time: 0:25:36\n"
     ]
    }
   ],
   "source": [
    "st = stopwatch.start()\n",
    "hpp_cv = cross_validation(\n",
    "    estimator=hpp,\n",
    "    data=train_cv,\n",
    "    features=features,\n",
    "    target=target,\n",
    "    pipeline_transform=pipeline_transform,\n",
    "    n_folds=n_folds\n",
    ")\n",
    "print(f'Execution time: {stopwatch.stop(st)}')"
   ]
  },
  {
   "cell_type": "code",
   "execution_count": 12,
   "id": "2b1cbafe-41ac-424d-9045-d855ba4715bb",
   "metadata": {},
   "outputs": [
    {
     "data": {
      "text/plain": [
       "0.11006958103254331"
      ]
     },
     "execution_count": 12,
     "metadata": {},
     "output_type": "execute_result"
    }
   ],
   "source": [
    "hpp_cv['test_score'].mean()"
   ]
  },
  {
   "cell_type": "code",
   "execution_count": 13,
   "id": "dd9e1964-e94b-4c74-a9db-782436db45b9",
   "metadata": {},
   "outputs": [
    {
     "data": {
      "text/plain": [
       "0.021920503956610778"
      ]
     },
     "execution_count": 13,
     "metadata": {},
     "output_type": "execute_result"
    }
   ],
   "source": [
    "hpp_cv['test_score'].std()"
   ]
  },
  {
   "cell_type": "code",
   "execution_count": 14,
   "id": "a8dff649-f04b-412e-a4d4-511d6a24e5cb",
   "metadata": {},
   "outputs": [
    {
     "data": {
      "text/html": [
       "<div>\n",
       "<style scoped>\n",
       "    .dataframe tbody tr th:only-of-type {\n",
       "        vertical-align: middle;\n",
       "    }\n",
       "\n",
       "    .dataframe tbody tr th {\n",
       "        vertical-align: top;\n",
       "    }\n",
       "\n",
       "    .dataframe thead th {\n",
       "        text-align: right;\n",
       "    }\n",
       "</style>\n",
       "<table border=\"1\" class=\"dataframe\">\n",
       "  <thead>\n",
       "    <tr style=\"text-align: right;\">\n",
       "      <th></th>\n",
       "      <th>Test</th>\n",
       "      <th>P or Statistic (s)</th>\n",
       "      <th>Condition</th>\n",
       "    </tr>\n",
       "  </thead>\n",
       "  <tbody>\n",
       "    <tr>\n",
       "      <th>0</th>\n",
       "      <td>Kolmogorov-Smirnov</td>\n",
       "      <td>0.0000</td>\n",
       "      <td>Not normal</td>\n",
       "    </tr>\n",
       "    <tr>\n",
       "      <th>1</th>\n",
       "      <td>Anderson-Darling (s)</td>\n",
       "      <td>0.5356</td>\n",
       "      <td>Normal</td>\n",
       "    </tr>\n",
       "    <tr>\n",
       "      <th>2</th>\n",
       "      <td>Shapiro-Wilk</td>\n",
       "      <td>0.1767</td>\n",
       "      <td>Normal</td>\n",
       "    </tr>\n",
       "    <tr>\n",
       "      <th>3</th>\n",
       "      <td>Jarque-Bera</td>\n",
       "      <td>0.4587</td>\n",
       "      <td>Normal</td>\n",
       "    </tr>\n",
       "    <tr>\n",
       "      <th>4</th>\n",
       "      <td>D’Agostino-Pearson</td>\n",
       "      <td>0.2953</td>\n",
       "      <td>Normal</td>\n",
       "    </tr>\n",
       "  </tbody>\n",
       "</table>\n",
       "</div>"
      ],
      "text/plain": [
       "                   Test  P or Statistic (s)   Condition\n",
       "0    Kolmogorov-Smirnov              0.0000  Not normal\n",
       "1  Anderson-Darling (s)              0.5356      Normal\n",
       "2          Shapiro-Wilk              0.1767      Normal\n",
       "3           Jarque-Bera              0.4587      Normal\n",
       "4    D’Agostino-Pearson              0.2953      Normal"
      ]
     },
     "execution_count": 14,
     "metadata": {},
     "output_type": "execute_result"
    }
   ],
   "source": [
    "test_normality(hpp_cv['test_score'])"
   ]
  },
  {
   "cell_type": "markdown",
   "id": "9cf04867-db9a-48be-9092-e04af7bafd33",
   "metadata": {},
   "source": [
    "### Save Data"
   ]
  },
  {
   "cell_type": "code",
   "execution_count": 15,
   "id": "d9c24ea9-16a3-4524-b893-2b981b1d127f",
   "metadata": {},
   "outputs": [
    {
     "name": "stdout",
     "output_type": "stream",
     "text": [
      "Fit time: 0:01:19\n"
     ]
    }
   ],
   "source": [
    "st = stopwatch.start()\n",
    "hpp.fit(train[features], train[target])\n",
    "print(f'Fit time: {stopwatch.stop(st)}')"
   ]
  },
  {
   "cell_type": "code",
   "execution_count": 16,
   "id": "6eca108c-3eaa-4f42-959d-da31e155a774",
   "metadata": {},
   "outputs": [],
   "source": [
    "simulation_datasets_dict['train_hpp'] = train\n",
    "simulation_datasets_dict['features_hpp'] = features"
   ]
  },
  {
   "cell_type": "code",
   "execution_count": 17,
   "id": "088e9150-cd59-4a1b-bc4e-12849313c2df",
   "metadata": {},
   "outputs": [],
   "source": [
    "estimators_dict['hpp'] = hpp"
   ]
  },
  {
   "cell_type": "code",
   "execution_count": 18,
   "id": "c215dc54-e1fb-4c6e-927b-45f149e3d2ae",
   "metadata": {},
   "outputs": [],
   "source": [
    "evaluation_dict['cv_hpp'] = hpp_cv"
   ]
  },
  {
   "cell_type": "code",
   "execution_count": 19,
   "id": "e87376bc-9485-45ab-8cd8-338859579882",
   "metadata": {},
   "outputs": [],
   "source": [
    "saveit(simulation_datasets_dict, 'simulation_datasets_dict', save_files)"
   ]
  },
  {
   "cell_type": "code",
   "execution_count": 20,
   "id": "94891c97-371e-4619-b66a-0b8be2ffbf88",
   "metadata": {},
   "outputs": [],
   "source": [
    "saveit(estimators_dict, 'estimators_dict', save_files)"
   ]
  },
  {
   "cell_type": "code",
   "execution_count": 21,
   "id": "e2da49c7-3874-4570-81b7-18282694513f",
   "metadata": {},
   "outputs": [],
   "source": [
    "saveit(evaluation_dict, 'evaluation_dict', save_files)"
   ]
  },
  {
   "cell_type": "code",
   "execution_count": 22,
   "id": "8c910988-60dd-4f4f-a290-7b17ece20ac0",
   "metadata": {},
   "outputs": [],
   "source": [
    "saveit(test, 'test_preprocessed', save_files)"
   ]
  },
  {
   "cell_type": "markdown",
   "id": "eaf06c46-effc-441d-84a8-9bf163e2d193",
   "metadata": {},
   "source": [
    "### Save Session"
   ]
  },
  {
   "cell_type": "code",
   "execution_count": 23,
   "id": "3185ef55-f172-4793-a5aa-688e2e7ebf1b",
   "metadata": {},
   "outputs": [],
   "source": [
    "save_session(session_name)"
   ]
  },
  {
   "cell_type": "markdown",
   "id": "7dc8a599-71bc-4b72-989b-dd877b24d83c",
   "metadata": {},
   "source": [
    "### Execution time"
   ]
  },
  {
   "cell_type": "code",
   "execution_count": 24,
   "id": "4ca5801c-f0e7-4759-ab8f-94fa5e03b852",
   "metadata": {},
   "outputs": [
    {
     "name": "stdout",
     "output_type": "stream",
     "text": [
      "Execution time: 0:27:02\n"
     ]
    }
   ],
   "source": [
    "print(f'Execution time: {stopwatch.stop(start)}')"
   ]
  }
 ],
 "metadata": {
  "kernelspec": {
   "display_name": "kgl_house_prices",
   "language": "python",
   "name": "kgl_house_prices"
  },
  "language_info": {
   "codemirror_mode": {
    "name": "ipython",
    "version": 3
   },
   "file_extension": ".py",
   "mimetype": "text/x-python",
   "name": "python",
   "nbconvert_exporter": "python",
   "pygments_lexer": "ipython3",
   "version": "3.12.2"
  }
 },
 "nbformat": 4,
 "nbformat_minor": 5
}
