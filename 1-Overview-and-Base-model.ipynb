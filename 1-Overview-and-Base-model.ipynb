{
 "cells": [
  {
   "cell_type": "code",
   "execution_count": 1,
   "id": "13bce851-0197-471f-a2bc-f8fe541893fa",
   "metadata": {},
   "outputs": [],
   "source": [
    "# run stopwatch\n",
    "from tools import Stopwatch\n",
    "stopwatch = Stopwatch()\n",
    "start = stopwatch.start()"
   ]
  },
  {
   "cell_type": "markdown",
   "id": "beecb0f4-3cad-4f4f-b805-22a347427a25",
   "metadata": {},
   "source": [
    "### Load libraries, functions, palette, theme"
   ]
  },
  {
   "cell_type": "code",
   "execution_count": 2,
   "id": "a38c22c3-7577-41c1-9357-e317f7ee5fbc",
   "metadata": {},
   "outputs": [],
   "source": [
    "%run _libraries.ipynb"
   ]
  },
  {
   "cell_type": "code",
   "execution_count": 3,
   "id": "b8dd3aa8-c404-449b-8433-ce8a68d50158",
   "metadata": {},
   "outputs": [],
   "source": [
    "%run _functions.ipynb"
   ]
  },
  {
   "cell_type": "code",
   "execution_count": 4,
   "id": "72219df8-0d22-44cf-934f-f328671bd86e",
   "metadata": {},
   "outputs": [],
   "source": [
    "save_files = 'files/Section1-Overview-and-Base-model'"
   ]
  },
  {
   "cell_type": "code",
   "execution_count": 5,
   "id": "cf9e4722-9a42-4f8a-8653-467ec3e9f94b",
   "metadata": {},
   "outputs": [],
   "source": [
    "save_img = 'docs/img/Section1-Overview-and-Base-model'"
   ]
  },
  {
   "cell_type": "code",
   "execution_count": 6,
   "id": "8778a590-5834-4fa8-9607-0b61b416df3a",
   "metadata": {},
   "outputs": [],
   "source": [
    "session_name = 'Section1-Overview-and-Base-model'"
   ]
  },
  {
   "cell_type": "markdown",
   "id": "6551eaa0-07e9-4fa9-b833-8ba84e887027",
   "metadata": {},
   "source": [
    "# Section I. Overview"
   ]
  },
  {
   "cell_type": "markdown",
   "id": "df220a6a-7e58-4722-9cd6-2cc680100288",
   "metadata": {},
   "source": [
    "## Load Saved Section if exists"
   ]
  },
  {
   "cell_type": "code",
   "execution_count": 7,
   "id": "2fd5c634-1b10-4156-a42c-8ceec2d15fad",
   "metadata": {},
   "outputs": [],
   "source": [
    "if os.path.exists(f'sessions/{session_name}'):\n",
    "    load_session(session_name)\n",
    "else:\n",
    "    print(f\"No such session: 'sessions/{session_name}'\")"
   ]
  },
  {
   "cell_type": "markdown",
   "id": "753835e4-c362-49c3-9e4a-fbeb4140a954",
   "metadata": {
    "id": "c7980b49-f759-4a9d-bf5e-0eb93a75615a",
    "tags": []
   },
   "source": [
    "## Load Data"
   ]
  },
  {
   "cell_type": "code",
   "execution_count": 8,
   "id": "642b817a-459c-4937-aedc-e5f2e30f5f0d",
   "metadata": {
    "executionInfo": {
     "elapsed": 82,
     "status": "aborted",
     "timestamp": 1675237549090,
     "user": {
      "displayName": "Alexander Chasovsky",
      "userId": "02150901659695146649"
     },
     "user_tz": -180
    },
    "id": "828596f3-0bcd-4f9a-b508-983ea86a5475"
   },
   "outputs": [],
   "source": [
    "data = pd.read_csv('data/train.csv')"
   ]
  },
  {
   "cell_type": "code",
   "execution_count": 9,
   "id": "2f0d4360-9db0-4297-94b9-a5fd6e2d1cfc",
   "metadata": {
    "executionInfo": {
     "elapsed": 142,
     "status": "aborted",
     "timestamp": 1675237549151,
     "user": {
      "displayName": "Alexander Chasovsky",
      "userId": "02150901659695146649"
     },
     "user_tz": -180
    },
    "id": "ddc89ab0-fb9d-4166-ae90-538839cb880c"
   },
   "outputs": [
    {
     "data": {
      "text/html": [
       "<div>\n",
       "<style scoped>\n",
       "    .dataframe tbody tr th:only-of-type {\n",
       "        vertical-align: middle;\n",
       "    }\n",
       "\n",
       "    .dataframe tbody tr th {\n",
       "        vertical-align: top;\n",
       "    }\n",
       "\n",
       "    .dataframe thead th {\n",
       "        text-align: right;\n",
       "    }\n",
       "</style>\n",
       "<table border=\"1\" class=\"dataframe\">\n",
       "  <thead>\n",
       "    <tr style=\"text-align: right;\">\n",
       "      <th></th>\n",
       "      <th>Id</th>\n",
       "      <th>MSSubClass</th>\n",
       "      <th>MSZoning</th>\n",
       "      <th>LotFrontage</th>\n",
       "      <th>LotArea</th>\n",
       "      <th>Street</th>\n",
       "      <th>Alley</th>\n",
       "      <th>LotShape</th>\n",
       "      <th>LandContour</th>\n",
       "      <th>Utilities</th>\n",
       "      <th>...</th>\n",
       "      <th>PoolArea</th>\n",
       "      <th>PoolQC</th>\n",
       "      <th>Fence</th>\n",
       "      <th>MiscFeature</th>\n",
       "      <th>MiscVal</th>\n",
       "      <th>MoSold</th>\n",
       "      <th>YrSold</th>\n",
       "      <th>SaleType</th>\n",
       "      <th>SaleCondition</th>\n",
       "      <th>SalePrice</th>\n",
       "    </tr>\n",
       "  </thead>\n",
       "  <tbody>\n",
       "    <tr>\n",
       "      <th>0</th>\n",
       "      <td>1</td>\n",
       "      <td>60</td>\n",
       "      <td>RL</td>\n",
       "      <td>65.0</td>\n",
       "      <td>8450</td>\n",
       "      <td>Pave</td>\n",
       "      <td>NaN</td>\n",
       "      <td>Reg</td>\n",
       "      <td>Lvl</td>\n",
       "      <td>AllPub</td>\n",
       "      <td>...</td>\n",
       "      <td>0</td>\n",
       "      <td>NaN</td>\n",
       "      <td>NaN</td>\n",
       "      <td>NaN</td>\n",
       "      <td>0</td>\n",
       "      <td>2</td>\n",
       "      <td>2008</td>\n",
       "      <td>WD</td>\n",
       "      <td>Normal</td>\n",
       "      <td>208500</td>\n",
       "    </tr>\n",
       "    <tr>\n",
       "      <th>1</th>\n",
       "      <td>2</td>\n",
       "      <td>20</td>\n",
       "      <td>RL</td>\n",
       "      <td>80.0</td>\n",
       "      <td>9600</td>\n",
       "      <td>Pave</td>\n",
       "      <td>NaN</td>\n",
       "      <td>Reg</td>\n",
       "      <td>Lvl</td>\n",
       "      <td>AllPub</td>\n",
       "      <td>...</td>\n",
       "      <td>0</td>\n",
       "      <td>NaN</td>\n",
       "      <td>NaN</td>\n",
       "      <td>NaN</td>\n",
       "      <td>0</td>\n",
       "      <td>5</td>\n",
       "      <td>2007</td>\n",
       "      <td>WD</td>\n",
       "      <td>Normal</td>\n",
       "      <td>181500</td>\n",
       "    </tr>\n",
       "    <tr>\n",
       "      <th>2</th>\n",
       "      <td>3</td>\n",
       "      <td>60</td>\n",
       "      <td>RL</td>\n",
       "      <td>68.0</td>\n",
       "      <td>11250</td>\n",
       "      <td>Pave</td>\n",
       "      <td>NaN</td>\n",
       "      <td>IR1</td>\n",
       "      <td>Lvl</td>\n",
       "      <td>AllPub</td>\n",
       "      <td>...</td>\n",
       "      <td>0</td>\n",
       "      <td>NaN</td>\n",
       "      <td>NaN</td>\n",
       "      <td>NaN</td>\n",
       "      <td>0</td>\n",
       "      <td>9</td>\n",
       "      <td>2008</td>\n",
       "      <td>WD</td>\n",
       "      <td>Normal</td>\n",
       "      <td>223500</td>\n",
       "    </tr>\n",
       "    <tr>\n",
       "      <th>3</th>\n",
       "      <td>4</td>\n",
       "      <td>70</td>\n",
       "      <td>RL</td>\n",
       "      <td>60.0</td>\n",
       "      <td>9550</td>\n",
       "      <td>Pave</td>\n",
       "      <td>NaN</td>\n",
       "      <td>IR1</td>\n",
       "      <td>Lvl</td>\n",
       "      <td>AllPub</td>\n",
       "      <td>...</td>\n",
       "      <td>0</td>\n",
       "      <td>NaN</td>\n",
       "      <td>NaN</td>\n",
       "      <td>NaN</td>\n",
       "      <td>0</td>\n",
       "      <td>2</td>\n",
       "      <td>2006</td>\n",
       "      <td>WD</td>\n",
       "      <td>Abnorml</td>\n",
       "      <td>140000</td>\n",
       "    </tr>\n",
       "    <tr>\n",
       "      <th>4</th>\n",
       "      <td>5</td>\n",
       "      <td>60</td>\n",
       "      <td>RL</td>\n",
       "      <td>84.0</td>\n",
       "      <td>14260</td>\n",
       "      <td>Pave</td>\n",
       "      <td>NaN</td>\n",
       "      <td>IR1</td>\n",
       "      <td>Lvl</td>\n",
       "      <td>AllPub</td>\n",
       "      <td>...</td>\n",
       "      <td>0</td>\n",
       "      <td>NaN</td>\n",
       "      <td>NaN</td>\n",
       "      <td>NaN</td>\n",
       "      <td>0</td>\n",
       "      <td>12</td>\n",
       "      <td>2008</td>\n",
       "      <td>WD</td>\n",
       "      <td>Normal</td>\n",
       "      <td>250000</td>\n",
       "    </tr>\n",
       "  </tbody>\n",
       "</table>\n",
       "<p>5 rows × 81 columns</p>\n",
       "</div>"
      ],
      "text/plain": [
       "   Id  MSSubClass MSZoning  LotFrontage  LotArea Street Alley LotShape  \\\n",
       "0   1          60       RL         65.0     8450   Pave   NaN      Reg   \n",
       "1   2          20       RL         80.0     9600   Pave   NaN      Reg   \n",
       "2   3          60       RL         68.0    11250   Pave   NaN      IR1   \n",
       "3   4          70       RL         60.0     9550   Pave   NaN      IR1   \n",
       "4   5          60       RL         84.0    14260   Pave   NaN      IR1   \n",
       "\n",
       "  LandContour Utilities  ... PoolArea PoolQC Fence MiscFeature MiscVal MoSold  \\\n",
       "0         Lvl    AllPub  ...        0    NaN   NaN         NaN       0      2   \n",
       "1         Lvl    AllPub  ...        0    NaN   NaN         NaN       0      5   \n",
       "2         Lvl    AllPub  ...        0    NaN   NaN         NaN       0      9   \n",
       "3         Lvl    AllPub  ...        0    NaN   NaN         NaN       0      2   \n",
       "4         Lvl    AllPub  ...        0    NaN   NaN         NaN       0     12   \n",
       "\n",
       "  YrSold  SaleType  SaleCondition  SalePrice  \n",
       "0   2008        WD         Normal     208500  \n",
       "1   2007        WD         Normal     181500  \n",
       "2   2008        WD         Normal     223500  \n",
       "3   2006        WD        Abnorml     140000  \n",
       "4   2008        WD         Normal     250000  \n",
       "\n",
       "[5 rows x 81 columns]"
      ]
     },
     "execution_count": 9,
     "metadata": {},
     "output_type": "execute_result"
    }
   ],
   "source": [
    "data.head()"
   ]
  },
  {
   "cell_type": "code",
   "execution_count": 10,
   "id": "44aa2875-4a5d-4d57-ae87-8e9a65b9b77e",
   "metadata": {
    "tags": []
   },
   "outputs": [
    {
     "data": {
      "text/plain": [
       "(1460, 81)"
      ]
     },
     "execution_count": 10,
     "metadata": {},
     "output_type": "execute_result"
    }
   ],
   "source": [
    "data.shape"
   ]
  },
  {
   "cell_type": "markdown",
   "id": "446df5ba-67a5-4398-9d9d-03f842bd7d37",
   "metadata": {},
   "source": [
    "#### Check duplicates"
   ]
  },
  {
   "cell_type": "code",
   "execution_count": 11,
   "id": "2b244ba7-cd6d-4685-aeec-6a0a50fd8bb5",
   "metadata": {},
   "outputs": [
    {
     "data": {
      "text/html": [
       "<div>\n",
       "<style scoped>\n",
       "    .dataframe tbody tr th:only-of-type {\n",
       "        vertical-align: middle;\n",
       "    }\n",
       "\n",
       "    .dataframe tbody tr th {\n",
       "        vertical-align: top;\n",
       "    }\n",
       "\n",
       "    .dataframe thead th {\n",
       "        text-align: right;\n",
       "    }\n",
       "</style>\n",
       "<table border=\"1\" class=\"dataframe\">\n",
       "  <thead>\n",
       "    <tr style=\"text-align: right;\">\n",
       "      <th></th>\n",
       "      <th>Id</th>\n",
       "      <th>MSSubClass</th>\n",
       "      <th>MSZoning</th>\n",
       "      <th>LotFrontage</th>\n",
       "      <th>LotArea</th>\n",
       "      <th>Street</th>\n",
       "      <th>Alley</th>\n",
       "      <th>LotShape</th>\n",
       "      <th>LandContour</th>\n",
       "      <th>Utilities</th>\n",
       "      <th>...</th>\n",
       "      <th>PoolArea</th>\n",
       "      <th>PoolQC</th>\n",
       "      <th>Fence</th>\n",
       "      <th>MiscFeature</th>\n",
       "      <th>MiscVal</th>\n",
       "      <th>MoSold</th>\n",
       "      <th>YrSold</th>\n",
       "      <th>SaleType</th>\n",
       "      <th>SaleCondition</th>\n",
       "      <th>SalePrice</th>\n",
       "    </tr>\n",
       "  </thead>\n",
       "  <tbody>\n",
       "  </tbody>\n",
       "</table>\n",
       "<p>0 rows × 81 columns</p>\n",
       "</div>"
      ],
      "text/plain": [
       "Empty DataFrame\n",
       "Columns: [Id, MSSubClass, MSZoning, LotFrontage, LotArea, Street, Alley, LotShape, LandContour, Utilities, LotConfig, LandSlope, Neighborhood, Condition1, Condition2, BldgType, HouseStyle, OverallQual, OverallCond, YearBuilt, YearRemodAdd, RoofStyle, RoofMatl, Exterior1st, Exterior2nd, MasVnrType, MasVnrArea, ExterQual, ExterCond, Foundation, BsmtQual, BsmtCond, BsmtExposure, BsmtFinType1, BsmtFinSF1, BsmtFinType2, BsmtFinSF2, BsmtUnfSF, TotalBsmtSF, Heating, HeatingQC, CentralAir, Electrical, 1stFlrSF, 2ndFlrSF, LowQualFinSF, GrLivArea, BsmtFullBath, BsmtHalfBath, FullBath, HalfBath, BedroomAbvGr, KitchenAbvGr, KitchenQual, TotRmsAbvGrd, Functional, Fireplaces, FireplaceQu, GarageType, GarageYrBlt, GarageFinish, GarageCars, GarageArea, GarageQual, GarageCond, PavedDrive, WoodDeckSF, OpenPorchSF, EnclosedPorch, 3SsnPorch, ScreenPorch, PoolArea, PoolQC, Fence, MiscFeature, MiscVal, MoSold, YrSold, SaleType, SaleCondition, SalePrice]\n",
       "Index: []\n",
       "\n",
       "[0 rows x 81 columns]"
      ]
     },
     "execution_count": 11,
     "metadata": {},
     "output_type": "execute_result"
    }
   ],
   "source": [
    "data[data.duplicated()]"
   ]
  },
  {
   "cell_type": "markdown",
   "id": "bc02dda8-aab0-4cb3-9ffb-603ecc79de91",
   "metadata": {
    "id": "1bb693df-937d-4f1e-ac18-9207d45acfab"
   },
   "source": [
    "## Data Split"
   ]
  },
  {
   "cell_type": "markdown",
   "id": "d8ce55ed-d206-4507-9b8e-853cecced065",
   "metadata": {
    "id": "bab3d575-867d-4fb9-a7cb-8d2ca0e3d179"
   },
   "source": [
    "#### Train and Test datasets"
   ]
  },
  {
   "cell_type": "code",
   "execution_count": 12,
   "id": "581c3b16-7ec1-4aa1-ad32-1182bac6a36a",
   "metadata": {
    "executionInfo": {
     "elapsed": 142,
     "status": "aborted",
     "timestamp": 1675237549152,
     "user": {
      "displayName": "Alexander Chasovsky",
      "userId": "02150901659695146649"
     },
     "user_tz": -180
    },
    "id": "461ac2a1-7baf-42eb-9751-81d70c6085f5",
    "tags": []
   },
   "outputs": [],
   "source": [
    "train, test = train_test_split(\n",
    "    data, test_size=0.1, random_state=seed)"
   ]
  },
  {
   "cell_type": "code",
   "execution_count": 13,
   "id": "fa9421f4-a306-4c4a-91e6-34137022393b",
   "metadata": {
    "executionInfo": {
     "elapsed": 142,
     "status": "aborted",
     "timestamp": 1675237549153,
     "user": {
      "displayName": "Alexander Chasovsky",
      "userId": "02150901659695146649"
     },
     "user_tz": -180
    },
    "id": "21c00bf4-490a-4225-9489-9ddaeb0e3742",
    "tags": []
   },
   "outputs": [
    {
     "data": {
      "text/plain": [
       "(1314, 81)"
      ]
     },
     "execution_count": 13,
     "metadata": {},
     "output_type": "execute_result"
    }
   ],
   "source": [
    "train.shape"
   ]
  },
  {
   "cell_type": "code",
   "execution_count": 14,
   "id": "e0497023-3ab7-4691-8db9-9f16cc4615a9",
   "metadata": {},
   "outputs": [
    {
     "data": {
      "text/plain": [
       "(146, 81)"
      ]
     },
     "execution_count": 14,
     "metadata": {},
     "output_type": "execute_result"
    }
   ],
   "source": [
    "test.shape"
   ]
  },
  {
   "cell_type": "markdown",
   "id": "1ebd57d6-9813-4e23-a9d2-0d719e42571d",
   "metadata": {
    "id": "4394366a-4983-4fa6-8095-3cc0e4d33bd0"
   },
   "source": [
    "## Data Overview"
   ]
  },
  {
   "cell_type": "markdown",
   "id": "7dbd1540-1857-4d53-b79f-b8f0afa07d89",
   "metadata": {
    "id": "2c0d3b3a-7944-4aab-90a7-17e315de8a0c"
   },
   "source": [
    "#### Dataset"
   ]
  },
  {
   "cell_type": "code",
   "execution_count": 15,
   "id": "93380cce-32d2-4922-8189-cd01216e057e",
   "metadata": {
    "executionInfo": {
     "elapsed": 14681,
     "status": "aborted",
     "timestamp": 1675237549156,
     "user": {
      "displayName": "Alexander Chasovsky",
      "userId": "02150901659695146649"
     },
     "user_tz": -180
    },
    "id": "e2e91f7d-f745-432a-b30b-0806c1e97f35"
   },
   "outputs": [
    {
     "data": {
      "text/plain": [
       "(1314, 81)"
      ]
     },
     "execution_count": 15,
     "metadata": {},
     "output_type": "execute_result"
    }
   ],
   "source": [
    "train.shape"
   ]
  },
  {
   "cell_type": "code",
   "execution_count": null,
   "id": "c6a940a9-ba2a-434d-b673-2aac5aa0ed87",
   "metadata": {
    "executionInfo": {
     "elapsed": 14670,
     "status": "aborted",
     "timestamp": 1675237549157,
     "user": {
      "displayName": "Alexander Chasovsky",
      "userId": "02150901659695146649"
     },
     "user_tz": -180
    },
    "id": "30eb1ac1-61f8-4697-a18c-9c98686c447f"
   },
   "outputs": [],
   "source": [
    "train.head()"
   ]
  },
  {
   "cell_type": "code",
   "execution_count": null,
   "id": "cba7db9e-cb1a-4019-aa80-38f68295cb5f",
   "metadata": {},
   "outputs": [],
   "source": [
    "train = train.rename(columns={'SalePrice': 'price'})\n",
    "test = test.rename(columns={'SalePrice': 'price'})\n",
    "\n",
    "train.columns = map(str.lower, train.columns)"
   ]
  },
  {
   "cell_type": "code",
   "execution_count": null,
   "id": "9432633c-bbff-4287-b4de-29dc01f367aa",
   "metadata": {},
   "outputs": [],
   "source": [
    "columns_plot = (train\n",
    "                .drop('id', axis=1)\n",
    "                .select_dtypes(np.number)\n",
    "                .columns.tolist())\n",
    "f = plot_gridplot(\n",
    "    data=train,\n",
    "    features=columns_plot,\n",
    "    figsize=(15,15),\n",
    "    ncols=6,\n",
    "    kind='hist',\n",
    "    plot_shape='rectangle',\n",
    "    hscale=1.6,\n",
    "    histplot_kwargs={'bins': 25})"
   ]
  },
  {
   "cell_type": "code",
   "execution_count": null,
   "id": "69e24931-7fb7-4ad3-ae98-c65cc40d21e3",
   "metadata": {},
   "outputs": [],
   "source": [
    "train.describe()"
   ]
  },
  {
   "cell_type": "code",
   "execution_count": null,
   "id": "70011fe2-e15d-423c-a75b-def5d49d32bc",
   "metadata": {
    "executionInfo": {
     "elapsed": 37,
     "status": "aborted",
     "timestamp": 1675237549569,
     "user": {
      "displayName": "Alexander Chasovsky",
      "userId": "02150901659695146649"
     },
     "user_tz": -180
    },
    "id": "e84bd42a-4195-4ea2-b869-c96e47834d74"
   },
   "outputs": [],
   "source": [
    "train.describe(include=object)"
   ]
  },
  {
   "cell_type": "markdown",
   "id": "68fca882-f512-42a1-84be-bc56bf7f1468",
   "metadata": {
    "id": "a6a09d14-8325-4042-8e68-1437f9825679"
   },
   "source": [
    "#### Columns rename to prevent Statsmodels errors"
   ]
  },
  {
   "cell_type": "code",
   "execution_count": null,
   "id": "f9f7de4e-3a2e-40cb-b910-fa3fc16a8fc5",
   "metadata": {
    "tags": []
   },
   "outputs": [],
   "source": [
    "print(sorted(train.columns.to_list(), key=str.lower))"
   ]
  },
  {
   "cell_type": "code",
   "execution_count": null,
   "id": "461a94a0-e17f-454c-86e7-b7fa9690409d",
   "metadata": {},
   "outputs": [],
   "source": [
    "train = rename_columns(train)\n",
    "test = rename_columns(test)"
   ]
  },
  {
   "cell_type": "code",
   "execution_count": null,
   "id": "7e9dc645-2755-4d74-b00f-d3c9f0a502f1",
   "metadata": {},
   "outputs": [],
   "source": [
    "train_raw = train.copy()"
   ]
  },
  {
   "cell_type": "code",
   "execution_count": null,
   "id": "3965b42d-c0ea-42e7-8e13-345a6d60d503",
   "metadata": {
    "tags": []
   },
   "outputs": [],
   "source": [
    "print(sorted(train.columns.to_list(), key=str.lower))"
   ]
  },
  {
   "cell_type": "markdown",
   "id": "e62c9dd2-4a20-4b9c-a2ae-ecf6ab763a30",
   "metadata": {
    "id": "8d3dc1ff-9581-4f40-9d6c-a5d50a161429"
   },
   "source": [
    "#### Creating variables lists"
   ]
  },
  {
   "cell_type": "code",
   "execution_count": null,
   "id": "f6a6bb79-cb9e-4c60-ac11-3939f9fbe1ae",
   "metadata": {},
   "outputs": [],
   "source": [
    "# target variable\n",
    "target = 'price'"
   ]
  },
  {
   "cell_type": "code",
   "execution_count": null,
   "id": "759c7893-b5d8-4444-aee1-cc9f4bfa15ba",
   "metadata": {},
   "outputs": [],
   "source": [
    "ordinal = [\n",
    "    'overallcond', 'overallqual', 'exterqual', 'extercond', 'bsmtqual',\n",
    "    'bsmtcond', 'heatingqc', 'kitchenqual', 'fireplacequ', 'garagecond',\n",
    "    'garagequal', 'poolqc', 'bsmtexposure', 'bsmtfintype_first',\n",
    "    'bsmtfintype_second', 'functional', 'garagetype', 'garagefinish'\n",
    "]"
   ]
  },
  {
   "cell_type": "code",
   "execution_count": null,
   "id": "8c4a48ec-78c1-4be9-8a0a-2492bbdba7f0",
   "metadata": {},
   "outputs": [],
   "source": [
    "# numeric variables\n",
    "numeric = (train\n",
    "           .drop(['id', 'price'], axis=1)\n",
    "           .select_dtypes(include=['int64', 'float64'])\n",
    "           .columns.tolist())\n",
    "# remove ordinal variables from numeric list\n",
    "numeric = [i for i in numeric if i not in ordinal]"
   ]
  },
  {
   "cell_type": "code",
   "execution_count": null,
   "id": "cce392d5-5463-445c-8ea3-5461a28ac5aa",
   "metadata": {},
   "outputs": [],
   "source": [
    "# categorical variables\n",
    "categorical = (train\n",
    "               .drop(['id', 'price'], axis=1)\n",
    "               .select_dtypes(include=['object', 'bool'])\n",
    "               .columns.tolist())\n",
    "categorical = [i for i in categorical if i not in ordinal]"
   ]
  },
  {
   "cell_type": "code",
   "execution_count": null,
   "id": "92d098ba-91eb-4c8e-8e3b-3808fbb198e7",
   "metadata": {
    "executionInfo": {
     "elapsed": 38,
     "status": "aborted",
     "timestamp": 1675237549573,
     "user": {
      "displayName": "Alexander Chasovsky",
      "userId": "02150901659695146649"
     },
     "user_tz": -180
    },
    "id": "e39edcb1-047d-4eb9-83c1-af2e1a8134e6"
   },
   "outputs": [],
   "source": [
    "# features\n",
    "features = numeric + ordinal + categorical"
   ]
  },
  {
   "cell_type": "code",
   "execution_count": null,
   "id": "ee395046-08ec-4cd3-85a1-c75bc9fe8daa",
   "metadata": {
    "executionInfo": {
     "elapsed": 39,
     "status": "aborted",
     "timestamp": 1675237549574,
     "user": {
      "displayName": "Alexander Chasovsky",
      "userId": "02150901659695146649"
     },
     "user_tz": -180
    },
    "id": "412bf2cf-c551-4950-b95a-813f4179dc31"
   },
   "outputs": [],
   "source": [
    "data_raw_features_len = len(data.drop('Id', axis=1).columns)\n",
    "assert 0 == (data_raw_features_len\n",
    "             - len(numeric)\n",
    "             - len(ordinal)\n",
    "             - len(categorical)\n",
    "             - len([target]))"
   ]
  },
  {
   "cell_type": "code",
   "execution_count": null,
   "id": "e1277b2f-f3d1-4dbf-9f29-2a73d3e6a9f8",
   "metadata": {},
   "outputs": [],
   "source": [
    "len(numeric)"
   ]
  },
  {
   "cell_type": "code",
   "execution_count": null,
   "id": "b42ccf59-674b-4d8f-b974-6bc9204b69d9",
   "metadata": {
    "executionInfo": {
     "elapsed": 40,
     "status": "aborted",
     "timestamp": 1675237549575,
     "user": {
      "displayName": "Alexander Chasovsky",
      "userId": "02150901659695146649"
     },
     "user_tz": -180
    },
    "id": "7ac5e003-f424-48eb-a9ea-05096145c822"
   },
   "outputs": [],
   "source": [
    "print(numeric)"
   ]
  },
  {
   "cell_type": "code",
   "execution_count": null,
   "id": "a9acc492-4054-49a9-8348-5af38c7c592d",
   "metadata": {},
   "outputs": [],
   "source": [
    "len(ordinal)"
   ]
  },
  {
   "cell_type": "code",
   "execution_count": null,
   "id": "95d2a867-81cc-420a-a977-6ffe71e1c855",
   "metadata": {},
   "outputs": [],
   "source": [
    "print(ordinal)"
   ]
  },
  {
   "cell_type": "code",
   "execution_count": null,
   "id": "e2a664b5-d5db-4a90-916e-0d9c29dec398",
   "metadata": {},
   "outputs": [],
   "source": [
    "len(categorical)"
   ]
  },
  {
   "cell_type": "code",
   "execution_count": null,
   "id": "d08b174a-d8c4-41d7-83fe-4fb06a314421",
   "metadata": {
    "executionInfo": {
     "elapsed": 43,
     "status": "aborted",
     "timestamp": 1675237549579,
     "user": {
      "displayName": "Alexander Chasovsky",
      "userId": "02150901659695146649"
     },
     "user_tz": -180
    },
    "id": "37512a38-dc9e-4fa3-81fd-521c5fb8a42a",
    "tags": []
   },
   "outputs": [],
   "source": [
    "print(categorical)"
   ]
  },
  {
   "cell_type": "code",
   "execution_count": null,
   "id": "37ce55e0-1b13-4f8b-af04-2408b073cdc9",
   "metadata": {
    "executionInfo": {
     "elapsed": 45,
     "status": "aborted",
     "timestamp": 1675237549581,
     "user": {
      "displayName": "Alexander Chasovsky",
      "userId": "02150901659695146649"
     },
     "user_tz": -180
    },
    "id": "93d46a65-4c94-497d-bf26-fb776efb11e5"
   },
   "outputs": [],
   "source": [
    "target"
   ]
  },
  {
   "cell_type": "markdown",
   "id": "04437392-3bf1-4ec0-b3ff-67f27a26f1ac",
   "metadata": {},
   "source": [
    "#### Target Variable"
   ]
  },
  {
   "cell_type": "code",
   "execution_count": null,
   "id": "934c9dda-36eb-4bfc-8806-32bbd548d69f",
   "metadata": {},
   "outputs": [],
   "source": [
    "train[target].describe().to_frame().T"
   ]
  },
  {
   "cell_type": "code",
   "execution_count": null,
   "id": "6b3f72da-912b-42d7-ad64-bef48bd46470",
   "metadata": {},
   "outputs": [],
   "source": [
    "train_target_raw = train[target].copy()"
   ]
  },
  {
   "cell_type": "code",
   "execution_count": null,
   "id": "01db5d54-cb40-4ad1-ba04-154b5befa40b",
   "metadata": {},
   "outputs": [],
   "source": [
    "fig = plt.figure()\n",
    "sns.histplot(train_target_raw, bins=70, alpha=1)\n",
    "plt.xlabel('Price')\n",
    "plt.ylabel('Count')\n",
    "# plt.title('Distribution of Price')\n",
    "plt.grid(False)\n",
    "axis_rstyle(xticks=(0, 800000, 200000), yticks=(0, 125, 25))\n",
    "plt.show()\n",
    "\n",
    "savefig('target_distribution', save_img)"
   ]
  },
  {
   "cell_type": "code",
   "execution_count": null,
   "id": "ff23986f-5124-422f-9f6c-13f9524fbcec",
   "metadata": {},
   "outputs": [],
   "source": [
    "train[target] = np.log(train[target])"
   ]
  },
  {
   "cell_type": "code",
   "execution_count": null,
   "id": "89758f54-54d6-4d0b-a974-cac7d1dd2372",
   "metadata": {},
   "outputs": [],
   "source": [
    "fig = plt.figure()\n",
    "sns.histplot(data=train, x=target, bins=50, alpha=1)\n",
    "plt.xlabel('Price')\n",
    "plt.ylabel('Count')\n",
    "# plt.title('Distribution of Price')\n",
    "plt.grid(False)\n",
    "axis_rstyle(xticks=(10.0, 14.0, 0.5), yticks=(0, 120, 20))\n",
    "plt.gca().tick_params(direction='out')\n",
    "plt.show()\n",
    "\n",
    "savefig('target_distribution_log', save_img)"
   ]
  },
  {
   "cell_type": "markdown",
   "id": "d08734e4-4b8c-4a48-b2f5-cb0472bbc794",
   "metadata": {},
   "source": [
    "## Missing Values Handling"
   ]
  },
  {
   "cell_type": "markdown",
   "id": "8917310a-705f-4b2b-8f96-b4efffd70089",
   "metadata": {},
   "source": [
    "### Categorical variables"
   ]
  },
  {
   "cell_type": "markdown",
   "id": "bf7ac189-dbf5-4275-8f04-4394a530e43f",
   "metadata": {},
   "source": [
    "#### Manually NaNs handling with data description"
   ]
  },
  {
   "cell_type": "code",
   "execution_count": null,
   "id": "4ac64459-88cb-41f0-8376-c02abaff506f",
   "metadata": {
    "tags": []
   },
   "outputs": [],
   "source": [
    "data_describe(train[ordinal]).head()"
   ]
  },
  {
   "cell_type": "code",
   "execution_count": null,
   "id": "9136b81c-f49f-4eda-a44b-5279c8e32c45",
   "metadata": {
    "tags": []
   },
   "outputs": [],
   "source": [
    "data_describe(train[categorical]).head()"
   ]
  },
  {
   "cell_type": "markdown",
   "id": "6e1af785-1073-45e5-b5f4-e8f1d13eb1b8",
   "metadata": {},
   "source": [
    "##### Variables with 'NA' as NaN values (as in 'Data Description'):  \n",
    "'poolqc', 'miscfeature', 'alley', 'fence', 'masvnrtype', 'fireplacequ', 'garagecond', 'garagetype', 'garagequal', 'garagefinish', 'garageyrbuilt', 'bsmtexposure', 'bsmtqual', 'bsmtcond', 'bsmtfintype1', 'bsmtfintype2'"
   ]
  },
  {
   "cell_type": "code",
   "execution_count": null,
   "id": "1f34f96d-52d4-4d9a-b436-2b217fb34f57",
   "metadata": {},
   "outputs": [],
   "source": [
    "features_na = [\n",
    "    'poolqc', 'miscfeature', 'alley', 'fence',\n",
    "    'masvnrtype', 'fireplacequ', 'garagecond', \n",
    "    'garagetype', 'garagequal', 'garagefinish',\n",
    "    'bsmtexposure', 'bsmtqual', 'bsmtcond',\n",
    "    'bsmtfintype_first', 'bsmtfintype_second'\n",
    "]"
   ]
  },
  {
   "cell_type": "code",
   "execution_count": null,
   "id": "513dcf0b-dcad-4fed-9d8d-6dbaa62387af",
   "metadata": {},
   "outputs": [],
   "source": [
    "train.head()"
   ]
  },
  {
   "cell_type": "code",
   "execution_count": null,
   "id": "f906ce28-1d87-4f44-bd4a-86c6ecba9a95",
   "metadata": {},
   "outputs": [],
   "source": [
    "train[features_na] = train[features_na].fillna('NA')"
   ]
  },
  {
   "cell_type": "code",
   "execution_count": null,
   "id": "5fa3963b-2f3c-4c4d-b74a-1eca16c9afd0",
   "metadata": {},
   "outputs": [],
   "source": [
    "train.head()"
   ]
  },
  {
   "cell_type": "code",
   "execution_count": null,
   "id": "1eb20ed8-e867-458d-8984-42a8f2d745fb",
   "metadata": {},
   "outputs": [],
   "source": [
    "data_describe(train[categorical]).head()"
   ]
  },
  {
   "cell_type": "markdown",
   "id": "71edcca4-fbb5-491f-8095-1e67d8695761",
   "metadata": {},
   "source": [
    "#### Categorical Imputation\n",
    "\n",
    "Most frequent. <br>\n",
    "The only NaN value of 'electrical' variable is filled by the most frequent value"
   ]
  },
  {
   "cell_type": "code",
   "execution_count": null,
   "id": "2ae64f36-5204-4b17-a6ce-110cb86d1805",
   "metadata": {
    "tags": []
   },
   "outputs": [],
   "source": [
    "imputer_frequent = CategoricalImputer(\n",
    "    imputation_method='frequent',\n",
    "    variables=categorical\n",
    ")"
   ]
  },
  {
   "cell_type": "code",
   "execution_count": null,
   "id": "abcb3776-88ec-4eb6-8319-f3a2a9c61143",
   "metadata": {
    "tags": []
   },
   "outputs": [],
   "source": [
    "imputer_frequent.fit(train)"
   ]
  },
  {
   "cell_type": "code",
   "execution_count": null,
   "id": "e765e5fd-ab19-4806-bd4d-f3cc6c77c51d",
   "metadata": {
    "tags": []
   },
   "outputs": [],
   "source": [
    "train = imputer_frequent.transform(train)"
   ]
  },
  {
   "cell_type": "code",
   "execution_count": null,
   "id": "bb0e4077-bed6-48cc-b95b-ff2eb128b2da",
   "metadata": {
    "tags": []
   },
   "outputs": [],
   "source": [
    "data_describe(train[categorical]).head(5)"
   ]
  },
  {
   "cell_type": "code",
   "execution_count": null,
   "id": "eaab1621-6650-4536-8e2b-017859efe4ca",
   "metadata": {},
   "outputs": [],
   "source": [
    "train[categorical].isna().values.any()"
   ]
  },
  {
   "cell_type": "markdown",
   "id": "e7073899-83db-4cc9-b8e1-337a703d0f7a",
   "metadata": {},
   "source": [
    "### Quantitative variables"
   ]
  },
  {
   "cell_type": "code",
   "execution_count": null,
   "id": "6ce9b0d3-5333-48e1-a880-27b04b033ffc",
   "metadata": {
    "executionInfo": {
     "elapsed": 46,
     "status": "aborted",
     "timestamp": 1675237549582,
     "user": {
      "displayName": "Alexander Chasovsky",
      "userId": "02150901659695146649"
     },
     "user_tz": -180
    },
    "id": "d22dd4c7-b6e3-4afe-99eb-5af1e805cf81"
   },
   "outputs": [],
   "source": [
    "data_describe(train[numeric]).head(5)"
   ]
  },
  {
   "cell_type": "markdown",
   "id": "66236a8d-1a9c-4688-9a43-7b558ecd876d",
   "metadata": {},
   "source": [
    "#### 'garageyrblt' \n",
    "\n",
    "Filling NaN values by 'yearbuilt' value"
   ]
  },
  {
   "cell_type": "code",
   "execution_count": null,
   "id": "fc39c81b-e175-4109-a1fd-69d749e0b370",
   "metadata": {},
   "outputs": [],
   "source": [
    "sns.histplot(train['garageyrblt'], bins=50);"
   ]
  },
  {
   "cell_type": "code",
   "execution_count": null,
   "id": "d240de8e-f41a-4a72-9878-33f929543eda",
   "metadata": {},
   "outputs": [],
   "source": [
    "garage_fill = train.loc[train['garageyrblt'].isna(), 'yearbuilt']"
   ]
  },
  {
   "cell_type": "code",
   "execution_count": null,
   "id": "4f59521c-c019-4e35-a659-2a4d7e40650f",
   "metadata": {},
   "outputs": [],
   "source": [
    "loc = train['garageyrblt'].isna(), 'garageyrblt'\n",
    "train.loc[loc] = train.loc[loc].fillna(garage_fill)"
   ]
  },
  {
   "cell_type": "code",
   "execution_count": null,
   "id": "4c8befe3-2234-4022-871d-b990082b11e8",
   "metadata": {},
   "outputs": [],
   "source": [
    "sns.histplot(\n",
    "    data=train, x='garageyrblt',\n",
    "    hue='garagetype', bins=50\n",
    ");\n",
    "plt.legend(\n",
    "    labels = train['garagetype'].unique(),\n",
    "    loc='upper right', bbox_to_anchor=(1.2, 1),\n",
    "    prop={'size': 9}, labelcolor='0.3' \n",
    ")\n",
    "plt.show()"
   ]
  },
  {
   "cell_type": "markdown",
   "id": "3541d55a-2313-481e-8816-ec17b9fd71bc",
   "metadata": {},
   "source": [
    "#### 'lotfrontage'\n",
    "\n",
    "1. Check is there dependency between 'lotfrontage'==NaN and target\n",
    "\n",
    "**Results:** \n",
    "1. no dependency **-->** mean imputation\n",
    "2. Additional: detected two potential outliers (idxs: 934, 1298)"
   ]
  },
  {
   "cell_type": "code",
   "execution_count": null,
   "id": "e9c1e656-5739-4924-9949-6bae116dbe9e",
   "metadata": {},
   "outputs": [],
   "source": [
    "train['lotfrontage'].hist(bins=50);"
   ]
  },
  {
   "cell_type": "code",
   "execution_count": null,
   "id": "ac12d565-ead1-4c23-b00a-2db61e5a3d5e",
   "metadata": {},
   "outputs": [],
   "source": [
    "(train[numeric]\n",
    " .corr()\n",
    " .loc['lotfrontage']\n",
    " .sort_values(ascending=False, key=abs)\n",
    " .head())"
   ]
  },
  {
   "cell_type": "code",
   "execution_count": null,
   "id": "e471eb7e-52e3-4e9b-8e77-351c907d255e",
   "metadata": {},
   "outputs": [],
   "source": [
    "# lotfrontage NaNs range in 'price' variable\n",
    "fig = plt.figure()\n",
    "sns.scatterplot(\n",
    "    data=train,\n",
    "    x='id',\n",
    "    y=target,\n",
    "    color=palette[0]\n",
    ")\n",
    "loc_r = train['lotfrontage'].isna()\n",
    "sns.scatterplot(\n",
    "    data=train.loc[loc_r],\n",
    "    y='price',\n",
    "    x=train.loc[loc_r, 'id'].values,\n",
    "    color=palette[1]\n",
    ")\n",
    "plt.xlabel(str.capitalize('id'))\n",
    "plt.ylabel(str.capitalize('price'))\n",
    "plt.show()"
   ]
  },
  {
   "cell_type": "code",
   "execution_count": null,
   "id": "7e062a87-b7d6-4faf-9935-fba943601504",
   "metadata": {},
   "outputs": [],
   "source": [
    "fig = plt.figure(figsize=(8, 2.5))\n",
    "\n",
    "sns.scatterplot(\n",
    "    data=train, x='lotfrontage', y=target, **scatter)\n",
    "\n",
    "sns.scatterplot(\n",
    "    data=train.loc[train['lotfrontage']>250, ['lotfrontage', target]],\n",
    "    x='lotfrontage',\n",
    "    y=target,\n",
    "    s=20,\n",
    "    color=palette[1])\n",
    "\n",
    "plt.xlabel('Lotfrontage')\n",
    "plt.ylabel('Price')\n",
    "# plt.title('Street connected to property vs Price')\n",
    "axis_rstyle(\n",
    "    yticks=[10, 14, 0.5],\n",
    "    xticks=[0, 350, 50],\n",
    "    grid=False\n",
    ")\n",
    "plt.show()\n",
    "\n",
    "savefig('lotfrontage_outs', save_img)"
   ]
  },
  {
   "cell_type": "code",
   "execution_count": null,
   "id": "a3d0ad57-9ee6-4b7f-a670-38ad1c809ac7",
   "metadata": {},
   "outputs": [],
   "source": [
    "train[train['lotfrontage']>250]"
   ]
  },
  {
   "cell_type": "markdown",
   "id": "ccb09def-9afe-421f-ac16-9f8acdf4840c",
   "metadata": {},
   "source": [
    "#### 'masvnrarea'\n",
    "\n",
    "Potential outliers (idx: 297)"
   ]
  },
  {
   "cell_type": "code",
   "execution_count": null,
   "id": "fa5abd94-6c04-47d3-9a3a-f18d90e51b33",
   "metadata": {},
   "outputs": [],
   "source": [
    "masvnrarea_nan_idxs = train[train['masvnrarea'].isna()].index.tolist()"
   ]
  },
  {
   "cell_type": "code",
   "execution_count": null,
   "id": "d8ac1a26-ad7c-4da8-a1e6-481b1a88c487",
   "metadata": {},
   "outputs": [],
   "source": [
    "masvnrarea_nan_idxs"
   ]
  },
  {
   "cell_type": "code",
   "execution_count": null,
   "id": "a26c13be-25e2-4716-a914-bea92d76724d",
   "metadata": {},
   "outputs": [],
   "source": [
    "train.loc[masvnrarea_nan_idxs, ['masvnrarea', 'masvnrtype', 'price']]"
   ]
  },
  {
   "cell_type": "code",
   "execution_count": null,
   "id": "65e03201-30e2-4264-af88-9931b3a5cf11",
   "metadata": {},
   "outputs": [],
   "source": [
    "sns.scatterplot(data=train, x='masvnrarea', y=target);"
   ]
  },
  {
   "cell_type": "code",
   "execution_count": null,
   "id": "40736218-777f-41d5-a584-93a1f09d712d",
   "metadata": {},
   "outputs": [],
   "source": [
    "train[train['masvnrarea'] > 1400]"
   ]
  },
  {
   "cell_type": "code",
   "execution_count": null,
   "id": "2a4f5a22-e4fb-4ab5-a483-6334b3913bd8",
   "metadata": {},
   "outputs": [],
   "source": [
    "train.loc[train['masvnrarea'].isna(), 'masvnrarea'] = 0"
   ]
  },
  {
   "cell_type": "markdown",
   "id": "f60f38eb-0c25-48d5-8c51-7a96133d8199",
   "metadata": {},
   "source": [
    "#### Quantitative Imputation \n",
    "\n",
    "Median"
   ]
  },
  {
   "cell_type": "code",
   "execution_count": null,
   "id": "f11bdbe2-8ce5-45cd-8391-d8660d418900",
   "metadata": {
    "tags": []
   },
   "outputs": [],
   "source": [
    "imputer_median = MeanMedianImputer(\n",
    "    imputation_method='median',\n",
    "    variables=numeric\n",
    ")"
   ]
  },
  {
   "cell_type": "code",
   "execution_count": null,
   "id": "ce92702d-d423-4b45-9256-fac86d286d1d",
   "metadata": {
    "tags": []
   },
   "outputs": [],
   "source": [
    "imputer_median.fit(train)"
   ]
  },
  {
   "cell_type": "code",
   "execution_count": null,
   "id": "007dd239-638a-46bd-a8fc-ac5fe5653857",
   "metadata": {
    "tags": []
   },
   "outputs": [],
   "source": [
    "train = imputer_median.transform(train)"
   ]
  },
  {
   "cell_type": "code",
   "execution_count": null,
   "id": "a0f08ec0-0191-4cbc-b8a8-31bb5e9d53d4",
   "metadata": {
    "tags": []
   },
   "outputs": [],
   "source": [
    "train.head()"
   ]
  },
  {
   "cell_type": "code",
   "execution_count": null,
   "id": "c88efa93-6750-4cd5-b784-46b3a5047be4",
   "metadata": {
    "tags": []
   },
   "outputs": [],
   "source": [
    "data_describe(train[numeric]).head()"
   ]
  },
  {
   "cell_type": "code",
   "execution_count": null,
   "id": "e2cca50e-4596-412f-aa66-f218af7132b4",
   "metadata": {},
   "outputs": [],
   "source": [
    "train[numeric].isna().values.any()"
   ]
  },
  {
   "cell_type": "markdown",
   "id": "7c455f34-68da-4a65-9fc8-8d1b7407a565",
   "metadata": {},
   "source": [
    "## Relabeling "
   ]
  },
  {
   "cell_type": "code",
   "execution_count": null,
   "id": "264e2726-927b-4f1c-9213-c5c4b6574845",
   "metadata": {},
   "outputs": [],
   "source": [
    "features_labels_lists = [\n",
    "    ['exterqual', 'extercond', 'bsmtqual', 'bsmtcond', 'heatingqc',\n",
    "     'kitchenqual', 'fireplacequ', 'garagecond', 'garagequal', 'poolqc'],\n",
    "    ['bsmtexposure'],\n",
    "    ['bsmtfintype_first', 'bsmtfintype_second'],\n",
    "    ['functional'],\n",
    "    ['garagetype'],\n",
    "    ['garagefinish'],\n",
    "    ['mssubclass']\n",
    "]"
   ]
  },
  {
   "cell_type": "code",
   "execution_count": null,
   "id": "2a2eb76e-24b2-49aa-93f7-c590771a2be2",
   "metadata": {},
   "outputs": [],
   "source": [
    "features_labels_dicts = [\n",
    "    {'Ex': 5, 'Gd': 4, 'TA': 3, 'Fa': 2, 'Po': 1, 'NA': 0},\n",
    "    {'Gd': 4, 'Av': 3, 'Mn': 2, 'No': 1, 'NA': 0},\n",
    "    {'GLQ': 6, 'ALQ': 5, 'BLQ': 4, 'Rec': 3, 'LwQ': 2, 'Unf': 1, 'NA': 0},\n",
    "    {'Typ': 7, 'Min1': 6, 'Min2': 5, 'Mod': 4, 'Maj1': 3, 'Maj2': 2,\n",
    "     'Sev': 1, 'Sal': 0},\n",
    "    {'2Types': 6, 'Attchd': 5, 'Basment': 4, 'BuiltIn': 3,\n",
    "     'CarPort': 2, 'Detchd': 1, 'NA': 0},\n",
    "    {'Fin': 3, 'RFn': 2, 'Unf': 1, 'NA': 0}\n",
    "]"
   ]
  },
  {
   "cell_type": "code",
   "execution_count": null,
   "id": "8c9c28e6-9761-4288-a310-cd9c4bdc2daa",
   "metadata": {},
   "outputs": [],
   "source": [
    "train['exterqual'].unique()"
   ]
  },
  {
   "cell_type": "code",
   "execution_count": null,
   "id": "a6b7a7a1-b9f4-499e-a9f3-643e0ff3e13d",
   "metadata": {},
   "outputs": [],
   "source": [
    "train['poolqc'].unique()"
   ]
  },
  {
   "cell_type": "code",
   "execution_count": null,
   "id": "651ea372-7d00-4931-b551-c23339fc2511",
   "metadata": {},
   "outputs": [],
   "source": [
    "train['mssubclass'].unique()"
   ]
  },
  {
   "cell_type": "code",
   "execution_count": null,
   "id": "c9aa66a9-9f9c-4ad9-ac90-c233b5cdd7ac",
   "metadata": {},
   "outputs": [],
   "source": [
    "zip_ = zip(features_labels_lists, features_labels_dicts)\n",
    "for lst, dct in zip_:\n",
    "    for f in lst:\n",
    "        train[f] = train[f].map(dct)"
   ]
  },
  {
   "cell_type": "code",
   "execution_count": null,
   "id": "c70ec5d6-a3af-48dd-80ee-4941c48d99a5",
   "metadata": {},
   "outputs": [],
   "source": [
    "train['mssubclass'] = train['mssubclass'].apply(lambda x: str(x))"
   ]
  },
  {
   "cell_type": "code",
   "execution_count": null,
   "id": "42b9f840-e955-4ced-94af-d89d05c73bfe",
   "metadata": {},
   "outputs": [],
   "source": [
    "train['exterqual'].unique()"
   ]
  },
  {
   "cell_type": "code",
   "execution_count": null,
   "id": "8240a25f-62e5-4a5d-9ef5-d4d19eacd305",
   "metadata": {},
   "outputs": [],
   "source": [
    "train['poolqc'].unique()"
   ]
  },
  {
   "cell_type": "code",
   "execution_count": null,
   "id": "b29542bc-d4f1-45bf-a3ea-a8990d8cd4a7",
   "metadata": {},
   "outputs": [],
   "source": [
    "train['mssubclass'].unique()"
   ]
  },
  {
   "cell_type": "markdown",
   "id": "6c6d0dde-3cc9-494c-ab19-9f4d3718b779",
   "metadata": {},
   "source": [
    "### Transform 'msubclass' values and move it to Categorical variables list"
   ]
  },
  {
   "cell_type": "code",
   "execution_count": null,
   "id": "0fba186f-5a0e-438a-9267-0fb00fe25a76",
   "metadata": {},
   "outputs": [],
   "source": [
    "categorical.append('mssubclass')\n",
    "numeric.remove('mssubclass')"
   ]
  },
  {
   "cell_type": "code",
   "execution_count": null,
   "id": "3d6e9cd4-3cc8-483d-81f0-d8ed3a74a116",
   "metadata": {},
   "outputs": [],
   "source": [
    "assert len(features) == len(numeric) + len(ordinal) + len(categorical)"
   ]
  },
  {
   "cell_type": "code",
   "execution_count": null,
   "id": "78271d7e-323a-4091-8276-b83ea4c9691f",
   "metadata": {},
   "outputs": [],
   "source": [
    "categorical_transform = categorical.copy()"
   ]
  },
  {
   "cell_type": "markdown",
   "id": "ec3023b5-c321-4bb4-9526-1a2f44d9f5ce",
   "metadata": {},
   "source": [
    "## Transformation Pipeline Check"
   ]
  },
  {
   "cell_type": "code",
   "execution_count": null,
   "id": "0a7190e9-3d19-4359-92e6-eb7a89f788af",
   "metadata": {},
   "outputs": [],
   "source": [
    "transformer_overview = OverviewTransformer(\n",
    "    features_na=features_na\n",
    ")"
   ]
  },
  {
   "cell_type": "code",
   "execution_count": null,
   "id": "171caa64-669c-44c6-bf34-777fc0bd6457",
   "metadata": {},
   "outputs": [],
   "source": [
    "transformer_label = LabelTransformer(\n",
    "    features_labels_lists=features_labels_lists,\n",
    "    features_labels_dicts=features_labels_dicts\n",
    ")"
   ]
  },
  {
   "cell_type": "code",
   "execution_count": null,
   "id": "e5cf65d0-b24e-4870-b5d7-8159eb78acd3",
   "metadata": {},
   "outputs": [],
   "source": [
    "pipeline = Pipeline(steps=[\n",
    "    ('overview', transformer_overview),\n",
    "    ('imputer_num', imputer_median),\n",
    "    ('imputer_cat', imputer_frequent),\n",
    "    ('label', transformer_label)\n",
    "])"
   ]
  },
  {
   "cell_type": "code",
   "execution_count": null,
   "id": "08d36009-020c-4119-beb7-7b7801cf7134",
   "metadata": {},
   "outputs": [],
   "source": [
    "pipeline"
   ]
  },
  {
   "cell_type": "code",
   "execution_count": null,
   "id": "7088bbf8-cfc4-487f-845f-0524ef61c9e3",
   "metadata": {},
   "outputs": [],
   "source": [
    "train_transformed = train_raw.copy()"
   ]
  },
  {
   "cell_type": "code",
   "execution_count": null,
   "id": "751818aa-e178-4898-85d1-f9714ef25951",
   "metadata": {},
   "outputs": [],
   "source": [
    "train_transformed = pipeline.transform(train_transformed)"
   ]
  },
  {
   "cell_type": "code",
   "execution_count": null,
   "id": "3f1e493c-7b9a-4663-af80-952ff269cb2e",
   "metadata": {},
   "outputs": [],
   "source": [
    "train_transformed[target] = np.log(train_transformed[target])"
   ]
  },
  {
   "cell_type": "code",
   "execution_count": null,
   "id": "9d0debca-f811-4782-9049-0603c061f8cb",
   "metadata": {},
   "outputs": [],
   "source": [
    "# check pipeline - datasets have to be equals if pipeline if correct\n",
    "assert train_transformed.equals(train)"
   ]
  },
  {
   "cell_type": "code",
   "execution_count": null,
   "id": "e6880247-d925-40a8-85fd-6bbe414174f8",
   "metadata": {},
   "outputs": [],
   "source": [
    "# display rows with differences\n",
    "train[~train.apply(tuple, 1).isin(train_transformed.apply(tuple, 1))]"
   ]
  },
  {
   "cell_type": "markdown",
   "id": "2dc22827-eb83-435b-a759-a9b5685d69a4",
   "metadata": {},
   "source": [
    "## Baseline Model"
   ]
  },
  {
   "cell_type": "code",
   "execution_count": null,
   "id": "42ebcb19-7a3a-4ccc-8236-c44f9f6b1066",
   "metadata": {},
   "outputs": [],
   "source": [
    "train_bm = train.copy()"
   ]
  },
  {
   "cell_type": "code",
   "execution_count": null,
   "id": "c8483df8-ec11-47df-868f-eace2c9eb87a",
   "metadata": {},
   "outputs": [],
   "source": [
    "train_bm.head()"
   ]
  },
  {
   "cell_type": "markdown",
   "id": "ab448182-8812-4864-9702-571bdd8bf2df",
   "metadata": {},
   "source": [
    "### Pipeline For GridSearch"
   ]
  },
  {
   "cell_type": "code",
   "execution_count": null,
   "id": "ae67a136-c1eb-4640-b5c7-9d2f22dae8bf",
   "metadata": {},
   "outputs": [],
   "source": [
    "encoder = OrdinalEncoder(\n",
    "    encoding_method='ordered',\n",
    "    variables=categorical_transform,\n",
    "    missing_values='ignore',\n",
    "    unseen='encode'\n",
    ")"
   ]
  },
  {
   "cell_type": "code",
   "execution_count": null,
   "id": "c5ddeb94-2396-4fe6-a1f3-91fd72b2f884",
   "metadata": {},
   "outputs": [],
   "source": [
    "lgb1 = LGBMRegressor()"
   ]
  },
  {
   "cell_type": "code",
   "execution_count": null,
   "id": "26c7e2b5-2928-42d6-b85d-f2a9267702a2",
   "metadata": {},
   "outputs": [],
   "source": [
    "lgb_pipeline1 = Pipeline(steps=[\n",
    "    ('encoder', encoder),\n",
    "    ('estimator', lgb1)\n",
    "])"
   ]
  },
  {
   "cell_type": "markdown",
   "id": "b654ab86-23b1-4995-b41c-86a8b72d17e5",
   "metadata": {},
   "source": [
    "### GridSearch Iteration #1"
   ]
  },
  {
   "cell_type": "code",
   "execution_count": null,
   "id": "dbe13590-f091-45ef-b476-b728c8ea819d",
   "metadata": {},
   "outputs": [],
   "source": [
    "params1 = {\n",
    "    'estimator__n_estimators': [25, 50, 75],\n",
    "    'estimator__max_depth': [3, 6, 9],\n",
    "    'estimator__num_leaves': [5, 38, 300],\n",
    "    'estimator__learning_rate': [0.1, 0.3],\n",
    "    'estimator__random_state': [seed],\n",
    "    'estimator__verbose': [-1]\n",
    "}"
   ]
  },
  {
   "cell_type": "code",
   "execution_count": null,
   "id": "2dceff47-f598-41cb-957b-edeb200d2189",
   "metadata": {},
   "outputs": [],
   "source": [
    "n_folds1 = 20"
   ]
  },
  {
   "cell_type": "code",
   "execution_count": null,
   "id": "b8312f7e-ab57-4134-984e-775b97d314f0",
   "metadata": {},
   "outputs": [],
   "source": [
    "cv1 = GridSearchCV(\n",
    "    estimator=lgb_pipeline1, \n",
    "    param_grid=params1,\n",
    "    scoring='neg_root_mean_squared_error',\n",
    "    cv=n_folds1\n",
    ")"
   ]
  },
  {
   "cell_type": "code",
   "execution_count": null,
   "id": "90158028-87c3-44a5-b78c-d112ca3dc6d3",
   "metadata": {},
   "outputs": [],
   "source": [
    "st = stopwatch.start()\n",
    "cv1.fit(train_bm[features], train_bm[target])\n",
    "print(f'Execution time: {stopwatch.stop(st)}')"
   ]
  },
  {
   "cell_type": "code",
   "execution_count": null,
   "id": "c966bfe6-726e-49ad-a236-56ba1db0ea9b",
   "metadata": {},
   "outputs": [],
   "source": [
    "cv1_results_df = pd.DataFrame(cv1.cv_results_)"
   ]
  },
  {
   "cell_type": "code",
   "execution_count": null,
   "id": "b26ed3b9-6e5b-4a60-bcd2-f63f68d4419b",
   "metadata": {},
   "outputs": [],
   "source": [
    "cv1_results_df.shape"
   ]
  },
  {
   "cell_type": "code",
   "execution_count": null,
   "id": "15a578b1-8119-4f66-bbcf-c29092bcb27e",
   "metadata": {},
   "outputs": [],
   "source": [
    "cv1_results_df_columns_drop = [\n",
    "    'mean_fit_time', 'std_fit_time', 'mean_score_time', 'std_score_time',\n",
    "]"
   ]
  },
  {
   "cell_type": "code",
   "execution_count": null,
   "id": "816e515c-95f8-4295-81c5-059e35914aa9",
   "metadata": {},
   "outputs": [],
   "source": [
    "cv1_results_df = cv1_results_df.loc[\n",
    "    :, ~cv1_results_df.columns.isin(cv1_results_df_columns_drop)].copy()"
   ]
  },
  {
   "cell_type": "code",
   "execution_count": null,
   "id": "2431ce0f-98f8-48e9-900a-710c6695a27d",
   "metadata": {},
   "outputs": [],
   "source": [
    "cv1_results_df = cv1_results_df.sort_values([\n",
    "    'param_estimator__learning_rate', 'param_estimator__n_estimators',\n",
    "    'param_estimator__max_depth', 'param_estimator__num_leaves'\n",
    "], ascending=True)"
   ]
  },
  {
   "cell_type": "code",
   "execution_count": null,
   "id": "c8cefbf8-6fdf-4a8c-b49e-2c9f7e3f8a45",
   "metadata": {},
   "outputs": [],
   "source": [
    "cv1_results_df = cv1_results_df.reset_index(drop=True)"
   ]
  },
  {
   "cell_type": "code",
   "execution_count": null,
   "id": "26730b44-5c60-415e-b18d-f44d7df10d09",
   "metadata": {},
   "outputs": [],
   "source": [
    "# folds scores are normal\n",
    "test_normality(cv1_results_df.iloc[0, 7:27].astype(float))"
   ]
  },
  {
   "cell_type": "code",
   "execution_count": null,
   "id": "a439cb9a-514c-460c-a372-444ac7985974",
   "metadata": {},
   "outputs": [],
   "source": [
    "cv1_results_df['ci_margin'] = \\\n",
    "    1.96 * cv1_results_df['std_test_score']  / np.sqrt(n_folds1)"
   ]
  },
  {
   "cell_type": "raw",
   "id": "3d634924-536f-4289-9109-211f7447009d",
   "metadata": {},
   "source": [
    "cv1_results_df = put_column_after(\n",
    "    cv1_results_df, 'param_estimator__n_estimators', 'param_estimator__learning_rate')"
   ]
  },
  {
   "cell_type": "code",
   "execution_count": null,
   "id": "91fe9d8c-b825-47c0-837b-2b484503c195",
   "metadata": {},
   "outputs": [],
   "source": [
    "cv1_results_df_params_cols = [\n",
    "    'param_estimator__learning_rate', 'param_estimator__n_estimators',\n",
    "    'param_estimator__max_depth', 'param_estimator__num_leaves'\n",
    "]"
   ]
  },
  {
   "cell_type": "code",
   "execution_count": null,
   "id": "386ddef4-7aec-465d-b900-a20c3e40b74f",
   "metadata": {},
   "outputs": [],
   "source": [
    "cv1_results_df.head()"
   ]
  },
  {
   "cell_type": "code",
   "execution_count": null,
   "id": "fa99e806-e354-4695-bc2c-87c4d6694565",
   "metadata": {},
   "outputs": [],
   "source": [
    "# sort thw simplest model if several equal mean_test_scores\n",
    "cv1_results_df_best_score_idx = \\\n",
    "    (cv1_results_df\n",
    "     .sort_values(['param_estimator__n_estimators',\n",
    "                   'param_estimator__max_depth',\n",
    "                   'param_estimator__num_leaves'])\n",
    "     .sort_values(['mean_test_score'], ascending=False)).iloc[0].name"
   ]
  },
  {
   "cell_type": "code",
   "execution_count": null,
   "id": "04c752ae-3505-4b10-91d8-148604f52103",
   "metadata": {},
   "outputs": [],
   "source": [
    "cv1_results_df_best_score_idx"
   ]
  },
  {
   "cell_type": "code",
   "execution_count": null,
   "id": "4dba0a2a-0c2f-4f19-a07c-eac3c21e9b38",
   "metadata": {},
   "outputs": [],
   "source": [
    "cv1_results_df_best_score = cv1_results_df.loc[\n",
    "    cv1_results_df.index==cv1_results_df_best_score_idx, 'mean_test_score'\n",
    "].item()"
   ]
  },
  {
   "cell_type": "code",
   "execution_count": null,
   "id": "6e7be787-4d8f-4b4e-bc3f-955d30127d92",
   "metadata": {},
   "outputs": [],
   "source": [
    "cv1_results_df_best_score_ci_margin = cv1_results_df.loc[\n",
    "    cv1_results_df.index==cv1_results_df_best_score_idx, 'ci_margin'\n",
    "].item()"
   ]
  },
  {
   "cell_type": "code",
   "execution_count": null,
   "id": "e0ef66da-88ab-4d6a-8f30-163b3b2988d8",
   "metadata": {},
   "outputs": [],
   "source": [
    "# define colors of pointplot's elements\n",
    "cv1_results_df_colors = [palette[-4]] * 54\n",
    "cv1_results_df_colors[cv1_results_df_best_score_idx] = '#B63125'"
   ]
  },
  {
   "cell_type": "code",
   "execution_count": null,
   "id": "ab75c243-24af-41c6-8137-0ab8ae769369",
   "metadata": {},
   "outputs": [],
   "source": [
    "fig, ax = plt.subplots(figsize=(10, 2.5))\n",
    "\n",
    "zip_ = [\n",
    "    cv1_results_df.index, cv1_results_df['mean_test_score'],\n",
    "    cv1_results_df['ci_margin'], cv1_results_df_colors\n",
    "]\n",
    "for x_, y_, ci_, c_ in zip(*zip_): \n",
    "    if x_ == cv1_results_df_best_score_idx:\n",
    "        ax.errorbar(\n",
    "            x=x_,\n",
    "            y=y_,\n",
    "            yerr=ci_,\n",
    "            fmt='o',\n",
    "            markersize=2,\n",
    "            c=c_,\n",
    "            linestyle='none',\n",
    "            elinewidth=1,\n",
    "            capsize=1.1,\n",
    "            ecolor=c_,\n",
    "            zorder=1,\n",
    "        )\n",
    "    else:\n",
    "        ax.errorbar(\n",
    "            x=x_,\n",
    "            y=y_,\n",
    "            yerr=ci_,\n",
    "            fmt='o',\n",
    "            markersize=1.5,\n",
    "            c=c_,\n",
    "            linestyle='none',\n",
    "            elinewidth=1,\n",
    "            capsize=1,\n",
    "            ecolor=c_,\n",
    "            zorder=1\n",
    "        )\n",
    "ax.set_xticks(ticks=arange(len(cv1_results_df)), labels=['5', '38', '300'] * 18)\n",
    "axis_rstyle()\n",
    "\n",
    "axis_add_xaxis(\n",
    "    labels=[\n",
    "        ['Dep.: 3', 'Dep.: 6', 'Dep.: 9'] * 6,\n",
    "        ['Trees: 25', 'Trees: 50', 'Trees:75'] * 2,\n",
    "        ['Learning rate: 0.1', 'Learning rate: 0.3']\n",
    "    ],\n",
    "    labelcolor='#606060'\n",
    ")\n",
    "savefig('gridsearch1', save_img)"
   ]
  },
  {
   "cell_type": "code",
   "execution_count": null,
   "id": "dbeac16d-b87e-4535-afac-57c580c6f068",
   "metadata": {},
   "outputs": [],
   "source": [
    "best_params1 = cv1_results_df.loc[\n",
    "    cv1_results_df.index==cv1_results_df_best_score_idx, 'params'\n",
    "].item()"
   ]
  },
  {
   "cell_type": "code",
   "execution_count": null,
   "id": "c45038d6-0a29-4ba6-b12e-183a176d6518",
   "metadata": {},
   "outputs": [],
   "source": [
    "best_score1 = round(cv1_results_df_best_score, 4)"
   ]
  },
  {
   "cell_type": "code",
   "execution_count": null,
   "id": "22bbed30-ab4b-42d1-9bb5-2526e4495e95",
   "metadata": {},
   "outputs": [],
   "source": [
    "best_score1"
   ]
  },
  {
   "cell_type": "code",
   "execution_count": null,
   "id": "aeefaea1-d2d8-4b5c-820b-1fbed549fa99",
   "metadata": {},
   "outputs": [],
   "source": [
    "best_params1"
   ]
  },
  {
   "cell_type": "markdown",
   "id": "37f82581-71e4-4e98-8638-2127e6d88590",
   "metadata": {},
   "source": [
    "### GridSearch Iteration #2"
   ]
  },
  {
   "cell_type": "code",
   "execution_count": null,
   "id": "dbf12edd-bfe9-4a00-b614-9925ea2d8be2",
   "metadata": {},
   "outputs": [],
   "source": [
    "lgb2 = LGBMRegressor()"
   ]
  },
  {
   "cell_type": "code",
   "execution_count": null,
   "id": "e0b2ad83-c3ec-41c3-9966-e90eabbaa329",
   "metadata": {},
   "outputs": [],
   "source": [
    "lgb_pipeline2 = Pipeline(steps=[\n",
    "    ('encoder', encoder),\n",
    "    ('estimator', lgb2)\n",
    "])"
   ]
  },
  {
   "cell_type": "code",
   "execution_count": null,
   "id": "e4fb159b-0a67-458e-b630-5149a766bf2c",
   "metadata": {},
   "outputs": [],
   "source": [
    "learning_rate = [best_params1['estimator__learning_rate']]\n",
    "\n",
    "max_depth_val = best_params1['estimator__max_depth']\n",
    "max_depth = list(arange(max_depth_val-2, max_depth_val+3))\n",
    "\n",
    "n_estimators_val = best_params1['estimator__n_estimators']\n",
    "n_estimators = [n_estimators_val-5, n_estimators_val, n_estimators_val+5]\n",
    "\n",
    "num_leaves_val = best_params1['estimator__num_leaves']\n",
    "num_leaves = [num_leaves_val-15, num_leaves_val, num_leaves_val+15]"
   ]
  },
  {
   "cell_type": "code",
   "execution_count": null,
   "id": "7ccb63f7-8489-463b-9a78-82612a8de728",
   "metadata": {},
   "outputs": [],
   "source": [
    "params2 = {\n",
    "    'estimator__learning_rate': learning_rate,\n",
    "    'estimator__max_depth': max_depth,\n",
    "    'estimator__n_estimators': n_estimators,\n",
    "    'estimator__num_leaves': num_leaves,\n",
    "    'estimator__random_state': [seed],\n",
    "    'estimator__verbose': [-1]\n",
    "}"
   ]
  },
  {
   "cell_type": "code",
   "execution_count": null,
   "id": "bd49a952-444d-4a33-a8ab-68054eac299f",
   "metadata": {},
   "outputs": [],
   "source": [
    "params2"
   ]
  },
  {
   "cell_type": "code",
   "execution_count": null,
   "id": "f086e08d-6b83-4e58-aa29-11cb80f25090",
   "metadata": {},
   "outputs": [],
   "source": [
    "n_folds2 = 20"
   ]
  },
  {
   "cell_type": "code",
   "execution_count": null,
   "id": "945e55c2-6422-4c4e-adcb-fbf22088564e",
   "metadata": {},
   "outputs": [],
   "source": [
    "cv2 = GridSearchCV(\n",
    "    estimator=lgb_pipeline2, \n",
    "    param_grid=params2,\n",
    "    scoring='neg_root_mean_squared_error',\n",
    "    cv=n_folds2\n",
    ")"
   ]
  },
  {
   "cell_type": "code",
   "execution_count": null,
   "id": "1db5c824-b5be-4484-badb-664fc92c8476",
   "metadata": {},
   "outputs": [],
   "source": [
    "st = stopwatch.start()\n",
    "cv2.fit(train_bm[features], train_bm[target])\n",
    "print(f'Execution time: {stopwatch.stop(st)}')"
   ]
  },
  {
   "cell_type": "code",
   "execution_count": null,
   "id": "325df3db-1ab5-40a7-b0f2-5196ceff34ae",
   "metadata": {},
   "outputs": [],
   "source": [
    "cv2_results_df = pd.DataFrame(cv2.cv_results_)"
   ]
  },
  {
   "cell_type": "code",
   "execution_count": null,
   "id": "62d5fd38-8e98-4239-b5d3-7886d99fbb14",
   "metadata": {},
   "outputs": [],
   "source": [
    "cv2_results_df.shape"
   ]
  },
  {
   "cell_type": "code",
   "execution_count": null,
   "id": "a179ce56-d2f3-416a-b826-9291167967ca",
   "metadata": {},
   "outputs": [],
   "source": [
    "cv2_results_df_columns_drop = [\n",
    "    'mean_fit_time', 'std_fit_time', 'mean_score_time', 'std_score_time',\n",
    "]"
   ]
  },
  {
   "cell_type": "code",
   "execution_count": null,
   "id": "4f696a90-c488-4f04-89e7-3c9440d7ccaa",
   "metadata": {},
   "outputs": [],
   "source": [
    "cv2_results_df = cv2_results_df.loc[\n",
    "    :, ~cv2_results_df.columns.isin(cv2_results_df_columns_drop)].copy()"
   ]
  },
  {
   "cell_type": "code",
   "execution_count": null,
   "id": "3d99eae6-1d3e-4170-8122-7c71f6e03133",
   "metadata": {},
   "outputs": [],
   "source": [
    "cv2_results_df = cv2_results_df.sort_values([\n",
    "    'param_estimator__learning_rate', 'param_estimator__n_estimators',\n",
    "    'param_estimator__max_depth', 'param_estimator__num_leaves'\n",
    "], ascending=True)"
   ]
  },
  {
   "cell_type": "code",
   "execution_count": null,
   "id": "5edbaa00-ba00-4d5a-bba7-633a26f30e5a",
   "metadata": {},
   "outputs": [],
   "source": [
    "cv2_results_df = cv2_results_df.reset_index(drop=True)"
   ]
  },
  {
   "cell_type": "code",
   "execution_count": null,
   "id": "0aeb3a96-1bd9-493f-9370-607c08cda072",
   "metadata": {},
   "outputs": [],
   "source": [
    "# folds scores are normal\n",
    "test_normality(cv2_results_df.iloc[0, 7:27].astype(float))"
   ]
  },
  {
   "cell_type": "code",
   "execution_count": null,
   "id": "e46051cc-e1df-458a-8936-e3645ace350f",
   "metadata": {},
   "outputs": [],
   "source": [
    "cv2_results_df['ci_margin'] = \\\n",
    "    1.96 * cv2_results_df['std_test_score'] / np.sqrt(n_folds1)"
   ]
  },
  {
   "cell_type": "raw",
   "id": "75a75678-89e1-4255-a33a-0c3b00c0cd40",
   "metadata": {},
   "source": [
    "cv2_results_df = put_column_after(\n",
    "    cv2_results_df, 'param_estimator__n_estimators', 'param_estimator__learning_rate')"
   ]
  },
  {
   "cell_type": "code",
   "execution_count": null,
   "id": "4c3a3d12-150a-411d-8f55-cff922c5657c",
   "metadata": {},
   "outputs": [],
   "source": [
    "cv2_results_df_params_cols = [\n",
    "    'param_estimator__learning_rate', 'param_estimator__n_estimators',\n",
    "    'param_estimator__max_depth', 'param_estimator__num_leaves'\n",
    "]"
   ]
  },
  {
   "cell_type": "code",
   "execution_count": null,
   "id": "a88c47a1-f175-4632-9898-f9f4d72d15d1",
   "metadata": {},
   "outputs": [],
   "source": [
    "cv2_results_df.head()"
   ]
  },
  {
   "cell_type": "code",
   "execution_count": null,
   "id": "942d8efb-8c90-4576-9c62-95ba85cd088f",
   "metadata": {},
   "outputs": [],
   "source": [
    "# sort thw simplest model if several equal mean_test_scores\n",
    "cv2_results_df_best_score_idx = \\\n",
    "    (cv2_results_df\n",
    "     .sort_values(['param_estimator__n_estimators',\n",
    "                   'param_estimator__max_depth',\n",
    "                   'param_estimator__num_leaves'])\n",
    "     .sort_values(['mean_test_score'], ascending=False)).iloc[0].name"
   ]
  },
  {
   "cell_type": "code",
   "execution_count": null,
   "id": "af164a88-8f43-4590-bce1-49fe31cd0cce",
   "metadata": {},
   "outputs": [],
   "source": [
    "cv2_results_df_best_score_idx"
   ]
  },
  {
   "cell_type": "code",
   "execution_count": null,
   "id": "fa377030-d6da-4be3-93ae-382cfccd4af4",
   "metadata": {},
   "outputs": [],
   "source": [
    "cv2_results_df_best_score = cv2_results_df.loc[\n",
    "    cv2_results_df.index==cv2_results_df_best_score_idx, 'mean_test_score'\n",
    "].item()"
   ]
  },
  {
   "cell_type": "code",
   "execution_count": null,
   "id": "90fc99cc-b9d8-4b1b-8126-15690e440135",
   "metadata": {},
   "outputs": [],
   "source": [
    "cv2_results_df_best_score_ci_margin = cv2_results_df.loc[\n",
    "    cv2_results_df.index==cv2_results_df_best_score_idx, 'ci_margin'\n",
    "].item()"
   ]
  },
  {
   "cell_type": "code",
   "execution_count": null,
   "id": "8769a23a-d99c-4fa9-b787-7918fde1b9bf",
   "metadata": {},
   "outputs": [],
   "source": [
    "len(cv2_results_df)"
   ]
  },
  {
   "cell_type": "code",
   "execution_count": null,
   "id": "1b3b2e39-1491-4140-ac99-74bd8b88343e",
   "metadata": {},
   "outputs": [],
   "source": [
    "# define colors of pointplot's elements\n",
    "cv2_results_df_colors = [palette[-4]] * 45\n",
    "cv2_results_df_colors[cv2_results_df_best_score_idx] = '#B63125'"
   ]
  },
  {
   "cell_type": "code",
   "execution_count": null,
   "id": "8aeb9ddd-b47d-4f91-b2d6-1b611c005cae",
   "metadata": {},
   "outputs": [],
   "source": [
    "fig, ax = plt.subplots(figsize=(10, 2.5))\n",
    "\n",
    "zip_ = [\n",
    "    cv2_results_df.index, cv2_results_df['mean_test_score'],\n",
    "    cv2_results_df['ci_margin'], cv2_results_df_colors\n",
    "]\n",
    "for x_, y_, ci_, c_ in zip(*zip_): \n",
    "    if x_ == cv2_results_df_best_score_idx:\n",
    "        ax.errorbar(\n",
    "            x=x_,\n",
    "            y=y_,\n",
    "            yerr=ci_,\n",
    "            fmt='o',\n",
    "            markersize=2,\n",
    "            c=c_,\n",
    "            linestyle='none',\n",
    "            elinewidth=1,\n",
    "            capsize=1.1,\n",
    "            ecolor=c_,\n",
    "            zorder=1,\n",
    "        )\n",
    "    else:\n",
    "        ax.errorbar(\n",
    "            x=x_,\n",
    "            y=y_,\n",
    "            yerr=ci_,\n",
    "            fmt='o',\n",
    "            markersize=1.5,\n",
    "            c=c_,\n",
    "            linestyle='none',\n",
    "            elinewidth=1,\n",
    "            capsize=1,\n",
    "            ecolor=c_,\n",
    "            zorder=1\n",
    "        )\n",
    "ax.set_xticks(ticks=arange(len(cv2_results_df)), labels=['285', '300', '315']*15)\n",
    "axis_rstyle(ylim=[-0.160, -0.099], yticks=[-0.160, -0.099, 0.020])\n",
    "\n",
    "axis_add_xaxis(\n",
    "    labels=[\n",
    "        ['Dep.: 7', 'Dep.: 8', 'Dep.: 9', 'Dep.: 10', 'Dep.: 11'] * 3,\n",
    "        ['Trees: 70', 'Trees: 75', 'Trees: 80'],\n",
    "        ['Learning rate: 0.1']\n",
    "    ],\n",
    "    labelcolor='#606060'\n",
    ")\n",
    "\n",
    "plt.show()\n",
    "\n",
    "savefig('gridsearch2', save_img)"
   ]
  },
  {
   "cell_type": "code",
   "execution_count": null,
   "id": "678933a9-4916-4930-98f6-b65e9e007f47",
   "metadata": {},
   "outputs": [],
   "source": [
    "params_opt = cv2_results_df.loc[\n",
    "    cv2_results_df.index==cv2_results_df_best_score_idx, 'params'\n",
    "].item()"
   ]
  },
  {
   "cell_type": "code",
   "execution_count": null,
   "id": "727315cc-21c5-4939-94e5-e5e0b56f36b6",
   "metadata": {},
   "outputs": [],
   "source": [
    "rmse_train_opt = round(cv2_results_df_best_score, 4)"
   ]
  },
  {
   "cell_type": "code",
   "execution_count": null,
   "id": "1c48e20c-5f06-4987-b270-7e8aa12c3805",
   "metadata": {},
   "outputs": [],
   "source": [
    "rmse_train_opt"
   ]
  },
  {
   "cell_type": "code",
   "execution_count": null,
   "id": "0fe7cfb0-2acf-44c5-ae28-63975c5bd23a",
   "metadata": {},
   "outputs": [],
   "source": [
    "params_opt"
   ]
  },
  {
   "cell_type": "code",
   "execution_count": null,
   "id": "4575b483-4cd8-4322-955b-e5aff0a80f9e",
   "metadata": {},
   "outputs": [],
   "source": [
    "params = {}\n",
    "for key in params_opt.keys():\n",
    "    new_key = key.lstrip('estimator')\n",
    "    new_key = new_key.lstrip('__')\n",
    "    params[new_key] = params_opt[key]"
   ]
  },
  {
   "cell_type": "code",
   "execution_count": null,
   "id": "46ea2a81-97e1-4283-a5ce-1560f5227b09",
   "metadata": {},
   "outputs": [],
   "source": [
    "params"
   ]
  },
  {
   "cell_type": "code",
   "execution_count": null,
   "id": "d1068312-192a-42cb-87d4-1ea6deae8ac0",
   "metadata": {},
   "outputs": [],
   "source": [
    "lgb_opt = LGBMRegressor(**params)"
   ]
  },
  {
   "cell_type": "code",
   "execution_count": null,
   "id": "e2c3d688-6c12-48e1-9f48-244aececb7c8",
   "metadata": {},
   "outputs": [],
   "source": [
    "train_bm_opt = train_bm.copy()"
   ]
  },
  {
   "cell_type": "code",
   "execution_count": null,
   "id": "0ccb1715-132e-45de-8a8a-9476998e46c3",
   "metadata": {},
   "outputs": [],
   "source": [
    "train_bm_opt[features] = encoder.fit_transform(\n",
    "    train_bm_opt[features], train_bm_opt[target])"
   ]
  },
  {
   "cell_type": "code",
   "execution_count": null,
   "id": "20bb894d-fc05-4e71-9069-f5920f91058b",
   "metadata": {},
   "outputs": [],
   "source": [
    "train_bm_opt.head()"
   ]
  },
  {
   "cell_type": "code",
   "execution_count": null,
   "id": "a5225e03-d2df-44ff-88a4-70c3e2908229",
   "metadata": {},
   "outputs": [],
   "source": [
    "lgb_opt.fit(train_bm_opt[features], train_bm_opt[target])"
   ]
  },
  {
   "cell_type": "code",
   "execution_count": null,
   "id": "6783c56f-e149-4a57-885e-60b519e9d347",
   "metadata": {},
   "outputs": [],
   "source": [
    "feature_importance = pd.DataFrame({\n",
    "    'Feature': lgb_opt.feature_name_,\n",
    "    'Importance': lgb_opt.feature_importances_\n",
    "})\n",
    "feature_importance.sort_values('Importance', ascending=False, inplace=True)"
   ]
  },
  {
   "cell_type": "code",
   "execution_count": null,
   "id": "5e9c0323-1610-43da-8a7b-d0b94658dfcf",
   "metadata": {},
   "outputs": [],
   "source": [
    "data_plot = feature_importance.loc[feature_importance['Importance']>0,:]\n",
    "data_plot = data_plot.sort_values('Importance', ascending=False)"
   ]
  },
  {
   "cell_type": "code",
   "execution_count": null,
   "id": "2ccc6bef-3180-4346-abb7-13de8eb3fec6",
   "metadata": {},
   "outputs": [],
   "source": [
    "data_plot.head()"
   ]
  },
  {
   "cell_type": "code",
   "execution_count": null,
   "id": "44ae3f6b-140a-4a18-a374-a014cc753acd",
   "metadata": {},
   "outputs": [],
   "source": [
    "values = data_plot['Importance'][:10]\n",
    "labels = data_plot['Feature'][:10]"
   ]
  },
  {
   "cell_type": "code",
   "execution_count": null,
   "id": "d185707c-403b-45ae-bfd8-e5ab18894f69",
   "metadata": {},
   "outputs": [],
   "source": [
    "fig = plot_bar_horizontal(\n",
    "    values=values,\n",
    "    labels=labels,\n",
    "    labelsize=9,\n",
    "    labelcolor='0.3',\n",
    "    labelweight='medium',\n",
    "    figsize=(3, 2.5),\n",
    "    kind='lol',\n",
    "    width=0.5,\n",
    "    s=6,\n",
    "    x_lim_right=250\n",
    ")\n",
    "savefig('feature_importance', save_img)"
   ]
  },
  {
   "cell_type": "markdown",
   "id": "06b3384e-9457-4747-9a8d-141cb93c38a8",
   "metadata": {},
   "source": [
    "## Save Data"
   ]
  },
  {
   "cell_type": "code",
   "execution_count": null,
   "id": "07f05a9c-0473-488b-a181-b95a93a35ef3",
   "metadata": {},
   "outputs": [],
   "source": [
    "datasets_dict = {\n",
    "    'train_raw': train_raw,\n",
    "    'train': train,\n",
    "    'test': test\n",
    "}"
   ]
  },
  {
   "cell_type": "code",
   "execution_count": null,
   "id": "fdd52299-93db-4f9f-92bc-c5529d6132e4",
   "metadata": {},
   "outputs": [],
   "source": [
    "features_dict = {\n",
    "    'features': features,\n",
    "    'numeric': numeric,\n",
    "    'ordinal': ordinal,\n",
    "    'categorical': categorical,\n",
    "    'categorical_transform': categorical_transform,\n",
    "    'target': target\n",
    "}"
   ]
  },
  {
   "cell_type": "code",
   "execution_count": null,
   "id": "954d11cc-7ed0-4ab7-ba82-bd3d63321514",
   "metadata": {},
   "outputs": [],
   "source": [
    "transform_dict = {\n",
    "    'features_na': features_na,\n",
    "    'transformer_overview': transformer_overview,\n",
    "    'transformer_imputer_frequent': imputer_frequent,\n",
    "    'transformer_imputer_median': imputer_median,\n",
    "    'transformer_label': transformer_label,\n",
    "}"
   ]
  },
  {
   "cell_type": "code",
   "execution_count": null,
   "id": "ae129a91-8da5-420c-a53d-2f0d42597a49",
   "metadata": {},
   "outputs": [],
   "source": [
    "simulation_datasets_dict = {\n",
    "    'train_base': train_bm,\n",
    "    'features_base': features\n",
    "}"
   ]
  },
  {
   "cell_type": "code",
   "execution_count": null,
   "id": "6834ef01-7af5-4edb-bde8-9456b5fd58ee",
   "metadata": {},
   "outputs": [],
   "source": [
    "estimators_dict = {'lgb_base': lgb_opt}"
   ]
  },
  {
   "cell_type": "code",
   "execution_count": null,
   "id": "ae1fd948-9bf6-4370-8610-657813a48524",
   "metadata": {},
   "outputs": [],
   "source": [
    "evaluation_dict = {'cv_base': cv2}"
   ]
  },
  {
   "cell_type": "code",
   "execution_count": null,
   "id": "8699c0d4-aba9-4549-af40-df3412fe92a1",
   "metadata": {},
   "outputs": [],
   "source": [
    "saveit(datasets_dict, 'datasets_dict', save_files)"
   ]
  },
  {
   "cell_type": "code",
   "execution_count": null,
   "id": "7556975d-f8b5-4f48-9161-ccf276d101f0",
   "metadata": {},
   "outputs": [],
   "source": [
    "saveit(features_dict, 'features_dict', save_files)"
   ]
  },
  {
   "cell_type": "code",
   "execution_count": null,
   "id": "36a9e84a-7690-4e02-8e99-3afa0cffb388",
   "metadata": {},
   "outputs": [],
   "source": [
    "saveit(transform_dict, 'transform_dict', save_files)"
   ]
  },
  {
   "cell_type": "code",
   "execution_count": null,
   "id": "0abf8d2a-a4ef-468d-b656-c1d65879bb6d",
   "metadata": {},
   "outputs": [],
   "source": [
    "saveit(simulation_datasets_dict, 'simulation_datasets_dict', save_files)"
   ]
  },
  {
   "cell_type": "code",
   "execution_count": null,
   "id": "f1550f72-d12b-4ffd-b398-69bd75a67841",
   "metadata": {},
   "outputs": [],
   "source": [
    "saveit(estimators_dict, 'estimators_dict', save_files)"
   ]
  },
  {
   "cell_type": "code",
   "execution_count": null,
   "id": "3fc02336-6d22-4a49-bb67-53328ad34658",
   "metadata": {},
   "outputs": [],
   "source": [
    "saveit(evaluation_dict, 'evaluation_dict', save_files)"
   ]
  },
  {
   "cell_type": "code",
   "execution_count": null,
   "id": "a7ad4175-89b6-4ca6-aa22-35236daf6bcc",
   "metadata": {},
   "outputs": [],
   "source": [
    "saveit(params, 'params', save_files)"
   ]
  },
  {
   "cell_type": "code",
   "execution_count": null,
   "id": "c7ae424a-241b-401c-8e3d-f9bcb94a0334",
   "metadata": {},
   "outputs": [],
   "source": [
    "saveit(feature_importance, 'feature_importance', save_files)"
   ]
  },
  {
   "cell_type": "markdown",
   "id": "2a446f0a-c920-4593-9bd9-2ef4480a7b60",
   "metadata": {},
   "source": [
    "### Save Session"
   ]
  },
  {
   "cell_type": "code",
   "execution_count": null,
   "id": "42bf34fc-5291-49e1-9236-6a255f2c45d0",
   "metadata": {},
   "outputs": [],
   "source": [
    "save_session(session_name)"
   ]
  },
  {
   "cell_type": "markdown",
   "id": "10fbed30-d01d-451b-a408-8884e1d93f2a",
   "metadata": {},
   "source": [
    "### Execution time"
   ]
  },
  {
   "cell_type": "code",
   "execution_count": null,
   "id": "7296d512-ccdf-46f2-bd89-9be792d545b6",
   "metadata": {},
   "outputs": [],
   "source": [
    "print(f'Execution time: {stopwatch.stop(start)}')"
   ]
  }
 ],
 "metadata": {
  "kernelspec": {
   "display_name": "kgl_house_prices",
   "language": "python",
   "name": "kgl_house_prices"
  },
  "language_info": {
   "codemirror_mode": {
    "name": "ipython",
    "version": 3
   },
   "file_extension": ".py",
   "mimetype": "text/x-python",
   "name": "python",
   "nbconvert_exporter": "python",
   "pygments_lexer": "ipython3",
   "version": "3.12.2"
  }
 },
 "nbformat": 4,
 "nbformat_minor": 5
}
