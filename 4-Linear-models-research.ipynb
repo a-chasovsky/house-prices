{
 "cells": [
  {
   "cell_type": "code",
   "execution_count": null,
   "id": "f45046a0-b83c-44f5-8da0-9197ff36e527",
   "metadata": {},
   "outputs": [],
   "source": [
    "# run stopwatch\n",
    "from tools import Stopwatch\n",
    "stopwatch = Stopwatch()\n",
    "start = stopwatch.start()"
   ]
  },
  {
   "cell_type": "markdown",
   "id": "67e8ca2a-e3c6-4fec-af58-e52e820505fa",
   "metadata": {},
   "source": [
    "### Load libraries, functions, palette, theme"
   ]
  },
  {
   "cell_type": "code",
   "execution_count": null,
   "id": "156c338e-62ed-4435-981d-5c7f81305a7e",
   "metadata": {},
   "outputs": [],
   "source": [
    "%run _libraries.ipynb"
   ]
  },
  {
   "cell_type": "code",
   "execution_count": null,
   "id": "45726f39-7d42-41e0-b5d6-bc6270e2e3ee",
   "metadata": {},
   "outputs": [],
   "source": [
    "%run _functions.ipynb"
   ]
  },
  {
   "cell_type": "code",
   "execution_count": null,
   "id": "88654657-d93a-45f6-87d4-375180bef1e7",
   "metadata": {},
   "outputs": [],
   "source": [
    "save_files = 'files/Section4-Linear-models-research'"
   ]
  },
  {
   "cell_type": "code",
   "execution_count": null,
   "id": "21819ec8-e123-43d7-8500-925fbd89ef50",
   "metadata": {},
   "outputs": [],
   "source": [
    "save_img = 'docs/img/Section4-Linear-models-research'"
   ]
  },
  {
   "cell_type": "code",
   "execution_count": null,
   "id": "d049f1d1-135a-436e-9ade-0f9f2d88134b",
   "metadata": {},
   "outputs": [],
   "source": [
    "session_name = 'Section4-Linear-models-research'"
   ]
  },
  {
   "cell_type": "markdown",
   "id": "baa1fd59-4575-498c-84b8-09c392751fac",
   "metadata": {},
   "source": [
    "# Section IV. Linear Models Comparing"
   ]
  },
  {
   "cell_type": "markdown",
   "id": "d57108fd-2603-4508-982a-2527dab9dc77",
   "metadata": {},
   "source": [
    "## Load Saved Section if exists"
   ]
  },
  {
   "cell_type": "raw",
   "id": "8aaab862-f5cc-4ae2-8aad-85f0221f45c5",
   "metadata": {},
   "source": [
    "if os.path.exists(f'sessions/{session_name}'):\n",
    "    load_session(session_name)\n",
    "else:\n",
    "    print(f\"No such session: 'sessions/{session_name}'\")"
   ]
  },
  {
   "cell_type": "markdown",
   "id": "21ea5ea8-83fd-4764-969f-484dc3e9f70d",
   "metadata": {},
   "source": [
    "## Load Data"
   ]
  },
  {
   "cell_type": "code",
   "execution_count": null,
   "id": "d90eebb5-a4f0-4559-876c-b7788eb6dd17",
   "metadata": {},
   "outputs": [],
   "source": [
    "# dicts\n",
    "datasets_dict = loadit(\n",
    "    'datasets_dict', dir='Section3-Feature-selection-and-Preprocessing')\n",
    "features_dict = loadit(\n",
    "    'features_dict', dir='Section3-Feature-selection-and-Preprocessing')\n",
    "simulation_datasets_dict = loadit(\n",
    "    'simulation_datasets_dict', dir='Section3-Feature-selection-and-Preprocessing')\n",
    "estimators_dict = loadit(\n",
    "    'estimators_dict', dir='Section3-Feature-selection-and-Preprocessing')\n",
    "evaluation_dict = loadit(\n",
    "    'evaluation_dict', dir='Section3-Feature-selection-and-Preprocessing')\n",
    "# datasets\n",
    "train = datasets_dict['train'].copy()\n",
    "train_cv = datasets_dict['train_cv'].copy()\n",
    "# features\n",
    "features = features_dict['features']\n",
    "numeric = features_dict['numeric']\n",
    "ordinal = features_dict['ordinal']\n",
    "categorical = features_dict['categorical']\n",
    "categorical_transform = features_dict['categorical_transform']\n",
    "factor = features_dict['factor']\n",
    "target = features_dict['target']"
   ]
  },
  {
   "cell_type": "markdown",
   "id": "1bdc245d-57c4-4460-9ed1-26c8af912579",
   "metadata": {},
   "source": [
    "## Elastic Net regularization effects"
   ]
  },
  {
   "cell_type": "markdown",
   "id": "a4c00c24-d1c1-482d-84a8-355306a1eb4d",
   "metadata": {},
   "source": [
    "### Datasets"
   ]
  },
  {
   "cell_type": "code",
   "execution_count": null,
   "id": "6e37be9b-56c5-4d90-a2fe-5d10d8e7574e",
   "metadata": {},
   "outputs": [],
   "source": [
    "X = train_cv[features].copy()\n",
    "y = train_cv[target]"
   ]
  },
  {
   "cell_type": "code",
   "execution_count": null,
   "id": "0f039a6b-d324-4716-9e6e-13d885c7e52c",
   "metadata": {},
   "outputs": [],
   "source": [
    "X.shape"
   ]
  },
  {
   "cell_type": "code",
   "execution_count": null,
   "id": "50901570-57d8-4f97-8fd2-8e7a81cc05fe",
   "metadata": {},
   "outputs": [],
   "source": [
    "X.head()"
   ]
  },
  {
   "cell_type": "code",
   "execution_count": null,
   "id": "902b5828-9530-4697-8f81-90fd17d301c4",
   "metadata": {},
   "outputs": [],
   "source": [
    "y.head()"
   ]
  },
  {
   "cell_type": "markdown",
   "id": "b3b7a1da-4142-424b-bb20-3f42f04722b7",
   "metadata": {},
   "source": [
    "### Preprocessors"
   ]
  },
  {
   "cell_type": "code",
   "execution_count": null,
   "id": "210bf612-0047-488f-99d4-89500dfe8a65",
   "metadata": {},
   "outputs": [],
   "source": [
    "encoder = OrdinalEncoder(\n",
    "    encoding_method='ordered',\n",
    "    variables=categorical_transform,\n",
    "    missing_values='ignore',\n",
    "    unseen='encode'\n",
    ")"
   ]
  },
  {
   "cell_type": "code",
   "execution_count": null,
   "id": "411740b2-557e-444e-803c-9dd70808fd95",
   "metadata": {},
   "outputs": [],
   "source": [
    "scaler = StandardScaler()"
   ]
  },
  {
   "cell_type": "markdown",
   "id": "d8d463ba-358d-49b0-888b-01ecf8734219",
   "metadata": {},
   "source": [
    "### Common Hyperparameters"
   ]
  },
  {
   "cell_type": "code",
   "execution_count": null,
   "id": "f3bc1550-4199-4085-8e35-229a20e26f4a",
   "metadata": {},
   "outputs": [],
   "source": [
    "alphas = np.logspace(-3, 3, 30)\n",
    "n_folds = 5"
   ]
  },
  {
   "cell_type": "code",
   "execution_count": null,
   "id": "8f9aa5fb-5367-497a-a931-b5e481bd8014",
   "metadata": {},
   "outputs": [],
   "source": [
    "fig = plt.figure(figsize=(8, 2.5))\n",
    "plt.plot(alphas)\n",
    "# plt.grid(False)\n",
    "plt.title('Alphas logspace')\n",
    "axis_rstyle(\n",
    "    xticks=[0, 30, 5],\n",
    "    yticks=[0, 1000, 200])\n",
    "plt.ylabel('Alpha')\n",
    "plt.show()\n",
    "\n",
    "savefig('alphas_logspace', save_img)"
   ]
  },
  {
   "cell_type": "markdown",
   "id": "fb83a097-c187-49c5-8716-f8323b2186ea",
   "metadata": {},
   "source": [
    "### GridSearch"
   ]
  },
  {
   "cell_type": "code",
   "execution_count": null,
   "id": "0809508c-b68f-46e8-ae6b-8a5d7ae597d6",
   "metadata": {},
   "outputs": [],
   "source": [
    "enet_cv_pipeline = Pipeline([\n",
    "    ('encoder', encoder),\n",
    "    ('scaler', scaler),\n",
    "    ('estimator', ElasticNet(max_iter=100000))\n",
    "])"
   ]
  },
  {
   "cell_type": "code",
   "execution_count": null,
   "id": "0cb1b973-8458-4226-b5a3-255b09a62c5b",
   "metadata": {},
   "outputs": [],
   "source": [
    "enet_cv_pipeline"
   ]
  },
  {
   "cell_type": "code",
   "execution_count": null,
   "id": "d5495f51-7087-4de0-91c2-a873c8a0505a",
   "metadata": {},
   "outputs": [],
   "source": [
    "enet_params = [{\n",
    "    'estimator__alpha': alphas\n",
    "}]"
   ]
  },
  {
   "cell_type": "code",
   "execution_count": null,
   "id": "378204c6-95f9-40d1-a36c-07568a3d5253",
   "metadata": {},
   "outputs": [],
   "source": [
    "enet_cv = GridSearchCV(\n",
    "    estimator=enet_cv_pipeline,\n",
    "    param_grid=enet_params,\n",
    "    scoring='neg_root_mean_squared_error',\n",
    "    cv=n_folds,\n",
    "    refit=False\n",
    ")"
   ]
  },
  {
   "cell_type": "code",
   "execution_count": null,
   "id": "6be5e303-7054-4b96-a457-f75486d93962",
   "metadata": {},
   "outputs": [],
   "source": [
    "st = stopwatch.start()\n",
    "enet_cv.fit(X, y)\n",
    "print(f'Execution time: {stopwatch.stop(st)}')"
   ]
  },
  {
   "cell_type": "code",
   "execution_count": null,
   "id": "42c78e70-dcad-4025-9144-aab179eb98a2",
   "metadata": {},
   "outputs": [],
   "source": [
    "enet_cv_best_score = abs(enet_cv.best_score_)\n",
    "enet_cv_best_score"
   ]
  },
  {
   "cell_type": "code",
   "execution_count": null,
   "id": "fb7ef28d-9780-4ad5-a0c8-59250f639aad",
   "metadata": {},
   "outputs": [],
   "source": [
    "enet_cv_best_params = {}\n",
    "\n",
    "for key in enet_cv.best_params_.keys():\n",
    "    new_key = key.lstrip('estimator')\n",
    "    new_key = new_key.lstrip('__')\n",
    "    enet_cv_best_params[new_key] = enet_cv.best_params_[key]\n",
    "    \n",
    "enet_cv_best_params"
   ]
  },
  {
   "cell_type": "code",
   "execution_count": null,
   "id": "20df2b37-c748-4d3f-9c29-e331aaf4a493",
   "metadata": {},
   "outputs": [],
   "source": [
    "enet_cv_best_idx = enet_cv.best_index_\n",
    "enet_cv_best_idx"
   ]
  },
  {
   "cell_type": "code",
   "execution_count": null,
   "id": "ed865069-8584-40b4-b628-806e4321780c",
   "metadata": {},
   "outputs": [],
   "source": [
    "enet_results = pd.DataFrame(enet_cv.cv_results_)"
   ]
  },
  {
   "cell_type": "code",
   "execution_count": null,
   "id": "61d7b764-e602-4800-9141-2f2ce2065234",
   "metadata": {},
   "outputs": [],
   "source": [
    "enet_results.head()"
   ]
  },
  {
   "cell_type": "code",
   "execution_count": null,
   "id": "923316eb-21b8-4f69-a6da-a8120f7c629f",
   "metadata": {},
   "outputs": [],
   "source": [
    "param_cols = [\n",
    "    'param_estimator__alpha'\n",
    "]\n",
    "round_list = [4, 1]"
   ]
  },
  {
   "cell_type": "code",
   "execution_count": null,
   "id": "8ac06f69-d211-4b54-9c14-8bd62e3463db",
   "metadata": {},
   "outputs": [],
   "source": [
    "# add params compact column\n",
    "enet_results = cv_results_params_transform(\n",
    "    enet_results, param_cols, round_list)"
   ]
  },
  {
   "cell_type": "code",
   "execution_count": null,
   "id": "6acc7dff-5d9c-4817-b960-fceea3a221be",
   "metadata": {},
   "outputs": [],
   "source": [
    "# abs all numeric\n",
    "enet_results = enet_results.apply(\n",
    "    lambda x: x.abs() if x.dtype.kind in 'iufc' else x)"
   ]
  },
  {
   "cell_type": "code",
   "execution_count": null,
   "id": "1ea66053-7828-4cb4-9ac1-d54bc4b5d8c8",
   "metadata": {},
   "outputs": [],
   "source": [
    "loc_best_idx = enet_results['mean_test_score']==enet_cv_best_score\n",
    "best_score_idx = enet_results[loc_best_idx].index.item()\n",
    "best_score_idx"
   ]
  },
  {
   "cell_type": "code",
   "execution_count": null,
   "id": "73307b57-5eb6-4ed0-9504-f01b80efca49",
   "metadata": {},
   "outputs": [],
   "source": [
    "vars_plot = [\n",
    "    'parameters',\n",
    "    'split0_test_score', 'split1_test_score', 'split2_test_score',\n",
    "    'split3_test_score', 'split4_test_score'\n",
    "]\n",
    "cv_results_prep = pd.melt(\n",
    "    enet_results, id_vars='parameters',\n",
    "    value_vars=vars_plot, value_name='rmse')\n",
    "cv_results_prep.head()"
   ]
  },
  {
   "cell_type": "code",
   "execution_count": null,
   "id": "c70b9db3-8726-4d67-a5cd-c4697ce04c60",
   "metadata": {},
   "outputs": [],
   "source": [
    "fig, ax = plt.subplots(figsize=(7, 2.5))\n",
    "\n",
    "sns.lineplot(\n",
    "    data=cv_results_prep,\n",
    "    x='parameters',\n",
    "    y='rmse',\n",
    "    err_kws=({'alpha': 0.1})\n",
    ")\n",
    "sns.scatterplot(\n",
    "    data=enet_results[enet_results['rank_test_score']==1],\n",
    "    x='parameters',\n",
    "    y='mean_test_score',\n",
    "    s=50, color=palette[1], facecolor='none',\n",
    "    ec=palette[1], linewidth=1.5, zorder=10, alpha=0.9\n",
    ")\n",
    "plt.xlabel(str.capitalize('Alpha'))\n",
    "plt.ylabel('MRSE')\n",
    "# ax.set_title('Elastic Net: regularization effect')\n",
    "ax.tick_params(axis='x', rotation=60)\n",
    "# ax.xaxis.set_major_locator(matplotlib.ticker.AutoLocator())\n",
    "axis_rstyle()\n",
    "\n",
    "\n",
    "plt.grid(False)\n",
    "plt.show()\n",
    "\n",
    "savefig('regularization', save_img)"
   ]
  },
  {
   "cell_type": "markdown",
   "id": "a4b8b9f6-a9db-4ca3-bb4c-63b5112c7599",
   "metadata": {},
   "source": [
    "### ELASTIC NET Model"
   ]
  },
  {
   "cell_type": "code",
   "execution_count": null,
   "id": "a9097ac3-09d0-470f-8080-bc7cea4b0b55",
   "metadata": {},
   "outputs": [],
   "source": [
    "enet_regressor = ElasticNet(\n",
    "    **enet_cv_best_params,\n",
    "    random_state=seed\n",
    ")"
   ]
  },
  {
   "cell_type": "code",
   "execution_count": null,
   "id": "fd2b9627-c06b-48c8-a230-6075c71a13a6",
   "metadata": {},
   "outputs": [],
   "source": [
    "enet = Pipeline([\n",
    "    ('encoder', encoder),\n",
    "    ('scaler', scaler),\n",
    "    ('estimator', enet_regressor)\n",
    "])"
   ]
  },
  {
   "cell_type": "code",
   "execution_count": null,
   "id": "3efa6e37-b8f7-43c3-af31-e7c40f5d6416",
   "metadata": {},
   "outputs": [],
   "source": [
    "enet.fit(X,y)"
   ]
  },
  {
   "cell_type": "code",
   "execution_count": null,
   "id": "9672b318-56f3-4593-8c57-bbd43c208eb0",
   "metadata": {},
   "outputs": [],
   "source": [
    "enet_summary = pd.DataFrame({\n",
    "    'feature': enet.feature_names_in_,\n",
    "    'coeff': enet.named_steps['estimator'].coef_,\n",
    "    'intercept': enet.named_steps['estimator'].intercept_\n",
    "}).sort_values('coeff', key=abs, ascending=False)"
   ]
  },
  {
   "cell_type": "code",
   "execution_count": null,
   "id": "685a8378-905d-49e0-95c9-860afe4716c0",
   "metadata": {},
   "outputs": [],
   "source": [
    "enet_summary[enet_summary['coeff'] != 0].shape"
   ]
  },
  {
   "cell_type": "code",
   "execution_count": null,
   "id": "4e2bdf31-bb3e-4837-a58a-55735955e034",
   "metadata": {},
   "outputs": [],
   "source": [
    "enet_summary.head(10)"
   ]
  },
  {
   "cell_type": "markdown",
   "id": "328a315b-5356-41e7-a905-ee4231ca31ba",
   "metadata": {},
   "source": [
    "### Features Research with Elastic Net"
   ]
  },
  {
   "cell_type": "code",
   "execution_count": null,
   "id": "cf627729-5397-488c-a583-b61cff92ad2b",
   "metadata": {},
   "outputs": [],
   "source": [
    "X_fr = X.copy()"
   ]
  },
  {
   "cell_type": "raw",
   "id": "574254bf-c0bc-4e9d-8a16-dcf847bac1f1",
   "metadata": {},
   "source": [
    "# alphas = np.logspace(-3, -0.3, 30)\n",
    "alphas = np.logspace(-3, 3, 30)"
   ]
  },
  {
   "cell_type": "raw",
   "id": "c9616db9-d940-4bd5-9861-7b488be6c856",
   "metadata": {},
   "source": [
    "len(alphas)"
   ]
  },
  {
   "cell_type": "code",
   "execution_count": null,
   "id": "98ff9765-78d2-46a7-a67a-abdd7216e934",
   "metadata": {},
   "outputs": [],
   "source": [
    "pipe = Pipeline([\n",
    "    ('encoder', encoder),\n",
    "    ('scaler', scaler),\n",
    "])"
   ]
  },
  {
   "cell_type": "code",
   "execution_count": null,
   "id": "566b7b7f-f12a-4337-9fd9-53eabe4f23ba",
   "metadata": {},
   "outputs": [],
   "source": [
    "X_fr[features] = pipe.fit_transform(X_fr[features], y)"
   ]
  },
  {
   "cell_type": "code",
   "execution_count": null,
   "id": "1e2be107-e1c8-4b37-92fa-7938d7593dc9",
   "metadata": {},
   "outputs": [],
   "source": [
    "st = stopwatch.start()\n",
    "results_sim_dict = simulation_enet_features(X_fr, y, alphas)\n",
    "print(f'Execution time: {stopwatch.stop(st)}')"
   ]
  },
  {
   "cell_type": "code",
   "execution_count": null,
   "id": "892b68b8-0474-4103-b050-6a6a507e3c03",
   "metadata": {},
   "outputs": [],
   "source": [
    "elnet_features_df = pd.DataFrame(results_sim_dict)"
   ]
  },
  {
   "cell_type": "code",
   "execution_count": null,
   "id": "5cca32f3-93e6-4708-8bbe-39457b4e9d36",
   "metadata": {},
   "outputs": [],
   "source": [
    "# save the list of lists with chosen features by enet in variable\n",
    "features_chosen = elnet_features_df['features_list'].copy()"
   ]
  },
  {
   "cell_type": "code",
   "execution_count": null,
   "id": "31c56282-1ddb-460c-8bad-599470dd75bd",
   "metadata": {},
   "outputs": [],
   "source": [
    "# modificate column 'features_list': list of strings -> string\n",
    "# for more aesthetic view in df\n",
    "elnet_features_df['features_list'] = \\\n",
    "    elnet_features_df['features_list'].apply(lambda x: ' , '.join(x))"
   ]
  },
  {
   "cell_type": "code",
   "execution_count": null,
   "id": "eee0cfe6-8722-4ae5-81b9-ed9e96eb778f",
   "metadata": {},
   "outputs": [],
   "source": [
    "elnet_features_df[elnet_features_df['features_num'] > 0]"
   ]
  },
  {
   "cell_type": "code",
   "execution_count": null,
   "id": "f468df1a-690d-4d90-9800-6c714fecb22d",
   "metadata": {},
   "outputs": [],
   "source": [
    "alpha_log = np.log(elnet_features_df['alpha'])"
   ]
  },
  {
   "cell_type": "code",
   "execution_count": null,
   "id": "28c657df-ad26-44cb-85f3-ea23e279a457",
   "metadata": {},
   "outputs": [],
   "source": [
    "xup_labels = elnet_features_df['features_num'].values\n",
    "ticks = [int(i) for i in np.arange(-7, 7.1, 1)]\n",
    "\n",
    "fig, ax = plt.subplots(figsize=(8, 2.5))\n",
    "# f = plt.figure(figsize=(7, 2.5))\n",
    "# plt.title('Features by Elastic Net', loc='left', pad=12)\n",
    "plt.scatter(\n",
    "    x=alpha_log, y=elnet_features_df['score'],\n",
    "    ec='face', lw=0, s=10, alpha=0.95)\n",
    "plt.xlabel('log(ALPHA)')\n",
    "plt.ylabel('RMSE')\n",
    "plt.xlim(-7.25, 7.25)\n",
    "plt.ylim(0.08, 0.40)\n",
    "plt.xticks(ticks=ticks, labels=ticks)\n",
    "plt.grid(False)\n",
    "\n",
    "axis_rstyle()\n",
    "# top xaxis\n",
    "xaxis_top = plt.twiny()\n",
    "xaxis_top.set_xlim(-7.25, 7.25)\n",
    "xaxis_top.set_xticks(ticks=alpha_log)\n",
    "xaxis_top.spines['top'].set_position(('outward', 5))\n",
    "xaxis_top.tick_params(left=False, bottom=False, top=False)\n",
    "xaxis_top.set_xticklabels(labels=xup_labels, weight='normal', fontsize=8)\n",
    "xaxis_top.grid(False)\n",
    "xaxis_top.spines['left'].set_visible(False)\n",
    "xaxis_top.spines['bottom'].set_visible(False)\n",
    "# vertical red liness\n",
    "plt.axvline(\n",
    "    -1.65, ymin=0.02, ymax=0.98, linestyle='--',\n",
    "    lw=1, color=palette[1], alpha=0.95)\n",
    "plt.axvline(\n",
    "    -3.55, ymin=0.02, ymax=0.98, linestyle='--',\n",
    "    lw=1, color=palette[1], alpha=0.95)\n",
    "ax.spines['bottom'].set_position(('outward', 12))\n",
    "\n",
    "plt.show()\n",
    "\n",
    "savefig('features_plot', save_img)"
   ]
  },
  {
   "cell_type": "code",
   "execution_count": null,
   "id": "9270460b-7438-43d4-a950-90fde6c4ccf0",
   "metadata": {},
   "outputs": [],
   "source": [
    "features_chosen = \\\n",
    "    [element for sublist in features_chosen for element in sublist]"
   ]
  },
  {
   "cell_type": "code",
   "execution_count": null,
   "id": "64273f1e-7ee4-4fdf-83cf-5099bc9c909a",
   "metadata": {},
   "outputs": [],
   "source": [
    "features_chosen_dict = {i:features_chosen.count(i) for i in features_chosen}"
   ]
  },
  {
   "cell_type": "code",
   "execution_count": null,
   "id": "2c98bf62-d3a1-473f-a70b-2f83f46d4fde",
   "metadata": {},
   "outputs": [],
   "source": [
    "features_chosen_enet = pd.DataFrame({\n",
    "    'feature': features_chosen_dict.keys(),\n",
    "    'appeared': features_chosen_dict.values()\n",
    "})\n",
    "features_chosen_enet = (features_chosen_enet\n",
    "                        .sort_values('appeared', ascending=False)\n",
    "                        .reset_index(drop=True))"
   ]
  },
  {
   "cell_type": "markdown",
   "id": "edd73962-a0ee-4da1-93e4-d00f7510d616",
   "metadata": {},
   "source": [
    "## Linear Regression for HousePricePredictor"
   ]
  },
  {
   "cell_type": "markdown",
   "id": "d56819e1-aa13-4a30-82f3-1d99afdeacc2",
   "metadata": {},
   "source": [
    "### Features Selection"
   ]
  },
  {
   "cell_type": "markdown",
   "id": "9436f688-26d9-4bf0-a351-961ef9ed1ebc",
   "metadata": {},
   "source": [
    "#### Correlation Matrix"
   ]
  },
  {
   "cell_type": "code",
   "execution_count": null,
   "id": "a606b238-f117-4fb3-9b5e-8944a1397242",
   "metadata": {},
   "outputs": [],
   "source": [
    "corr_df = train[numeric + ordinal + [target]].corr()"
   ]
  },
  {
   "cell_type": "code",
   "execution_count": null,
   "id": "65003da7-5c1d-4950-8684-3c7bb5f2543e",
   "metadata": {},
   "outputs": [],
   "source": [
    "fig = plot_corr_matrix(\n",
    "    data=corr_df, target=target, num_features=10,\n",
    "    width=0.7, height=0.3, annot=6.5, labelsize=6.5,\n",
    "    linecolor=theme, full=True, abs_results=True, df=False, df_limit=None)\n",
    "plt.show()\n",
    "\n",
    "savefig('corr_matrix_linear', save_img, dpi=125)"
   ]
  },
  {
   "cell_type": "code",
   "execution_count": null,
   "id": "d743e6f2-85fd-4b11-ad98-8b915d318f69",
   "metadata": {},
   "outputs": [],
   "source": [
    "features_chosen_enet.head(10)"
   ]
  },
  {
   "cell_type": "code",
   "execution_count": null,
   "id": "0b70267f-f8d6-4d03-84e6-f03327dd37ef",
   "metadata": {},
   "outputs": [],
   "source": [
    "enet_summary.head(15)"
   ]
  },
  {
   "cell_type": "code",
   "execution_count": null,
   "id": "5dde3242-44bc-4aa2-8a3c-628a7739e1f7",
   "metadata": {},
   "outputs": [],
   "source": [
    "print(features_chosen_enet['feature'].tolist())"
   ]
  },
  {
   "cell_type": "code",
   "execution_count": null,
   "id": "86960552-65f8-4c41-bfb4-2fd751486f01",
   "metadata": {},
   "outputs": [],
   "source": [
    "print(categorical)"
   ]
  },
  {
   "cell_type": "code",
   "execution_count": null,
   "id": "697469fb-a06e-4f63-80fc-aa0dccbde937",
   "metadata": {},
   "outputs": [],
   "source": [
    "features_linear = [\n",
    "    'lg_flrsfmean', 'overallqual', 'houseage',\n",
    "    'lg_lotarea', 'overallcond', 'bsmtqual',\n",
    "    'garagecars', 'kitchenqual', 'exterqual',  \n",
    "]"
   ]
  },
  {
   "cell_type": "code",
   "execution_count": null,
   "id": "d90dae78-e409-45bc-bb26-318cc7b47b6a",
   "metadata": {},
   "outputs": [],
   "source": [
    "len(features_linear)"
   ]
  },
  {
   "cell_type": "code",
   "execution_count": null,
   "id": "d3feeab3-0c1e-43c2-9f9f-488ec4618423",
   "metadata": {},
   "outputs": [],
   "source": [
    "data = train[features_linear + [target]].copy()"
   ]
  },
  {
   "cell_type": "code",
   "execution_count": null,
   "id": "6e088f9d-77f3-4f57-a5f0-9c209047c203",
   "metadata": {},
   "outputs": [],
   "source": [
    "data_raw = data.copy()"
   ]
  },
  {
   "cell_type": "code",
   "execution_count": null,
   "id": "ef1589ff-5835-4f0a-8348-a48ca10dc938",
   "metadata": {},
   "outputs": [],
   "source": [
    "data_cv = train_cv[features_linear + [target]].copy()"
   ]
  },
  {
   "cell_type": "markdown",
   "id": "26f5895c-8228-4019-8a86-81893264931d",
   "metadata": {},
   "source": [
    "### Cut outliers"
   ]
  },
  {
   "cell_type": "code",
   "execution_count": null,
   "id": "87eb1dd3-4175-459a-83f7-bfe80d49441b",
   "metadata": {},
   "outputs": [],
   "source": [
    "data.shape"
   ]
  },
  {
   "cell_type": "code",
   "execution_count": null,
   "id": "d5ed50d1-6617-4b69-bd35-ac970290ab3a",
   "metadata": {},
   "outputs": [],
   "source": [
    "sns.histplot(data[target], bins=42, alpha=1);"
   ]
  },
  {
   "cell_type": "code",
   "execution_count": null,
   "id": "aec4616d-87b5-4bd4-99ce-09fd4968dbae",
   "metadata": {},
   "outputs": [],
   "source": [
    "target_trim = OutlierTrimmer(\n",
    "    capping_method='iqr',\n",
    "    tail='both',\n",
    "    fold=1.5,\n",
    "    variables=target)"
   ]
  },
  {
   "cell_type": "code",
   "execution_count": null,
   "id": "dd2159b7-3fae-4c71-b02e-6601ef049d55",
   "metadata": {},
   "outputs": [],
   "source": [
    "target_trim.fit(data)"
   ]
  },
  {
   "cell_type": "code",
   "execution_count": null,
   "id": "0831092c-aa51-41aa-94d8-5660b09247c8",
   "metadata": {},
   "outputs": [],
   "source": [
    "data = target_trim.transform(data)"
   ]
  },
  {
   "cell_type": "code",
   "execution_count": null,
   "id": "67810e56-61fd-449d-8995-f8b35e5c0f7c",
   "metadata": {},
   "outputs": [],
   "source": [
    "sns.histplot(data[target], bins=42, alpha=1);"
   ]
  },
  {
   "cell_type": "code",
   "execution_count": null,
   "id": "5077d015-2fe1-4dd4-bc92-65d97ac76c6d",
   "metadata": {},
   "outputs": [],
   "source": [
    "data.shape"
   ]
  },
  {
   "cell_type": "markdown",
   "id": "cb3de343-25be-4f27-818e-6da455b809b1",
   "metadata": {},
   "source": [
    "#### LINEAR REGRESSION"
   ]
  },
  {
   "cell_type": "code",
   "execution_count": null,
   "id": "837846ab-9685-4936-a54a-38bee04dad69",
   "metadata": {},
   "outputs": [],
   "source": [
    "data.head()"
   ]
  },
  {
   "cell_type": "code",
   "execution_count": null,
   "id": "b9c6213c-2719-46c5-b0eb-9796c8923824",
   "metadata": {},
   "outputs": [],
   "source": [
    "data, formula = lr_model_data_formula(\n",
    "    data=data, target='price', predictors=features_linear)"
   ]
  },
  {
   "cell_type": "code",
   "execution_count": null,
   "id": "7e0bcfc7-f170-4a62-b28a-f49f7260e35b",
   "metadata": {},
   "outputs": [],
   "source": [
    "data.shape"
   ]
  },
  {
   "cell_type": "code",
   "execution_count": null,
   "id": "e5ab6ace-55ae-44c0-b7fb-8eca75297a00",
   "metadata": {},
   "outputs": [],
   "source": [
    "formula"
   ]
  },
  {
   "cell_type": "code",
   "execution_count": null,
   "id": "a7ad5d8e-7926-4b7f-8ff8-09004caa6077",
   "metadata": {},
   "outputs": [],
   "source": [
    "# cov_type='HC3' - for robust confidence intervals (in case of heteroscedasticity)\n",
    "lr = smf.ols(formula=formula, data=data).fit(cov_type='HC3')"
   ]
  },
  {
   "cell_type": "code",
   "execution_count": null,
   "id": "e88a8083-2e72-4438-85f3-72181b8944c7",
   "metadata": {},
   "outputs": [],
   "source": [
    "lr.summary()"
   ]
  },
  {
   "cell_type": "code",
   "execution_count": null,
   "id": "cbed0139-5dcc-4c04-adba-47a6ea03e00f",
   "metadata": {},
   "outputs": [],
   "source": [
    "y_pred_lr = lr.predict(data[features_linear])"
   ]
  },
  {
   "cell_type": "code",
   "execution_count": null,
   "id": "5256019a-4aba-42ce-87de-87773b1f09c8",
   "metadata": {},
   "outputs": [],
   "source": [
    "rmse_lr = mean_squared_error(data[target], y_pred_lr, squared=False)"
   ]
  },
  {
   "cell_type": "code",
   "execution_count": null,
   "id": "9f4017d4-c210-411a-a9d1-ecbc74d0e24c",
   "metadata": {},
   "outputs": [],
   "source": [
    "rmse_lr"
   ]
  },
  {
   "cell_type": "code",
   "execution_count": null,
   "id": "e94032db-7bde-43e5-ad3d-ba97cdcec94f",
   "metadata": {},
   "outputs": [],
   "source": [
    "f = plot_lr_coef(lr, figsize=(2.5, 3.07))"
   ]
  },
  {
   "cell_type": "code",
   "execution_count": null,
   "id": "b8c104a4-b96b-442e-8358-1d0949290045",
   "metadata": {},
   "outputs": [],
   "source": [
    "fig = plot_regression_diagnostics(\n",
    "    model=lr, \n",
    "    data=data,\n",
    "    target=target,\n",
    "    figsize=(10, 9)\n",
    ")\n",
    "fig.suptitle('Regression diagnostic plots', x=0.210, y=0.908, fontsize=10)\n",
    "plt.show()\n",
    "\n",
    "savefig('regression_diagnostics', save_img)"
   ]
  },
  {
   "cell_type": "code",
   "execution_count": null,
   "id": "3d4976d9-8f56-4d70-9210-3108fa7a75fb",
   "metadata": {},
   "outputs": [],
   "source": [
    "regression_diagnostics(lr, data[features_linear], alpha=0.05)"
   ]
  },
  {
   "cell_type": "code",
   "execution_count": null,
   "id": "2bf7580b-872c-4b09-86cf-07376108dbf2",
   "metadata": {},
   "outputs": [],
   "source": [
    "outliers_idxs = get_cooksd_outliers_idxs(model=lr, data=data)"
   ]
  },
  {
   "cell_type": "code",
   "execution_count": null,
   "id": "b3cb13bf-3cd2-4a5a-936e-381e7899a54f",
   "metadata": {},
   "outputs": [],
   "source": [
    "residuals_df = pd.concat(\n",
    "    objs=[y_pred_lr.rename('Predicted'), lr.resid.rename('Residuals')],\n",
    "    axis=1)"
   ]
  },
  {
   "cell_type": "code",
   "execution_count": null,
   "id": "4a8a7491-597d-4af3-8ae2-526b236d5cee",
   "metadata": {},
   "outputs": [],
   "source": [
    "residuals_df.shape"
   ]
  },
  {
   "cell_type": "code",
   "execution_count": null,
   "id": "105fea6f-fac0-4452-80c0-323acd99b1ae",
   "metadata": {},
   "outputs": [],
   "source": [
    "residuals_df['Residuals'].std()"
   ]
  },
  {
   "cell_type": "code",
   "execution_count": null,
   "id": "928f3a6c-8f7b-46fb-9434-3e64708cd12f",
   "metadata": {},
   "outputs": [],
   "source": [
    "residuals_trim = OutlierTrimmer(\n",
    "    capping_method='iqr',\n",
    "    tail='both',\n",
    "    fold=1.5,\n",
    "    variables='Residuals')"
   ]
  },
  {
   "cell_type": "code",
   "execution_count": null,
   "id": "7b836a5c-c013-4c50-830c-643ec01015ff",
   "metadata": {},
   "outputs": [],
   "source": [
    "residuals_df_trimmed = residuals_trim.fit_transform(residuals_df)\n",
    "residuals_df_trimmed = residuals_df_trimmed.rename(columns={'Residuals': 'Residuals trimmed'})"
   ]
  },
  {
   "cell_type": "code",
   "execution_count": null,
   "id": "035bc06f-64fb-49c8-a444-e6eb80eb6546",
   "metadata": {},
   "outputs": [],
   "source": [
    "residuals_df_trimmed.shape"
   ]
  },
  {
   "cell_type": "code",
   "execution_count": null,
   "id": "9da3c6d6-cba7-4183-8f1d-fae7be744767",
   "metadata": {},
   "outputs": [],
   "source": [
    "test_normality(residuals_df_trimmed['Residuals trimmed'])"
   ]
  },
  {
   "cell_type": "code",
   "execution_count": null,
   "id": "495d6499-52e7-4d46-bd7b-5073d8b4eee3",
   "metadata": {},
   "outputs": [],
   "source": [
    "residuals_df_trimmed['Residuals trimmed'].std()"
   ]
  },
  {
   "cell_type": "code",
   "execution_count": null,
   "id": "d76155f4-3850-4ff0-9b38-efaeb56f85e7",
   "metadata": {},
   "outputs": [],
   "source": [
    "normal_dist = np.random.normal(\n",
    "    loc=0, scale=residuals_df['Residuals'].std(ddof=1), size=1288)"
   ]
  },
  {
   "cell_type": "code",
   "execution_count": null,
   "id": "4eed6480-10d5-4caa-a9d4-98a720416f33",
   "metadata": {},
   "outputs": [],
   "source": [
    "test_normality(normal_dist)"
   ]
  },
  {
   "cell_type": "code",
   "execution_count": null,
   "id": "40601cca-9473-4461-a88b-92639c3e9488",
   "metadata": {},
   "outputs": [],
   "source": [
    "kurtosis(pd.concat([\n",
    "    pd.DataFrame(normal_dist, columns=['Normal distribution']),\n",
    "    residuals_df['Residuals'].to_frame(),\n",
    "    residuals_df_trimmed['Residuals trimmed'].to_frame()\n",
    "]))\n",
    "    "
   ]
  },
  {
   "cell_type": "code",
   "execution_count": null,
   "id": "2620891e-1039-474c-9771-180520d21ec8",
   "metadata": {},
   "outputs": [],
   "source": [
    "fig = plt.figure(figsize=(8, 2.5))\n",
    "\n",
    "sns.kdeplot(normal_dist, lw=0.01, fill=True, color=alpha_color(palette[0], 0.75), label='Normal distribution')\n",
    "sns.kdeplot(residuals_df['Residuals'], color=palette[1], label='Residuals (original)')\n",
    "sns.kdeplot(residuals_df_trimmed['Residuals trimmed'], color=palette[3], label='Residuals (trimmed)')\n",
    "\n",
    "plt.legend(**legend_inline())\n",
    "# plt.title('Comparison of Residual distributions with and without outliers', **title_inline)\n",
    "axis_rstyle(xticks=(-1.0, 1.0, 0.5), yticks=(0, 4, 1))\n",
    "plt.grid(False)\n",
    "plt.xlabel(None)\n",
    "plt.show()\n",
    "\n",
    "savefig('residuals_distributions_comparing', save_img)"
   ]
  },
  {
   "cell_type": "markdown",
   "id": "45905d32-98f0-42f6-af9b-8245d9b9f125",
   "metadata": {},
   "source": [
    "### Simulations and comparing with ELASTIC NET"
   ]
  },
  {
   "cell_type": "code",
   "execution_count": null,
   "id": "09c3a18c-73cc-4182-9bdc-058d62ccf56f",
   "metadata": {},
   "outputs": [],
   "source": [
    "data_cv.shape"
   ]
  },
  {
   "cell_type": "code",
   "execution_count": null,
   "id": "4b5ef134-9336-4ca9-9add-d70afa543b7c",
   "metadata": {},
   "outputs": [],
   "source": [
    "data_cv.head()"
   ]
  },
  {
   "cell_type": "markdown",
   "id": "aa1b323e-6b59-464a-9b69-501fdcad536a",
   "metadata": {},
   "source": [
    "#### Hyperparameters Search"
   ]
  },
  {
   "cell_type": "code",
   "execution_count": null,
   "id": "40620eea-a75f-42f5-b277-48e5790b2114",
   "metadata": {},
   "outputs": [],
   "source": [
    "enet_cv_pipeline = Pipeline([\n",
    "    ('scaler', StandardScaler()),\n",
    "    ('estimator', ElasticNet(max_iter=100000))\n",
    "])"
   ]
  },
  {
   "cell_type": "code",
   "execution_count": null,
   "id": "96c5ded5-4b27-4754-9379-978ba4cc2e1b",
   "metadata": {},
   "outputs": [],
   "source": [
    "enet_cv_pipeline"
   ]
  },
  {
   "cell_type": "code",
   "execution_count": null,
   "id": "94bb8922-3b87-44d8-b4df-3b4703af606f",
   "metadata": {},
   "outputs": [],
   "source": [
    "alphas = np.logspace(-3, 3, 30)\n",
    "l1_ratio = np.arange(0.1, 1.0, 0.1)\n",
    "n_folds_cv = 20\n",
    "\n",
    "X = data_cv.loc[:, data_cv.columns!=target]\n",
    "y = data_cv[target]"
   ]
  },
  {
   "cell_type": "code",
   "execution_count": null,
   "id": "5f474b30-596b-4f97-b8fe-e2137545b639",
   "metadata": {},
   "outputs": [],
   "source": [
    "enet_params = [{\n",
    "    'estimator__alpha': alphas,\n",
    "    'estimator__l1_ratio': l1_ratio\n",
    "}]"
   ]
  },
  {
   "cell_type": "code",
   "execution_count": null,
   "id": "a5d2200c-684d-475a-8b7e-3b1fbf55d5fe",
   "metadata": {},
   "outputs": [],
   "source": [
    "st = stopwatch.start()\n",
    "enet_cv = GridSearchCV(\n",
    "    estimator=enet_cv_pipeline,\n",
    "    param_grid=enet_params,\n",
    "    scoring='neg_root_mean_squared_error',\n",
    "    cv=n_folds_cv,\n",
    "    refit=False\n",
    ")\n",
    "print(f'Execution time: {stopwatch.stop(st)}')"
   ]
  },
  {
   "cell_type": "code",
   "execution_count": null,
   "id": "b7778c5d-7b37-4ced-b2e5-dfb1e76195ff",
   "metadata": {},
   "outputs": [],
   "source": [
    "enet_cv.fit(X, y)"
   ]
  },
  {
   "cell_type": "code",
   "execution_count": null,
   "id": "d9fc5db6-dd96-49d9-abe5-780e0bec307b",
   "metadata": {},
   "outputs": [],
   "source": [
    "enet_cv_best_score = abs(enet_cv.best_score_)\n",
    "enet_cv_best_score"
   ]
  },
  {
   "cell_type": "code",
   "execution_count": null,
   "id": "8e1c531e-cfe0-4af1-aaa3-b1a03d0ad004",
   "metadata": {},
   "outputs": [],
   "source": [
    "enet_cv_best_params = {}\n",
    "\n",
    "for key in enet_cv.best_params_.keys():\n",
    "    new_key = key.lstrip('estimator')\n",
    "    new_key = new_key.lstrip('__')\n",
    "    enet_cv_best_params[new_key] = enet_cv.best_params_[key]\n",
    "    \n",
    "enet_cv_best_params"
   ]
  },
  {
   "cell_type": "code",
   "execution_count": null,
   "id": "cb24e1f0-1a87-4d4c-bb21-40cb40ce776a",
   "metadata": {},
   "outputs": [],
   "source": [
    "enet = ElasticNet(**enet_cv_best_params)"
   ]
  },
  {
   "cell_type": "code",
   "execution_count": null,
   "id": "0ccb4958-f4c6-4634-bd3b-f304fa329633",
   "metadata": {},
   "outputs": [],
   "source": [
    "enet"
   ]
  },
  {
   "cell_type": "code",
   "execution_count": null,
   "id": "8b1ffd75-0cbc-4707-bcda-58f275302eb0",
   "metadata": {},
   "outputs": [],
   "source": [
    "data_cv[features_linear] = StandardScaler().fit_transform(data_cv[features_linear])"
   ]
  },
  {
   "cell_type": "code",
   "execution_count": null,
   "id": "06ab5428-00bb-4b97-8805-4ff8c1b932f5",
   "metadata": {},
   "outputs": [],
   "source": [
    "data_cv.head()"
   ]
  },
  {
   "cell_type": "code",
   "execution_count": null,
   "id": "6adfabf2-db15-4152-ab10-809b58aceb1e",
   "metadata": {},
   "outputs": [],
   "source": [
    "enet.fit(data_cv[features_linear], data_cv[target])"
   ]
  },
  {
   "cell_type": "code",
   "execution_count": null,
   "id": "55d80d96-9b45-4b4e-9017-09ff4396dcd1",
   "metadata": {},
   "outputs": [],
   "source": [
    "enet_coef = pd.concat([\n",
    "    pd.Series(enet.feature_names_in_, name='feature'),\n",
    "    pd.Series(enet.coef_, name='enet')\n",
    "], axis=1)\n",
    "\n",
    "# add Intercept as first row\n",
    "enet_coef.loc[-1] = ['Intercept', enet.intercept_]\n",
    "enet_coef.index = enet_coef.index + 1\n",
    "enet_coef = enet_coef.sort_index()"
   ]
  },
  {
   "cell_type": "code",
   "execution_count": null,
   "id": "66c53bbb-1aaf-4a6b-a4cf-ed1a16db69d8",
   "metadata": {},
   "outputs": [],
   "source": [
    "enet_coef"
   ]
  },
  {
   "cell_type": "code",
   "execution_count": null,
   "id": "58dd85c2-77ff-4d6b-a06a-de5a328bc8dc",
   "metadata": {},
   "outputs": [],
   "source": [
    "model_names = ['LR', 'ENet']\n",
    "result_simulation_regressions = simulation_regressions(\n",
    "    data_raw, target, lr, enet, model_names,\n",
    "    sample_frac=1, n_folds=1000)"
   ]
  },
  {
   "cell_type": "code",
   "execution_count": null,
   "id": "21e3f5fb-2c64-42ec-a582-ada469ff56b5",
   "metadata": {},
   "outputs": [],
   "source": [
    "result_simulation_regressions.head()"
   ]
  },
  {
   "cell_type": "code",
   "execution_count": null,
   "id": "57812dfa-9b93-4e2d-ab91-332460c43e98",
   "metadata": {},
   "outputs": [],
   "source": [
    "result_simulation_regressions.mean()"
   ]
  },
  {
   "cell_type": "code",
   "execution_count": null,
   "id": "1ef06f5b-9ef8-42f6-8a56-c1d103dc27c5",
   "metadata": {},
   "outputs": [],
   "source": [
    "result_simulation_regressions.std()"
   ]
  },
  {
   "cell_type": "code",
   "execution_count": null,
   "id": "ba97b4ec-cf6f-44b4-80e5-118235f84d75",
   "metadata": {},
   "outputs": [],
   "source": [
    "test_normality(result_simulation_regressions['LR'])"
   ]
  },
  {
   "cell_type": "code",
   "execution_count": null,
   "id": "98a2275d-15db-46ab-8d9c-226f293df537",
   "metadata": {},
   "outputs": [],
   "source": [
    "test_normality(result_simulation_regressions['ENet'])"
   ]
  },
  {
   "cell_type": "code",
   "execution_count": null,
   "id": "c6882615-bac5-43f6-8e10-08082951100f",
   "metadata": {},
   "outputs": [],
   "source": [
    "fig = plot_lr_enet_comparison(result_simulation_regressions)\n",
    "# save plot\n",
    "savefig('simulations', save_img)"
   ]
  },
  {
   "cell_type": "code",
   "execution_count": null,
   "id": "7917b8fb-7c5b-4f2d-8a59-0403bdd77815",
   "metadata": {},
   "outputs": [],
   "source": [
    "lr_coef = lr.params.to_frame(name='lr')\n",
    "# add column with ci\n",
    "lr_coef = pd.concat([\n",
    "    lr_coef,\n",
    "    lr.conf_int().rename(columns={0: 'ci_min', 1: 'ci_max'})\n",
    "], axis=1)\n",
    "lr_coef = lr_coef.reset_index(names='feature')"
   ]
  },
  {
   "cell_type": "code",
   "execution_count": null,
   "id": "94ae409f-c244-4874-b2f3-9d2acd8037b8",
   "metadata": {},
   "outputs": [],
   "source": [
    "lr_coef"
   ]
  },
  {
   "cell_type": "code",
   "execution_count": null,
   "id": "383ec000-eb6a-46da-8297-916f7c1a2366",
   "metadata": {},
   "outputs": [],
   "source": [
    "comparing_df = lr_coef.merge(enet_coef, on='feature')"
   ]
  },
  {
   "cell_type": "code",
   "execution_count": null,
   "id": "9fb9d3cc-aa48-411a-beaa-e0d565fa3541",
   "metadata": {},
   "outputs": [],
   "source": [
    "comparing_df"
   ]
  },
  {
   "cell_type": "code",
   "execution_count": null,
   "id": "94ef61ff-a897-4950-b01f-53ce67e0279f",
   "metadata": {},
   "outputs": [],
   "source": [
    "comparing_df_plot = comparing_df.iloc[1:].copy()\n",
    "comparing_df_plot.sort_values('lr', key=abs, ascending=True, inplace=True)\n",
    "comparing_df_plot.reset_index(drop=True, inplace=True)\n",
    "# xticks for plot\n",
    "xticks = np.arange(1, len(comparing_df_plot['feature'])+1)\n",
    "# yticks for plot\n",
    "yticks = comparing_df_plot.index.tolist()\n",
    "yticks = yticks[::-1]\n",
    "yticks = [(i+1) for i in yticks]\n",
    "ylabels = comparing_df_plot['feature'].values.tolist()\n",
    "ylabels = ylabels[::-1]\n",
    "ylabels = [str.upper(i) for i in ylabels]\n",
    "labels = comparing_df_plot['feature']\n",
    "# delta for points of scatterplots\n",
    "delta_coeff = 0.125"
   ]
  },
  {
   "cell_type": "code",
   "execution_count": null,
   "id": "5b71b398-baef-41da-9ebd-4296446a2993",
   "metadata": {},
   "outputs": [],
   "source": [
    "# figure\n",
    "fig = plt.figure(figsize=(3, 4))\n",
    "# scatterplots\n",
    "ax = plt.scatter(\n",
    "    x=comparing_df_plot['lr'], y=xticks+delta_coeff,\n",
    "    s=7, color=palette[0], alpha=0.9\n",
    ")\n",
    "ax = plt.scatter(\n",
    "    x=comparing_df_plot['enet'],y=xticks-delta_coeff,\n",
    "    s=7, color=palette[1], alpha=0.9\n",
    ")\n",
    "# plot errorbar\n",
    "yerr = ([comparing_df_plot['lr'] - comparing_df_plot['ci_min'],\n",
    "         comparing_df_plot['ci_max'] - comparing_df_plot['lr']])\n",
    "plt.errorbar(\n",
    "    x=comparing_df_plot['lr'], y=xticks+delta_coeff,\n",
    "    xerr=yerr, fmt='none', elinewidth=1, capsize=1.2,\n",
    "    capthick=1, alpha=0.9)\n",
    "# plot zero line\n",
    "plt.axvline(\n",
    "    0, ymin=0.02, ymax=0.98, color=palette[0], lw=0.75, alpha=0.25)\n",
    "# legend\n",
    "plt.legend(\n",
    "    labels=['LR', 'ENet'], loc='lower right', handletextpad=-0.15)\n",
    "# spines\n",
    "ax.axes.spines[['top', 'right']].set_visible(True)\n",
    "# ticks\n",
    "plt.yticks(ticks=yticks, labels=ylabels, weight='bold', fontsize=7)\n",
    "# title\n",
    "plt.title('Comparing LR and ENET coefficients')\n",
    "# remove grid\n",
    "plt.grid(False)\n",
    "# save plot\n",
    "savefig('coefficients_comparing', save_img)"
   ]
  },
  {
   "cell_type": "markdown",
   "id": "ff1df0dd-7c41-4c16-93af-17522851e8e2",
   "metadata": {},
   "source": [
    "### Save Data"
   ]
  },
  {
   "cell_type": "code",
   "execution_count": null,
   "id": "6eca108c-3eaa-4f42-959d-da31e155a774",
   "metadata": {},
   "outputs": [],
   "source": [
    "simulation_datasets_dict['train_enet'] = data_cv\n",
    "simulation_datasets_dict['features_enet'] = features_linear"
   ]
  },
  {
   "cell_type": "code",
   "execution_count": null,
   "id": "088e9150-cd59-4a1b-bc4e-12849313c2df",
   "metadata": {},
   "outputs": [],
   "source": [
    "estimators_dict['enet'] = enet\n",
    "estimators_dict['lr'] = lr"
   ]
  },
  {
   "cell_type": "code",
   "execution_count": null,
   "id": "5b8b225c-8538-4d2c-8007-89cb7da12218",
   "metadata": {},
   "outputs": [],
   "source": [
    "evaluation_dict['cv_enet'] = enet_cv"
   ]
  },
  {
   "cell_type": "code",
   "execution_count": null,
   "id": "b4ec22a8-008d-4b59-9630-db3beb406ff7",
   "metadata": {},
   "outputs": [],
   "source": [
    "features_dict['features_linear'] = features_linear"
   ]
  },
  {
   "cell_type": "code",
   "execution_count": null,
   "id": "38a5e7af-f531-4857-ae0f-3fdd1228946e",
   "metadata": {},
   "outputs": [],
   "source": [
    "saveit(features_dict, 'features_dict', save_files)"
   ]
  },
  {
   "cell_type": "code",
   "execution_count": null,
   "id": "5c4209c4-ed0c-4fd8-ab6a-72a4f823168b",
   "metadata": {},
   "outputs": [],
   "source": [
    "saveit(simulation_datasets_dict, 'simulation_datasets_dict', save_files)"
   ]
  },
  {
   "cell_type": "code",
   "execution_count": null,
   "id": "df7f7553-66b0-417b-86ba-68ba6478db2d",
   "metadata": {},
   "outputs": [],
   "source": [
    "saveit(estimators_dict, 'estimators_dict', save_files)"
   ]
  },
  {
   "cell_type": "code",
   "execution_count": null,
   "id": "020b8de0-06e1-4ed4-a86b-03cb54d6b426",
   "metadata": {},
   "outputs": [],
   "source": [
    "saveit(evaluation_dict, 'evaluation_dict', save_files)"
   ]
  },
  {
   "cell_type": "markdown",
   "id": "5f76df99-dded-4520-9fb3-1615f33396dd",
   "metadata": {},
   "source": [
    "### Save Session"
   ]
  },
  {
   "cell_type": "code",
   "execution_count": null,
   "id": "00ffafcd-e0b5-4f5e-9d4a-a4bbd707d7cc",
   "metadata": {},
   "outputs": [],
   "source": [
    "save_session(session_name)"
   ]
  },
  {
   "cell_type": "markdown",
   "id": "1da41470-f624-4d12-969d-f99074c78ae9",
   "metadata": {},
   "source": [
    "### Execution time"
   ]
  },
  {
   "cell_type": "code",
   "execution_count": null,
   "id": "ecbc947e-3ac5-41ee-9e72-c6f0bf3e8449",
   "metadata": {},
   "outputs": [],
   "source": [
    "print(f'Execution time: {stopwatch.stop(start)}')"
   ]
  }
 ],
 "metadata": {
  "kernelspec": {
   "display_name": "kgl_house_prices",
   "language": "python",
   "name": "kgl_house_prices"
  },
  "language_info": {
   "codemirror_mode": {
    "name": "ipython",
    "version": 3
   },
   "file_extension": ".py",
   "mimetype": "text/x-python",
   "name": "python",
   "nbconvert_exporter": "python",
   "pygments_lexer": "ipython3",
   "version": "3.12.2"
  }
 },
 "nbformat": 4,
 "nbformat_minor": 5
}
