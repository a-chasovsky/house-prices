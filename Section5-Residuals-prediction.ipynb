{
 "cells": [
  {
   "cell_type": "code",
   "execution_count": 1,
   "id": "c66f7bfb-209b-4674-a983-98a9a38af54a",
   "metadata": {},
   "outputs": [],
   "source": [
    "# run stopwatch\n",
    "from tools import Stopwatch\n",
    "stopwatch = Stopwatch()\n",
    "start = stopwatch.start()"
   ]
  },
  {
   "cell_type": "markdown",
   "id": "f6c00479-60a4-454d-a674-d309cde0599b",
   "metadata": {},
   "source": [
    "### Load libraries, functions, palette, theme"
   ]
  },
  {
   "cell_type": "code",
   "execution_count": 2,
   "id": "9c01111b-a490-40f4-bb6e-354ae1d7d43b",
   "metadata": {},
   "outputs": [],
   "source": [
    "%run _libraries.ipynb"
   ]
  },
  {
   "cell_type": "code",
   "execution_count": 7,
   "id": "66f70361-a20e-49c6-a768-214985f702a5",
   "metadata": {},
   "outputs": [],
   "source": [
    "%run _functions.ipynb"
   ]
  },
  {
   "cell_type": "code",
   "execution_count": 4,
   "id": "34936b77-c8d5-4e8f-a0d2-c90dc5a099f5",
   "metadata": {},
   "outputs": [],
   "source": [
    "dir_save = 'Section5-Residuals-prediction'"
   ]
  },
  {
   "cell_type": "markdown",
   "id": "f34ac54c-b1aa-4c6a-89bf-12e5b2ed7c09",
   "metadata": {},
   "source": [
    "# Section V. Residuals prediction"
   ]
  },
  {
   "cell_type": "markdown",
   "id": "30f4537a-89d4-4659-ab2e-4bd8ebbd3bd8",
   "metadata": {},
   "source": [
    "## Load Saved Section if exists"
   ]
  },
  {
   "cell_type": "raw",
   "id": "71920369-ac6c-444a-8269-c7c8198d6e42",
   "metadata": {},
   "source": [
    "if os.path.exists(f'sessions/{dir_save}'):\n",
    "    load_session(dir_save)\n",
    "else:\n",
    "    print(f'No such session in directory: \"sessions/{dir_save}/\"')"
   ]
  },
  {
   "cell_type": "markdown",
   "id": "718cfb1f-e888-4404-8719-9a90ed5d9198",
   "metadata": {},
   "source": [
    "## Load Data"
   ]
  },
  {
   "cell_type": "code",
   "execution_count": 5,
   "id": "5f168d66-319b-43ba-8a8a-8b33d53a7066",
   "metadata": {},
   "outputs": [],
   "source": [
    "# dicts\n",
    "datasets_dict = loadit(\n",
    "    'datasets_dict', dir='Section3-Feature-selection-and-Preprocessing')\n",
    "estimators_dict = loadit(\n",
    "    'estimators_dict', dir='Section4-Linear-models-research')\n",
    "features_dict = loadit(\n",
    "    'features_dict', dir='Section4-Linear-models-research')\n",
    "# datasets\n",
    "train = datasets_dict['train'].copy()\n",
    "train_cv = datasets_dict['train_cv'].copy()\n",
    "# models\n",
    "lr = estimators_dict['lr']\n",
    "# features\n",
    "features = features_dict['features'].copy()\n",
    "features_linear = features_dict['features_linear'].copy()\n",
    "numeric = features_dict['numeric'].copy()\n",
    "categorical = features_dict['categorical'].copy()\n",
    "categorical_transform = features_dict['categorical_transform'].copy()\n",
    "factor = features_dict['factor'].copy()\n",
    "target = 'residuals'"
   ]
  },
  {
   "cell_type": "markdown",
   "id": "11970f8b-1505-4c97-ac5a-1d45712e29c2",
   "metadata": {},
   "source": [
    "## Calculate Residuals"
   ]
  },
  {
   "cell_type": "code",
   "execution_count": 6,
   "id": "54ad7312-6e6d-4968-9e6b-9299bc15fbff",
   "metadata": {},
   "outputs": [],
   "source": [
    "y_pred_lr = lr.predict(train[features_linear])"
   ]
  },
  {
   "cell_type": "code",
   "execution_count": 7,
   "id": "f7bd48f5-2b51-4c73-95fb-364a51bcd8c3",
   "metadata": {},
   "outputs": [],
   "source": [
    "residuals = train['price'] - y_pred_lr"
   ]
  },
  {
   "cell_type": "code",
   "execution_count": 8,
   "id": "9cc5ab89-66e7-48a7-bd33-2fd891afd6ee",
   "metadata": {},
   "outputs": [],
   "source": [
    "train['price_pred_lr'] = y_pred_lr\n",
    "train['residuals'] = residuals\n",
    "\n",
    "train_cv['price_pred_lr'] = y_pred_lr\n",
    "train_cv['residuals'] = residuals\n",
    "\n",
    "train = train.drop('price', axis=1)\n",
    "train_cv = train_cv.drop('price', axis=1)"
   ]
  },
  {
   "cell_type": "code",
   "execution_count": 9,
   "id": "5d2d0930-2b4d-4f62-8bb6-c29d0ba737d5",
   "metadata": {},
   "outputs": [],
   "source": [
    "features.append('price_pred_lr')"
   ]
  },
  {
   "cell_type": "markdown",
   "id": "d3aedda5-1433-4eda-881a-52a74717f64a",
   "metadata": {},
   "source": [
    "## Datasets"
   ]
  },
  {
   "cell_type": "code",
   "execution_count": 10,
   "id": "34a0239b-c4aa-44d9-80c8-6e0ee907e08e",
   "metadata": {},
   "outputs": [
    {
     "data": {
      "text/html": [
       "<div>\n",
       "<style scoped>\n",
       "    .dataframe tbody tr th:only-of-type {\n",
       "        vertical-align: middle;\n",
       "    }\n",
       "\n",
       "    .dataframe tbody tr th {\n",
       "        vertical-align: top;\n",
       "    }\n",
       "\n",
       "    .dataframe thead th {\n",
       "        text-align: right;\n",
       "    }\n",
       "</style>\n",
       "<table border=\"1\" class=\"dataframe\">\n",
       "  <thead>\n",
       "    <tr style=\"text-align: right;\">\n",
       "      <th></th>\n",
       "      <th>id</th>\n",
       "      <th>mssubclass</th>\n",
       "      <th>mszoning</th>\n",
       "      <th>lg_lotfrontage</th>\n",
       "      <th>lg_lotarea</th>\n",
       "      <th>street</th>\n",
       "      <th>alley</th>\n",
       "      <th>lotshape</th>\n",
       "      <th>landcontour</th>\n",
       "      <th>utilities</th>\n",
       "      <th>...</th>\n",
       "      <th>enclosedporch_exst</th>\n",
       "      <th>three_ssnporch_exst</th>\n",
       "      <th>screenporch_exst</th>\n",
       "      <th>poolarea_exst</th>\n",
       "      <th>miscval_exst</th>\n",
       "      <th>modage</th>\n",
       "      <th>houseage</th>\n",
       "      <th>garageage</th>\n",
       "      <th>price_pred_lr</th>\n",
       "      <th>residuals</th>\n",
       "    </tr>\n",
       "  </thead>\n",
       "  <tbody>\n",
       "    <tr>\n",
       "      <th>907</th>\n",
       "      <td>908</td>\n",
       "      <td>-1.096283</td>\n",
       "      <td>0.351287</td>\n",
       "      <td>0.834375</td>\n",
       "      <td>0.460637</td>\n",
       "      <td>0.061875</td>\n",
       "      <td>0.251891</td>\n",
       "      <td>0.856818</td>\n",
       "      <td>-0.109613</td>\n",
       "      <td>0.027629</td>\n",
       "      <td>...</td>\n",
       "      <td>-0.406612</td>\n",
       "      <td>-0.133631</td>\n",
       "      <td>3.371635</td>\n",
       "      <td>-0.067806</td>\n",
       "      <td>-0.194948</td>\n",
       "      <td>-0.195938</td>\n",
       "      <td>1.086695</td>\n",
       "      <td>1.457489</td>\n",
       "      <td>12.255824</td>\n",
       "      <td>0.173392</td>\n",
       "    </tr>\n",
       "    <tr>\n",
       "      <th>782</th>\n",
       "      <td>783</td>\n",
       "      <td>0.207206</td>\n",
       "      <td>0.351287</td>\n",
       "      <td>0.035941</td>\n",
       "      <td>1.132222</td>\n",
       "      <td>0.061875</td>\n",
       "      <td>0.251891</td>\n",
       "      <td>3.884547</td>\n",
       "      <td>-0.109613</td>\n",
       "      <td>0.027629</td>\n",
       "      <td>...</td>\n",
       "      <td>-0.406612</td>\n",
       "      <td>-0.133631</td>\n",
       "      <td>-0.296592</td>\n",
       "      <td>-0.067806</td>\n",
       "      <td>-0.194948</td>\n",
       "      <td>-0.776119</td>\n",
       "      <td>-0.946281</td>\n",
       "      <td>-0.882843</td>\n",
       "      <td>12.313849</td>\n",
       "      <td>-0.174450</td>\n",
       "    </tr>\n",
       "    <tr>\n",
       "      <th>952</th>\n",
       "      <td>953</td>\n",
       "      <td>-0.574887</td>\n",
       "      <td>0.351287</td>\n",
       "      <td>-0.316076</td>\n",
       "      <td>-0.443275</td>\n",
       "      <td>0.061875</td>\n",
       "      <td>0.251891</td>\n",
       "      <td>-0.657047</td>\n",
       "      <td>-0.109613</td>\n",
       "      <td>0.027629</td>\n",
       "      <td>...</td>\n",
       "      <td>-0.406612</td>\n",
       "      <td>-0.133631</td>\n",
       "      <td>-0.296592</td>\n",
       "      <td>-0.067806</td>\n",
       "      <td>-0.194948</td>\n",
       "      <td>-0.824467</td>\n",
       "      <td>0.004627</td>\n",
       "      <td>0.136334</td>\n",
       "      <td>11.733304</td>\n",
       "      <td>0.071544</td>\n",
       "    </tr>\n",
       "    <tr>\n",
       "      <th>620</th>\n",
       "      <td>621</td>\n",
       "      <td>-2.399772</td>\n",
       "      <td>0.351287</td>\n",
       "      <td>-1.230620</td>\n",
       "      <td>-0.180967</td>\n",
       "      <td>0.061875</td>\n",
       "      <td>-4.640394</td>\n",
       "      <td>-0.657047</td>\n",
       "      <td>-0.109613</td>\n",
       "      <td>0.027629</td>\n",
       "      <td>...</td>\n",
       "      <td>2.459347</td>\n",
       "      <td>-0.133631</td>\n",
       "      <td>-0.296592</td>\n",
       "      <td>-0.067806</td>\n",
       "      <td>-0.194948</td>\n",
       "      <td>1.689649</td>\n",
       "      <td>1.873653</td>\n",
       "      <td>2.363424</td>\n",
       "      <td>11.171646</td>\n",
       "      <td>-0.059198</td>\n",
       "    </tr>\n",
       "    <tr>\n",
       "      <th>669</th>\n",
       "      <td>670</td>\n",
       "      <td>-2.399772</td>\n",
       "      <td>0.351287</td>\n",
       "      <td>0.602820</td>\n",
       "      <td>0.477350</td>\n",
       "      <td>0.061875</td>\n",
       "      <td>0.251891</td>\n",
       "      <td>-0.657047</td>\n",
       "      <td>-0.109613</td>\n",
       "      <td>0.027629</td>\n",
       "      <td>...</td>\n",
       "      <td>2.459347</td>\n",
       "      <td>-0.133631</td>\n",
       "      <td>-0.296592</td>\n",
       "      <td>-0.067806</td>\n",
       "      <td>-0.194948</td>\n",
       "      <td>1.592953</td>\n",
       "      <td>1.545754</td>\n",
       "      <td>1.985951</td>\n",
       "      <td>11.507851</td>\n",
       "      <td>0.323529</td>\n",
       "    </tr>\n",
       "  </tbody>\n",
       "</table>\n",
       "<p>5 rows × 107 columns</p>\n",
       "</div>"
      ],
      "text/plain": [
       "      id  mssubclass  mszoning  lg_lotfrontage  lg_lotarea    street  \\\n",
       "907  908   -1.096283  0.351287        0.834375    0.460637  0.061875   \n",
       "782  783    0.207206  0.351287        0.035941    1.132222  0.061875   \n",
       "952  953   -0.574887  0.351287       -0.316076   -0.443275  0.061875   \n",
       "620  621   -2.399772  0.351287       -1.230620   -0.180967  0.061875   \n",
       "669  670   -2.399772  0.351287        0.602820    0.477350  0.061875   \n",
       "\n",
       "        alley  lotshape  landcontour  utilities  ...  enclosedporch_exst  \\\n",
       "907  0.251891  0.856818    -0.109613   0.027629  ...           -0.406612   \n",
       "782  0.251891  3.884547    -0.109613   0.027629  ...           -0.406612   \n",
       "952  0.251891 -0.657047    -0.109613   0.027629  ...           -0.406612   \n",
       "620 -4.640394 -0.657047    -0.109613   0.027629  ...            2.459347   \n",
       "669  0.251891 -0.657047    -0.109613   0.027629  ...            2.459347   \n",
       "\n",
       "     three_ssnporch_exst  screenporch_exst  poolarea_exst  miscval_exst  \\\n",
       "907            -0.133631          3.371635      -0.067806     -0.194948   \n",
       "782            -0.133631         -0.296592      -0.067806     -0.194948   \n",
       "952            -0.133631         -0.296592      -0.067806     -0.194948   \n",
       "620            -0.133631         -0.296592      -0.067806     -0.194948   \n",
       "669            -0.133631         -0.296592      -0.067806     -0.194948   \n",
       "\n",
       "       modage  houseage  garageage  price_pred_lr  residuals  \n",
       "907 -0.195938  1.086695   1.457489      12.255824   0.173392  \n",
       "782 -0.776119 -0.946281  -0.882843      12.313849  -0.174450  \n",
       "952 -0.824467  0.004627   0.136334      11.733304   0.071544  \n",
       "620  1.689649  1.873653   2.363424      11.171646  -0.059198  \n",
       "669  1.592953  1.545754   1.985951      11.507851   0.323529  \n",
       "\n",
       "[5 rows x 107 columns]"
      ]
     },
     "execution_count": 10,
     "metadata": {},
     "output_type": "execute_result"
    }
   ],
   "source": [
    "train.head()"
   ]
  },
  {
   "cell_type": "code",
   "execution_count": 11,
   "id": "51738bfe-f8f2-4a35-8fde-6cb97f7190b2",
   "metadata": {},
   "outputs": [
    {
     "data": {
      "text/html": [
       "<div>\n",
       "<style scoped>\n",
       "    .dataframe tbody tr th:only-of-type {\n",
       "        vertical-align: middle;\n",
       "    }\n",
       "\n",
       "    .dataframe tbody tr th {\n",
       "        vertical-align: top;\n",
       "    }\n",
       "\n",
       "    .dataframe thead th {\n",
       "        text-align: right;\n",
       "    }\n",
       "</style>\n",
       "<table border=\"1\" class=\"dataframe\">\n",
       "  <thead>\n",
       "    <tr style=\"text-align: right;\">\n",
       "      <th></th>\n",
       "      <th>id</th>\n",
       "      <th>mssubclass</th>\n",
       "      <th>mszoning</th>\n",
       "      <th>lg_lotfrontage</th>\n",
       "      <th>lg_lotarea</th>\n",
       "      <th>street</th>\n",
       "      <th>alley</th>\n",
       "      <th>lotshape</th>\n",
       "      <th>landcontour</th>\n",
       "      <th>utilities</th>\n",
       "      <th>...</th>\n",
       "      <th>enclosedporch_exst</th>\n",
       "      <th>three_ssnporch_exst</th>\n",
       "      <th>screenporch_exst</th>\n",
       "      <th>poolarea_exst</th>\n",
       "      <th>miscval_exst</th>\n",
       "      <th>modage</th>\n",
       "      <th>houseage</th>\n",
       "      <th>garageage</th>\n",
       "      <th>price_pred_lr</th>\n",
       "      <th>residuals</th>\n",
       "    </tr>\n",
       "  </thead>\n",
       "  <tbody>\n",
       "    <tr>\n",
       "      <th>907</th>\n",
       "      <td>908</td>\n",
       "      <td>50</td>\n",
       "      <td>RL</td>\n",
       "      <td>4.465908</td>\n",
       "      <td>9.350189</td>\n",
       "      <td>Pave</td>\n",
       "      <td>NA</td>\n",
       "      <td>IR1</td>\n",
       "      <td>Lvl</td>\n",
       "      <td>AllPub</td>\n",
       "      <td>...</td>\n",
       "      <td>0</td>\n",
       "      <td>0</td>\n",
       "      <td>1</td>\n",
       "      <td>0</td>\n",
       "      <td>0</td>\n",
       "      <td>19</td>\n",
       "      <td>70</td>\n",
       "      <td>70.0</td>\n",
       "      <td>12.255824</td>\n",
       "      <td>0.173392</td>\n",
       "    </tr>\n",
       "    <tr>\n",
       "      <th>782</th>\n",
       "      <td>783</td>\n",
       "      <td>20</td>\n",
       "      <td>RL</td>\n",
       "      <td>4.219508</td>\n",
       "      <td>9.698061</td>\n",
       "      <td>Pave</td>\n",
       "      <td>NA</td>\n",
       "      <td>IR2</td>\n",
       "      <td>Lvl</td>\n",
       "      <td>AllPub</td>\n",
       "      <td>...</td>\n",
       "      <td>0</td>\n",
       "      <td>0</td>\n",
       "      <td>0</td>\n",
       "      <td>0</td>\n",
       "      <td>0</td>\n",
       "      <td>7</td>\n",
       "      <td>8</td>\n",
       "      <td>8.0</td>\n",
       "      <td>12.313849</td>\n",
       "      <td>-0.174450</td>\n",
       "    </tr>\n",
       "    <tr>\n",
       "      <th>952</th>\n",
       "      <td>953</td>\n",
       "      <td>85</td>\n",
       "      <td>RL</td>\n",
       "      <td>4.110874</td>\n",
       "      <td>8.881975</td>\n",
       "      <td>Pave</td>\n",
       "      <td>NA</td>\n",
       "      <td>Reg</td>\n",
       "      <td>Lvl</td>\n",
       "      <td>AllPub</td>\n",
       "      <td>...</td>\n",
       "      <td>0</td>\n",
       "      <td>0</td>\n",
       "      <td>0</td>\n",
       "      <td>0</td>\n",
       "      <td>0</td>\n",
       "      <td>6</td>\n",
       "      <td>37</td>\n",
       "      <td>35.0</td>\n",
       "      <td>11.733304</td>\n",
       "      <td>0.071544</td>\n",
       "    </tr>\n",
       "    <tr>\n",
       "      <th>620</th>\n",
       "      <td>621</td>\n",
       "      <td>30</td>\n",
       "      <td>RL</td>\n",
       "      <td>3.828641</td>\n",
       "      <td>9.017847</td>\n",
       "      <td>Pave</td>\n",
       "      <td>Grvl</td>\n",
       "      <td>Reg</td>\n",
       "      <td>Lvl</td>\n",
       "      <td>AllPub</td>\n",
       "      <td>...</td>\n",
       "      <td>1</td>\n",
       "      <td>0</td>\n",
       "      <td>0</td>\n",
       "      <td>0</td>\n",
       "      <td>0</td>\n",
       "      <td>58</td>\n",
       "      <td>94</td>\n",
       "      <td>94.0</td>\n",
       "      <td>11.171646</td>\n",
       "      <td>-0.059198</td>\n",
       "    </tr>\n",
       "    <tr>\n",
       "      <th>669</th>\n",
       "      <td>670</td>\n",
       "      <td>30</td>\n",
       "      <td>RL</td>\n",
       "      <td>4.394449</td>\n",
       "      <td>9.358847</td>\n",
       "      <td>Pave</td>\n",
       "      <td>NA</td>\n",
       "      <td>Reg</td>\n",
       "      <td>Lvl</td>\n",
       "      <td>AllPub</td>\n",
       "      <td>...</td>\n",
       "      <td>1</td>\n",
       "      <td>0</td>\n",
       "      <td>0</td>\n",
       "      <td>0</td>\n",
       "      <td>0</td>\n",
       "      <td>56</td>\n",
       "      <td>84</td>\n",
       "      <td>84.0</td>\n",
       "      <td>11.507851</td>\n",
       "      <td>0.323529</td>\n",
       "    </tr>\n",
       "  </tbody>\n",
       "</table>\n",
       "<p>5 rows × 107 columns</p>\n",
       "</div>"
      ],
      "text/plain": [
       "      id mssubclass mszoning  lg_lotfrontage  lg_lotarea street alley  \\\n",
       "907  908         50       RL        4.465908    9.350189   Pave    NA   \n",
       "782  783         20       RL        4.219508    9.698061   Pave    NA   \n",
       "952  953         85       RL        4.110874    8.881975   Pave    NA   \n",
       "620  621         30       RL        3.828641    9.017847   Pave  Grvl   \n",
       "669  670         30       RL        4.394449    9.358847   Pave    NA   \n",
       "\n",
       "    lotshape landcontour utilities  ... enclosedporch_exst  \\\n",
       "907      IR1         Lvl    AllPub  ...                  0   \n",
       "782      IR2         Lvl    AllPub  ...                  0   \n",
       "952      Reg         Lvl    AllPub  ...                  0   \n",
       "620      Reg         Lvl    AllPub  ...                  1   \n",
       "669      Reg         Lvl    AllPub  ...                  1   \n",
       "\n",
       "    three_ssnporch_exst screenporch_exst poolarea_exst miscval_exst modage  \\\n",
       "907                   0                1             0            0     19   \n",
       "782                   0                0             0            0      7   \n",
       "952                   0                0             0            0      6   \n",
       "620                   0                0             0            0     58   \n",
       "669                   0                0             0            0     56   \n",
       "\n",
       "    houseage  garageage  price_pred_lr  residuals  \n",
       "907       70       70.0      12.255824   0.173392  \n",
       "782        8        8.0      12.313849  -0.174450  \n",
       "952       37       35.0      11.733304   0.071544  \n",
       "620       94       94.0      11.171646  -0.059198  \n",
       "669       84       84.0      11.507851   0.323529  \n",
       "\n",
       "[5 rows x 107 columns]"
      ]
     },
     "execution_count": 11,
     "metadata": {},
     "output_type": "execute_result"
    }
   ],
   "source": [
    "train_cv.head()"
   ]
  },
  {
   "cell_type": "code",
   "execution_count": 12,
   "id": "4d4cdd00-17f5-48c6-a99a-e8ac5da9346b",
   "metadata": {},
   "outputs": [],
   "source": [
    "datasets = [\n",
    "    train[features],\n",
    "    train[target]\n",
    "]\n",
    "\n",
    "datasets_cv = [\n",
    "    train_cv[features],\n",
    "    train_cv[target]\n",
    "]"
   ]
  },
  {
   "cell_type": "markdown",
   "id": "20c96d4e-3f29-4a23-850c-50c507596bb2",
   "metadata": {},
   "source": [
    "## Preprocessing Pipelines"
   ]
  },
  {
   "cell_type": "code",
   "execution_count": 13,
   "id": "a8b20ea0-2cc8-42ef-b87f-80d2bfbc9062",
   "metadata": {},
   "outputs": [],
   "source": [
    "encoder = OrdinalEncoder(\n",
    "    encoding_method='ordered',\n",
    "    variables=categorical_transform,\n",
    "    missing_values='ignore',\n",
    "    unseen='encode'\n",
    ")"
   ]
  },
  {
   "cell_type": "code",
   "execution_count": 14,
   "id": "36b27ee9-9d53-4efd-bad6-d06918e3fe76",
   "metadata": {},
   "outputs": [],
   "source": [
    "scaler = StandardScaler()"
   ]
  },
  {
   "cell_type": "code",
   "execution_count": 15,
   "id": "99978645-7afd-4bbf-8e91-154a8c7e1822",
   "metadata": {},
   "outputs": [],
   "source": [
    "preprocessor = Pipeline([\n",
    "    ('encoder', encoder),\n",
    "    ('scaler', scaler),\n",
    "])"
   ]
  },
  {
   "cell_type": "code",
   "execution_count": 16,
   "id": "fa6f641f-530a-44a7-ac68-6712771b1a2e",
   "metadata": {},
   "outputs": [
    {
     "data": {
      "text/html": [
       "<style>#sk-container-id-1 {color: black;}#sk-container-id-1 pre{padding: 0;}#sk-container-id-1 div.sk-toggleable {background-color: white;}#sk-container-id-1 label.sk-toggleable__label {cursor: pointer;display: block;width: 100%;margin-bottom: 0;padding: 0.3em;box-sizing: border-box;text-align: center;}#sk-container-id-1 label.sk-toggleable__label-arrow:before {content: \"▸\";float: left;margin-right: 0.25em;color: #696969;}#sk-container-id-1 label.sk-toggleable__label-arrow:hover:before {color: black;}#sk-container-id-1 div.sk-estimator:hover label.sk-toggleable__label-arrow:before {color: black;}#sk-container-id-1 div.sk-toggleable__content {max-height: 0;max-width: 0;overflow: hidden;text-align: left;background-color: #f0f8ff;}#sk-container-id-1 div.sk-toggleable__content pre {margin: 0.2em;color: black;border-radius: 0.25em;background-color: #f0f8ff;}#sk-container-id-1 input.sk-toggleable__control:checked~div.sk-toggleable__content {max-height: 200px;max-width: 100%;overflow: auto;}#sk-container-id-1 input.sk-toggleable__control:checked~label.sk-toggleable__label-arrow:before {content: \"▾\";}#sk-container-id-1 div.sk-estimator input.sk-toggleable__control:checked~label.sk-toggleable__label {background-color: #d4ebff;}#sk-container-id-1 div.sk-label input.sk-toggleable__control:checked~label.sk-toggleable__label {background-color: #d4ebff;}#sk-container-id-1 input.sk-hidden--visually {border: 0;clip: rect(1px 1px 1px 1px);clip: rect(1px, 1px, 1px, 1px);height: 1px;margin: -1px;overflow: hidden;padding: 0;position: absolute;width: 1px;}#sk-container-id-1 div.sk-estimator {font-family: monospace;background-color: #f0f8ff;border: 1px dotted black;border-radius: 0.25em;box-sizing: border-box;margin-bottom: 0.5em;}#sk-container-id-1 div.sk-estimator:hover {background-color: #d4ebff;}#sk-container-id-1 div.sk-parallel-item::after {content: \"\";width: 100%;border-bottom: 1px solid gray;flex-grow: 1;}#sk-container-id-1 div.sk-label:hover label.sk-toggleable__label {background-color: #d4ebff;}#sk-container-id-1 div.sk-serial::before {content: \"\";position: absolute;border-left: 1px solid gray;box-sizing: border-box;top: 0;bottom: 0;left: 50%;z-index: 0;}#sk-container-id-1 div.sk-serial {display: flex;flex-direction: column;align-items: center;background-color: white;padding-right: 0.2em;padding-left: 0.2em;position: relative;}#sk-container-id-1 div.sk-item {position: relative;z-index: 1;}#sk-container-id-1 div.sk-parallel {display: flex;align-items: stretch;justify-content: center;background-color: white;position: relative;}#sk-container-id-1 div.sk-item::before, #sk-container-id-1 div.sk-parallel-item::before {content: \"\";position: absolute;border-left: 1px solid gray;box-sizing: border-box;top: 0;bottom: 0;left: 50%;z-index: -1;}#sk-container-id-1 div.sk-parallel-item {display: flex;flex-direction: column;z-index: 1;position: relative;background-color: white;}#sk-container-id-1 div.sk-parallel-item:first-child::after {align-self: flex-end;width: 50%;}#sk-container-id-1 div.sk-parallel-item:last-child::after {align-self: flex-start;width: 50%;}#sk-container-id-1 div.sk-parallel-item:only-child::after {width: 0;}#sk-container-id-1 div.sk-dashed-wrapped {border: 1px dashed gray;margin: 0 0.4em 0.5em 0.4em;box-sizing: border-box;padding-bottom: 0.4em;background-color: white;}#sk-container-id-1 div.sk-label label {font-family: monospace;font-weight: bold;display: inline-block;line-height: 1.2em;}#sk-container-id-1 div.sk-label-container {text-align: center;}#sk-container-id-1 div.sk-container {/* jupyter's `normalize.less` sets `[hidden] { display: none; }` but bootstrap.min.css set `[hidden] { display: none !important; }` so we also need the `!important` here to be able to override the default hidden behavior on the sphinx rendered scikit-learn.org. See: https://github.com/scikit-learn/scikit-learn/issues/21755 */display: inline-block !important;position: relative;}#sk-container-id-1 div.sk-text-repr-fallback {display: none;}</style><div id=\"sk-container-id-1\" class=\"sk-top-container\"><div class=\"sk-text-repr-fallback\"><pre>Pipeline(steps=[(&#x27;encoder&#x27;,\n",
       "                 OrdinalEncoder(missing_values=&#x27;ignore&#x27;, unseen=&#x27;encode&#x27;,\n",
       "                                variables=[&#x27;mszoning&#x27;, &#x27;street&#x27;, &#x27;alley&#x27;,\n",
       "                                           &#x27;lotshape&#x27;, &#x27;landcontour&#x27;,\n",
       "                                           &#x27;utilities&#x27;, &#x27;lotconfig&#x27;,\n",
       "                                           &#x27;landslope&#x27;, &#x27;neighborhood&#x27;,\n",
       "                                           &#x27;condition_first&#x27;,\n",
       "                                           &#x27;condition_second&#x27;, &#x27;bldgtype&#x27;,\n",
       "                                           &#x27;housestyle&#x27;, &#x27;roofstyle&#x27;,\n",
       "                                           &#x27;roofmatl&#x27;, &#x27;exterior_first&#x27;,\n",
       "                                           &#x27;exterior_second&#x27;, &#x27;masvnrtype&#x27;,\n",
       "                                           &#x27;foundation&#x27;, &#x27;heating&#x27;,\n",
       "                                           &#x27;centralair&#x27;, &#x27;electrical&#x27;,\n",
       "                                           &#x27;paveddrive&#x27;, &#x27;fence&#x27;, &#x27;miscfeature&#x27;,\n",
       "                                           &#x27;saletype&#x27;, &#x27;salecondition&#x27;,\n",
       "                                           &#x27;mssubclass&#x27;])),\n",
       "                (&#x27;scaler&#x27;, StandardScaler())])</pre><b>In a Jupyter environment, please rerun this cell to show the HTML representation or trust the notebook. <br />On GitHub, the HTML representation is unable to render, please try loading this page with nbviewer.org.</b></div><div class=\"sk-container\" hidden><div class=\"sk-item sk-dashed-wrapped\"><div class=\"sk-label-container\"><div class=\"sk-label sk-toggleable\"><input class=\"sk-toggleable__control sk-hidden--visually\" id=\"sk-estimator-id-1\" type=\"checkbox\" ><label for=\"sk-estimator-id-1\" class=\"sk-toggleable__label sk-toggleable__label-arrow\">Pipeline</label><div class=\"sk-toggleable__content\"><pre>Pipeline(steps=[(&#x27;encoder&#x27;,\n",
       "                 OrdinalEncoder(missing_values=&#x27;ignore&#x27;, unseen=&#x27;encode&#x27;,\n",
       "                                variables=[&#x27;mszoning&#x27;, &#x27;street&#x27;, &#x27;alley&#x27;,\n",
       "                                           &#x27;lotshape&#x27;, &#x27;landcontour&#x27;,\n",
       "                                           &#x27;utilities&#x27;, &#x27;lotconfig&#x27;,\n",
       "                                           &#x27;landslope&#x27;, &#x27;neighborhood&#x27;,\n",
       "                                           &#x27;condition_first&#x27;,\n",
       "                                           &#x27;condition_second&#x27;, &#x27;bldgtype&#x27;,\n",
       "                                           &#x27;housestyle&#x27;, &#x27;roofstyle&#x27;,\n",
       "                                           &#x27;roofmatl&#x27;, &#x27;exterior_first&#x27;,\n",
       "                                           &#x27;exterior_second&#x27;, &#x27;masvnrtype&#x27;,\n",
       "                                           &#x27;foundation&#x27;, &#x27;heating&#x27;,\n",
       "                                           &#x27;centralair&#x27;, &#x27;electrical&#x27;,\n",
       "                                           &#x27;paveddrive&#x27;, &#x27;fence&#x27;, &#x27;miscfeature&#x27;,\n",
       "                                           &#x27;saletype&#x27;, &#x27;salecondition&#x27;,\n",
       "                                           &#x27;mssubclass&#x27;])),\n",
       "                (&#x27;scaler&#x27;, StandardScaler())])</pre></div></div></div><div class=\"sk-serial\"><div class=\"sk-item\"><div class=\"sk-estimator sk-toggleable\"><input class=\"sk-toggleable__control sk-hidden--visually\" id=\"sk-estimator-id-2\" type=\"checkbox\" ><label for=\"sk-estimator-id-2\" class=\"sk-toggleable__label sk-toggleable__label-arrow\">OrdinalEncoder</label><div class=\"sk-toggleable__content\"><pre>OrdinalEncoder(missing_values=&#x27;ignore&#x27;, unseen=&#x27;encode&#x27;,\n",
       "               variables=[&#x27;mszoning&#x27;, &#x27;street&#x27;, &#x27;alley&#x27;, &#x27;lotshape&#x27;,\n",
       "                          &#x27;landcontour&#x27;, &#x27;utilities&#x27;, &#x27;lotconfig&#x27;, &#x27;landslope&#x27;,\n",
       "                          &#x27;neighborhood&#x27;, &#x27;condition_first&#x27;, &#x27;condition_second&#x27;,\n",
       "                          &#x27;bldgtype&#x27;, &#x27;housestyle&#x27;, &#x27;roofstyle&#x27;, &#x27;roofmatl&#x27;,\n",
       "                          &#x27;exterior_first&#x27;, &#x27;exterior_second&#x27;, &#x27;masvnrtype&#x27;,\n",
       "                          &#x27;foundation&#x27;, &#x27;heating&#x27;, &#x27;centralair&#x27;, &#x27;electrical&#x27;,\n",
       "                          &#x27;paveddrive&#x27;, &#x27;fence&#x27;, &#x27;miscfeature&#x27;, &#x27;saletype&#x27;,\n",
       "                          &#x27;salecondition&#x27;, &#x27;mssubclass&#x27;])</pre></div></div></div><div class=\"sk-item\"><div class=\"sk-estimator sk-toggleable\"><input class=\"sk-toggleable__control sk-hidden--visually\" id=\"sk-estimator-id-3\" type=\"checkbox\" ><label for=\"sk-estimator-id-3\" class=\"sk-toggleable__label sk-toggleable__label-arrow\">StandardScaler</label><div class=\"sk-toggleable__content\"><pre>StandardScaler()</pre></div></div></div></div></div></div></div>"
      ],
      "text/plain": [
       "Pipeline(steps=[('encoder',\n",
       "                 OrdinalEncoder(missing_values='ignore', unseen='encode',\n",
       "                                variables=['mszoning', 'street', 'alley',\n",
       "                                           'lotshape', 'landcontour',\n",
       "                                           'utilities', 'lotconfig',\n",
       "                                           'landslope', 'neighborhood',\n",
       "                                           'condition_first',\n",
       "                                           'condition_second', 'bldgtype',\n",
       "                                           'housestyle', 'roofstyle',\n",
       "                                           'roofmatl', 'exterior_first',\n",
       "                                           'exterior_second', 'masvnrtype',\n",
       "                                           'foundation', 'heating',\n",
       "                                           'centralair', 'electrical',\n",
       "                                           'paveddrive', 'fence', 'miscfeature',\n",
       "                                           'saletype', 'salecondition',\n",
       "                                           'mssubclass'])),\n",
       "                ('scaler', StandardScaler())])"
      ]
     },
     "execution_count": 16,
     "metadata": {},
     "output_type": "execute_result"
    }
   ],
   "source": [
    "preprocessor"
   ]
  },
  {
   "cell_type": "code",
   "execution_count": 17,
   "id": "14cfe9f7-7117-4a39-b51f-70787b7503c3",
   "metadata": {},
   "outputs": [],
   "source": [
    "n_folds = 20"
   ]
  },
  {
   "cell_type": "code",
   "execution_count": 18,
   "id": "fc22d808-4559-4ed0-b5c2-264877c33368",
   "metadata": {},
   "outputs": [],
   "source": [
    "params_knn = {\n",
    "    'estimator__n_neighbors': [2, 3, 4, 5, 7, 10, 15],\n",
    "    'estimator__weights': ['uniform']\n",
    "}"
   ]
  },
  {
   "cell_type": "code",
   "execution_count": 19,
   "id": "00c0630d-93d2-44db-bd3c-614bc4618aa5",
   "metadata": {},
   "outputs": [],
   "source": [
    "params_svr = {\n",
    "    'estimator__kernel': ['linear'],\n",
    "    'estimator__C': [0.1, 1, 10],\n",
    "    'estimator__gamma': [0.01, 0.1]\n",
    "}"
   ]
  },
  {
   "cell_type": "code",
   "execution_count": 20,
   "id": "236a982a-0db2-4392-b76d-f15dbcc78833",
   "metadata": {},
   "outputs": [],
   "source": [
    "params_rf = {\n",
    "    'estimator__n_estimators': [25, 50, 75, 100],\n",
    "    'estimator__max_depth': [2, 3, 4, 5, 7, 10],\n",
    "    'estimator__random_state':[seed]\n",
    "}"
   ]
  },
  {
   "cell_type": "code",
   "execution_count": 21,
   "id": "976d2c87-c5fc-4301-94fc-5c9589b904a5",
   "metadata": {},
   "outputs": [],
   "source": [
    "params_bag = {\n",
    "    'estimator__n_estimators': [25, 50, 75, 100, 150, 200],\n",
    "    'estimator__random_state':[seed]\n",
    "}"
   ]
  },
  {
   "cell_type": "code",
   "execution_count": 22,
   "id": "c01c03d2-a892-452c-af7d-8f97e7ddf2ff",
   "metadata": {},
   "outputs": [],
   "source": [
    "params_lgb = {\n",
    "    'estimator__n_estimators': [25, 50, 75, 100, 150, 200],\n",
    "    'estimator__max_depth': [2, 3, 4, 5, 7, 10],\n",
    "    'estimator__num_leaves': [3, 25, 100, ],\n",
    "    'estimator__learning_rate': [0.1, 0.3],\n",
    "    'estimator__random_state':[seed],\n",
    "    'estimator__verbose': [-1]\n",
    "}"
   ]
  },
  {
   "cell_type": "code",
   "execution_count": 23,
   "id": "d208d8a7-fed6-4839-9770-f8474d9746f9",
   "metadata": {},
   "outputs": [],
   "source": [
    "params_hgb = {\n",
    "    'estimator__loss': ['squared_error'],\n",
    "    'estimator__learning_rate': [0.1, 0.3],\n",
    "    'estimator__max_iter': [100, 200, 300],\n",
    "    'estimator__max_depth': [2, 3, 4, 5, 7, 10],\n",
    "    'estimator__random_state':[seed]\n",
    "}"
   ]
  },
  {
   "cell_type": "code",
   "execution_count": 24,
   "id": "01f77873-fe00-46e3-ae93-0d1f62e8e1d8",
   "metadata": {},
   "outputs": [],
   "source": [
    "params_xgb = {\n",
    "    'estimator__n_estimators': [25, 50, 75, 100, 150, 200],\n",
    "    'estimator__max_depth': [2, 3, 4, 5, 7, 10],\n",
    "    'estimator__random_state':[seed],\n",
    "    'estimator__learning_rate': [0.1, 0.3],\n",
    "}"
   ]
  },
  {
   "cell_type": "code",
   "execution_count": 25,
   "id": "d85063e9-45bd-4d64-b007-296bf6000444",
   "metadata": {},
   "outputs": [],
   "source": [
    "pipeline_knn = Pipeline(steps=[\n",
    "    ('preprocessor', preprocessor),\n",
    "    ('estimator', KNeighborsRegressor())\n",
    "])"
   ]
  },
  {
   "cell_type": "code",
   "execution_count": 26,
   "id": "84559152-e1fc-4e7e-8f53-812a64358607",
   "metadata": {},
   "outputs": [],
   "source": [
    "pipeline_svr = Pipeline(steps=[\n",
    "    ('preprocessor', preprocessor),\n",
    "    ('estimator', SVR())\n",
    "])"
   ]
  },
  {
   "cell_type": "code",
   "execution_count": 27,
   "id": "871a231e-9d67-4715-9479-91db00ec17ea",
   "metadata": {},
   "outputs": [],
   "source": [
    "pipeline_rf = Pipeline(steps=[\n",
    "    ('preprocessor', preprocessor),\n",
    "    ('estimator', RandomForestRegressor())\n",
    "])"
   ]
  },
  {
   "cell_type": "code",
   "execution_count": 28,
   "id": "014fe3db-2153-48f7-b4bf-87cebbfca867",
   "metadata": {},
   "outputs": [],
   "source": [
    "pipeline_bag = Pipeline(steps=[\n",
    "    ('preprocessor', preprocessor),\n",
    "    ('estimator', BaggingRegressor())\n",
    "])"
   ]
  },
  {
   "cell_type": "code",
   "execution_count": 29,
   "id": "d85f5c2f-97e9-4c4a-8ad0-9e58481f571d",
   "metadata": {},
   "outputs": [],
   "source": [
    "pipeline_lgb = Pipeline(steps=[\n",
    "    ('preprocessor', preprocessor),\n",
    "    ('estimator', LGBMRegressor())\n",
    "])"
   ]
  },
  {
   "cell_type": "code",
   "execution_count": 30,
   "id": "37fc2a6c-a028-47b4-8097-08c859ae0196",
   "metadata": {},
   "outputs": [],
   "source": [
    "pipeline_hgb = Pipeline(steps=[\n",
    "    ('preprocessor', preprocessor),\n",
    "    ('estimator', HistGradientBoostingRegressor())\n",
    "])"
   ]
  },
  {
   "cell_type": "code",
   "execution_count": 31,
   "id": "47a64892-28ae-4ae4-89e7-34560e78431f",
   "metadata": {},
   "outputs": [],
   "source": [
    "pipeline_xgb = Pipeline(steps=[\n",
    "    ('preprocessor', preprocessor),\n",
    "    ('estimator', XGBRegressor())\n",
    "])"
   ]
  },
  {
   "cell_type": "code",
   "execution_count": 32,
   "id": "12c0c08a-7507-441f-bdfe-671181e4a3f9",
   "metadata": {},
   "outputs": [],
   "source": [
    "models_list = [\n",
    "    'KNN', 'SVR', 'RF', 'Bagging',\n",
    "    'LGBoost', 'HGBoost', 'XGBoost'\n",
    "]"
   ]
  },
  {
   "cell_type": "code",
   "execution_count": 33,
   "id": "92a08c4a-7ffa-4bfc-8ee7-d10e72551aab",
   "metadata": {},
   "outputs": [],
   "source": [
    "estimators_list = [\n",
    "    pipeline_knn, pipeline_svr, pipeline_rf, pipeline_bag,\n",
    "    pipeline_lgb, pipeline_hgb, pipeline_xgb\n",
    "]"
   ]
  },
  {
   "cell_type": "code",
   "execution_count": 34,
   "id": "a3214ad3-8930-41c4-8825-5741ccd73009",
   "metadata": {},
   "outputs": [],
   "source": [
    "params_list = [\n",
    "    params_knn, params_svr, params_rf, params_bag,\n",
    "    params_lgb, params_hgb, params_xgb\n",
    "]"
   ]
  },
  {
   "cell_type": "markdown",
   "id": "686eff29-8cf6-46f7-b1ca-77c8db5e7f95",
   "metadata": {},
   "source": [
    "##  Hyperparameters tuning"
   ]
  },
  {
   "cell_type": "code",
   "execution_count": 35,
   "id": "2ebf473d-2423-42af-81ef-917f26f58e7f",
   "metadata": {},
   "outputs": [
    {
     "name": "stdout",
     "output_type": "stream",
     "text": [
      "Execution time: 1:47:35\n"
     ]
    }
   ],
   "source": [
    "st = stopwatch.start()\n",
    "results_grid, cv_dict = models_evaluation(\n",
    "    X=train_cv[features],\n",
    "    y=train_cv[target],\n",
    "    names=models_list,\n",
    "    estimators=estimators_list,\n",
    "    parameters=params_list,\n",
    "    n_folds=n_folds,\n",
    "    full_results=True\n",
    ")\n",
    "print(f'Execution time: {stopwatch.stop(st)}')"
   ]
  },
  {
   "cell_type": "code",
   "execution_count": 36,
   "id": "d0109778-101c-4ebe-b9a1-684ee93b5274",
   "metadata": {},
   "outputs": [
    {
     "data": {
      "text/html": [
       "<div>\n",
       "<style scoped>\n",
       "    .dataframe tbody tr th:only-of-type {\n",
       "        vertical-align: middle;\n",
       "    }\n",
       "\n",
       "    .dataframe tbody tr th {\n",
       "        vertical-align: top;\n",
       "    }\n",
       "\n",
       "    .dataframe thead th {\n",
       "        text-align: right;\n",
       "    }\n",
       "</style>\n",
       "<table border=\"1\" class=\"dataframe\">\n",
       "  <thead>\n",
       "    <tr style=\"text-align: right;\">\n",
       "      <th></th>\n",
       "      <th>Model</th>\n",
       "      <th>MeanScore</th>\n",
       "      <th>StdScore</th>\n",
       "      <th>FitTime</th>\n",
       "      <th>StdFitTime</th>\n",
       "      <th>ScoreTime</th>\n",
       "      <th>StdScoreTime</th>\n",
       "      <th>HyperSearchTime</th>\n",
       "      <th>TotalTime</th>\n",
       "      <th>BestEstimator</th>\n",
       "    </tr>\n",
       "  </thead>\n",
       "  <tbody>\n",
       "    <tr>\n",
       "      <th>0</th>\n",
       "      <td>SVR</td>\n",
       "      <td>-0.111886</td>\n",
       "      <td>0.020574</td>\n",
       "      <td>0.546104</td>\n",
       "      <td>0.076246</td>\n",
       "      <td>0.045274</td>\n",
       "      <td>0.012489</td>\n",
       "      <td>0:36:39</td>\n",
       "      <td>1:47:35</td>\n",
       "      <td>((OrdinalEncoder(missing_values='ignore', unse...</td>\n",
       "    </tr>\n",
       "    <tr>\n",
       "      <th>1</th>\n",
       "      <td>LGBoost</td>\n",
       "      <td>-0.112161</td>\n",
       "      <td>0.022571</td>\n",
       "      <td>0.185541</td>\n",
       "      <td>0.027413</td>\n",
       "      <td>0.052492</td>\n",
       "      <td>0.019818</td>\n",
       "      <td>0:18:33</td>\n",
       "      <td>1:47:35</td>\n",
       "      <td>((OrdinalEncoder(missing_values='ignore', unse...</td>\n",
       "    </tr>\n",
       "    <tr>\n",
       "      <th>2</th>\n",
       "      <td>HGBoost</td>\n",
       "      <td>-0.113272</td>\n",
       "      <td>0.023894</td>\n",
       "      <td>0.633549</td>\n",
       "      <td>0.146609</td>\n",
       "      <td>0.056169</td>\n",
       "      <td>0.017992</td>\n",
       "      <td>0:12:13</td>\n",
       "      <td>1:47:35</td>\n",
       "      <td>((OrdinalEncoder(missing_values='ignore', unse...</td>\n",
       "    </tr>\n",
       "    <tr>\n",
       "      <th>3</th>\n",
       "      <td>XGBoost</td>\n",
       "      <td>-0.115229</td>\n",
       "      <td>0.023480</td>\n",
       "      <td>0.748733</td>\n",
       "      <td>0.219589</td>\n",
       "      <td>0.065038</td>\n",
       "      <td>0.012606</td>\n",
       "      <td>0:18:36</td>\n",
       "      <td>1:47:35</td>\n",
       "      <td>((OrdinalEncoder(missing_values='ignore', unse...</td>\n",
       "    </tr>\n",
       "    <tr>\n",
       "      <th>4</th>\n",
       "      <td>Bagging</td>\n",
       "      <td>-0.117624</td>\n",
       "      <td>0.024256</td>\n",
       "      <td>11.163484</td>\n",
       "      <td>0.855970</td>\n",
       "      <td>0.098141</td>\n",
       "      <td>0.030449</td>\n",
       "      <td>0:11:41</td>\n",
       "      <td>1:47:35</td>\n",
       "      <td>((OrdinalEncoder(missing_values='ignore', unse...</td>\n",
       "    </tr>\n",
       "    <tr>\n",
       "      <th>5</th>\n",
       "      <td>RF</td>\n",
       "      <td>-0.118229</td>\n",
       "      <td>0.024534</td>\n",
       "      <td>3.444674</td>\n",
       "      <td>0.546458</td>\n",
       "      <td>0.057041</td>\n",
       "      <td>0.028570</td>\n",
       "      <td>0:09:32</td>\n",
       "      <td>1:47:35</td>\n",
       "      <td>((OrdinalEncoder(missing_values='ignore', unse...</td>\n",
       "    </tr>\n",
       "    <tr>\n",
       "      <th>6</th>\n",
       "      <td>KNN</td>\n",
       "      <td>-0.121090</td>\n",
       "      <td>0.024823</td>\n",
       "      <td>0.088406</td>\n",
       "      <td>0.014062</td>\n",
       "      <td>0.044025</td>\n",
       "      <td>0.005354</td>\n",
       "      <td>0:00:21</td>\n",
       "      <td>1:47:35</td>\n",
       "      <td>((OrdinalEncoder(missing_values='ignore', unse...</td>\n",
       "    </tr>\n",
       "  </tbody>\n",
       "</table>\n",
       "</div>"
      ],
      "text/plain": [
       "     Model  MeanScore  StdScore    FitTime  StdFitTime  ScoreTime  \\\n",
       "0      SVR  -0.111886  0.020574   0.546104    0.076246   0.045274   \n",
       "1  LGBoost  -0.112161  0.022571   0.185541    0.027413   0.052492   \n",
       "2  HGBoost  -0.113272  0.023894   0.633549    0.146609   0.056169   \n",
       "3  XGBoost  -0.115229  0.023480   0.748733    0.219589   0.065038   \n",
       "4  Bagging  -0.117624  0.024256  11.163484    0.855970   0.098141   \n",
       "5       RF  -0.118229  0.024534   3.444674    0.546458   0.057041   \n",
       "6      KNN  -0.121090  0.024823   0.088406    0.014062   0.044025   \n",
       "\n",
       "   StdScoreTime HyperSearchTime TotalTime  \\\n",
       "0      0.012489         0:36:39   1:47:35   \n",
       "1      0.019818         0:18:33   1:47:35   \n",
       "2      0.017992         0:12:13   1:47:35   \n",
       "3      0.012606         0:18:36   1:47:35   \n",
       "4      0.030449         0:11:41   1:47:35   \n",
       "5      0.028570         0:09:32   1:47:35   \n",
       "6      0.005354         0:00:21   1:47:35   \n",
       "\n",
       "                                       BestEstimator  \n",
       "0  ((OrdinalEncoder(missing_values='ignore', unse...  \n",
       "1  ((OrdinalEncoder(missing_values='ignore', unse...  \n",
       "2  ((OrdinalEncoder(missing_values='ignore', unse...  \n",
       "3  ((OrdinalEncoder(missing_values='ignore', unse...  \n",
       "4  ((OrdinalEncoder(missing_values='ignore', unse...  \n",
       "5  ((OrdinalEncoder(missing_values='ignore', unse...  \n",
       "6  ((OrdinalEncoder(missing_values='ignore', unse...  "
      ]
     },
     "execution_count": 36,
     "metadata": {},
     "output_type": "execute_result"
    }
   ],
   "source": [
    "results_grid"
   ]
  },
  {
   "cell_type": "code",
   "execution_count": 37,
   "id": "b2215f27-6464-4e21-a9dc-cd167219020c",
   "metadata": {},
   "outputs": [],
   "source": [
    "results_estimators = results_grid['BestEstimator'].map(lambda x: x.named_steps['estimator']).tolist()"
   ]
  },
  {
   "cell_type": "code",
   "execution_count": 38,
   "id": "4439e818-4ac9-4ea5-9421-c82581ee5d5d",
   "metadata": {},
   "outputs": [
    {
     "name": "stdout",
     "output_type": "stream",
     "text": [
      "Image 'fit_time.png' successfully saved into 'img/Section5-Residuals-prediction' directory\n"
     ]
    },
    {
     "data": {
      "image/png": "[encoded data removed]",
      "text/plain": [
       "<Figure size 700x300 with 1 Axes>"
      ]
     },
     "metadata": {},
     "output_type": "display_data"
    }
   ],
   "source": [
    "fig = plt.figure(figsize=(7,3))\n",
    "sns.barplot(\n",
    "    x=results_grid['Model'],\n",
    "    y=results_grid['FitTime'],\n",
    "    width=0.5,\n",
    "    color=palette[0]\n",
    ")\n",
    "plt.errorbar(\n",
    "    x=results_grid['Model'],\n",
    "    y=results_grid['FitTime'],\n",
    "    yerr=results_grid['StdFitTime'],\n",
    "    linestyle='none',\n",
    "    color=palette[-1]\n",
    ")\n",
    "plt.xlabel(str.upper('model'))\n",
    "plt.ylabel(str.upper('fit time'))\n",
    "plt.title('Fit time: residuals estimators')\n",
    "plt.xticks(fontsize=9)\n",
    "savefig('fit_time', dir_save)"
   ]
  },
  {
   "cell_type": "markdown",
   "id": "e0597676-fac7-418d-ad81-bcb14c1c29b9",
   "metadata": {},
   "source": [
    "## Features Importance"
   ]
  },
  {
   "cell_type": "code",
   "execution_count": 39,
   "id": "e226970b-0164-432c-b93e-ff2069d5c1ef",
   "metadata": {},
   "outputs": [],
   "source": [
    "params_best_dict = {i:{} for i in results_grid['Model']}\n",
    "for model in results_grid['Model']:\n",
    "    loc = (results_grid['Model'] == model, 'BestEstimator')\n",
    "    est = results_grid.loc[loc].item().named_steps['estimator']\n",
    "    params_best_dict[model] = est.get_params()"
   ]
  },
  {
   "cell_type": "code",
   "execution_count": 40,
   "id": "7d133bbd-7a47-4b4b-9e81-4b2f69b1a915",
   "metadata": {},
   "outputs": [],
   "source": [
    "%%capture\n",
    "estimator_knn = KNeighborsRegressor(**params_best_dict['KNN'])\n",
    "estimator_svr = SVR(**params_best_dict['SVR'])\n",
    "estimator_rf = RandomForestRegressor(**params_best_dict['RF'])\n",
    "estimator_bag = BaggingRegressor(**params_best_dict['Bagging'])\n",
    "estimator_lgb = LGBMRegressor(**params_best_dict['LGBoost'])\n",
    "estimator_hgb = HistGradientBoostingRegressor(**params_best_dict['HGBoost'])\n",
    "estimator_xgb = XGBRegressor(**params_best_dict['XGBoost'])"
   ]
  },
  {
   "cell_type": "code",
   "execution_count": 41,
   "id": "4cbc8bcf-35c8-43fd-9707-bed86b695872",
   "metadata": {},
   "outputs": [],
   "source": [
    "estimators_list_best = [\n",
    "    estimator_knn, estimator_svr,\n",
    "    estimator_rf, estimator_bag,\n",
    "    estimator_lgb, estimator_hgb, estimator_xgb\n",
    "]\n",
    "for est in estimators_list_best:\n",
    "    est.fit(*datasets)"
   ]
  },
  {
   "cell_type": "code",
   "execution_count": 42,
   "id": "88f1400d-f6db-4fce-8f16-e931a0ac73ff",
   "metadata": {},
   "outputs": [],
   "source": [
    "rf_importance = feature_importance_display(\n",
    "    features=estimator_rf.feature_names_in_,\n",
    "    importance=estimator_rf.feature_importances_,\n",
    "    top=10,\n",
    "    only_features=True\n",
    ")\n",
    "bag_importance_calc = np.mean([tree.feature_importances_ for \n",
    "                        tree in estimator_bag.estimators_], axis=0)\n",
    "bag_importance = feature_importance_display(\n",
    "    features=estimator_bag.feature_names_in_,\n",
    "    importance=bag_importance_calc,\n",
    "    top=10,\n",
    "    only_features=True\n",
    ")\n",
    "xgb_importance = feature_importance_display(\n",
    "    features=estimator_xgb.feature_names_in_,\n",
    "    importance=estimator_xgb.feature_importances_,\n",
    "    top=10,\n",
    "    only_features=True\n",
    ")\n",
    "\n",
    "lgb_importance = feature_importance_display(\n",
    "    features=estimator_lgb.feature_name_,\n",
    "    importance=estimator_lgb.feature_importances_,\n",
    "    top=10,\n",
    "    only_features=True\n",
    ")\n",
    "importance_list = [rf_importance, bag_importance, lgb_importance, xgb_importance]\n",
    "importance_names = list(np.array(models_list)[[2,3,4,6]])\n",
    "importances = pd.concat(importance_list, keys=importance_names, axis=1)"
   ]
  },
  {
   "cell_type": "code",
   "execution_count": 43,
   "id": "8affcbe1-122b-4ee2-be65-284bff469b65",
   "metadata": {},
   "outputs": [
    {
     "data": {
      "text/html": [
       "<div>\n",
       "<style scoped>\n",
       "    .dataframe tbody tr th:only-of-type {\n",
       "        vertical-align: middle;\n",
       "    }\n",
       "\n",
       "    .dataframe tbody tr th {\n",
       "        vertical-align: top;\n",
       "    }\n",
       "\n",
       "    .dataframe thead th {\n",
       "        text-align: right;\n",
       "    }\n",
       "</style>\n",
       "<table border=\"1\" class=\"dataframe\">\n",
       "  <thead>\n",
       "    <tr style=\"text-align: right;\">\n",
       "      <th></th>\n",
       "      <th>RF</th>\n",
       "      <th>Bagging</th>\n",
       "      <th>LGBoost</th>\n",
       "      <th>XGBoost</th>\n",
       "    </tr>\n",
       "  </thead>\n",
       "  <tbody>\n",
       "    <tr>\n",
       "      <th>0</th>\n",
       "      <td>lg_bsmtfinsf_first</td>\n",
       "      <td>lg_bsmtfinsf_first</td>\n",
       "      <td>price_pred_lr</td>\n",
       "      <td>lg_bsmtfullbath</td>\n",
       "    </tr>\n",
       "    <tr>\n",
       "      <th>1</th>\n",
       "      <td>neighborhood</td>\n",
       "      <td>price_pred_lr</td>\n",
       "      <td>lg_lotarea</td>\n",
       "      <td>functional</td>\n",
       "    </tr>\n",
       "    <tr>\n",
       "      <th>2</th>\n",
       "      <td>bedroomsize</td>\n",
       "      <td>neighborhood</td>\n",
       "      <td>lg_totalbsmtsf</td>\n",
       "      <td>neighborhood</td>\n",
       "    </tr>\n",
       "    <tr>\n",
       "      <th>3</th>\n",
       "      <td>price_pred_lr</td>\n",
       "      <td>bedroomsize</td>\n",
       "      <td>neighborhood</td>\n",
       "      <td>lg_bsmtfinsf_first</td>\n",
       "    </tr>\n",
       "    <tr>\n",
       "      <th>4</th>\n",
       "      <td>mszoning</td>\n",
       "      <td>mszoning</td>\n",
       "      <td>lg_garageyrblt</td>\n",
       "      <td>mszoning</td>\n",
       "    </tr>\n",
       "    <tr>\n",
       "      <th>5</th>\n",
       "      <td>functional</td>\n",
       "      <td>functional</td>\n",
       "      <td>bedroomsize</td>\n",
       "      <td>housestyle</td>\n",
       "    </tr>\n",
       "    <tr>\n",
       "      <th>6</th>\n",
       "      <td>salecondition</td>\n",
       "      <td>salecondition</td>\n",
       "      <td>bsmtqual</td>\n",
       "      <td>kitchenabvgr</td>\n",
       "    </tr>\n",
       "    <tr>\n",
       "      <th>7</th>\n",
       "      <td>lg_lotarea</td>\n",
       "      <td>lg_lotarea</td>\n",
       "      <td>lg_bsmtunfsf</td>\n",
       "      <td>fireplacequ</td>\n",
       "    </tr>\n",
       "    <tr>\n",
       "      <th>8</th>\n",
       "      <td>lg_openporchsf</td>\n",
       "      <td>lg_garagearea</td>\n",
       "      <td>lg_first_flrsf</td>\n",
       "      <td>yearremodadd_exst</td>\n",
       "    </tr>\n",
       "    <tr>\n",
       "      <th>9</th>\n",
       "      <td>lg_garagearea</td>\n",
       "      <td>lg_bsmtunfsf</td>\n",
       "      <td>modage</td>\n",
       "      <td>centralair</td>\n",
       "    </tr>\n",
       "  </tbody>\n",
       "</table>\n",
       "</div>"
      ],
      "text/plain": [
       "                   RF             Bagging         LGBoost             XGBoost\n",
       "0  lg_bsmtfinsf_first  lg_bsmtfinsf_first   price_pred_lr     lg_bsmtfullbath\n",
       "1        neighborhood       price_pred_lr      lg_lotarea          functional\n",
       "2         bedroomsize        neighborhood  lg_totalbsmtsf        neighborhood\n",
       "3       price_pred_lr         bedroomsize    neighborhood  lg_bsmtfinsf_first\n",
       "4            mszoning            mszoning  lg_garageyrblt            mszoning\n",
       "5          functional          functional     bedroomsize          housestyle\n",
       "6       salecondition       salecondition        bsmtqual        kitchenabvgr\n",
       "7          lg_lotarea          lg_lotarea    lg_bsmtunfsf         fireplacequ\n",
       "8      lg_openporchsf       lg_garagearea  lg_first_flrsf   yearremodadd_exst\n",
       "9       lg_garagearea        lg_bsmtunfsf          modage          centralair"
      ]
     },
     "execution_count": 43,
     "metadata": {},
     "output_type": "execute_result"
    }
   ],
   "source": [
    "importances"
   ]
  },
  {
   "cell_type": "code",
   "execution_count": 44,
   "id": "5b2c9d9c-0704-4f9e-9fbc-7daad0da5e24",
   "metadata": {},
   "outputs": [],
   "source": [
    "features_imp, freq = np.unique(importances.values.ravel(), return_counts=True)\n",
    "features_importance_freq = pd.DataFrame({\n",
    "    'Features': features_imp,\n",
    "    'Frequency': freq\n",
    "})\n",
    "features_importance_freq = \\\n",
    "    features_importance_freq.sort_values('Frequency', ascending=False)\n",
    "features_importance_freq.reset_index(drop=True, inplace=True)"
   ]
  },
  {
   "cell_type": "code",
   "execution_count": 45,
   "id": "5689269c-8818-4f00-8d5a-462df6ae6d11",
   "metadata": {},
   "outputs": [
    {
     "data": {
      "text/html": [
       "<div>\n",
       "<style scoped>\n",
       "    .dataframe tbody tr th:only-of-type {\n",
       "        vertical-align: middle;\n",
       "    }\n",
       "\n",
       "    .dataframe tbody tr th {\n",
       "        vertical-align: top;\n",
       "    }\n",
       "\n",
       "    .dataframe thead th {\n",
       "        text-align: right;\n",
       "    }\n",
       "</style>\n",
       "<table border=\"1\" class=\"dataframe\">\n",
       "  <thead>\n",
       "    <tr style=\"text-align: right;\">\n",
       "      <th></th>\n",
       "      <th>Features</th>\n",
       "      <th>Frequency</th>\n",
       "    </tr>\n",
       "  </thead>\n",
       "  <tbody>\n",
       "    <tr>\n",
       "      <th>0</th>\n",
       "      <td>neighborhood</td>\n",
       "      <td>4</td>\n",
       "    </tr>\n",
       "    <tr>\n",
       "      <th>1</th>\n",
       "      <td>bedroomsize</td>\n",
       "      <td>3</td>\n",
       "    </tr>\n",
       "    <tr>\n",
       "      <th>2</th>\n",
       "      <td>price_pred_lr</td>\n",
       "      <td>3</td>\n",
       "    </tr>\n",
       "    <tr>\n",
       "      <th>3</th>\n",
       "      <td>functional</td>\n",
       "      <td>3</td>\n",
       "    </tr>\n",
       "    <tr>\n",
       "      <th>4</th>\n",
       "      <td>mszoning</td>\n",
       "      <td>3</td>\n",
       "    </tr>\n",
       "    <tr>\n",
       "      <th>5</th>\n",
       "      <td>lg_bsmtfinsf_first</td>\n",
       "      <td>3</td>\n",
       "    </tr>\n",
       "    <tr>\n",
       "      <th>6</th>\n",
       "      <td>lg_lotarea</td>\n",
       "      <td>3</td>\n",
       "    </tr>\n",
       "    <tr>\n",
       "      <th>7</th>\n",
       "      <td>lg_bsmtunfsf</td>\n",
       "      <td>2</td>\n",
       "    </tr>\n",
       "    <tr>\n",
       "      <th>8</th>\n",
       "      <td>salecondition</td>\n",
       "      <td>2</td>\n",
       "    </tr>\n",
       "    <tr>\n",
       "      <th>9</th>\n",
       "      <td>lg_garagearea</td>\n",
       "      <td>2</td>\n",
       "    </tr>\n",
       "    <tr>\n",
       "      <th>10</th>\n",
       "      <td>lg_first_flrsf</td>\n",
       "      <td>1</td>\n",
       "    </tr>\n",
       "    <tr>\n",
       "      <th>11</th>\n",
       "      <td>bsmtqual</td>\n",
       "      <td>1</td>\n",
       "    </tr>\n",
       "    <tr>\n",
       "      <th>12</th>\n",
       "      <td>lg_garageyrblt</td>\n",
       "      <td>1</td>\n",
       "    </tr>\n",
       "    <tr>\n",
       "      <th>13</th>\n",
       "      <td>lg_bsmtfullbath</td>\n",
       "      <td>1</td>\n",
       "    </tr>\n",
       "    <tr>\n",
       "      <th>14</th>\n",
       "      <td>lg_openporchsf</td>\n",
       "      <td>1</td>\n",
       "    </tr>\n",
       "    <tr>\n",
       "      <th>15</th>\n",
       "      <td>lg_totalbsmtsf</td>\n",
       "      <td>1</td>\n",
       "    </tr>\n",
       "    <tr>\n",
       "      <th>16</th>\n",
       "      <td>modage</td>\n",
       "      <td>1</td>\n",
       "    </tr>\n",
       "    <tr>\n",
       "      <th>17</th>\n",
       "      <td>kitchenabvgr</td>\n",
       "      <td>1</td>\n",
       "    </tr>\n",
       "    <tr>\n",
       "      <th>18</th>\n",
       "      <td>housestyle</td>\n",
       "      <td>1</td>\n",
       "    </tr>\n",
       "    <tr>\n",
       "      <th>19</th>\n",
       "      <td>fireplacequ</td>\n",
       "      <td>1</td>\n",
       "    </tr>\n",
       "    <tr>\n",
       "      <th>20</th>\n",
       "      <td>centralair</td>\n",
       "      <td>1</td>\n",
       "    </tr>\n",
       "    <tr>\n",
       "      <th>21</th>\n",
       "      <td>yearremodadd_exst</td>\n",
       "      <td>1</td>\n",
       "    </tr>\n",
       "  </tbody>\n",
       "</table>\n",
       "</div>"
      ],
      "text/plain": [
       "              Features  Frequency\n",
       "0         neighborhood          4\n",
       "1          bedroomsize          3\n",
       "2        price_pred_lr          3\n",
       "3           functional          3\n",
       "4             mszoning          3\n",
       "5   lg_bsmtfinsf_first          3\n",
       "6           lg_lotarea          3\n",
       "7         lg_bsmtunfsf          2\n",
       "8        salecondition          2\n",
       "9        lg_garagearea          2\n",
       "10      lg_first_flrsf          1\n",
       "11            bsmtqual          1\n",
       "12      lg_garageyrblt          1\n",
       "13     lg_bsmtfullbath          1\n",
       "14      lg_openporchsf          1\n",
       "15      lg_totalbsmtsf          1\n",
       "16              modage          1\n",
       "17        kitchenabvgr          1\n",
       "18          housestyle          1\n",
       "19         fireplacequ          1\n",
       "20          centralair          1\n",
       "21   yearremodadd_exst          1"
      ]
     },
     "execution_count": 45,
     "metadata": {},
     "output_type": "execute_result"
    }
   ],
   "source": [
    "features_importance_freq"
   ]
  },
  {
   "cell_type": "code",
   "execution_count": 7,
   "id": "6a3585d8-eb71-4f42-b1a8-cb20afa8dd36",
   "metadata": {},
   "outputs": [
    {
     "data": {
      "image/png": "[encoded data removed]",
      "text/plain": [
       "<Figure size 300x250 with 1 Axes>"
      ]
     },
     "metadata": {},
     "output_type": "display_data"
    },
    {
     "name": "stdout",
     "output_type": "stream",
     "text": [
      "Image 'features_importance.png' successfully saved into 'img/Section5-Residuals-prediction' directory\n"
     ]
    }
   ],
   "source": [
    "fig = plot_bar_horizontal(\n",
    "    values=features_importance_freq['Frequency'][:10],\n",
    "    labels=features_importance_freq['Features'][:10],\n",
    "    labelsize=9,\n",
    "    labelcolor='0.3',\n",
    "    figsize=(3, 2.5),\n",
    "    kind='lol',\n",
    "    x_lim_right=4\n",
    ")\n",
    "savefig('features_importance', dir_save)"
   ]
  },
  {
   "cell_type": "markdown",
   "id": "c9189020-3c99-4820-9d2d-b1205c002f7a",
   "metadata": {},
   "source": [
    "## Voting And Stacking estimators"
   ]
  },
  {
   "cell_type": "code",
   "execution_count": 47,
   "id": "7c7f1bfc-4362-4703-8ccf-fb9f1703ded9",
   "metadata": {},
   "outputs": [],
   "source": [
    "estimator_knn = KNeighborsRegressor(**params_best_dict['KNN'])\n",
    "estimator_svr = SVR(**params_best_dict['SVR'])\n",
    "estimator_rf = RandomForestRegressor(**params_best_dict['RF'])\n",
    "estimator_bag = BaggingRegressor(**params_best_dict['Bagging'])\n",
    "estimator_lgb = LGBMRegressor(**params_best_dict['LGBoost'])\n",
    "estimator_hgb = HistGradientBoostingRegressor(**params_best_dict['HGBoost'])\n",
    "estimator_xgb = XGBRegressor(**params_best_dict['XGBoost'])"
   ]
  },
  {
   "cell_type": "markdown",
   "id": "2e17ce1a-d044-4f73-99bb-e66a2607bff5",
   "metadata": {},
   "source": [
    "### Voting Regressor "
   ]
  },
  {
   "cell_type": "code",
   "execution_count": 48,
   "id": "4a77e821-781c-4c1c-844c-4a1608a76ee4",
   "metadata": {},
   "outputs": [],
   "source": [
    "estimators = [\n",
    "    ('SVR', estimator_svr),\n",
    "    ('RF', estimator_rf),\n",
    "    ('Bagging', estimator_bag),\n",
    "    ('LGBoost', estimator_lgb),\n",
    "    ('HGBoost', estimator_hgb),\n",
    "    ('XGBoost', estimator_xgb)\n",
    "]"
   ]
  },
  {
   "cell_type": "code",
   "execution_count": 49,
   "id": "3bce02ab-6e6e-46a9-b88e-f0052f098482",
   "metadata": {},
   "outputs": [],
   "source": [
    "estimator_vote = VotingRegressor(estimators=estimators)"
   ]
  },
  {
   "cell_type": "code",
   "execution_count": 50,
   "id": "088a963d-6ad6-4505-a7ba-416c8939b45d",
   "metadata": {},
   "outputs": [
    {
     "data": {
      "text/html": [
       "<style>#sk-container-id-2 {color: black;}#sk-container-id-2 pre{padding: 0;}#sk-container-id-2 div.sk-toggleable {background-color: white;}#sk-container-id-2 label.sk-toggleable__label {cursor: pointer;display: block;width: 100%;margin-bottom: 0;padding: 0.3em;box-sizing: border-box;text-align: center;}#sk-container-id-2 label.sk-toggleable__label-arrow:before {content: \"▸\";float: left;margin-right: 0.25em;color: #696969;}#sk-container-id-2 label.sk-toggleable__label-arrow:hover:before {color: black;}#sk-container-id-2 div.sk-estimator:hover label.sk-toggleable__label-arrow:before {color: black;}#sk-container-id-2 div.sk-toggleable__content {max-height: 0;max-width: 0;overflow: hidden;text-align: left;background-color: #f0f8ff;}#sk-container-id-2 div.sk-toggleable__content pre {margin: 0.2em;color: black;border-radius: 0.25em;background-color: #f0f8ff;}#sk-container-id-2 input.sk-toggleable__control:checked~div.sk-toggleable__content {max-height: 200px;max-width: 100%;overflow: auto;}#sk-container-id-2 input.sk-toggleable__control:checked~label.sk-toggleable__label-arrow:before {content: \"▾\";}#sk-container-id-2 div.sk-estimator input.sk-toggleable__control:checked~label.sk-toggleable__label {background-color: #d4ebff;}#sk-container-id-2 div.sk-label input.sk-toggleable__control:checked~label.sk-toggleable__label {background-color: #d4ebff;}#sk-container-id-2 input.sk-hidden--visually {border: 0;clip: rect(1px 1px 1px 1px);clip: rect(1px, 1px, 1px, 1px);height: 1px;margin: -1px;overflow: hidden;padding: 0;position: absolute;width: 1px;}#sk-container-id-2 div.sk-estimator {font-family: monospace;background-color: #f0f8ff;border: 1px dotted black;border-radius: 0.25em;box-sizing: border-box;margin-bottom: 0.5em;}#sk-container-id-2 div.sk-estimator:hover {background-color: #d4ebff;}#sk-container-id-2 div.sk-parallel-item::after {content: \"\";width: 100%;border-bottom: 1px solid gray;flex-grow: 1;}#sk-container-id-2 div.sk-label:hover label.sk-toggleable__label {background-color: #d4ebff;}#sk-container-id-2 div.sk-serial::before {content: \"\";position: absolute;border-left: 1px solid gray;box-sizing: border-box;top: 0;bottom: 0;left: 50%;z-index: 0;}#sk-container-id-2 div.sk-serial {display: flex;flex-direction: column;align-items: center;background-color: white;padding-right: 0.2em;padding-left: 0.2em;position: relative;}#sk-container-id-2 div.sk-item {position: relative;z-index: 1;}#sk-container-id-2 div.sk-parallel {display: flex;align-items: stretch;justify-content: center;background-color: white;position: relative;}#sk-container-id-2 div.sk-item::before, #sk-container-id-2 div.sk-parallel-item::before {content: \"\";position: absolute;border-left: 1px solid gray;box-sizing: border-box;top: 0;bottom: 0;left: 50%;z-index: -1;}#sk-container-id-2 div.sk-parallel-item {display: flex;flex-direction: column;z-index: 1;position: relative;background-color: white;}#sk-container-id-2 div.sk-parallel-item:first-child::after {align-self: flex-end;width: 50%;}#sk-container-id-2 div.sk-parallel-item:last-child::after {align-self: flex-start;width: 50%;}#sk-container-id-2 div.sk-parallel-item:only-child::after {width: 0;}#sk-container-id-2 div.sk-dashed-wrapped {border: 1px dashed gray;margin: 0 0.4em 0.5em 0.4em;box-sizing: border-box;padding-bottom: 0.4em;background-color: white;}#sk-container-id-2 div.sk-label label {font-family: monospace;font-weight: bold;display: inline-block;line-height: 1.2em;}#sk-container-id-2 div.sk-label-container {text-align: center;}#sk-container-id-2 div.sk-container {/* jupyter's `normalize.less` sets `[hidden] { display: none; }` but bootstrap.min.css set `[hidden] { display: none !important; }` so we also need the `!important` here to be able to override the default hidden behavior on the sphinx rendered scikit-learn.org. See: https://github.com/scikit-learn/scikit-learn/issues/21755 */display: inline-block !important;position: relative;}#sk-container-id-2 div.sk-text-repr-fallback {display: none;}</style><div id=\"sk-container-id-2\" class=\"sk-top-container\"><div class=\"sk-text-repr-fallback\"><pre>VotingRegressor(estimators=[(&#x27;SVR&#x27;, SVR(C=0.1, gamma=0.01, kernel=&#x27;linear&#x27;)),\n",
       "                            (&#x27;RF&#x27;,\n",
       "                             RandomForestRegressor(max_depth=10,\n",
       "                                                   random_state=42)),\n",
       "                            (&#x27;Bagging&#x27;,\n",
       "                             BaggingRegressor(n_estimators=200,\n",
       "                                              random_state=42)),\n",
       "                            (&#x27;LGBoost&#x27;,\n",
       "                             LGBMRegressor(learning_rate=0.3, max_depth=2,\n",
       "                                           n_estimators=200, num_leaves=3,\n",
       "                                           random_state=42, verbose=-1)),\n",
       "                            (&#x27;HGBoost&#x27;,\n",
       "                             HistGradientBoostingRegressor...\n",
       "                                          gamma=None, grow_policy=None,\n",
       "                                          importance_type=None,\n",
       "                                          interaction_constraints=None,\n",
       "                                          learning_rate=0.1, max_bin=None,\n",
       "                                          max_cat_threshold=None,\n",
       "                                          max_cat_to_onehot=None,\n",
       "                                          max_delta_step=None, max_depth=5,\n",
       "                                          max_leaves=None,\n",
       "                                          min_child_weight=None, missing=nan,\n",
       "                                          monotone_constraints=None,\n",
       "                                          multi_strategy=None, n_estimators=150,\n",
       "                                          n_jobs=None, num_parallel_tree=None,\n",
       "                                          random_state=42, ...))])</pre><b>In a Jupyter environment, please rerun this cell to show the HTML representation or trust the notebook. <br />On GitHub, the HTML representation is unable to render, please try loading this page with nbviewer.org.</b></div><div class=\"sk-container\" hidden><div class=\"sk-item sk-dashed-wrapped\"><div class=\"sk-label-container\"><div class=\"sk-label sk-toggleable\"><input class=\"sk-toggleable__control sk-hidden--visually\" id=\"sk-estimator-id-4\" type=\"checkbox\" ><label for=\"sk-estimator-id-4\" class=\"sk-toggleable__label sk-toggleable__label-arrow\">VotingRegressor</label><div class=\"sk-toggleable__content\"><pre>VotingRegressor(estimators=[(&#x27;SVR&#x27;, SVR(C=0.1, gamma=0.01, kernel=&#x27;linear&#x27;)),\n",
       "                            (&#x27;RF&#x27;,\n",
       "                             RandomForestRegressor(max_depth=10,\n",
       "                                                   random_state=42)),\n",
       "                            (&#x27;Bagging&#x27;,\n",
       "                             BaggingRegressor(n_estimators=200,\n",
       "                                              random_state=42)),\n",
       "                            (&#x27;LGBoost&#x27;,\n",
       "                             LGBMRegressor(learning_rate=0.3, max_depth=2,\n",
       "                                           n_estimators=200, num_leaves=3,\n",
       "                                           random_state=42, verbose=-1)),\n",
       "                            (&#x27;HGBoost&#x27;,\n",
       "                             HistGradientBoostingRegressor...\n",
       "                                          gamma=None, grow_policy=None,\n",
       "                                          importance_type=None,\n",
       "                                          interaction_constraints=None,\n",
       "                                          learning_rate=0.1, max_bin=None,\n",
       "                                          max_cat_threshold=None,\n",
       "                                          max_cat_to_onehot=None,\n",
       "                                          max_delta_step=None, max_depth=5,\n",
       "                                          max_leaves=None,\n",
       "                                          min_child_weight=None, missing=nan,\n",
       "                                          monotone_constraints=None,\n",
       "                                          multi_strategy=None, n_estimators=150,\n",
       "                                          n_jobs=None, num_parallel_tree=None,\n",
       "                                          random_state=42, ...))])</pre></div></div></div><div class=\"sk-parallel\"><div class=\"sk-parallel-item\"><div class=\"sk-item\"><div class=\"sk-label-container\"><div class=\"sk-label sk-toggleable\"><label>SVR</label></div></div><div class=\"sk-serial\"><div class=\"sk-item\"><div class=\"sk-estimator sk-toggleable\"><input class=\"sk-toggleable__control sk-hidden--visually\" id=\"sk-estimator-id-5\" type=\"checkbox\" ><label for=\"sk-estimator-id-5\" class=\"sk-toggleable__label sk-toggleable__label-arrow\">SVR</label><div class=\"sk-toggleable__content\"><pre>SVR(C=0.1, gamma=0.01, kernel=&#x27;linear&#x27;)</pre></div></div></div></div></div></div><div class=\"sk-parallel-item\"><div class=\"sk-item\"><div class=\"sk-label-container\"><div class=\"sk-label sk-toggleable\"><label>RF</label></div></div><div class=\"sk-serial\"><div class=\"sk-item\"><div class=\"sk-estimator sk-toggleable\"><input class=\"sk-toggleable__control sk-hidden--visually\" id=\"sk-estimator-id-6\" type=\"checkbox\" ><label for=\"sk-estimator-id-6\" class=\"sk-toggleable__label sk-toggleable__label-arrow\">RandomForestRegressor</label><div class=\"sk-toggleable__content\"><pre>RandomForestRegressor(max_depth=10, random_state=42)</pre></div></div></div></div></div></div><div class=\"sk-parallel-item\"><div class=\"sk-item\"><div class=\"sk-label-container\"><div class=\"sk-label sk-toggleable\"><label>Bagging</label></div></div><div class=\"sk-serial\"><div class=\"sk-item\"><div class=\"sk-estimator sk-toggleable\"><input class=\"sk-toggleable__control sk-hidden--visually\" id=\"sk-estimator-id-7\" type=\"checkbox\" ><label for=\"sk-estimator-id-7\" class=\"sk-toggleable__label sk-toggleable__label-arrow\">BaggingRegressor</label><div class=\"sk-toggleable__content\"><pre>BaggingRegressor(n_estimators=200, random_state=42)</pre></div></div></div></div></div></div><div class=\"sk-parallel-item\"><div class=\"sk-item\"><div class=\"sk-label-container\"><div class=\"sk-label sk-toggleable\"><label>LGBoost</label></div></div><div class=\"sk-serial\"><div class=\"sk-item\"><div class=\"sk-estimator sk-toggleable\"><input class=\"sk-toggleable__control sk-hidden--visually\" id=\"sk-estimator-id-8\" type=\"checkbox\" ><label for=\"sk-estimator-id-8\" class=\"sk-toggleable__label sk-toggleable__label-arrow\">LGBMRegressor</label><div class=\"sk-toggleable__content\"><pre>LGBMRegressor(learning_rate=0.3, max_depth=2, n_estimators=200, num_leaves=3,\n",
       "              random_state=42, verbose=-1)</pre></div></div></div></div></div></div><div class=\"sk-parallel-item\"><div class=\"sk-item\"><div class=\"sk-label-container\"><div class=\"sk-label sk-toggleable\"><label>HGBoost</label></div></div><div class=\"sk-serial\"><div class=\"sk-item\"><div class=\"sk-estimator sk-toggleable\"><input class=\"sk-toggleable__control sk-hidden--visually\" id=\"sk-estimator-id-9\" type=\"checkbox\" ><label for=\"sk-estimator-id-9\" class=\"sk-toggleable__label sk-toggleable__label-arrow\">HistGradientBoostingRegressor</label><div class=\"sk-toggleable__content\"><pre>HistGradientBoostingRegressor(max_depth=2, max_iter=300, random_state=42)</pre></div></div></div></div></div></div><div class=\"sk-parallel-item\"><div class=\"sk-item\"><div class=\"sk-label-container\"><div class=\"sk-label sk-toggleable\"><label>XGBoost</label></div></div><div class=\"sk-serial\"><div class=\"sk-item\"><div class=\"sk-estimator sk-toggleable\"><input class=\"sk-toggleable__control sk-hidden--visually\" id=\"sk-estimator-id-10\" type=\"checkbox\" ><label for=\"sk-estimator-id-10\" class=\"sk-toggleable__label sk-toggleable__label-arrow\">XGBRegressor</label><div class=\"sk-toggleable__content\"><pre>XGBRegressor(base_score=None, booster=None, callbacks=None,\n",
       "             colsample_bylevel=None, colsample_bynode=None,\n",
       "             colsample_bytree=None, device=None, early_stopping_rounds=None,\n",
       "             enable_categorical=False, eval_metric=None, feature_types=None,\n",
       "             gamma=None, grow_policy=None, importance_type=None,\n",
       "             interaction_constraints=None, learning_rate=0.1, max_bin=None,\n",
       "             max_cat_threshold=None, max_cat_to_onehot=None,\n",
       "             max_delta_step=None, max_depth=5, max_leaves=None,\n",
       "             min_child_weight=None, missing=nan, monotone_constraints=None,\n",
       "             multi_strategy=None, n_estimators=150, n_jobs=None,\n",
       "             num_parallel_tree=None, random_state=42, ...)</pre></div></div></div></div></div></div></div></div></div></div>"
      ],
      "text/plain": [
       "VotingRegressor(estimators=[('SVR', SVR(C=0.1, gamma=0.01, kernel='linear')),\n",
       "                            ('RF',\n",
       "                             RandomForestRegressor(max_depth=10,\n",
       "                                                   random_state=42)),\n",
       "                            ('Bagging',\n",
       "                             BaggingRegressor(n_estimators=200,\n",
       "                                              random_state=42)),\n",
       "                            ('LGBoost',\n",
       "                             LGBMRegressor(learning_rate=0.3, max_depth=2,\n",
       "                                           n_estimators=200, num_leaves=3,\n",
       "                                           random_state=42, verbose=-1)),\n",
       "                            ('HGBoost',\n",
       "                             HistGradientBoostingRegressor...\n",
       "                                          gamma=None, grow_policy=None,\n",
       "                                          importance_type=None,\n",
       "                                          interaction_constraints=None,\n",
       "                                          learning_rate=0.1, max_bin=None,\n",
       "                                          max_cat_threshold=None,\n",
       "                                          max_cat_to_onehot=None,\n",
       "                                          max_delta_step=None, max_depth=5,\n",
       "                                          max_leaves=None,\n",
       "                                          min_child_weight=None, missing=nan,\n",
       "                                          monotone_constraints=None,\n",
       "                                          multi_strategy=None, n_estimators=150,\n",
       "                                          n_jobs=None, num_parallel_tree=None,\n",
       "                                          random_state=42, ...))])"
      ]
     },
     "execution_count": 50,
     "metadata": {},
     "output_type": "execute_result"
    }
   ],
   "source": [
    "estimator_vote"
   ]
  },
  {
   "cell_type": "code",
   "execution_count": 51,
   "id": "a583d11f-1d6b-453e-99c4-684611e4c29f",
   "metadata": {},
   "outputs": [],
   "source": [
    "pipeline_vote = Pipeline(steps=[\n",
    "    ('encoding', encoder),\n",
    "    ('scaler', scaler),\n",
    "    ('vote', estimator_vote)\n",
    "])"
   ]
  },
  {
   "cell_type": "code",
   "execution_count": 52,
   "id": "cb743792-42aa-4787-861c-0d0a80046f53",
   "metadata": {},
   "outputs": [
    {
     "name": "stdout",
     "output_type": "stream",
     "text": [
      "Execution time: 0:05:09\n"
     ]
    }
   ],
   "source": [
    "st = stopwatch.start()\n",
    "estimator_vote_cv = cross_validate(\n",
    "    pipeline_vote, *datasets_cv, cv=n_folds,\n",
    "    scoring='neg_root_mean_squared_error',\n",
    "    return_train_score=True\n",
    ")\n",
    "print(f'Execution time: {stopwatch.stop(st)}')"
   ]
  },
  {
   "cell_type": "code",
   "execution_count": 53,
   "id": "2d454d5f-96d5-45b9-bd10-76c2c1b2d0e4",
   "metadata": {},
   "outputs": [],
   "source": [
    "estimator_vote_scores_mean = np.mean(estimator_vote_cv['test_score'])"
   ]
  },
  {
   "cell_type": "code",
   "execution_count": 54,
   "id": "2e469756-da32-4fc3-a918-1d58b70b65bd",
   "metadata": {},
   "outputs": [
    {
     "data": {
      "text/plain": [
       "-0.1098859772091492"
      ]
     },
     "execution_count": 54,
     "metadata": {},
     "output_type": "execute_result"
    }
   ],
   "source": [
    "estimator_vote_scores_mean"
   ]
  },
  {
   "cell_type": "code",
   "execution_count": 55,
   "id": "48e3a1ff-1102-4d58-838f-ca875aa4d70f",
   "metadata": {},
   "outputs": [],
   "source": [
    "estimator_vote_scores_std = np.std(estimator_vote_cv['test_score'], ddof=1)"
   ]
  },
  {
   "cell_type": "code",
   "execution_count": 56,
   "id": "ec494ee2-3fc6-46a2-8313-6ea15eb57baf",
   "metadata": {},
   "outputs": [
    {
     "data": {
      "text/plain": [
       "0.02381895960787994"
      ]
     },
     "execution_count": 56,
     "metadata": {},
     "output_type": "execute_result"
    }
   ],
   "source": [
    "estimator_vote_scores_std"
   ]
  },
  {
   "cell_type": "code",
   "execution_count": 57,
   "id": "c5a620d6-cd1a-4b15-9319-d2fe61ceff2a",
   "metadata": {},
   "outputs": [],
   "source": [
    "estimator_vote_fit_time_mean = np.mean(estimator_vote_cv['fit_time'])"
   ]
  },
  {
   "cell_type": "code",
   "execution_count": 58,
   "id": "22c6f49c-c4b1-45b9-8c4a-6a7ef3e778eb",
   "metadata": {},
   "outputs": [
    {
     "data": {
      "text/plain": [
       "14.904511117935181"
      ]
     },
     "execution_count": 58,
     "metadata": {},
     "output_type": "execute_result"
    }
   ],
   "source": [
    "estimator_vote_fit_time_mean"
   ]
  },
  {
   "cell_type": "code",
   "execution_count": 59,
   "id": "1208ea04-d73b-49ed-b1cd-d1b0df20ae85",
   "metadata": {},
   "outputs": [],
   "source": [
    "estimator_vote_fit_time_std = np.std(estimator_vote_cv['fit_time'], ddof=1)"
   ]
  },
  {
   "cell_type": "code",
   "execution_count": 60,
   "id": "eb7bb0de-a925-49db-9bc2-955b4036587c",
   "metadata": {},
   "outputs": [
    {
     "data": {
      "text/plain": [
       "1.5657361084668568"
      ]
     },
     "execution_count": 60,
     "metadata": {},
     "output_type": "execute_result"
    }
   ],
   "source": [
    "estimator_vote_fit_time_std"
   ]
  },
  {
   "cell_type": "markdown",
   "id": "52239faf-f976-40ac-b5e6-0481c97064df",
   "metadata": {},
   "source": [
    "### Stacking Regressor"
   ]
  },
  {
   "cell_type": "code",
   "execution_count": 61,
   "id": "5fc9d412-de44-43a0-9fda-e7569d316510",
   "metadata": {},
   "outputs": [],
   "source": [
    "estimators = [\n",
    "    ('SVR', estimator_svr),\n",
    "    ('RF', estimator_rf),\n",
    "    ('Bagging', estimator_bag),\n",
    "    ('LGBoost', estimator_lgb),\n",
    "    ('HGBoost', estimator_hgb),\n",
    "    ('XGBoost', estimator_xgb)\n",
    "]"
   ]
  },
  {
   "cell_type": "code",
   "execution_count": 62,
   "id": "f4b18f6b-00e3-4ef0-945e-351b9cf5ea10",
   "metadata": {},
   "outputs": [],
   "source": [
    "final_estimator = RidgeCV()"
   ]
  },
  {
   "cell_type": "code",
   "execution_count": 63,
   "id": "f965e878-d709-49ac-af13-bfcb10ef3780",
   "metadata": {},
   "outputs": [],
   "source": [
    "estimator_stack = StackingRegressor(\n",
    "    estimators=estimators,\n",
    "    final_estimator=final_estimator)"
   ]
  },
  {
   "cell_type": "code",
   "execution_count": 64,
   "id": "81211f0b-080c-40d5-b71c-ad62ad45cc03",
   "metadata": {},
   "outputs": [
    {
     "data": {
      "text/html": [
       "<style>#sk-container-id-3 {color: black;}#sk-container-id-3 pre{padding: 0;}#sk-container-id-3 div.sk-toggleable {background-color: white;}#sk-container-id-3 label.sk-toggleable__label {cursor: pointer;display: block;width: 100%;margin-bottom: 0;padding: 0.3em;box-sizing: border-box;text-align: center;}#sk-container-id-3 label.sk-toggleable__label-arrow:before {content: \"▸\";float: left;margin-right: 0.25em;color: #696969;}#sk-container-id-3 label.sk-toggleable__label-arrow:hover:before {color: black;}#sk-container-id-3 div.sk-estimator:hover label.sk-toggleable__label-arrow:before {color: black;}#sk-container-id-3 div.sk-toggleable__content {max-height: 0;max-width: 0;overflow: hidden;text-align: left;background-color: #f0f8ff;}#sk-container-id-3 div.sk-toggleable__content pre {margin: 0.2em;color: black;border-radius: 0.25em;background-color: #f0f8ff;}#sk-container-id-3 input.sk-toggleable__control:checked~div.sk-toggleable__content {max-height: 200px;max-width: 100%;overflow: auto;}#sk-container-id-3 input.sk-toggleable__control:checked~label.sk-toggleable__label-arrow:before {content: \"▾\";}#sk-container-id-3 div.sk-estimator input.sk-toggleable__control:checked~label.sk-toggleable__label {background-color: #d4ebff;}#sk-container-id-3 div.sk-label input.sk-toggleable__control:checked~label.sk-toggleable__label {background-color: #d4ebff;}#sk-container-id-3 input.sk-hidden--visually {border: 0;clip: rect(1px 1px 1px 1px);clip: rect(1px, 1px, 1px, 1px);height: 1px;margin: -1px;overflow: hidden;padding: 0;position: absolute;width: 1px;}#sk-container-id-3 div.sk-estimator {font-family: monospace;background-color: #f0f8ff;border: 1px dotted black;border-radius: 0.25em;box-sizing: border-box;margin-bottom: 0.5em;}#sk-container-id-3 div.sk-estimator:hover {background-color: #d4ebff;}#sk-container-id-3 div.sk-parallel-item::after {content: \"\";width: 100%;border-bottom: 1px solid gray;flex-grow: 1;}#sk-container-id-3 div.sk-label:hover label.sk-toggleable__label {background-color: #d4ebff;}#sk-container-id-3 div.sk-serial::before {content: \"\";position: absolute;border-left: 1px solid gray;box-sizing: border-box;top: 0;bottom: 0;left: 50%;z-index: 0;}#sk-container-id-3 div.sk-serial {display: flex;flex-direction: column;align-items: center;background-color: white;padding-right: 0.2em;padding-left: 0.2em;position: relative;}#sk-container-id-3 div.sk-item {position: relative;z-index: 1;}#sk-container-id-3 div.sk-parallel {display: flex;align-items: stretch;justify-content: center;background-color: white;position: relative;}#sk-container-id-3 div.sk-item::before, #sk-container-id-3 div.sk-parallel-item::before {content: \"\";position: absolute;border-left: 1px solid gray;box-sizing: border-box;top: 0;bottom: 0;left: 50%;z-index: -1;}#sk-container-id-3 div.sk-parallel-item {display: flex;flex-direction: column;z-index: 1;position: relative;background-color: white;}#sk-container-id-3 div.sk-parallel-item:first-child::after {align-self: flex-end;width: 50%;}#sk-container-id-3 div.sk-parallel-item:last-child::after {align-self: flex-start;width: 50%;}#sk-container-id-3 div.sk-parallel-item:only-child::after {width: 0;}#sk-container-id-3 div.sk-dashed-wrapped {border: 1px dashed gray;margin: 0 0.4em 0.5em 0.4em;box-sizing: border-box;padding-bottom: 0.4em;background-color: white;}#sk-container-id-3 div.sk-label label {font-family: monospace;font-weight: bold;display: inline-block;line-height: 1.2em;}#sk-container-id-3 div.sk-label-container {text-align: center;}#sk-container-id-3 div.sk-container {/* jupyter's `normalize.less` sets `[hidden] { display: none; }` but bootstrap.min.css set `[hidden] { display: none !important; }` so we also need the `!important` here to be able to override the default hidden behavior on the sphinx rendered scikit-learn.org. See: https://github.com/scikit-learn/scikit-learn/issues/21755 */display: inline-block !important;position: relative;}#sk-container-id-3 div.sk-text-repr-fallback {display: none;}</style><div id=\"sk-container-id-3\" class=\"sk-top-container\"><div class=\"sk-text-repr-fallback\"><pre>StackingRegressor(estimators=[(&#x27;SVR&#x27;, SVR(C=0.1, gamma=0.01, kernel=&#x27;linear&#x27;)),\n",
       "                              (&#x27;RF&#x27;,\n",
       "                               RandomForestRegressor(max_depth=10,\n",
       "                                                     random_state=42)),\n",
       "                              (&#x27;Bagging&#x27;,\n",
       "                               BaggingRegressor(n_estimators=200,\n",
       "                                                random_state=42)),\n",
       "                              (&#x27;LGBoost&#x27;,\n",
       "                               LGBMRegressor(learning_rate=0.3, max_depth=2,\n",
       "                                             n_estimators=200, num_leaves=3,\n",
       "                                             random_state=42, verbose=-1)),\n",
       "                              (&#x27;HGBoost&#x27;,\n",
       "                               HistGradientBoostingRegress...\n",
       "                                            importance_type=None,\n",
       "                                            interaction_constraints=None,\n",
       "                                            learning_rate=0.1, max_bin=None,\n",
       "                                            max_cat_threshold=None,\n",
       "                                            max_cat_to_onehot=None,\n",
       "                                            max_delta_step=None, max_depth=5,\n",
       "                                            max_leaves=None,\n",
       "                                            min_child_weight=None, missing=nan,\n",
       "                                            monotone_constraints=None,\n",
       "                                            multi_strategy=None,\n",
       "                                            n_estimators=150, n_jobs=None,\n",
       "                                            num_parallel_tree=None,\n",
       "                                            random_state=42, ...))],\n",
       "                  final_estimator=RidgeCV())</pre><b>In a Jupyter environment, please rerun this cell to show the HTML representation or trust the notebook. <br />On GitHub, the HTML representation is unable to render, please try loading this page with nbviewer.org.</b></div><div class=\"sk-container\" hidden><div class=\"sk-item sk-dashed-wrapped\"><div class=\"sk-label-container\"><div class=\"sk-label sk-toggleable\"><input class=\"sk-toggleable__control sk-hidden--visually\" id=\"sk-estimator-id-11\" type=\"checkbox\" ><label for=\"sk-estimator-id-11\" class=\"sk-toggleable__label sk-toggleable__label-arrow\">StackingRegressor</label><div class=\"sk-toggleable__content\"><pre>StackingRegressor(estimators=[(&#x27;SVR&#x27;, SVR(C=0.1, gamma=0.01, kernel=&#x27;linear&#x27;)),\n",
       "                              (&#x27;RF&#x27;,\n",
       "                               RandomForestRegressor(max_depth=10,\n",
       "                                                     random_state=42)),\n",
       "                              (&#x27;Bagging&#x27;,\n",
       "                               BaggingRegressor(n_estimators=200,\n",
       "                                                random_state=42)),\n",
       "                              (&#x27;LGBoost&#x27;,\n",
       "                               LGBMRegressor(learning_rate=0.3, max_depth=2,\n",
       "                                             n_estimators=200, num_leaves=3,\n",
       "                                             random_state=42, verbose=-1)),\n",
       "                              (&#x27;HGBoost&#x27;,\n",
       "                               HistGradientBoostingRegress...\n",
       "                                            importance_type=None,\n",
       "                                            interaction_constraints=None,\n",
       "                                            learning_rate=0.1, max_bin=None,\n",
       "                                            max_cat_threshold=None,\n",
       "                                            max_cat_to_onehot=None,\n",
       "                                            max_delta_step=None, max_depth=5,\n",
       "                                            max_leaves=None,\n",
       "                                            min_child_weight=None, missing=nan,\n",
       "                                            monotone_constraints=None,\n",
       "                                            multi_strategy=None,\n",
       "                                            n_estimators=150, n_jobs=None,\n",
       "                                            num_parallel_tree=None,\n",
       "                                            random_state=42, ...))],\n",
       "                  final_estimator=RidgeCV())</pre></div></div></div><div class=\"sk-serial\"><div class=\"sk-item\"><div class=\"sk-parallel\"><div class=\"sk-parallel-item\"><div class=\"sk-item\"><div class=\"sk-label-container\"><div class=\"sk-label sk-toggleable\"><label>SVR</label></div></div><div class=\"sk-serial\"><div class=\"sk-item\"><div class=\"sk-estimator sk-toggleable\"><input class=\"sk-toggleable__control sk-hidden--visually\" id=\"sk-estimator-id-12\" type=\"checkbox\" ><label for=\"sk-estimator-id-12\" class=\"sk-toggleable__label sk-toggleable__label-arrow\">SVR</label><div class=\"sk-toggleable__content\"><pre>SVR(C=0.1, gamma=0.01, kernel=&#x27;linear&#x27;)</pre></div></div></div></div></div></div><div class=\"sk-parallel-item\"><div class=\"sk-item\"><div class=\"sk-label-container\"><div class=\"sk-label sk-toggleable\"><label>RF</label></div></div><div class=\"sk-serial\"><div class=\"sk-item\"><div class=\"sk-estimator sk-toggleable\"><input class=\"sk-toggleable__control sk-hidden--visually\" id=\"sk-estimator-id-13\" type=\"checkbox\" ><label for=\"sk-estimator-id-13\" class=\"sk-toggleable__label sk-toggleable__label-arrow\">RandomForestRegressor</label><div class=\"sk-toggleable__content\"><pre>RandomForestRegressor(max_depth=10, random_state=42)</pre></div></div></div></div></div></div><div class=\"sk-parallel-item\"><div class=\"sk-item\"><div class=\"sk-label-container\"><div class=\"sk-label sk-toggleable\"><label>Bagging</label></div></div><div class=\"sk-serial\"><div class=\"sk-item\"><div class=\"sk-estimator sk-toggleable\"><input class=\"sk-toggleable__control sk-hidden--visually\" id=\"sk-estimator-id-14\" type=\"checkbox\" ><label for=\"sk-estimator-id-14\" class=\"sk-toggleable__label sk-toggleable__label-arrow\">BaggingRegressor</label><div class=\"sk-toggleable__content\"><pre>BaggingRegressor(n_estimators=200, random_state=42)</pre></div></div></div></div></div></div><div class=\"sk-parallel-item\"><div class=\"sk-item\"><div class=\"sk-label-container\"><div class=\"sk-label sk-toggleable\"><label>LGBoost</label></div></div><div class=\"sk-serial\"><div class=\"sk-item\"><div class=\"sk-estimator sk-toggleable\"><input class=\"sk-toggleable__control sk-hidden--visually\" id=\"sk-estimator-id-15\" type=\"checkbox\" ><label for=\"sk-estimator-id-15\" class=\"sk-toggleable__label sk-toggleable__label-arrow\">LGBMRegressor</label><div class=\"sk-toggleable__content\"><pre>LGBMRegressor(learning_rate=0.3, max_depth=2, n_estimators=200, num_leaves=3,\n",
       "              random_state=42, verbose=-1)</pre></div></div></div></div></div></div><div class=\"sk-parallel-item\"><div class=\"sk-item\"><div class=\"sk-label-container\"><div class=\"sk-label sk-toggleable\"><label>HGBoost</label></div></div><div class=\"sk-serial\"><div class=\"sk-item\"><div class=\"sk-estimator sk-toggleable\"><input class=\"sk-toggleable__control sk-hidden--visually\" id=\"sk-estimator-id-16\" type=\"checkbox\" ><label for=\"sk-estimator-id-16\" class=\"sk-toggleable__label sk-toggleable__label-arrow\">HistGradientBoostingRegressor</label><div class=\"sk-toggleable__content\"><pre>HistGradientBoostingRegressor(max_depth=2, max_iter=300, random_state=42)</pre></div></div></div></div></div></div><div class=\"sk-parallel-item\"><div class=\"sk-item\"><div class=\"sk-label-container\"><div class=\"sk-label sk-toggleable\"><label>XGBoost</label></div></div><div class=\"sk-serial\"><div class=\"sk-item\"><div class=\"sk-estimator sk-toggleable\"><input class=\"sk-toggleable__control sk-hidden--visually\" id=\"sk-estimator-id-17\" type=\"checkbox\" ><label for=\"sk-estimator-id-17\" class=\"sk-toggleable__label sk-toggleable__label-arrow\">XGBRegressor</label><div class=\"sk-toggleable__content\"><pre>XGBRegressor(base_score=None, booster=None, callbacks=None,\n",
       "             colsample_bylevel=None, colsample_bynode=None,\n",
       "             colsample_bytree=None, device=None, early_stopping_rounds=None,\n",
       "             enable_categorical=False, eval_metric=None, feature_types=None,\n",
       "             gamma=None, grow_policy=None, importance_type=None,\n",
       "             interaction_constraints=None, learning_rate=0.1, max_bin=None,\n",
       "             max_cat_threshold=None, max_cat_to_onehot=None,\n",
       "             max_delta_step=None, max_depth=5, max_leaves=None,\n",
       "             min_child_weight=None, missing=nan, monotone_constraints=None,\n",
       "             multi_strategy=None, n_estimators=150, n_jobs=None,\n",
       "             num_parallel_tree=None, random_state=42, ...)</pre></div></div></div></div></div></div></div></div><div class=\"sk-item\"><div class=\"sk-parallel\"><div class=\"sk-parallel-item\"><div class=\"sk-item\"><div class=\"sk-label-container\"><div class=\"sk-label sk-toggleable\"><label>final_estimator</label></div></div><div class=\"sk-serial\"><div class=\"sk-item\"><div class=\"sk-estimator sk-toggleable\"><input class=\"sk-toggleable__control sk-hidden--visually\" id=\"sk-estimator-id-18\" type=\"checkbox\" ><label for=\"sk-estimator-id-18\" class=\"sk-toggleable__label sk-toggleable__label-arrow\">RidgeCV</label><div class=\"sk-toggleable__content\"><pre>RidgeCV()</pre></div></div></div></div></div></div></div></div></div></div></div></div>"
      ],
      "text/plain": [
       "StackingRegressor(estimators=[('SVR', SVR(C=0.1, gamma=0.01, kernel='linear')),\n",
       "                              ('RF',\n",
       "                               RandomForestRegressor(max_depth=10,\n",
       "                                                     random_state=42)),\n",
       "                              ('Bagging',\n",
       "                               BaggingRegressor(n_estimators=200,\n",
       "                                                random_state=42)),\n",
       "                              ('LGBoost',\n",
       "                               LGBMRegressor(learning_rate=0.3, max_depth=2,\n",
       "                                             n_estimators=200, num_leaves=3,\n",
       "                                             random_state=42, verbose=-1)),\n",
       "                              ('HGBoost',\n",
       "                               HistGradientBoostingRegress...\n",
       "                                            importance_type=None,\n",
       "                                            interaction_constraints=None,\n",
       "                                            learning_rate=0.1, max_bin=None,\n",
       "                                            max_cat_threshold=None,\n",
       "                                            max_cat_to_onehot=None,\n",
       "                                            max_delta_step=None, max_depth=5,\n",
       "                                            max_leaves=None,\n",
       "                                            min_child_weight=None, missing=nan,\n",
       "                                            monotone_constraints=None,\n",
       "                                            multi_strategy=None,\n",
       "                                            n_estimators=150, n_jobs=None,\n",
       "                                            num_parallel_tree=None,\n",
       "                                            random_state=42, ...))],\n",
       "                  final_estimator=RidgeCV())"
      ]
     },
     "execution_count": 64,
     "metadata": {},
     "output_type": "execute_result"
    }
   ],
   "source": [
    "estimator_stack"
   ]
  },
  {
   "cell_type": "code",
   "execution_count": 65,
   "id": "29a9c154-07f7-48a1-b947-a4a8dbdcf542",
   "metadata": {},
   "outputs": [],
   "source": [
    "pipeline_stack = Pipeline(steps=[\n",
    "    ('encoding', encoder),\n",
    "    ('scaler', scaler),\n",
    "    ('stack', estimator_stack)\n",
    "])"
   ]
  },
  {
   "cell_type": "code",
   "execution_count": 66,
   "id": "4834e64c-9858-405b-91fd-e0962d47e901",
   "metadata": {},
   "outputs": [
    {
     "name": "stdout",
     "output_type": "stream",
     "text": [
      "Execution time: 0:26:42\n"
     ]
    }
   ],
   "source": [
    "st = stopwatch.start()\n",
    "estimator_stack_cv = cross_validate(\n",
    "    pipeline_stack, *datasets_cv, cv=n_folds,\n",
    "    scoring='neg_root_mean_squared_error',\n",
    "    return_train_score=True\n",
    ")\n",
    "print(f'Execution time: {stopwatch.stop(st)}')"
   ]
  },
  {
   "cell_type": "code",
   "execution_count": 67,
   "id": "b7c53b94-ed85-4919-9ace-2351faef7653",
   "metadata": {},
   "outputs": [],
   "source": [
    "estimator_stack_scores_mean = np.mean(estimator_stack_cv['test_score'])"
   ]
  },
  {
   "cell_type": "code",
   "execution_count": 68,
   "id": "0254b951-1ea6-4f63-9fdd-04f2dd2bb342",
   "metadata": {},
   "outputs": [
    {
     "data": {
      "text/plain": [
       "-0.10868283922092883"
      ]
     },
     "execution_count": 68,
     "metadata": {},
     "output_type": "execute_result"
    }
   ],
   "source": [
    "estimator_stack_scores_mean"
   ]
  },
  {
   "cell_type": "code",
   "execution_count": 69,
   "id": "973cc63c-af68-405f-b94c-757a9df17d20",
   "metadata": {},
   "outputs": [],
   "source": [
    "estimator_stack_scores_std = np.std(estimator_stack_cv['test_score'], ddof=1)"
   ]
  },
  {
   "cell_type": "code",
   "execution_count": 70,
   "id": "cd0d760b-35a9-4845-9265-fe0466fc25a8",
   "metadata": {},
   "outputs": [
    {
     "data": {
      "text/plain": [
       "0.022455516311420766"
      ]
     },
     "execution_count": 70,
     "metadata": {},
     "output_type": "execute_result"
    }
   ],
   "source": [
    "estimator_stack_scores_std"
   ]
  },
  {
   "cell_type": "code",
   "execution_count": 71,
   "id": "54dc4447-8ab9-448b-9fbc-17f426fe42b8",
   "metadata": {},
   "outputs": [],
   "source": [
    "estimator_stack_fit_time_mean = np.mean(estimator_stack_cv['fit_time'])"
   ]
  },
  {
   "cell_type": "code",
   "execution_count": 72,
   "id": "f2ca226f-4e09-4175-8c1b-0c872199e367",
   "metadata": {},
   "outputs": [
    {
     "data": {
      "text/plain": [
       "79.46665509939194"
      ]
     },
     "execution_count": 72,
     "metadata": {},
     "output_type": "execute_result"
    }
   ],
   "source": [
    "estimator_stack_fit_time_mean"
   ]
  },
  {
   "cell_type": "code",
   "execution_count": 73,
   "id": "40075ce1-853a-432d-add8-d5e6ece1e05a",
   "metadata": {},
   "outputs": [],
   "source": [
    "estimator_stack_fit_time_std = np.std(estimator_stack_cv['fit_time'], ddof=1)"
   ]
  },
  {
   "cell_type": "code",
   "execution_count": 74,
   "id": "ce46e6b4-7747-414f-941e-258f49285024",
   "metadata": {},
   "outputs": [
    {
     "data": {
      "text/plain": [
       "5.842223900303278"
      ]
     },
     "execution_count": 74,
     "metadata": {},
     "output_type": "execute_result"
    }
   ],
   "source": [
    "estimator_stack_fit_time_std"
   ]
  },
  {
   "cell_type": "markdown",
   "id": "24620877-67ca-4f30-aff4-fca98eec14b9",
   "metadata": {},
   "source": [
    "### Compare estimators"
   ]
  },
  {
   "cell_type": "code",
   "execution_count": 75,
   "id": "ec0c4323-3558-4566-9197-6732eda9cb63",
   "metadata": {},
   "outputs": [],
   "source": [
    "xticks = np.arange(0, len(estimator_stack_cv['test_score']), 1)\n",
    "label_vote = 'Vote Regressor'\n",
    "label_stack = 'Stack Regressor'\n",
    "\n",
    "delta = estimator_stack_cv['test_score'] - estimator_vote_cv['test_score']\n",
    "delta_stack = [i if i>0 else 0 for i in delta]\n",
    "delta_vote = [i if i<0 else 0 for i in delta]"
   ]
  },
  {
   "cell_type": "code",
   "execution_count": 76,
   "id": "9acc8968-2121-42b0-b7da-e7c2eae08d0d",
   "metadata": {},
   "outputs": [],
   "source": [
    "plot_vote_stack1 = pd.DataFrame(\n",
    "    data=estimator_vote_cv['test_score'],\n",
    "    columns=['Voting']\n",
    ")\n",
    "plot_vote_stack2 = pd.DataFrame(\n",
    "    data=estimator_stack_cv['test_score'],\n",
    "    columns=['Stacking']\n",
    ")\n",
    "plot_vote_stack = pd.concat([plot_vote_stack1, plot_vote_stack2], axis=1)"
   ]
  },
  {
   "cell_type": "code",
   "execution_count": 77,
   "id": "0243dbb5-0540-4598-875b-775054291cba",
   "metadata": {},
   "outputs": [
    {
     "data": {
      "text/html": [
       "<div>\n",
       "<style scoped>\n",
       "    .dataframe tbody tr th:only-of-type {\n",
       "        vertical-align: middle;\n",
       "    }\n",
       "\n",
       "    .dataframe tbody tr th {\n",
       "        vertical-align: top;\n",
       "    }\n",
       "\n",
       "    .dataframe thead th {\n",
       "        text-align: right;\n",
       "    }\n",
       "</style>\n",
       "<table border=\"1\" class=\"dataframe\">\n",
       "  <thead>\n",
       "    <tr style=\"text-align: right;\">\n",
       "      <th></th>\n",
       "      <th>Voting</th>\n",
       "      <th>Stacking</th>\n",
       "    </tr>\n",
       "  </thead>\n",
       "  <tbody>\n",
       "    <tr>\n",
       "      <th>0</th>\n",
       "      <td>-0.162866</td>\n",
       "      <td>-0.159337</td>\n",
       "    </tr>\n",
       "    <tr>\n",
       "      <th>1</th>\n",
       "      <td>-0.117592</td>\n",
       "      <td>-0.119043</td>\n",
       "    </tr>\n",
       "    <tr>\n",
       "      <th>2</th>\n",
       "      <td>-0.101036</td>\n",
       "      <td>-0.099587</td>\n",
       "    </tr>\n",
       "    <tr>\n",
       "      <th>3</th>\n",
       "      <td>-0.072150</td>\n",
       "      <td>-0.076973</td>\n",
       "    </tr>\n",
       "    <tr>\n",
       "      <th>4</th>\n",
       "      <td>-0.132220</td>\n",
       "      <td>-0.133015</td>\n",
       "    </tr>\n",
       "  </tbody>\n",
       "</table>\n",
       "</div>"
      ],
      "text/plain": [
       "     Voting  Stacking\n",
       "0 -0.162866 -0.159337\n",
       "1 -0.117592 -0.119043\n",
       "2 -0.101036 -0.099587\n",
       "3 -0.072150 -0.076973\n",
       "4 -0.132220 -0.133015"
      ]
     },
     "execution_count": 77,
     "metadata": {},
     "output_type": "execute_result"
    }
   ],
   "source": [
    "plot_vote_stack.head()"
   ]
  },
  {
   "cell_type": "code",
   "execution_count": 8,
   "id": "19550dbc-b5ac-4912-9956-3fefdba502a3",
   "metadata": {},
   "outputs": [
    {
     "data": {
      "image/png": "[encoded data removed]",
      "text/plain": [
       "<Figure size 900x400 with 2 Axes>"
      ]
     },
     "metadata": {},
     "output_type": "display_data"
    },
    {
     "name": "stdout",
     "output_type": "stream",
     "text": [
      "Image 'vote_stack_compare.svg' successfully saved into 'img/Section5-Residuals-prediction' directory\n"
     ]
    }
   ],
   "source": [
    "fig = plot_estimators_comparing(\n",
    "    data=plot_vote_stack,\n",
    "    labels=['Voting', 'Stacking'],\n",
    "    ylabels=['RMSE', 'Delta'],\n",
    "    figsize=(9, 4),\n",
    "    width=0.15,\n",
    "    palette=[alpha_color(palette[0], 0.85), palette[1]],\n",
    "    ax0_y_ticks=[-0.18, -0.06, 0.03],\n",
    "    ax1_y_ticks=[-0.0080, 0.0080, 0.0040]\n",
    ")\n",
    "\n",
    "savefig('vote_stack_compare', dir_save)"
   ]
  },
  {
   "cell_type": "code",
   "execution_count": 79,
   "id": "b90421ff-5e4b-4eba-97fe-49bf5a77cfb4",
   "metadata": {},
   "outputs": [],
   "source": [
    "# create df with results\n",
    "results_full_cols = [\n",
    "    'Model', 'MeanScore', 'StdScore', 'FitTime', 'StdFitTime'\n",
    "]\t\n",
    "results_full = results_grid[results_full_cols].copy()\n",
    "results_full['MeanScore'] = results_full['MeanScore'].abs() \n",
    "results_full['Estimator'] = results_estimators "
   ]
  },
  {
   "cell_type": "code",
   "execution_count": 80,
   "id": "a275633b-3e05-4985-926b-28921305de88",
   "metadata": {},
   "outputs": [],
   "source": [
    "# add scores of vote and stacking regressors\n",
    "vote_row = [\n",
    "    'Voting',\n",
    "    np.abs(estimator_vote_scores_mean),\n",
    "    estimator_vote_scores_std,\n",
    "    estimator_vote_fit_time_mean,\n",
    "    estimator_vote_fit_time_std,\n",
    "    estimator_vote\n",
    "]\n",
    "stack_row = [\n",
    "    'Stacking',\n",
    "    np.abs(estimator_stack_scores_mean),\n",
    "    estimator_stack_scores_std,\n",
    "    estimator_stack_fit_time_mean,\n",
    "    estimator_stack_fit_time_std,\n",
    "    estimator_stack\n",
    "]"
   ]
  },
  {
   "cell_type": "code",
   "execution_count": 81,
   "id": "3c152f50-052f-42f5-82ba-1f6f34630624",
   "metadata": {},
   "outputs": [],
   "source": [
    "results_full.loc[len(results_full)] = vote_row\n",
    "results_full.loc[len(results_full)] = stack_row\n",
    "\n",
    "results_full = results_full.sort_values('MeanScore', ascending=True)\n",
    "results_full = results_full.reset_index(drop=True)"
   ]
  },
  {
   "cell_type": "code",
   "execution_count": 82,
   "id": "b4666572-bc03-42dd-9215-f44d43bdc475",
   "metadata": {},
   "outputs": [],
   "source": [
    "# calculate CI and margin of errors\n",
    "results_full['CiMin'] = results_full.apply(\n",
    "    lambda x: ci_t_distribution(\n",
    "        mean=x['MeanScore'], std=x['StdScore'], n=n_folds)['min'],\n",
    "    axis=1)\n",
    "\n",
    "results_full['CiMax'] = results_full.apply(\n",
    "    lambda x: ci_t_distribution(\n",
    "        mean=x['MeanScore'], std=x['StdScore'], n=n_folds)['max'],\n",
    "    axis=1)\n",
    "\n",
    "results_full['MarginOfError'] = results_full.apply(\n",
    "    lambda x: ci_t_distribution(\n",
    "        mean=x['MeanScore'], std=x['StdScore'], n=n_folds)['margin'],\n",
    "    axis=1)\n",
    "\n",
    "# move 'Estimator' column to last position\n",
    "old_cols = results_full.columns\n",
    "new_cols = [col for col in old_cols if col != 'Estimator'] + ['Estimator']\n",
    "results_full = results_full[new_cols].copy()"
   ]
  },
  {
   "cell_type": "code",
   "execution_count": 83,
   "id": "14e825c5-6155-49f4-99c9-a778412d4189",
   "metadata": {},
   "outputs": [
    {
     "data": {
      "text/html": [
       "<div>\n",
       "<style scoped>\n",
       "    .dataframe tbody tr th:only-of-type {\n",
       "        vertical-align: middle;\n",
       "    }\n",
       "\n",
       "    .dataframe tbody tr th {\n",
       "        vertical-align: top;\n",
       "    }\n",
       "\n",
       "    .dataframe thead th {\n",
       "        text-align: right;\n",
       "    }\n",
       "</style>\n",
       "<table border=\"1\" class=\"dataframe\">\n",
       "  <thead>\n",
       "    <tr style=\"text-align: right;\">\n",
       "      <th></th>\n",
       "      <th>Model</th>\n",
       "      <th>MeanScore</th>\n",
       "      <th>StdScore</th>\n",
       "      <th>FitTime</th>\n",
       "      <th>StdFitTime</th>\n",
       "      <th>CiMin</th>\n",
       "      <th>CiMax</th>\n",
       "      <th>MarginOfError</th>\n",
       "      <th>Estimator</th>\n",
       "    </tr>\n",
       "  </thead>\n",
       "  <tbody>\n",
       "    <tr>\n",
       "      <th>0</th>\n",
       "      <td>Stacking</td>\n",
       "      <td>0.108683</td>\n",
       "      <td>0.022456</td>\n",
       "      <td>79.466655</td>\n",
       "      <td>5.842224</td>\n",
       "      <td>0.098173</td>\n",
       "      <td>0.119192</td>\n",
       "      <td>0.010510</td>\n",
       "      <td>StackingRegressor(estimators=[('SVR', SVR(C=0....</td>\n",
       "    </tr>\n",
       "    <tr>\n",
       "      <th>1</th>\n",
       "      <td>Voting</td>\n",
       "      <td>0.109886</td>\n",
       "      <td>0.023819</td>\n",
       "      <td>14.904511</td>\n",
       "      <td>1.565736</td>\n",
       "      <td>0.098738</td>\n",
       "      <td>0.121034</td>\n",
       "      <td>0.011148</td>\n",
       "      <td>VotingRegressor(estimators=[('SVR', SVR(C=0.1,...</td>\n",
       "    </tr>\n",
       "    <tr>\n",
       "      <th>2</th>\n",
       "      <td>SVR</td>\n",
       "      <td>0.111886</td>\n",
       "      <td>0.020574</td>\n",
       "      <td>0.546104</td>\n",
       "      <td>0.076246</td>\n",
       "      <td>0.102257</td>\n",
       "      <td>0.121515</td>\n",
       "      <td>0.009629</td>\n",
       "      <td>SVR(C=0.1, gamma=0.01, kernel='linear')</td>\n",
       "    </tr>\n",
       "    <tr>\n",
       "      <th>3</th>\n",
       "      <td>LGBoost</td>\n",
       "      <td>0.112161</td>\n",
       "      <td>0.022571</td>\n",
       "      <td>0.185541</td>\n",
       "      <td>0.027413</td>\n",
       "      <td>0.101597</td>\n",
       "      <td>0.122724</td>\n",
       "      <td>0.010563</td>\n",
       "      <td>LGBMRegressor(learning_rate=0.3, max_depth=2, ...</td>\n",
       "    </tr>\n",
       "    <tr>\n",
       "      <th>4</th>\n",
       "      <td>HGBoost</td>\n",
       "      <td>0.113272</td>\n",
       "      <td>0.023894</td>\n",
       "      <td>0.633549</td>\n",
       "      <td>0.146609</td>\n",
       "      <td>0.102089</td>\n",
       "      <td>0.124455</td>\n",
       "      <td>0.011183</td>\n",
       "      <td>HistGradientBoostingRegressor(max_depth=2, max...</td>\n",
       "    </tr>\n",
       "    <tr>\n",
       "      <th>5</th>\n",
       "      <td>XGBoost</td>\n",
       "      <td>0.115229</td>\n",
       "      <td>0.023480</td>\n",
       "      <td>0.748733</td>\n",
       "      <td>0.219589</td>\n",
       "      <td>0.104240</td>\n",
       "      <td>0.126218</td>\n",
       "      <td>0.010989</td>\n",
       "      <td>XGBRegressor(base_score=None, booster=None, ca...</td>\n",
       "    </tr>\n",
       "    <tr>\n",
       "      <th>6</th>\n",
       "      <td>Bagging</td>\n",
       "      <td>0.117624</td>\n",
       "      <td>0.024256</td>\n",
       "      <td>11.163484</td>\n",
       "      <td>0.855970</td>\n",
       "      <td>0.106272</td>\n",
       "      <td>0.128976</td>\n",
       "      <td>0.011352</td>\n",
       "      <td>(DecisionTreeRegressor(random_state=1952926171...</td>\n",
       "    </tr>\n",
       "    <tr>\n",
       "      <th>7</th>\n",
       "      <td>RF</td>\n",
       "      <td>0.118229</td>\n",
       "      <td>0.024534</td>\n",
       "      <td>3.444674</td>\n",
       "      <td>0.546458</td>\n",
       "      <td>0.106747</td>\n",
       "      <td>0.129711</td>\n",
       "      <td>0.011482</td>\n",
       "      <td>(DecisionTreeRegressor(max_depth=10, max_featu...</td>\n",
       "    </tr>\n",
       "    <tr>\n",
       "      <th>8</th>\n",
       "      <td>KNN</td>\n",
       "      <td>0.121090</td>\n",
       "      <td>0.024823</td>\n",
       "      <td>0.088406</td>\n",
       "      <td>0.014062</td>\n",
       "      <td>0.109473</td>\n",
       "      <td>0.132708</td>\n",
       "      <td>0.011618</td>\n",
       "      <td>KNeighborsRegressor(n_neighbors=15)</td>\n",
       "    </tr>\n",
       "  </tbody>\n",
       "</table>\n",
       "</div>"
      ],
      "text/plain": [
       "      Model  MeanScore  StdScore    FitTime  StdFitTime     CiMin     CiMax  \\\n",
       "0  Stacking   0.108683  0.022456  79.466655    5.842224  0.098173  0.119192   \n",
       "1    Voting   0.109886  0.023819  14.904511    1.565736  0.098738  0.121034   \n",
       "2       SVR   0.111886  0.020574   0.546104    0.076246  0.102257  0.121515   \n",
       "3   LGBoost   0.112161  0.022571   0.185541    0.027413  0.101597  0.122724   \n",
       "4   HGBoost   0.113272  0.023894   0.633549    0.146609  0.102089  0.124455   \n",
       "5   XGBoost   0.115229  0.023480   0.748733    0.219589  0.104240  0.126218   \n",
       "6   Bagging   0.117624  0.024256  11.163484    0.855970  0.106272  0.128976   \n",
       "7        RF   0.118229  0.024534   3.444674    0.546458  0.106747  0.129711   \n",
       "8       KNN   0.121090  0.024823   0.088406    0.014062  0.109473  0.132708   \n",
       "\n",
       "   MarginOfError                                          Estimator  \n",
       "0       0.010510  StackingRegressor(estimators=[('SVR', SVR(C=0....  \n",
       "1       0.011148  VotingRegressor(estimators=[('SVR', SVR(C=0.1,...  \n",
       "2       0.009629            SVR(C=0.1, gamma=0.01, kernel='linear')  \n",
       "3       0.010563  LGBMRegressor(learning_rate=0.3, max_depth=2, ...  \n",
       "4       0.011183  HistGradientBoostingRegressor(max_depth=2, max...  \n",
       "5       0.010989  XGBRegressor(base_score=None, booster=None, ca...  \n",
       "6       0.011352  (DecisionTreeRegressor(random_state=1952926171...  \n",
       "7       0.011482  (DecisionTreeRegressor(max_depth=10, max_featu...  \n",
       "8       0.011618                KNeighborsRegressor(n_neighbors=15)  "
      ]
     },
     "execution_count": 83,
     "metadata": {},
     "output_type": "execute_result"
    }
   ],
   "source": [
    "results_full"
   ]
  },
  {
   "cell_type": "code",
   "execution_count": 84,
   "id": "c94642f9-87a2-411f-b13a-f3b62355cc10",
   "metadata": {},
   "outputs": [
    {
     "data": {
      "image/png": "[encoded data removed]",
      "text/plain": [
       "<Figure size 800x250 with 1 Axes>"
      ]
     },
     "metadata": {},
     "output_type": "display_data"
    }
   ],
   "source": [
    "plt.hist(estimator_stack_cv['test_score'], bins=20, alpha=0.85);"
   ]
  },
  {
   "cell_type": "code",
   "execution_count": 9,
   "id": "c0434086-e8a2-4b5b-99fb-eb8921cfa189",
   "metadata": {},
   "outputs": [
    {
     "data": {
      "image/png": "[encoded data removed]",
      "text/plain": [
       "<Figure size 900x250 with 1 Axes>"
      ]
     },
     "metadata": {},
     "output_type": "display_data"
    },
    {
     "name": "stdout",
     "output_type": "stream",
     "text": [
      "Image 'final_plot.svg' successfully saved into 'img/Section5-Residuals-prediction' directory\n"
     ]
    }
   ],
   "source": [
    "fig = plt.figure(figsize=(9, 2.5))\n",
    "\n",
    "plt.scatter(\n",
    "    x=results_full['Model'],\n",
    "    y=results_full['MeanScore'],\n",
    "    s=25,\n",
    "    alpha=0.9\n",
    ")\n",
    "plt.errorbar(\n",
    "    x=results_full['Model'],\n",
    "    y=results_full['MeanScore'],\n",
    "    yerr=results_full['MarginOfError'],\n",
    "    elinewidth=1,\n",
    "    capsize=1.2,\n",
    "    capthick=1,\n",
    "    linestyle='none',\n",
    "    alpha=0.9\n",
    ")\n",
    "plt.plot(\n",
    "    results_full['Model'], results_full['MeanScore'],\n",
    "    color=palette[0], lw=0.5, alpha=0.25\n",
    ")\n",
    "axis_rstyle(\n",
    "    offset_bottom=15,\n",
    "    x_ticks=[0, 8, 1],\n",
    "    y_ticks=[0.090, 0.140, 0.010],\n",
    "    x_lim=[-0.25, 8.25]\n",
    "    \n",
    ")\n",
    "plt.tick_params(axis='x', pad=10)\n",
    "plt.xticks(weight='medium', fontsize=9, color='0.3')\n",
    "plt.title('Comparing models after hyperparameters tuning (CI, 95%)')\n",
    "plt.grid(False)\n",
    "plt.show()\n",
    "\n",
    "savefig('final_plot', dir_save)"
   ]
  },
  {
   "cell_type": "code",
   "execution_count": 86,
   "id": "bd84a314-0878-4a22-b8c0-2f1756329ea8",
   "metadata": {},
   "outputs": [
    {
     "data": {
      "image/png": "[encoded data removed]",
      "text/plain": [
       "<Figure size 800x300 with 1 Axes>"
      ]
     },
     "metadata": {},
     "output_type": "display_data"
    }
   ],
   "source": [
    "plt.figure(figsize=(8,3))\n",
    "sns.barplot(\n",
    "    x=results_full['Model'],\n",
    "    y=results_full['FitTime'],\n",
    "    width=0.5,\n",
    "    color=palette[0]\n",
    ")\n",
    "plt.errorbar(\n",
    "    x=results_full['Model'],\n",
    "    y=results_full['FitTime'],\n",
    "    yerr=results_full['StdFitTime'],\n",
    "    linestyle='none',\n",
    "    color=palette[-1]\n",
    ")\n",
    "plt.show()"
   ]
  },
  {
   "cell_type": "markdown",
   "id": "949229d9-4cbb-4ea9-97b0-f4d63ec40430",
   "metadata": {},
   "source": [
    "### Save Data"
   ]
  },
  {
   "cell_type": "code",
   "execution_count": 87,
   "id": "ee3ed16b-2160-41b1-bb87-1c6ec90c5980",
   "metadata": {},
   "outputs": [],
   "source": [
    "estimator_stack = StackingRegressor(\n",
    "    estimators=estimators,\n",
    "    final_estimator=final_estimator)"
   ]
  },
  {
   "cell_type": "code",
   "execution_count": 88,
   "id": "99d59d99-e274-4654-8b21-e1eb020488e1",
   "metadata": {},
   "outputs": [
    {
     "data": {
      "text/html": [
       "<style>#sk-container-id-4 {color: black;}#sk-container-id-4 pre{padding: 0;}#sk-container-id-4 div.sk-toggleable {background-color: white;}#sk-container-id-4 label.sk-toggleable__label {cursor: pointer;display: block;width: 100%;margin-bottom: 0;padding: 0.3em;box-sizing: border-box;text-align: center;}#sk-container-id-4 label.sk-toggleable__label-arrow:before {content: \"▸\";float: left;margin-right: 0.25em;color: #696969;}#sk-container-id-4 label.sk-toggleable__label-arrow:hover:before {color: black;}#sk-container-id-4 div.sk-estimator:hover label.sk-toggleable__label-arrow:before {color: black;}#sk-container-id-4 div.sk-toggleable__content {max-height: 0;max-width: 0;overflow: hidden;text-align: left;background-color: #f0f8ff;}#sk-container-id-4 div.sk-toggleable__content pre {margin: 0.2em;color: black;border-radius: 0.25em;background-color: #f0f8ff;}#sk-container-id-4 input.sk-toggleable__control:checked~div.sk-toggleable__content {max-height: 200px;max-width: 100%;overflow: auto;}#sk-container-id-4 input.sk-toggleable__control:checked~label.sk-toggleable__label-arrow:before {content: \"▾\";}#sk-container-id-4 div.sk-estimator input.sk-toggleable__control:checked~label.sk-toggleable__label {background-color: #d4ebff;}#sk-container-id-4 div.sk-label input.sk-toggleable__control:checked~label.sk-toggleable__label {background-color: #d4ebff;}#sk-container-id-4 input.sk-hidden--visually {border: 0;clip: rect(1px 1px 1px 1px);clip: rect(1px, 1px, 1px, 1px);height: 1px;margin: -1px;overflow: hidden;padding: 0;position: absolute;width: 1px;}#sk-container-id-4 div.sk-estimator {font-family: monospace;background-color: #f0f8ff;border: 1px dotted black;border-radius: 0.25em;box-sizing: border-box;margin-bottom: 0.5em;}#sk-container-id-4 div.sk-estimator:hover {background-color: #d4ebff;}#sk-container-id-4 div.sk-parallel-item::after {content: \"\";width: 100%;border-bottom: 1px solid gray;flex-grow: 1;}#sk-container-id-4 div.sk-label:hover label.sk-toggleable__label {background-color: #d4ebff;}#sk-container-id-4 div.sk-serial::before {content: \"\";position: absolute;border-left: 1px solid gray;box-sizing: border-box;top: 0;bottom: 0;left: 50%;z-index: 0;}#sk-container-id-4 div.sk-serial {display: flex;flex-direction: column;align-items: center;background-color: white;padding-right: 0.2em;padding-left: 0.2em;position: relative;}#sk-container-id-4 div.sk-item {position: relative;z-index: 1;}#sk-container-id-4 div.sk-parallel {display: flex;align-items: stretch;justify-content: center;background-color: white;position: relative;}#sk-container-id-4 div.sk-item::before, #sk-container-id-4 div.sk-parallel-item::before {content: \"\";position: absolute;border-left: 1px solid gray;box-sizing: border-box;top: 0;bottom: 0;left: 50%;z-index: -1;}#sk-container-id-4 div.sk-parallel-item {display: flex;flex-direction: column;z-index: 1;position: relative;background-color: white;}#sk-container-id-4 div.sk-parallel-item:first-child::after {align-self: flex-end;width: 50%;}#sk-container-id-4 div.sk-parallel-item:last-child::after {align-self: flex-start;width: 50%;}#sk-container-id-4 div.sk-parallel-item:only-child::after {width: 0;}#sk-container-id-4 div.sk-dashed-wrapped {border: 1px dashed gray;margin: 0 0.4em 0.5em 0.4em;box-sizing: border-box;padding-bottom: 0.4em;background-color: white;}#sk-container-id-4 div.sk-label label {font-family: monospace;font-weight: bold;display: inline-block;line-height: 1.2em;}#sk-container-id-4 div.sk-label-container {text-align: center;}#sk-container-id-4 div.sk-container {/* jupyter's `normalize.less` sets `[hidden] { display: none; }` but bootstrap.min.css set `[hidden] { display: none !important; }` so we also need the `!important` here to be able to override the default hidden behavior on the sphinx rendered scikit-learn.org. See: https://github.com/scikit-learn/scikit-learn/issues/21755 */display: inline-block !important;position: relative;}#sk-container-id-4 div.sk-text-repr-fallback {display: none;}</style><div id=\"sk-container-id-4\" class=\"sk-top-container\"><div class=\"sk-text-repr-fallback\"><pre>StackingRegressor(estimators=[(&#x27;SVR&#x27;, SVR(C=0.1, gamma=0.01, kernel=&#x27;linear&#x27;)),\n",
       "                              (&#x27;RF&#x27;,\n",
       "                               RandomForestRegressor(max_depth=10,\n",
       "                                                     random_state=42)),\n",
       "                              (&#x27;Bagging&#x27;,\n",
       "                               BaggingRegressor(n_estimators=200,\n",
       "                                                random_state=42)),\n",
       "                              (&#x27;LGBoost&#x27;,\n",
       "                               LGBMRegressor(learning_rate=0.3, max_depth=2,\n",
       "                                             n_estimators=200, num_leaves=3,\n",
       "                                             random_state=42, verbose=-1)),\n",
       "                              (&#x27;HGBoost&#x27;,\n",
       "                               HistGradientBoostingRegress...\n",
       "                                            importance_type=None,\n",
       "                                            interaction_constraints=None,\n",
       "                                            learning_rate=0.1, max_bin=None,\n",
       "                                            max_cat_threshold=None,\n",
       "                                            max_cat_to_onehot=None,\n",
       "                                            max_delta_step=None, max_depth=5,\n",
       "                                            max_leaves=None,\n",
       "                                            min_child_weight=None, missing=nan,\n",
       "                                            monotone_constraints=None,\n",
       "                                            multi_strategy=None,\n",
       "                                            n_estimators=150, n_jobs=None,\n",
       "                                            num_parallel_tree=None,\n",
       "                                            random_state=42, ...))],\n",
       "                  final_estimator=RidgeCV())</pre><b>In a Jupyter environment, please rerun this cell to show the HTML representation or trust the notebook. <br />On GitHub, the HTML representation is unable to render, please try loading this page with nbviewer.org.</b></div><div class=\"sk-container\" hidden><div class=\"sk-item sk-dashed-wrapped\"><div class=\"sk-label-container\"><div class=\"sk-label sk-toggleable\"><input class=\"sk-toggleable__control sk-hidden--visually\" id=\"sk-estimator-id-19\" type=\"checkbox\" ><label for=\"sk-estimator-id-19\" class=\"sk-toggleable__label sk-toggleable__label-arrow\">StackingRegressor</label><div class=\"sk-toggleable__content\"><pre>StackingRegressor(estimators=[(&#x27;SVR&#x27;, SVR(C=0.1, gamma=0.01, kernel=&#x27;linear&#x27;)),\n",
       "                              (&#x27;RF&#x27;,\n",
       "                               RandomForestRegressor(max_depth=10,\n",
       "                                                     random_state=42)),\n",
       "                              (&#x27;Bagging&#x27;,\n",
       "                               BaggingRegressor(n_estimators=200,\n",
       "                                                random_state=42)),\n",
       "                              (&#x27;LGBoost&#x27;,\n",
       "                               LGBMRegressor(learning_rate=0.3, max_depth=2,\n",
       "                                             n_estimators=200, num_leaves=3,\n",
       "                                             random_state=42, verbose=-1)),\n",
       "                              (&#x27;HGBoost&#x27;,\n",
       "                               HistGradientBoostingRegress...\n",
       "                                            importance_type=None,\n",
       "                                            interaction_constraints=None,\n",
       "                                            learning_rate=0.1, max_bin=None,\n",
       "                                            max_cat_threshold=None,\n",
       "                                            max_cat_to_onehot=None,\n",
       "                                            max_delta_step=None, max_depth=5,\n",
       "                                            max_leaves=None,\n",
       "                                            min_child_weight=None, missing=nan,\n",
       "                                            monotone_constraints=None,\n",
       "                                            multi_strategy=None,\n",
       "                                            n_estimators=150, n_jobs=None,\n",
       "                                            num_parallel_tree=None,\n",
       "                                            random_state=42, ...))],\n",
       "                  final_estimator=RidgeCV())</pre></div></div></div><div class=\"sk-serial\"><div class=\"sk-item\"><div class=\"sk-parallel\"><div class=\"sk-parallel-item\"><div class=\"sk-item\"><div class=\"sk-label-container\"><div class=\"sk-label sk-toggleable\"><label>SVR</label></div></div><div class=\"sk-serial\"><div class=\"sk-item\"><div class=\"sk-estimator sk-toggleable\"><input class=\"sk-toggleable__control sk-hidden--visually\" id=\"sk-estimator-id-20\" type=\"checkbox\" ><label for=\"sk-estimator-id-20\" class=\"sk-toggleable__label sk-toggleable__label-arrow\">SVR</label><div class=\"sk-toggleable__content\"><pre>SVR(C=0.1, gamma=0.01, kernel=&#x27;linear&#x27;)</pre></div></div></div></div></div></div><div class=\"sk-parallel-item\"><div class=\"sk-item\"><div class=\"sk-label-container\"><div class=\"sk-label sk-toggleable\"><label>RF</label></div></div><div class=\"sk-serial\"><div class=\"sk-item\"><div class=\"sk-estimator sk-toggleable\"><input class=\"sk-toggleable__control sk-hidden--visually\" id=\"sk-estimator-id-21\" type=\"checkbox\" ><label for=\"sk-estimator-id-21\" class=\"sk-toggleable__label sk-toggleable__label-arrow\">RandomForestRegressor</label><div class=\"sk-toggleable__content\"><pre>RandomForestRegressor(max_depth=10, random_state=42)</pre></div></div></div></div></div></div><div class=\"sk-parallel-item\"><div class=\"sk-item\"><div class=\"sk-label-container\"><div class=\"sk-label sk-toggleable\"><label>Bagging</label></div></div><div class=\"sk-serial\"><div class=\"sk-item\"><div class=\"sk-estimator sk-toggleable\"><input class=\"sk-toggleable__control sk-hidden--visually\" id=\"sk-estimator-id-22\" type=\"checkbox\" ><label for=\"sk-estimator-id-22\" class=\"sk-toggleable__label sk-toggleable__label-arrow\">BaggingRegressor</label><div class=\"sk-toggleable__content\"><pre>BaggingRegressor(n_estimators=200, random_state=42)</pre></div></div></div></div></div></div><div class=\"sk-parallel-item\"><div class=\"sk-item\"><div class=\"sk-label-container\"><div class=\"sk-label sk-toggleable\"><label>LGBoost</label></div></div><div class=\"sk-serial\"><div class=\"sk-item\"><div class=\"sk-estimator sk-toggleable\"><input class=\"sk-toggleable__control sk-hidden--visually\" id=\"sk-estimator-id-23\" type=\"checkbox\" ><label for=\"sk-estimator-id-23\" class=\"sk-toggleable__label sk-toggleable__label-arrow\">LGBMRegressor</label><div class=\"sk-toggleable__content\"><pre>LGBMRegressor(learning_rate=0.3, max_depth=2, n_estimators=200, num_leaves=3,\n",
       "              random_state=42, verbose=-1)</pre></div></div></div></div></div></div><div class=\"sk-parallel-item\"><div class=\"sk-item\"><div class=\"sk-label-container\"><div class=\"sk-label sk-toggleable\"><label>HGBoost</label></div></div><div class=\"sk-serial\"><div class=\"sk-item\"><div class=\"sk-estimator sk-toggleable\"><input class=\"sk-toggleable__control sk-hidden--visually\" id=\"sk-estimator-id-24\" type=\"checkbox\" ><label for=\"sk-estimator-id-24\" class=\"sk-toggleable__label sk-toggleable__label-arrow\">HistGradientBoostingRegressor</label><div class=\"sk-toggleable__content\"><pre>HistGradientBoostingRegressor(max_depth=2, max_iter=300, random_state=42)</pre></div></div></div></div></div></div><div class=\"sk-parallel-item\"><div class=\"sk-item\"><div class=\"sk-label-container\"><div class=\"sk-label sk-toggleable\"><label>XGBoost</label></div></div><div class=\"sk-serial\"><div class=\"sk-item\"><div class=\"sk-estimator sk-toggleable\"><input class=\"sk-toggleable__control sk-hidden--visually\" id=\"sk-estimator-id-25\" type=\"checkbox\" ><label for=\"sk-estimator-id-25\" class=\"sk-toggleable__label sk-toggleable__label-arrow\">XGBRegressor</label><div class=\"sk-toggleable__content\"><pre>XGBRegressor(base_score=None, booster=None, callbacks=None,\n",
       "             colsample_bylevel=None, colsample_bynode=None,\n",
       "             colsample_bytree=None, device=None, early_stopping_rounds=None,\n",
       "             enable_categorical=False, eval_metric=None, feature_types=None,\n",
       "             gamma=None, grow_policy=None, importance_type=None,\n",
       "             interaction_constraints=None, learning_rate=0.1, max_bin=None,\n",
       "             max_cat_threshold=None, max_cat_to_onehot=None,\n",
       "             max_delta_step=None, max_depth=5, max_leaves=None,\n",
       "             min_child_weight=None, missing=nan, monotone_constraints=None,\n",
       "             multi_strategy=None, n_estimators=150, n_jobs=None,\n",
       "             num_parallel_tree=None, random_state=42, ...)</pre></div></div></div></div></div></div></div></div><div class=\"sk-item\"><div class=\"sk-parallel\"><div class=\"sk-parallel-item\"><div class=\"sk-item\"><div class=\"sk-label-container\"><div class=\"sk-label sk-toggleable\"><label>final_estimator</label></div></div><div class=\"sk-serial\"><div class=\"sk-item\"><div class=\"sk-estimator sk-toggleable\"><input class=\"sk-toggleable__control sk-hidden--visually\" id=\"sk-estimator-id-26\" type=\"checkbox\" ><label for=\"sk-estimator-id-26\" class=\"sk-toggleable__label sk-toggleable__label-arrow\">RidgeCV</label><div class=\"sk-toggleable__content\"><pre>RidgeCV()</pre></div></div></div></div></div></div></div></div></div></div></div></div>"
      ],
      "text/plain": [
       "StackingRegressor(estimators=[('SVR', SVR(C=0.1, gamma=0.01, kernel='linear')),\n",
       "                              ('RF',\n",
       "                               RandomForestRegressor(max_depth=10,\n",
       "                                                     random_state=42)),\n",
       "                              ('Bagging',\n",
       "                               BaggingRegressor(n_estimators=200,\n",
       "                                                random_state=42)),\n",
       "                              ('LGBoost',\n",
       "                               LGBMRegressor(learning_rate=0.3, max_depth=2,\n",
       "                                             n_estimators=200, num_leaves=3,\n",
       "                                             random_state=42, verbose=-1)),\n",
       "                              ('HGBoost',\n",
       "                               HistGradientBoostingRegress...\n",
       "                                            importance_type=None,\n",
       "                                            interaction_constraints=None,\n",
       "                                            learning_rate=0.1, max_bin=None,\n",
       "                                            max_cat_threshold=None,\n",
       "                                            max_cat_to_onehot=None,\n",
       "                                            max_delta_step=None, max_depth=5,\n",
       "                                            max_leaves=None,\n",
       "                                            min_child_weight=None, missing=nan,\n",
       "                                            monotone_constraints=None,\n",
       "                                            multi_strategy=None,\n",
       "                                            n_estimators=150, n_jobs=None,\n",
       "                                            num_parallel_tree=None,\n",
       "                                            random_state=42, ...))],\n",
       "                  final_estimator=RidgeCV())"
      ]
     },
     "execution_count": 88,
     "metadata": {},
     "output_type": "execute_result"
    }
   ],
   "source": [
    "estimator_stack"
   ]
  },
  {
   "cell_type": "code",
   "execution_count": 89,
   "id": "e242a497-ed04-4427-91a0-c87f9fa93c2a",
   "metadata": {},
   "outputs": [],
   "source": [
    "estimators_dict['stack_resid'] = estimator_stack"
   ]
  },
  {
   "cell_type": "code",
   "execution_count": 90,
   "id": "808faceb-d3a3-427c-afc0-8459d00d71e9",
   "metadata": {},
   "outputs": [],
   "source": [
    "saveit(estimators_dict, 'estimators_dict', dir_save)"
   ]
  },
  {
   "cell_type": "code",
   "execution_count": 91,
   "id": "bab37561-fdcb-49d1-a554-2af4acbd5f79",
   "metadata": {},
   "outputs": [],
   "source": [
    "saveit(results_grid, 'results_grid', dir_save)"
   ]
  },
  {
   "cell_type": "code",
   "execution_count": 92,
   "id": "00bcdaa8-1613-40c1-85c0-d600a0a7fccd",
   "metadata": {},
   "outputs": [],
   "source": [
    "saveit(results_full, 'results_full', dir_save)"
   ]
  },
  {
   "cell_type": "markdown",
   "id": "bb18b9bf-0a5a-484c-aff1-422e7cf61673",
   "metadata": {},
   "source": [
    "### Save Session"
   ]
  },
  {
   "cell_type": "code",
   "execution_count": 10,
   "id": "4c662c70-5cf4-422e-a521-1d177f6743f3",
   "metadata": {},
   "outputs": [],
   "source": [
    "save_session(dir_save)"
   ]
  },
  {
   "cell_type": "markdown",
   "id": "a1680859-6229-4ff0-9d04-ef74432dea1d",
   "metadata": {},
   "source": [
    "### Execution time"
   ]
  },
  {
   "cell_type": "code",
   "execution_count": 94,
   "id": "ab9d5b1d-36fd-4456-95a3-46342ba13da7",
   "metadata": {},
   "outputs": [
    {
     "name": "stdout",
     "output_type": "stream",
     "text": [
      "Execution time: 2:19:56\n"
     ]
    }
   ],
   "source": [
    "print(f'Execution time: {stopwatch.stop(start)}')"
   ]
  }
 ],
 "metadata": {
  "kernelspec": {
   "display_name": "venv_kgl_house_prices",
   "language": "python",
   "name": "venv_kgl_house_prices"
  },
  "language_info": {
   "codemirror_mode": {
    "name": "ipython",
    "version": 3
   },
   "file_extension": ".py",
   "mimetype": "text/x-python",
   "name": "python",
   "nbconvert_exporter": "python",
   "pygments_lexer": "ipython3",
   "version": "3.12.2"
  }
 },
 "nbformat": 4,
 "nbformat_minor": 5
}
