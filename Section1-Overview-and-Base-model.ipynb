{
 "cells": [
  {
   "cell_type": "code",
   "execution_count": 1,
   "id": "13bce851-0197-471f-a2bc-f8fe541893fa",
   "metadata": {},
   "outputs": [],
   "source": [
    "# run stopwatch\n",
    "from tools import Stopwatch\n",
    "stopwatch = Stopwatch()\n",
    "start = stopwatch.start()"
   ]
  },
  {
   "cell_type": "markdown",
   "id": "beecb0f4-3cad-4f4f-b805-22a347427a25",
   "metadata": {},
   "source": [
    "### Load libraries, functions, palette, theme"
   ]
  },
  {
   "cell_type": "code",
   "execution_count": 2,
   "id": "a38c22c3-7577-41c1-9357-e317f7ee5fbc",
   "metadata": {},
   "outputs": [],
   "source": [
    "%run _libraries.ipynb"
   ]
  },
  {
   "cell_type": "code",
   "execution_count": 3,
   "id": "b8dd3aa8-c404-449b-8433-ce8a68d50158",
   "metadata": {},
   "outputs": [],
   "source": [
    "%run _functions.ipynb"
   ]
  },
  {
   "cell_type": "code",
   "execution_count": 4,
   "id": "72219df8-0d22-44cf-934f-f328671bd86e",
   "metadata": {},
   "outputs": [],
   "source": [
    "dir_save = 'Section1-Overview-and-Base-model'"
   ]
  },
  {
   "cell_type": "markdown",
   "id": "6551eaa0-07e9-4fa9-b833-8ba84e887027",
   "metadata": {},
   "source": [
    "# Section I. Overview"
   ]
  },
  {
   "cell_type": "markdown",
   "id": "df220a6a-7e58-4722-9cd6-2cc680100288",
   "metadata": {},
   "source": [
    "## Load Saved Section if exists"
   ]
  },
  {
   "cell_type": "raw",
   "id": "28c6d870-5bdb-4c5b-90b1-730b4dc459d3",
   "metadata": {},
   "source": [
    "if os.path.exists(f'sessions/{dir_save}'):\n",
    "    load_session(dir_save)\n",
    "else:\n",
    "    print(f\"No such session: 'sessions/{dir_save}'\")"
   ]
  },
  {
   "cell_type": "markdown",
   "id": "753835e4-c362-49c3-9e4a-fbeb4140a954",
   "metadata": {
    "id": "c7980b49-f759-4a9d-bf5e-0eb93a75615a",
    "tags": []
   },
   "source": [
    "## Load Data"
   ]
  },
  {
   "cell_type": "code",
   "execution_count": 5,
   "id": "642b817a-459c-4937-aedc-e5f2e30f5f0d",
   "metadata": {
    "executionInfo": {
     "elapsed": 82,
     "status": "aborted",
     "timestamp": 1675237549090,
     "user": {
      "displayName": "Alexander Chasovsky",
      "userId": "02150901659695146649"
     },
     "user_tz": -180
    },
    "id": "828596f3-0bcd-4f9a-b508-983ea86a5475"
   },
   "outputs": [],
   "source": [
    "data = pd.read_csv('data/train.csv')"
   ]
  },
  {
   "cell_type": "code",
   "execution_count": 6,
   "id": "2f0d4360-9db0-4297-94b9-a5fd6e2d1cfc",
   "metadata": {
    "executionInfo": {
     "elapsed": 142,
     "status": "aborted",
     "timestamp": 1675237549151,
     "user": {
      "displayName": "Alexander Chasovsky",
      "userId": "02150901659695146649"
     },
     "user_tz": -180
    },
    "id": "ddc89ab0-fb9d-4166-ae90-538839cb880c"
   },
   "outputs": [
    {
     "data": {
      "text/html": [
       "<div>\n",
       "<style scoped>\n",
       "    .dataframe tbody tr th:only-of-type {\n",
       "        vertical-align: middle;\n",
       "    }\n",
       "\n",
       "    .dataframe tbody tr th {\n",
       "        vertical-align: top;\n",
       "    }\n",
       "\n",
       "    .dataframe thead th {\n",
       "        text-align: right;\n",
       "    }\n",
       "</style>\n",
       "<table border=\"1\" class=\"dataframe\">\n",
       "  <thead>\n",
       "    <tr style=\"text-align: right;\">\n",
       "      <th></th>\n",
       "      <th>Id</th>\n",
       "      <th>MSSubClass</th>\n",
       "      <th>MSZoning</th>\n",
       "      <th>LotFrontage</th>\n",
       "      <th>LotArea</th>\n",
       "      <th>Street</th>\n",
       "      <th>Alley</th>\n",
       "      <th>LotShape</th>\n",
       "      <th>LandContour</th>\n",
       "      <th>Utilities</th>\n",
       "      <th>...</th>\n",
       "      <th>PoolArea</th>\n",
       "      <th>PoolQC</th>\n",
       "      <th>Fence</th>\n",
       "      <th>MiscFeature</th>\n",
       "      <th>MiscVal</th>\n",
       "      <th>MoSold</th>\n",
       "      <th>YrSold</th>\n",
       "      <th>SaleType</th>\n",
       "      <th>SaleCondition</th>\n",
       "      <th>SalePrice</th>\n",
       "    </tr>\n",
       "  </thead>\n",
       "  <tbody>\n",
       "    <tr>\n",
       "      <th>0</th>\n",
       "      <td>1</td>\n",
       "      <td>60</td>\n",
       "      <td>RL</td>\n",
       "      <td>65.0</td>\n",
       "      <td>8450</td>\n",
       "      <td>Pave</td>\n",
       "      <td>NaN</td>\n",
       "      <td>Reg</td>\n",
       "      <td>Lvl</td>\n",
       "      <td>AllPub</td>\n",
       "      <td>...</td>\n",
       "      <td>0</td>\n",
       "      <td>NaN</td>\n",
       "      <td>NaN</td>\n",
       "      <td>NaN</td>\n",
       "      <td>0</td>\n",
       "      <td>2</td>\n",
       "      <td>2008</td>\n",
       "      <td>WD</td>\n",
       "      <td>Normal</td>\n",
       "      <td>208500</td>\n",
       "    </tr>\n",
       "    <tr>\n",
       "      <th>1</th>\n",
       "      <td>2</td>\n",
       "      <td>20</td>\n",
       "      <td>RL</td>\n",
       "      <td>80.0</td>\n",
       "      <td>9600</td>\n",
       "      <td>Pave</td>\n",
       "      <td>NaN</td>\n",
       "      <td>Reg</td>\n",
       "      <td>Lvl</td>\n",
       "      <td>AllPub</td>\n",
       "      <td>...</td>\n",
       "      <td>0</td>\n",
       "      <td>NaN</td>\n",
       "      <td>NaN</td>\n",
       "      <td>NaN</td>\n",
       "      <td>0</td>\n",
       "      <td>5</td>\n",
       "      <td>2007</td>\n",
       "      <td>WD</td>\n",
       "      <td>Normal</td>\n",
       "      <td>181500</td>\n",
       "    </tr>\n",
       "    <tr>\n",
       "      <th>2</th>\n",
       "      <td>3</td>\n",
       "      <td>60</td>\n",
       "      <td>RL</td>\n",
       "      <td>68.0</td>\n",
       "      <td>11250</td>\n",
       "      <td>Pave</td>\n",
       "      <td>NaN</td>\n",
       "      <td>IR1</td>\n",
       "      <td>Lvl</td>\n",
       "      <td>AllPub</td>\n",
       "      <td>...</td>\n",
       "      <td>0</td>\n",
       "      <td>NaN</td>\n",
       "      <td>NaN</td>\n",
       "      <td>NaN</td>\n",
       "      <td>0</td>\n",
       "      <td>9</td>\n",
       "      <td>2008</td>\n",
       "      <td>WD</td>\n",
       "      <td>Normal</td>\n",
       "      <td>223500</td>\n",
       "    </tr>\n",
       "    <tr>\n",
       "      <th>3</th>\n",
       "      <td>4</td>\n",
       "      <td>70</td>\n",
       "      <td>RL</td>\n",
       "      <td>60.0</td>\n",
       "      <td>9550</td>\n",
       "      <td>Pave</td>\n",
       "      <td>NaN</td>\n",
       "      <td>IR1</td>\n",
       "      <td>Lvl</td>\n",
       "      <td>AllPub</td>\n",
       "      <td>...</td>\n",
       "      <td>0</td>\n",
       "      <td>NaN</td>\n",
       "      <td>NaN</td>\n",
       "      <td>NaN</td>\n",
       "      <td>0</td>\n",
       "      <td>2</td>\n",
       "      <td>2006</td>\n",
       "      <td>WD</td>\n",
       "      <td>Abnorml</td>\n",
       "      <td>140000</td>\n",
       "    </tr>\n",
       "    <tr>\n",
       "      <th>4</th>\n",
       "      <td>5</td>\n",
       "      <td>60</td>\n",
       "      <td>RL</td>\n",
       "      <td>84.0</td>\n",
       "      <td>14260</td>\n",
       "      <td>Pave</td>\n",
       "      <td>NaN</td>\n",
       "      <td>IR1</td>\n",
       "      <td>Lvl</td>\n",
       "      <td>AllPub</td>\n",
       "      <td>...</td>\n",
       "      <td>0</td>\n",
       "      <td>NaN</td>\n",
       "      <td>NaN</td>\n",
       "      <td>NaN</td>\n",
       "      <td>0</td>\n",
       "      <td>12</td>\n",
       "      <td>2008</td>\n",
       "      <td>WD</td>\n",
       "      <td>Normal</td>\n",
       "      <td>250000</td>\n",
       "    </tr>\n",
       "  </tbody>\n",
       "</table>\n",
       "<p>5 rows × 81 columns</p>\n",
       "</div>"
      ],
      "text/plain": [
       "   Id  MSSubClass MSZoning  LotFrontage  LotArea Street Alley LotShape  \\\n",
       "0   1          60       RL         65.0     8450   Pave   NaN      Reg   \n",
       "1   2          20       RL         80.0     9600   Pave   NaN      Reg   \n",
       "2   3          60       RL         68.0    11250   Pave   NaN      IR1   \n",
       "3   4          70       RL         60.0     9550   Pave   NaN      IR1   \n",
       "4   5          60       RL         84.0    14260   Pave   NaN      IR1   \n",
       "\n",
       "  LandContour Utilities  ... PoolArea PoolQC Fence MiscFeature MiscVal MoSold  \\\n",
       "0         Lvl    AllPub  ...        0    NaN   NaN         NaN       0      2   \n",
       "1         Lvl    AllPub  ...        0    NaN   NaN         NaN       0      5   \n",
       "2         Lvl    AllPub  ...        0    NaN   NaN         NaN       0      9   \n",
       "3         Lvl    AllPub  ...        0    NaN   NaN         NaN       0      2   \n",
       "4         Lvl    AllPub  ...        0    NaN   NaN         NaN       0     12   \n",
       "\n",
       "  YrSold  SaleType  SaleCondition  SalePrice  \n",
       "0   2008        WD         Normal     208500  \n",
       "1   2007        WD         Normal     181500  \n",
       "2   2008        WD         Normal     223500  \n",
       "3   2006        WD        Abnorml     140000  \n",
       "4   2008        WD         Normal     250000  \n",
       "\n",
       "[5 rows x 81 columns]"
      ]
     },
     "execution_count": 6,
     "metadata": {},
     "output_type": "execute_result"
    }
   ],
   "source": [
    "data.head()"
   ]
  },
  {
   "cell_type": "code",
   "execution_count": 7,
   "id": "44aa2875-4a5d-4d57-ae87-8e9a65b9b77e",
   "metadata": {
    "tags": []
   },
   "outputs": [
    {
     "data": {
      "text/plain": [
       "(1460, 81)"
      ]
     },
     "execution_count": 7,
     "metadata": {},
     "output_type": "execute_result"
    }
   ],
   "source": [
    "data.shape"
   ]
  },
  {
   "cell_type": "markdown",
   "id": "446df5ba-67a5-4398-9d9d-03f842bd7d37",
   "metadata": {},
   "source": [
    "#### Check duplicates"
   ]
  },
  {
   "cell_type": "code",
   "execution_count": 8,
   "id": "2b244ba7-cd6d-4685-aeec-6a0a50fd8bb5",
   "metadata": {},
   "outputs": [
    {
     "data": {
      "text/html": [
       "<div>\n",
       "<style scoped>\n",
       "    .dataframe tbody tr th:only-of-type {\n",
       "        vertical-align: middle;\n",
       "    }\n",
       "\n",
       "    .dataframe tbody tr th {\n",
       "        vertical-align: top;\n",
       "    }\n",
       "\n",
       "    .dataframe thead th {\n",
       "        text-align: right;\n",
       "    }\n",
       "</style>\n",
       "<table border=\"1\" class=\"dataframe\">\n",
       "  <thead>\n",
       "    <tr style=\"text-align: right;\">\n",
       "      <th></th>\n",
       "      <th>Id</th>\n",
       "      <th>MSSubClass</th>\n",
       "      <th>MSZoning</th>\n",
       "      <th>LotFrontage</th>\n",
       "      <th>LotArea</th>\n",
       "      <th>Street</th>\n",
       "      <th>Alley</th>\n",
       "      <th>LotShape</th>\n",
       "      <th>LandContour</th>\n",
       "      <th>Utilities</th>\n",
       "      <th>...</th>\n",
       "      <th>PoolArea</th>\n",
       "      <th>PoolQC</th>\n",
       "      <th>Fence</th>\n",
       "      <th>MiscFeature</th>\n",
       "      <th>MiscVal</th>\n",
       "      <th>MoSold</th>\n",
       "      <th>YrSold</th>\n",
       "      <th>SaleType</th>\n",
       "      <th>SaleCondition</th>\n",
       "      <th>SalePrice</th>\n",
       "    </tr>\n",
       "  </thead>\n",
       "  <tbody>\n",
       "  </tbody>\n",
       "</table>\n",
       "<p>0 rows × 81 columns</p>\n",
       "</div>"
      ],
      "text/plain": [
       "Empty DataFrame\n",
       "Columns: [Id, MSSubClass, MSZoning, LotFrontage, LotArea, Street, Alley, LotShape, LandContour, Utilities, LotConfig, LandSlope, Neighborhood, Condition1, Condition2, BldgType, HouseStyle, OverallQual, OverallCond, YearBuilt, YearRemodAdd, RoofStyle, RoofMatl, Exterior1st, Exterior2nd, MasVnrType, MasVnrArea, ExterQual, ExterCond, Foundation, BsmtQual, BsmtCond, BsmtExposure, BsmtFinType1, BsmtFinSF1, BsmtFinType2, BsmtFinSF2, BsmtUnfSF, TotalBsmtSF, Heating, HeatingQC, CentralAir, Electrical, 1stFlrSF, 2ndFlrSF, LowQualFinSF, GrLivArea, BsmtFullBath, BsmtHalfBath, FullBath, HalfBath, BedroomAbvGr, KitchenAbvGr, KitchenQual, TotRmsAbvGrd, Functional, Fireplaces, FireplaceQu, GarageType, GarageYrBlt, GarageFinish, GarageCars, GarageArea, GarageQual, GarageCond, PavedDrive, WoodDeckSF, OpenPorchSF, EnclosedPorch, 3SsnPorch, ScreenPorch, PoolArea, PoolQC, Fence, MiscFeature, MiscVal, MoSold, YrSold, SaleType, SaleCondition, SalePrice]\n",
       "Index: []\n",
       "\n",
       "[0 rows x 81 columns]"
      ]
     },
     "execution_count": 8,
     "metadata": {},
     "output_type": "execute_result"
    }
   ],
   "source": [
    "data[data.duplicated()]"
   ]
  },
  {
   "cell_type": "markdown",
   "id": "bc02dda8-aab0-4cb3-9ffb-603ecc79de91",
   "metadata": {
    "id": "1bb693df-937d-4f1e-ac18-9207d45acfab"
   },
   "source": [
    "## Data Split"
   ]
  },
  {
   "cell_type": "markdown",
   "id": "d8ce55ed-d206-4507-9b8e-853cecced065",
   "metadata": {
    "id": "bab3d575-867d-4fb9-a7cb-8d2ca0e3d179"
   },
   "source": [
    "#### Train and Test datasets"
   ]
  },
  {
   "cell_type": "code",
   "execution_count": 9,
   "id": "581c3b16-7ec1-4aa1-ad32-1182bac6a36a",
   "metadata": {
    "executionInfo": {
     "elapsed": 142,
     "status": "aborted",
     "timestamp": 1675237549152,
     "user": {
      "displayName": "Alexander Chasovsky",
      "userId": "02150901659695146649"
     },
     "user_tz": -180
    },
    "id": "461ac2a1-7baf-42eb-9751-81d70c6085f5",
    "tags": []
   },
   "outputs": [],
   "source": [
    "train, test = train_test_split(\n",
    "    data, test_size=0.1, random_state=seed)"
   ]
  },
  {
   "cell_type": "code",
   "execution_count": 10,
   "id": "fa9421f4-a306-4c4a-91e6-34137022393b",
   "metadata": {
    "executionInfo": {
     "elapsed": 142,
     "status": "aborted",
     "timestamp": 1675237549153,
     "user": {
      "displayName": "Alexander Chasovsky",
      "userId": "02150901659695146649"
     },
     "user_tz": -180
    },
    "id": "21c00bf4-490a-4225-9489-9ddaeb0e3742",
    "tags": []
   },
   "outputs": [
    {
     "data": {
      "text/plain": [
       "(1314, 81)"
      ]
     },
     "execution_count": 10,
     "metadata": {},
     "output_type": "execute_result"
    }
   ],
   "source": [
    "train.shape"
   ]
  },
  {
   "cell_type": "code",
   "execution_count": 11,
   "id": "e0497023-3ab7-4691-8db9-9f16cc4615a9",
   "metadata": {},
   "outputs": [
    {
     "data": {
      "text/plain": [
       "(146, 81)"
      ]
     },
     "execution_count": 11,
     "metadata": {},
     "output_type": "execute_result"
    }
   ],
   "source": [
    "test.shape"
   ]
  },
  {
   "cell_type": "markdown",
   "id": "1ebd57d6-9813-4e23-a9d2-0d719e42571d",
   "metadata": {
    "id": "4394366a-4983-4fa6-8095-3cc0e4d33bd0"
   },
   "source": [
    "## Data Overview"
   ]
  },
  {
   "cell_type": "markdown",
   "id": "7dbd1540-1857-4d53-b79f-b8f0afa07d89",
   "metadata": {
    "id": "2c0d3b3a-7944-4aab-90a7-17e315de8a0c"
   },
   "source": [
    "#### Dataset"
   ]
  },
  {
   "cell_type": "code",
   "execution_count": 12,
   "id": "93380cce-32d2-4922-8189-cd01216e057e",
   "metadata": {
    "executionInfo": {
     "elapsed": 14681,
     "status": "aborted",
     "timestamp": 1675237549156,
     "user": {
      "displayName": "Alexander Chasovsky",
      "userId": "02150901659695146649"
     },
     "user_tz": -180
    },
    "id": "e2e91f7d-f745-432a-b30b-0806c1e97f35"
   },
   "outputs": [
    {
     "data": {
      "text/plain": [
       "(1314, 81)"
      ]
     },
     "execution_count": 12,
     "metadata": {},
     "output_type": "execute_result"
    }
   ],
   "source": [
    "train.shape"
   ]
  },
  {
   "cell_type": "code",
   "execution_count": 13,
   "id": "c6a940a9-ba2a-434d-b673-2aac5aa0ed87",
   "metadata": {
    "executionInfo": {
     "elapsed": 14670,
     "status": "aborted",
     "timestamp": 1675237549157,
     "user": {
      "displayName": "Alexander Chasovsky",
      "userId": "02150901659695146649"
     },
     "user_tz": -180
    },
    "id": "30eb1ac1-61f8-4697-a18c-9c98686c447f"
   },
   "outputs": [
    {
     "data": {
      "text/html": [
       "<div>\n",
       "<style scoped>\n",
       "    .dataframe tbody tr th:only-of-type {\n",
       "        vertical-align: middle;\n",
       "    }\n",
       "\n",
       "    .dataframe tbody tr th {\n",
       "        vertical-align: top;\n",
       "    }\n",
       "\n",
       "    .dataframe thead th {\n",
       "        text-align: right;\n",
       "    }\n",
       "</style>\n",
       "<table border=\"1\" class=\"dataframe\">\n",
       "  <thead>\n",
       "    <tr style=\"text-align: right;\">\n",
       "      <th></th>\n",
       "      <th>Id</th>\n",
       "      <th>MSSubClass</th>\n",
       "      <th>MSZoning</th>\n",
       "      <th>LotFrontage</th>\n",
       "      <th>LotArea</th>\n",
       "      <th>Street</th>\n",
       "      <th>Alley</th>\n",
       "      <th>LotShape</th>\n",
       "      <th>LandContour</th>\n",
       "      <th>Utilities</th>\n",
       "      <th>...</th>\n",
       "      <th>PoolArea</th>\n",
       "      <th>PoolQC</th>\n",
       "      <th>Fence</th>\n",
       "      <th>MiscFeature</th>\n",
       "      <th>MiscVal</th>\n",
       "      <th>MoSold</th>\n",
       "      <th>YrSold</th>\n",
       "      <th>SaleType</th>\n",
       "      <th>SaleCondition</th>\n",
       "      <th>SalePrice</th>\n",
       "    </tr>\n",
       "  </thead>\n",
       "  <tbody>\n",
       "    <tr>\n",
       "      <th>907</th>\n",
       "      <td>908</td>\n",
       "      <td>50</td>\n",
       "      <td>RL</td>\n",
       "      <td>86.0</td>\n",
       "      <td>11500</td>\n",
       "      <td>Pave</td>\n",
       "      <td>NaN</td>\n",
       "      <td>IR1</td>\n",
       "      <td>Lvl</td>\n",
       "      <td>AllPub</td>\n",
       "      <td>...</td>\n",
       "      <td>0</td>\n",
       "      <td>NaN</td>\n",
       "      <td>NaN</td>\n",
       "      <td>NaN</td>\n",
       "      <td>0</td>\n",
       "      <td>6</td>\n",
       "      <td>2006</td>\n",
       "      <td>WD</td>\n",
       "      <td>Normal</td>\n",
       "      <td>250000</td>\n",
       "    </tr>\n",
       "    <tr>\n",
       "      <th>782</th>\n",
       "      <td>783</td>\n",
       "      <td>20</td>\n",
       "      <td>RL</td>\n",
       "      <td>67.0</td>\n",
       "      <td>16285</td>\n",
       "      <td>Pave</td>\n",
       "      <td>NaN</td>\n",
       "      <td>IR2</td>\n",
       "      <td>Lvl</td>\n",
       "      <td>AllPub</td>\n",
       "      <td>...</td>\n",
       "      <td>0</td>\n",
       "      <td>NaN</td>\n",
       "      <td>NaN</td>\n",
       "      <td>NaN</td>\n",
       "      <td>0</td>\n",
       "      <td>6</td>\n",
       "      <td>2009</td>\n",
       "      <td>WD</td>\n",
       "      <td>Normal</td>\n",
       "      <td>187100</td>\n",
       "    </tr>\n",
       "    <tr>\n",
       "      <th>952</th>\n",
       "      <td>953</td>\n",
       "      <td>85</td>\n",
       "      <td>RL</td>\n",
       "      <td>60.0</td>\n",
       "      <td>7200</td>\n",
       "      <td>Pave</td>\n",
       "      <td>NaN</td>\n",
       "      <td>Reg</td>\n",
       "      <td>Lvl</td>\n",
       "      <td>AllPub</td>\n",
       "      <td>...</td>\n",
       "      <td>0</td>\n",
       "      <td>NaN</td>\n",
       "      <td>MnPrv</td>\n",
       "      <td>NaN</td>\n",
       "      <td>0</td>\n",
       "      <td>4</td>\n",
       "      <td>2009</td>\n",
       "      <td>WD</td>\n",
       "      <td>Normal</td>\n",
       "      <td>133900</td>\n",
       "    </tr>\n",
       "    <tr>\n",
       "      <th>620</th>\n",
       "      <td>621</td>\n",
       "      <td>30</td>\n",
       "      <td>RL</td>\n",
       "      <td>45.0</td>\n",
       "      <td>8248</td>\n",
       "      <td>Pave</td>\n",
       "      <td>Grvl</td>\n",
       "      <td>Reg</td>\n",
       "      <td>Lvl</td>\n",
       "      <td>AllPub</td>\n",
       "      <td>...</td>\n",
       "      <td>0</td>\n",
       "      <td>NaN</td>\n",
       "      <td>NaN</td>\n",
       "      <td>NaN</td>\n",
       "      <td>0</td>\n",
       "      <td>9</td>\n",
       "      <td>2008</td>\n",
       "      <td>WD</td>\n",
       "      <td>Normal</td>\n",
       "      <td>67000</td>\n",
       "    </tr>\n",
       "    <tr>\n",
       "      <th>669</th>\n",
       "      <td>670</td>\n",
       "      <td>30</td>\n",
       "      <td>RL</td>\n",
       "      <td>80.0</td>\n",
       "      <td>11600</td>\n",
       "      <td>Pave</td>\n",
       "      <td>NaN</td>\n",
       "      <td>Reg</td>\n",
       "      <td>Lvl</td>\n",
       "      <td>AllPub</td>\n",
       "      <td>...</td>\n",
       "      <td>0</td>\n",
       "      <td>NaN</td>\n",
       "      <td>NaN</td>\n",
       "      <td>NaN</td>\n",
       "      <td>0</td>\n",
       "      <td>7</td>\n",
       "      <td>2006</td>\n",
       "      <td>WD</td>\n",
       "      <td>Normal</td>\n",
       "      <td>137500</td>\n",
       "    </tr>\n",
       "  </tbody>\n",
       "</table>\n",
       "<p>5 rows × 81 columns</p>\n",
       "</div>"
      ],
      "text/plain": [
       "      Id  MSSubClass MSZoning  LotFrontage  LotArea Street Alley LotShape  \\\n",
       "907  908          50       RL         86.0    11500   Pave   NaN      IR1   \n",
       "782  783          20       RL         67.0    16285   Pave   NaN      IR2   \n",
       "952  953          85       RL         60.0     7200   Pave   NaN      Reg   \n",
       "620  621          30       RL         45.0     8248   Pave  Grvl      Reg   \n",
       "669  670          30       RL         80.0    11600   Pave   NaN      Reg   \n",
       "\n",
       "    LandContour Utilities  ... PoolArea PoolQC  Fence MiscFeature MiscVal  \\\n",
       "907         Lvl    AllPub  ...        0    NaN    NaN         NaN       0   \n",
       "782         Lvl    AllPub  ...        0    NaN    NaN         NaN       0   \n",
       "952         Lvl    AllPub  ...        0    NaN  MnPrv         NaN       0   \n",
       "620         Lvl    AllPub  ...        0    NaN    NaN         NaN       0   \n",
       "669         Lvl    AllPub  ...        0    NaN    NaN         NaN       0   \n",
       "\n",
       "    MoSold YrSold  SaleType  SaleCondition  SalePrice  \n",
       "907      6   2006        WD         Normal     250000  \n",
       "782      6   2009        WD         Normal     187100  \n",
       "952      4   2009        WD         Normal     133900  \n",
       "620      9   2008        WD         Normal      67000  \n",
       "669      7   2006        WD         Normal     137500  \n",
       "\n",
       "[5 rows x 81 columns]"
      ]
     },
     "execution_count": 13,
     "metadata": {},
     "output_type": "execute_result"
    }
   ],
   "source": [
    "train.head()"
   ]
  },
  {
   "cell_type": "code",
   "execution_count": 14,
   "id": "cba7db9e-cb1a-4019-aa80-38f68295cb5f",
   "metadata": {},
   "outputs": [],
   "source": [
    "train = train.rename(columns={'SalePrice': 'price'})\n",
    "test = test.rename(columns={'SalePrice': 'price'})\n",
    "\n",
    "train.columns = map(str.lower, train.columns)"
   ]
  },
  {
   "cell_type": "code",
   "execution_count": 15,
   "id": "9432633c-bbff-4287-b4de-29dc01f367aa",
   "metadata": {},
   "outputs": [
    {
     "data": {
      "image/png": "[encoded data removed]",
      "text/plain": [
       "<Figure size 1500x1500 with 37 Axes>"
      ]
     },
     "metadata": {},
     "output_type": "display_data"
    }
   ],
   "source": [
    "columns_plot = (train\n",
    "                .drop('id', axis=1)\n",
    "                .select_dtypes(np.number)\n",
    "                .columns.tolist())\n",
    "f = plot_gridplot(\n",
    "    data=train,\n",
    "    features=columns_plot,\n",
    "    figsize=(15,15),\n",
    "    ncols=6,\n",
    "    kind='hist',\n",
    "    plot_shape='rectangle',\n",
    "    hscale=1.6,\n",
    "    histplot_kwargs={'bins': 25})"
   ]
  },
  {
   "cell_type": "code",
   "execution_count": 16,
   "id": "69e24931-7fb7-4ad3-ae98-c65cc40d21e3",
   "metadata": {},
   "outputs": [
    {
     "data": {
      "text/html": [
       "<div>\n",
       "<style scoped>\n",
       "    .dataframe tbody tr th:only-of-type {\n",
       "        vertical-align: middle;\n",
       "    }\n",
       "\n",
       "    .dataframe tbody tr th {\n",
       "        vertical-align: top;\n",
       "    }\n",
       "\n",
       "    .dataframe thead th {\n",
       "        text-align: right;\n",
       "    }\n",
       "</style>\n",
       "<table border=\"1\" class=\"dataframe\">\n",
       "  <thead>\n",
       "    <tr style=\"text-align: right;\">\n",
       "      <th></th>\n",
       "      <th>id</th>\n",
       "      <th>mssubclass</th>\n",
       "      <th>lotfrontage</th>\n",
       "      <th>lotarea</th>\n",
       "      <th>overallqual</th>\n",
       "      <th>overallcond</th>\n",
       "      <th>yearbuilt</th>\n",
       "      <th>yearremodadd</th>\n",
       "      <th>masvnrarea</th>\n",
       "      <th>bsmtfinsf1</th>\n",
       "      <th>...</th>\n",
       "      <th>wooddecksf</th>\n",
       "      <th>openporchsf</th>\n",
       "      <th>enclosedporch</th>\n",
       "      <th>3ssnporch</th>\n",
       "      <th>screenporch</th>\n",
       "      <th>poolarea</th>\n",
       "      <th>miscval</th>\n",
       "      <th>mosold</th>\n",
       "      <th>yrsold</th>\n",
       "      <th>price</th>\n",
       "    </tr>\n",
       "  </thead>\n",
       "  <tbody>\n",
       "    <tr>\n",
       "      <th>count</th>\n",
       "      <td>1314.000000</td>\n",
       "      <td>1314.000000</td>\n",
       "      <td>1077.000000</td>\n",
       "      <td>1314.000000</td>\n",
       "      <td>1314.000000</td>\n",
       "      <td>1314.000000</td>\n",
       "      <td>1314.000000</td>\n",
       "      <td>1314.000000</td>\n",
       "      <td>1306.000000</td>\n",
       "      <td>1314.000000</td>\n",
       "      <td>...</td>\n",
       "      <td>1314.000000</td>\n",
       "      <td>1314.000000</td>\n",
       "      <td>1314.000000</td>\n",
       "      <td>1314.000000</td>\n",
       "      <td>1314.000000</td>\n",
       "      <td>1314.000000</td>\n",
       "      <td>1314.000000</td>\n",
       "      <td>1314.000000</td>\n",
       "      <td>1314.000000</td>\n",
       "      <td>1314.000000</td>\n",
       "    </tr>\n",
       "    <tr>\n",
       "      <th>mean</th>\n",
       "      <td>733.098174</td>\n",
       "      <td>57.431507</td>\n",
       "      <td>69.793872</td>\n",
       "      <td>10618.920091</td>\n",
       "      <td>6.107306</td>\n",
       "      <td>5.576865</td>\n",
       "      <td>1971.008371</td>\n",
       "      <td>1984.819635</td>\n",
       "      <td>103.800919</td>\n",
       "      <td>445.867580</td>\n",
       "      <td>...</td>\n",
       "      <td>94.875951</td>\n",
       "      <td>47.885084</td>\n",
       "      <td>22.132420</td>\n",
       "      <td>3.770928</td>\n",
       "      <td>15.258752</td>\n",
       "      <td>3.065449</td>\n",
       "      <td>46.677321</td>\n",
       "      <td>6.344749</td>\n",
       "      <td>2007.819635</td>\n",
       "      <td>180704.734399</td>\n",
       "    </tr>\n",
       "    <tr>\n",
       "      <th>std</th>\n",
       "      <td>422.655559</td>\n",
       "      <td>42.510304</td>\n",
       "      <td>24.406605</td>\n",
       "      <td>10423.889109</td>\n",
       "      <td>1.373747</td>\n",
       "      <td>1.109653</td>\n",
       "      <td>30.462154</td>\n",
       "      <td>20.696263</td>\n",
       "      <td>177.101513</td>\n",
       "      <td>455.366534</td>\n",
       "      <td>...</td>\n",
       "      <td>126.785144</td>\n",
       "      <td>67.500696</td>\n",
       "      <td>61.865423</td>\n",
       "      <td>30.876730</td>\n",
       "      <td>56.303822</td>\n",
       "      <td>42.341109</td>\n",
       "      <td>522.035539</td>\n",
       "      <td>2.689126</td>\n",
       "      <td>1.334484</td>\n",
       "      <td>77436.784729</td>\n",
       "    </tr>\n",
       "    <tr>\n",
       "      <th>min</th>\n",
       "      <td>1.000000</td>\n",
       "      <td>20.000000</td>\n",
       "      <td>21.000000</td>\n",
       "      <td>1300.000000</td>\n",
       "      <td>1.000000</td>\n",
       "      <td>1.000000</td>\n",
       "      <td>1872.000000</td>\n",
       "      <td>1950.000000</td>\n",
       "      <td>0.000000</td>\n",
       "      <td>0.000000</td>\n",
       "      <td>...</td>\n",
       "      <td>0.000000</td>\n",
       "      <td>0.000000</td>\n",
       "      <td>0.000000</td>\n",
       "      <td>0.000000</td>\n",
       "      <td>0.000000</td>\n",
       "      <td>0.000000</td>\n",
       "      <td>0.000000</td>\n",
       "      <td>1.000000</td>\n",
       "      <td>2006.000000</td>\n",
       "      <td>34900.000000</td>\n",
       "    </tr>\n",
       "    <tr>\n",
       "      <th>25%</th>\n",
       "      <td>365.250000</td>\n",
       "      <td>20.000000</td>\n",
       "      <td>59.000000</td>\n",
       "      <td>7560.000000</td>\n",
       "      <td>5.000000</td>\n",
       "      <td>5.000000</td>\n",
       "      <td>1953.250000</td>\n",
       "      <td>1966.000000</td>\n",
       "      <td>0.000000</td>\n",
       "      <td>0.000000</td>\n",
       "      <td>...</td>\n",
       "      <td>0.000000</td>\n",
       "      <td>0.000000</td>\n",
       "      <td>0.000000</td>\n",
       "      <td>0.000000</td>\n",
       "      <td>0.000000</td>\n",
       "      <td>0.000000</td>\n",
       "      <td>0.000000</td>\n",
       "      <td>5.000000</td>\n",
       "      <td>2007.000000</td>\n",
       "      <td>130000.000000</td>\n",
       "    </tr>\n",
       "    <tr>\n",
       "      <th>50%</th>\n",
       "      <td>735.500000</td>\n",
       "      <td>50.000000</td>\n",
       "      <td>69.000000</td>\n",
       "      <td>9549.500000</td>\n",
       "      <td>6.000000</td>\n",
       "      <td>5.000000</td>\n",
       "      <td>1972.000000</td>\n",
       "      <td>1994.000000</td>\n",
       "      <td>0.000000</td>\n",
       "      <td>387.000000</td>\n",
       "      <td>...</td>\n",
       "      <td>0.000000</td>\n",
       "      <td>26.000000</td>\n",
       "      <td>0.000000</td>\n",
       "      <td>0.000000</td>\n",
       "      <td>0.000000</td>\n",
       "      <td>0.000000</td>\n",
       "      <td>0.000000</td>\n",
       "      <td>6.000000</td>\n",
       "      <td>2008.000000</td>\n",
       "      <td>164500.000000</td>\n",
       "    </tr>\n",
       "    <tr>\n",
       "      <th>75%</th>\n",
       "      <td>1095.500000</td>\n",
       "      <td>70.000000</td>\n",
       "      <td>80.000000</td>\n",
       "      <td>11622.750000</td>\n",
       "      <td>7.000000</td>\n",
       "      <td>6.000000</td>\n",
       "      <td>2001.000000</td>\n",
       "      <td>2004.000000</td>\n",
       "      <td>164.750000</td>\n",
       "      <td>719.000000</td>\n",
       "      <td>...</td>\n",
       "      <td>168.000000</td>\n",
       "      <td>70.000000</td>\n",
       "      <td>0.000000</td>\n",
       "      <td>0.000000</td>\n",
       "      <td>0.000000</td>\n",
       "      <td>0.000000</td>\n",
       "      <td>0.000000</td>\n",
       "      <td>8.000000</td>\n",
       "      <td>2009.000000</td>\n",
       "      <td>214000.000000</td>\n",
       "    </tr>\n",
       "    <tr>\n",
       "      <th>max</th>\n",
       "      <td>1460.000000</td>\n",
       "      <td>190.000000</td>\n",
       "      <td>313.000000</td>\n",
       "      <td>215245.000000</td>\n",
       "      <td>10.000000</td>\n",
       "      <td>9.000000</td>\n",
       "      <td>2010.000000</td>\n",
       "      <td>2010.000000</td>\n",
       "      <td>1600.000000</td>\n",
       "      <td>5644.000000</td>\n",
       "      <td>...</td>\n",
       "      <td>857.000000</td>\n",
       "      <td>547.000000</td>\n",
       "      <td>552.000000</td>\n",
       "      <td>508.000000</td>\n",
       "      <td>480.000000</td>\n",
       "      <td>738.000000</td>\n",
       "      <td>15500.000000</td>\n",
       "      <td>12.000000</td>\n",
       "      <td>2010.000000</td>\n",
       "      <td>745000.000000</td>\n",
       "    </tr>\n",
       "  </tbody>\n",
       "</table>\n",
       "<p>8 rows × 38 columns</p>\n",
       "</div>"
      ],
      "text/plain": [
       "                id   mssubclass  lotfrontage        lotarea  overallqual  \\\n",
       "count  1314.000000  1314.000000  1077.000000    1314.000000  1314.000000   \n",
       "mean    733.098174    57.431507    69.793872   10618.920091     6.107306   \n",
       "std     422.655559    42.510304    24.406605   10423.889109     1.373747   \n",
       "min       1.000000    20.000000    21.000000    1300.000000     1.000000   \n",
       "25%     365.250000    20.000000    59.000000    7560.000000     5.000000   \n",
       "50%     735.500000    50.000000    69.000000    9549.500000     6.000000   \n",
       "75%    1095.500000    70.000000    80.000000   11622.750000     7.000000   \n",
       "max    1460.000000   190.000000   313.000000  215245.000000    10.000000   \n",
       "\n",
       "       overallcond    yearbuilt  yearremodadd   masvnrarea   bsmtfinsf1  ...  \\\n",
       "count  1314.000000  1314.000000   1314.000000  1306.000000  1314.000000  ...   \n",
       "mean      5.576865  1971.008371   1984.819635   103.800919   445.867580  ...   \n",
       "std       1.109653    30.462154     20.696263   177.101513   455.366534  ...   \n",
       "min       1.000000  1872.000000   1950.000000     0.000000     0.000000  ...   \n",
       "25%       5.000000  1953.250000   1966.000000     0.000000     0.000000  ...   \n",
       "50%       5.000000  1972.000000   1994.000000     0.000000   387.000000  ...   \n",
       "75%       6.000000  2001.000000   2004.000000   164.750000   719.000000  ...   \n",
       "max       9.000000  2010.000000   2010.000000  1600.000000  5644.000000  ...   \n",
       "\n",
       "        wooddecksf  openporchsf  enclosedporch    3ssnporch  screenporch  \\\n",
       "count  1314.000000  1314.000000    1314.000000  1314.000000  1314.000000   \n",
       "mean     94.875951    47.885084      22.132420     3.770928    15.258752   \n",
       "std     126.785144    67.500696      61.865423    30.876730    56.303822   \n",
       "min       0.000000     0.000000       0.000000     0.000000     0.000000   \n",
       "25%       0.000000     0.000000       0.000000     0.000000     0.000000   \n",
       "50%       0.000000    26.000000       0.000000     0.000000     0.000000   \n",
       "75%     168.000000    70.000000       0.000000     0.000000     0.000000   \n",
       "max     857.000000   547.000000     552.000000   508.000000   480.000000   \n",
       "\n",
       "          poolarea       miscval       mosold       yrsold          price  \n",
       "count  1314.000000   1314.000000  1314.000000  1314.000000    1314.000000  \n",
       "mean      3.065449     46.677321     6.344749  2007.819635  180704.734399  \n",
       "std      42.341109    522.035539     2.689126     1.334484   77436.784729  \n",
       "min       0.000000      0.000000     1.000000  2006.000000   34900.000000  \n",
       "25%       0.000000      0.000000     5.000000  2007.000000  130000.000000  \n",
       "50%       0.000000      0.000000     6.000000  2008.000000  164500.000000  \n",
       "75%       0.000000      0.000000     8.000000  2009.000000  214000.000000  \n",
       "max     738.000000  15500.000000    12.000000  2010.000000  745000.000000  \n",
       "\n",
       "[8 rows x 38 columns]"
      ]
     },
     "execution_count": 16,
     "metadata": {},
     "output_type": "execute_result"
    }
   ],
   "source": [
    "train.describe()"
   ]
  },
  {
   "cell_type": "code",
   "execution_count": 17,
   "id": "70011fe2-e15d-423c-a75b-def5d49d32bc",
   "metadata": {
    "executionInfo": {
     "elapsed": 37,
     "status": "aborted",
     "timestamp": 1675237549569,
     "user": {
      "displayName": "Alexander Chasovsky",
      "userId": "02150901659695146649"
     },
     "user_tz": -180
    },
    "id": "e84bd42a-4195-4ea2-b869-c96e47834d74"
   },
   "outputs": [
    {
     "data": {
      "text/html": [
       "<div>\n",
       "<style scoped>\n",
       "    .dataframe tbody tr th:only-of-type {\n",
       "        vertical-align: middle;\n",
       "    }\n",
       "\n",
       "    .dataframe tbody tr th {\n",
       "        vertical-align: top;\n",
       "    }\n",
       "\n",
       "    .dataframe thead th {\n",
       "        text-align: right;\n",
       "    }\n",
       "</style>\n",
       "<table border=\"1\" class=\"dataframe\">\n",
       "  <thead>\n",
       "    <tr style=\"text-align: right;\">\n",
       "      <th></th>\n",
       "      <th>mszoning</th>\n",
       "      <th>street</th>\n",
       "      <th>alley</th>\n",
       "      <th>lotshape</th>\n",
       "      <th>landcontour</th>\n",
       "      <th>utilities</th>\n",
       "      <th>lotconfig</th>\n",
       "      <th>landslope</th>\n",
       "      <th>neighborhood</th>\n",
       "      <th>condition1</th>\n",
       "      <th>...</th>\n",
       "      <th>garagetype</th>\n",
       "      <th>garagefinish</th>\n",
       "      <th>garagequal</th>\n",
       "      <th>garagecond</th>\n",
       "      <th>paveddrive</th>\n",
       "      <th>poolqc</th>\n",
       "      <th>fence</th>\n",
       "      <th>miscfeature</th>\n",
       "      <th>saletype</th>\n",
       "      <th>salecondition</th>\n",
       "    </tr>\n",
       "  </thead>\n",
       "  <tbody>\n",
       "    <tr>\n",
       "      <th>count</th>\n",
       "      <td>1314</td>\n",
       "      <td>1314</td>\n",
       "      <td>86</td>\n",
       "      <td>1314</td>\n",
       "      <td>1314</td>\n",
       "      <td>1314</td>\n",
       "      <td>1314</td>\n",
       "      <td>1314</td>\n",
       "      <td>1314</td>\n",
       "      <td>1314</td>\n",
       "      <td>...</td>\n",
       "      <td>1241</td>\n",
       "      <td>1241</td>\n",
       "      <td>1241</td>\n",
       "      <td>1241</td>\n",
       "      <td>1314</td>\n",
       "      <td>7</td>\n",
       "      <td>252</td>\n",
       "      <td>50</td>\n",
       "      <td>1314</td>\n",
       "      <td>1314</td>\n",
       "    </tr>\n",
       "    <tr>\n",
       "      <th>unique</th>\n",
       "      <td>5</td>\n",
       "      <td>2</td>\n",
       "      <td>2</td>\n",
       "      <td>4</td>\n",
       "      <td>4</td>\n",
       "      <td>2</td>\n",
       "      <td>5</td>\n",
       "      <td>3</td>\n",
       "      <td>25</td>\n",
       "      <td>9</td>\n",
       "      <td>...</td>\n",
       "      <td>6</td>\n",
       "      <td>3</td>\n",
       "      <td>5</td>\n",
       "      <td>5</td>\n",
       "      <td>3</td>\n",
       "      <td>3</td>\n",
       "      <td>4</td>\n",
       "      <td>4</td>\n",
       "      <td>9</td>\n",
       "      <td>6</td>\n",
       "    </tr>\n",
       "    <tr>\n",
       "      <th>top</th>\n",
       "      <td>RL</td>\n",
       "      <td>Pave</td>\n",
       "      <td>Grvl</td>\n",
       "      <td>Reg</td>\n",
       "      <td>Lvl</td>\n",
       "      <td>AllPub</td>\n",
       "      <td>Inside</td>\n",
       "      <td>Gtl</td>\n",
       "      <td>NAmes</td>\n",
       "      <td>Norm</td>\n",
       "      <td>...</td>\n",
       "      <td>Attchd</td>\n",
       "      <td>Unf</td>\n",
       "      <td>TA</td>\n",
       "      <td>TA</td>\n",
       "      <td>Y</td>\n",
       "      <td>Gd</td>\n",
       "      <td>MnPrv</td>\n",
       "      <td>Shed</td>\n",
       "      <td>WD</td>\n",
       "      <td>Normal</td>\n",
       "    </tr>\n",
       "    <tr>\n",
       "      <th>freq</th>\n",
       "      <td>1039</td>\n",
       "      <td>1309</td>\n",
       "      <td>49</td>\n",
       "      <td>828</td>\n",
       "      <td>1182</td>\n",
       "      <td>1313</td>\n",
       "      <td>941</td>\n",
       "      <td>1243</td>\n",
       "      <td>201</td>\n",
       "      <td>1128</td>\n",
       "      <td>...</td>\n",
       "      <td>776</td>\n",
       "      <td>542</td>\n",
       "      <td>1178</td>\n",
       "      <td>1190</td>\n",
       "      <td>1201</td>\n",
       "      <td>3</td>\n",
       "      <td>141</td>\n",
       "      <td>45</td>\n",
       "      <td>1140</td>\n",
       "      <td>1079</td>\n",
       "    </tr>\n",
       "  </tbody>\n",
       "</table>\n",
       "<p>4 rows × 43 columns</p>\n",
       "</div>"
      ],
      "text/plain": [
       "       mszoning street alley lotshape landcontour utilities lotconfig  \\\n",
       "count      1314   1314    86     1314        1314      1314      1314   \n",
       "unique        5      2     2        4           4         2         5   \n",
       "top          RL   Pave  Grvl      Reg         Lvl    AllPub    Inside   \n",
       "freq       1039   1309    49      828        1182      1313       941   \n",
       "\n",
       "       landslope neighborhood condition1  ... garagetype garagefinish  \\\n",
       "count       1314         1314       1314  ...       1241         1241   \n",
       "unique         3           25          9  ...          6            3   \n",
       "top          Gtl        NAmes       Norm  ...     Attchd          Unf   \n",
       "freq        1243          201       1128  ...        776          542   \n",
       "\n",
       "       garagequal garagecond paveddrive poolqc  fence miscfeature saletype  \\\n",
       "count        1241       1241       1314      7    252          50     1314   \n",
       "unique          5          5          3      3      4           4        9   \n",
       "top            TA         TA          Y     Gd  MnPrv        Shed       WD   \n",
       "freq         1178       1190       1201      3    141          45     1140   \n",
       "\n",
       "       salecondition  \n",
       "count           1314  \n",
       "unique             6  \n",
       "top           Normal  \n",
       "freq            1079  \n",
       "\n",
       "[4 rows x 43 columns]"
      ]
     },
     "execution_count": 17,
     "metadata": {},
     "output_type": "execute_result"
    }
   ],
   "source": [
    "train.describe(include=object)"
   ]
  },
  {
   "cell_type": "markdown",
   "id": "68fca882-f512-42a1-84be-bc56bf7f1468",
   "metadata": {
    "id": "a6a09d14-8325-4042-8e68-1437f9825679"
   },
   "source": [
    "#### Columns rename to prevent Statsmodels errors"
   ]
  },
  {
   "cell_type": "code",
   "execution_count": 18,
   "id": "f9f7de4e-3a2e-40cb-b910-fa3fc16a8fc5",
   "metadata": {
    "tags": []
   },
   "outputs": [
    {
     "name": "stdout",
     "output_type": "stream",
     "text": [
      "['1stflrsf', '2ndflrsf', '3ssnporch', 'alley', 'bedroomabvgr', 'bldgtype', 'bsmtcond', 'bsmtexposure', 'bsmtfinsf1', 'bsmtfinsf2', 'bsmtfintype1', 'bsmtfintype2', 'bsmtfullbath', 'bsmthalfbath', 'bsmtqual', 'bsmtunfsf', 'centralair', 'condition1', 'condition2', 'electrical', 'enclosedporch', 'extercond', 'exterior1st', 'exterior2nd', 'exterqual', 'fence', 'fireplacequ', 'fireplaces', 'foundation', 'fullbath', 'functional', 'garagearea', 'garagecars', 'garagecond', 'garagefinish', 'garagequal', 'garagetype', 'garageyrblt', 'grlivarea', 'halfbath', 'heating', 'heatingqc', 'housestyle', 'id', 'kitchenabvgr', 'kitchenqual', 'landcontour', 'landslope', 'lotarea', 'lotconfig', 'lotfrontage', 'lotshape', 'lowqualfinsf', 'masvnrarea', 'masvnrtype', 'miscfeature', 'miscval', 'mosold', 'mssubclass', 'mszoning', 'neighborhood', 'openporchsf', 'overallcond', 'overallqual', 'paveddrive', 'poolarea', 'poolqc', 'price', 'roofmatl', 'roofstyle', 'salecondition', 'saletype', 'screenporch', 'street', 'totalbsmtsf', 'totrmsabvgrd', 'utilities', 'wooddecksf', 'yearbuilt', 'yearremodadd', 'yrsold']\n"
     ]
    }
   ],
   "source": [
    "print(sorted(train.columns.to_list(), key=str.lower))"
   ]
  },
  {
   "cell_type": "code",
   "execution_count": 19,
   "id": "461a94a0-e17f-454c-86e7-b7fa9690409d",
   "metadata": {},
   "outputs": [],
   "source": [
    "train = rename_columns(train)\n",
    "test = rename_columns(test)"
   ]
  },
  {
   "cell_type": "code",
   "execution_count": 20,
   "id": "7e9dc645-2755-4d74-b00f-d3c9f0a502f1",
   "metadata": {},
   "outputs": [],
   "source": [
    "train_raw = train.copy()"
   ]
  },
  {
   "cell_type": "code",
   "execution_count": 21,
   "id": "3965b42d-c0ea-42e7-8e13-345a6d60d503",
   "metadata": {
    "tags": []
   },
   "outputs": [
    {
     "name": "stdout",
     "output_type": "stream",
     "text": [
      "['alley', 'bedroomabvgr', 'bldgtype', 'bsmtcond', 'bsmtexposure', 'bsmtfinsf_first', 'bsmtfinsf_second', 'bsmtfintype_first', 'bsmtfintype_second', 'bsmtfullbath', 'bsmthalfbath', 'bsmtqual', 'bsmtunfsf', 'centralair', 'condition_first', 'condition_second', 'electrical', 'enclosedporch', 'extercond', 'exterior_first', 'exterior_second', 'exterqual', 'fence', 'fireplacequ', 'fireplaces', 'first_flrsf', 'foundation', 'fullbath', 'functional', 'garagearea', 'garagecars', 'garagecond', 'garagefinish', 'garagequal', 'garagetype', 'garageyrblt', 'grlivarea', 'halfbath', 'heating', 'heatingqc', 'housestyle', 'id', 'kitchenabvgr', 'kitchenqual', 'landcontour', 'landslope', 'lotarea', 'lotconfig', 'lotfrontage', 'lotshape', 'lowqualfinsf', 'masvnrarea', 'masvnrtype', 'miscfeature', 'miscval', 'mosold', 'mssubclass', 'mszoning', 'neighborhood', 'openporchsf', 'overallcond', 'overallqual', 'paveddrive', 'poolarea', 'poolqc', 'price', 'roofmatl', 'roofstyle', 'salecondition', 'saletype', 'screenporch', 'second_flrsf', 'street', 'three_ssnporch', 'totalbsmtsf', 'totrmsabvgrd', 'utilities', 'wooddecksf', 'yearbuilt', 'yearremodadd', 'yrsold']\n"
     ]
    }
   ],
   "source": [
    "print(sorted(train.columns.to_list(), key=str.lower))"
   ]
  },
  {
   "cell_type": "markdown",
   "id": "e62c9dd2-4a20-4b9c-a2ae-ecf6ab763a30",
   "metadata": {
    "id": "8d3dc1ff-9581-4f40-9d6c-a5d50a161429"
   },
   "source": [
    "#### Creating variables lists"
   ]
  },
  {
   "cell_type": "code",
   "execution_count": 22,
   "id": "f6a6bb79-cb9e-4c60-ac11-3939f9fbe1ae",
   "metadata": {},
   "outputs": [],
   "source": [
    "# target variable\n",
    "target = 'price'"
   ]
  },
  {
   "cell_type": "code",
   "execution_count": 23,
   "id": "759c7893-b5d8-4444-aee1-cc9f4bfa15ba",
   "metadata": {},
   "outputs": [],
   "source": [
    "ordinal = [\n",
    "    'overallcond', 'overallqual', 'exterqual', 'extercond', 'bsmtqual',\n",
    "    'bsmtcond', 'heatingqc', 'kitchenqual', 'fireplacequ', 'garagecond',\n",
    "    'garagequal', 'poolqc', 'bsmtexposure', 'bsmtfintype_first',\n",
    "    'bsmtfintype_second', 'functional', 'garagetype', 'garagefinish'\n",
    "]"
   ]
  },
  {
   "cell_type": "code",
   "execution_count": 24,
   "id": "8c4a48ec-78c1-4be9-8a0a-2492bbdba7f0",
   "metadata": {},
   "outputs": [],
   "source": [
    "# numeric variables\n",
    "numeric = (train\n",
    "           .drop(['id', 'price'], axis=1)\n",
    "           .select_dtypes(include=['int64', 'float64'])\n",
    "           .columns.tolist())\n",
    "# remove ordinal variables from numeric list\n",
    "numeric = [i for i in numeric if i not in ordinal]"
   ]
  },
  {
   "cell_type": "code",
   "execution_count": 25,
   "id": "cce392d5-5463-445c-8ea3-5461a28ac5aa",
   "metadata": {},
   "outputs": [],
   "source": [
    "# categorical variables\n",
    "categorical = (train\n",
    "               .drop(['id', 'price'], axis=1)\n",
    "               .select_dtypes(include=['object', 'bool'])\n",
    "               .columns.tolist())\n",
    "categorical = [i for i in categorical if i not in ordinal]"
   ]
  },
  {
   "cell_type": "code",
   "execution_count": 26,
   "id": "92d098ba-91eb-4c8e-8e3b-3808fbb198e7",
   "metadata": {
    "executionInfo": {
     "elapsed": 38,
     "status": "aborted",
     "timestamp": 1675237549573,
     "user": {
      "displayName": "Alexander Chasovsky",
      "userId": "02150901659695146649"
     },
     "user_tz": -180
    },
    "id": "e39edcb1-047d-4eb9-83c1-af2e1a8134e6"
   },
   "outputs": [],
   "source": [
    "# features\n",
    "features = numeric + ordinal + categorical"
   ]
  },
  {
   "cell_type": "code",
   "execution_count": 27,
   "id": "ee395046-08ec-4cd3-85a1-c75bc9fe8daa",
   "metadata": {
    "executionInfo": {
     "elapsed": 39,
     "status": "aborted",
     "timestamp": 1675237549574,
     "user": {
      "displayName": "Alexander Chasovsky",
      "userId": "02150901659695146649"
     },
     "user_tz": -180
    },
    "id": "412bf2cf-c551-4950-b95a-813f4179dc31"
   },
   "outputs": [],
   "source": [
    "data_raw_features_len = len(data.drop('Id', axis=1).columns)\n",
    "assert 0 == (data_raw_features_len\n",
    "             - len(numeric)\n",
    "             - len(ordinal)\n",
    "             - len(categorical)\n",
    "             - len([target]))"
   ]
  },
  {
   "cell_type": "code",
   "execution_count": 28,
   "id": "e1277b2f-f3d1-4dbf-9f29-2a73d3e6a9f8",
   "metadata": {},
   "outputs": [
    {
     "data": {
      "text/plain": [
       "34"
      ]
     },
     "execution_count": 28,
     "metadata": {},
     "output_type": "execute_result"
    }
   ],
   "source": [
    "len(numeric)"
   ]
  },
  {
   "cell_type": "code",
   "execution_count": 29,
   "id": "b42ccf59-674b-4d8f-b974-6bc9204b69d9",
   "metadata": {
    "executionInfo": {
     "elapsed": 40,
     "status": "aborted",
     "timestamp": 1675237549575,
     "user": {
      "displayName": "Alexander Chasovsky",
      "userId": "02150901659695146649"
     },
     "user_tz": -180
    },
    "id": "7ac5e003-f424-48eb-a9ea-05096145c822"
   },
   "outputs": [
    {
     "name": "stdout",
     "output_type": "stream",
     "text": [
      "['mssubclass', 'lotfrontage', 'lotarea', 'yearbuilt', 'yearremodadd', 'masvnrarea', 'bsmtfinsf_first', 'bsmtfinsf_second', 'bsmtunfsf', 'totalbsmtsf', 'first_flrsf', 'second_flrsf', 'lowqualfinsf', 'grlivarea', 'bsmtfullbath', 'bsmthalfbath', 'fullbath', 'halfbath', 'bedroomabvgr', 'kitchenabvgr', 'totrmsabvgrd', 'fireplaces', 'garageyrblt', 'garagecars', 'garagearea', 'wooddecksf', 'openporchsf', 'enclosedporch', 'three_ssnporch', 'screenporch', 'poolarea', 'miscval', 'mosold', 'yrsold']\n"
     ]
    }
   ],
   "source": [
    "print(numeric)"
   ]
  },
  {
   "cell_type": "code",
   "execution_count": 30,
   "id": "a9acc492-4054-49a9-8348-5af38c7c592d",
   "metadata": {},
   "outputs": [
    {
     "data": {
      "text/plain": [
       "18"
      ]
     },
     "execution_count": 30,
     "metadata": {},
     "output_type": "execute_result"
    }
   ],
   "source": [
    "len(ordinal)"
   ]
  },
  {
   "cell_type": "code",
   "execution_count": 31,
   "id": "95d2a867-81cc-420a-a977-6ffe71e1c855",
   "metadata": {},
   "outputs": [
    {
     "name": "stdout",
     "output_type": "stream",
     "text": [
      "['overallcond', 'overallqual', 'exterqual', 'extercond', 'bsmtqual', 'bsmtcond', 'heatingqc', 'kitchenqual', 'fireplacequ', 'garagecond', 'garagequal', 'poolqc', 'bsmtexposure', 'bsmtfintype_first', 'bsmtfintype_second', 'functional', 'garagetype', 'garagefinish']\n"
     ]
    }
   ],
   "source": [
    "print(ordinal)"
   ]
  },
  {
   "cell_type": "code",
   "execution_count": 32,
   "id": "e2a664b5-d5db-4a90-916e-0d9c29dec398",
   "metadata": {},
   "outputs": [
    {
     "data": {
      "text/plain": [
       "27"
      ]
     },
     "execution_count": 32,
     "metadata": {},
     "output_type": "execute_result"
    }
   ],
   "source": [
    "len(categorical)"
   ]
  },
  {
   "cell_type": "code",
   "execution_count": 33,
   "id": "d08b174a-d8c4-41d7-83fe-4fb06a314421",
   "metadata": {
    "executionInfo": {
     "elapsed": 43,
     "status": "aborted",
     "timestamp": 1675237549579,
     "user": {
      "displayName": "Alexander Chasovsky",
      "userId": "02150901659695146649"
     },
     "user_tz": -180
    },
    "id": "37512a38-dc9e-4fa3-81fd-521c5fb8a42a",
    "tags": []
   },
   "outputs": [
    {
     "name": "stdout",
     "output_type": "stream",
     "text": [
      "['mszoning', 'street', 'alley', 'lotshape', 'landcontour', 'utilities', 'lotconfig', 'landslope', 'neighborhood', 'condition_first', 'condition_second', 'bldgtype', 'housestyle', 'roofstyle', 'roofmatl', 'exterior_first', 'exterior_second', 'masvnrtype', 'foundation', 'heating', 'centralair', 'electrical', 'paveddrive', 'fence', 'miscfeature', 'saletype', 'salecondition']\n"
     ]
    }
   ],
   "source": [
    "print(categorical)"
   ]
  },
  {
   "cell_type": "code",
   "execution_count": 34,
   "id": "37ce55e0-1b13-4f8b-af04-2408b073cdc9",
   "metadata": {
    "executionInfo": {
     "elapsed": 45,
     "status": "aborted",
     "timestamp": 1675237549581,
     "user": {
      "displayName": "Alexander Chasovsky",
      "userId": "02150901659695146649"
     },
     "user_tz": -180
    },
    "id": "93d46a65-4c94-497d-bf26-fb776efb11e5"
   },
   "outputs": [
    {
     "data": {
      "text/plain": [
       "'price'"
      ]
     },
     "execution_count": 34,
     "metadata": {},
     "output_type": "execute_result"
    }
   ],
   "source": [
    "target"
   ]
  },
  {
   "cell_type": "markdown",
   "id": "04437392-3bf1-4ec0-b3ff-67f27a26f1ac",
   "metadata": {},
   "source": [
    "#### Target Variable"
   ]
  },
  {
   "cell_type": "code",
   "execution_count": 35,
   "id": "934c9dda-36eb-4bfc-8806-32bbd548d69f",
   "metadata": {},
   "outputs": [
    {
     "data": {
      "text/html": [
       "<div>\n",
       "<style scoped>\n",
       "    .dataframe tbody tr th:only-of-type {\n",
       "        vertical-align: middle;\n",
       "    }\n",
       "\n",
       "    .dataframe tbody tr th {\n",
       "        vertical-align: top;\n",
       "    }\n",
       "\n",
       "    .dataframe thead th {\n",
       "        text-align: right;\n",
       "    }\n",
       "</style>\n",
       "<table border=\"1\" class=\"dataframe\">\n",
       "  <thead>\n",
       "    <tr style=\"text-align: right;\">\n",
       "      <th></th>\n",
       "      <th>count</th>\n",
       "      <th>mean</th>\n",
       "      <th>std</th>\n",
       "      <th>min</th>\n",
       "      <th>25%</th>\n",
       "      <th>50%</th>\n",
       "      <th>75%</th>\n",
       "      <th>max</th>\n",
       "    </tr>\n",
       "  </thead>\n",
       "  <tbody>\n",
       "    <tr>\n",
       "      <th>price</th>\n",
       "      <td>1314.0</td>\n",
       "      <td>180704.734399</td>\n",
       "      <td>77436.784729</td>\n",
       "      <td>34900.0</td>\n",
       "      <td>130000.0</td>\n",
       "      <td>164500.0</td>\n",
       "      <td>214000.0</td>\n",
       "      <td>745000.0</td>\n",
       "    </tr>\n",
       "  </tbody>\n",
       "</table>\n",
       "</div>"
      ],
      "text/plain": [
       "        count           mean           std      min       25%       50%  \\\n",
       "price  1314.0  180704.734399  77436.784729  34900.0  130000.0  164500.0   \n",
       "\n",
       "            75%       max  \n",
       "price  214000.0  745000.0  "
      ]
     },
     "execution_count": 35,
     "metadata": {},
     "output_type": "execute_result"
    }
   ],
   "source": [
    "train[target].describe().to_frame().T"
   ]
  },
  {
   "cell_type": "code",
   "execution_count": 36,
   "id": "6b3f72da-912b-42d7-ad64-bef48bd46470",
   "metadata": {},
   "outputs": [],
   "source": [
    "train_target_raw = train[target].copy()"
   ]
  },
  {
   "cell_type": "code",
   "execution_count": 37,
   "id": "01db5d54-cb40-4ad1-ba04-154b5befa40b",
   "metadata": {},
   "outputs": [
    {
     "data": {
      "image/png": "[encoded data removed]",
      "text/plain": [
       "<Figure size 800x250 with 1 Axes>"
      ]
     },
     "metadata": {},
     "output_type": "display_data"
    },
    {
     "name": "stdout",
     "output_type": "stream",
     "text": [
      "Image 'target_distribution.svg' successfully saved into 'img/Section1-Overview-and-Base-model' directory\n"
     ]
    }
   ],
   "source": [
    "fig = plt.figure()\n",
    "sns.histplot(train_target_raw, bins=70, alpha=1)\n",
    "plt.xlabel('Price')\n",
    "plt.ylabel('Count')\n",
    "# plt.title('Distribution of Price')\n",
    "plt.grid(False)\n",
    "axis_rstyle(x_ticks=(0, 800000, 200000), y_ticks=(0, 125, 25))\n",
    "plt.show()\n",
    "\n",
    "savefig('target_distribution', dir_save)"
   ]
  },
  {
   "cell_type": "code",
   "execution_count": 38,
   "id": "ff23986f-5124-422f-9f6c-13f9524fbcec",
   "metadata": {},
   "outputs": [],
   "source": [
    "train[target] = np.log(train[target])"
   ]
  },
  {
   "cell_type": "code",
   "execution_count": 39,
   "id": "89758f54-54d6-4d0b-a974-cac7d1dd2372",
   "metadata": {},
   "outputs": [
    {
     "data": {
      "image/png": "[encoded data removed]",
      "text/plain": [
       "<Figure size 800x250 with 1 Axes>"
      ]
     },
     "metadata": {},
     "output_type": "display_data"
    },
    {
     "name": "stdout",
     "output_type": "stream",
     "text": [
      "Image 'target_distribution_log.svg' successfully saved into 'img/Section1-Overview-and-Base-model' directory\n"
     ]
    }
   ],
   "source": [
    "fig = plt.figure()\n",
    "sns.histplot(data=train, x=target, bins=50, alpha=1)\n",
    "plt.xlabel('Price')\n",
    "plt.ylabel('Count')\n",
    "# plt.title('Distribution of Price')\n",
    "plt.grid(False)\n",
    "axis_rstyle(x_ticks=(10.0, 14.0, 0.5), y_ticks=(0, 120, 20))\n",
    "plt.gca().tick_params(direction='out')\n",
    "plt.show()\n",
    "\n",
    "savefig('target_distribution_log', dir_save)"
   ]
  },
  {
   "cell_type": "markdown",
   "id": "d08734e4-4b8c-4a48-b2f5-cb0472bbc794",
   "metadata": {},
   "source": [
    "## Missing Values Handling"
   ]
  },
  {
   "cell_type": "markdown",
   "id": "8917310a-705f-4b2b-8f96-b4efffd70089",
   "metadata": {},
   "source": [
    "### Categorical variables"
   ]
  },
  {
   "cell_type": "markdown",
   "id": "bf7ac189-dbf5-4275-8f04-4394a530e43f",
   "metadata": {},
   "source": [
    "#### Manually NaNs handling with data description"
   ]
  },
  {
   "cell_type": "code",
   "execution_count": 40,
   "id": "4ac64459-88cb-41f0-8376-c02abaff506f",
   "metadata": {
    "tags": []
   },
   "outputs": [
    {
     "data": {
      "text/html": [
       "<div>\n",
       "<style scoped>\n",
       "    .dataframe tbody tr th:only-of-type {\n",
       "        vertical-align: middle;\n",
       "    }\n",
       "\n",
       "    .dataframe tbody tr th {\n",
       "        vertical-align: top;\n",
       "    }\n",
       "\n",
       "    .dataframe thead th {\n",
       "        text-align: right;\n",
       "    }\n",
       "</style>\n",
       "<table border=\"1\" class=\"dataframe\">\n",
       "  <thead>\n",
       "    <tr style=\"text-align: right;\">\n",
       "      <th></th>\n",
       "      <th>Type</th>\n",
       "      <th>Count</th>\n",
       "      <th>Unique</th>\n",
       "      <th>NaN</th>\n",
       "      <th>Percentages</th>\n",
       "    </tr>\n",
       "  </thead>\n",
       "  <tbody>\n",
       "    <tr>\n",
       "      <th>poolqc</th>\n",
       "      <td>object</td>\n",
       "      <td>7</td>\n",
       "      <td>3</td>\n",
       "      <td>1307</td>\n",
       "      <td>99</td>\n",
       "    </tr>\n",
       "    <tr>\n",
       "      <th>fireplacequ</th>\n",
       "      <td>object</td>\n",
       "      <td>698</td>\n",
       "      <td>5</td>\n",
       "      <td>616</td>\n",
       "      <td>47</td>\n",
       "    </tr>\n",
       "    <tr>\n",
       "      <th>garagecond</th>\n",
       "      <td>object</td>\n",
       "      <td>1241</td>\n",
       "      <td>5</td>\n",
       "      <td>73</td>\n",
       "      <td>6</td>\n",
       "    </tr>\n",
       "    <tr>\n",
       "      <th>garagetype</th>\n",
       "      <td>object</td>\n",
       "      <td>1241</td>\n",
       "      <td>6</td>\n",
       "      <td>73</td>\n",
       "      <td>6</td>\n",
       "    </tr>\n",
       "    <tr>\n",
       "      <th>garagequal</th>\n",
       "      <td>object</td>\n",
       "      <td>1241</td>\n",
       "      <td>5</td>\n",
       "      <td>73</td>\n",
       "      <td>6</td>\n",
       "    </tr>\n",
       "  </tbody>\n",
       "</table>\n",
       "</div>"
      ],
      "text/plain": [
       "               Type  Count  Unique   NaN  Percentages\n",
       "poolqc       object      7       3  1307           99\n",
       "fireplacequ  object    698       5   616           47\n",
       "garagecond   object   1241       5    73            6\n",
       "garagetype   object   1241       6    73            6\n",
       "garagequal   object   1241       5    73            6"
      ]
     },
     "execution_count": 40,
     "metadata": {},
     "output_type": "execute_result"
    }
   ],
   "source": [
    "data_describe(train[ordinal]).head()"
   ]
  },
  {
   "cell_type": "code",
   "execution_count": 41,
   "id": "9136b81c-f49f-4eda-a44b-5279c8e32c45",
   "metadata": {
    "tags": []
   },
   "outputs": [
    {
     "data": {
      "text/html": [
       "<div>\n",
       "<style scoped>\n",
       "    .dataframe tbody tr th:only-of-type {\n",
       "        vertical-align: middle;\n",
       "    }\n",
       "\n",
       "    .dataframe tbody tr th {\n",
       "        vertical-align: top;\n",
       "    }\n",
       "\n",
       "    .dataframe thead th {\n",
       "        text-align: right;\n",
       "    }\n",
       "</style>\n",
       "<table border=\"1\" class=\"dataframe\">\n",
       "  <thead>\n",
       "    <tr style=\"text-align: right;\">\n",
       "      <th></th>\n",
       "      <th>Type</th>\n",
       "      <th>Count</th>\n",
       "      <th>Unique</th>\n",
       "      <th>NaN</th>\n",
       "      <th>Percentages</th>\n",
       "    </tr>\n",
       "  </thead>\n",
       "  <tbody>\n",
       "    <tr>\n",
       "      <th>miscfeature</th>\n",
       "      <td>object</td>\n",
       "      <td>50</td>\n",
       "      <td>4</td>\n",
       "      <td>1264</td>\n",
       "      <td>96</td>\n",
       "    </tr>\n",
       "    <tr>\n",
       "      <th>alley</th>\n",
       "      <td>object</td>\n",
       "      <td>86</td>\n",
       "      <td>2</td>\n",
       "      <td>1228</td>\n",
       "      <td>93</td>\n",
       "    </tr>\n",
       "    <tr>\n",
       "      <th>fence</th>\n",
       "      <td>object</td>\n",
       "      <td>252</td>\n",
       "      <td>4</td>\n",
       "      <td>1062</td>\n",
       "      <td>81</td>\n",
       "    </tr>\n",
       "    <tr>\n",
       "      <th>masvnrtype</th>\n",
       "      <td>object</td>\n",
       "      <td>542</td>\n",
       "      <td>3</td>\n",
       "      <td>772</td>\n",
       "      <td>59</td>\n",
       "    </tr>\n",
       "    <tr>\n",
       "      <th>electrical</th>\n",
       "      <td>object</td>\n",
       "      <td>1313</td>\n",
       "      <td>4</td>\n",
       "      <td>1</td>\n",
       "      <td>0</td>\n",
       "    </tr>\n",
       "  </tbody>\n",
       "</table>\n",
       "</div>"
      ],
      "text/plain": [
       "               Type  Count  Unique   NaN  Percentages\n",
       "miscfeature  object     50       4  1264           96\n",
       "alley        object     86       2  1228           93\n",
       "fence        object    252       4  1062           81\n",
       "masvnrtype   object    542       3   772           59\n",
       "electrical   object   1313       4     1            0"
      ]
     },
     "execution_count": 41,
     "metadata": {},
     "output_type": "execute_result"
    }
   ],
   "source": [
    "data_describe(train[categorical]).head()"
   ]
  },
  {
   "cell_type": "markdown",
   "id": "6e1af785-1073-45e5-b5f4-e8f1d13eb1b8",
   "metadata": {},
   "source": [
    "##### Variables with 'NA' as NaN values (as in 'Data Description'):  \n",
    "'poolqc', 'miscfeature', 'alley', 'fence', 'masvnrtype', 'fireplacequ', 'garagecond', 'garagetype', 'garagequal', 'garagefinish', 'garageyrbuilt', 'bsmtexposure', 'bsmtqual', 'bsmtcond', 'bsmtfintype1', 'bsmtfintype2'"
   ]
  },
  {
   "cell_type": "code",
   "execution_count": 42,
   "id": "1f34f96d-52d4-4d9a-b436-2b217fb34f57",
   "metadata": {},
   "outputs": [],
   "source": [
    "features_na = [\n",
    "    'poolqc', 'miscfeature', 'alley', 'fence',\n",
    "    'masvnrtype', 'fireplacequ', 'garagecond', \n",
    "    'garagetype', 'garagequal', 'garagefinish',\n",
    "    'bsmtexposure', 'bsmtqual', 'bsmtcond',\n",
    "    'bsmtfintype_first', 'bsmtfintype_second'\n",
    "]"
   ]
  },
  {
   "cell_type": "code",
   "execution_count": 43,
   "id": "513dcf0b-dcad-4fed-9d8d-6dbaa62387af",
   "metadata": {},
   "outputs": [
    {
     "data": {
      "text/html": [
       "<div>\n",
       "<style scoped>\n",
       "    .dataframe tbody tr th:only-of-type {\n",
       "        vertical-align: middle;\n",
       "    }\n",
       "\n",
       "    .dataframe tbody tr th {\n",
       "        vertical-align: top;\n",
       "    }\n",
       "\n",
       "    .dataframe thead th {\n",
       "        text-align: right;\n",
       "    }\n",
       "</style>\n",
       "<table border=\"1\" class=\"dataframe\">\n",
       "  <thead>\n",
       "    <tr style=\"text-align: right;\">\n",
       "      <th></th>\n",
       "      <th>id</th>\n",
       "      <th>mssubclass</th>\n",
       "      <th>mszoning</th>\n",
       "      <th>lotfrontage</th>\n",
       "      <th>lotarea</th>\n",
       "      <th>street</th>\n",
       "      <th>alley</th>\n",
       "      <th>lotshape</th>\n",
       "      <th>landcontour</th>\n",
       "      <th>utilities</th>\n",
       "      <th>...</th>\n",
       "      <th>poolarea</th>\n",
       "      <th>poolqc</th>\n",
       "      <th>fence</th>\n",
       "      <th>miscfeature</th>\n",
       "      <th>miscval</th>\n",
       "      <th>mosold</th>\n",
       "      <th>yrsold</th>\n",
       "      <th>saletype</th>\n",
       "      <th>salecondition</th>\n",
       "      <th>price</th>\n",
       "    </tr>\n",
       "  </thead>\n",
       "  <tbody>\n",
       "    <tr>\n",
       "      <th>907</th>\n",
       "      <td>908</td>\n",
       "      <td>50</td>\n",
       "      <td>RL</td>\n",
       "      <td>86.0</td>\n",
       "      <td>11500</td>\n",
       "      <td>Pave</td>\n",
       "      <td>NaN</td>\n",
       "      <td>IR1</td>\n",
       "      <td>Lvl</td>\n",
       "      <td>AllPub</td>\n",
       "      <td>...</td>\n",
       "      <td>0</td>\n",
       "      <td>NaN</td>\n",
       "      <td>NaN</td>\n",
       "      <td>NaN</td>\n",
       "      <td>0</td>\n",
       "      <td>6</td>\n",
       "      <td>2006</td>\n",
       "      <td>WD</td>\n",
       "      <td>Normal</td>\n",
       "      <td>12.429216</td>\n",
       "    </tr>\n",
       "    <tr>\n",
       "      <th>782</th>\n",
       "      <td>783</td>\n",
       "      <td>20</td>\n",
       "      <td>RL</td>\n",
       "      <td>67.0</td>\n",
       "      <td>16285</td>\n",
       "      <td>Pave</td>\n",
       "      <td>NaN</td>\n",
       "      <td>IR2</td>\n",
       "      <td>Lvl</td>\n",
       "      <td>AllPub</td>\n",
       "      <td>...</td>\n",
       "      <td>0</td>\n",
       "      <td>NaN</td>\n",
       "      <td>NaN</td>\n",
       "      <td>NaN</td>\n",
       "      <td>0</td>\n",
       "      <td>6</td>\n",
       "      <td>2009</td>\n",
       "      <td>WD</td>\n",
       "      <td>Normal</td>\n",
       "      <td>12.139399</td>\n",
       "    </tr>\n",
       "    <tr>\n",
       "      <th>952</th>\n",
       "      <td>953</td>\n",
       "      <td>85</td>\n",
       "      <td>RL</td>\n",
       "      <td>60.0</td>\n",
       "      <td>7200</td>\n",
       "      <td>Pave</td>\n",
       "      <td>NaN</td>\n",
       "      <td>Reg</td>\n",
       "      <td>Lvl</td>\n",
       "      <td>AllPub</td>\n",
       "      <td>...</td>\n",
       "      <td>0</td>\n",
       "      <td>NaN</td>\n",
       "      <td>MnPrv</td>\n",
       "      <td>NaN</td>\n",
       "      <td>0</td>\n",
       "      <td>4</td>\n",
       "      <td>2009</td>\n",
       "      <td>WD</td>\n",
       "      <td>Normal</td>\n",
       "      <td>11.804849</td>\n",
       "    </tr>\n",
       "    <tr>\n",
       "      <th>620</th>\n",
       "      <td>621</td>\n",
       "      <td>30</td>\n",
       "      <td>RL</td>\n",
       "      <td>45.0</td>\n",
       "      <td>8248</td>\n",
       "      <td>Pave</td>\n",
       "      <td>Grvl</td>\n",
       "      <td>Reg</td>\n",
       "      <td>Lvl</td>\n",
       "      <td>AllPub</td>\n",
       "      <td>...</td>\n",
       "      <td>0</td>\n",
       "      <td>NaN</td>\n",
       "      <td>NaN</td>\n",
       "      <td>NaN</td>\n",
       "      <td>0</td>\n",
       "      <td>9</td>\n",
       "      <td>2008</td>\n",
       "      <td>WD</td>\n",
       "      <td>Normal</td>\n",
       "      <td>11.112448</td>\n",
       "    </tr>\n",
       "    <tr>\n",
       "      <th>669</th>\n",
       "      <td>670</td>\n",
       "      <td>30</td>\n",
       "      <td>RL</td>\n",
       "      <td>80.0</td>\n",
       "      <td>11600</td>\n",
       "      <td>Pave</td>\n",
       "      <td>NaN</td>\n",
       "      <td>Reg</td>\n",
       "      <td>Lvl</td>\n",
       "      <td>AllPub</td>\n",
       "      <td>...</td>\n",
       "      <td>0</td>\n",
       "      <td>NaN</td>\n",
       "      <td>NaN</td>\n",
       "      <td>NaN</td>\n",
       "      <td>0</td>\n",
       "      <td>7</td>\n",
       "      <td>2006</td>\n",
       "      <td>WD</td>\n",
       "      <td>Normal</td>\n",
       "      <td>11.831379</td>\n",
       "    </tr>\n",
       "  </tbody>\n",
       "</table>\n",
       "<p>5 rows × 81 columns</p>\n",
       "</div>"
      ],
      "text/plain": [
       "      id  mssubclass mszoning  lotfrontage  lotarea street alley lotshape  \\\n",
       "907  908          50       RL         86.0    11500   Pave   NaN      IR1   \n",
       "782  783          20       RL         67.0    16285   Pave   NaN      IR2   \n",
       "952  953          85       RL         60.0     7200   Pave   NaN      Reg   \n",
       "620  621          30       RL         45.0     8248   Pave  Grvl      Reg   \n",
       "669  670          30       RL         80.0    11600   Pave   NaN      Reg   \n",
       "\n",
       "    landcontour utilities  ... poolarea poolqc  fence miscfeature miscval  \\\n",
       "907         Lvl    AllPub  ...        0    NaN    NaN         NaN       0   \n",
       "782         Lvl    AllPub  ...        0    NaN    NaN         NaN       0   \n",
       "952         Lvl    AllPub  ...        0    NaN  MnPrv         NaN       0   \n",
       "620         Lvl    AllPub  ...        0    NaN    NaN         NaN       0   \n",
       "669         Lvl    AllPub  ...        0    NaN    NaN         NaN       0   \n",
       "\n",
       "    mosold yrsold  saletype  salecondition      price  \n",
       "907      6   2006        WD         Normal  12.429216  \n",
       "782      6   2009        WD         Normal  12.139399  \n",
       "952      4   2009        WD         Normal  11.804849  \n",
       "620      9   2008        WD         Normal  11.112448  \n",
       "669      7   2006        WD         Normal  11.831379  \n",
       "\n",
       "[5 rows x 81 columns]"
      ]
     },
     "execution_count": 43,
     "metadata": {},
     "output_type": "execute_result"
    }
   ],
   "source": [
    "train.head()"
   ]
  },
  {
   "cell_type": "code",
   "execution_count": 44,
   "id": "f906ce28-1d87-4f44-bd4a-86c6ecba9a95",
   "metadata": {},
   "outputs": [],
   "source": [
    "train[features_na] = train[features_na].fillna('NA')"
   ]
  },
  {
   "cell_type": "code",
   "execution_count": 45,
   "id": "5fa3963b-2f3c-4c4d-b74a-1eca16c9afd0",
   "metadata": {},
   "outputs": [
    {
     "data": {
      "text/html": [
       "<div>\n",
       "<style scoped>\n",
       "    .dataframe tbody tr th:only-of-type {\n",
       "        vertical-align: middle;\n",
       "    }\n",
       "\n",
       "    .dataframe tbody tr th {\n",
       "        vertical-align: top;\n",
       "    }\n",
       "\n",
       "    .dataframe thead th {\n",
       "        text-align: right;\n",
       "    }\n",
       "</style>\n",
       "<table border=\"1\" class=\"dataframe\">\n",
       "  <thead>\n",
       "    <tr style=\"text-align: right;\">\n",
       "      <th></th>\n",
       "      <th>id</th>\n",
       "      <th>mssubclass</th>\n",
       "      <th>mszoning</th>\n",
       "      <th>lotfrontage</th>\n",
       "      <th>lotarea</th>\n",
       "      <th>street</th>\n",
       "      <th>alley</th>\n",
       "      <th>lotshape</th>\n",
       "      <th>landcontour</th>\n",
       "      <th>utilities</th>\n",
       "      <th>...</th>\n",
       "      <th>poolarea</th>\n",
       "      <th>poolqc</th>\n",
       "      <th>fence</th>\n",
       "      <th>miscfeature</th>\n",
       "      <th>miscval</th>\n",
       "      <th>mosold</th>\n",
       "      <th>yrsold</th>\n",
       "      <th>saletype</th>\n",
       "      <th>salecondition</th>\n",
       "      <th>price</th>\n",
       "    </tr>\n",
       "  </thead>\n",
       "  <tbody>\n",
       "    <tr>\n",
       "      <th>907</th>\n",
       "      <td>908</td>\n",
       "      <td>50</td>\n",
       "      <td>RL</td>\n",
       "      <td>86.0</td>\n",
       "      <td>11500</td>\n",
       "      <td>Pave</td>\n",
       "      <td>NA</td>\n",
       "      <td>IR1</td>\n",
       "      <td>Lvl</td>\n",
       "      <td>AllPub</td>\n",
       "      <td>...</td>\n",
       "      <td>0</td>\n",
       "      <td>NA</td>\n",
       "      <td>NA</td>\n",
       "      <td>NA</td>\n",
       "      <td>0</td>\n",
       "      <td>6</td>\n",
       "      <td>2006</td>\n",
       "      <td>WD</td>\n",
       "      <td>Normal</td>\n",
       "      <td>12.429216</td>\n",
       "    </tr>\n",
       "    <tr>\n",
       "      <th>782</th>\n",
       "      <td>783</td>\n",
       "      <td>20</td>\n",
       "      <td>RL</td>\n",
       "      <td>67.0</td>\n",
       "      <td>16285</td>\n",
       "      <td>Pave</td>\n",
       "      <td>NA</td>\n",
       "      <td>IR2</td>\n",
       "      <td>Lvl</td>\n",
       "      <td>AllPub</td>\n",
       "      <td>...</td>\n",
       "      <td>0</td>\n",
       "      <td>NA</td>\n",
       "      <td>NA</td>\n",
       "      <td>NA</td>\n",
       "      <td>0</td>\n",
       "      <td>6</td>\n",
       "      <td>2009</td>\n",
       "      <td>WD</td>\n",
       "      <td>Normal</td>\n",
       "      <td>12.139399</td>\n",
       "    </tr>\n",
       "    <tr>\n",
       "      <th>952</th>\n",
       "      <td>953</td>\n",
       "      <td>85</td>\n",
       "      <td>RL</td>\n",
       "      <td>60.0</td>\n",
       "      <td>7200</td>\n",
       "      <td>Pave</td>\n",
       "      <td>NA</td>\n",
       "      <td>Reg</td>\n",
       "      <td>Lvl</td>\n",
       "      <td>AllPub</td>\n",
       "      <td>...</td>\n",
       "      <td>0</td>\n",
       "      <td>NA</td>\n",
       "      <td>MnPrv</td>\n",
       "      <td>NA</td>\n",
       "      <td>0</td>\n",
       "      <td>4</td>\n",
       "      <td>2009</td>\n",
       "      <td>WD</td>\n",
       "      <td>Normal</td>\n",
       "      <td>11.804849</td>\n",
       "    </tr>\n",
       "    <tr>\n",
       "      <th>620</th>\n",
       "      <td>621</td>\n",
       "      <td>30</td>\n",
       "      <td>RL</td>\n",
       "      <td>45.0</td>\n",
       "      <td>8248</td>\n",
       "      <td>Pave</td>\n",
       "      <td>Grvl</td>\n",
       "      <td>Reg</td>\n",
       "      <td>Lvl</td>\n",
       "      <td>AllPub</td>\n",
       "      <td>...</td>\n",
       "      <td>0</td>\n",
       "      <td>NA</td>\n",
       "      <td>NA</td>\n",
       "      <td>NA</td>\n",
       "      <td>0</td>\n",
       "      <td>9</td>\n",
       "      <td>2008</td>\n",
       "      <td>WD</td>\n",
       "      <td>Normal</td>\n",
       "      <td>11.112448</td>\n",
       "    </tr>\n",
       "    <tr>\n",
       "      <th>669</th>\n",
       "      <td>670</td>\n",
       "      <td>30</td>\n",
       "      <td>RL</td>\n",
       "      <td>80.0</td>\n",
       "      <td>11600</td>\n",
       "      <td>Pave</td>\n",
       "      <td>NA</td>\n",
       "      <td>Reg</td>\n",
       "      <td>Lvl</td>\n",
       "      <td>AllPub</td>\n",
       "      <td>...</td>\n",
       "      <td>0</td>\n",
       "      <td>NA</td>\n",
       "      <td>NA</td>\n",
       "      <td>NA</td>\n",
       "      <td>0</td>\n",
       "      <td>7</td>\n",
       "      <td>2006</td>\n",
       "      <td>WD</td>\n",
       "      <td>Normal</td>\n",
       "      <td>11.831379</td>\n",
       "    </tr>\n",
       "  </tbody>\n",
       "</table>\n",
       "<p>5 rows × 81 columns</p>\n",
       "</div>"
      ],
      "text/plain": [
       "      id  mssubclass mszoning  lotfrontage  lotarea street alley lotshape  \\\n",
       "907  908          50       RL         86.0    11500   Pave    NA      IR1   \n",
       "782  783          20       RL         67.0    16285   Pave    NA      IR2   \n",
       "952  953          85       RL         60.0     7200   Pave    NA      Reg   \n",
       "620  621          30       RL         45.0     8248   Pave  Grvl      Reg   \n",
       "669  670          30       RL         80.0    11600   Pave    NA      Reg   \n",
       "\n",
       "    landcontour utilities  ... poolarea poolqc  fence miscfeature miscval  \\\n",
       "907         Lvl    AllPub  ...        0     NA     NA          NA       0   \n",
       "782         Lvl    AllPub  ...        0     NA     NA          NA       0   \n",
       "952         Lvl    AllPub  ...        0     NA  MnPrv          NA       0   \n",
       "620         Lvl    AllPub  ...        0     NA     NA          NA       0   \n",
       "669         Lvl    AllPub  ...        0     NA     NA          NA       0   \n",
       "\n",
       "    mosold yrsold  saletype  salecondition      price  \n",
       "907      6   2006        WD         Normal  12.429216  \n",
       "782      6   2009        WD         Normal  12.139399  \n",
       "952      4   2009        WD         Normal  11.804849  \n",
       "620      9   2008        WD         Normal  11.112448  \n",
       "669      7   2006        WD         Normal  11.831379  \n",
       "\n",
       "[5 rows x 81 columns]"
      ]
     },
     "execution_count": 45,
     "metadata": {},
     "output_type": "execute_result"
    }
   ],
   "source": [
    "train.head()"
   ]
  },
  {
   "cell_type": "code",
   "execution_count": 46,
   "id": "1eb20ed8-e867-458d-8984-42a8f2d745fb",
   "metadata": {},
   "outputs": [
    {
     "data": {
      "text/html": [
       "<div>\n",
       "<style scoped>\n",
       "    .dataframe tbody tr th:only-of-type {\n",
       "        vertical-align: middle;\n",
       "    }\n",
       "\n",
       "    .dataframe tbody tr th {\n",
       "        vertical-align: top;\n",
       "    }\n",
       "\n",
       "    .dataframe thead th {\n",
       "        text-align: right;\n",
       "    }\n",
       "</style>\n",
       "<table border=\"1\" class=\"dataframe\">\n",
       "  <thead>\n",
       "    <tr style=\"text-align: right;\">\n",
       "      <th></th>\n",
       "      <th>Type</th>\n",
       "      <th>Count</th>\n",
       "      <th>Unique</th>\n",
       "      <th>NaN</th>\n",
       "      <th>Percentages</th>\n",
       "    </tr>\n",
       "  </thead>\n",
       "  <tbody>\n",
       "    <tr>\n",
       "      <th>electrical</th>\n",
       "      <td>object</td>\n",
       "      <td>1313</td>\n",
       "      <td>4</td>\n",
       "      <td>1</td>\n",
       "      <td>0</td>\n",
       "    </tr>\n",
       "    <tr>\n",
       "      <th>mszoning</th>\n",
       "      <td>object</td>\n",
       "      <td>1314</td>\n",
       "      <td>5</td>\n",
       "      <td>0</td>\n",
       "      <td>0</td>\n",
       "    </tr>\n",
       "    <tr>\n",
       "      <th>roofmatl</th>\n",
       "      <td>object</td>\n",
       "      <td>1314</td>\n",
       "      <td>8</td>\n",
       "      <td>0</td>\n",
       "      <td>0</td>\n",
       "    </tr>\n",
       "    <tr>\n",
       "      <th>saletype</th>\n",
       "      <td>object</td>\n",
       "      <td>1314</td>\n",
       "      <td>9</td>\n",
       "      <td>0</td>\n",
       "      <td>0</td>\n",
       "    </tr>\n",
       "    <tr>\n",
       "      <th>miscfeature</th>\n",
       "      <td>object</td>\n",
       "      <td>1314</td>\n",
       "      <td>5</td>\n",
       "      <td>0</td>\n",
       "      <td>0</td>\n",
       "    </tr>\n",
       "  </tbody>\n",
       "</table>\n",
       "</div>"
      ],
      "text/plain": [
       "               Type  Count  Unique  NaN  Percentages\n",
       "electrical   object   1313       4    1            0\n",
       "mszoning     object   1314       5    0            0\n",
       "roofmatl     object   1314       8    0            0\n",
       "saletype     object   1314       9    0            0\n",
       "miscfeature  object   1314       5    0            0"
      ]
     },
     "execution_count": 46,
     "metadata": {},
     "output_type": "execute_result"
    }
   ],
   "source": [
    "data_describe(train[categorical]).head()"
   ]
  },
  {
   "cell_type": "markdown",
   "id": "71edcca4-fbb5-491f-8095-1e67d8695761",
   "metadata": {},
   "source": [
    "#### Categorical Imputation\n",
    "\n",
    "Most frequent. <br>\n",
    "The only NaN value of 'electrical' variable is filled by the most frequent value"
   ]
  },
  {
   "cell_type": "code",
   "execution_count": 47,
   "id": "2ae64f36-5204-4b17-a6ce-110cb86d1805",
   "metadata": {
    "tags": []
   },
   "outputs": [],
   "source": [
    "imputer_frequent = CategoricalImputer(\n",
    "    imputation_method='frequent',\n",
    "    variables=categorical\n",
    ")"
   ]
  },
  {
   "cell_type": "code",
   "execution_count": 48,
   "id": "abcb3776-88ec-4eb6-8319-f3a2a9c61143",
   "metadata": {
    "tags": []
   },
   "outputs": [
    {
     "data": {
      "text/html": [
       "<style>#sk-container-id-1 {color: black;}#sk-container-id-1 pre{padding: 0;}#sk-container-id-1 div.sk-toggleable {background-color: white;}#sk-container-id-1 label.sk-toggleable__label {cursor: pointer;display: block;width: 100%;margin-bottom: 0;padding: 0.3em;box-sizing: border-box;text-align: center;}#sk-container-id-1 label.sk-toggleable__label-arrow:before {content: \"▸\";float: left;margin-right: 0.25em;color: #696969;}#sk-container-id-1 label.sk-toggleable__label-arrow:hover:before {color: black;}#sk-container-id-1 div.sk-estimator:hover label.sk-toggleable__label-arrow:before {color: black;}#sk-container-id-1 div.sk-toggleable__content {max-height: 0;max-width: 0;overflow: hidden;text-align: left;background-color: #f0f8ff;}#sk-container-id-1 div.sk-toggleable__content pre {margin: 0.2em;color: black;border-radius: 0.25em;background-color: #f0f8ff;}#sk-container-id-1 input.sk-toggleable__control:checked~div.sk-toggleable__content {max-height: 200px;max-width: 100%;overflow: auto;}#sk-container-id-1 input.sk-toggleable__control:checked~label.sk-toggleable__label-arrow:before {content: \"▾\";}#sk-container-id-1 div.sk-estimator input.sk-toggleable__control:checked~label.sk-toggleable__label {background-color: #d4ebff;}#sk-container-id-1 div.sk-label input.sk-toggleable__control:checked~label.sk-toggleable__label {background-color: #d4ebff;}#sk-container-id-1 input.sk-hidden--visually {border: 0;clip: rect(1px 1px 1px 1px);clip: rect(1px, 1px, 1px, 1px);height: 1px;margin: -1px;overflow: hidden;padding: 0;position: absolute;width: 1px;}#sk-container-id-1 div.sk-estimator {font-family: monospace;background-color: #f0f8ff;border: 1px dotted black;border-radius: 0.25em;box-sizing: border-box;margin-bottom: 0.5em;}#sk-container-id-1 div.sk-estimator:hover {background-color: #d4ebff;}#sk-container-id-1 div.sk-parallel-item::after {content: \"\";width: 100%;border-bottom: 1px solid gray;flex-grow: 1;}#sk-container-id-1 div.sk-label:hover label.sk-toggleable__label {background-color: #d4ebff;}#sk-container-id-1 div.sk-serial::before {content: \"\";position: absolute;border-left: 1px solid gray;box-sizing: border-box;top: 0;bottom: 0;left: 50%;z-index: 0;}#sk-container-id-1 div.sk-serial {display: flex;flex-direction: column;align-items: center;background-color: white;padding-right: 0.2em;padding-left: 0.2em;position: relative;}#sk-container-id-1 div.sk-item {position: relative;z-index: 1;}#sk-container-id-1 div.sk-parallel {display: flex;align-items: stretch;justify-content: center;background-color: white;position: relative;}#sk-container-id-1 div.sk-item::before, #sk-container-id-1 div.sk-parallel-item::before {content: \"\";position: absolute;border-left: 1px solid gray;box-sizing: border-box;top: 0;bottom: 0;left: 50%;z-index: -1;}#sk-container-id-1 div.sk-parallel-item {display: flex;flex-direction: column;z-index: 1;position: relative;background-color: white;}#sk-container-id-1 div.sk-parallel-item:first-child::after {align-self: flex-end;width: 50%;}#sk-container-id-1 div.sk-parallel-item:last-child::after {align-self: flex-start;width: 50%;}#sk-container-id-1 div.sk-parallel-item:only-child::after {width: 0;}#sk-container-id-1 div.sk-dashed-wrapped {border: 1px dashed gray;margin: 0 0.4em 0.5em 0.4em;box-sizing: border-box;padding-bottom: 0.4em;background-color: white;}#sk-container-id-1 div.sk-label label {font-family: monospace;font-weight: bold;display: inline-block;line-height: 1.2em;}#sk-container-id-1 div.sk-label-container {text-align: center;}#sk-container-id-1 div.sk-container {/* jupyter's `normalize.less` sets `[hidden] { display: none; }` but bootstrap.min.css set `[hidden] { display: none !important; }` so we also need the `!important` here to be able to override the default hidden behavior on the sphinx rendered scikit-learn.org. See: https://github.com/scikit-learn/scikit-learn/issues/21755 */display: inline-block !important;position: relative;}#sk-container-id-1 div.sk-text-repr-fallback {display: none;}</style><div id=\"sk-container-id-1\" class=\"sk-top-container\"><div class=\"sk-text-repr-fallback\"><pre>CategoricalImputer(imputation_method=&#x27;frequent&#x27;,\n",
       "                   variables=[&#x27;mszoning&#x27;, &#x27;street&#x27;, &#x27;alley&#x27;, &#x27;lotshape&#x27;,\n",
       "                              &#x27;landcontour&#x27;, &#x27;utilities&#x27;, &#x27;lotconfig&#x27;,\n",
       "                              &#x27;landslope&#x27;, &#x27;neighborhood&#x27;, &#x27;condition_first&#x27;,\n",
       "                              &#x27;condition_second&#x27;, &#x27;bldgtype&#x27;, &#x27;housestyle&#x27;,\n",
       "                              &#x27;roofstyle&#x27;, &#x27;roofmatl&#x27;, &#x27;exterior_first&#x27;,\n",
       "                              &#x27;exterior_second&#x27;, &#x27;masvnrtype&#x27;, &#x27;foundation&#x27;,\n",
       "                              &#x27;heating&#x27;, &#x27;centralair&#x27;, &#x27;electrical&#x27;,\n",
       "                              &#x27;paveddrive&#x27;, &#x27;fence&#x27;, &#x27;miscfeature&#x27;, &#x27;saletype&#x27;,\n",
       "                              &#x27;salecondition&#x27;])</pre><b>In a Jupyter environment, please rerun this cell to show the HTML representation or trust the notebook. <br />On GitHub, the HTML representation is unable to render, please try loading this page with nbviewer.org.</b></div><div class=\"sk-container\" hidden><div class=\"sk-item\"><div class=\"sk-estimator sk-toggleable\"><input class=\"sk-toggleable__control sk-hidden--visually\" id=\"sk-estimator-id-1\" type=\"checkbox\" checked><label for=\"sk-estimator-id-1\" class=\"sk-toggleable__label sk-toggleable__label-arrow\">CategoricalImputer</label><div class=\"sk-toggleable__content\"><pre>CategoricalImputer(imputation_method=&#x27;frequent&#x27;,\n",
       "                   variables=[&#x27;mszoning&#x27;, &#x27;street&#x27;, &#x27;alley&#x27;, &#x27;lotshape&#x27;,\n",
       "                              &#x27;landcontour&#x27;, &#x27;utilities&#x27;, &#x27;lotconfig&#x27;,\n",
       "                              &#x27;landslope&#x27;, &#x27;neighborhood&#x27;, &#x27;condition_first&#x27;,\n",
       "                              &#x27;condition_second&#x27;, &#x27;bldgtype&#x27;, &#x27;housestyle&#x27;,\n",
       "                              &#x27;roofstyle&#x27;, &#x27;roofmatl&#x27;, &#x27;exterior_first&#x27;,\n",
       "                              &#x27;exterior_second&#x27;, &#x27;masvnrtype&#x27;, &#x27;foundation&#x27;,\n",
       "                              &#x27;heating&#x27;, &#x27;centralair&#x27;, &#x27;electrical&#x27;,\n",
       "                              &#x27;paveddrive&#x27;, &#x27;fence&#x27;, &#x27;miscfeature&#x27;, &#x27;saletype&#x27;,\n",
       "                              &#x27;salecondition&#x27;])</pre></div></div></div></div></div>"
      ],
      "text/plain": [
       "CategoricalImputer(imputation_method='frequent',\n",
       "                   variables=['mszoning', 'street', 'alley', 'lotshape',\n",
       "                              'landcontour', 'utilities', 'lotconfig',\n",
       "                              'landslope', 'neighborhood', 'condition_first',\n",
       "                              'condition_second', 'bldgtype', 'housestyle',\n",
       "                              'roofstyle', 'roofmatl', 'exterior_first',\n",
       "                              'exterior_second', 'masvnrtype', 'foundation',\n",
       "                              'heating', 'centralair', 'electrical',\n",
       "                              'paveddrive', 'fence', 'miscfeature', 'saletype',\n",
       "                              'salecondition'])"
      ]
     },
     "execution_count": 48,
     "metadata": {},
     "output_type": "execute_result"
    }
   ],
   "source": [
    "imputer_frequent.fit(train)"
   ]
  },
  {
   "cell_type": "code",
   "execution_count": 49,
   "id": "e765e5fd-ab19-4806-bd4d-f3cc6c77c51d",
   "metadata": {
    "tags": []
   },
   "outputs": [],
   "source": [
    "train = imputer_frequent.transform(train)"
   ]
  },
  {
   "cell_type": "code",
   "execution_count": 50,
   "id": "bb0e4077-bed6-48cc-b95b-ff2eb128b2da",
   "metadata": {
    "tags": []
   },
   "outputs": [
    {
     "data": {
      "text/html": [
       "<div>\n",
       "<style scoped>\n",
       "    .dataframe tbody tr th:only-of-type {\n",
       "        vertical-align: middle;\n",
       "    }\n",
       "\n",
       "    .dataframe tbody tr th {\n",
       "        vertical-align: top;\n",
       "    }\n",
       "\n",
       "    .dataframe thead th {\n",
       "        text-align: right;\n",
       "    }\n",
       "</style>\n",
       "<table border=\"1\" class=\"dataframe\">\n",
       "  <thead>\n",
       "    <tr style=\"text-align: right;\">\n",
       "      <th></th>\n",
       "      <th>Type</th>\n",
       "      <th>Count</th>\n",
       "      <th>Unique</th>\n",
       "      <th>NaN</th>\n",
       "      <th>Percentages</th>\n",
       "    </tr>\n",
       "  </thead>\n",
       "  <tbody>\n",
       "    <tr>\n",
       "      <th>mszoning</th>\n",
       "      <td>object</td>\n",
       "      <td>1314</td>\n",
       "      <td>5</td>\n",
       "      <td>0</td>\n",
       "      <td>0</td>\n",
       "    </tr>\n",
       "    <tr>\n",
       "      <th>roofmatl</th>\n",
       "      <td>object</td>\n",
       "      <td>1314</td>\n",
       "      <td>8</td>\n",
       "      <td>0</td>\n",
       "      <td>0</td>\n",
       "    </tr>\n",
       "    <tr>\n",
       "      <th>saletype</th>\n",
       "      <td>object</td>\n",
       "      <td>1314</td>\n",
       "      <td>9</td>\n",
       "      <td>0</td>\n",
       "      <td>0</td>\n",
       "    </tr>\n",
       "    <tr>\n",
       "      <th>miscfeature</th>\n",
       "      <td>object</td>\n",
       "      <td>1314</td>\n",
       "      <td>5</td>\n",
       "      <td>0</td>\n",
       "      <td>0</td>\n",
       "    </tr>\n",
       "    <tr>\n",
       "      <th>fence</th>\n",
       "      <td>object</td>\n",
       "      <td>1314</td>\n",
       "      <td>5</td>\n",
       "      <td>0</td>\n",
       "      <td>0</td>\n",
       "    </tr>\n",
       "  </tbody>\n",
       "</table>\n",
       "</div>"
      ],
      "text/plain": [
       "               Type  Count  Unique  NaN  Percentages\n",
       "mszoning     object   1314       5    0            0\n",
       "roofmatl     object   1314       8    0            0\n",
       "saletype     object   1314       9    0            0\n",
       "miscfeature  object   1314       5    0            0\n",
       "fence        object   1314       5    0            0"
      ]
     },
     "execution_count": 50,
     "metadata": {},
     "output_type": "execute_result"
    }
   ],
   "source": [
    "data_describe(train[categorical]).head(5)"
   ]
  },
  {
   "cell_type": "code",
   "execution_count": 51,
   "id": "eaab1621-6650-4536-8e2b-017859efe4ca",
   "metadata": {},
   "outputs": [
    {
     "data": {
      "text/plain": [
       "False"
      ]
     },
     "execution_count": 51,
     "metadata": {},
     "output_type": "execute_result"
    }
   ],
   "source": [
    "train[categorical].isna().values.any()"
   ]
  },
  {
   "cell_type": "markdown",
   "id": "e7073899-83db-4cc9-b8e1-337a703d0f7a",
   "metadata": {},
   "source": [
    "### Quantitative variables"
   ]
  },
  {
   "cell_type": "code",
   "execution_count": 52,
   "id": "6ce9b0d3-5333-48e1-a880-27b04b033ffc",
   "metadata": {
    "executionInfo": {
     "elapsed": 46,
     "status": "aborted",
     "timestamp": 1675237549582,
     "user": {
      "displayName": "Alexander Chasovsky",
      "userId": "02150901659695146649"
     },
     "user_tz": -180
    },
    "id": "d22dd4c7-b6e3-4afe-99eb-5af1e805cf81"
   },
   "outputs": [
    {
     "data": {
      "text/html": [
       "<div>\n",
       "<style scoped>\n",
       "    .dataframe tbody tr th:only-of-type {\n",
       "        vertical-align: middle;\n",
       "    }\n",
       "\n",
       "    .dataframe tbody tr th {\n",
       "        vertical-align: top;\n",
       "    }\n",
       "\n",
       "    .dataframe thead th {\n",
       "        text-align: right;\n",
       "    }\n",
       "</style>\n",
       "<table border=\"1\" class=\"dataframe\">\n",
       "  <thead>\n",
       "    <tr style=\"text-align: right;\">\n",
       "      <th></th>\n",
       "      <th>Type</th>\n",
       "      <th>Count</th>\n",
       "      <th>Unique</th>\n",
       "      <th>NaN</th>\n",
       "      <th>Percentages</th>\n",
       "    </tr>\n",
       "  </thead>\n",
       "  <tbody>\n",
       "    <tr>\n",
       "      <th>lotfrontage</th>\n",
       "      <td>float64</td>\n",
       "      <td>1077</td>\n",
       "      <td>108</td>\n",
       "      <td>237</td>\n",
       "      <td>18</td>\n",
       "    </tr>\n",
       "    <tr>\n",
       "      <th>garageyrblt</th>\n",
       "      <td>float64</td>\n",
       "      <td>1241</td>\n",
       "      <td>95</td>\n",
       "      <td>73</td>\n",
       "      <td>6</td>\n",
       "    </tr>\n",
       "    <tr>\n",
       "      <th>masvnrarea</th>\n",
       "      <td>float64</td>\n",
       "      <td>1306</td>\n",
       "      <td>306</td>\n",
       "      <td>8</td>\n",
       "      <td>1</td>\n",
       "    </tr>\n",
       "    <tr>\n",
       "      <th>wooddecksf</th>\n",
       "      <td>int64</td>\n",
       "      <td>1314</td>\n",
       "      <td>260</td>\n",
       "      <td>0</td>\n",
       "      <td>0</td>\n",
       "    </tr>\n",
       "    <tr>\n",
       "      <th>kitchenabvgr</th>\n",
       "      <td>int64</td>\n",
       "      <td>1314</td>\n",
       "      <td>4</td>\n",
       "      <td>0</td>\n",
       "      <td>0</td>\n",
       "    </tr>\n",
       "  </tbody>\n",
       "</table>\n",
       "</div>"
      ],
      "text/plain": [
       "                 Type  Count  Unique  NaN  Percentages\n",
       "lotfrontage   float64   1077     108  237           18\n",
       "garageyrblt   float64   1241      95   73            6\n",
       "masvnrarea    float64   1306     306    8            1\n",
       "wooddecksf      int64   1314     260    0            0\n",
       "kitchenabvgr    int64   1314       4    0            0"
      ]
     },
     "execution_count": 52,
     "metadata": {},
     "output_type": "execute_result"
    }
   ],
   "source": [
    "data_describe(train[numeric]).head(5)"
   ]
  },
  {
   "cell_type": "markdown",
   "id": "66236a8d-1a9c-4688-9a43-7b558ecd876d",
   "metadata": {},
   "source": [
    "#### 'garageyrblt' \n",
    "\n",
    "Filling NaN values by 'yearbuilt' value"
   ]
  },
  {
   "cell_type": "code",
   "execution_count": 53,
   "id": "fc39c81b-e175-4109-a1fd-69d749e0b370",
   "metadata": {},
   "outputs": [
    {
     "data": {
      "image/png": "[encoded data removed]",
      "text/plain": [
       "<Figure size 800x250 with 1 Axes>"
      ]
     },
     "metadata": {},
     "output_type": "display_data"
    }
   ],
   "source": [
    "sns.histplot(train['garageyrblt'], bins=50);"
   ]
  },
  {
   "cell_type": "code",
   "execution_count": 54,
   "id": "d240de8e-f41a-4a72-9878-33f929543eda",
   "metadata": {},
   "outputs": [],
   "source": [
    "garage_fill = train.loc[train['garageyrblt'].isna(), 'yearbuilt']"
   ]
  },
  {
   "cell_type": "code",
   "execution_count": 55,
   "id": "4f59521c-c019-4e35-a659-2a4d7e40650f",
   "metadata": {},
   "outputs": [],
   "source": [
    "loc = train['garageyrblt'].isna(), 'garageyrblt'\n",
    "train.loc[loc] = train.loc[loc].fillna(garage_fill)"
   ]
  },
  {
   "cell_type": "code",
   "execution_count": 56,
   "id": "4c8befe3-2234-4022-871d-b990082b11e8",
   "metadata": {},
   "outputs": [
    {
     "data": {
      "image/png": "[encoded data removed]",
      "text/plain": [
       "<Figure size 800x250 with 1 Axes>"
      ]
     },
     "metadata": {},
     "output_type": "display_data"
    }
   ],
   "source": [
    "sns.histplot(\n",
    "    data=train, x='garageyrblt',\n",
    "    hue='garagetype', bins=50\n",
    ");\n",
    "plt.legend(\n",
    "    labels = train['garagetype'].unique(),\n",
    "    loc='upper right', bbox_to_anchor=(1.2, 1),\n",
    "    prop={'size': 9}, labelcolor='0.3' \n",
    ")\n",
    "plt.show()"
   ]
  },
  {
   "cell_type": "markdown",
   "id": "3541d55a-2313-481e-8816-ec17b9fd71bc",
   "metadata": {},
   "source": [
    "#### 'lotfrontage'\n",
    "\n",
    "1. Check is there dependency between 'lotfrontage'==NaN and target\n",
    "\n",
    "**Results:** \n",
    "1. no dependency **-->** mean imputation\n",
    "2. Additional: detected two potential outliers (idxs: 934, 1298)"
   ]
  },
  {
   "cell_type": "code",
   "execution_count": 57,
   "id": "e9c1e656-5739-4924-9949-6bae116dbe9e",
   "metadata": {},
   "outputs": [
    {
     "data": {
      "image/png": "[encoded data removed]",
      "text/plain": [
       "<Figure size 800x250 with 1 Axes>"
      ]
     },
     "metadata": {},
     "output_type": "display_data"
    }
   ],
   "source": [
    "train['lotfrontage'].hist(bins=50);"
   ]
  },
  {
   "cell_type": "code",
   "execution_count": 58,
   "id": "ac12d565-ead1-4c23-b00a-2db61e5a3d5e",
   "metadata": {},
   "outputs": [
    {
     "data": {
      "text/plain": [
       "lotfrontage    1.000000\n",
       "first_flrsf    0.453377\n",
       "lotarea        0.416208\n",
       "grlivarea      0.391220\n",
       "mssubclass    -0.388721\n",
       "Name: lotfrontage, dtype: float64"
      ]
     },
     "execution_count": 58,
     "metadata": {},
     "output_type": "execute_result"
    }
   ],
   "source": [
    "(train[numeric]\n",
    " .corr()\n",
    " .loc['lotfrontage']\n",
    " .sort_values(ascending=False, key=abs)\n",
    " .head())"
   ]
  },
  {
   "cell_type": "code",
   "execution_count": 59,
   "id": "e471eb7e-52e3-4e9b-8e77-351c907d255e",
   "metadata": {},
   "outputs": [
    {
     "data": {
      "image/png": "[encoded data removed]",
      "text/plain": [
       "<Figure size 800x250 with 1 Axes>"
      ]
     },
     "metadata": {},
     "output_type": "display_data"
    },
    {
     "name": "stdout",
     "output_type": "stream",
     "text": [
      "Image 'lotfrontage_nans.svg' successfully saved into 'img/Section1-Overview-and-Base-model' directory\n"
     ]
    }
   ],
   "source": [
    "# lotfrontage NaNs range in 'price' variable\n",
    "fig = plt.figure()\n",
    "sns.scatterplot(\n",
    "    data=train,\n",
    "    x='id',\n",
    "    y=target,\n",
    "    color=palette[0]\n",
    ")\n",
    "loc_r = train['lotfrontage'].isna()\n",
    "sns.scatterplot(\n",
    "    data=train.loc[loc_r],\n",
    "    y='price',\n",
    "    x=train.loc[loc_r, 'id'].values,\n",
    "    color=palette[1]\n",
    ")\n",
    "plt.xlabel(str.capitalize('id'))\n",
    "plt.ylabel(str.capitalize('price'))\n",
    "plt.show()\n",
    "\n",
    "savefig('lotfrontage_nans', dir_save)"
   ]
  },
  {
   "cell_type": "code",
   "execution_count": 60,
   "id": "7e062a87-b7d6-4faf-9935-fba943601504",
   "metadata": {},
   "outputs": [
    {
     "data": {
      "image/png": "[encoded data removed]",
      "text/plain": [
       "<Figure size 800x250 with 1 Axes>"
      ]
     },
     "metadata": {},
     "output_type": "display_data"
    },
    {
     "name": "stdout",
     "output_type": "stream",
     "text": [
      "Image 'lotfrontage_outs.svg' successfully saved into 'img/Section1-Overview-and-Base-model' directory\n"
     ]
    }
   ],
   "source": [
    "fig = plt.figure()\n",
    "\n",
    "sns.scatterplot(\n",
    "    data=train, x='lotfrontage', y=target)\n",
    "\n",
    "sns.scatterplot(\n",
    "    data=train.loc[train['lotfrontage']>250, ['lotfrontage', target]],\n",
    "    x='lotfrontage',\n",
    "    y=target,\n",
    "    s=20,\n",
    "    color=palette[1])\n",
    "\n",
    "plt.xlabel('Lotfrontage')\n",
    "plt.ylabel('Price')\n",
    "plt.title('Street connected to property vs Price')\n",
    "axis_rstyle(\n",
    "    y_ticks=[10, 14, 0.5],\n",
    "    x_ticks=[0, 350, 50],\n",
    "    grid=False\n",
    ")\n",
    "plt.show()\n",
    "\n",
    "savefig('lotfrontage_outs', dir_save)"
   ]
  },
  {
   "cell_type": "code",
   "execution_count": 61,
   "id": "a3d0ad57-9ee6-4b7f-a670-38ad1c809ac7",
   "metadata": {},
   "outputs": [
    {
     "data": {
      "text/html": [
       "<div>\n",
       "<style scoped>\n",
       "    .dataframe tbody tr th:only-of-type {\n",
       "        vertical-align: middle;\n",
       "    }\n",
       "\n",
       "    .dataframe tbody tr th {\n",
       "        vertical-align: top;\n",
       "    }\n",
       "\n",
       "    .dataframe thead th {\n",
       "        text-align: right;\n",
       "    }\n",
       "</style>\n",
       "<table border=\"1\" class=\"dataframe\">\n",
       "  <thead>\n",
       "    <tr style=\"text-align: right;\">\n",
       "      <th></th>\n",
       "      <th>id</th>\n",
       "      <th>mssubclass</th>\n",
       "      <th>mszoning</th>\n",
       "      <th>lotfrontage</th>\n",
       "      <th>lotarea</th>\n",
       "      <th>street</th>\n",
       "      <th>alley</th>\n",
       "      <th>lotshape</th>\n",
       "      <th>landcontour</th>\n",
       "      <th>utilities</th>\n",
       "      <th>...</th>\n",
       "      <th>poolarea</th>\n",
       "      <th>poolqc</th>\n",
       "      <th>fence</th>\n",
       "      <th>miscfeature</th>\n",
       "      <th>miscval</th>\n",
       "      <th>mosold</th>\n",
       "      <th>yrsold</th>\n",
       "      <th>saletype</th>\n",
       "      <th>salecondition</th>\n",
       "      <th>price</th>\n",
       "    </tr>\n",
       "  </thead>\n",
       "  <tbody>\n",
       "    <tr>\n",
       "      <th>1298</th>\n",
       "      <td>1299</td>\n",
       "      <td>60</td>\n",
       "      <td>RL</td>\n",
       "      <td>313.0</td>\n",
       "      <td>63887</td>\n",
       "      <td>Pave</td>\n",
       "      <td>NA</td>\n",
       "      <td>IR3</td>\n",
       "      <td>Bnk</td>\n",
       "      <td>AllPub</td>\n",
       "      <td>...</td>\n",
       "      <td>480</td>\n",
       "      <td>Gd</td>\n",
       "      <td>NA</td>\n",
       "      <td>NA</td>\n",
       "      <td>0</td>\n",
       "      <td>1</td>\n",
       "      <td>2008</td>\n",
       "      <td>New</td>\n",
       "      <td>Partial</td>\n",
       "      <td>11.982929</td>\n",
       "    </tr>\n",
       "    <tr>\n",
       "      <th>934</th>\n",
       "      <td>935</td>\n",
       "      <td>20</td>\n",
       "      <td>RL</td>\n",
       "      <td>313.0</td>\n",
       "      <td>27650</td>\n",
       "      <td>Pave</td>\n",
       "      <td>NA</td>\n",
       "      <td>IR2</td>\n",
       "      <td>HLS</td>\n",
       "      <td>AllPub</td>\n",
       "      <td>...</td>\n",
       "      <td>0</td>\n",
       "      <td>NA</td>\n",
       "      <td>NA</td>\n",
       "      <td>NA</td>\n",
       "      <td>0</td>\n",
       "      <td>11</td>\n",
       "      <td>2008</td>\n",
       "      <td>WD</td>\n",
       "      <td>Normal</td>\n",
       "      <td>12.396693</td>\n",
       "    </tr>\n",
       "  </tbody>\n",
       "</table>\n",
       "<p>2 rows × 81 columns</p>\n",
       "</div>"
      ],
      "text/plain": [
       "        id  mssubclass mszoning  lotfrontage  lotarea street alley lotshape  \\\n",
       "1298  1299          60       RL        313.0    63887   Pave    NA      IR3   \n",
       "934    935          20       RL        313.0    27650   Pave    NA      IR2   \n",
       "\n",
       "     landcontour utilities  ... poolarea poolqc fence miscfeature miscval  \\\n",
       "1298         Bnk    AllPub  ...      480     Gd    NA          NA       0   \n",
       "934          HLS    AllPub  ...        0     NA    NA          NA       0   \n",
       "\n",
       "     mosold yrsold  saletype  salecondition      price  \n",
       "1298      1   2008       New        Partial  11.982929  \n",
       "934      11   2008        WD         Normal  12.396693  \n",
       "\n",
       "[2 rows x 81 columns]"
      ]
     },
     "execution_count": 61,
     "metadata": {},
     "output_type": "execute_result"
    }
   ],
   "source": [
    "train[train['lotfrontage']>250]"
   ]
  },
  {
   "cell_type": "markdown",
   "id": "ccb09def-9afe-421f-ac16-9f8acdf4840c",
   "metadata": {},
   "source": [
    "#### 'masvnrarea'\n",
    "\n",
    "Potential outliers (idx: 297)"
   ]
  },
  {
   "cell_type": "code",
   "execution_count": 62,
   "id": "fa5abd94-6c04-47d3-9a3a-f18d90e51b33",
   "metadata": {},
   "outputs": [],
   "source": [
    "masvnrarea_nan_idxs = train[train['masvnrarea'].isna()].index.tolist()"
   ]
  },
  {
   "cell_type": "code",
   "execution_count": 63,
   "id": "d8ac1a26-ad7c-4da8-a1e6-481b1a88c487",
   "metadata": {},
   "outputs": [
    {
     "data": {
      "text/plain": [
       "[529, 1243, 936, 973, 650, 1278, 234, 977]"
      ]
     },
     "execution_count": 63,
     "metadata": {},
     "output_type": "execute_result"
    }
   ],
   "source": [
    "masvnrarea_nan_idxs"
   ]
  },
  {
   "cell_type": "code",
   "execution_count": 64,
   "id": "a26c13be-25e2-4716-a914-bea92d76724d",
   "metadata": {},
   "outputs": [
    {
     "data": {
      "text/html": [
       "<div>\n",
       "<style scoped>\n",
       "    .dataframe tbody tr th:only-of-type {\n",
       "        vertical-align: middle;\n",
       "    }\n",
       "\n",
       "    .dataframe tbody tr th {\n",
       "        vertical-align: top;\n",
       "    }\n",
       "\n",
       "    .dataframe thead th {\n",
       "        text-align: right;\n",
       "    }\n",
       "</style>\n",
       "<table border=\"1\" class=\"dataframe\">\n",
       "  <thead>\n",
       "    <tr style=\"text-align: right;\">\n",
       "      <th></th>\n",
       "      <th>masvnrarea</th>\n",
       "      <th>masvnrtype</th>\n",
       "      <th>price</th>\n",
       "    </tr>\n",
       "  </thead>\n",
       "  <tbody>\n",
       "    <tr>\n",
       "      <th>529</th>\n",
       "      <td>NaN</td>\n",
       "      <td>NA</td>\n",
       "      <td>12.209188</td>\n",
       "    </tr>\n",
       "    <tr>\n",
       "      <th>1243</th>\n",
       "      <td>NaN</td>\n",
       "      <td>NA</td>\n",
       "      <td>13.049793</td>\n",
       "    </tr>\n",
       "    <tr>\n",
       "      <th>936</th>\n",
       "      <td>NaN</td>\n",
       "      <td>NA</td>\n",
       "      <td>12.127570</td>\n",
       "    </tr>\n",
       "    <tr>\n",
       "      <th>973</th>\n",
       "      <td>NaN</td>\n",
       "      <td>NA</td>\n",
       "      <td>12.111762</td>\n",
       "    </tr>\n",
       "    <tr>\n",
       "      <th>650</th>\n",
       "      <td>NaN</td>\n",
       "      <td>NA</td>\n",
       "      <td>12.235389</td>\n",
       "    </tr>\n",
       "    <tr>\n",
       "      <th>1278</th>\n",
       "      <td>NaN</td>\n",
       "      <td>NA</td>\n",
       "      <td>12.375815</td>\n",
       "    </tr>\n",
       "    <tr>\n",
       "      <th>234</th>\n",
       "      <td>NaN</td>\n",
       "      <td>NA</td>\n",
       "      <td>12.285346</td>\n",
       "    </tr>\n",
       "    <tr>\n",
       "      <th>977</th>\n",
       "      <td>NaN</td>\n",
       "      <td>NA</td>\n",
       "      <td>12.205573</td>\n",
       "    </tr>\n",
       "  </tbody>\n",
       "</table>\n",
       "</div>"
      ],
      "text/plain": [
       "      masvnrarea masvnrtype      price\n",
       "529          NaN         NA  12.209188\n",
       "1243         NaN         NA  13.049793\n",
       "936          NaN         NA  12.127570\n",
       "973          NaN         NA  12.111762\n",
       "650          NaN         NA  12.235389\n",
       "1278         NaN         NA  12.375815\n",
       "234          NaN         NA  12.285346\n",
       "977          NaN         NA  12.205573"
      ]
     },
     "execution_count": 64,
     "metadata": {},
     "output_type": "execute_result"
    }
   ],
   "source": [
    "train.loc[masvnrarea_nan_idxs, ['masvnrarea', 'masvnrtype', 'price']]"
   ]
  },
  {
   "cell_type": "code",
   "execution_count": 65,
   "id": "65e03201-30e2-4264-af88-9931b3a5cf11",
   "metadata": {},
   "outputs": [
    {
     "data": {
      "image/png": "[encoded data removed]",
      "text/plain": [
       "<Figure size 800x250 with 1 Axes>"
      ]
     },
     "metadata": {},
     "output_type": "display_data"
    }
   ],
   "source": [
    "sns.scatterplot(data=train, x='masvnrarea', y=target);"
   ]
  },
  {
   "cell_type": "code",
   "execution_count": 66,
   "id": "40736218-777f-41d5-a584-93a1f09d712d",
   "metadata": {},
   "outputs": [
    {
     "data": {
      "text/html": [
       "<div>\n",
       "<style scoped>\n",
       "    .dataframe tbody tr th:only-of-type {\n",
       "        vertical-align: middle;\n",
       "    }\n",
       "\n",
       "    .dataframe tbody tr th {\n",
       "        vertical-align: top;\n",
       "    }\n",
       "\n",
       "    .dataframe thead th {\n",
       "        text-align: right;\n",
       "    }\n",
       "</style>\n",
       "<table border=\"1\" class=\"dataframe\">\n",
       "  <thead>\n",
       "    <tr style=\"text-align: right;\">\n",
       "      <th></th>\n",
       "      <th>id</th>\n",
       "      <th>mssubclass</th>\n",
       "      <th>mszoning</th>\n",
       "      <th>lotfrontage</th>\n",
       "      <th>lotarea</th>\n",
       "      <th>street</th>\n",
       "      <th>alley</th>\n",
       "      <th>lotshape</th>\n",
       "      <th>landcontour</th>\n",
       "      <th>utilities</th>\n",
       "      <th>...</th>\n",
       "      <th>poolarea</th>\n",
       "      <th>poolqc</th>\n",
       "      <th>fence</th>\n",
       "      <th>miscfeature</th>\n",
       "      <th>miscval</th>\n",
       "      <th>mosold</th>\n",
       "      <th>yrsold</th>\n",
       "      <th>saletype</th>\n",
       "      <th>salecondition</th>\n",
       "      <th>price</th>\n",
       "    </tr>\n",
       "  </thead>\n",
       "  <tbody>\n",
       "    <tr>\n",
       "      <th>297</th>\n",
       "      <td>298</td>\n",
       "      <td>60</td>\n",
       "      <td>FV</td>\n",
       "      <td>66.0</td>\n",
       "      <td>7399</td>\n",
       "      <td>Pave</td>\n",
       "      <td>Pave</td>\n",
       "      <td>IR1</td>\n",
       "      <td>Lvl</td>\n",
       "      <td>AllPub</td>\n",
       "      <td>...</td>\n",
       "      <td>0</td>\n",
       "      <td>NA</td>\n",
       "      <td>NA</td>\n",
       "      <td>NA</td>\n",
       "      <td>0</td>\n",
       "      <td>6</td>\n",
       "      <td>2007</td>\n",
       "      <td>WD</td>\n",
       "      <td>Normal</td>\n",
       "      <td>12.384219</td>\n",
       "    </tr>\n",
       "  </tbody>\n",
       "</table>\n",
       "<p>1 rows × 81 columns</p>\n",
       "</div>"
      ],
      "text/plain": [
       "      id  mssubclass mszoning  lotfrontage  lotarea street alley lotshape  \\\n",
       "297  298          60       FV         66.0     7399   Pave  Pave      IR1   \n",
       "\n",
       "    landcontour utilities  ... poolarea poolqc fence miscfeature miscval  \\\n",
       "297         Lvl    AllPub  ...        0     NA    NA          NA       0   \n",
       "\n",
       "    mosold yrsold  saletype  salecondition      price  \n",
       "297      6   2007        WD         Normal  12.384219  \n",
       "\n",
       "[1 rows x 81 columns]"
      ]
     },
     "execution_count": 66,
     "metadata": {},
     "output_type": "execute_result"
    }
   ],
   "source": [
    "train[train['masvnrarea'] > 1400]"
   ]
  },
  {
   "cell_type": "code",
   "execution_count": 67,
   "id": "2a4f5a22-e4fb-4ab5-a483-6334b3913bd8",
   "metadata": {},
   "outputs": [],
   "source": [
    "train.loc[train['masvnrarea'].isna(), 'masvnrarea'] = 0"
   ]
  },
  {
   "cell_type": "markdown",
   "id": "f60f38eb-0c25-48d5-8c51-7a96133d8199",
   "metadata": {},
   "source": [
    "#### Quantitative Imputation \n",
    "\n",
    "Median"
   ]
  },
  {
   "cell_type": "code",
   "execution_count": 68,
   "id": "f11bdbe2-8ce5-45cd-8391-d8660d418900",
   "metadata": {
    "tags": []
   },
   "outputs": [],
   "source": [
    "imputer_median = MeanMedianImputer(\n",
    "    imputation_method='median',\n",
    "    variables=numeric\n",
    ")"
   ]
  },
  {
   "cell_type": "code",
   "execution_count": 69,
   "id": "ce92702d-d423-4b45-9256-fac86d286d1d",
   "metadata": {
    "tags": []
   },
   "outputs": [
    {
     "data": {
      "text/html": [
       "<style>#sk-container-id-2 {color: black;}#sk-container-id-2 pre{padding: 0;}#sk-container-id-2 div.sk-toggleable {background-color: white;}#sk-container-id-2 label.sk-toggleable__label {cursor: pointer;display: block;width: 100%;margin-bottom: 0;padding: 0.3em;box-sizing: border-box;text-align: center;}#sk-container-id-2 label.sk-toggleable__label-arrow:before {content: \"▸\";float: left;margin-right: 0.25em;color: #696969;}#sk-container-id-2 label.sk-toggleable__label-arrow:hover:before {color: black;}#sk-container-id-2 div.sk-estimator:hover label.sk-toggleable__label-arrow:before {color: black;}#sk-container-id-2 div.sk-toggleable__content {max-height: 0;max-width: 0;overflow: hidden;text-align: left;background-color: #f0f8ff;}#sk-container-id-2 div.sk-toggleable__content pre {margin: 0.2em;color: black;border-radius: 0.25em;background-color: #f0f8ff;}#sk-container-id-2 input.sk-toggleable__control:checked~div.sk-toggleable__content {max-height: 200px;max-width: 100%;overflow: auto;}#sk-container-id-2 input.sk-toggleable__control:checked~label.sk-toggleable__label-arrow:before {content: \"▾\";}#sk-container-id-2 div.sk-estimator input.sk-toggleable__control:checked~label.sk-toggleable__label {background-color: #d4ebff;}#sk-container-id-2 div.sk-label input.sk-toggleable__control:checked~label.sk-toggleable__label {background-color: #d4ebff;}#sk-container-id-2 input.sk-hidden--visually {border: 0;clip: rect(1px 1px 1px 1px);clip: rect(1px, 1px, 1px, 1px);height: 1px;margin: -1px;overflow: hidden;padding: 0;position: absolute;width: 1px;}#sk-container-id-2 div.sk-estimator {font-family: monospace;background-color: #f0f8ff;border: 1px dotted black;border-radius: 0.25em;box-sizing: border-box;margin-bottom: 0.5em;}#sk-container-id-2 div.sk-estimator:hover {background-color: #d4ebff;}#sk-container-id-2 div.sk-parallel-item::after {content: \"\";width: 100%;border-bottom: 1px solid gray;flex-grow: 1;}#sk-container-id-2 div.sk-label:hover label.sk-toggleable__label {background-color: #d4ebff;}#sk-container-id-2 div.sk-serial::before {content: \"\";position: absolute;border-left: 1px solid gray;box-sizing: border-box;top: 0;bottom: 0;left: 50%;z-index: 0;}#sk-container-id-2 div.sk-serial {display: flex;flex-direction: column;align-items: center;background-color: white;padding-right: 0.2em;padding-left: 0.2em;position: relative;}#sk-container-id-2 div.sk-item {position: relative;z-index: 1;}#sk-container-id-2 div.sk-parallel {display: flex;align-items: stretch;justify-content: center;background-color: white;position: relative;}#sk-container-id-2 div.sk-item::before, #sk-container-id-2 div.sk-parallel-item::before {content: \"\";position: absolute;border-left: 1px solid gray;box-sizing: border-box;top: 0;bottom: 0;left: 50%;z-index: -1;}#sk-container-id-2 div.sk-parallel-item {display: flex;flex-direction: column;z-index: 1;position: relative;background-color: white;}#sk-container-id-2 div.sk-parallel-item:first-child::after {align-self: flex-end;width: 50%;}#sk-container-id-2 div.sk-parallel-item:last-child::after {align-self: flex-start;width: 50%;}#sk-container-id-2 div.sk-parallel-item:only-child::after {width: 0;}#sk-container-id-2 div.sk-dashed-wrapped {border: 1px dashed gray;margin: 0 0.4em 0.5em 0.4em;box-sizing: border-box;padding-bottom: 0.4em;background-color: white;}#sk-container-id-2 div.sk-label label {font-family: monospace;font-weight: bold;display: inline-block;line-height: 1.2em;}#sk-container-id-2 div.sk-label-container {text-align: center;}#sk-container-id-2 div.sk-container {/* jupyter's `normalize.less` sets `[hidden] { display: none; }` but bootstrap.min.css set `[hidden] { display: none !important; }` so we also need the `!important` here to be able to override the default hidden behavior on the sphinx rendered scikit-learn.org. See: https://github.com/scikit-learn/scikit-learn/issues/21755 */display: inline-block !important;position: relative;}#sk-container-id-2 div.sk-text-repr-fallback {display: none;}</style><div id=\"sk-container-id-2\" class=\"sk-top-container\"><div class=\"sk-text-repr-fallback\"><pre>MeanMedianImputer(variables=[&#x27;mssubclass&#x27;, &#x27;lotfrontage&#x27;, &#x27;lotarea&#x27;,\n",
       "                             &#x27;yearbuilt&#x27;, &#x27;yearremodadd&#x27;, &#x27;masvnrarea&#x27;,\n",
       "                             &#x27;bsmtfinsf_first&#x27;, &#x27;bsmtfinsf_second&#x27;, &#x27;bsmtunfsf&#x27;,\n",
       "                             &#x27;totalbsmtsf&#x27;, &#x27;first_flrsf&#x27;, &#x27;second_flrsf&#x27;,\n",
       "                             &#x27;lowqualfinsf&#x27;, &#x27;grlivarea&#x27;, &#x27;bsmtfullbath&#x27;,\n",
       "                             &#x27;bsmthalfbath&#x27;, &#x27;fullbath&#x27;, &#x27;halfbath&#x27;,\n",
       "                             &#x27;bedroomabvgr&#x27;, &#x27;kitchenabvgr&#x27;, &#x27;totrmsabvgrd&#x27;,\n",
       "                             &#x27;fireplaces&#x27;, &#x27;garageyrblt&#x27;, &#x27;garagecars&#x27;,\n",
       "                             &#x27;garagearea&#x27;, &#x27;wooddecksf&#x27;, &#x27;openporchsf&#x27;,\n",
       "                             &#x27;enclosedporch&#x27;, &#x27;three_ssnporch&#x27;, &#x27;screenporch&#x27;, ...])</pre><b>In a Jupyter environment, please rerun this cell to show the HTML representation or trust the notebook. <br />On GitHub, the HTML representation is unable to render, please try loading this page with nbviewer.org.</b></div><div class=\"sk-container\" hidden><div class=\"sk-item\"><div class=\"sk-estimator sk-toggleable\"><input class=\"sk-toggleable__control sk-hidden--visually\" id=\"sk-estimator-id-2\" type=\"checkbox\" checked><label for=\"sk-estimator-id-2\" class=\"sk-toggleable__label sk-toggleable__label-arrow\">MeanMedianImputer</label><div class=\"sk-toggleable__content\"><pre>MeanMedianImputer(variables=[&#x27;mssubclass&#x27;, &#x27;lotfrontage&#x27;, &#x27;lotarea&#x27;,\n",
       "                             &#x27;yearbuilt&#x27;, &#x27;yearremodadd&#x27;, &#x27;masvnrarea&#x27;,\n",
       "                             &#x27;bsmtfinsf_first&#x27;, &#x27;bsmtfinsf_second&#x27;, &#x27;bsmtunfsf&#x27;,\n",
       "                             &#x27;totalbsmtsf&#x27;, &#x27;first_flrsf&#x27;, &#x27;second_flrsf&#x27;,\n",
       "                             &#x27;lowqualfinsf&#x27;, &#x27;grlivarea&#x27;, &#x27;bsmtfullbath&#x27;,\n",
       "                             &#x27;bsmthalfbath&#x27;, &#x27;fullbath&#x27;, &#x27;halfbath&#x27;,\n",
       "                             &#x27;bedroomabvgr&#x27;, &#x27;kitchenabvgr&#x27;, &#x27;totrmsabvgrd&#x27;,\n",
       "                             &#x27;fireplaces&#x27;, &#x27;garageyrblt&#x27;, &#x27;garagecars&#x27;,\n",
       "                             &#x27;garagearea&#x27;, &#x27;wooddecksf&#x27;, &#x27;openporchsf&#x27;,\n",
       "                             &#x27;enclosedporch&#x27;, &#x27;three_ssnporch&#x27;, &#x27;screenporch&#x27;, ...])</pre></div></div></div></div></div>"
      ],
      "text/plain": [
       "MeanMedianImputer(variables=['mssubclass', 'lotfrontage', 'lotarea',\n",
       "                             'yearbuilt', 'yearremodadd', 'masvnrarea',\n",
       "                             'bsmtfinsf_first', 'bsmtfinsf_second', 'bsmtunfsf',\n",
       "                             'totalbsmtsf', 'first_flrsf', 'second_flrsf',\n",
       "                             'lowqualfinsf', 'grlivarea', 'bsmtfullbath',\n",
       "                             'bsmthalfbath', 'fullbath', 'halfbath',\n",
       "                             'bedroomabvgr', 'kitchenabvgr', 'totrmsabvgrd',\n",
       "                             'fireplaces', 'garageyrblt', 'garagecars',\n",
       "                             'garagearea', 'wooddecksf', 'openporchsf',\n",
       "                             'enclosedporch', 'three_ssnporch', 'screenporch', ...])"
      ]
     },
     "execution_count": 69,
     "metadata": {},
     "output_type": "execute_result"
    }
   ],
   "source": [
    "imputer_median.fit(train)"
   ]
  },
  {
   "cell_type": "code",
   "execution_count": 70,
   "id": "007dd239-638a-46bd-a8fc-ac5fe5653857",
   "metadata": {
    "tags": []
   },
   "outputs": [],
   "source": [
    "train = imputer_median.transform(train)"
   ]
  },
  {
   "cell_type": "code",
   "execution_count": 71,
   "id": "a0f08ec0-0191-4cbc-b8a8-31bb5e9d53d4",
   "metadata": {
    "tags": []
   },
   "outputs": [
    {
     "data": {
      "text/html": [
       "<div>\n",
       "<style scoped>\n",
       "    .dataframe tbody tr th:only-of-type {\n",
       "        vertical-align: middle;\n",
       "    }\n",
       "\n",
       "    .dataframe tbody tr th {\n",
       "        vertical-align: top;\n",
       "    }\n",
       "\n",
       "    .dataframe thead th {\n",
       "        text-align: right;\n",
       "    }\n",
       "</style>\n",
       "<table border=\"1\" class=\"dataframe\">\n",
       "  <thead>\n",
       "    <tr style=\"text-align: right;\">\n",
       "      <th></th>\n",
       "      <th>id</th>\n",
       "      <th>mssubclass</th>\n",
       "      <th>mszoning</th>\n",
       "      <th>lotfrontage</th>\n",
       "      <th>lotarea</th>\n",
       "      <th>street</th>\n",
       "      <th>alley</th>\n",
       "      <th>lotshape</th>\n",
       "      <th>landcontour</th>\n",
       "      <th>utilities</th>\n",
       "      <th>...</th>\n",
       "      <th>poolarea</th>\n",
       "      <th>poolqc</th>\n",
       "      <th>fence</th>\n",
       "      <th>miscfeature</th>\n",
       "      <th>miscval</th>\n",
       "      <th>mosold</th>\n",
       "      <th>yrsold</th>\n",
       "      <th>saletype</th>\n",
       "      <th>salecondition</th>\n",
       "      <th>price</th>\n",
       "    </tr>\n",
       "  </thead>\n",
       "  <tbody>\n",
       "    <tr>\n",
       "      <th>907</th>\n",
       "      <td>908</td>\n",
       "      <td>50</td>\n",
       "      <td>RL</td>\n",
       "      <td>86.0</td>\n",
       "      <td>11500</td>\n",
       "      <td>Pave</td>\n",
       "      <td>NA</td>\n",
       "      <td>IR1</td>\n",
       "      <td>Lvl</td>\n",
       "      <td>AllPub</td>\n",
       "      <td>...</td>\n",
       "      <td>0</td>\n",
       "      <td>NA</td>\n",
       "      <td>NA</td>\n",
       "      <td>NA</td>\n",
       "      <td>0</td>\n",
       "      <td>6</td>\n",
       "      <td>2006</td>\n",
       "      <td>WD</td>\n",
       "      <td>Normal</td>\n",
       "      <td>12.429216</td>\n",
       "    </tr>\n",
       "    <tr>\n",
       "      <th>782</th>\n",
       "      <td>783</td>\n",
       "      <td>20</td>\n",
       "      <td>RL</td>\n",
       "      <td>67.0</td>\n",
       "      <td>16285</td>\n",
       "      <td>Pave</td>\n",
       "      <td>NA</td>\n",
       "      <td>IR2</td>\n",
       "      <td>Lvl</td>\n",
       "      <td>AllPub</td>\n",
       "      <td>...</td>\n",
       "      <td>0</td>\n",
       "      <td>NA</td>\n",
       "      <td>NA</td>\n",
       "      <td>NA</td>\n",
       "      <td>0</td>\n",
       "      <td>6</td>\n",
       "      <td>2009</td>\n",
       "      <td>WD</td>\n",
       "      <td>Normal</td>\n",
       "      <td>12.139399</td>\n",
       "    </tr>\n",
       "    <tr>\n",
       "      <th>952</th>\n",
       "      <td>953</td>\n",
       "      <td>85</td>\n",
       "      <td>RL</td>\n",
       "      <td>60.0</td>\n",
       "      <td>7200</td>\n",
       "      <td>Pave</td>\n",
       "      <td>NA</td>\n",
       "      <td>Reg</td>\n",
       "      <td>Lvl</td>\n",
       "      <td>AllPub</td>\n",
       "      <td>...</td>\n",
       "      <td>0</td>\n",
       "      <td>NA</td>\n",
       "      <td>MnPrv</td>\n",
       "      <td>NA</td>\n",
       "      <td>0</td>\n",
       "      <td>4</td>\n",
       "      <td>2009</td>\n",
       "      <td>WD</td>\n",
       "      <td>Normal</td>\n",
       "      <td>11.804849</td>\n",
       "    </tr>\n",
       "    <tr>\n",
       "      <th>620</th>\n",
       "      <td>621</td>\n",
       "      <td>30</td>\n",
       "      <td>RL</td>\n",
       "      <td>45.0</td>\n",
       "      <td>8248</td>\n",
       "      <td>Pave</td>\n",
       "      <td>Grvl</td>\n",
       "      <td>Reg</td>\n",
       "      <td>Lvl</td>\n",
       "      <td>AllPub</td>\n",
       "      <td>...</td>\n",
       "      <td>0</td>\n",
       "      <td>NA</td>\n",
       "      <td>NA</td>\n",
       "      <td>NA</td>\n",
       "      <td>0</td>\n",
       "      <td>9</td>\n",
       "      <td>2008</td>\n",
       "      <td>WD</td>\n",
       "      <td>Normal</td>\n",
       "      <td>11.112448</td>\n",
       "    </tr>\n",
       "    <tr>\n",
       "      <th>669</th>\n",
       "      <td>670</td>\n",
       "      <td>30</td>\n",
       "      <td>RL</td>\n",
       "      <td>80.0</td>\n",
       "      <td>11600</td>\n",
       "      <td>Pave</td>\n",
       "      <td>NA</td>\n",
       "      <td>Reg</td>\n",
       "      <td>Lvl</td>\n",
       "      <td>AllPub</td>\n",
       "      <td>...</td>\n",
       "      <td>0</td>\n",
       "      <td>NA</td>\n",
       "      <td>NA</td>\n",
       "      <td>NA</td>\n",
       "      <td>0</td>\n",
       "      <td>7</td>\n",
       "      <td>2006</td>\n",
       "      <td>WD</td>\n",
       "      <td>Normal</td>\n",
       "      <td>11.831379</td>\n",
       "    </tr>\n",
       "  </tbody>\n",
       "</table>\n",
       "<p>5 rows × 81 columns</p>\n",
       "</div>"
      ],
      "text/plain": [
       "      id  mssubclass mszoning  lotfrontage  lotarea street alley lotshape  \\\n",
       "907  908          50       RL         86.0    11500   Pave    NA      IR1   \n",
       "782  783          20       RL         67.0    16285   Pave    NA      IR2   \n",
       "952  953          85       RL         60.0     7200   Pave    NA      Reg   \n",
       "620  621          30       RL         45.0     8248   Pave  Grvl      Reg   \n",
       "669  670          30       RL         80.0    11600   Pave    NA      Reg   \n",
       "\n",
       "    landcontour utilities  ... poolarea poolqc  fence miscfeature miscval  \\\n",
       "907         Lvl    AllPub  ...        0     NA     NA          NA       0   \n",
       "782         Lvl    AllPub  ...        0     NA     NA          NA       0   \n",
       "952         Lvl    AllPub  ...        0     NA  MnPrv          NA       0   \n",
       "620         Lvl    AllPub  ...        0     NA     NA          NA       0   \n",
       "669         Lvl    AllPub  ...        0     NA     NA          NA       0   \n",
       "\n",
       "    mosold yrsold  saletype  salecondition      price  \n",
       "907      6   2006        WD         Normal  12.429216  \n",
       "782      6   2009        WD         Normal  12.139399  \n",
       "952      4   2009        WD         Normal  11.804849  \n",
       "620      9   2008        WD         Normal  11.112448  \n",
       "669      7   2006        WD         Normal  11.831379  \n",
       "\n",
       "[5 rows x 81 columns]"
      ]
     },
     "execution_count": 71,
     "metadata": {},
     "output_type": "execute_result"
    }
   ],
   "source": [
    "train.head()"
   ]
  },
  {
   "cell_type": "code",
   "execution_count": 72,
   "id": "c88efa93-6750-4cd5-b784-46b3a5047be4",
   "metadata": {
    "tags": []
   },
   "outputs": [
    {
     "data": {
      "text/html": [
       "<div>\n",
       "<style scoped>\n",
       "    .dataframe tbody tr th:only-of-type {\n",
       "        vertical-align: middle;\n",
       "    }\n",
       "\n",
       "    .dataframe tbody tr th {\n",
       "        vertical-align: top;\n",
       "    }\n",
       "\n",
       "    .dataframe thead th {\n",
       "        text-align: right;\n",
       "    }\n",
       "</style>\n",
       "<table border=\"1\" class=\"dataframe\">\n",
       "  <thead>\n",
       "    <tr style=\"text-align: right;\">\n",
       "      <th></th>\n",
       "      <th>Type</th>\n",
       "      <th>Count</th>\n",
       "      <th>Unique</th>\n",
       "      <th>NaN</th>\n",
       "      <th>Percentages</th>\n",
       "    </tr>\n",
       "  </thead>\n",
       "  <tbody>\n",
       "    <tr>\n",
       "      <th>mssubclass</th>\n",
       "      <td>int64</td>\n",
       "      <td>1314</td>\n",
       "      <td>15</td>\n",
       "      <td>0</td>\n",
       "      <td>0</td>\n",
       "    </tr>\n",
       "    <tr>\n",
       "      <th>wooddecksf</th>\n",
       "      <td>int64</td>\n",
       "      <td>1314</td>\n",
       "      <td>260</td>\n",
       "      <td>0</td>\n",
       "      <td>0</td>\n",
       "    </tr>\n",
       "    <tr>\n",
       "      <th>kitchenabvgr</th>\n",
       "      <td>int64</td>\n",
       "      <td>1314</td>\n",
       "      <td>4</td>\n",
       "      <td>0</td>\n",
       "      <td>0</td>\n",
       "    </tr>\n",
       "    <tr>\n",
       "      <th>totrmsabvgrd</th>\n",
       "      <td>int64</td>\n",
       "      <td>1314</td>\n",
       "      <td>12</td>\n",
       "      <td>0</td>\n",
       "      <td>0</td>\n",
       "    </tr>\n",
       "    <tr>\n",
       "      <th>fireplaces</th>\n",
       "      <td>int64</td>\n",
       "      <td>1314</td>\n",
       "      <td>4</td>\n",
       "      <td>0</td>\n",
       "      <td>0</td>\n",
       "    </tr>\n",
       "  </tbody>\n",
       "</table>\n",
       "</div>"
      ],
      "text/plain": [
       "               Type  Count  Unique  NaN  Percentages\n",
       "mssubclass    int64   1314      15    0            0\n",
       "wooddecksf    int64   1314     260    0            0\n",
       "kitchenabvgr  int64   1314       4    0            0\n",
       "totrmsabvgrd  int64   1314      12    0            0\n",
       "fireplaces    int64   1314       4    0            0"
      ]
     },
     "execution_count": 72,
     "metadata": {},
     "output_type": "execute_result"
    }
   ],
   "source": [
    "data_describe(train[numeric]).head()"
   ]
  },
  {
   "cell_type": "code",
   "execution_count": 73,
   "id": "e2cca50e-4596-412f-aa66-f218af7132b4",
   "metadata": {},
   "outputs": [
    {
     "data": {
      "text/plain": [
       "False"
      ]
     },
     "execution_count": 73,
     "metadata": {},
     "output_type": "execute_result"
    }
   ],
   "source": [
    "train[numeric].isna().values.any()"
   ]
  },
  {
   "cell_type": "markdown",
   "id": "7c455f34-68da-4a65-9fc8-8d1b7407a565",
   "metadata": {},
   "source": [
    "## Relabeling "
   ]
  },
  {
   "cell_type": "code",
   "execution_count": 74,
   "id": "264e2726-927b-4f1c-9213-c5c4b6574845",
   "metadata": {},
   "outputs": [],
   "source": [
    "features_labels_lists = [\n",
    "    ['exterqual', 'extercond', 'bsmtqual', 'bsmtcond', 'heatingqc',\n",
    "     'kitchenqual', 'fireplacequ', 'garagecond', 'garagequal', 'poolqc'],\n",
    "    ['bsmtexposure'],\n",
    "    ['bsmtfintype_first', 'bsmtfintype_second'],\n",
    "    ['functional'],\n",
    "    ['garagetype'],\n",
    "    ['garagefinish'],\n",
    "    ['mssubclass']\n",
    "]"
   ]
  },
  {
   "cell_type": "code",
   "execution_count": 75,
   "id": "2a2eb76e-24b2-49aa-93f7-c590771a2be2",
   "metadata": {},
   "outputs": [],
   "source": [
    "features_labels_dicts = [\n",
    "    {'Ex': 5, 'Gd': 4, 'TA': 3, 'Fa': 2, 'Po': 1, 'NA': 0},\n",
    "    {'Gd': 4, 'Av': 3, 'Mn': 2, 'No': 1, 'NA': 0},\n",
    "    {'GLQ': 6, 'ALQ': 5, 'BLQ': 4, 'Rec': 3, 'LwQ': 2, 'Unf': 1, 'NA': 0},\n",
    "    {'Typ': 7, 'Min1': 6, 'Min2': 5, 'Mod': 4, 'Maj1': 3, 'Maj2': 2,\n",
    "     'Sev': 1, 'Sal': 0},\n",
    "    {'2Types': 6, 'Attchd': 5, 'Basment': 4, 'BuiltIn': 3,\n",
    "     'CarPort': 2, 'Detchd': 1, 'NA': 0},\n",
    "    {'Fin': 3, 'RFn': 2, 'Unf': 1, 'NA': 0}\n",
    "]"
   ]
  },
  {
   "cell_type": "code",
   "execution_count": 76,
   "id": "8c9c28e6-9761-4288-a310-cd9c4bdc2daa",
   "metadata": {},
   "outputs": [
    {
     "data": {
      "text/plain": [
       "array(['Gd', 'TA', 'Fa', 'Ex'], dtype=object)"
      ]
     },
     "execution_count": 76,
     "metadata": {},
     "output_type": "execute_result"
    }
   ],
   "source": [
    "train['exterqual'].unique()"
   ]
  },
  {
   "cell_type": "code",
   "execution_count": 77,
   "id": "a6b7a7a1-b9f4-499e-a9f3-643e0ff3e13d",
   "metadata": {},
   "outputs": [
    {
     "data": {
      "text/plain": [
       "array(['NA', 'Gd', 'Fa', 'Ex'], dtype=object)"
      ]
     },
     "execution_count": 77,
     "metadata": {},
     "output_type": "execute_result"
    }
   ],
   "source": [
    "train['poolqc'].unique()"
   ]
  },
  {
   "cell_type": "code",
   "execution_count": 78,
   "id": "651ea372-7d00-4931-b551-c23339fc2511",
   "metadata": {},
   "outputs": [
    {
     "data": {
      "text/plain": [
       "array([ 50,  20,  85,  30,  60,  90,  70,  45, 160,  80, 120, 190, 180,\n",
       "        40,  75])"
      ]
     },
     "execution_count": 78,
     "metadata": {},
     "output_type": "execute_result"
    }
   ],
   "source": [
    "train['mssubclass'].unique()"
   ]
  },
  {
   "cell_type": "code",
   "execution_count": 79,
   "id": "c9aa66a9-9f9c-4ad9-ac90-c233b5cdd7ac",
   "metadata": {},
   "outputs": [],
   "source": [
    "zip_ = zip(features_labels_lists, features_labels_dicts)\n",
    "for lst, dct in zip_:\n",
    "    for f in lst:\n",
    "        train[f] = train[f].map(dct)"
   ]
  },
  {
   "cell_type": "code",
   "execution_count": 80,
   "id": "c70ec5d6-a3af-48dd-80ee-4941c48d99a5",
   "metadata": {},
   "outputs": [],
   "source": [
    "train['mssubclass'] = train['mssubclass'].apply(lambda x: str(x))"
   ]
  },
  {
   "cell_type": "code",
   "execution_count": 81,
   "id": "42b9f840-e955-4ced-94af-d89d05c73bfe",
   "metadata": {},
   "outputs": [
    {
     "data": {
      "text/plain": [
       "array([4, 3, 2, 5])"
      ]
     },
     "execution_count": 81,
     "metadata": {},
     "output_type": "execute_result"
    }
   ],
   "source": [
    "train['exterqual'].unique()"
   ]
  },
  {
   "cell_type": "code",
   "execution_count": 82,
   "id": "8240a25f-62e5-4a5d-9ef5-d4d19eacd305",
   "metadata": {},
   "outputs": [
    {
     "data": {
      "text/plain": [
       "array([0, 4, 2, 5])"
      ]
     },
     "execution_count": 82,
     "metadata": {},
     "output_type": "execute_result"
    }
   ],
   "source": [
    "train['poolqc'].unique()"
   ]
  },
  {
   "cell_type": "code",
   "execution_count": 83,
   "id": "b29542bc-d4f1-45bf-a3ea-a8990d8cd4a7",
   "metadata": {},
   "outputs": [
    {
     "data": {
      "text/plain": [
       "array(['50', '20', '85', '30', '60', '90', '70', '45', '160', '80', '120',\n",
       "       '190', '180', '40', '75'], dtype=object)"
      ]
     },
     "execution_count": 83,
     "metadata": {},
     "output_type": "execute_result"
    }
   ],
   "source": [
    "train['mssubclass'].unique()"
   ]
  },
  {
   "cell_type": "markdown",
   "id": "6c6d0dde-3cc9-494c-ab19-9f4d3718b779",
   "metadata": {},
   "source": [
    "### Transform 'msubclass' values and move it to Categorical variables list"
   ]
  },
  {
   "cell_type": "code",
   "execution_count": 84,
   "id": "0fba186f-5a0e-438a-9267-0fb00fe25a76",
   "metadata": {},
   "outputs": [],
   "source": [
    "categorical.append('mssubclass')\n",
    "numeric.remove('mssubclass')"
   ]
  },
  {
   "cell_type": "code",
   "execution_count": 85,
   "id": "3d6e9cd4-3cc8-483d-81f0-d8ed3a74a116",
   "metadata": {},
   "outputs": [],
   "source": [
    "assert len(features) == len(numeric) + len(ordinal) + len(categorical)"
   ]
  },
  {
   "cell_type": "code",
   "execution_count": 86,
   "id": "78271d7e-323a-4091-8276-b83ea4c9691f",
   "metadata": {},
   "outputs": [],
   "source": [
    "categorical_transform = categorical.copy()"
   ]
  },
  {
   "cell_type": "markdown",
   "id": "ec3023b5-c321-4bb4-9526-1a2f44d9f5ce",
   "metadata": {},
   "source": [
    "## Transformation Pipeline Check"
   ]
  },
  {
   "cell_type": "code",
   "execution_count": 87,
   "id": "0a7190e9-3d19-4359-92e6-eb7a89f788af",
   "metadata": {},
   "outputs": [],
   "source": [
    "transformer_overview = OverviewTransformer(\n",
    "    features_na=features_na\n",
    ")"
   ]
  },
  {
   "cell_type": "code",
   "execution_count": 88,
   "id": "171caa64-669c-44c6-bf34-777fc0bd6457",
   "metadata": {},
   "outputs": [],
   "source": [
    "transformer_label = LabelTransformer(\n",
    "    features_labels_lists=features_labels_lists,\n",
    "    features_labels_dicts=features_labels_dicts\n",
    ")"
   ]
  },
  {
   "cell_type": "code",
   "execution_count": 89,
   "id": "e5cf65d0-b24e-4870-b5d7-8159eb78acd3",
   "metadata": {},
   "outputs": [],
   "source": [
    "pipeline = Pipeline(steps=[\n",
    "    ('overview', transformer_overview),\n",
    "    ('imputer_num', imputer_median),\n",
    "    ('imputer_cat', imputer_frequent),\n",
    "    ('label', transformer_label)\n",
    "])"
   ]
  },
  {
   "cell_type": "code",
   "execution_count": 90,
   "id": "08d36009-020c-4119-beb7-7b7801cf7134",
   "metadata": {},
   "outputs": [
    {
     "data": {
      "text/html": [
       "<style>#sk-container-id-3 {color: black;}#sk-container-id-3 pre{padding: 0;}#sk-container-id-3 div.sk-toggleable {background-color: white;}#sk-container-id-3 label.sk-toggleable__label {cursor: pointer;display: block;width: 100%;margin-bottom: 0;padding: 0.3em;box-sizing: border-box;text-align: center;}#sk-container-id-3 label.sk-toggleable__label-arrow:before {content: \"▸\";float: left;margin-right: 0.25em;color: #696969;}#sk-container-id-3 label.sk-toggleable__label-arrow:hover:before {color: black;}#sk-container-id-3 div.sk-estimator:hover label.sk-toggleable__label-arrow:before {color: black;}#sk-container-id-3 div.sk-toggleable__content {max-height: 0;max-width: 0;overflow: hidden;text-align: left;background-color: #f0f8ff;}#sk-container-id-3 div.sk-toggleable__content pre {margin: 0.2em;color: black;border-radius: 0.25em;background-color: #f0f8ff;}#sk-container-id-3 input.sk-toggleable__control:checked~div.sk-toggleable__content {max-height: 200px;max-width: 100%;overflow: auto;}#sk-container-id-3 input.sk-toggleable__control:checked~label.sk-toggleable__label-arrow:before {content: \"▾\";}#sk-container-id-3 div.sk-estimator input.sk-toggleable__control:checked~label.sk-toggleable__label {background-color: #d4ebff;}#sk-container-id-3 div.sk-label input.sk-toggleable__control:checked~label.sk-toggleable__label {background-color: #d4ebff;}#sk-container-id-3 input.sk-hidden--visually {border: 0;clip: rect(1px 1px 1px 1px);clip: rect(1px, 1px, 1px, 1px);height: 1px;margin: -1px;overflow: hidden;padding: 0;position: absolute;width: 1px;}#sk-container-id-3 div.sk-estimator {font-family: monospace;background-color: #f0f8ff;border: 1px dotted black;border-radius: 0.25em;box-sizing: border-box;margin-bottom: 0.5em;}#sk-container-id-3 div.sk-estimator:hover {background-color: #d4ebff;}#sk-container-id-3 div.sk-parallel-item::after {content: \"\";width: 100%;border-bottom: 1px solid gray;flex-grow: 1;}#sk-container-id-3 div.sk-label:hover label.sk-toggleable__label {background-color: #d4ebff;}#sk-container-id-3 div.sk-serial::before {content: \"\";position: absolute;border-left: 1px solid gray;box-sizing: border-box;top: 0;bottom: 0;left: 50%;z-index: 0;}#sk-container-id-3 div.sk-serial {display: flex;flex-direction: column;align-items: center;background-color: white;padding-right: 0.2em;padding-left: 0.2em;position: relative;}#sk-container-id-3 div.sk-item {position: relative;z-index: 1;}#sk-container-id-3 div.sk-parallel {display: flex;align-items: stretch;justify-content: center;background-color: white;position: relative;}#sk-container-id-3 div.sk-item::before, #sk-container-id-3 div.sk-parallel-item::before {content: \"\";position: absolute;border-left: 1px solid gray;box-sizing: border-box;top: 0;bottom: 0;left: 50%;z-index: -1;}#sk-container-id-3 div.sk-parallel-item {display: flex;flex-direction: column;z-index: 1;position: relative;background-color: white;}#sk-container-id-3 div.sk-parallel-item:first-child::after {align-self: flex-end;width: 50%;}#sk-container-id-3 div.sk-parallel-item:last-child::after {align-self: flex-start;width: 50%;}#sk-container-id-3 div.sk-parallel-item:only-child::after {width: 0;}#sk-container-id-3 div.sk-dashed-wrapped {border: 1px dashed gray;margin: 0 0.4em 0.5em 0.4em;box-sizing: border-box;padding-bottom: 0.4em;background-color: white;}#sk-container-id-3 div.sk-label label {font-family: monospace;font-weight: bold;display: inline-block;line-height: 1.2em;}#sk-container-id-3 div.sk-label-container {text-align: center;}#sk-container-id-3 div.sk-container {/* jupyter's `normalize.less` sets `[hidden] { display: none; }` but bootstrap.min.css set `[hidden] { display: none !important; }` so we also need the `!important` here to be able to override the default hidden behavior on the sphinx rendered scikit-learn.org. See: https://github.com/scikit-learn/scikit-learn/issues/21755 */display: inline-block !important;position: relative;}#sk-container-id-3 div.sk-text-repr-fallback {display: none;}</style><div id=\"sk-container-id-3\" class=\"sk-top-container\"><div class=\"sk-text-repr-fallback\"><pre>Pipeline(steps=[(&#x27;overview&#x27;, &lt;tools.OverviewTransformer object at 0x122025940&gt;),\n",
       "                (&#x27;imputer_num&#x27;,\n",
       "                 MeanMedianImputer(variables=[&#x27;lotfrontage&#x27;, &#x27;lotarea&#x27;,\n",
       "                                              &#x27;yearbuilt&#x27;, &#x27;yearremodadd&#x27;,\n",
       "                                              &#x27;masvnrarea&#x27;, &#x27;bsmtfinsf_first&#x27;,\n",
       "                                              &#x27;bsmtfinsf_second&#x27;, &#x27;bsmtunfsf&#x27;,\n",
       "                                              &#x27;totalbsmtsf&#x27;, &#x27;first_flrsf&#x27;,\n",
       "                                              &#x27;second_flrsf&#x27;, &#x27;lowqualfinsf&#x27;,\n",
       "                                              &#x27;grlivarea&#x27;, &#x27;bsmtfullbath&#x27;,\n",
       "                                              &#x27;bsmthalfbath&#x27;, &#x27;fullbath&#x27;,\n",
       "                                              &#x27;halfb...\n",
       "                                               &#x27;utilities&#x27;, &#x27;lotconfig&#x27;,\n",
       "                                               &#x27;landslope&#x27;, &#x27;neighborhood&#x27;,\n",
       "                                               &#x27;condition_first&#x27;,\n",
       "                                               &#x27;condition_second&#x27;, &#x27;bldgtype&#x27;,\n",
       "                                               &#x27;housestyle&#x27;, &#x27;roofstyle&#x27;,\n",
       "                                               &#x27;roofmatl&#x27;, &#x27;exterior_first&#x27;,\n",
       "                                               &#x27;exterior_second&#x27;, &#x27;masvnrtype&#x27;,\n",
       "                                               &#x27;foundation&#x27;, &#x27;heating&#x27;,\n",
       "                                               &#x27;centralair&#x27;, &#x27;electrical&#x27;,\n",
       "                                               &#x27;paveddrive&#x27;, &#x27;fence&#x27;,\n",
       "                                               &#x27;miscfeature&#x27;, &#x27;saletype&#x27;,\n",
       "                                               &#x27;salecondition&#x27;,\n",
       "                                               &#x27;mssubclass&#x27;])),\n",
       "                (&#x27;label&#x27;, &lt;tools.LabelTransformer object at 0x121e6e120&gt;)])</pre><b>In a Jupyter environment, please rerun this cell to show the HTML representation or trust the notebook. <br />On GitHub, the HTML representation is unable to render, please try loading this page with nbviewer.org.</b></div><div class=\"sk-container\" hidden><div class=\"sk-item sk-dashed-wrapped\"><div class=\"sk-label-container\"><div class=\"sk-label sk-toggleable\"><input class=\"sk-toggleable__control sk-hidden--visually\" id=\"sk-estimator-id-3\" type=\"checkbox\" ><label for=\"sk-estimator-id-3\" class=\"sk-toggleable__label sk-toggleable__label-arrow\">Pipeline</label><div class=\"sk-toggleable__content\"><pre>Pipeline(steps=[(&#x27;overview&#x27;, &lt;tools.OverviewTransformer object at 0x122025940&gt;),\n",
       "                (&#x27;imputer_num&#x27;,\n",
       "                 MeanMedianImputer(variables=[&#x27;lotfrontage&#x27;, &#x27;lotarea&#x27;,\n",
       "                                              &#x27;yearbuilt&#x27;, &#x27;yearremodadd&#x27;,\n",
       "                                              &#x27;masvnrarea&#x27;, &#x27;bsmtfinsf_first&#x27;,\n",
       "                                              &#x27;bsmtfinsf_second&#x27;, &#x27;bsmtunfsf&#x27;,\n",
       "                                              &#x27;totalbsmtsf&#x27;, &#x27;first_flrsf&#x27;,\n",
       "                                              &#x27;second_flrsf&#x27;, &#x27;lowqualfinsf&#x27;,\n",
       "                                              &#x27;grlivarea&#x27;, &#x27;bsmtfullbath&#x27;,\n",
       "                                              &#x27;bsmthalfbath&#x27;, &#x27;fullbath&#x27;,\n",
       "                                              &#x27;halfb...\n",
       "                                               &#x27;utilities&#x27;, &#x27;lotconfig&#x27;,\n",
       "                                               &#x27;landslope&#x27;, &#x27;neighborhood&#x27;,\n",
       "                                               &#x27;condition_first&#x27;,\n",
       "                                               &#x27;condition_second&#x27;, &#x27;bldgtype&#x27;,\n",
       "                                               &#x27;housestyle&#x27;, &#x27;roofstyle&#x27;,\n",
       "                                               &#x27;roofmatl&#x27;, &#x27;exterior_first&#x27;,\n",
       "                                               &#x27;exterior_second&#x27;, &#x27;masvnrtype&#x27;,\n",
       "                                               &#x27;foundation&#x27;, &#x27;heating&#x27;,\n",
       "                                               &#x27;centralair&#x27;, &#x27;electrical&#x27;,\n",
       "                                               &#x27;paveddrive&#x27;, &#x27;fence&#x27;,\n",
       "                                               &#x27;miscfeature&#x27;, &#x27;saletype&#x27;,\n",
       "                                               &#x27;salecondition&#x27;,\n",
       "                                               &#x27;mssubclass&#x27;])),\n",
       "                (&#x27;label&#x27;, &lt;tools.LabelTransformer object at 0x121e6e120&gt;)])</pre></div></div></div><div class=\"sk-serial\"><div class=\"sk-item\"><div class=\"sk-estimator sk-toggleable\"><input class=\"sk-toggleable__control sk-hidden--visually\" id=\"sk-estimator-id-4\" type=\"checkbox\" ><label for=\"sk-estimator-id-4\" class=\"sk-toggleable__label sk-toggleable__label-arrow\">OverviewTransformer</label><div class=\"sk-toggleable__content\"><pre>&lt;tools.OverviewTransformer object at 0x122025940&gt;</pre></div></div></div><div class=\"sk-item\"><div class=\"sk-estimator sk-toggleable\"><input class=\"sk-toggleable__control sk-hidden--visually\" id=\"sk-estimator-id-5\" type=\"checkbox\" ><label for=\"sk-estimator-id-5\" class=\"sk-toggleable__label sk-toggleable__label-arrow\">MeanMedianImputer</label><div class=\"sk-toggleable__content\"><pre>MeanMedianImputer(variables=[&#x27;lotfrontage&#x27;, &#x27;lotarea&#x27;, &#x27;yearbuilt&#x27;,\n",
       "                             &#x27;yearremodadd&#x27;, &#x27;masvnrarea&#x27;, &#x27;bsmtfinsf_first&#x27;,\n",
       "                             &#x27;bsmtfinsf_second&#x27;, &#x27;bsmtunfsf&#x27;, &#x27;totalbsmtsf&#x27;,\n",
       "                             &#x27;first_flrsf&#x27;, &#x27;second_flrsf&#x27;, &#x27;lowqualfinsf&#x27;,\n",
       "                             &#x27;grlivarea&#x27;, &#x27;bsmtfullbath&#x27;, &#x27;bsmthalfbath&#x27;,\n",
       "                             &#x27;fullbath&#x27;, &#x27;halfbath&#x27;, &#x27;bedroomabvgr&#x27;,\n",
       "                             &#x27;kitchenabvgr&#x27;, &#x27;totrmsabvgrd&#x27;, &#x27;fireplaces&#x27;,\n",
       "                             &#x27;garageyrblt&#x27;, &#x27;garagecars&#x27;, &#x27;garagearea&#x27;,\n",
       "                             &#x27;wooddecksf&#x27;, &#x27;openporchsf&#x27;, &#x27;enclosedporch&#x27;,\n",
       "                             &#x27;three_ssnporch&#x27;, &#x27;screenporch&#x27;, &#x27;poolarea&#x27;, ...])</pre></div></div></div><div class=\"sk-item\"><div class=\"sk-estimator sk-toggleable\"><input class=\"sk-toggleable__control sk-hidden--visually\" id=\"sk-estimator-id-6\" type=\"checkbox\" ><label for=\"sk-estimator-id-6\" class=\"sk-toggleable__label sk-toggleable__label-arrow\">CategoricalImputer</label><div class=\"sk-toggleable__content\"><pre>CategoricalImputer(imputation_method=&#x27;frequent&#x27;,\n",
       "                   variables=[&#x27;mszoning&#x27;, &#x27;street&#x27;, &#x27;alley&#x27;, &#x27;lotshape&#x27;,\n",
       "                              &#x27;landcontour&#x27;, &#x27;utilities&#x27;, &#x27;lotconfig&#x27;,\n",
       "                              &#x27;landslope&#x27;, &#x27;neighborhood&#x27;, &#x27;condition_first&#x27;,\n",
       "                              &#x27;condition_second&#x27;, &#x27;bldgtype&#x27;, &#x27;housestyle&#x27;,\n",
       "                              &#x27;roofstyle&#x27;, &#x27;roofmatl&#x27;, &#x27;exterior_first&#x27;,\n",
       "                              &#x27;exterior_second&#x27;, &#x27;masvnrtype&#x27;, &#x27;foundation&#x27;,\n",
       "                              &#x27;heating&#x27;, &#x27;centralair&#x27;, &#x27;electrical&#x27;,\n",
       "                              &#x27;paveddrive&#x27;, &#x27;fence&#x27;, &#x27;miscfeature&#x27;, &#x27;saletype&#x27;,\n",
       "                              &#x27;salecondition&#x27;, &#x27;mssubclass&#x27;])</pre></div></div></div><div class=\"sk-item\"><div class=\"sk-estimator sk-toggleable\"><input class=\"sk-toggleable__control sk-hidden--visually\" id=\"sk-estimator-id-7\" type=\"checkbox\" ><label for=\"sk-estimator-id-7\" class=\"sk-toggleable__label sk-toggleable__label-arrow\">LabelTransformer</label><div class=\"sk-toggleable__content\"><pre>&lt;tools.LabelTransformer object at 0x121e6e120&gt;</pre></div></div></div></div></div></div></div>"
      ],
      "text/plain": [
       "Pipeline(steps=[('overview', <tools.OverviewTransformer object at 0x122025940>),\n",
       "                ('imputer_num',\n",
       "                 MeanMedianImputer(variables=['lotfrontage', 'lotarea',\n",
       "                                              'yearbuilt', 'yearremodadd',\n",
       "                                              'masvnrarea', 'bsmtfinsf_first',\n",
       "                                              'bsmtfinsf_second', 'bsmtunfsf',\n",
       "                                              'totalbsmtsf', 'first_flrsf',\n",
       "                                              'second_flrsf', 'lowqualfinsf',\n",
       "                                              'grlivarea', 'bsmtfullbath',\n",
       "                                              'bsmthalfbath', 'fullbath',\n",
       "                                              'halfb...\n",
       "                                               'utilities', 'lotconfig',\n",
       "                                               'landslope', 'neighborhood',\n",
       "                                               'condition_first',\n",
       "                                               'condition_second', 'bldgtype',\n",
       "                                               'housestyle', 'roofstyle',\n",
       "                                               'roofmatl', 'exterior_first',\n",
       "                                               'exterior_second', 'masvnrtype',\n",
       "                                               'foundation', 'heating',\n",
       "                                               'centralair', 'electrical',\n",
       "                                               'paveddrive', 'fence',\n",
       "                                               'miscfeature', 'saletype',\n",
       "                                               'salecondition',\n",
       "                                               'mssubclass'])),\n",
       "                ('label', <tools.LabelTransformer object at 0x121e6e120>)])"
      ]
     },
     "execution_count": 90,
     "metadata": {},
     "output_type": "execute_result"
    }
   ],
   "source": [
    "pipeline"
   ]
  },
  {
   "cell_type": "code",
   "execution_count": 91,
   "id": "7088bbf8-cfc4-487f-845f-0524ef61c9e3",
   "metadata": {},
   "outputs": [],
   "source": [
    "train_transformed = train_raw.copy()"
   ]
  },
  {
   "cell_type": "code",
   "execution_count": 92,
   "id": "751818aa-e178-4898-85d1-f9714ef25951",
   "metadata": {},
   "outputs": [],
   "source": [
    "train_transformed = pipeline.transform(train_transformed)"
   ]
  },
  {
   "cell_type": "code",
   "execution_count": 93,
   "id": "3f1e493c-7b9a-4663-af80-952ff269cb2e",
   "metadata": {},
   "outputs": [],
   "source": [
    "train_transformed[target] = np.log(train_transformed[target])"
   ]
  },
  {
   "cell_type": "code",
   "execution_count": 94,
   "id": "9d0debca-f811-4782-9049-0603c061f8cb",
   "metadata": {},
   "outputs": [],
   "source": [
    "# check pipeline - datasets have to be equals if pipeline if correct\n",
    "assert train_transformed.equals(train)"
   ]
  },
  {
   "cell_type": "code",
   "execution_count": 95,
   "id": "e6880247-d925-40a8-85fd-6bbe414174f8",
   "metadata": {},
   "outputs": [
    {
     "data": {
      "text/html": [
       "<div>\n",
       "<style scoped>\n",
       "    .dataframe tbody tr th:only-of-type {\n",
       "        vertical-align: middle;\n",
       "    }\n",
       "\n",
       "    .dataframe tbody tr th {\n",
       "        vertical-align: top;\n",
       "    }\n",
       "\n",
       "    .dataframe thead th {\n",
       "        text-align: right;\n",
       "    }\n",
       "</style>\n",
       "<table border=\"1\" class=\"dataframe\">\n",
       "  <thead>\n",
       "    <tr style=\"text-align: right;\">\n",
       "      <th></th>\n",
       "      <th>id</th>\n",
       "      <th>mssubclass</th>\n",
       "      <th>mszoning</th>\n",
       "      <th>lotfrontage</th>\n",
       "      <th>lotarea</th>\n",
       "      <th>street</th>\n",
       "      <th>alley</th>\n",
       "      <th>lotshape</th>\n",
       "      <th>landcontour</th>\n",
       "      <th>utilities</th>\n",
       "      <th>...</th>\n",
       "      <th>poolarea</th>\n",
       "      <th>poolqc</th>\n",
       "      <th>fence</th>\n",
       "      <th>miscfeature</th>\n",
       "      <th>miscval</th>\n",
       "      <th>mosold</th>\n",
       "      <th>yrsold</th>\n",
       "      <th>saletype</th>\n",
       "      <th>salecondition</th>\n",
       "      <th>price</th>\n",
       "    </tr>\n",
       "  </thead>\n",
       "  <tbody>\n",
       "  </tbody>\n",
       "</table>\n",
       "<p>0 rows × 81 columns</p>\n",
       "</div>"
      ],
      "text/plain": [
       "Empty DataFrame\n",
       "Columns: [id, mssubclass, mszoning, lotfrontage, lotarea, street, alley, lotshape, landcontour, utilities, lotconfig, landslope, neighborhood, condition_first, condition_second, bldgtype, housestyle, overallqual, overallcond, yearbuilt, yearremodadd, roofstyle, roofmatl, exterior_first, exterior_second, masvnrtype, masvnrarea, exterqual, extercond, foundation, bsmtqual, bsmtcond, bsmtexposure, bsmtfintype_first, bsmtfinsf_first, bsmtfintype_second, bsmtfinsf_second, bsmtunfsf, totalbsmtsf, heating, heatingqc, centralair, electrical, first_flrsf, second_flrsf, lowqualfinsf, grlivarea, bsmtfullbath, bsmthalfbath, fullbath, halfbath, bedroomabvgr, kitchenabvgr, kitchenqual, totrmsabvgrd, functional, fireplaces, fireplacequ, garagetype, garageyrblt, garagefinish, garagecars, garagearea, garagequal, garagecond, paveddrive, wooddecksf, openporchsf, enclosedporch, three_ssnporch, screenporch, poolarea, poolqc, fence, miscfeature, miscval, mosold, yrsold, saletype, salecondition, price]\n",
       "Index: []\n",
       "\n",
       "[0 rows x 81 columns]"
      ]
     },
     "execution_count": 95,
     "metadata": {},
     "output_type": "execute_result"
    }
   ],
   "source": [
    "# display rows with differences\n",
    "train[~train.apply(tuple, 1).isin(train_transformed.apply(tuple, 1))]"
   ]
  },
  {
   "cell_type": "markdown",
   "id": "2dc22827-eb83-435b-a759-a9b5685d69a4",
   "metadata": {},
   "source": [
    "## Baseline Model"
   ]
  },
  {
   "cell_type": "code",
   "execution_count": 96,
   "id": "42ebcb19-7a3a-4ccc-8236-c44f9f6b1066",
   "metadata": {},
   "outputs": [],
   "source": [
    "train_bm = train.copy()"
   ]
  },
  {
   "cell_type": "code",
   "execution_count": 97,
   "id": "c8483df8-ec11-47df-868f-eace2c9eb87a",
   "metadata": {},
   "outputs": [
    {
     "data": {
      "text/html": [
       "<div>\n",
       "<style scoped>\n",
       "    .dataframe tbody tr th:only-of-type {\n",
       "        vertical-align: middle;\n",
       "    }\n",
       "\n",
       "    .dataframe tbody tr th {\n",
       "        vertical-align: top;\n",
       "    }\n",
       "\n",
       "    .dataframe thead th {\n",
       "        text-align: right;\n",
       "    }\n",
       "</style>\n",
       "<table border=\"1\" class=\"dataframe\">\n",
       "  <thead>\n",
       "    <tr style=\"text-align: right;\">\n",
       "      <th></th>\n",
       "      <th>id</th>\n",
       "      <th>mssubclass</th>\n",
       "      <th>mszoning</th>\n",
       "      <th>lotfrontage</th>\n",
       "      <th>lotarea</th>\n",
       "      <th>street</th>\n",
       "      <th>alley</th>\n",
       "      <th>lotshape</th>\n",
       "      <th>landcontour</th>\n",
       "      <th>utilities</th>\n",
       "      <th>...</th>\n",
       "      <th>poolarea</th>\n",
       "      <th>poolqc</th>\n",
       "      <th>fence</th>\n",
       "      <th>miscfeature</th>\n",
       "      <th>miscval</th>\n",
       "      <th>mosold</th>\n",
       "      <th>yrsold</th>\n",
       "      <th>saletype</th>\n",
       "      <th>salecondition</th>\n",
       "      <th>price</th>\n",
       "    </tr>\n",
       "  </thead>\n",
       "  <tbody>\n",
       "    <tr>\n",
       "      <th>907</th>\n",
       "      <td>908</td>\n",
       "      <td>50</td>\n",
       "      <td>RL</td>\n",
       "      <td>86.0</td>\n",
       "      <td>11500</td>\n",
       "      <td>Pave</td>\n",
       "      <td>NA</td>\n",
       "      <td>IR1</td>\n",
       "      <td>Lvl</td>\n",
       "      <td>AllPub</td>\n",
       "      <td>...</td>\n",
       "      <td>0</td>\n",
       "      <td>0</td>\n",
       "      <td>NA</td>\n",
       "      <td>NA</td>\n",
       "      <td>0</td>\n",
       "      <td>6</td>\n",
       "      <td>2006</td>\n",
       "      <td>WD</td>\n",
       "      <td>Normal</td>\n",
       "      <td>12.429216</td>\n",
       "    </tr>\n",
       "    <tr>\n",
       "      <th>782</th>\n",
       "      <td>783</td>\n",
       "      <td>20</td>\n",
       "      <td>RL</td>\n",
       "      <td>67.0</td>\n",
       "      <td>16285</td>\n",
       "      <td>Pave</td>\n",
       "      <td>NA</td>\n",
       "      <td>IR2</td>\n",
       "      <td>Lvl</td>\n",
       "      <td>AllPub</td>\n",
       "      <td>...</td>\n",
       "      <td>0</td>\n",
       "      <td>0</td>\n",
       "      <td>NA</td>\n",
       "      <td>NA</td>\n",
       "      <td>0</td>\n",
       "      <td>6</td>\n",
       "      <td>2009</td>\n",
       "      <td>WD</td>\n",
       "      <td>Normal</td>\n",
       "      <td>12.139399</td>\n",
       "    </tr>\n",
       "    <tr>\n",
       "      <th>952</th>\n",
       "      <td>953</td>\n",
       "      <td>85</td>\n",
       "      <td>RL</td>\n",
       "      <td>60.0</td>\n",
       "      <td>7200</td>\n",
       "      <td>Pave</td>\n",
       "      <td>NA</td>\n",
       "      <td>Reg</td>\n",
       "      <td>Lvl</td>\n",
       "      <td>AllPub</td>\n",
       "      <td>...</td>\n",
       "      <td>0</td>\n",
       "      <td>0</td>\n",
       "      <td>MnPrv</td>\n",
       "      <td>NA</td>\n",
       "      <td>0</td>\n",
       "      <td>4</td>\n",
       "      <td>2009</td>\n",
       "      <td>WD</td>\n",
       "      <td>Normal</td>\n",
       "      <td>11.804849</td>\n",
       "    </tr>\n",
       "    <tr>\n",
       "      <th>620</th>\n",
       "      <td>621</td>\n",
       "      <td>30</td>\n",
       "      <td>RL</td>\n",
       "      <td>45.0</td>\n",
       "      <td>8248</td>\n",
       "      <td>Pave</td>\n",
       "      <td>Grvl</td>\n",
       "      <td>Reg</td>\n",
       "      <td>Lvl</td>\n",
       "      <td>AllPub</td>\n",
       "      <td>...</td>\n",
       "      <td>0</td>\n",
       "      <td>0</td>\n",
       "      <td>NA</td>\n",
       "      <td>NA</td>\n",
       "      <td>0</td>\n",
       "      <td>9</td>\n",
       "      <td>2008</td>\n",
       "      <td>WD</td>\n",
       "      <td>Normal</td>\n",
       "      <td>11.112448</td>\n",
       "    </tr>\n",
       "    <tr>\n",
       "      <th>669</th>\n",
       "      <td>670</td>\n",
       "      <td>30</td>\n",
       "      <td>RL</td>\n",
       "      <td>80.0</td>\n",
       "      <td>11600</td>\n",
       "      <td>Pave</td>\n",
       "      <td>NA</td>\n",
       "      <td>Reg</td>\n",
       "      <td>Lvl</td>\n",
       "      <td>AllPub</td>\n",
       "      <td>...</td>\n",
       "      <td>0</td>\n",
       "      <td>0</td>\n",
       "      <td>NA</td>\n",
       "      <td>NA</td>\n",
       "      <td>0</td>\n",
       "      <td>7</td>\n",
       "      <td>2006</td>\n",
       "      <td>WD</td>\n",
       "      <td>Normal</td>\n",
       "      <td>11.831379</td>\n",
       "    </tr>\n",
       "  </tbody>\n",
       "</table>\n",
       "<p>5 rows × 81 columns</p>\n",
       "</div>"
      ],
      "text/plain": [
       "      id mssubclass mszoning  lotfrontage  lotarea street alley lotshape  \\\n",
       "907  908         50       RL         86.0    11500   Pave    NA      IR1   \n",
       "782  783         20       RL         67.0    16285   Pave    NA      IR2   \n",
       "952  953         85       RL         60.0     7200   Pave    NA      Reg   \n",
       "620  621         30       RL         45.0     8248   Pave  Grvl      Reg   \n",
       "669  670         30       RL         80.0    11600   Pave    NA      Reg   \n",
       "\n",
       "    landcontour utilities  ... poolarea poolqc  fence miscfeature miscval  \\\n",
       "907         Lvl    AllPub  ...        0      0     NA          NA       0   \n",
       "782         Lvl    AllPub  ...        0      0     NA          NA       0   \n",
       "952         Lvl    AllPub  ...        0      0  MnPrv          NA       0   \n",
       "620         Lvl    AllPub  ...        0      0     NA          NA       0   \n",
       "669         Lvl    AllPub  ...        0      0     NA          NA       0   \n",
       "\n",
       "    mosold yrsold  saletype  salecondition      price  \n",
       "907      6   2006        WD         Normal  12.429216  \n",
       "782      6   2009        WD         Normal  12.139399  \n",
       "952      4   2009        WD         Normal  11.804849  \n",
       "620      9   2008        WD         Normal  11.112448  \n",
       "669      7   2006        WD         Normal  11.831379  \n",
       "\n",
       "[5 rows x 81 columns]"
      ]
     },
     "execution_count": 97,
     "metadata": {},
     "output_type": "execute_result"
    }
   ],
   "source": [
    "train_bm.head()"
   ]
  },
  {
   "cell_type": "markdown",
   "id": "ab448182-8812-4864-9702-571bdd8bf2df",
   "metadata": {},
   "source": [
    "### Pipeline For GridSearch"
   ]
  },
  {
   "cell_type": "code",
   "execution_count": 98,
   "id": "ae67a136-c1eb-4640-b5c7-9d2f22dae8bf",
   "metadata": {},
   "outputs": [],
   "source": [
    "encoder = OrdinalEncoder(\n",
    "    encoding_method='ordered',\n",
    "    variables=categorical_transform,\n",
    "    missing_values='ignore',\n",
    "    unseen='encode'\n",
    ")"
   ]
  },
  {
   "cell_type": "code",
   "execution_count": 99,
   "id": "c5ddeb94-2396-4fe6-a1f3-91fd72b2f884",
   "metadata": {},
   "outputs": [],
   "source": [
    "lgb1 = LGBMRegressor()"
   ]
  },
  {
   "cell_type": "code",
   "execution_count": 100,
   "id": "26c7e2b5-2928-42d6-b85d-f2a9267702a2",
   "metadata": {},
   "outputs": [],
   "source": [
    "lgb_pipeline1 = Pipeline(steps=[\n",
    "    ('encoder', encoder),\n",
    "    ('estimator', lgb1)\n",
    "])"
   ]
  },
  {
   "cell_type": "markdown",
   "id": "b654ab86-23b1-4995-b41c-86a8b72d17e5",
   "metadata": {},
   "source": [
    "### GridSearch Iteration #1"
   ]
  },
  {
   "cell_type": "code",
   "execution_count": 101,
   "id": "dbe13590-f091-45ef-b476-b728c8ea819d",
   "metadata": {},
   "outputs": [],
   "source": [
    "params1 = {\n",
    "    'estimator__n_estimators': [25, 50, 75],\n",
    "    'estimator__max_depth': [3, 6, 9],\n",
    "    'estimator__num_leaves': [5, 38, 300],\n",
    "    'estimator__learning_rate': [0.1, 0.3],\n",
    "    'estimator__random_state': [seed],\n",
    "    'estimator__verbose': [-1]\n",
    "}"
   ]
  },
  {
   "cell_type": "code",
   "execution_count": 102,
   "id": "2dceff47-f598-41cb-957b-edeb200d2189",
   "metadata": {},
   "outputs": [],
   "source": [
    "n_folds1 = 20"
   ]
  },
  {
   "cell_type": "code",
   "execution_count": 103,
   "id": "b8312f7e-ab57-4134-984e-775b97d314f0",
   "metadata": {},
   "outputs": [],
   "source": [
    "cv1 = GridSearchCV(\n",
    "    estimator=lgb_pipeline1, \n",
    "    param_grid=params1,\n",
    "    scoring='neg_root_mean_squared_error',\n",
    "    cv=n_folds1\n",
    ")"
   ]
  },
  {
   "cell_type": "code",
   "execution_count": 104,
   "id": "90158028-87c3-44a5-b78c-d112ca3dc6d3",
   "metadata": {},
   "outputs": [
    {
     "name": "stdout",
     "output_type": "stream",
     "text": [
      "Execution time: 0:06:52\n"
     ]
    }
   ],
   "source": [
    "st = stopwatch.start()\n",
    "cv1.fit(train_bm[features], train_bm[target])\n",
    "print(f'Execution time: {stopwatch.stop(st)}')"
   ]
  },
  {
   "cell_type": "code",
   "execution_count": 105,
   "id": "c966bfe6-726e-49ad-a236-56ba1db0ea9b",
   "metadata": {},
   "outputs": [],
   "source": [
    "cv1_results_df = pd.DataFrame(cv1.cv_results_)"
   ]
  },
  {
   "cell_type": "code",
   "execution_count": 106,
   "id": "b26ed3b9-6e5b-4a60-bcd2-f63f68d4419b",
   "metadata": {},
   "outputs": [
    {
     "data": {
      "text/plain": [
       "(54, 34)"
      ]
     },
     "execution_count": 106,
     "metadata": {},
     "output_type": "execute_result"
    }
   ],
   "source": [
    "cv1_results_df.shape"
   ]
  },
  {
   "cell_type": "code",
   "execution_count": 107,
   "id": "15a578b1-8119-4f66-bbcf-c29092bcb27e",
   "metadata": {},
   "outputs": [],
   "source": [
    "cv1_results_df_columns_drop = [\n",
    "    'mean_fit_time', 'std_fit_time', 'mean_score_time', 'std_score_time',\n",
    "]"
   ]
  },
  {
   "cell_type": "code",
   "execution_count": 108,
   "id": "816e515c-95f8-4295-81c5-059e35914aa9",
   "metadata": {},
   "outputs": [],
   "source": [
    "cv1_results_df = cv1_results_df.loc[\n",
    "    :, ~cv1_results_df.columns.isin(cv1_results_df_columns_drop)].copy()"
   ]
  },
  {
   "cell_type": "code",
   "execution_count": 109,
   "id": "2431ce0f-98f8-48e9-900a-710c6695a27d",
   "metadata": {},
   "outputs": [],
   "source": [
    "cv1_results_df = cv1_results_df.sort_values([\n",
    "    'param_estimator__learning_rate', 'param_estimator__n_estimators',\n",
    "    'param_estimator__max_depth', 'param_estimator__num_leaves'\n",
    "], ascending=True)"
   ]
  },
  {
   "cell_type": "code",
   "execution_count": 110,
   "id": "c8cefbf8-6fdf-4a8c-b49e-2c9f7e3f8a45",
   "metadata": {},
   "outputs": [],
   "source": [
    "cv1_results_df = cv1_results_df.reset_index(drop=True)"
   ]
  },
  {
   "cell_type": "code",
   "execution_count": 111,
   "id": "26730b44-5c60-415e-b18d-f44d7df10d09",
   "metadata": {},
   "outputs": [
    {
     "data": {
      "text/html": [
       "<div>\n",
       "<style scoped>\n",
       "    .dataframe tbody tr th:only-of-type {\n",
       "        vertical-align: middle;\n",
       "    }\n",
       "\n",
       "    .dataframe tbody tr th {\n",
       "        vertical-align: top;\n",
       "    }\n",
       "\n",
       "    .dataframe thead th {\n",
       "        text-align: right;\n",
       "    }\n",
       "</style>\n",
       "<table border=\"1\" class=\"dataframe\">\n",
       "  <thead>\n",
       "    <tr style=\"text-align: right;\">\n",
       "      <th></th>\n",
       "      <th>Test</th>\n",
       "      <th>P or Statistic (s)</th>\n",
       "      <th>Condition</th>\n",
       "    </tr>\n",
       "  </thead>\n",
       "  <tbody>\n",
       "    <tr>\n",
       "      <th>0</th>\n",
       "      <td>Kolmogorov-Smirnov</td>\n",
       "      <td>0.0000</td>\n",
       "      <td>Not normal</td>\n",
       "    </tr>\n",
       "    <tr>\n",
       "      <th>1</th>\n",
       "      <td>Anderson-Darling (s)</td>\n",
       "      <td>0.3936</td>\n",
       "      <td>Normal</td>\n",
       "    </tr>\n",
       "    <tr>\n",
       "      <th>2</th>\n",
       "      <td>Shapiro-Wilk</td>\n",
       "      <td>0.2169</td>\n",
       "      <td>Normal</td>\n",
       "    </tr>\n",
       "    <tr>\n",
       "      <th>3</th>\n",
       "      <td>Jarque-Bera</td>\n",
       "      <td>0.1730</td>\n",
       "      <td>Normal</td>\n",
       "    </tr>\n",
       "    <tr>\n",
       "      <th>4</th>\n",
       "      <td>D’Agostino-Pearson</td>\n",
       "      <td>0.0515</td>\n",
       "      <td>Normal</td>\n",
       "    </tr>\n",
       "  </tbody>\n",
       "</table>\n",
       "</div>"
      ],
      "text/plain": [
       "                   Test  P or Statistic (s)   Condition\n",
       "0    Kolmogorov-Smirnov              0.0000  Not normal\n",
       "1  Anderson-Darling (s)              0.3936      Normal\n",
       "2          Shapiro-Wilk              0.2169      Normal\n",
       "3           Jarque-Bera              0.1730      Normal\n",
       "4    D’Agostino-Pearson              0.0515      Normal"
      ]
     },
     "execution_count": 111,
     "metadata": {},
     "output_type": "execute_result"
    }
   ],
   "source": [
    "# folds scores are normal\n",
    "test_normality(cv1_results_df.iloc[0, 7:27].astype(float))"
   ]
  },
  {
   "cell_type": "code",
   "execution_count": 112,
   "id": "a439cb9a-514c-460c-a372-444ac7985974",
   "metadata": {},
   "outputs": [],
   "source": [
    "cv1_results_df['ci_margin'] = \\\n",
    "    1.96 * cv1_results_df['std_test_score']  / np.sqrt(n_folds1)"
   ]
  },
  {
   "cell_type": "raw",
   "id": "3d634924-536f-4289-9109-211f7447009d",
   "metadata": {},
   "source": [
    "cv1_results_df = put_column_after(\n",
    "    cv1_results_df, 'param_estimator__n_estimators', 'param_estimator__learning_rate')"
   ]
  },
  {
   "cell_type": "code",
   "execution_count": 113,
   "id": "91fe9d8c-b825-47c0-837b-2b484503c195",
   "metadata": {},
   "outputs": [],
   "source": [
    "cv1_results_df_params_cols = [\n",
    "    'param_estimator__learning_rate', 'param_estimator__n_estimators',\n",
    "    'param_estimator__max_depth', 'param_estimator__num_leaves'\n",
    "]"
   ]
  },
  {
   "cell_type": "code",
   "execution_count": 114,
   "id": "386ddef4-7aec-465d-b900-a20c3e40b74f",
   "metadata": {},
   "outputs": [
    {
     "data": {
      "text/html": [
       "<div>\n",
       "<style scoped>\n",
       "    .dataframe tbody tr th:only-of-type {\n",
       "        vertical-align: middle;\n",
       "    }\n",
       "\n",
       "    .dataframe tbody tr th {\n",
       "        vertical-align: top;\n",
       "    }\n",
       "\n",
       "    .dataframe thead th {\n",
       "        text-align: right;\n",
       "    }\n",
       "</style>\n",
       "<table border=\"1\" class=\"dataframe\">\n",
       "  <thead>\n",
       "    <tr style=\"text-align: right;\">\n",
       "      <th></th>\n",
       "      <th>param_estimator__learning_rate</th>\n",
       "      <th>param_estimator__max_depth</th>\n",
       "      <th>param_estimator__n_estimators</th>\n",
       "      <th>param_estimator__num_leaves</th>\n",
       "      <th>param_estimator__random_state</th>\n",
       "      <th>param_estimator__verbose</th>\n",
       "      <th>params</th>\n",
       "      <th>split0_test_score</th>\n",
       "      <th>split1_test_score</th>\n",
       "      <th>split2_test_score</th>\n",
       "      <th>...</th>\n",
       "      <th>split14_test_score</th>\n",
       "      <th>split15_test_score</th>\n",
       "      <th>split16_test_score</th>\n",
       "      <th>split17_test_score</th>\n",
       "      <th>split18_test_score</th>\n",
       "      <th>split19_test_score</th>\n",
       "      <th>mean_test_score</th>\n",
       "      <th>std_test_score</th>\n",
       "      <th>rank_test_score</th>\n",
       "      <th>ci_margin</th>\n",
       "    </tr>\n",
       "  </thead>\n",
       "  <tbody>\n",
       "    <tr>\n",
       "      <th>0</th>\n",
       "      <td>0.1</td>\n",
       "      <td>3</td>\n",
       "      <td>25</td>\n",
       "      <td>5</td>\n",
       "      <td>42</td>\n",
       "      <td>-1</td>\n",
       "      <td>{'estimator__learning_rate': 0.1, 'estimator__...</td>\n",
       "      <td>-0.199497</td>\n",
       "      <td>-0.178385</td>\n",
       "      <td>-0.115625</td>\n",
       "      <td>...</td>\n",
       "      <td>-0.144688</td>\n",
       "      <td>-0.152249</td>\n",
       "      <td>-0.141375</td>\n",
       "      <td>-0.173079</td>\n",
       "      <td>-0.118181</td>\n",
       "      <td>-0.143023</td>\n",
       "      <td>-0.161343</td>\n",
       "      <td>0.029907</td>\n",
       "      <td>52</td>\n",
       "      <td>0.013107</td>\n",
       "    </tr>\n",
       "    <tr>\n",
       "      <th>1</th>\n",
       "      <td>0.1</td>\n",
       "      <td>3</td>\n",
       "      <td>25</td>\n",
       "      <td>38</td>\n",
       "      <td>42</td>\n",
       "      <td>-1</td>\n",
       "      <td>{'estimator__learning_rate': 0.1, 'estimator__...</td>\n",
       "      <td>-0.189989</td>\n",
       "      <td>-0.164659</td>\n",
       "      <td>-0.114555</td>\n",
       "      <td>...</td>\n",
       "      <td>-0.135520</td>\n",
       "      <td>-0.149818</td>\n",
       "      <td>-0.138077</td>\n",
       "      <td>-0.167183</td>\n",
       "      <td>-0.108488</td>\n",
       "      <td>-0.126376</td>\n",
       "      <td>-0.153624</td>\n",
       "      <td>0.028702</td>\n",
       "      <td>50</td>\n",
       "      <td>0.012579</td>\n",
       "    </tr>\n",
       "    <tr>\n",
       "      <th>2</th>\n",
       "      <td>0.1</td>\n",
       "      <td>3</td>\n",
       "      <td>25</td>\n",
       "      <td>300</td>\n",
       "      <td>42</td>\n",
       "      <td>-1</td>\n",
       "      <td>{'estimator__learning_rate': 0.1, 'estimator__...</td>\n",
       "      <td>-0.189989</td>\n",
       "      <td>-0.164659</td>\n",
       "      <td>-0.114555</td>\n",
       "      <td>...</td>\n",
       "      <td>-0.135520</td>\n",
       "      <td>-0.149818</td>\n",
       "      <td>-0.138077</td>\n",
       "      <td>-0.167183</td>\n",
       "      <td>-0.108488</td>\n",
       "      <td>-0.126376</td>\n",
       "      <td>-0.153624</td>\n",
       "      <td>0.028702</td>\n",
       "      <td>50</td>\n",
       "      <td>0.012579</td>\n",
       "    </tr>\n",
       "    <tr>\n",
       "      <th>3</th>\n",
       "      <td>0.1</td>\n",
       "      <td>6</td>\n",
       "      <td>25</td>\n",
       "      <td>5</td>\n",
       "      <td>42</td>\n",
       "      <td>-1</td>\n",
       "      <td>{'estimator__learning_rate': 0.1, 'estimator__...</td>\n",
       "      <td>-0.199497</td>\n",
       "      <td>-0.178385</td>\n",
       "      <td>-0.115625</td>\n",
       "      <td>...</td>\n",
       "      <td>-0.145264</td>\n",
       "      <td>-0.153843</td>\n",
       "      <td>-0.141375</td>\n",
       "      <td>-0.173079</td>\n",
       "      <td>-0.118181</td>\n",
       "      <td>-0.143023</td>\n",
       "      <td>-0.161452</td>\n",
       "      <td>0.029868</td>\n",
       "      <td>53</td>\n",
       "      <td>0.013090</td>\n",
       "    </tr>\n",
       "    <tr>\n",
       "      <th>4</th>\n",
       "      <td>0.1</td>\n",
       "      <td>6</td>\n",
       "      <td>25</td>\n",
       "      <td>38</td>\n",
       "      <td>42</td>\n",
       "      <td>-1</td>\n",
       "      <td>{'estimator__learning_rate': 0.1, 'estimator__...</td>\n",
       "      <td>-0.175696</td>\n",
       "      <td>-0.142110</td>\n",
       "      <td>-0.110987</td>\n",
       "      <td>...</td>\n",
       "      <td>-0.129136</td>\n",
       "      <td>-0.126381</td>\n",
       "      <td>-0.123288</td>\n",
       "      <td>-0.162059</td>\n",
       "      <td>-0.099800</td>\n",
       "      <td>-0.111415</td>\n",
       "      <td>-0.140312</td>\n",
       "      <td>0.026451</td>\n",
       "      <td>48</td>\n",
       "      <td>0.011593</td>\n",
       "    </tr>\n",
       "  </tbody>\n",
       "</table>\n",
       "<p>5 rows × 31 columns</p>\n",
       "</div>"
      ],
      "text/plain": [
       "  param_estimator__learning_rate param_estimator__max_depth  \\\n",
       "0                            0.1                          3   \n",
       "1                            0.1                          3   \n",
       "2                            0.1                          3   \n",
       "3                            0.1                          6   \n",
       "4                            0.1                          6   \n",
       "\n",
       "  param_estimator__n_estimators param_estimator__num_leaves  \\\n",
       "0                            25                           5   \n",
       "1                            25                          38   \n",
       "2                            25                         300   \n",
       "3                            25                           5   \n",
       "4                            25                          38   \n",
       "\n",
       "  param_estimator__random_state param_estimator__verbose  \\\n",
       "0                            42                       -1   \n",
       "1                            42                       -1   \n",
       "2                            42                       -1   \n",
       "3                            42                       -1   \n",
       "4                            42                       -1   \n",
       "\n",
       "                                              params  split0_test_score  \\\n",
       "0  {'estimator__learning_rate': 0.1, 'estimator__...          -0.199497   \n",
       "1  {'estimator__learning_rate': 0.1, 'estimator__...          -0.189989   \n",
       "2  {'estimator__learning_rate': 0.1, 'estimator__...          -0.189989   \n",
       "3  {'estimator__learning_rate': 0.1, 'estimator__...          -0.199497   \n",
       "4  {'estimator__learning_rate': 0.1, 'estimator__...          -0.175696   \n",
       "\n",
       "   split1_test_score  split2_test_score  ...  split14_test_score  \\\n",
       "0          -0.178385          -0.115625  ...           -0.144688   \n",
       "1          -0.164659          -0.114555  ...           -0.135520   \n",
       "2          -0.164659          -0.114555  ...           -0.135520   \n",
       "3          -0.178385          -0.115625  ...           -0.145264   \n",
       "4          -0.142110          -0.110987  ...           -0.129136   \n",
       "\n",
       "   split15_test_score  split16_test_score  split17_test_score  \\\n",
       "0           -0.152249           -0.141375           -0.173079   \n",
       "1           -0.149818           -0.138077           -0.167183   \n",
       "2           -0.149818           -0.138077           -0.167183   \n",
       "3           -0.153843           -0.141375           -0.173079   \n",
       "4           -0.126381           -0.123288           -0.162059   \n",
       "\n",
       "   split18_test_score  split19_test_score  mean_test_score  std_test_score  \\\n",
       "0           -0.118181           -0.143023        -0.161343        0.029907   \n",
       "1           -0.108488           -0.126376        -0.153624        0.028702   \n",
       "2           -0.108488           -0.126376        -0.153624        0.028702   \n",
       "3           -0.118181           -0.143023        -0.161452        0.029868   \n",
       "4           -0.099800           -0.111415        -0.140312        0.026451   \n",
       "\n",
       "   rank_test_score  ci_margin  \n",
       "0               52   0.013107  \n",
       "1               50   0.012579  \n",
       "2               50   0.012579  \n",
       "3               53   0.013090  \n",
       "4               48   0.011593  \n",
       "\n",
       "[5 rows x 31 columns]"
      ]
     },
     "execution_count": 114,
     "metadata": {},
     "output_type": "execute_result"
    }
   ],
   "source": [
    "cv1_results_df.head()"
   ]
  },
  {
   "cell_type": "code",
   "execution_count": 115,
   "id": "fa99e806-e354-4695-bc2c-87c4d6694565",
   "metadata": {},
   "outputs": [],
   "source": [
    "# sort thw simplest model if several equal mean_test_scores\n",
    "cv1_results_df_best_score_idx = \\\n",
    "    (cv1_results_df\n",
    "     .sort_values(['param_estimator__n_estimators',\n",
    "                   'param_estimator__max_depth',\n",
    "                   'param_estimator__num_leaves'])\n",
    "     .sort_values(['mean_test_score'], ascending=False)).iloc[0].name"
   ]
  },
  {
   "cell_type": "code",
   "execution_count": 116,
   "id": "04c752ae-3505-4b10-91d8-148604f52103",
   "metadata": {},
   "outputs": [
    {
     "data": {
      "text/plain": [
       "26"
      ]
     },
     "execution_count": 116,
     "metadata": {},
     "output_type": "execute_result"
    }
   ],
   "source": [
    "cv1_results_df_best_score_idx"
   ]
  },
  {
   "cell_type": "code",
   "execution_count": 117,
   "id": "4dba0a2a-0c2f-4f19-a07c-eac3c21e9b38",
   "metadata": {},
   "outputs": [],
   "source": [
    "cv1_results_df_best_score = cv1_results_df.loc[\n",
    "    cv1_results_df.index==cv1_results_df_best_score_idx, 'mean_test_score'\n",
    "].item()"
   ]
  },
  {
   "cell_type": "code",
   "execution_count": 118,
   "id": "6e7be787-4d8f-4b4e-bc3f-955d30127d92",
   "metadata": {},
   "outputs": [],
   "source": [
    "cv1_results_df_best_score_ci_margin = cv1_results_df.loc[\n",
    "    cv1_results_df.index==cv1_results_df_best_score_idx, 'ci_margin'\n",
    "].item()"
   ]
  },
  {
   "cell_type": "code",
   "execution_count": 119,
   "id": "e0ef66da-88ab-4d6a-8f30-163b3b2988d8",
   "metadata": {},
   "outputs": [],
   "source": [
    "# define colors of pointplot's elements\n",
    "cv1_results_df_colors = [palette[-4]] * 54\n",
    "cv1_results_df_colors[cv1_results_df_best_score_idx] = palette[1]"
   ]
  },
  {
   "cell_type": "code",
   "execution_count": 120,
   "id": "03146d67-261d-44c5-98fe-54fac747baa2",
   "metadata": {},
   "outputs": [],
   "source": [
    "ml1_xticks = [54, 18, 6, 2]"
   ]
  },
  {
   "cell_type": "code",
   "execution_count": 121,
   "id": "fd517237-fedd-4476-b066-156fde2712c5",
   "metadata": {},
   "outputs": [],
   "source": [
    "ml1_labels = [\n",
    "    ['5', '38', '300'] * 18,\n",
    "    ['Dep.: 3', 'Dep.: 6', 'Dep.: 9'] * 6,\n",
    "    ['Trees: 25', 'Trees: 50', 'Trees:75'] * 2,\n",
    "    ['Learning rate: 0.1', 'Learning rate: 0.3']\n",
    "]"
   ]
  },
  {
   "cell_type": "code",
   "execution_count": 122,
   "id": "363326e0-f71c-4b80-a300-3d8fb3dee1f7",
   "metadata": {},
   "outputs": [
    {
     "data": {
      "image/png": "[encoded data removed]",
      "text/plain": [
       "<Figure size 1100x250 with 9 Axes>"
      ]
     },
     "metadata": {},
     "output_type": "display_data"
    },
    {
     "name": "stdout",
     "output_type": "stream",
     "text": [
      "Image 'gridsearch1.svg' successfully saved into 'img/Section1-Overview-and-Base-model' directory\n"
     ]
    }
   ],
   "source": [
    "fig, ax = plt.subplots(figsize=(11, 2.5))\n",
    "\n",
    "zip_ = [\n",
    "    cv1_results_df.index, cv1_results_df['mean_test_score'],\n",
    "    cv1_results_df['ci_margin'], cv1_results_df_colors\n",
    "]\n",
    "for x_, y_, ci_, c_ in zip(*zip_): \n",
    "    if x_ == cv1_results_df_best_score_idx:\n",
    "        ax.errorbar(\n",
    "            x=x_,\n",
    "            y=y_,\n",
    "            yerr=ci_,\n",
    "            fmt='o',\n",
    "            markersize=2,\n",
    "            c=c_,\n",
    "            linestyle='none',\n",
    "            elinewidth=1,\n",
    "            capsize=1.1,\n",
    "            ecolor=c_,\n",
    "            zorder=1,\n",
    "        )\n",
    "    else:\n",
    "        ax.errorbar(\n",
    "            x=x_,\n",
    "            y=y_,\n",
    "            yerr=ci_,\n",
    "            fmt='o',\n",
    "            markersize=1.5,\n",
    "            c=c_,\n",
    "            linestyle='none',\n",
    "            elinewidth=1,\n",
    "            capsize=1,\n",
    "            ecolor=c_,\n",
    "            zorder=1\n",
    "        )\n",
    "ax.set_xticks(ticks=arange(len(cv1_results_df)))\n",
    "axis_rstyle()\n",
    "axis_add_xaxis(\n",
    "    ml1_xticks, ml1_labels, offset=10, offset_first_axis=5,\n",
    "    color_labels=palette[-4], color_ticks='#BBBBBB')\n",
    "ax.tick_params(axis='x', bottom=False, labelbottom=False)\n",
    "plt.show()\n",
    "\n",
    "savefig('gridsearch1', dir_save)"
   ]
  },
  {
   "cell_type": "code",
   "execution_count": 123,
   "id": "dbeac16d-b87e-4535-afac-57c580c6f068",
   "metadata": {},
   "outputs": [],
   "source": [
    "best_params1 = cv1_results_df.loc[\n",
    "    cv1_results_df.index==cv1_results_df_best_score_idx, 'params'\n",
    "].item()"
   ]
  },
  {
   "cell_type": "code",
   "execution_count": 124,
   "id": "c45038d6-0a29-4ba6-b12e-183a176d6518",
   "metadata": {},
   "outputs": [],
   "source": [
    "best_score1 = round(cv1_results_df_best_score, 4)"
   ]
  },
  {
   "cell_type": "code",
   "execution_count": 125,
   "id": "22bbed30-ab4b-42d1-9bb5-2526e4495e95",
   "metadata": {},
   "outputs": [
    {
     "data": {
      "text/plain": [
       "-0.1282"
      ]
     },
     "execution_count": 125,
     "metadata": {},
     "output_type": "execute_result"
    }
   ],
   "source": [
    "best_score1"
   ]
  },
  {
   "cell_type": "code",
   "execution_count": 126,
   "id": "aeefaea1-d2d8-4b5c-820b-1fbed549fa99",
   "metadata": {},
   "outputs": [
    {
     "data": {
      "text/plain": [
       "{'estimator__learning_rate': 0.1,\n",
       " 'estimator__max_depth': 9,\n",
       " 'estimator__n_estimators': 75,\n",
       " 'estimator__num_leaves': 300,\n",
       " 'estimator__random_state': 42,\n",
       " 'estimator__verbose': -1}"
      ]
     },
     "execution_count": 126,
     "metadata": {},
     "output_type": "execute_result"
    }
   ],
   "source": [
    "best_params1"
   ]
  },
  {
   "cell_type": "markdown",
   "id": "37f82581-71e4-4e98-8638-2127e6d88590",
   "metadata": {},
   "source": [
    "### GridSearch Iteration #2"
   ]
  },
  {
   "cell_type": "code",
   "execution_count": 127,
   "id": "dbf12edd-bfe9-4a00-b614-9925ea2d8be2",
   "metadata": {},
   "outputs": [],
   "source": [
    "lgb2 = LGBMRegressor()"
   ]
  },
  {
   "cell_type": "code",
   "execution_count": 128,
   "id": "e0b2ad83-c3ec-41c3-9966-e90eabbaa329",
   "metadata": {},
   "outputs": [],
   "source": [
    "lgb_pipeline2 = Pipeline(steps=[\n",
    "    ('encoder', encoder),\n",
    "    ('estimator', lgb2)\n",
    "])"
   ]
  },
  {
   "cell_type": "code",
   "execution_count": 129,
   "id": "e4fb159b-0a67-458e-b630-5149a766bf2c",
   "metadata": {},
   "outputs": [],
   "source": [
    "learning_rate = [best_params1['estimator__learning_rate']]\n",
    "\n",
    "max_depth_val = best_params1['estimator__max_depth']\n",
    "max_depth = list(arange(max_depth_val-2, max_depth_val+3))\n",
    "\n",
    "n_estimators_val = best_params1['estimator__n_estimators']\n",
    "n_estimators = [n_estimators_val-5, n_estimators_val, n_estimators_val+5]\n",
    "\n",
    "num_leaves_val = best_params1['estimator__num_leaves']\n",
    "num_leaves = [num_leaves_val-15, num_leaves_val, num_leaves_val+15]"
   ]
  },
  {
   "cell_type": "code",
   "execution_count": 130,
   "id": "7ccb63f7-8489-463b-9a78-82612a8de728",
   "metadata": {},
   "outputs": [],
   "source": [
    "params2 = {\n",
    "    'estimator__learning_rate': learning_rate,\n",
    "    'estimator__max_depth': max_depth,\n",
    "    'estimator__n_estimators': n_estimators,\n",
    "    'estimator__num_leaves': num_leaves,\n",
    "    'estimator__random_state': [seed],\n",
    "    'estimator__verbose': [-1]\n",
    "}"
   ]
  },
  {
   "cell_type": "code",
   "execution_count": 131,
   "id": "bd49a952-444d-4a33-a8ab-68054eac299f",
   "metadata": {},
   "outputs": [
    {
     "data": {
      "text/plain": [
       "{'estimator__learning_rate': [0.1],\n",
       " 'estimator__max_depth': [7, 8, 9, 10, 11],\n",
       " 'estimator__n_estimators': [70, 75, 80],\n",
       " 'estimator__num_leaves': [285, 300, 315],\n",
       " 'estimator__random_state': [42],\n",
       " 'estimator__verbose': [-1]}"
      ]
     },
     "execution_count": 131,
     "metadata": {},
     "output_type": "execute_result"
    }
   ],
   "source": [
    "params2"
   ]
  },
  {
   "cell_type": "code",
   "execution_count": 132,
   "id": "f086e08d-6b83-4e58-aa29-11cb80f25090",
   "metadata": {},
   "outputs": [],
   "source": [
    "n_folds2 = 20"
   ]
  },
  {
   "cell_type": "code",
   "execution_count": 133,
   "id": "945e55c2-6422-4c4e-adcb-fbf22088564e",
   "metadata": {},
   "outputs": [],
   "source": [
    "cv2 = GridSearchCV(\n",
    "    estimator=lgb_pipeline2, \n",
    "    param_grid=params2,\n",
    "    scoring='neg_root_mean_squared_error',\n",
    "    cv=n_folds2\n",
    ")"
   ]
  },
  {
   "cell_type": "code",
   "execution_count": 134,
   "id": "1db5c824-b5be-4484-badb-664fc92c8476",
   "metadata": {},
   "outputs": [
    {
     "name": "stdout",
     "output_type": "stream",
     "text": [
      "Execution time: 0:06:29\n"
     ]
    }
   ],
   "source": [
    "st = stopwatch.start()\n",
    "cv2.fit(train_bm[features], train_bm[target])\n",
    "print(f'Execution time: {stopwatch.stop(st)}')"
   ]
  },
  {
   "cell_type": "code",
   "execution_count": 135,
   "id": "325df3db-1ab5-40a7-b0f2-5196ceff34ae",
   "metadata": {},
   "outputs": [],
   "source": [
    "cv2_results_df = pd.DataFrame(cv2.cv_results_)"
   ]
  },
  {
   "cell_type": "code",
   "execution_count": 136,
   "id": "62d5fd38-8e98-4239-b5d3-7886d99fbb14",
   "metadata": {},
   "outputs": [
    {
     "data": {
      "text/plain": [
       "(45, 34)"
      ]
     },
     "execution_count": 136,
     "metadata": {},
     "output_type": "execute_result"
    }
   ],
   "source": [
    "cv2_results_df.shape"
   ]
  },
  {
   "cell_type": "code",
   "execution_count": 137,
   "id": "a179ce56-d2f3-416a-b826-9291167967ca",
   "metadata": {},
   "outputs": [],
   "source": [
    "cv2_results_df_columns_drop = [\n",
    "    'mean_fit_time', 'std_fit_time', 'mean_score_time', 'std_score_time',\n",
    "]"
   ]
  },
  {
   "cell_type": "code",
   "execution_count": 138,
   "id": "4f696a90-c488-4f04-89e7-3c9440d7ccaa",
   "metadata": {},
   "outputs": [],
   "source": [
    "cv2_results_df = cv2_results_df.loc[\n",
    "    :, ~cv2_results_df.columns.isin(cv2_results_df_columns_drop)].copy()"
   ]
  },
  {
   "cell_type": "code",
   "execution_count": 139,
   "id": "3d99eae6-1d3e-4170-8122-7c71f6e03133",
   "metadata": {},
   "outputs": [],
   "source": [
    "cv2_results_df = cv2_results_df.sort_values([\n",
    "    'param_estimator__learning_rate', 'param_estimator__n_estimators',\n",
    "    'param_estimator__max_depth', 'param_estimator__num_leaves'\n",
    "], ascending=True)"
   ]
  },
  {
   "cell_type": "code",
   "execution_count": 140,
   "id": "5edbaa00-ba00-4d5a-bba7-633a26f30e5a",
   "metadata": {},
   "outputs": [],
   "source": [
    "cv2_results_df = cv2_results_df.reset_index(drop=True)"
   ]
  },
  {
   "cell_type": "code",
   "execution_count": 141,
   "id": "0aeb3a96-1bd9-493f-9370-607c08cda072",
   "metadata": {},
   "outputs": [
    {
     "data": {
      "text/html": [
       "<div>\n",
       "<style scoped>\n",
       "    .dataframe tbody tr th:only-of-type {\n",
       "        vertical-align: middle;\n",
       "    }\n",
       "\n",
       "    .dataframe tbody tr th {\n",
       "        vertical-align: top;\n",
       "    }\n",
       "\n",
       "    .dataframe thead th {\n",
       "        text-align: right;\n",
       "    }\n",
       "</style>\n",
       "<table border=\"1\" class=\"dataframe\">\n",
       "  <thead>\n",
       "    <tr style=\"text-align: right;\">\n",
       "      <th></th>\n",
       "      <th>Test</th>\n",
       "      <th>P or Statistic (s)</th>\n",
       "      <th>Condition</th>\n",
       "    </tr>\n",
       "  </thead>\n",
       "  <tbody>\n",
       "    <tr>\n",
       "      <th>0</th>\n",
       "      <td>Kolmogorov-Smirnov</td>\n",
       "      <td>0.0000</td>\n",
       "      <td>Not normal</td>\n",
       "    </tr>\n",
       "    <tr>\n",
       "      <th>1</th>\n",
       "      <td>Anderson-Darling (s)</td>\n",
       "      <td>0.2939</td>\n",
       "      <td>Normal</td>\n",
       "    </tr>\n",
       "    <tr>\n",
       "      <th>2</th>\n",
       "      <td>Shapiro-Wilk</td>\n",
       "      <td>0.6072</td>\n",
       "      <td>Normal</td>\n",
       "    </tr>\n",
       "    <tr>\n",
       "      <th>3</th>\n",
       "      <td>Jarque-Bera</td>\n",
       "      <td>0.7430</td>\n",
       "      <td>Normal</td>\n",
       "    </tr>\n",
       "    <tr>\n",
       "      <th>4</th>\n",
       "      <td>D’Agostino-Pearson</td>\n",
       "      <td>0.7667</td>\n",
       "      <td>Normal</td>\n",
       "    </tr>\n",
       "  </tbody>\n",
       "</table>\n",
       "</div>"
      ],
      "text/plain": [
       "                   Test  P or Statistic (s)   Condition\n",
       "0    Kolmogorov-Smirnov              0.0000  Not normal\n",
       "1  Anderson-Darling (s)              0.2939      Normal\n",
       "2          Shapiro-Wilk              0.6072      Normal\n",
       "3           Jarque-Bera              0.7430      Normal\n",
       "4    D’Agostino-Pearson              0.7667      Normal"
      ]
     },
     "execution_count": 141,
     "metadata": {},
     "output_type": "execute_result"
    }
   ],
   "source": [
    "# folds scores are normal\n",
    "test_normality(cv2_results_df.iloc[0, 7:27].astype(float))"
   ]
  },
  {
   "cell_type": "code",
   "execution_count": 142,
   "id": "e46051cc-e1df-458a-8936-e3645ace350f",
   "metadata": {},
   "outputs": [],
   "source": [
    "cv2_results_df['ci_margin'] = \\\n",
    "    1.96 * cv2_results_df['std_test_score'] / np.sqrt(n_folds1)"
   ]
  },
  {
   "cell_type": "raw",
   "id": "75a75678-89e1-4255-a33a-0c3b00c0cd40",
   "metadata": {},
   "source": [
    "cv2_results_df = put_column_after(\n",
    "    cv2_results_df, 'param_estimator__n_estimators', 'param_estimator__learning_rate')"
   ]
  },
  {
   "cell_type": "code",
   "execution_count": 143,
   "id": "4c3a3d12-150a-411d-8f55-cff922c5657c",
   "metadata": {},
   "outputs": [],
   "source": [
    "cv2_results_df_params_cols = [\n",
    "    'param_estimator__learning_rate', 'param_estimator__n_estimators',\n",
    "    'param_estimator__max_depth', 'param_estimator__num_leaves'\n",
    "]"
   ]
  },
  {
   "cell_type": "code",
   "execution_count": 144,
   "id": "a88c47a1-f175-4632-9898-f9f4d72d15d1",
   "metadata": {},
   "outputs": [
    {
     "data": {
      "text/html": [
       "<div>\n",
       "<style scoped>\n",
       "    .dataframe tbody tr th:only-of-type {\n",
       "        vertical-align: middle;\n",
       "    }\n",
       "\n",
       "    .dataframe tbody tr th {\n",
       "        vertical-align: top;\n",
       "    }\n",
       "\n",
       "    .dataframe thead th {\n",
       "        text-align: right;\n",
       "    }\n",
       "</style>\n",
       "<table border=\"1\" class=\"dataframe\">\n",
       "  <thead>\n",
       "    <tr style=\"text-align: right;\">\n",
       "      <th></th>\n",
       "      <th>param_estimator__learning_rate</th>\n",
       "      <th>param_estimator__max_depth</th>\n",
       "      <th>param_estimator__n_estimators</th>\n",
       "      <th>param_estimator__num_leaves</th>\n",
       "      <th>param_estimator__random_state</th>\n",
       "      <th>param_estimator__verbose</th>\n",
       "      <th>params</th>\n",
       "      <th>split0_test_score</th>\n",
       "      <th>split1_test_score</th>\n",
       "      <th>split2_test_score</th>\n",
       "      <th>...</th>\n",
       "      <th>split14_test_score</th>\n",
       "      <th>split15_test_score</th>\n",
       "      <th>split16_test_score</th>\n",
       "      <th>split17_test_score</th>\n",
       "      <th>split18_test_score</th>\n",
       "      <th>split19_test_score</th>\n",
       "      <th>mean_test_score</th>\n",
       "      <th>std_test_score</th>\n",
       "      <th>rank_test_score</th>\n",
       "      <th>ci_margin</th>\n",
       "    </tr>\n",
       "  </thead>\n",
       "  <tbody>\n",
       "    <tr>\n",
       "      <th>0</th>\n",
       "      <td>0.1</td>\n",
       "      <td>7</td>\n",
       "      <td>70</td>\n",
       "      <td>285</td>\n",
       "      <td>42</td>\n",
       "      <td>-1</td>\n",
       "      <td>{'estimator__learning_rate': 0.1, 'estimator__...</td>\n",
       "      <td>-0.163877</td>\n",
       "      <td>-0.124761</td>\n",
       "      <td>-0.113160</td>\n",
       "      <td>...</td>\n",
       "      <td>-0.123605</td>\n",
       "      <td>-0.122667</td>\n",
       "      <td>-0.109503</td>\n",
       "      <td>-0.149767</td>\n",
       "      <td>-0.092091</td>\n",
       "      <td>-0.088229</td>\n",
       "      <td>-0.128808</td>\n",
       "      <td>0.025415</td>\n",
       "      <td>43</td>\n",
       "      <td>0.011139</td>\n",
       "    </tr>\n",
       "    <tr>\n",
       "      <th>1</th>\n",
       "      <td>0.1</td>\n",
       "      <td>7</td>\n",
       "      <td>70</td>\n",
       "      <td>300</td>\n",
       "      <td>42</td>\n",
       "      <td>-1</td>\n",
       "      <td>{'estimator__learning_rate': 0.1, 'estimator__...</td>\n",
       "      <td>-0.163877</td>\n",
       "      <td>-0.124761</td>\n",
       "      <td>-0.113160</td>\n",
       "      <td>...</td>\n",
       "      <td>-0.123605</td>\n",
       "      <td>-0.122667</td>\n",
       "      <td>-0.109503</td>\n",
       "      <td>-0.149767</td>\n",
       "      <td>-0.092091</td>\n",
       "      <td>-0.088229</td>\n",
       "      <td>-0.128808</td>\n",
       "      <td>0.025415</td>\n",
       "      <td>43</td>\n",
       "      <td>0.011139</td>\n",
       "    </tr>\n",
       "    <tr>\n",
       "      <th>2</th>\n",
       "      <td>0.1</td>\n",
       "      <td>7</td>\n",
       "      <td>70</td>\n",
       "      <td>315</td>\n",
       "      <td>42</td>\n",
       "      <td>-1</td>\n",
       "      <td>{'estimator__learning_rate': 0.1, 'estimator__...</td>\n",
       "      <td>-0.163877</td>\n",
       "      <td>-0.124761</td>\n",
       "      <td>-0.113160</td>\n",
       "      <td>...</td>\n",
       "      <td>-0.123605</td>\n",
       "      <td>-0.122667</td>\n",
       "      <td>-0.109503</td>\n",
       "      <td>-0.149767</td>\n",
       "      <td>-0.092091</td>\n",
       "      <td>-0.088229</td>\n",
       "      <td>-0.128808</td>\n",
       "      <td>0.025415</td>\n",
       "      <td>43</td>\n",
       "      <td>0.011139</td>\n",
       "    </tr>\n",
       "    <tr>\n",
       "      <th>3</th>\n",
       "      <td>0.1</td>\n",
       "      <td>8</td>\n",
       "      <td>70</td>\n",
       "      <td>285</td>\n",
       "      <td>42</td>\n",
       "      <td>-1</td>\n",
       "      <td>{'estimator__learning_rate': 0.1, 'estimator__...</td>\n",
       "      <td>-0.164033</td>\n",
       "      <td>-0.127167</td>\n",
       "      <td>-0.113676</td>\n",
       "      <td>...</td>\n",
       "      <td>-0.117979</td>\n",
       "      <td>-0.123246</td>\n",
       "      <td>-0.104226</td>\n",
       "      <td>-0.152301</td>\n",
       "      <td>-0.086329</td>\n",
       "      <td>-0.085898</td>\n",
       "      <td>-0.127987</td>\n",
       "      <td>0.026969</td>\n",
       "      <td>16</td>\n",
       "      <td>0.011820</td>\n",
       "    </tr>\n",
       "    <tr>\n",
       "      <th>4</th>\n",
       "      <td>0.1</td>\n",
       "      <td>8</td>\n",
       "      <td>70</td>\n",
       "      <td>300</td>\n",
       "      <td>42</td>\n",
       "      <td>-1</td>\n",
       "      <td>{'estimator__learning_rate': 0.1, 'estimator__...</td>\n",
       "      <td>-0.164033</td>\n",
       "      <td>-0.127167</td>\n",
       "      <td>-0.113676</td>\n",
       "      <td>...</td>\n",
       "      <td>-0.117979</td>\n",
       "      <td>-0.123246</td>\n",
       "      <td>-0.104226</td>\n",
       "      <td>-0.152301</td>\n",
       "      <td>-0.086329</td>\n",
       "      <td>-0.085898</td>\n",
       "      <td>-0.127987</td>\n",
       "      <td>0.026969</td>\n",
       "      <td>16</td>\n",
       "      <td>0.011820</td>\n",
       "    </tr>\n",
       "  </tbody>\n",
       "</table>\n",
       "<p>5 rows × 31 columns</p>\n",
       "</div>"
      ],
      "text/plain": [
       "  param_estimator__learning_rate param_estimator__max_depth  \\\n",
       "0                            0.1                          7   \n",
       "1                            0.1                          7   \n",
       "2                            0.1                          7   \n",
       "3                            0.1                          8   \n",
       "4                            0.1                          8   \n",
       "\n",
       "  param_estimator__n_estimators param_estimator__num_leaves  \\\n",
       "0                            70                         285   \n",
       "1                            70                         300   \n",
       "2                            70                         315   \n",
       "3                            70                         285   \n",
       "4                            70                         300   \n",
       "\n",
       "  param_estimator__random_state param_estimator__verbose  \\\n",
       "0                            42                       -1   \n",
       "1                            42                       -1   \n",
       "2                            42                       -1   \n",
       "3                            42                       -1   \n",
       "4                            42                       -1   \n",
       "\n",
       "                                              params  split0_test_score  \\\n",
       "0  {'estimator__learning_rate': 0.1, 'estimator__...          -0.163877   \n",
       "1  {'estimator__learning_rate': 0.1, 'estimator__...          -0.163877   \n",
       "2  {'estimator__learning_rate': 0.1, 'estimator__...          -0.163877   \n",
       "3  {'estimator__learning_rate': 0.1, 'estimator__...          -0.164033   \n",
       "4  {'estimator__learning_rate': 0.1, 'estimator__...          -0.164033   \n",
       "\n",
       "   split1_test_score  split2_test_score  ...  split14_test_score  \\\n",
       "0          -0.124761          -0.113160  ...           -0.123605   \n",
       "1          -0.124761          -0.113160  ...           -0.123605   \n",
       "2          -0.124761          -0.113160  ...           -0.123605   \n",
       "3          -0.127167          -0.113676  ...           -0.117979   \n",
       "4          -0.127167          -0.113676  ...           -0.117979   \n",
       "\n",
       "   split15_test_score  split16_test_score  split17_test_score  \\\n",
       "0           -0.122667           -0.109503           -0.149767   \n",
       "1           -0.122667           -0.109503           -0.149767   \n",
       "2           -0.122667           -0.109503           -0.149767   \n",
       "3           -0.123246           -0.104226           -0.152301   \n",
       "4           -0.123246           -0.104226           -0.152301   \n",
       "\n",
       "   split18_test_score  split19_test_score  mean_test_score  std_test_score  \\\n",
       "0           -0.092091           -0.088229        -0.128808        0.025415   \n",
       "1           -0.092091           -0.088229        -0.128808        0.025415   \n",
       "2           -0.092091           -0.088229        -0.128808        0.025415   \n",
       "3           -0.086329           -0.085898        -0.127987        0.026969   \n",
       "4           -0.086329           -0.085898        -0.127987        0.026969   \n",
       "\n",
       "   rank_test_score  ci_margin  \n",
       "0               43   0.011139  \n",
       "1               43   0.011139  \n",
       "2               43   0.011139  \n",
       "3               16   0.011820  \n",
       "4               16   0.011820  \n",
       "\n",
       "[5 rows x 31 columns]"
      ]
     },
     "execution_count": 144,
     "metadata": {},
     "output_type": "execute_result"
    }
   ],
   "source": [
    "cv2_results_df.head()"
   ]
  },
  {
   "cell_type": "code",
   "execution_count": 145,
   "id": "942d8efb-8c90-4576-9c62-95ba85cd088f",
   "metadata": {},
   "outputs": [],
   "source": [
    "# sort thw simplest model if several equal mean_test_scores\n",
    "cv2_results_df_best_score_idx = \\\n",
    "    (cv2_results_df\n",
    "     .sort_values(['param_estimator__n_estimators',\n",
    "                   'param_estimator__max_depth',\n",
    "                   'param_estimator__num_leaves'])\n",
    "     .sort_values(['mean_test_score'], ascending=False)).iloc[0].name"
   ]
  },
  {
   "cell_type": "code",
   "execution_count": 146,
   "id": "af164a88-8f43-4590-bce1-49fe31cd0cce",
   "metadata": {},
   "outputs": [
    {
     "data": {
      "text/plain": [
       "12"
      ]
     },
     "execution_count": 146,
     "metadata": {},
     "output_type": "execute_result"
    }
   ],
   "source": [
    "cv2_results_df_best_score_idx"
   ]
  },
  {
   "cell_type": "code",
   "execution_count": 147,
   "id": "fa377030-d6da-4be3-93ae-382cfccd4af4",
   "metadata": {},
   "outputs": [],
   "source": [
    "cv2_results_df_best_score = cv2_results_df.loc[\n",
    "    cv2_results_df.index==cv2_results_df_best_score_idx, 'mean_test_score'\n",
    "].item()"
   ]
  },
  {
   "cell_type": "code",
   "execution_count": 148,
   "id": "90fc99cc-b9d8-4b1b-8126-15690e440135",
   "metadata": {},
   "outputs": [],
   "source": [
    "cv2_results_df_best_score_ci_margin = cv2_results_df.loc[\n",
    "    cv2_results_df.index==cv2_results_df_best_score_idx, 'ci_margin'\n",
    "].item()"
   ]
  },
  {
   "cell_type": "code",
   "execution_count": 149,
   "id": "8769a23a-d99c-4fa9-b787-7918fde1b9bf",
   "metadata": {},
   "outputs": [
    {
     "data": {
      "text/plain": [
       "45"
      ]
     },
     "execution_count": 149,
     "metadata": {},
     "output_type": "execute_result"
    }
   ],
   "source": [
    "len(cv2_results_df)"
   ]
  },
  {
   "cell_type": "code",
   "execution_count": 150,
   "id": "1b3b2e39-1491-4140-ac99-74bd8b88343e",
   "metadata": {},
   "outputs": [],
   "source": [
    "# define colors of pointplot's elements\n",
    "cv2_results_df_colors = [palette[-4]] * 45\n",
    "cv2_results_df_colors[cv2_results_df_best_score_idx] = palette[1]"
   ]
  },
  {
   "cell_type": "code",
   "execution_count": 151,
   "id": "06cb5cf4-c54f-4cfd-9a24-6d9ddcd9633f",
   "metadata": {},
   "outputs": [],
   "source": [
    "ml2_xticks = [45, 15, 3, 1]"
   ]
  },
  {
   "cell_type": "code",
   "execution_count": 152,
   "id": "8e2227a4-4931-4983-8630-69ea2ae8aeee",
   "metadata": {},
   "outputs": [],
   "source": [
    "ml2_labels = [\n",
    "    ['285', '300', '315'] * 15,\n",
    "    ['Dep.: 7', 'Dep.: 8', 'Dep.: 9', 'Dep.: 10', 'Dep.: 11'] * 3,\n",
    "    ['Trees: 70', 'Trees: 75', 'Trees: 80'],\n",
    "    ['Learning rate: 0.1']\n",
    "]"
   ]
  },
  {
   "cell_type": "code",
   "execution_count": 153,
   "id": "8aeb9ddd-b47d-4f91-b2d6-1b611c005cae",
   "metadata": {},
   "outputs": [
    {
     "data": {
      "image/png": "[encoded data removed]",
      "text/plain": [
       "<Figure size 1100x250 with 9 Axes>"
      ]
     },
     "metadata": {},
     "output_type": "display_data"
    },
    {
     "name": "stdout",
     "output_type": "stream",
     "text": [
      "Image 'gridsearch2.svg' successfully saved into 'img/Section1-Overview-and-Base-model' directory\n"
     ]
    }
   ],
   "source": [
    "fig, ax = plt.subplots(figsize=(11, 2.5))\n",
    "\n",
    "zip_ = [\n",
    "    cv2_results_df.index, cv2_results_df['mean_test_score'],\n",
    "    cv2_results_df['ci_margin'], cv2_results_df_colors\n",
    "]\n",
    "for x_, y_, ci_, c_ in zip(*zip_): \n",
    "    if x_ == cv2_results_df_best_score_idx:\n",
    "        ax.errorbar(\n",
    "            x=x_,\n",
    "            y=y_,\n",
    "            yerr=ci_,\n",
    "            fmt='o',\n",
    "            markersize=2,\n",
    "            c=c_,\n",
    "            linestyle='none',\n",
    "            elinewidth=1,\n",
    "            capsize=1.1,\n",
    "            ecolor=c_,\n",
    "            zorder=1,\n",
    "        )\n",
    "    else:\n",
    "        ax.errorbar(\n",
    "            x=x_,\n",
    "            y=y_,\n",
    "            yerr=ci_,\n",
    "            fmt='o',\n",
    "            markersize=1.5,\n",
    "            c=c_,\n",
    "            linestyle='none',\n",
    "            elinewidth=1,\n",
    "            capsize=1,\n",
    "            ecolor=c_,\n",
    "            zorder=1\n",
    "        )\n",
    "ax.set_xticks(ticks=arange(len(cv2_results_df)))\n",
    "axis_rstyle(y_lim=[-0.160, -0.099], y_ticks=[-0.160, -0.099, 0.020])\n",
    "axis_add_xaxis(\n",
    "    ml2_xticks, ml2_labels, offset=10, offset_first_axis=5,\n",
    "    color_labels=palette[-4], color_ticks='#BBBBBB')\n",
    "ax.tick_params(axis='x', bottom=False, labelbottom=False)\n",
    "plt.show()\n",
    "\n",
    "savefig('gridsearch2', dir_save)"
   ]
  },
  {
   "cell_type": "code",
   "execution_count": 154,
   "id": "678933a9-4916-4930-98f6-b65e9e007f47",
   "metadata": {},
   "outputs": [],
   "source": [
    "params_opt = cv2_results_df.loc[\n",
    "    cv2_results_df.index==cv2_results_df_best_score_idx, 'params'\n",
    "].item()"
   ]
  },
  {
   "cell_type": "code",
   "execution_count": 155,
   "id": "727315cc-21c5-4939-94e5-e5e0b56f36b6",
   "metadata": {},
   "outputs": [],
   "source": [
    "rmse_train_opt = round(cv2_results_df_best_score, 4)"
   ]
  },
  {
   "cell_type": "code",
   "execution_count": 156,
   "id": "1c48e20c-5f06-4987-b270-7e8aa12c3805",
   "metadata": {},
   "outputs": [
    {
     "data": {
      "text/plain": [
       "-0.1276"
      ]
     },
     "execution_count": 156,
     "metadata": {},
     "output_type": "execute_result"
    }
   ],
   "source": [
    "rmse_train_opt"
   ]
  },
  {
   "cell_type": "code",
   "execution_count": 157,
   "id": "0fe7cfb0-2acf-44c5-ae28-63975c5bd23a",
   "metadata": {},
   "outputs": [
    {
     "data": {
      "text/plain": [
       "{'estimator__learning_rate': 0.1,\n",
       " 'estimator__max_depth': 11,\n",
       " 'estimator__n_estimators': 70,\n",
       " 'estimator__num_leaves': 285,\n",
       " 'estimator__random_state': 42,\n",
       " 'estimator__verbose': -1}"
      ]
     },
     "execution_count": 157,
     "metadata": {},
     "output_type": "execute_result"
    }
   ],
   "source": [
    "params_opt"
   ]
  },
  {
   "cell_type": "code",
   "execution_count": 158,
   "id": "4575b483-4cd8-4322-955b-e5aff0a80f9e",
   "metadata": {},
   "outputs": [],
   "source": [
    "params = {}\n",
    "for key in params_opt.keys():\n",
    "    new_key = key.lstrip('estimator')\n",
    "    new_key = new_key.lstrip('__')\n",
    "    params[new_key] = params_opt[key]"
   ]
  },
  {
   "cell_type": "code",
   "execution_count": 159,
   "id": "46ea2a81-97e1-4283-a5ce-1560f5227b09",
   "metadata": {},
   "outputs": [
    {
     "data": {
      "text/plain": [
       "{'learning_rate': 0.1,\n",
       " 'max_depth': 11,\n",
       " 'n_estimators': 70,\n",
       " 'num_leaves': 285,\n",
       " 'random_state': 42,\n",
       " 'verbose': -1}"
      ]
     },
     "execution_count": 159,
     "metadata": {},
     "output_type": "execute_result"
    }
   ],
   "source": [
    "params"
   ]
  },
  {
   "cell_type": "code",
   "execution_count": 160,
   "id": "d1068312-192a-42cb-87d4-1ea6deae8ac0",
   "metadata": {},
   "outputs": [],
   "source": [
    "lgb_opt = LGBMRegressor(**params)"
   ]
  },
  {
   "cell_type": "code",
   "execution_count": 161,
   "id": "e2c3d688-6c12-48e1-9f48-244aececb7c8",
   "metadata": {},
   "outputs": [],
   "source": [
    "train_bm_opt = train_bm.copy()"
   ]
  },
  {
   "cell_type": "code",
   "execution_count": 162,
   "id": "0ccb1715-132e-45de-8a8a-9476998e46c3",
   "metadata": {},
   "outputs": [],
   "source": [
    "train_bm_opt[features] = encoder.fit_transform(\n",
    "    train_bm_opt[features], train_bm_opt[target])"
   ]
  },
  {
   "cell_type": "code",
   "execution_count": 163,
   "id": "20bb894d-fc05-4e71-9069-f5920f91058b",
   "metadata": {},
   "outputs": [
    {
     "data": {
      "text/html": [
       "<div>\n",
       "<style scoped>\n",
       "    .dataframe tbody tr th:only-of-type {\n",
       "        vertical-align: middle;\n",
       "    }\n",
       "\n",
       "    .dataframe tbody tr th {\n",
       "        vertical-align: top;\n",
       "    }\n",
       "\n",
       "    .dataframe thead th {\n",
       "        text-align: right;\n",
       "    }\n",
       "</style>\n",
       "<table border=\"1\" class=\"dataframe\">\n",
       "  <thead>\n",
       "    <tr style=\"text-align: right;\">\n",
       "      <th></th>\n",
       "      <th>id</th>\n",
       "      <th>mssubclass</th>\n",
       "      <th>mszoning</th>\n",
       "      <th>lotfrontage</th>\n",
       "      <th>lotarea</th>\n",
       "      <th>street</th>\n",
       "      <th>alley</th>\n",
       "      <th>lotshape</th>\n",
       "      <th>landcontour</th>\n",
       "      <th>utilities</th>\n",
       "      <th>...</th>\n",
       "      <th>poolarea</th>\n",
       "      <th>poolqc</th>\n",
       "      <th>fence</th>\n",
       "      <th>miscfeature</th>\n",
       "      <th>miscval</th>\n",
       "      <th>mosold</th>\n",
       "      <th>yrsold</th>\n",
       "      <th>saletype</th>\n",
       "      <th>salecondition</th>\n",
       "      <th>price</th>\n",
       "    </tr>\n",
       "  </thead>\n",
       "  <tbody>\n",
       "    <tr>\n",
       "      <th>907</th>\n",
       "      <td>908</td>\n",
       "      <td>5</td>\n",
       "      <td>3</td>\n",
       "      <td>86.0</td>\n",
       "      <td>11500</td>\n",
       "      <td>1</td>\n",
       "      <td>2</td>\n",
       "      <td>1</td>\n",
       "      <td>1</td>\n",
       "      <td>1</td>\n",
       "      <td>...</td>\n",
       "      <td>0</td>\n",
       "      <td>0</td>\n",
       "      <td>3</td>\n",
       "      <td>2</td>\n",
       "      <td>0</td>\n",
       "      <td>6</td>\n",
       "      <td>2006</td>\n",
       "      <td>5</td>\n",
       "      <td>4</td>\n",
       "      <td>12.429216</td>\n",
       "    </tr>\n",
       "    <tr>\n",
       "      <th>782</th>\n",
       "      <td>783</td>\n",
       "      <td>10</td>\n",
       "      <td>3</td>\n",
       "      <td>67.0</td>\n",
       "      <td>16285</td>\n",
       "      <td>1</td>\n",
       "      <td>2</td>\n",
       "      <td>3</td>\n",
       "      <td>1</td>\n",
       "      <td>1</td>\n",
       "      <td>...</td>\n",
       "      <td>0</td>\n",
       "      <td>0</td>\n",
       "      <td>3</td>\n",
       "      <td>2</td>\n",
       "      <td>0</td>\n",
       "      <td>6</td>\n",
       "      <td>2009</td>\n",
       "      <td>5</td>\n",
       "      <td>4</td>\n",
       "      <td>12.139399</td>\n",
       "    </tr>\n",
       "    <tr>\n",
       "      <th>952</th>\n",
       "      <td>953</td>\n",
       "      <td>7</td>\n",
       "      <td>3</td>\n",
       "      <td>60.0</td>\n",
       "      <td>7200</td>\n",
       "      <td>1</td>\n",
       "      <td>2</td>\n",
       "      <td>0</td>\n",
       "      <td>1</td>\n",
       "      <td>1</td>\n",
       "      <td>...</td>\n",
       "      <td>0</td>\n",
       "      <td>0</td>\n",
       "      <td>2</td>\n",
       "      <td>2</td>\n",
       "      <td>0</td>\n",
       "      <td>4</td>\n",
       "      <td>2009</td>\n",
       "      <td>5</td>\n",
       "      <td>4</td>\n",
       "      <td>11.804849</td>\n",
       "    </tr>\n",
       "    <tr>\n",
       "      <th>620</th>\n",
       "      <td>621</td>\n",
       "      <td>0</td>\n",
       "      <td>3</td>\n",
       "      <td>45.0</td>\n",
       "      <td>8248</td>\n",
       "      <td>1</td>\n",
       "      <td>0</td>\n",
       "      <td>0</td>\n",
       "      <td>1</td>\n",
       "      <td>1</td>\n",
       "      <td>...</td>\n",
       "      <td>0</td>\n",
       "      <td>0</td>\n",
       "      <td>3</td>\n",
       "      <td>2</td>\n",
       "      <td>0</td>\n",
       "      <td>9</td>\n",
       "      <td>2008</td>\n",
       "      <td>5</td>\n",
       "      <td>4</td>\n",
       "      <td>11.112448</td>\n",
       "    </tr>\n",
       "    <tr>\n",
       "      <th>669</th>\n",
       "      <td>670</td>\n",
       "      <td>0</td>\n",
       "      <td>3</td>\n",
       "      <td>80.0</td>\n",
       "      <td>11600</td>\n",
       "      <td>1</td>\n",
       "      <td>2</td>\n",
       "      <td>0</td>\n",
       "      <td>1</td>\n",
       "      <td>1</td>\n",
       "      <td>...</td>\n",
       "      <td>0</td>\n",
       "      <td>0</td>\n",
       "      <td>3</td>\n",
       "      <td>2</td>\n",
       "      <td>0</td>\n",
       "      <td>7</td>\n",
       "      <td>2006</td>\n",
       "      <td>5</td>\n",
       "      <td>4</td>\n",
       "      <td>11.831379</td>\n",
       "    </tr>\n",
       "  </tbody>\n",
       "</table>\n",
       "<p>5 rows × 81 columns</p>\n",
       "</div>"
      ],
      "text/plain": [
       "      id  mssubclass  mszoning  lotfrontage  lotarea  street  alley  lotshape  \\\n",
       "907  908           5         3         86.0    11500       1      2         1   \n",
       "782  783          10         3         67.0    16285       1      2         3   \n",
       "952  953           7         3         60.0     7200       1      2         0   \n",
       "620  621           0         3         45.0     8248       1      0         0   \n",
       "669  670           0         3         80.0    11600       1      2         0   \n",
       "\n",
       "     landcontour  utilities  ...  poolarea  poolqc  fence  miscfeature  \\\n",
       "907            1          1  ...         0       0      3            2   \n",
       "782            1          1  ...         0       0      3            2   \n",
       "952            1          1  ...         0       0      2            2   \n",
       "620            1          1  ...         0       0      3            2   \n",
       "669            1          1  ...         0       0      3            2   \n",
       "\n",
       "     miscval  mosold  yrsold  saletype  salecondition      price  \n",
       "907        0       6    2006         5              4  12.429216  \n",
       "782        0       6    2009         5              4  12.139399  \n",
       "952        0       4    2009         5              4  11.804849  \n",
       "620        0       9    2008         5              4  11.112448  \n",
       "669        0       7    2006         5              4  11.831379  \n",
       "\n",
       "[5 rows x 81 columns]"
      ]
     },
     "execution_count": 163,
     "metadata": {},
     "output_type": "execute_result"
    }
   ],
   "source": [
    "train_bm_opt.head()"
   ]
  },
  {
   "cell_type": "code",
   "execution_count": 164,
   "id": "a5225e03-d2df-44ff-88a4-70c3e2908229",
   "metadata": {},
   "outputs": [
    {
     "data": {
      "text/html": [
       "<style>#sk-container-id-4 {color: black;}#sk-container-id-4 pre{padding: 0;}#sk-container-id-4 div.sk-toggleable {background-color: white;}#sk-container-id-4 label.sk-toggleable__label {cursor: pointer;display: block;width: 100%;margin-bottom: 0;padding: 0.3em;box-sizing: border-box;text-align: center;}#sk-container-id-4 label.sk-toggleable__label-arrow:before {content: \"▸\";float: left;margin-right: 0.25em;color: #696969;}#sk-container-id-4 label.sk-toggleable__label-arrow:hover:before {color: black;}#sk-container-id-4 div.sk-estimator:hover label.sk-toggleable__label-arrow:before {color: black;}#sk-container-id-4 div.sk-toggleable__content {max-height: 0;max-width: 0;overflow: hidden;text-align: left;background-color: #f0f8ff;}#sk-container-id-4 div.sk-toggleable__content pre {margin: 0.2em;color: black;border-radius: 0.25em;background-color: #f0f8ff;}#sk-container-id-4 input.sk-toggleable__control:checked~div.sk-toggleable__content {max-height: 200px;max-width: 100%;overflow: auto;}#sk-container-id-4 input.sk-toggleable__control:checked~label.sk-toggleable__label-arrow:before {content: \"▾\";}#sk-container-id-4 div.sk-estimator input.sk-toggleable__control:checked~label.sk-toggleable__label {background-color: #d4ebff;}#sk-container-id-4 div.sk-label input.sk-toggleable__control:checked~label.sk-toggleable__label {background-color: #d4ebff;}#sk-container-id-4 input.sk-hidden--visually {border: 0;clip: rect(1px 1px 1px 1px);clip: rect(1px, 1px, 1px, 1px);height: 1px;margin: -1px;overflow: hidden;padding: 0;position: absolute;width: 1px;}#sk-container-id-4 div.sk-estimator {font-family: monospace;background-color: #f0f8ff;border: 1px dotted black;border-radius: 0.25em;box-sizing: border-box;margin-bottom: 0.5em;}#sk-container-id-4 div.sk-estimator:hover {background-color: #d4ebff;}#sk-container-id-4 div.sk-parallel-item::after {content: \"\";width: 100%;border-bottom: 1px solid gray;flex-grow: 1;}#sk-container-id-4 div.sk-label:hover label.sk-toggleable__label {background-color: #d4ebff;}#sk-container-id-4 div.sk-serial::before {content: \"\";position: absolute;border-left: 1px solid gray;box-sizing: border-box;top: 0;bottom: 0;left: 50%;z-index: 0;}#sk-container-id-4 div.sk-serial {display: flex;flex-direction: column;align-items: center;background-color: white;padding-right: 0.2em;padding-left: 0.2em;position: relative;}#sk-container-id-4 div.sk-item {position: relative;z-index: 1;}#sk-container-id-4 div.sk-parallel {display: flex;align-items: stretch;justify-content: center;background-color: white;position: relative;}#sk-container-id-4 div.sk-item::before, #sk-container-id-4 div.sk-parallel-item::before {content: \"\";position: absolute;border-left: 1px solid gray;box-sizing: border-box;top: 0;bottom: 0;left: 50%;z-index: -1;}#sk-container-id-4 div.sk-parallel-item {display: flex;flex-direction: column;z-index: 1;position: relative;background-color: white;}#sk-container-id-4 div.sk-parallel-item:first-child::after {align-self: flex-end;width: 50%;}#sk-container-id-4 div.sk-parallel-item:last-child::after {align-self: flex-start;width: 50%;}#sk-container-id-4 div.sk-parallel-item:only-child::after {width: 0;}#sk-container-id-4 div.sk-dashed-wrapped {border: 1px dashed gray;margin: 0 0.4em 0.5em 0.4em;box-sizing: border-box;padding-bottom: 0.4em;background-color: white;}#sk-container-id-4 div.sk-label label {font-family: monospace;font-weight: bold;display: inline-block;line-height: 1.2em;}#sk-container-id-4 div.sk-label-container {text-align: center;}#sk-container-id-4 div.sk-container {/* jupyter's `normalize.less` sets `[hidden] { display: none; }` but bootstrap.min.css set `[hidden] { display: none !important; }` so we also need the `!important` here to be able to override the default hidden behavior on the sphinx rendered scikit-learn.org. See: https://github.com/scikit-learn/scikit-learn/issues/21755 */display: inline-block !important;position: relative;}#sk-container-id-4 div.sk-text-repr-fallback {display: none;}</style><div id=\"sk-container-id-4\" class=\"sk-top-container\"><div class=\"sk-text-repr-fallback\"><pre>LGBMRegressor(max_depth=11, n_estimators=70, num_leaves=285, random_state=42,\n",
       "              verbose=-1)</pre><b>In a Jupyter environment, please rerun this cell to show the HTML representation or trust the notebook. <br />On GitHub, the HTML representation is unable to render, please try loading this page with nbviewer.org.</b></div><div class=\"sk-container\" hidden><div class=\"sk-item\"><div class=\"sk-estimator sk-toggleable\"><input class=\"sk-toggleable__control sk-hidden--visually\" id=\"sk-estimator-id-8\" type=\"checkbox\" checked><label for=\"sk-estimator-id-8\" class=\"sk-toggleable__label sk-toggleable__label-arrow\">LGBMRegressor</label><div class=\"sk-toggleable__content\"><pre>LGBMRegressor(max_depth=11, n_estimators=70, num_leaves=285, random_state=42,\n",
       "              verbose=-1)</pre></div></div></div></div></div>"
      ],
      "text/plain": [
       "LGBMRegressor(max_depth=11, n_estimators=70, num_leaves=285, random_state=42,\n",
       "              verbose=-1)"
      ]
     },
     "execution_count": 164,
     "metadata": {},
     "output_type": "execute_result"
    }
   ],
   "source": [
    "lgb_opt.fit(train_bm_opt[features], train_bm_opt[target])"
   ]
  },
  {
   "cell_type": "code",
   "execution_count": 165,
   "id": "6783c56f-e149-4a57-885e-60b519e9d347",
   "metadata": {},
   "outputs": [],
   "source": [
    "feature_importance = pd.DataFrame({\n",
    "    'Feature': lgb_opt.feature_name_,\n",
    "    'Importance': lgb_opt.feature_importances_\n",
    "})\n",
    "feature_importance.sort_values('Importance', ascending=False, inplace=True)"
   ]
  },
  {
   "cell_type": "code",
   "execution_count": 166,
   "id": "5e9c0323-1610-43da-8a7b-d0b94658dfcf",
   "metadata": {},
   "outputs": [],
   "source": [
    "data_plot = feature_importance.loc[feature_importance['Importance']>0,:]\n",
    "data_plot = data_plot.sort_values('Importance', ascending=False)"
   ]
  },
  {
   "cell_type": "code",
   "execution_count": 167,
   "id": "2ccc6bef-3180-4346-abb7-13de8eb3fec6",
   "metadata": {},
   "outputs": [
    {
     "data": {
      "text/html": [
       "<div>\n",
       "<style scoped>\n",
       "    .dataframe tbody tr th:only-of-type {\n",
       "        vertical-align: middle;\n",
       "    }\n",
       "\n",
       "    .dataframe tbody tr th {\n",
       "        vertical-align: top;\n",
       "    }\n",
       "\n",
       "    .dataframe thead th {\n",
       "        text-align: right;\n",
       "    }\n",
       "</style>\n",
       "<table border=\"1\" class=\"dataframe\">\n",
       "  <thead>\n",
       "    <tr style=\"text-align: right;\">\n",
       "      <th></th>\n",
       "      <th>Feature</th>\n",
       "      <th>Importance</th>\n",
       "    </tr>\n",
       "  </thead>\n",
       "  <tbody>\n",
       "    <tr>\n",
       "      <th>13</th>\n",
       "      <td>grlivarea</td>\n",
       "      <td>236</td>\n",
       "    </tr>\n",
       "    <tr>\n",
       "      <th>2</th>\n",
       "      <td>lotarea</td>\n",
       "      <td>150</td>\n",
       "    </tr>\n",
       "    <tr>\n",
       "      <th>9</th>\n",
       "      <td>totalbsmtsf</td>\n",
       "      <td>132</td>\n",
       "    </tr>\n",
       "    <tr>\n",
       "      <th>6</th>\n",
       "      <td>bsmtfinsf_first</td>\n",
       "      <td>125</td>\n",
       "    </tr>\n",
       "    <tr>\n",
       "      <th>60</th>\n",
       "      <td>neighborhood</td>\n",
       "      <td>122</td>\n",
       "    </tr>\n",
       "  </tbody>\n",
       "</table>\n",
       "</div>"
      ],
      "text/plain": [
       "            Feature  Importance\n",
       "13        grlivarea         236\n",
       "2           lotarea         150\n",
       "9       totalbsmtsf         132\n",
       "6   bsmtfinsf_first         125\n",
       "60     neighborhood         122"
      ]
     },
     "execution_count": 167,
     "metadata": {},
     "output_type": "execute_result"
    }
   ],
   "source": [
    "data_plot.head()"
   ]
  },
  {
   "cell_type": "code",
   "execution_count": 168,
   "id": "44ae3f6b-140a-4a18-a374-a014cc753acd",
   "metadata": {},
   "outputs": [],
   "source": [
    "values = data_plot['Importance'][:10]\n",
    "labels = data_plot['Feature'][:10]"
   ]
  },
  {
   "cell_type": "code",
   "execution_count": 169,
   "id": "d185707c-403b-45ae-bfd8-e5ab18894f69",
   "metadata": {},
   "outputs": [
    {
     "data": {
      "image/png": "[encoded data removed]",
      "text/plain": [
       "<Figure size 300x250 with 1 Axes>"
      ]
     },
     "metadata": {},
     "output_type": "display_data"
    },
    {
     "name": "stdout",
     "output_type": "stream",
     "text": [
      "Image 'feature_importance.svg' successfully saved into 'img/Section1-Overview-and-Base-model' directory\n"
     ]
    }
   ],
   "source": [
    "fig = plot_bar_horizontal(\n",
    "    values=values,\n",
    "    labels=labels,\n",
    "    labelsize=9,\n",
    "    labelcolor='0.3',\n",
    "    labelweight='medium',\n",
    "    figsize=(3, 2.5),\n",
    "    kind='lol',\n",
    "    width=0.5,\n",
    "    s=6,\n",
    "    x_lim_right=250\n",
    ")\n",
    "savefig('feature_importance', dir_save)"
   ]
  },
  {
   "cell_type": "markdown",
   "id": "06b3384e-9457-4747-9a8d-141cb93c38a8",
   "metadata": {},
   "source": [
    "## Save Data"
   ]
  },
  {
   "cell_type": "code",
   "execution_count": 170,
   "id": "07f05a9c-0473-488b-a181-b95a93a35ef3",
   "metadata": {},
   "outputs": [],
   "source": [
    "datasets_dict = {\n",
    "    'train_raw': train_raw,\n",
    "    'train': train,\n",
    "    'test': test\n",
    "}"
   ]
  },
  {
   "cell_type": "code",
   "execution_count": 171,
   "id": "fdd52299-93db-4f9f-92bc-c5529d6132e4",
   "metadata": {},
   "outputs": [],
   "source": [
    "features_dict = {\n",
    "    'features': features,\n",
    "    'numeric': numeric,\n",
    "    'ordinal': ordinal,\n",
    "    'categorical': categorical,\n",
    "    'categorical_transform': categorical_transform,\n",
    "    'target': target\n",
    "}"
   ]
  },
  {
   "cell_type": "code",
   "execution_count": 172,
   "id": "954d11cc-7ed0-4ab7-ba82-bd3d63321514",
   "metadata": {},
   "outputs": [],
   "source": [
    "transform_dict = {\n",
    "    'features_na': features_na,\n",
    "    'transformer_overview': transformer_overview,\n",
    "    'transformer_imputer_frequent': imputer_frequent,\n",
    "    'transformer_imputer_median': imputer_median,\n",
    "    'transformer_label': transformer_label,\n",
    "}"
   ]
  },
  {
   "cell_type": "code",
   "execution_count": 173,
   "id": "ae129a91-8da5-420c-a53d-2f0d42597a49",
   "metadata": {},
   "outputs": [],
   "source": [
    "simulation_datasets_dict = {\n",
    "    'train_base': train_bm,\n",
    "    'features_base': features\n",
    "}"
   ]
  },
  {
   "cell_type": "code",
   "execution_count": 174,
   "id": "6834ef01-7af5-4edb-bde8-9456b5fd58ee",
   "metadata": {},
   "outputs": [],
   "source": [
    "estimators_dict = {'lgb_base': lgb_opt}"
   ]
  },
  {
   "cell_type": "code",
   "execution_count": 175,
   "id": "ae1fd948-9bf6-4370-8610-657813a48524",
   "metadata": {},
   "outputs": [],
   "source": [
    "evaluation_dict = {'cv_base': cv2}"
   ]
  },
  {
   "cell_type": "code",
   "execution_count": 176,
   "id": "8699c0d4-aba9-4549-af40-df3412fe92a1",
   "metadata": {},
   "outputs": [],
   "source": [
    "saveit(datasets_dict, 'datasets_dict', dir_save)"
   ]
  },
  {
   "cell_type": "code",
   "execution_count": 177,
   "id": "7556975d-f8b5-4f48-9161-ccf276d101f0",
   "metadata": {},
   "outputs": [],
   "source": [
    "saveit(features_dict, 'features_dict', dir_save)"
   ]
  },
  {
   "cell_type": "code",
   "execution_count": 178,
   "id": "36a9e84a-7690-4e02-8e99-3afa0cffb388",
   "metadata": {},
   "outputs": [],
   "source": [
    "saveit(transform_dict, 'transform_dict', dir_save)"
   ]
  },
  {
   "cell_type": "code",
   "execution_count": 179,
   "id": "0abf8d2a-a4ef-468d-b656-c1d65879bb6d",
   "metadata": {},
   "outputs": [],
   "source": [
    "saveit(simulation_datasets_dict, 'simulation_datasets_dict', dir_save)"
   ]
  },
  {
   "cell_type": "code",
   "execution_count": 180,
   "id": "f1550f72-d12b-4ffd-b398-69bd75a67841",
   "metadata": {},
   "outputs": [],
   "source": [
    "saveit(estimators_dict, 'estimators_dict', dir_save)"
   ]
  },
  {
   "cell_type": "code",
   "execution_count": 181,
   "id": "3fc02336-6d22-4a49-bb67-53328ad34658",
   "metadata": {},
   "outputs": [],
   "source": [
    "saveit(evaluation_dict, 'evaluation_dict', dir_save)"
   ]
  },
  {
   "cell_type": "code",
   "execution_count": 182,
   "id": "a7ad4175-89b6-4ca6-aa22-35236daf6bcc",
   "metadata": {},
   "outputs": [],
   "source": [
    "saveit(params, 'params', dir_save)"
   ]
  },
  {
   "cell_type": "code",
   "execution_count": 183,
   "id": "c7ae424a-241b-401c-8e3d-f9bcb94a0334",
   "metadata": {},
   "outputs": [],
   "source": [
    "saveit(feature_importance, 'feature_importance', dir_save)"
   ]
  },
  {
   "cell_type": "markdown",
   "id": "2a446f0a-c920-4593-9bd9-2ef4480a7b60",
   "metadata": {},
   "source": [
    "### Save Session"
   ]
  },
  {
   "cell_type": "code",
   "execution_count": 184,
   "id": "42bf34fc-5291-49e1-9236-6a255f2c45d0",
   "metadata": {},
   "outputs": [],
   "source": [
    "save_session(dir_save)"
   ]
  },
  {
   "cell_type": "markdown",
   "id": "10fbed30-d01d-451b-a408-8884e1d93f2a",
   "metadata": {},
   "source": [
    "### Execution time"
   ]
  },
  {
   "cell_type": "code",
   "execution_count": 185,
   "id": "7296d512-ccdf-46f2-bd89-9be792d545b6",
   "metadata": {},
   "outputs": [
    {
     "name": "stdout",
     "output_type": "stream",
     "text": [
      "Execution time: 0:15:01\n"
     ]
    }
   ],
   "source": [
    "print(f'Execution time: {stopwatch.stop(start)}')"
   ]
  }
 ],
 "metadata": {
  "kernelspec": {
   "display_name": "venv_kgl_house_prices",
   "language": "python",
   "name": "venv_kgl_house_prices"
  },
  "language_info": {
   "codemirror_mode": {
    "name": "ipython",
    "version": 3
   },
   "file_extension": ".py",
   "mimetype": "text/x-python",
   "name": "python",
   "nbconvert_exporter": "python",
   "pygments_lexer": "ipython3",
   "version": "3.12.2"
  }
 },
 "nbformat": 4,
 "nbformat_minor": 5
}
