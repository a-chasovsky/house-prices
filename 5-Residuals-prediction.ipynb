{
 "cells": [
  {
   "cell_type": "code",
   "execution_count": 2,
   "id": "c66f7bfb-209b-4674-a983-98a9a38af54a",
   "metadata": {},
   "outputs": [],
   "source": [
    "# run stopwatch\n",
    "from tools import Stopwatch\n",
    "stopwatch = Stopwatch()\n",
    "start = stopwatch.start()"
   ]
  },
  {
   "cell_type": "markdown",
   "id": "f6c00479-60a4-454d-a674-d309cde0599b",
   "metadata": {},
   "source": [
    "### Load libraries, functions, palette, theme"
   ]
  },
  {
   "cell_type": "code",
   "execution_count": 3,
   "id": "9c01111b-a490-40f4-bb6e-354ae1d7d43b",
   "metadata": {},
   "outputs": [],
   "source": [
    "%run _libraries.ipynb"
   ]
  },
  {
   "cell_type": "code",
   "execution_count": 10,
   "id": "66f70361-a20e-49c6-a768-214985f702a5",
   "metadata": {},
   "outputs": [],
   "source": [
    "%run _functions.ipynb"
   ]
  },
  {
   "cell_type": "code",
   "execution_count": 5,
   "id": "b753c37a-922b-4af9-825b-4d0f7e52854f",
   "metadata": {},
   "outputs": [],
   "source": [
    "save_files = 'files/Section5-Residuals-prediction'"
   ]
  },
  {
   "cell_type": "code",
   "execution_count": 6,
   "id": "53fa1c59-7208-4b7e-a291-f69e602e1f57",
   "metadata": {},
   "outputs": [],
   "source": [
    "save_img = 'docs/img/Section5-Residuals-prediction'"
   ]
  },
  {
   "cell_type": "code",
   "execution_count": 7,
   "id": "f15e5b11-823e-4598-b390-24a1d695f285",
   "metadata": {},
   "outputs": [],
   "source": [
    "session_name = 'Section5-Residuals-prediction'"
   ]
  },
  {
   "cell_type": "markdown",
   "id": "f34ac54c-b1aa-4c6a-89bf-12e5b2ed7c09",
   "metadata": {},
   "source": [
    "# Section V. Residuals prediction"
   ]
  },
  {
   "cell_type": "markdown",
   "id": "30f4537a-89d4-4659-ab2e-4bd8ebbd3bd8",
   "metadata": {},
   "source": [
    "## Load Saved Section if exists"
   ]
  },
  {
   "cell_type": "raw",
   "id": "e49c0bc3-c901-40ec-92b4-92a612472953",
   "metadata": {},
   "source": [
    "if os.path.exists(f'sessions/{session_name}'):\n",
    "    load_session(session_name)\n",
    "else:\n",
    "    print(f'No such session in directory: \"sessions/{session_name}/\"')"
   ]
  },
  {
   "cell_type": "markdown",
   "id": "718cfb1f-e888-4404-8719-9a90ed5d9198",
   "metadata": {},
   "source": [
    "## Load Data"
   ]
  },
  {
   "cell_type": "code",
   "execution_count": null,
   "id": "5f168d66-319b-43ba-8a8a-8b33d53a7066",
   "metadata": {},
   "outputs": [],
   "source": [
    "# dicts\n",
    "datasets_dict = loadit(\n",
    "    'datasets_dict', dir='Section3-Feature-selection-and-Preprocessing')\n",
    "estimators_dict = loadit(\n",
    "    'estimators_dict', dir='Section4-Linear-models-research')\n",
    "features_dict = loadit(\n",
    "    'features_dict', dir='Section4-Linear-models-research')\n",
    "# datasets\n",
    "train = datasets_dict['train'].copy()\n",
    "train_cv = datasets_dict['train_cv'].copy()\n",
    "# models\n",
    "lr = estimators_dict['lr']\n",
    "# features\n",
    "features = features_dict['features'].copy()\n",
    "features_linear = features_dict['features_linear'].copy()\n",
    "numeric = features_dict['numeric'].copy()\n",
    "categorical = features_dict['categorical'].copy()\n",
    "categorical_transform = features_dict['categorical_transform'].copy()\n",
    "factor = features_dict['factor'].copy()\n",
    "target = 'residuals'"
   ]
  },
  {
   "cell_type": "markdown",
   "id": "11970f8b-1505-4c97-ac5a-1d45712e29c2",
   "metadata": {},
   "source": [
    "## Calculate Residuals"
   ]
  },
  {
   "cell_type": "code",
   "execution_count": null,
   "id": "54ad7312-6e6d-4968-9e6b-9299bc15fbff",
   "metadata": {},
   "outputs": [],
   "source": [
    "y_pred_lr = lr.predict(train[features_linear])"
   ]
  },
  {
   "cell_type": "code",
   "execution_count": null,
   "id": "f7bd48f5-2b51-4c73-95fb-364a51bcd8c3",
   "metadata": {},
   "outputs": [],
   "source": [
    "residuals = train['price'] - y_pred_lr"
   ]
  },
  {
   "cell_type": "code",
   "execution_count": null,
   "id": "9cc5ab89-66e7-48a7-bd33-2fd891afd6ee",
   "metadata": {},
   "outputs": [],
   "source": [
    "train['price_pred_lr'] = y_pred_lr\n",
    "train['residuals'] = residuals\n",
    "\n",
    "train_cv['price_pred_lr'] = y_pred_lr\n",
    "train_cv['residuals'] = residuals\n",
    "\n",
    "train = train.drop('price', axis=1)\n",
    "train_cv = train_cv.drop('price', axis=1)"
   ]
  },
  {
   "cell_type": "code",
   "execution_count": null,
   "id": "5d2d0930-2b4d-4f62-8bb6-c29d0ba737d5",
   "metadata": {},
   "outputs": [],
   "source": [
    "features.append('price_pred_lr')"
   ]
  },
  {
   "cell_type": "markdown",
   "id": "d3aedda5-1433-4eda-881a-52a74717f64a",
   "metadata": {},
   "source": [
    "## Datasets"
   ]
  },
  {
   "cell_type": "code",
   "execution_count": null,
   "id": "34a0239b-c4aa-44d9-80c8-6e0ee907e08e",
   "metadata": {},
   "outputs": [],
   "source": [
    "train.head()"
   ]
  },
  {
   "cell_type": "code",
   "execution_count": null,
   "id": "51738bfe-f8f2-4a35-8fde-6cb97f7190b2",
   "metadata": {},
   "outputs": [],
   "source": [
    "train_cv.head()"
   ]
  },
  {
   "cell_type": "code",
   "execution_count": null,
   "id": "4d4cdd00-17f5-48c6-a99a-e8ac5da9346b",
   "metadata": {},
   "outputs": [],
   "source": [
    "datasets = [\n",
    "    train[features],\n",
    "    train[target]\n",
    "]\n",
    "\n",
    "datasets_cv = [\n",
    "    train_cv[features],\n",
    "    train_cv[target]\n",
    "]"
   ]
  },
  {
   "cell_type": "markdown",
   "id": "20c96d4e-3f29-4a23-850c-50c507596bb2",
   "metadata": {},
   "source": [
    "## Preprocessing Pipelines"
   ]
  },
  {
   "cell_type": "code",
   "execution_count": null,
   "id": "a8b20ea0-2cc8-42ef-b87f-80d2bfbc9062",
   "metadata": {},
   "outputs": [],
   "source": [
    "encoder = OrdinalEncoder(\n",
    "    encoding_method='ordered',\n",
    "    variables=categorical_transform,\n",
    "    missing_values='ignore',\n",
    "    unseen='encode'\n",
    ")"
   ]
  },
  {
   "cell_type": "code",
   "execution_count": null,
   "id": "36b27ee9-9d53-4efd-bad6-d06918e3fe76",
   "metadata": {},
   "outputs": [],
   "source": [
    "scaler = StandardScaler()"
   ]
  },
  {
   "cell_type": "code",
   "execution_count": null,
   "id": "99978645-7afd-4bbf-8e91-154a8c7e1822",
   "metadata": {},
   "outputs": [],
   "source": [
    "preprocessor = Pipeline([\n",
    "    ('encoder', encoder),\n",
    "    ('scaler', scaler),\n",
    "])"
   ]
  },
  {
   "cell_type": "code",
   "execution_count": null,
   "id": "fa6f641f-530a-44a7-ac68-6712771b1a2e",
   "metadata": {},
   "outputs": [],
   "source": [
    "preprocessor"
   ]
  },
  {
   "cell_type": "code",
   "execution_count": null,
   "id": "14cfe9f7-7117-4a39-b51f-70787b7503c3",
   "metadata": {},
   "outputs": [],
   "source": [
    "n_folds = 20"
   ]
  },
  {
   "cell_type": "code",
   "execution_count": null,
   "id": "fc22d808-4559-4ed0-b5c2-264877c33368",
   "metadata": {},
   "outputs": [],
   "source": [
    "params_knn = {\n",
    "    'estimator__n_neighbors': [2, 3, 4, 5, 7, 10, 15],\n",
    "    'estimator__weights': ['uniform']\n",
    "}"
   ]
  },
  {
   "cell_type": "code",
   "execution_count": null,
   "id": "00c0630d-93d2-44db-bd3c-614bc4618aa5",
   "metadata": {},
   "outputs": [],
   "source": [
    "params_svr = {\n",
    "    'estimator__kernel': ['linear'],\n",
    "    'estimator__C': [0.1, 1, 10],\n",
    "    'estimator__gamma': [0.01, 0.1]\n",
    "}"
   ]
  },
  {
   "cell_type": "code",
   "execution_count": null,
   "id": "236a982a-0db2-4392-b76d-f15dbcc78833",
   "metadata": {},
   "outputs": [],
   "source": [
    "params_rf = {\n",
    "    'estimator__n_estimators': [25, 50, 75, 100],\n",
    "    'estimator__max_depth': [2, 3, 4, 5, 7, 10],\n",
    "    'estimator__random_state':[seed]\n",
    "}"
   ]
  },
  {
   "cell_type": "code",
   "execution_count": null,
   "id": "976d2c87-c5fc-4301-94fc-5c9589b904a5",
   "metadata": {},
   "outputs": [],
   "source": [
    "params_bag = {\n",
    "    'estimator__n_estimators': [25, 50, 75, 100, 150, 200],\n",
    "    'estimator__random_state':[seed]\n",
    "}"
   ]
  },
  {
   "cell_type": "code",
   "execution_count": null,
   "id": "c01c03d2-a892-452c-af7d-8f97e7ddf2ff",
   "metadata": {},
   "outputs": [],
   "source": [
    "params_lgb = {\n",
    "    'estimator__n_estimators': [25, 50, 75, 100, 150, 200],\n",
    "    'estimator__max_depth': [2, 3, 4, 5, 7, 10],\n",
    "    'estimator__num_leaves': [3, 25, 100, ],\n",
    "    'estimator__learning_rate': [0.1, 0.3],\n",
    "    'estimator__random_state':[seed],\n",
    "    'estimator__verbose': [-1]\n",
    "}"
   ]
  },
  {
   "cell_type": "code",
   "execution_count": null,
   "id": "d208d8a7-fed6-4839-9770-f8474d9746f9",
   "metadata": {},
   "outputs": [],
   "source": [
    "params_hgb = {\n",
    "    'estimator__loss': ['squared_error'],\n",
    "    'estimator__learning_rate': [0.1, 0.3],\n",
    "    'estimator__max_iter': [100, 200, 300],\n",
    "    'estimator__max_depth': [2, 3, 4, 5, 7, 10],\n",
    "    'estimator__random_state':[seed]\n",
    "}"
   ]
  },
  {
   "cell_type": "code",
   "execution_count": null,
   "id": "01f77873-fe00-46e3-ae93-0d1f62e8e1d8",
   "metadata": {},
   "outputs": [],
   "source": [
    "params_xgb = {\n",
    "    'estimator__n_estimators': [25, 50, 75, 100, 150, 200],\n",
    "    'estimator__max_depth': [2, 3, 4, 5, 7, 10],\n",
    "    'estimator__random_state':[seed],\n",
    "    'estimator__learning_rate': [0.1, 0.3],\n",
    "}"
   ]
  },
  {
   "cell_type": "code",
   "execution_count": null,
   "id": "d85063e9-45bd-4d64-b007-296bf6000444",
   "metadata": {},
   "outputs": [],
   "source": [
    "pipeline_knn = Pipeline(steps=[\n",
    "    ('preprocessor', preprocessor),\n",
    "    ('estimator', KNeighborsRegressor())\n",
    "])"
   ]
  },
  {
   "cell_type": "code",
   "execution_count": null,
   "id": "84559152-e1fc-4e7e-8f53-812a64358607",
   "metadata": {},
   "outputs": [],
   "source": [
    "pipeline_svr = Pipeline(steps=[\n",
    "    ('preprocessor', preprocessor),\n",
    "    ('estimator', SVR())\n",
    "])"
   ]
  },
  {
   "cell_type": "code",
   "execution_count": null,
   "id": "871a231e-9d67-4715-9479-91db00ec17ea",
   "metadata": {},
   "outputs": [],
   "source": [
    "pipeline_rf = Pipeline(steps=[\n",
    "    ('preprocessor', preprocessor),\n",
    "    ('estimator', RandomForestRegressor())\n",
    "])"
   ]
  },
  {
   "cell_type": "code",
   "execution_count": null,
   "id": "014fe3db-2153-48f7-b4bf-87cebbfca867",
   "metadata": {},
   "outputs": [],
   "source": [
    "pipeline_bag = Pipeline(steps=[\n",
    "    ('preprocessor', preprocessor),\n",
    "    ('estimator', BaggingRegressor())\n",
    "])"
   ]
  },
  {
   "cell_type": "code",
   "execution_count": null,
   "id": "d85f5c2f-97e9-4c4a-8ad0-9e58481f571d",
   "metadata": {},
   "outputs": [],
   "source": [
    "pipeline_lgb = Pipeline(steps=[\n",
    "    ('preprocessor', preprocessor),\n",
    "    ('estimator', LGBMRegressor())\n",
    "])"
   ]
  },
  {
   "cell_type": "code",
   "execution_count": null,
   "id": "37fc2a6c-a028-47b4-8097-08c859ae0196",
   "metadata": {},
   "outputs": [],
   "source": [
    "pipeline_hgb = Pipeline(steps=[\n",
    "    ('preprocessor', preprocessor),\n",
    "    ('estimator', HistGradientBoostingRegressor())\n",
    "])"
   ]
  },
  {
   "cell_type": "code",
   "execution_count": null,
   "id": "47a64892-28ae-4ae4-89e7-34560e78431f",
   "metadata": {},
   "outputs": [],
   "source": [
    "pipeline_xgb = Pipeline(steps=[\n",
    "    ('preprocessor', preprocessor),\n",
    "    ('estimator', XGBRegressor())\n",
    "])"
   ]
  },
  {
   "cell_type": "code",
   "execution_count": null,
   "id": "12c0c08a-7507-441f-bdfe-671181e4a3f9",
   "metadata": {},
   "outputs": [],
   "source": [
    "models_list = [\n",
    "    'KNN', 'SVR', 'RF', 'Bagging',\n",
    "    'LGBoost', 'HGBoost', 'XGBoost'\n",
    "]"
   ]
  },
  {
   "cell_type": "code",
   "execution_count": null,
   "id": "92a08c4a-7ffa-4bfc-8ee7-d10e72551aab",
   "metadata": {},
   "outputs": [],
   "source": [
    "estimators_list = [\n",
    "    pipeline_knn, pipeline_svr, pipeline_rf, pipeline_bag,\n",
    "    pipeline_lgb, pipeline_hgb, pipeline_xgb\n",
    "]"
   ]
  },
  {
   "cell_type": "code",
   "execution_count": null,
   "id": "a3214ad3-8930-41c4-8825-5741ccd73009",
   "metadata": {},
   "outputs": [],
   "source": [
    "params_list = [\n",
    "    params_knn, params_svr, params_rf, params_bag,\n",
    "    params_lgb, params_hgb, params_xgb\n",
    "]"
   ]
  },
  {
   "cell_type": "markdown",
   "id": "686eff29-8cf6-46f7-b1ca-77c8db5e7f95",
   "metadata": {},
   "source": [
    "##  Hyperparameters tuning"
   ]
  },
  {
   "cell_type": "code",
   "execution_count": null,
   "id": "2ebf473d-2423-42af-81ef-917f26f58e7f",
   "metadata": {},
   "outputs": [],
   "source": [
    "st = stopwatch.start()\n",
    "results_grid, cv_dict = models_evaluation(\n",
    "    X=train_cv[features],\n",
    "    y=train_cv[target],\n",
    "    names=models_list,\n",
    "    estimators=estimators_list,\n",
    "    parameters=params_list,\n",
    "    n_folds=n_folds,\n",
    "    full_results=True\n",
    ")\n",
    "print(f'Execution time: {stopwatch.stop(st)}')"
   ]
  },
  {
   "cell_type": "code",
   "execution_count": null,
   "id": "d0109778-101c-4ebe-b9a1-684ee93b5274",
   "metadata": {},
   "outputs": [],
   "source": [
    "results_grid"
   ]
  },
  {
   "cell_type": "code",
   "execution_count": null,
   "id": "b2215f27-6464-4e21-a9dc-cd167219020c",
   "metadata": {},
   "outputs": [],
   "source": [
    "results_estimators = results_grid['BestEstimator'].map(lambda x: x.named_steps['estimator']).tolist()"
   ]
  },
  {
   "cell_type": "code",
   "execution_count": null,
   "id": "4439e818-4ac9-4ea5-9421-c82581ee5d5d",
   "metadata": {},
   "outputs": [],
   "source": [
    "fig = plt.figure(figsize=(7,3))\n",
    "sns.barplot(\n",
    "    x=results_grid['Model'],\n",
    "    y=results_grid['FitTime'],\n",
    "    width=0.5,\n",
    "    color=palette[0]\n",
    ")\n",
    "plt.errorbar(\n",
    "    x=results_grid['Model'],\n",
    "    y=results_grid['FitTime'],\n",
    "    yerr=results_grid['StdFitTime'],\n",
    "    linestyle='none',\n",
    "    color=palette[-1]\n",
    ")\n",
    "plt.xlabel(str.upper('model'))\n",
    "plt.ylabel(str.upper('fit time'))\n",
    "plt.title('Fit time: residuals estimators')\n",
    "plt.xticks(fontsize=9)"
   ]
  },
  {
   "cell_type": "markdown",
   "id": "e0597676-fac7-418d-ad81-bcb14c1c29b9",
   "metadata": {},
   "source": [
    "## Features Importance"
   ]
  },
  {
   "cell_type": "code",
   "execution_count": null,
   "id": "e226970b-0164-432c-b93e-ff2069d5c1ef",
   "metadata": {},
   "outputs": [],
   "source": [
    "params_best_dict = {i:{} for i in results_grid['Model']}\n",
    "for model in results_grid['Model']:\n",
    "    loc = (results_grid['Model'] == model, 'BestEstimator')\n",
    "    est = results_grid.loc[loc].item().named_steps['estimator']\n",
    "    params_best_dict[model] = est.get_params()"
   ]
  },
  {
   "cell_type": "code",
   "execution_count": null,
   "id": "7d133bbd-7a47-4b4b-9e81-4b2f69b1a915",
   "metadata": {},
   "outputs": [],
   "source": [
    "%%capture\n",
    "estimator_knn = KNeighborsRegressor(**params_best_dict['KNN'])\n",
    "estimator_svr = SVR(**params_best_dict['SVR'])\n",
    "estimator_rf = RandomForestRegressor(**params_best_dict['RF'])\n",
    "estimator_bag = BaggingRegressor(**params_best_dict['Bagging'])\n",
    "estimator_lgb = LGBMRegressor(**params_best_dict['LGBoost'])\n",
    "estimator_hgb = HistGradientBoostingRegressor(**params_best_dict['HGBoost'])\n",
    "estimator_xgb = XGBRegressor(**params_best_dict['XGBoost'])"
   ]
  },
  {
   "cell_type": "code",
   "execution_count": null,
   "id": "4cbc8bcf-35c8-43fd-9707-bed86b695872",
   "metadata": {},
   "outputs": [],
   "source": [
    "estimators_list_best = [\n",
    "    estimator_knn, estimator_svr,\n",
    "    estimator_rf, estimator_bag,\n",
    "    estimator_lgb, estimator_hgb, estimator_xgb\n",
    "]\n",
    "for est in estimators_list_best:\n",
    "    est.fit(*datasets)"
   ]
  },
  {
   "cell_type": "code",
   "execution_count": null,
   "id": "88f1400d-f6db-4fce-8f16-e931a0ac73ff",
   "metadata": {},
   "outputs": [],
   "source": [
    "rf_importance = feature_importance_display(\n",
    "    features=estimator_rf.feature_names_in_,\n",
    "    importance=estimator_rf.feature_importances_,\n",
    "    top=10,\n",
    "    only_features=True\n",
    ")\n",
    "bag_importance_calc = np.mean([tree.feature_importances_ for \n",
    "                        tree in estimator_bag.estimators_], axis=0)\n",
    "bag_importance = feature_importance_display(\n",
    "    features=estimator_bag.feature_names_in_,\n",
    "    importance=bag_importance_calc,\n",
    "    top=10,\n",
    "    only_features=True\n",
    ")\n",
    "xgb_importance = feature_importance_display(\n",
    "    features=estimator_xgb.feature_names_in_,\n",
    "    importance=estimator_xgb.feature_importances_,\n",
    "    top=10,\n",
    "    only_features=True\n",
    ")\n",
    "\n",
    "lgb_importance = feature_importance_display(\n",
    "    features=estimator_lgb.feature_name_,\n",
    "    importance=estimator_lgb.feature_importances_,\n",
    "    top=10,\n",
    "    only_features=True\n",
    ")\n",
    "importance_list = [rf_importance, bag_importance, lgb_importance, xgb_importance]\n",
    "importance_names = list(np.array(models_list)[[2,3,4,6]])\n",
    "importances = pd.concat(importance_list, keys=importance_names, axis=1)"
   ]
  },
  {
   "cell_type": "code",
   "execution_count": null,
   "id": "8affcbe1-122b-4ee2-be65-284bff469b65",
   "metadata": {},
   "outputs": [],
   "source": [
    "importances"
   ]
  },
  {
   "cell_type": "code",
   "execution_count": null,
   "id": "5b2c9d9c-0704-4f9e-9fbc-7daad0da5e24",
   "metadata": {},
   "outputs": [],
   "source": [
    "features_imp, freq = np.unique(importances.values.ravel(), return_counts=True)\n",
    "features_importance_freq = pd.DataFrame({\n",
    "    'Features': features_imp,\n",
    "    'Frequency': freq\n",
    "})\n",
    "features_importance_freq = \\\n",
    "    features_importance_freq.sort_values('Frequency', ascending=False)\n",
    "features_importance_freq.reset_index(drop=True, inplace=True)"
   ]
  },
  {
   "cell_type": "code",
   "execution_count": null,
   "id": "5689269c-8818-4f00-8d5a-462df6ae6d11",
   "metadata": {},
   "outputs": [],
   "source": [
    "features_importance_freq"
   ]
  },
  {
   "cell_type": "code",
   "execution_count": 11,
   "id": "6a3585d8-eb71-4f42-b1a8-cb20afa8dd36",
   "metadata": {},
   "outputs": [
    {
     "data": {
      "image/png": "[encoded data removed]",
      "text/plain": [
       "<Figure size 300x250 with 1 Axes>"
      ]
     },
     "metadata": {},
     "output_type": "display_data"
    },
    {
     "name": "stdout",
     "output_type": "stream",
     "text": [
      "Images 'features_importance.png' and 'features_importance.svg' successfully saved into 'docs/img/Section5-Residuals-prediction' directory\n"
     ]
    }
   ],
   "source": [
    "fig = plot_bar_horizontal(\n",
    "    values=features_importance_freq['Frequency'][:10],\n",
    "    labels=features_importance_freq['Features'][:10],\n",
    "    labelsize=9,\n",
    "    labelcolor='0.3',\n",
    "    figsize=(3, 2.5),\n",
    "    kind='lol',\n",
    "    x_lim_right=4\n",
    ")\n",
    "savefig('features_importance', save_img)"
   ]
  },
  {
   "cell_type": "markdown",
   "id": "c9189020-3c99-4820-9d2d-b1205c002f7a",
   "metadata": {},
   "source": [
    "## Voting And Stacking estimators"
   ]
  },
  {
   "cell_type": "code",
   "execution_count": null,
   "id": "7c7f1bfc-4362-4703-8ccf-fb9f1703ded9",
   "metadata": {},
   "outputs": [],
   "source": [
    "estimator_knn = KNeighborsRegressor(**params_best_dict['KNN'])\n",
    "estimator_svr = SVR(**params_best_dict['SVR'])\n",
    "estimator_rf = RandomForestRegressor(**params_best_dict['RF'])\n",
    "estimator_bag = BaggingRegressor(**params_best_dict['Bagging'])\n",
    "estimator_lgb = LGBMRegressor(**params_best_dict['LGBoost'])\n",
    "estimator_hgb = HistGradientBoostingRegressor(**params_best_dict['HGBoost'])\n",
    "estimator_xgb = XGBRegressor(**params_best_dict['XGBoost'])"
   ]
  },
  {
   "cell_type": "markdown",
   "id": "2e17ce1a-d044-4f73-99bb-e66a2607bff5",
   "metadata": {},
   "source": [
    "### Voting Regressor "
   ]
  },
  {
   "cell_type": "code",
   "execution_count": null,
   "id": "4a77e821-781c-4c1c-844c-4a1608a76ee4",
   "metadata": {},
   "outputs": [],
   "source": [
    "estimators = [\n",
    "    ('SVR', estimator_svr),\n",
    "    ('RF', estimator_rf),\n",
    "    ('Bagging', estimator_bag),\n",
    "    ('LGBoost', estimator_lgb),\n",
    "    ('HGBoost', estimator_hgb),\n",
    "    ('XGBoost', estimator_xgb)\n",
    "]"
   ]
  },
  {
   "cell_type": "code",
   "execution_count": null,
   "id": "3bce02ab-6e6e-46a9-b88e-f0052f098482",
   "metadata": {},
   "outputs": [],
   "source": [
    "estimator_vote = VotingRegressor(estimators=estimators)"
   ]
  },
  {
   "cell_type": "code",
   "execution_count": null,
   "id": "088a963d-6ad6-4505-a7ba-416c8939b45d",
   "metadata": {},
   "outputs": [],
   "source": [
    "estimator_vote"
   ]
  },
  {
   "cell_type": "code",
   "execution_count": null,
   "id": "a583d11f-1d6b-453e-99c4-684611e4c29f",
   "metadata": {},
   "outputs": [],
   "source": [
    "pipeline_vote = Pipeline(steps=[\n",
    "    ('encoding', encoder),\n",
    "    ('scaler', scaler),\n",
    "    ('vote', estimator_vote)\n",
    "])"
   ]
  },
  {
   "cell_type": "code",
   "execution_count": null,
   "id": "cb743792-42aa-4787-861c-0d0a80046f53",
   "metadata": {},
   "outputs": [],
   "source": [
    "st = stopwatch.start()\n",
    "estimator_vote_cv = cross_validate(\n",
    "    pipeline_vote, *datasets_cv, cv=n_folds,\n",
    "    scoring='neg_root_mean_squared_error',\n",
    "    return_train_score=True\n",
    ")\n",
    "print(f'Execution time: {stopwatch.stop(st)}')"
   ]
  },
  {
   "cell_type": "code",
   "execution_count": null,
   "id": "2d454d5f-96d5-45b9-bd10-76c2c1b2d0e4",
   "metadata": {},
   "outputs": [],
   "source": [
    "estimator_vote_scores_mean = np.mean(estimator_vote_cv['test_score'])"
   ]
  },
  {
   "cell_type": "code",
   "execution_count": null,
   "id": "2e469756-da32-4fc3-a918-1d58b70b65bd",
   "metadata": {},
   "outputs": [],
   "source": [
    "estimator_vote_scores_mean"
   ]
  },
  {
   "cell_type": "code",
   "execution_count": null,
   "id": "48e3a1ff-1102-4d58-838f-ca875aa4d70f",
   "metadata": {},
   "outputs": [],
   "source": [
    "estimator_vote_scores_std = np.std(estimator_vote_cv['test_score'], ddof=1)"
   ]
  },
  {
   "cell_type": "code",
   "execution_count": null,
   "id": "ec494ee2-3fc6-46a2-8313-6ea15eb57baf",
   "metadata": {},
   "outputs": [],
   "source": [
    "estimator_vote_scores_std"
   ]
  },
  {
   "cell_type": "code",
   "execution_count": null,
   "id": "c5a620d6-cd1a-4b15-9319-d2fe61ceff2a",
   "metadata": {},
   "outputs": [],
   "source": [
    "estimator_vote_fit_time_mean = np.mean(estimator_vote_cv['fit_time'])"
   ]
  },
  {
   "cell_type": "code",
   "execution_count": null,
   "id": "22c6f49c-c4b1-45b9-8c4a-6a7ef3e778eb",
   "metadata": {},
   "outputs": [],
   "source": [
    "estimator_vote_fit_time_mean"
   ]
  },
  {
   "cell_type": "code",
   "execution_count": null,
   "id": "1208ea04-d73b-49ed-b1cd-d1b0df20ae85",
   "metadata": {},
   "outputs": [],
   "source": [
    "estimator_vote_fit_time_std = np.std(estimator_vote_cv['fit_time'], ddof=1)"
   ]
  },
  {
   "cell_type": "code",
   "execution_count": null,
   "id": "eb7bb0de-a925-49db-9bc2-955b4036587c",
   "metadata": {},
   "outputs": [],
   "source": [
    "estimator_vote_fit_time_std"
   ]
  },
  {
   "cell_type": "markdown",
   "id": "52239faf-f976-40ac-b5e6-0481c97064df",
   "metadata": {},
   "source": [
    "### Stacking Regressor"
   ]
  },
  {
   "cell_type": "code",
   "execution_count": null,
   "id": "5fc9d412-de44-43a0-9fda-e7569d316510",
   "metadata": {},
   "outputs": [],
   "source": [
    "estimators = [\n",
    "    ('SVR', estimator_svr),\n",
    "    ('RF', estimator_rf),\n",
    "    ('Bagging', estimator_bag),\n",
    "    ('LGBoost', estimator_lgb),\n",
    "    ('HGBoost', estimator_hgb),\n",
    "    ('XGBoost', estimator_xgb)\n",
    "]"
   ]
  },
  {
   "cell_type": "code",
   "execution_count": null,
   "id": "f4b18f6b-00e3-4ef0-945e-351b9cf5ea10",
   "metadata": {},
   "outputs": [],
   "source": [
    "final_estimator = RidgeCV()"
   ]
  },
  {
   "cell_type": "code",
   "execution_count": null,
   "id": "f965e878-d709-49ac-af13-bfcb10ef3780",
   "metadata": {},
   "outputs": [],
   "source": [
    "estimator_stack = StackingRegressor(\n",
    "    estimators=estimators,\n",
    "    final_estimator=final_estimator)"
   ]
  },
  {
   "cell_type": "code",
   "execution_count": null,
   "id": "81211f0b-080c-40d5-b71c-ad62ad45cc03",
   "metadata": {},
   "outputs": [],
   "source": [
    "estimator_stack"
   ]
  },
  {
   "cell_type": "code",
   "execution_count": null,
   "id": "29a9c154-07f7-48a1-b947-a4a8dbdcf542",
   "metadata": {},
   "outputs": [],
   "source": [
    "pipeline_stack = Pipeline(steps=[\n",
    "    ('encoding', encoder),\n",
    "    ('scaler', scaler),\n",
    "    ('stack', estimator_stack)\n",
    "])"
   ]
  },
  {
   "cell_type": "code",
   "execution_count": null,
   "id": "4834e64c-9858-405b-91fd-e0962d47e901",
   "metadata": {},
   "outputs": [],
   "source": [
    "st = stopwatch.start()\n",
    "estimator_stack_cv = cross_validate(\n",
    "    pipeline_stack, *datasets_cv, cv=n_folds,\n",
    "    scoring='neg_root_mean_squared_error',\n",
    "    return_train_score=True\n",
    ")\n",
    "print(f'Execution time: {stopwatch.stop(st)}')"
   ]
  },
  {
   "cell_type": "code",
   "execution_count": null,
   "id": "b7c53b94-ed85-4919-9ace-2351faef7653",
   "metadata": {},
   "outputs": [],
   "source": [
    "estimator_stack_scores_mean = np.mean(estimator_stack_cv['test_score'])"
   ]
  },
  {
   "cell_type": "code",
   "execution_count": null,
   "id": "0254b951-1ea6-4f63-9fdd-04f2dd2bb342",
   "metadata": {},
   "outputs": [],
   "source": [
    "estimator_stack_scores_mean"
   ]
  },
  {
   "cell_type": "code",
   "execution_count": null,
   "id": "973cc63c-af68-405f-b94c-757a9df17d20",
   "metadata": {},
   "outputs": [],
   "source": [
    "estimator_stack_scores_std = np.std(estimator_stack_cv['test_score'], ddof=1)"
   ]
  },
  {
   "cell_type": "code",
   "execution_count": null,
   "id": "cd0d760b-35a9-4845-9265-fe0466fc25a8",
   "metadata": {},
   "outputs": [],
   "source": [
    "estimator_stack_scores_std"
   ]
  },
  {
   "cell_type": "code",
   "execution_count": null,
   "id": "54dc4447-8ab9-448b-9fbc-17f426fe42b8",
   "metadata": {},
   "outputs": [],
   "source": [
    "estimator_stack_fit_time_mean = np.mean(estimator_stack_cv['fit_time'])"
   ]
  },
  {
   "cell_type": "code",
   "execution_count": null,
   "id": "f2ca226f-4e09-4175-8c1b-0c872199e367",
   "metadata": {},
   "outputs": [],
   "source": [
    "estimator_stack_fit_time_mean"
   ]
  },
  {
   "cell_type": "code",
   "execution_count": null,
   "id": "40075ce1-853a-432d-add8-d5e6ece1e05a",
   "metadata": {},
   "outputs": [],
   "source": [
    "estimator_stack_fit_time_std = np.std(estimator_stack_cv['fit_time'], ddof=1)"
   ]
  },
  {
   "cell_type": "code",
   "execution_count": null,
   "id": "ce46e6b4-7747-414f-941e-258f49285024",
   "metadata": {},
   "outputs": [],
   "source": [
    "estimator_stack_fit_time_std"
   ]
  },
  {
   "cell_type": "markdown",
   "id": "24620877-67ca-4f30-aff4-fca98eec14b9",
   "metadata": {},
   "source": [
    "### Compare estimators"
   ]
  },
  {
   "cell_type": "code",
   "execution_count": null,
   "id": "ec0c4323-3558-4566-9197-6732eda9cb63",
   "metadata": {},
   "outputs": [],
   "source": [
    "xticks = np.arange(0, len(estimator_stack_cv['test_score']), 1)\n",
    "label_vote = 'Vote Regressor'\n",
    "label_stack = 'Stack Regressor'\n",
    "\n",
    "delta = estimator_stack_cv['test_score'] - estimator_vote_cv['test_score']\n",
    "delta_stack = [i if i>0 else 0 for i in delta]\n",
    "delta_vote = [i if i<0 else 0 for i in delta]"
   ]
  },
  {
   "cell_type": "code",
   "execution_count": null,
   "id": "9acc8968-2121-42b0-b7da-e7c2eae08d0d",
   "metadata": {},
   "outputs": [],
   "source": [
    "plot_vote_stack1 = pd.DataFrame(\n",
    "    data=estimator_vote_cv['test_score'],\n",
    "    columns=['Voting']\n",
    ")\n",
    "plot_vote_stack2 = pd.DataFrame(\n",
    "    data=estimator_stack_cv['test_score'],\n",
    "    columns=['Stacking']\n",
    ")\n",
    "plot_vote_stack = pd.concat([plot_vote_stack1, plot_vote_stack2], axis=1)"
   ]
  },
  {
   "cell_type": "code",
   "execution_count": null,
   "id": "0243dbb5-0540-4598-875b-775054291cba",
   "metadata": {},
   "outputs": [],
   "source": [
    "plot_vote_stack.head()"
   ]
  },
  {
   "cell_type": "code",
   "execution_count": 12,
   "id": "19550dbc-b5ac-4912-9956-3fefdba502a3",
   "metadata": {},
   "outputs": [
    {
     "data": {
      "image/png": "[encoded data removed]",
      "text/plain": [
       "<Figure size 800x400 with 2 Axes>"
      ]
     },
     "metadata": {},
     "output_type": "display_data"
    },
    {
     "name": "stdout",
     "output_type": "stream",
     "text": [
      "Images 'vote_stack_compare.png' and 'vote_stack_compare.svg' successfully saved into 'docs/img/Section5-Residuals-prediction' directory\n"
     ]
    }
   ],
   "source": [
    "fig = plot_estimators_comparing(\n",
    "    data=plot_vote_stack,\n",
    "    labels=['Voting', 'Stacking'],\n",
    "    ylabels=['RMSE', 'Delta'],\n",
    "    figsize=(8, 4),\n",
    "    width=0.15,\n",
    "    palette=[alpha_color(palette[0], 0.85), palette[1]],\n",
    "    ax0_y_ticks=[-0.18, -0.06, 0.03],\n",
    "    ax1_y_ticks=[-0.0080, 0.0080, 0.0040]\n",
    ")\n",
    "\n",
    "savefig('vote_stack_compare', save_img)"
   ]
  },
  {
   "cell_type": "code",
   "execution_count": null,
   "id": "b90421ff-5e4b-4eba-97fe-49bf5a77cfb4",
   "metadata": {},
   "outputs": [],
   "source": [
    "# create df with results\n",
    "results_full_cols = [\n",
    "    'Model', 'MeanScore', 'StdScore', 'FitTime', 'StdFitTime'\n",
    "]\t\n",
    "results_full = results_grid[results_full_cols].copy()\n",
    "results_full['MeanScore'] = results_full['MeanScore'].abs() \n",
    "results_full['Estimator'] = results_estimators "
   ]
  },
  {
   "cell_type": "code",
   "execution_count": null,
   "id": "a275633b-3e05-4985-926b-28921305de88",
   "metadata": {},
   "outputs": [],
   "source": [
    "# add scores of vote and stacking regressors\n",
    "vote_row = [\n",
    "    'Voting',\n",
    "    np.abs(estimator_vote_scores_mean),\n",
    "    estimator_vote_scores_std,\n",
    "    estimator_vote_fit_time_mean,\n",
    "    estimator_vote_fit_time_std,\n",
    "    estimator_vote\n",
    "]\n",
    "stack_row = [\n",
    "    'Stacking',\n",
    "    np.abs(estimator_stack_scores_mean),\n",
    "    estimator_stack_scores_std,\n",
    "    estimator_stack_fit_time_mean,\n",
    "    estimator_stack_fit_time_std,\n",
    "    estimator_stack\n",
    "]"
   ]
  },
  {
   "cell_type": "code",
   "execution_count": null,
   "id": "3c152f50-052f-42f5-82ba-1f6f34630624",
   "metadata": {},
   "outputs": [],
   "source": [
    "results_full.loc[len(results_full)] = vote_row\n",
    "results_full.loc[len(results_full)] = stack_row\n",
    "\n",
    "results_full = results_full.sort_values('MeanScore', ascending=True)\n",
    "results_full = results_full.reset_index(drop=True)"
   ]
  },
  {
   "cell_type": "code",
   "execution_count": null,
   "id": "b4666572-bc03-42dd-9215-f44d43bdc475",
   "metadata": {},
   "outputs": [],
   "source": [
    "# calculate CI and margin of errors\n",
    "results_full['CiMin'] = results_full.apply(\n",
    "    lambda x: ci_t_distribution(\n",
    "        mean=x['MeanScore'], std=x['StdScore'], n=n_folds)['min'],\n",
    "    axis=1)\n",
    "\n",
    "results_full['CiMax'] = results_full.apply(\n",
    "    lambda x: ci_t_distribution(\n",
    "        mean=x['MeanScore'], std=x['StdScore'], n=n_folds)['max'],\n",
    "    axis=1)\n",
    "\n",
    "results_full['MarginOfError'] = results_full.apply(\n",
    "    lambda x: ci_t_distribution(\n",
    "        mean=x['MeanScore'], std=x['StdScore'], n=n_folds)['margin'],\n",
    "    axis=1)\n",
    "\n",
    "# move 'Estimator' column to last position\n",
    "old_cols = results_full.columns\n",
    "new_cols = [col for col in old_cols if col != 'Estimator'] + ['Estimator']\n",
    "results_full = results_full[new_cols].copy()"
   ]
  },
  {
   "cell_type": "code",
   "execution_count": null,
   "id": "14e825c5-6155-49f4-99c9-a778412d4189",
   "metadata": {},
   "outputs": [],
   "source": [
    "results_full"
   ]
  },
  {
   "cell_type": "code",
   "execution_count": null,
   "id": "c94642f9-87a2-411f-b13a-f3b62355cc10",
   "metadata": {},
   "outputs": [],
   "source": [
    "plt.hist(estimator_stack_cv['test_score'], bins=20, alpha=0.85);"
   ]
  },
  {
   "cell_type": "code",
   "execution_count": 13,
   "id": "c0434086-e8a2-4b5b-99fb-eb8921cfa189",
   "metadata": {},
   "outputs": [
    {
     "data": {
      "image/png": "[encoded data removed]",
      "text/plain": [
       "<Figure size 700x250 with 1 Axes>"
      ]
     },
     "metadata": {},
     "output_type": "display_data"
    },
    {
     "name": "stdout",
     "output_type": "stream",
     "text": [
      "Images 'final_plot.png' and 'final_plot.svg' successfully saved into 'docs/img/Section5-Residuals-prediction' directory\n"
     ]
    }
   ],
   "source": [
    "fig = plt.figure(figsize=(7, 2.5))\n",
    "\n",
    "plt.errorbar(\n",
    "    x=results_full['Model'],\n",
    "    y=results_full['MeanScore'],\n",
    "    yerr=results_full['MarginOfError'],\n",
    "    elinewidth=0.5,\n",
    "    capsize=1.2,\n",
    "    capthick=0.5,\n",
    "    fmt='o',\n",
    "    markersize=2.5,\n",
    "    linestyle='none',\n",
    "    alpha=0.9,\n",
    "    label='Confidence intervals (95%)'\n",
    ")\n",
    "plt.plot(\n",
    "    results_full['Model'], results_full['MeanScore'],\n",
    "    color=palette[0], lw=0.5, ls=':', alpha=0.5\n",
    ")\n",
    "axis_rstyle(\n",
    "    offset_bottom=15,\n",
    "    xticks=[0, 8, 1],\n",
    "    yticks=[0.090, 0.140, 0.010],\n",
    "    xlim=[-0.25, 8.25]\n",
    "    \n",
    ")\n",
    "plt.tick_params(axis='x', pad=10)\n",
    "plt.xticks(weight='medium', fontsize=9, color='0.3')\n",
    "# plt.title('Comparing models after hyperparameters tuning (CI, 95%)')\n",
    "plt.legend(**legend_inline(), **legend_create_handles(1, lw=0.5, alpha=0.85))\n",
    "plt.grid(False)\n",
    "plt.show()\n",
    "\n",
    "savefig('final_plot', save_img)"
   ]
  },
  {
   "cell_type": "code",
   "execution_count": null,
   "id": "bd84a314-0878-4a22-b8c0-2f1756329ea8",
   "metadata": {},
   "outputs": [],
   "source": [
    "plt.figure(figsize=(8,3))\n",
    "sns.barplot(\n",
    "    x=results_full['Model'],\n",
    "    y=results_full['FitTime'],\n",
    "    width=0.5,\n",
    "    color=palette[0]\n",
    ")\n",
    "plt.errorbar(\n",
    "    x=results_full['Model'],\n",
    "    y=results_full['FitTime'],\n",
    "    yerr=results_full['StdFitTime'],\n",
    "    linestyle='none',\n",
    "    color=palette[-1]\n",
    ")\n",
    "plt.show()"
   ]
  },
  {
   "cell_type": "markdown",
   "id": "949229d9-4cbb-4ea9-97b0-f4d63ec40430",
   "metadata": {},
   "source": [
    "### Save Data"
   ]
  },
  {
   "cell_type": "code",
   "execution_count": null,
   "id": "ee3ed16b-2160-41b1-bb87-1c6ec90c5980",
   "metadata": {},
   "outputs": [],
   "source": [
    "estimator_stack = StackingRegressor(\n",
    "    estimators=estimators,\n",
    "    final_estimator=final_estimator)"
   ]
  },
  {
   "cell_type": "code",
   "execution_count": null,
   "id": "99d59d99-e274-4654-8b21-e1eb020488e1",
   "metadata": {},
   "outputs": [],
   "source": [
    "estimator_stack"
   ]
  },
  {
   "cell_type": "code",
   "execution_count": null,
   "id": "e242a497-ed04-4427-91a0-c87f9fa93c2a",
   "metadata": {},
   "outputs": [],
   "source": [
    "estimators_dict['stack_resid'] = estimator_stack"
   ]
  },
  {
   "cell_type": "code",
   "execution_count": null,
   "id": "808faceb-d3a3-427c-afc0-8459d00d71e9",
   "metadata": {},
   "outputs": [],
   "source": [
    "saveit(estimators_dict, 'estimators_dict', save_files)"
   ]
  },
  {
   "cell_type": "code",
   "execution_count": null,
   "id": "bab37561-fdcb-49d1-a554-2af4acbd5f79",
   "metadata": {},
   "outputs": [],
   "source": [
    "saveit(results_grid, 'results_grid', save_files)"
   ]
  },
  {
   "cell_type": "code",
   "execution_count": null,
   "id": "00bcdaa8-1613-40c1-85c0-d600a0a7fccd",
   "metadata": {},
   "outputs": [],
   "source": [
    "saveit(results_full, 'results_full', save_files)"
   ]
  },
  {
   "cell_type": "markdown",
   "id": "bb18b9bf-0a5a-484c-aff1-422e7cf61673",
   "metadata": {},
   "source": [
    "### Save Session"
   ]
  },
  {
   "cell_type": "code",
   "execution_count": 14,
   "id": "4c662c70-5cf4-422e-a521-1d177f6743f3",
   "metadata": {},
   "outputs": [],
   "source": [
    "save_session(session_name)"
   ]
  },
  {
   "cell_type": "markdown",
   "id": "a1680859-6229-4ff0-9d04-ef74432dea1d",
   "metadata": {},
   "source": [
    "### Execution time"
   ]
  },
  {
   "cell_type": "code",
   "execution_count": null,
   "id": "ab9d5b1d-36fd-4456-95a3-46342ba13da7",
   "metadata": {},
   "outputs": [],
   "source": [
    "print(f'Execution time: {stopwatch.stop(start)}')"
   ]
  }
 ],
 "metadata": {
  "kernelspec": {
   "display_name": "kgl_house_prices",
   "language": "python",
   "name": "kgl_house_prices"
  },
  "language_info": {
   "codemirror_mode": {
    "name": "ipython",
    "version": 3
   },
   "file_extension": ".py",
   "mimetype": "text/x-python",
   "name": "python",
   "nbconvert_exporter": "python",
   "pygments_lexer": "ipython3",
   "version": "3.12.2"
  }
 },
 "nbformat": 4,
 "nbformat_minor": 5
}
