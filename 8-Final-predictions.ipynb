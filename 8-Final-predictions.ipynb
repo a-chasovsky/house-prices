{
 "cells": [
  {
   "cell_type": "code",
   "execution_count": 1,
   "id": "13bce851-0197-471f-a2bc-f8fe541893fa",
   "metadata": {},
   "outputs": [],
   "source": [
    "# run stopwatch\n",
    "from tools import Stopwatch\n",
    "stopwatch = Stopwatch()\n",
    "start = stopwatch.start()"
   ]
  },
  {
   "cell_type": "markdown",
   "id": "a9b0cdca-53e1-4aec-aaa1-4fc172b9b1de",
   "metadata": {},
   "source": [
    "### Load libraries, functions, palette, theme"
   ]
  },
  {
   "cell_type": "code",
   "execution_count": 2,
   "id": "49ddea0f-f206-4687-a8a9-328d21c6dbde",
   "metadata": {},
   "outputs": [],
   "source": [
    "%run _libraries.ipynb"
   ]
  },
  {
   "cell_type": "code",
   "execution_count": 3,
   "id": "40c8cf05-f32f-45c5-ba9f-6e46d38cf1fc",
   "metadata": {},
   "outputs": [],
   "source": [
    "%run _functions.ipynb"
   ]
  },
  {
   "cell_type": "code",
   "execution_count": 4,
   "id": "392c53ca-f02c-41d2-976c-003b2f97b271",
   "metadata": {},
   "outputs": [],
   "source": [
    "save_files = 'files/Section8-Final-predictions'"
   ]
  },
  {
   "cell_type": "code",
   "execution_count": 5,
   "id": "99b42435-2c29-4adf-b120-a06742808176",
   "metadata": {},
   "outputs": [],
   "source": [
    "save_img = 'docs/img/Section8-Final-predictions'"
   ]
  },
  {
   "cell_type": "code",
   "execution_count": 6,
   "id": "b13c04d8-9b5f-4c57-809a-3f93727654e3",
   "metadata": {},
   "outputs": [],
   "source": [
    "session_name = 'Section8-Final-predictions'"
   ]
  },
  {
   "cell_type": "markdown",
   "id": "bc28439f-bdb8-4083-8899-3c2a0fbc0b29",
   "metadata": {},
   "source": [
    "# Section VIII. Final predictions"
   ]
  },
  {
   "cell_type": "markdown",
   "id": "c52a6e03-8b9e-4b7f-88ca-f266694fea30",
   "metadata": {},
   "source": [
    "## Load Saved Section if exists"
   ]
  },
  {
   "cell_type": "raw",
   "id": "654a2fe6-0b5b-4db7-a14d-373c05014773",
   "metadata": {},
   "source": [
    "if os.path.exists(f'sessions/{session_name}'):\n",
    "    load_session(session_name)\n",
    "else:\n",
    "    print(f'No such session in directory: \"sessions/{session_name}/\"')"
   ]
  },
  {
   "cell_type": "markdown",
   "id": "0218a331-1d1b-4f80-981d-675eb814360e",
   "metadata": {},
   "source": [
    "## Load Data"
   ]
  },
  {
   "cell_type": "code",
   "execution_count": 7,
   "id": "49e88234-f5ee-44b2-8b91-1fdaee704e57",
   "metadata": {},
   "outputs": [],
   "source": [
    "# dicts\n",
    "datasets_dict = loadit(\n",
    "    'datasets_dict', dir='Section3-Feature-selection-and-Preprocessing')\n",
    "datasets_dict_raw = loadit(\n",
    "    'datasets_dict', dir='Section1-Overview-and-Base-model')\n",
    "features_dict = loadit(\n",
    "    'features_dict', dir='Section4-Linear-models-research')\n",
    "groups_dict = loadit(\n",
    "    'groups_dict', dir='Section2-Explore-and-Clean')\n",
    "transform_dict = loadit(\n",
    "    'transform_dict', dir='Section3-Feature-selection-and-Preprocessing')\n",
    "simulation_datasets_dict = loadit(\n",
    "    'simulation_datasets_dict', dir='Section7-ML-models')\n",
    "estimators_dict = loadit(\n",
    "    'estimators_dict', dir='Section7-ML-models')\n",
    "evaluation_dict = loadit(\n",
    "    'evaluation_dict', dir='Section7-ML-models')\n",
    "\n",
    "# test dataset\n",
    "test = datasets_dict['test']\n",
    "\n",
    "# target variable\n",
    "target='price'\n",
    "\n",
    "# overview transformers\n",
    "transformer_overview = transform_dict['transformer_overview']\n",
    "transformer_imputer_median = transform_dict['transformer_imputer_median']\n",
    "transformer_imputer_frequent = transform_dict['transformer_imputer_frequent']\n",
    "transformer_label = transform_dict['transformer_label']\n",
    "\n",
    "# feature selection transformers\n",
    "transformer_features_creator = transform_dict['transformer_features_creator']\n",
    "transformer_features_logger = transform_dict['transformer_features_logger']\n",
    "\n",
    "# preprocessing transformers\n",
    "encoder = transform_dict['encoder']\n",
    "scaler = transform_dict['scaler']\n",
    "\n",
    "# additional features lists\n",
    "features_na = transform_dict['features_na']\n",
    "features_log = transform_dict['features_log']\n",
    "\n",
    "# models\n",
    "lgb_base = estimators_dict['lgb_base']\n",
    "lgb_clean = estimators_dict['lgb_iter1']\n",
    "lgb_nf = estimators_dict['lgb_iter2']\n",
    "enet = estimators_dict['enet']\n",
    "stack = estimators_dict['stack_ml']\n",
    "svr = estimators_dict['svr_ml']\n",
    "hpp = estimators_dict['hpp']"
   ]
  },
  {
   "cell_type": "markdown",
   "id": "2360b156-484e-4870-8095-42292339d066",
   "metadata": {},
   "source": [
    "## Tests Datasets for Sections"
   ]
  },
  {
   "cell_type": "code",
   "execution_count": 8,
   "id": "fdb83263-ebfb-4426-983e-c5af11632640",
   "metadata": {},
   "outputs": [
    {
     "data": {
      "text/plain": [
       "(146, 81)"
      ]
     },
     "execution_count": 8,
     "metadata": {},
     "output_type": "execute_result"
    }
   ],
   "source": [
    "test.shape"
   ]
  },
  {
   "cell_type": "code",
   "execution_count": 9,
   "id": "6ca7c8f2-0dec-41fb-ac46-97dccf196ebe",
   "metadata": {},
   "outputs": [
    {
     "data": {
      "text/html": [
       "<div>\n",
       "<style scoped>\n",
       "    .dataframe tbody tr th:only-of-type {\n",
       "        vertical-align: middle;\n",
       "    }\n",
       "\n",
       "    .dataframe tbody tr th {\n",
       "        vertical-align: top;\n",
       "    }\n",
       "\n",
       "    .dataframe thead th {\n",
       "        text-align: right;\n",
       "    }\n",
       "</style>\n",
       "<table border=\"1\" class=\"dataframe\">\n",
       "  <thead>\n",
       "    <tr style=\"text-align: right;\">\n",
       "      <th></th>\n",
       "      <th>Id</th>\n",
       "      <th>MSSubClass</th>\n",
       "      <th>MSZoning</th>\n",
       "      <th>LotFrontage</th>\n",
       "      <th>LotArea</th>\n",
       "      <th>Street</th>\n",
       "      <th>Alley</th>\n",
       "      <th>LotShape</th>\n",
       "      <th>LandContour</th>\n",
       "      <th>Utilities</th>\n",
       "      <th>...</th>\n",
       "      <th>PoolArea</th>\n",
       "      <th>PoolQC</th>\n",
       "      <th>Fence</th>\n",
       "      <th>MiscFeature</th>\n",
       "      <th>MiscVal</th>\n",
       "      <th>MoSold</th>\n",
       "      <th>YrSold</th>\n",
       "      <th>SaleType</th>\n",
       "      <th>SaleCondition</th>\n",
       "      <th>price</th>\n",
       "    </tr>\n",
       "  </thead>\n",
       "  <tbody>\n",
       "    <tr>\n",
       "      <th>892</th>\n",
       "      <td>893</td>\n",
       "      <td>20</td>\n",
       "      <td>RL</td>\n",
       "      <td>70.0</td>\n",
       "      <td>8414</td>\n",
       "      <td>Pave</td>\n",
       "      <td>NaN</td>\n",
       "      <td>Reg</td>\n",
       "      <td>Lvl</td>\n",
       "      <td>AllPub</td>\n",
       "      <td>...</td>\n",
       "      <td>0</td>\n",
       "      <td>NaN</td>\n",
       "      <td>MnPrv</td>\n",
       "      <td>NaN</td>\n",
       "      <td>0</td>\n",
       "      <td>2</td>\n",
       "      <td>2006</td>\n",
       "      <td>WD</td>\n",
       "      <td>Normal</td>\n",
       "      <td>154500</td>\n",
       "    </tr>\n",
       "    <tr>\n",
       "      <th>1105</th>\n",
       "      <td>1106</td>\n",
       "      <td>60</td>\n",
       "      <td>RL</td>\n",
       "      <td>98.0</td>\n",
       "      <td>12256</td>\n",
       "      <td>Pave</td>\n",
       "      <td>NaN</td>\n",
       "      <td>IR1</td>\n",
       "      <td>Lvl</td>\n",
       "      <td>AllPub</td>\n",
       "      <td>...</td>\n",
       "      <td>0</td>\n",
       "      <td>NaN</td>\n",
       "      <td>NaN</td>\n",
       "      <td>NaN</td>\n",
       "      <td>0</td>\n",
       "      <td>4</td>\n",
       "      <td>2010</td>\n",
       "      <td>WD</td>\n",
       "      <td>Normal</td>\n",
       "      <td>325000</td>\n",
       "    </tr>\n",
       "    <tr>\n",
       "      <th>413</th>\n",
       "      <td>414</td>\n",
       "      <td>30</td>\n",
       "      <td>RM</td>\n",
       "      <td>56.0</td>\n",
       "      <td>8960</td>\n",
       "      <td>Pave</td>\n",
       "      <td>Grvl</td>\n",
       "      <td>Reg</td>\n",
       "      <td>Lvl</td>\n",
       "      <td>AllPub</td>\n",
       "      <td>...</td>\n",
       "      <td>0</td>\n",
       "      <td>NaN</td>\n",
       "      <td>NaN</td>\n",
       "      <td>NaN</td>\n",
       "      <td>0</td>\n",
       "      <td>3</td>\n",
       "      <td>2010</td>\n",
       "      <td>WD</td>\n",
       "      <td>Normal</td>\n",
       "      <td>115000</td>\n",
       "    </tr>\n",
       "    <tr>\n",
       "      <th>522</th>\n",
       "      <td>523</td>\n",
       "      <td>50</td>\n",
       "      <td>RM</td>\n",
       "      <td>50.0</td>\n",
       "      <td>5000</td>\n",
       "      <td>Pave</td>\n",
       "      <td>NaN</td>\n",
       "      <td>Reg</td>\n",
       "      <td>Lvl</td>\n",
       "      <td>AllPub</td>\n",
       "      <td>...</td>\n",
       "      <td>0</td>\n",
       "      <td>NaN</td>\n",
       "      <td>NaN</td>\n",
       "      <td>NaN</td>\n",
       "      <td>0</td>\n",
       "      <td>10</td>\n",
       "      <td>2006</td>\n",
       "      <td>WD</td>\n",
       "      <td>Normal</td>\n",
       "      <td>159000</td>\n",
       "    </tr>\n",
       "    <tr>\n",
       "      <th>1036</th>\n",
       "      <td>1037</td>\n",
       "      <td>20</td>\n",
       "      <td>RL</td>\n",
       "      <td>89.0</td>\n",
       "      <td>12898</td>\n",
       "      <td>Pave</td>\n",
       "      <td>NaN</td>\n",
       "      <td>IR1</td>\n",
       "      <td>HLS</td>\n",
       "      <td>AllPub</td>\n",
       "      <td>...</td>\n",
       "      <td>0</td>\n",
       "      <td>NaN</td>\n",
       "      <td>NaN</td>\n",
       "      <td>NaN</td>\n",
       "      <td>0</td>\n",
       "      <td>9</td>\n",
       "      <td>2009</td>\n",
       "      <td>WD</td>\n",
       "      <td>Normal</td>\n",
       "      <td>315500</td>\n",
       "    </tr>\n",
       "  </tbody>\n",
       "</table>\n",
       "<p>5 rows × 81 columns</p>\n",
       "</div>"
      ],
      "text/plain": [
       "        Id  MSSubClass MSZoning  LotFrontage  LotArea Street Alley LotShape  \\\n",
       "892    893          20       RL         70.0     8414   Pave   NaN      Reg   \n",
       "1105  1106          60       RL         98.0    12256   Pave   NaN      IR1   \n",
       "413    414          30       RM         56.0     8960   Pave  Grvl      Reg   \n",
       "522    523          50       RM         50.0     5000   Pave   NaN      Reg   \n",
       "1036  1037          20       RL         89.0    12898   Pave   NaN      IR1   \n",
       "\n",
       "     LandContour Utilities  ... PoolArea PoolQC  Fence MiscFeature MiscVal  \\\n",
       "892          Lvl    AllPub  ...        0    NaN  MnPrv         NaN       0   \n",
       "1105         Lvl    AllPub  ...        0    NaN    NaN         NaN       0   \n",
       "413          Lvl    AllPub  ...        0    NaN    NaN         NaN       0   \n",
       "522          Lvl    AllPub  ...        0    NaN    NaN         NaN       0   \n",
       "1036         HLS    AllPub  ...        0    NaN    NaN         NaN       0   \n",
       "\n",
       "     MoSold YrSold  SaleType  SaleCondition   price  \n",
       "892       2   2006        WD         Normal  154500  \n",
       "1105      4   2010        WD         Normal  325000  \n",
       "413       3   2010        WD         Normal  115000  \n",
       "522      10   2006        WD         Normal  159000  \n",
       "1036      9   2009        WD         Normal  315500  \n",
       "\n",
       "[5 rows x 81 columns]"
      ]
     },
     "execution_count": 9,
     "metadata": {},
     "output_type": "execute_result"
    }
   ],
   "source": [
    "test.head()"
   ]
  },
  {
   "cell_type": "markdown",
   "id": "c07ea8a7-1407-4890-b3a9-6826906ee103",
   "metadata": {},
   "source": [
    "### Log Target Variable"
   ]
  },
  {
   "cell_type": "code",
   "execution_count": 10,
   "id": "06cedb01-a7be-413e-b9a5-e1150c8e5d07",
   "metadata": {},
   "outputs": [],
   "source": [
    "test['price'] = np.log(test['price'])"
   ]
  },
  {
   "cell_type": "code",
   "execution_count": 11,
   "id": "1dbceb52-08fe-4b7c-8863-229fef93eae9",
   "metadata": {},
   "outputs": [],
   "source": [
    "y_test = test['price'].copy()"
   ]
  },
  {
   "cell_type": "markdown",
   "id": "0398ed11-86a4-4ac9-8ab0-0d7958fbf34a",
   "metadata": {},
   "source": [
    "### Overview Transformation and Discrepancy Check"
   ]
  },
  {
   "cell_type": "markdown",
   "id": "4472aa82-b807-4eb1-94c8-7a0a396f7047",
   "metadata": {},
   "source": [
    "#### Transformation"
   ]
  },
  {
   "cell_type": "code",
   "execution_count": 12,
   "id": "8b93e758-c5f9-4e4e-a866-ae18bf3f6039",
   "metadata": {},
   "outputs": [],
   "source": [
    "test = transformer_overview.transform(test)"
   ]
  },
  {
   "cell_type": "markdown",
   "id": "7642eac7-8b37-47d9-90ab-bd334edc59da",
   "metadata": {},
   "source": [
    "#### Discrepancy"
   ]
  },
  {
   "cell_type": "markdown",
   "id": "46cc38a1-4b8a-4b3d-859e-6aeec834a603",
   "metadata": {},
   "source": [
    "##### Garage Discrepancy"
   ]
  },
  {
   "cell_type": "code",
   "execution_count": 13,
   "id": "80d83013-d4be-4c66-a941-971fe871cba1",
   "metadata": {},
   "outputs": [],
   "source": [
    "features_garage = groups_dict['features_garage']"
   ]
  },
  {
   "cell_type": "code",
   "execution_count": 14,
   "id": "febb1794-c173-4361-b728-eb57a8b9487b",
   "metadata": {},
   "outputs": [
    {
     "name": "stdout",
     "output_type": "stream",
     "text": [
      "Garage Features NA-zeroes length: No discrepancy\n",
      "Garage Features NA-zeroes: No discrepancy\n"
     ]
    }
   ],
   "source": [
    "check_garage_discrepancy(test, features_garage)"
   ]
  },
  {
   "cell_type": "markdown",
   "id": "cac54598-5486-4be9-ab02-f9468572c19d",
   "metadata": {},
   "source": [
    "##### Basement Discrepancy"
   ]
  },
  {
   "cell_type": "code",
   "execution_count": 15,
   "id": "d0d5740a-6836-43b3-a874-2fee377232ad",
   "metadata": {},
   "outputs": [],
   "source": [
    "features_bsmt = groups_dict['features_bsmt']"
   ]
  },
  {
   "cell_type": "code",
   "execution_count": 16,
   "id": "62ec7fa1-f360-40b2-aa6a-6efc6c8ce95b",
   "metadata": {},
   "outputs": [
    {
     "name": "stdout",
     "output_type": "stream",
     "text": [
      "Basement Features: No discrepancy\n"
     ]
    }
   ],
   "source": [
    "check_bsmt_discrepancy(test, features_bsmt)"
   ]
  },
  {
   "cell_type": "markdown",
   "id": "8fc2f158-573a-4a3d-b3e7-976eca253436",
   "metadata": {},
   "source": [
    "##### Square Feet Features"
   ]
  },
  {
   "cell_type": "code",
   "execution_count": 17,
   "id": "9f4330f4-1e4d-422f-be16-1b6cbf380ba1",
   "metadata": {},
   "outputs": [],
   "source": [
    "features_square = groups_dict['features_square'].copy()"
   ]
  },
  {
   "cell_type": "code",
   "execution_count": 18,
   "id": "039bb9a7-623e-4f6f-8cc0-9a8533d9ff5c",
   "metadata": {},
   "outputs": [
    {
     "name": "stdout",
     "output_type": "stream",
     "text": [
      "Livarea Features: No discrepancy\n",
      "Masvnrtype Features: No discrepancy\n",
      "Pool Features NA-zeroes: No discrepancy\n"
     ]
    }
   ],
   "source": [
    "square_feet_check_discrepancy(test, features_square)"
   ]
  },
  {
   "cell_type": "markdown",
   "id": "28c92c80-29ba-48be-8e4b-bec7f2fe4d91",
   "metadata": {},
   "source": [
    "##### Year Features"
   ]
  },
  {
   "cell_type": "code",
   "execution_count": 19,
   "id": "15929d80-9a19-43cf-bb7d-f233131e9d56",
   "metadata": {},
   "outputs": [],
   "source": [
    "features_year = groups_dict['features_year']"
   ]
  },
  {
   "cell_type": "code",
   "execution_count": 20,
   "id": "e1d895b1-02c9-4939-a936-48b33b0bc39a",
   "metadata": {},
   "outputs": [
    {
     "name": "stdout",
     "output_type": "stream",
     "text": [
      "Year Features: No discrepancy\n"
     ]
    }
   ],
   "source": [
    "year_check_discrepancy(test, features_year)"
   ]
  },
  {
   "cell_type": "markdown",
   "id": "6d07889f-bbf5-4218-ac49-4381e80266ff",
   "metadata": {},
   "source": [
    "### Dataset Base (Section I)"
   ]
  },
  {
   "cell_type": "markdown",
   "id": "7fc52c5c-88ce-43e2-9fbe-0f33d1c90032",
   "metadata": {},
   "source": [
    "#### Transformation Pipeline"
   ]
  },
  {
   "cell_type": "code",
   "execution_count": 21,
   "id": "019dd1be-0b2a-4176-9ecd-8b1d6d273a4e",
   "metadata": {},
   "outputs": [],
   "source": [
    "pipeline_s1 = Pipeline(steps=[\n",
    "    ('transformer_imputer_num', transformer_imputer_median),\n",
    "    ('transformer_imputer_cat', transformer_imputer_frequent),\n",
    "    ('transformer_label', transformer_label),\n",
    "    ('encoder', encoder)\n",
    "])"
   ]
  },
  {
   "cell_type": "markdown",
   "id": "3c7d3ea1-2855-41f1-968f-da7bfa02e164",
   "metadata": {},
   "source": [
    "#### Transform Test Dataset"
   ]
  },
  {
   "cell_type": "code",
   "execution_count": 22,
   "id": "c00f2166-6e88-4eb5-b203-5dd798f4d38c",
   "metadata": {},
   "outputs": [],
   "source": [
    "test_s1 = pipeline_s1.transform(test)"
   ]
  },
  {
   "cell_type": "code",
   "execution_count": 23,
   "id": "41b1e676-9790-43e1-8186-7900b5f6cd08",
   "metadata": {},
   "outputs": [
    {
     "data": {
      "text/html": [
       "<div>\n",
       "<style scoped>\n",
       "    .dataframe tbody tr th:only-of-type {\n",
       "        vertical-align: middle;\n",
       "    }\n",
       "\n",
       "    .dataframe tbody tr th {\n",
       "        vertical-align: top;\n",
       "    }\n",
       "\n",
       "    .dataframe thead th {\n",
       "        text-align: right;\n",
       "    }\n",
       "</style>\n",
       "<table border=\"1\" class=\"dataframe\">\n",
       "  <thead>\n",
       "    <tr style=\"text-align: right;\">\n",
       "      <th></th>\n",
       "      <th>id</th>\n",
       "      <th>mssubclass</th>\n",
       "      <th>mszoning</th>\n",
       "      <th>lotfrontage</th>\n",
       "      <th>lotarea</th>\n",
       "      <th>street</th>\n",
       "      <th>alley</th>\n",
       "      <th>lotshape</th>\n",
       "      <th>landcontour</th>\n",
       "      <th>utilities</th>\n",
       "      <th>...</th>\n",
       "      <th>poolarea</th>\n",
       "      <th>poolqc</th>\n",
       "      <th>fence</th>\n",
       "      <th>miscfeature</th>\n",
       "      <th>miscval</th>\n",
       "      <th>mosold</th>\n",
       "      <th>yrsold</th>\n",
       "      <th>saletype</th>\n",
       "      <th>salecondition</th>\n",
       "      <th>price</th>\n",
       "    </tr>\n",
       "  </thead>\n",
       "  <tbody>\n",
       "    <tr>\n",
       "      <th>892</th>\n",
       "      <td>893</td>\n",
       "      <td>10</td>\n",
       "      <td>3</td>\n",
       "      <td>70.0</td>\n",
       "      <td>8414</td>\n",
       "      <td>1</td>\n",
       "      <td>2</td>\n",
       "      <td>0</td>\n",
       "      <td>1</td>\n",
       "      <td>1</td>\n",
       "      <td>...</td>\n",
       "      <td>0</td>\n",
       "      <td>0</td>\n",
       "      <td>2</td>\n",
       "      <td>2</td>\n",
       "      <td>0</td>\n",
       "      <td>2</td>\n",
       "      <td>2006</td>\n",
       "      <td>5</td>\n",
       "      <td>4</td>\n",
       "      <td>11.947949</td>\n",
       "    </tr>\n",
       "    <tr>\n",
       "      <th>1105</th>\n",
       "      <td>1106</td>\n",
       "      <td>14</td>\n",
       "      <td>3</td>\n",
       "      <td>98.0</td>\n",
       "      <td>12256</td>\n",
       "      <td>1</td>\n",
       "      <td>2</td>\n",
       "      <td>1</td>\n",
       "      <td>1</td>\n",
       "      <td>1</td>\n",
       "      <td>...</td>\n",
       "      <td>0</td>\n",
       "      <td>0</td>\n",
       "      <td>3</td>\n",
       "      <td>2</td>\n",
       "      <td>0</td>\n",
       "      <td>4</td>\n",
       "      <td>2010</td>\n",
       "      <td>5</td>\n",
       "      <td>4</td>\n",
       "      <td>12.691580</td>\n",
       "    </tr>\n",
       "    <tr>\n",
       "      <th>413</th>\n",
       "      <td>414</td>\n",
       "      <td>0</td>\n",
       "      <td>1</td>\n",
       "      <td>56.0</td>\n",
       "      <td>8960</td>\n",
       "      <td>1</td>\n",
       "      <td>0</td>\n",
       "      <td>0</td>\n",
       "      <td>1</td>\n",
       "      <td>1</td>\n",
       "      <td>...</td>\n",
       "      <td>0</td>\n",
       "      <td>0</td>\n",
       "      <td>3</td>\n",
       "      <td>2</td>\n",
       "      <td>0</td>\n",
       "      <td>3</td>\n",
       "      <td>2010</td>\n",
       "      <td>5</td>\n",
       "      <td>4</td>\n",
       "      <td>11.652687</td>\n",
       "    </tr>\n",
       "  </tbody>\n",
       "</table>\n",
       "<p>3 rows × 81 columns</p>\n",
       "</div>"
      ],
      "text/plain": [
       "        id  mssubclass  mszoning  lotfrontage  lotarea  street  alley  \\\n",
       "892    893          10         3         70.0     8414       1      2   \n",
       "1105  1106          14         3         98.0    12256       1      2   \n",
       "413    414           0         1         56.0     8960       1      0   \n",
       "\n",
       "      lotshape  landcontour  utilities  ...  poolarea  poolqc  fence  \\\n",
       "892          0            1          1  ...         0       0      2   \n",
       "1105         1            1          1  ...         0       0      3   \n",
       "413          0            1          1  ...         0       0      3   \n",
       "\n",
       "      miscfeature  miscval  mosold  yrsold  saletype  salecondition      price  \n",
       "892             2        0       2    2006         5              4  11.947949  \n",
       "1105            2        0       4    2010         5              4  12.691580  \n",
       "413             2        0       3    2010         5              4  11.652687  \n",
       "\n",
       "[3 rows x 81 columns]"
      ]
     },
     "execution_count": 23,
     "metadata": {},
     "output_type": "execute_result"
    }
   ],
   "source": [
    "test_s1.head(3)"
   ]
  },
  {
   "cell_type": "markdown",
   "id": "159a92ac-b64a-4161-8e96-856986adac16",
   "metadata": {},
   "source": [
    "### Dataset after Cleaning with Original Features (Section II)"
   ]
  },
  {
   "cell_type": "markdown",
   "id": "a3070649-326a-4c06-889e-01e0395bc27a",
   "metadata": {},
   "source": [
    "#### Transformation Pipeline"
   ]
  },
  {
   "cell_type": "code",
   "execution_count": 24,
   "id": "14544b89-ce8a-4455-be52-daf3a117baa2",
   "metadata": {},
   "outputs": [],
   "source": [
    "pipeline_s2 = Pipeline(steps=[\n",
    "    ('transformer_imputer_num', transformer_imputer_median),\n",
    "    ('transformer_imputer_cat', transformer_imputer_frequent),\n",
    "    ('transformer_label', transformer_label),\n",
    "    ('encoder', encoder)\n",
    "])"
   ]
  },
  {
   "cell_type": "markdown",
   "id": "de75ede2-8df5-4fc2-a408-aa6cce5a0069",
   "metadata": {},
   "source": [
    "#### Transform Test Dataset"
   ]
  },
  {
   "cell_type": "code",
   "execution_count": 25,
   "id": "2f9b9907-7d1b-4fa2-9db7-2decf0c6a2ad",
   "metadata": {},
   "outputs": [],
   "source": [
    "test_s2 = pipeline_s2.transform(test)"
   ]
  },
  {
   "cell_type": "code",
   "execution_count": 26,
   "id": "3e1c9e5d-7aa0-451a-b792-98f230b55cb6",
   "metadata": {},
   "outputs": [
    {
     "data": {
      "text/html": [
       "<div>\n",
       "<style scoped>\n",
       "    .dataframe tbody tr th:only-of-type {\n",
       "        vertical-align: middle;\n",
       "    }\n",
       "\n",
       "    .dataframe tbody tr th {\n",
       "        vertical-align: top;\n",
       "    }\n",
       "\n",
       "    .dataframe thead th {\n",
       "        text-align: right;\n",
       "    }\n",
       "</style>\n",
       "<table border=\"1\" class=\"dataframe\">\n",
       "  <thead>\n",
       "    <tr style=\"text-align: right;\">\n",
       "      <th></th>\n",
       "      <th>id</th>\n",
       "      <th>mssubclass</th>\n",
       "      <th>mszoning</th>\n",
       "      <th>lotfrontage</th>\n",
       "      <th>lotarea</th>\n",
       "      <th>street</th>\n",
       "      <th>alley</th>\n",
       "      <th>lotshape</th>\n",
       "      <th>landcontour</th>\n",
       "      <th>utilities</th>\n",
       "      <th>...</th>\n",
       "      <th>poolarea</th>\n",
       "      <th>poolqc</th>\n",
       "      <th>fence</th>\n",
       "      <th>miscfeature</th>\n",
       "      <th>miscval</th>\n",
       "      <th>mosold</th>\n",
       "      <th>yrsold</th>\n",
       "      <th>saletype</th>\n",
       "      <th>salecondition</th>\n",
       "      <th>price</th>\n",
       "    </tr>\n",
       "  </thead>\n",
       "  <tbody>\n",
       "    <tr>\n",
       "      <th>892</th>\n",
       "      <td>893</td>\n",
       "      <td>10</td>\n",
       "      <td>3</td>\n",
       "      <td>70.0</td>\n",
       "      <td>8414</td>\n",
       "      <td>1</td>\n",
       "      <td>2</td>\n",
       "      <td>0</td>\n",
       "      <td>1</td>\n",
       "      <td>1</td>\n",
       "      <td>...</td>\n",
       "      <td>0</td>\n",
       "      <td>0</td>\n",
       "      <td>2</td>\n",
       "      <td>2</td>\n",
       "      <td>0</td>\n",
       "      <td>2</td>\n",
       "      <td>2006</td>\n",
       "      <td>5</td>\n",
       "      <td>4</td>\n",
       "      <td>11.947949</td>\n",
       "    </tr>\n",
       "    <tr>\n",
       "      <th>1105</th>\n",
       "      <td>1106</td>\n",
       "      <td>14</td>\n",
       "      <td>3</td>\n",
       "      <td>98.0</td>\n",
       "      <td>12256</td>\n",
       "      <td>1</td>\n",
       "      <td>2</td>\n",
       "      <td>1</td>\n",
       "      <td>1</td>\n",
       "      <td>1</td>\n",
       "      <td>...</td>\n",
       "      <td>0</td>\n",
       "      <td>0</td>\n",
       "      <td>3</td>\n",
       "      <td>2</td>\n",
       "      <td>0</td>\n",
       "      <td>4</td>\n",
       "      <td>2010</td>\n",
       "      <td>5</td>\n",
       "      <td>4</td>\n",
       "      <td>12.691580</td>\n",
       "    </tr>\n",
       "    <tr>\n",
       "      <th>413</th>\n",
       "      <td>414</td>\n",
       "      <td>0</td>\n",
       "      <td>1</td>\n",
       "      <td>56.0</td>\n",
       "      <td>8960</td>\n",
       "      <td>1</td>\n",
       "      <td>0</td>\n",
       "      <td>0</td>\n",
       "      <td>1</td>\n",
       "      <td>1</td>\n",
       "      <td>...</td>\n",
       "      <td>0</td>\n",
       "      <td>0</td>\n",
       "      <td>3</td>\n",
       "      <td>2</td>\n",
       "      <td>0</td>\n",
       "      <td>3</td>\n",
       "      <td>2010</td>\n",
       "      <td>5</td>\n",
       "      <td>4</td>\n",
       "      <td>11.652687</td>\n",
       "    </tr>\n",
       "  </tbody>\n",
       "</table>\n",
       "<p>3 rows × 81 columns</p>\n",
       "</div>"
      ],
      "text/plain": [
       "        id  mssubclass  mszoning  lotfrontage  lotarea  street  alley  \\\n",
       "892    893          10         3         70.0     8414       1      2   \n",
       "1105  1106          14         3         98.0    12256       1      2   \n",
       "413    414           0         1         56.0     8960       1      0   \n",
       "\n",
       "      lotshape  landcontour  utilities  ...  poolarea  poolqc  fence  \\\n",
       "892          0            1          1  ...         0       0      2   \n",
       "1105         1            1          1  ...         0       0      3   \n",
       "413          0            1          1  ...         0       0      3   \n",
       "\n",
       "      miscfeature  miscval  mosold  yrsold  saletype  salecondition      price  \n",
       "892             2        0       2    2006         5              4  11.947949  \n",
       "1105            2        0       4    2010         5              4  12.691580  \n",
       "413             2        0       3    2010         5              4  11.652687  \n",
       "\n",
       "[3 rows x 81 columns]"
      ]
     },
     "execution_count": 26,
     "metadata": {},
     "output_type": "execute_result"
    }
   ],
   "source": [
    "test_s2.head(3)"
   ]
  },
  {
   "cell_type": "markdown",
   "id": "3a7d4984-9f00-494e-80ba-f7c6b9023627",
   "metadata": {},
   "source": [
    "### Dataset with added New Features and no log-transform (Section III)"
   ]
  },
  {
   "cell_type": "markdown",
   "id": "6dd01fe5-b31e-479d-a0bd-f549c74ba28c",
   "metadata": {},
   "source": [
    "#### Transformation Pipeline"
   ]
  },
  {
   "cell_type": "code",
   "execution_count": 27,
   "id": "ccbed752-266e-47b5-9b69-4a52da898a77",
   "metadata": {},
   "outputs": [],
   "source": [
    "pipeline_s3 = Pipeline(steps=[\n",
    "    ('transformer_numeric', transformer_imputer_median),\n",
    "    ('transformer_categorical', transformer_imputer_frequent),\n",
    "    ('transformer_label', transformer_label),\n",
    "    ('transformer_create', transformer_features_creator),\n",
    "    ('transformer_logarithm', transformer_features_logger),\n",
    "    ('encoder', encoder)\n",
    "])"
   ]
  },
  {
   "cell_type": "markdown",
   "id": "70b0ff3c-ba38-49b3-b6af-4e7724b2bf36",
   "metadata": {},
   "source": [
    "#### Transform Test Dataset"
   ]
  },
  {
   "cell_type": "code",
   "execution_count": 28,
   "id": "b51b14a2-61f3-4a96-934e-09eda7509050",
   "metadata": {},
   "outputs": [],
   "source": [
    "test_s3 = pipeline_s3.transform(test)"
   ]
  },
  {
   "cell_type": "code",
   "execution_count": 29,
   "id": "2dbbdf26-78a2-4db6-8d49-4e976ff04281",
   "metadata": {},
   "outputs": [],
   "source": [
    "test_s3 = order_X_y(test_s3, 'price')"
   ]
  },
  {
   "cell_type": "code",
   "execution_count": 30,
   "id": "a2344a68-a9ee-479c-943c-caabe9289ed7",
   "metadata": {},
   "outputs": [
    {
     "data": {
      "text/html": [
       "<div>\n",
       "<style scoped>\n",
       "    .dataframe tbody tr th:only-of-type {\n",
       "        vertical-align: middle;\n",
       "    }\n",
       "\n",
       "    .dataframe tbody tr th {\n",
       "        vertical-align: top;\n",
       "    }\n",
       "\n",
       "    .dataframe thead th {\n",
       "        text-align: right;\n",
       "    }\n",
       "</style>\n",
       "<table border=\"1\" class=\"dataframe\">\n",
       "  <thead>\n",
       "    <tr style=\"text-align: right;\">\n",
       "      <th></th>\n",
       "      <th>id</th>\n",
       "      <th>mssubclass</th>\n",
       "      <th>mszoning</th>\n",
       "      <th>lg_lotfrontage</th>\n",
       "      <th>lg_lotarea</th>\n",
       "      <th>street</th>\n",
       "      <th>alley</th>\n",
       "      <th>lotshape</th>\n",
       "      <th>landcontour</th>\n",
       "      <th>utilities</th>\n",
       "      <th>...</th>\n",
       "      <th>openporchsf_exst</th>\n",
       "      <th>enclosedporch_exst</th>\n",
       "      <th>three_ssnporch_exst</th>\n",
       "      <th>screenporch_exst</th>\n",
       "      <th>poolarea_exst</th>\n",
       "      <th>miscval_exst</th>\n",
       "      <th>modage</th>\n",
       "      <th>houseage</th>\n",
       "      <th>garageage</th>\n",
       "      <th>price</th>\n",
       "    </tr>\n",
       "  </thead>\n",
       "  <tbody>\n",
       "    <tr>\n",
       "      <th>892</th>\n",
       "      <td>893</td>\n",
       "      <td>10</td>\n",
       "      <td>3</td>\n",
       "      <td>4.262680</td>\n",
       "      <td>9.037771</td>\n",
       "      <td>1</td>\n",
       "      <td>2</td>\n",
       "      <td>0</td>\n",
       "      <td>1</td>\n",
       "      <td>1</td>\n",
       "      <td>...</td>\n",
       "      <td>0</td>\n",
       "      <td>0</td>\n",
       "      <td>0</td>\n",
       "      <td>0</td>\n",
       "      <td>0</td>\n",
       "      <td>0</td>\n",
       "      <td>3</td>\n",
       "      <td>43</td>\n",
       "      <td>43.0</td>\n",
       "      <td>11.947949</td>\n",
       "    </tr>\n",
       "    <tr>\n",
       "      <th>1105</th>\n",
       "      <td>1106</td>\n",
       "      <td>14</td>\n",
       "      <td>3</td>\n",
       "      <td>4.595120</td>\n",
       "      <td>9.413852</td>\n",
       "      <td>1</td>\n",
       "      <td>2</td>\n",
       "      <td>1</td>\n",
       "      <td>1</td>\n",
       "      <td>1</td>\n",
       "      <td>...</td>\n",
       "      <td>1</td>\n",
       "      <td>0</td>\n",
       "      <td>0</td>\n",
       "      <td>0</td>\n",
       "      <td>0</td>\n",
       "      <td>0</td>\n",
       "      <td>15</td>\n",
       "      <td>16</td>\n",
       "      <td>16.0</td>\n",
       "      <td>12.691580</td>\n",
       "    </tr>\n",
       "    <tr>\n",
       "      <th>413</th>\n",
       "      <td>414</td>\n",
       "      <td>0</td>\n",
       "      <td>1</td>\n",
       "      <td>4.043051</td>\n",
       "      <td>9.100637</td>\n",
       "      <td>1</td>\n",
       "      <td>0</td>\n",
       "      <td>0</td>\n",
       "      <td>1</td>\n",
       "      <td>1</td>\n",
       "      <td>...</td>\n",
       "      <td>0</td>\n",
       "      <td>1</td>\n",
       "      <td>0</td>\n",
       "      <td>0</td>\n",
       "      <td>0</td>\n",
       "      <td>0</td>\n",
       "      <td>60</td>\n",
       "      <td>83</td>\n",
       "      <td>83.0</td>\n",
       "      <td>11.652687</td>\n",
       "    </tr>\n",
       "  </tbody>\n",
       "</table>\n",
       "<p>3 rows × 106 columns</p>\n",
       "</div>"
      ],
      "text/plain": [
       "        id  mssubclass  mszoning  lg_lotfrontage  lg_lotarea  street  alley  \\\n",
       "892    893          10         3        4.262680    9.037771       1      2   \n",
       "1105  1106          14         3        4.595120    9.413852       1      2   \n",
       "413    414           0         1        4.043051    9.100637       1      0   \n",
       "\n",
       "      lotshape  landcontour  utilities  ...  openporchsf_exst  \\\n",
       "892          0            1          1  ...                 0   \n",
       "1105         1            1          1  ...                 1   \n",
       "413          0            1          1  ...                 0   \n",
       "\n",
       "      enclosedporch_exst  three_ssnporch_exst  screenporch_exst  \\\n",
       "892                    0                    0                 0   \n",
       "1105                   0                    0                 0   \n",
       "413                    1                    0                 0   \n",
       "\n",
       "      poolarea_exst  miscval_exst  modage  houseage  garageage      price  \n",
       "892               0             0       3        43       43.0  11.947949  \n",
       "1105              0             0      15        16       16.0  12.691580  \n",
       "413               0             0      60        83       83.0  11.652687  \n",
       "\n",
       "[3 rows x 106 columns]"
      ]
     },
     "execution_count": 30,
     "metadata": {},
     "output_type": "execute_result"
    }
   ],
   "source": [
    "test_s3.head(3)"
   ]
  },
  {
   "cell_type": "markdown",
   "id": "1a42b04c-e514-4158-9e4f-007ccd4e1590",
   "metadata": {},
   "source": [
    "### Dataset with added New Features and no log-transform (Section IV, VI, VII)"
   ]
  },
  {
   "cell_type": "markdown",
   "id": "9487403e-35fa-4e5f-acdb-f4cd9d595ee9",
   "metadata": {},
   "source": [
    "#### Transformation Pipeline"
   ]
  },
  {
   "cell_type": "code",
   "execution_count": 31,
   "id": "8dce6f90-9344-488f-96f9-130aa46d5674",
   "metadata": {},
   "outputs": [],
   "source": [
    "pipeline_s467 = Pipeline(steps=[\n",
    "    ('transformer_overview', transformer_overview),\n",
    "    ('transformer_numeric', transformer_imputer_median),\n",
    "    ('transformer_categorical', transformer_imputer_frequent),\n",
    "    ('transformer_label', transformer_label),\n",
    "    ('transformer_create', transformer_features_creator),\n",
    "    ('transformer_logarithm', transformer_features_logger),\n",
    "    ('encoder', encoder),\n",
    "    ('scaler', scaler)\n",
    "   \n",
    "])"
   ]
  },
  {
   "cell_type": "markdown",
   "id": "2d854de0-9faf-46f7-836c-d1a84b0c79e1",
   "metadata": {},
   "source": [
    "#### Transform Test Dataset"
   ]
  },
  {
   "cell_type": "code",
   "execution_count": 32,
   "id": "092be418-6974-4472-8a48-c0a1b3df7746",
   "metadata": {},
   "outputs": [],
   "source": [
    "test_s467 = pipeline_s467.transform(test)"
   ]
  },
  {
   "cell_type": "code",
   "execution_count": 33,
   "id": "45c7aa1a-04a1-4ade-a93e-1a884e39a1ff",
   "metadata": {},
   "outputs": [],
   "source": [
    "test_s467 = order_X_y(test_s467, 'price')"
   ]
  },
  {
   "cell_type": "code",
   "execution_count": 34,
   "id": "16d769cb-9a85-422a-b8a5-40a2c1c259ce",
   "metadata": {},
   "outputs": [
    {
     "data": {
      "text/html": [
       "<div>\n",
       "<style scoped>\n",
       "    .dataframe tbody tr th:only-of-type {\n",
       "        vertical-align: middle;\n",
       "    }\n",
       "\n",
       "    .dataframe tbody tr th {\n",
       "        vertical-align: top;\n",
       "    }\n",
       "\n",
       "    .dataframe thead th {\n",
       "        text-align: right;\n",
       "    }\n",
       "</style>\n",
       "<table border=\"1\" class=\"dataframe\">\n",
       "  <thead>\n",
       "    <tr style=\"text-align: right;\">\n",
       "      <th></th>\n",
       "      <th>id</th>\n",
       "      <th>mssubclass</th>\n",
       "      <th>mszoning</th>\n",
       "      <th>lg_lotfrontage</th>\n",
       "      <th>lg_lotarea</th>\n",
       "      <th>street</th>\n",
       "      <th>alley</th>\n",
       "      <th>lotshape</th>\n",
       "      <th>landcontour</th>\n",
       "      <th>utilities</th>\n",
       "      <th>...</th>\n",
       "      <th>openporchsf_exst</th>\n",
       "      <th>enclosedporch_exst</th>\n",
       "      <th>three_ssnporch_exst</th>\n",
       "      <th>screenporch_exst</th>\n",
       "      <th>poolarea_exst</th>\n",
       "      <th>miscval_exst</th>\n",
       "      <th>modage</th>\n",
       "      <th>houseage</th>\n",
       "      <th>garageage</th>\n",
       "      <th>price</th>\n",
       "    </tr>\n",
       "  </thead>\n",
       "  <tbody>\n",
       "    <tr>\n",
       "      <th>892</th>\n",
       "      <td>893</td>\n",
       "      <td>0.207206</td>\n",
       "      <td>0.351287</td>\n",
       "      <td>0.175836</td>\n",
       "      <td>-0.142503</td>\n",
       "      <td>0.061875</td>\n",
       "      <td>0.251891</td>\n",
       "      <td>-0.657047</td>\n",
       "      <td>-0.109613</td>\n",
       "      <td>0.027629</td>\n",
       "      <td>...</td>\n",
       "      <td>-1.117459</td>\n",
       "      <td>-0.406612</td>\n",
       "      <td>-0.133631</td>\n",
       "      <td>-0.296592</td>\n",
       "      <td>-0.067806</td>\n",
       "      <td>-0.194948</td>\n",
       "      <td>-0.969513</td>\n",
       "      <td>0.201367</td>\n",
       "      <td>0.438312</td>\n",
       "      <td>11.947949</td>\n",
       "    </tr>\n",
       "    <tr>\n",
       "      <th>1105</th>\n",
       "      <td>1106</td>\n",
       "      <td>1.249997</td>\n",
       "      <td>0.351287</td>\n",
       "      <td>1.253072</td>\n",
       "      <td>0.583542</td>\n",
       "      <td>0.061875</td>\n",
       "      <td>0.251891</td>\n",
       "      <td>0.856818</td>\n",
       "      <td>-0.109613</td>\n",
       "      <td>0.027629</td>\n",
       "      <td>...</td>\n",
       "      <td>0.894888</td>\n",
       "      <td>-0.406612</td>\n",
       "      <td>-0.133631</td>\n",
       "      <td>-0.296592</td>\n",
       "      <td>-0.067806</td>\n",
       "      <td>-0.194948</td>\n",
       "      <td>-0.389332</td>\n",
       "      <td>-0.683962</td>\n",
       "      <td>-0.580865</td>\n",
       "      <td>12.691580</td>\n",
       "    </tr>\n",
       "    <tr>\n",
       "      <th>413</th>\n",
       "      <td>414</td>\n",
       "      <td>-2.399772</td>\n",
       "      <td>-2.186110</td>\n",
       "      <td>-0.535848</td>\n",
       "      <td>-0.021137</td>\n",
       "      <td>0.061875</td>\n",
       "      <td>-4.640394</td>\n",
       "      <td>-0.657047</td>\n",
       "      <td>-0.109613</td>\n",
       "      <td>0.027629</td>\n",
       "      <td>...</td>\n",
       "      <td>-1.117459</td>\n",
       "      <td>2.459347</td>\n",
       "      <td>-0.133631</td>\n",
       "      <td>-0.296592</td>\n",
       "      <td>-0.067806</td>\n",
       "      <td>-0.194948</td>\n",
       "      <td>1.786346</td>\n",
       "      <td>1.512964</td>\n",
       "      <td>1.948204</td>\n",
       "      <td>11.652687</td>\n",
       "    </tr>\n",
       "  </tbody>\n",
       "</table>\n",
       "<p>3 rows × 106 columns</p>\n",
       "</div>"
      ],
      "text/plain": [
       "        id  mssubclass  mszoning  lg_lotfrontage  lg_lotarea    street  \\\n",
       "892    893    0.207206  0.351287        0.175836   -0.142503  0.061875   \n",
       "1105  1106    1.249997  0.351287        1.253072    0.583542  0.061875   \n",
       "413    414   -2.399772 -2.186110       -0.535848   -0.021137  0.061875   \n",
       "\n",
       "         alley  lotshape  landcontour  utilities  ...  openporchsf_exst  \\\n",
       "892   0.251891 -0.657047    -0.109613   0.027629  ...         -1.117459   \n",
       "1105  0.251891  0.856818    -0.109613   0.027629  ...          0.894888   \n",
       "413  -4.640394 -0.657047    -0.109613   0.027629  ...         -1.117459   \n",
       "\n",
       "      enclosedporch_exst  three_ssnporch_exst  screenporch_exst  \\\n",
       "892            -0.406612            -0.133631         -0.296592   \n",
       "1105           -0.406612            -0.133631         -0.296592   \n",
       "413             2.459347            -0.133631         -0.296592   \n",
       "\n",
       "      poolarea_exst  miscval_exst    modage  houseage  garageage      price  \n",
       "892       -0.067806     -0.194948 -0.969513  0.201367   0.438312  11.947949  \n",
       "1105      -0.067806     -0.194948 -0.389332 -0.683962  -0.580865  12.691580  \n",
       "413       -0.067806     -0.194948  1.786346  1.512964   1.948204  11.652687  \n",
       "\n",
       "[3 rows x 106 columns]"
      ]
     },
     "execution_count": 34,
     "metadata": {},
     "output_type": "execute_result"
    }
   ],
   "source": [
    "test_s467.head(3)"
   ]
  },
  {
   "cell_type": "markdown",
   "id": "01dab14e-ac02-4be0-97da-255c1c0ecfbc",
   "metadata": {},
   "source": [
    "## Features for Sections"
   ]
  },
  {
   "cell_type": "code",
   "execution_count": 35,
   "id": "7580638f-3122-4cdd-be69-8bcfff860987",
   "metadata": {},
   "outputs": [],
   "source": [
    "features_base = simulation_datasets_dict['features_base']\n",
    "features_orig = simulation_datasets_dict['features_iter1']\n",
    "features_new = simulation_datasets_dict['features_iter2']\n",
    "features_enet = simulation_datasets_dict['features_enet']\n",
    "features_svr = simulation_datasets_dict['features_ml_svr']\n",
    "features_stack = simulation_datasets_dict['features_ml_stack']\n",
    "features_hpp = simulation_datasets_dict['features_hpp']"
   ]
  },
  {
   "cell_type": "code",
   "execution_count": 36,
   "id": "1fa539d9-6fc9-4037-88b8-7c50b4fac3a5",
   "metadata": {},
   "outputs": [
    {
     "data": {
      "text/plain": [
       "True"
      ]
     },
     "execution_count": 36,
     "metadata": {},
     "output_type": "execute_result"
    }
   ],
   "source": [
    "# for base and orig estimator will use features orig as it equals\n",
    "set(features_base) == set(features_orig)"
   ]
  },
  {
   "cell_type": "code",
   "execution_count": 37,
   "id": "5e8f1c66-e22f-44f8-b849-9988edab9b4f",
   "metadata": {},
   "outputs": [
    {
     "data": {
      "text/plain": [
       "True"
      ]
     },
     "execution_count": 37,
     "metadata": {},
     "output_type": "execute_result"
    }
   ],
   "source": [
    "# for hhp wil use featurs new\n",
    "set(features_new) == set(features_hpp)"
   ]
  },
  {
   "cell_type": "code",
   "execution_count": 38,
   "id": "2742ca55-167b-48f1-a798-9952c2b2d6ff",
   "metadata": {},
   "outputs": [
    {
     "name": "stdout",
     "output_type": "stream",
     "text": [
      "['lg_flrsfmean', 'overallqual', 'houseage', 'lg_lotarea', 'overallcond', 'bsmtqual', 'garagecars', 'kitchenqual', 'exterqual']\n"
     ]
    }
   ],
   "source": [
    "# features for LR estimator\n",
    "print(features_enet)"
   ]
  },
  {
   "cell_type": "code",
   "execution_count": 39,
   "id": "c9a834ad-5bdf-4fde-a70c-3a3dcc170bef",
   "metadata": {},
   "outputs": [],
   "source": [
    "features_s1 = features_base.copy()"
   ]
  },
  {
   "cell_type": "code",
   "execution_count": 40,
   "id": "d303d462-de51-489a-a883-27a71325e36e",
   "metadata": {},
   "outputs": [],
   "source": [
    "features_s2 = features_base.copy()"
   ]
  },
  {
   "cell_type": "code",
   "execution_count": 41,
   "id": "94e5d651-a953-4994-b686-96e276e0d622",
   "metadata": {},
   "outputs": [],
   "source": [
    "features_s3 = features_new.copy()"
   ]
  },
  {
   "cell_type": "code",
   "execution_count": 42,
   "id": "b2e7d6c8-7546-4930-a79d-b48ef8ed9db4",
   "metadata": {},
   "outputs": [],
   "source": [
    "features_s4 = features_enet.copy()"
   ]
  },
  {
   "cell_type": "code",
   "execution_count": 43,
   "id": "a2fa24c2-afef-4fca-97a3-79aa840a7b15",
   "metadata": {},
   "outputs": [],
   "source": [
    "features_s67 = features_new.copy()"
   ]
  },
  {
   "cell_type": "markdown",
   "id": "65e40be7-1093-4d9f-affd-108d61f04986",
   "metadata": {},
   "source": [
    "## Check if Estimators are fitted"
   ]
  },
  {
   "cell_type": "code",
   "execution_count": 44,
   "id": "1c4a0a8c-0e7c-4fc5-b410-9c65f78bee80",
   "metadata": {},
   "outputs": [],
   "source": [
    "estimators_check_list = [\n",
    "    lgb_base, lgb_clean, lgb_nf, svr, stack, hpp\n",
    "]"
   ]
  },
  {
   "cell_type": "code",
   "execution_count": 45,
   "id": "59f8660b-1d6b-4708-8505-7835a9803eaa",
   "metadata": {},
   "outputs": [
    {
     "name": "stdout",
     "output_type": "stream",
     "text": [
      "All estimators fitted\n"
     ]
    }
   ],
   "source": [
    "check_fit(\n",
    "    names_list=['LGB Base', 'LGB Orig', 'LGB New', 'SVR', 'Stacking', 'HPP'],\n",
    "    estimators_list=estimators_check_list\n",
    ")"
   ]
  },
  {
   "cell_type": "markdown",
   "id": "73019999-e6ef-462f-a6d8-fba3b06e6776",
   "metadata": {},
   "source": [
    "## Predictions on Test Dataset"
   ]
  },
  {
   "cell_type": "code",
   "execution_count": 46,
   "id": "7bd95ce6-e6ce-4d30-a0b8-48e41e3be50a",
   "metadata": {},
   "outputs": [],
   "source": [
    "estimators_names = [\n",
    "    'Base', 'Base (Clean)', 'Base (FE)',\n",
    "    'Elastic Net', 'SVM', 'Stacking', 'HPP'\n",
    "]"
   ]
  },
  {
   "cell_type": "code",
   "execution_count": 47,
   "id": "cb4f4df4-7f09-45a7-b6a4-80c48bfc1d42",
   "metadata": {},
   "outputs": [],
   "source": [
    "estimators_list = [\n",
    "    lgb_base, lgb_clean, lgb_nf,\n",
    "    enet, svr, stack, hpp\n",
    "]"
   ]
  },
  {
   "cell_type": "code",
   "execution_count": 48,
   "id": "9dd2fdf1-24b7-4f7a-8b10-cb95fa64f45b",
   "metadata": {},
   "outputs": [],
   "source": [
    "datasets_list = [\n",
    "    test_s1, test_s2, test_s3,\n",
    "    test_s467, test_s467, test_s467, test_s467\n",
    "]"
   ]
  },
  {
   "cell_type": "code",
   "execution_count": 49,
   "id": "5190b35a-284e-46bf-95ef-5369098be233",
   "metadata": {},
   "outputs": [],
   "source": [
    "features_list = [\n",
    "    features_s1, features_s2, features_s3,\n",
    "    features_s4, features_svr, features_stack, features_s67\n",
    "]"
   ]
  },
  {
   "cell_type": "code",
   "execution_count": 50,
   "id": "4e92f9a3-a22b-4ffe-8700-1453a6a69a61",
   "metadata": {},
   "outputs": [],
   "source": [
    "zip_ = zip(\n",
    "    estimators_names, estimators_list, datasets_list, features_list)"
   ]
  },
  {
   "cell_type": "code",
   "execution_count": 51,
   "id": "fee3b73b-6bb2-496e-9140-03eb55d30d10",
   "metadata": {},
   "outputs": [],
   "source": [
    "scores_test_price_dict = {}\n",
    "scores_test_mean_dict = {}\n",
    "for name_, estimator_, data_, features_ in zip_:\n",
    "    y_pred_ = estimator_.predict(data_[features_])\n",
    "    scores_test_price_dict[name_] = y_pred_\n",
    "    rmse_ = mean_squared_error(y_test, y_pred_, squared=False)\n",
    "    scores_test_mean_dict[name_] = rmse_"
   ]
  },
  {
   "cell_type": "code",
   "execution_count": 52,
   "id": "fcec0319-537c-4092-84a6-a2b0d10b75ef",
   "metadata": {},
   "outputs": [],
   "source": [
    "scores_test_price = pd.DataFrame(scores_test_price_dict)"
   ]
  },
  {
   "cell_type": "code",
   "execution_count": 53,
   "id": "79bcc92e-207b-465b-887b-d8b58ade0db4",
   "metadata": {},
   "outputs": [],
   "source": [
    "scores_test_mean = pd.DataFrame(scores_test_mean_dict, index=[0])"
   ]
  },
  {
   "cell_type": "code",
   "execution_count": 54,
   "id": "1d4cc3d7-39b0-4d70-b203-96fb2956b92b",
   "metadata": {},
   "outputs": [],
   "source": [
    "scores_test_mean = scores_test_mean.T.rename(columns={0: 'rmse_mean_test'})"
   ]
  },
  {
   "cell_type": "markdown",
   "id": "3c7bbf73-510b-4450-aa09-b2a22f1c5957",
   "metadata": {},
   "source": [
    "## CV results from previous Sections"
   ]
  },
  {
   "cell_type": "code",
   "execution_count": 55,
   "id": "d72dfdcc-411c-4279-aaf9-e97f1cdfc915",
   "metadata": {},
   "outputs": [],
   "source": [
    "cv_base = evaluation_dict['cv_base']\n",
    "cv_clean = evaluation_dict['cv_iter1']\n",
    "cv_nf = evaluation_dict['cv_iter2']\n",
    "cv_enet = evaluation_dict['cv_enet']\n",
    "cv_svr = evaluation_dict['cv_svr_ml']\n",
    "cv_stack = evaluation_dict['cv_stack_ml']\n",
    "cv_hpp = evaluation_dict['cv_hpp']"
   ]
  },
  {
   "cell_type": "code",
   "execution_count": 56,
   "id": "c44f464a-9cc3-4176-b1fc-840899304a77",
   "metadata": {},
   "outputs": [],
   "source": [
    "cv_list = [\n",
    "    cv_base, cv_clean, cv_nf,\n",
    "    cv_enet, cv_svr\n",
    "]"
   ]
  },
  {
   "cell_type": "code",
   "execution_count": 57,
   "id": "33fd4a6a-3c58-44b6-9549-9bb03d345fed",
   "metadata": {},
   "outputs": [],
   "source": [
    "cv_list2 = [\n",
    "    cv_stack, cv_hpp\n",
    "]"
   ]
  },
  {
   "cell_type": "code",
   "execution_count": 58,
   "id": "385ab082-1df2-4b04-9ec5-e740ba9c638d",
   "metadata": {},
   "outputs": [
    {
     "data": {
      "text/plain": [
       "['Base', 'Base (Clean)', 'Base (FE)', 'Elastic Net', 'SVM', 'Stacking', 'HPP']"
      ]
     },
     "execution_count": 58,
     "metadata": {},
     "output_type": "execute_result"
    }
   ],
   "source": [
    "estimators_names"
   ]
  },
  {
   "cell_type": "code",
   "execution_count": 59,
   "id": "bcd6a793-c95a-4bbe-8b55-0513381a162d",
   "metadata": {},
   "outputs": [],
   "source": [
    "scores_cv_mean_dict = {}\n",
    "scores_cv_folds = pd.DataFrame(columns=estimators_names[:-2])\n",
    "for name_, cv_ in zip(estimators_names[:-2], cv_list):\n",
    "    cv_df_ = pd.DataFrame(cv_.cv_results_).sort_values('rank_test_score')\n",
    "    scores_df_ = cv_df_.filter(regex=r\"split\\d*_test_score\").iloc[0].T\n",
    "    scores_cv_folds[name_] = scores_df_\n",
    "    rmse_ = cv_df_['mean_test_score'].iloc[0]\n",
    "    rmse_std_ = cv_df_['std_test_score'].iloc[0]\n",
    "    fit_time_ = cv_df_['mean_fit_time'].iloc[0]\n",
    "    fit_time_std_ = cv_df_['std_fit_time'].iloc[0]\n",
    "    scores_cv_mean_dict[name_] = [\n",
    "        rmse_, rmse_std_, fit_time_, fit_time_std_\n",
    "    ]"
   ]
  },
  {
   "cell_type": "code",
   "execution_count": 60,
   "id": "30790330-407b-4609-bc06-bdec35185ec2",
   "metadata": {},
   "outputs": [],
   "source": [
    "scores_cv_mean = pd.DataFrame(\n",
    "    data=scores_cv_mean_dict,\n",
    "    index=[\n",
    "        'rmse_mean_cv', 'rmse_std',\n",
    "        'fit_time', 'fit_time_std'\n",
    "]).T"
   ]
  },
  {
   "cell_type": "code",
   "execution_count": 61,
   "id": "8ff677f7-0784-43b6-8524-8d547c810e82",
   "metadata": {},
   "outputs": [],
   "source": [
    "for name_, cv_ in zip(estimators_names[-2:], cv_list2):\n",
    "\n",
    "    scores_cv_folds[name_] = cv_['test_score']\n",
    "    \n",
    "    rmse_mean_ = cv_['test_score'].mean()\n",
    "    rmse_std_ = cv_['test_score'].std(ddof=1)\n",
    "    fit_time_ = cv_['fit_time'].mean()\n",
    "    fit_time_std_ = cv_['fit_time'].std(ddof=1)\n",
    "    row = [rmse_mean_, rmse_std_, fit_time_, fit_time_std_]\n",
    "    scores_cv_mean.loc[len(scores_cv_mean), scores_cv_mean.columns] = row"
   ]
  },
  {
   "cell_type": "code",
   "execution_count": 62,
   "id": "2dc38405-348b-43a0-acd2-4b65f7a73ed1",
   "metadata": {},
   "outputs": [],
   "source": [
    "scores_cv_mean.index = estimators_names\n",
    "# change minus in HPP results to plus\n",
    "scores_cv_mean.loc['HPP', 'rmse_mean_cv'] = \\\n",
    "    -scores_cv_mean.loc['HPP', 'rmse_mean_cv']\n",
    "\n",
    "scores_cv_mean = scores_cv_mean.sort_values('rmse_mean_cv', ascending=False)\n",
    "\n",
    "# change minus in HPP results to plus\n",
    "scores_cv_folds['HPP'] = -scores_cv_folds['HPP']\n",
    "scores_cv_folds.index = \\\n",
    "    [re.sub(r'([split, _test_score])', '', i) for i in scores_cv_folds.index]"
   ]
  },
  {
   "cell_type": "code",
   "execution_count": 63,
   "id": "eb8e69fb-a6ff-42c7-8d28-53756de5f265",
   "metadata": {},
   "outputs": [],
   "source": [
    "scores_mean = scores_test_mean.join(scores_cv_mean)\n",
    "scores_mean['rmse_mean_test'] = -scores_mean['rmse_mean_test']"
   ]
  },
  {
   "cell_type": "code",
   "execution_count": 64,
   "id": "2ca1a907-8806-4c5f-af30-5cc4bdc9b77a",
   "metadata": {},
   "outputs": [],
   "source": [
    "scores_cv_ci = pd.DataFrame(\n",
    "    data=ci_bootstrap(scores_cv_folds),\n",
    "    index=estimators_names\n",
    ")\n",
    "scores_mean['proxi_margin'] = scores_cv_ci['proxi_margin']"
   ]
  },
  {
   "cell_type": "markdown",
   "id": "84ebd1da-59e2-4604-b3b0-0e5441ce13d5",
   "metadata": {},
   "source": [
    "## Visualization"
   ]
  },
  {
   "cell_type": "code",
   "execution_count": 65,
   "id": "427fddf7-8c90-4ccf-b865-3a7015997484",
   "metadata": {},
   "outputs": [
    {
     "data": {
      "text/html": [
       "<div>\n",
       "<style scoped>\n",
       "    .dataframe tbody tr th:only-of-type {\n",
       "        vertical-align: middle;\n",
       "    }\n",
       "\n",
       "    .dataframe tbody tr th {\n",
       "        vertical-align: top;\n",
       "    }\n",
       "\n",
       "    .dataframe thead th {\n",
       "        text-align: right;\n",
       "    }\n",
       "</style>\n",
       "<table border=\"1\" class=\"dataframe\">\n",
       "  <thead>\n",
       "    <tr style=\"text-align: right;\">\n",
       "      <th></th>\n",
       "      <th>rmse_mean_test</th>\n",
       "      <th>rmse_mean_cv</th>\n",
       "      <th>rmse_std</th>\n",
       "      <th>fit_time</th>\n",
       "      <th>fit_time_std</th>\n",
       "      <th>proxi_margin</th>\n",
       "    </tr>\n",
       "  </thead>\n",
       "  <tbody>\n",
       "    <tr>\n",
       "      <th>Base</th>\n",
       "      <td>-0.121691</td>\n",
       "      <td>-0.127615</td>\n",
       "      <td>0.025785</td>\n",
       "      <td>0.180082</td>\n",
       "      <td>0.005066</td>\n",
       "      <td>0.011480</td>\n",
       "    </tr>\n",
       "    <tr>\n",
       "      <th>Base (Clean)</th>\n",
       "      <td>-0.111065</td>\n",
       "      <td>-0.123350</td>\n",
       "      <td>0.022412</td>\n",
       "      <td>0.141219</td>\n",
       "      <td>0.010036</td>\n",
       "      <td>0.009838</td>\n",
       "    </tr>\n",
       "    <tr>\n",
       "      <th>Base (FE)</th>\n",
       "      <td>-0.119309</td>\n",
       "      <td>-0.122990</td>\n",
       "      <td>0.025051</td>\n",
       "      <td>0.165539</td>\n",
       "      <td>0.009644</td>\n",
       "      <td>0.011204</td>\n",
       "    </tr>\n",
       "    <tr>\n",
       "      <th>Elastic Net</th>\n",
       "      <td>-0.122982</td>\n",
       "      <td>-0.133691</td>\n",
       "      <td>0.026082</td>\n",
       "      <td>0.011573</td>\n",
       "      <td>0.002021</td>\n",
       "      <td>0.011663</td>\n",
       "    </tr>\n",
       "    <tr>\n",
       "      <th>SVM</th>\n",
       "      <td>-0.105972</td>\n",
       "      <td>-0.114657</td>\n",
       "      <td>0.019492</td>\n",
       "      <td>0.607232</td>\n",
       "      <td>0.091940</td>\n",
       "      <td>0.008624</td>\n",
       "    </tr>\n",
       "    <tr>\n",
       "      <th>Stacking</th>\n",
       "      <td>-0.102685</td>\n",
       "      <td>-0.111476</td>\n",
       "      <td>0.021145</td>\n",
       "      <td>43.934728</td>\n",
       "      <td>2.529728</td>\n",
       "      <td>0.009084</td>\n",
       "    </tr>\n",
       "    <tr>\n",
       "      <th>HPP</th>\n",
       "      <td>-0.097006</td>\n",
       "      <td>-0.110070</td>\n",
       "      <td>0.022490</td>\n",
       "      <td>76.327743</td>\n",
       "      <td>3.864638</td>\n",
       "      <td>0.009762</td>\n",
       "    </tr>\n",
       "  </tbody>\n",
       "</table>\n",
       "</div>"
      ],
      "text/plain": [
       "              rmse_mean_test  rmse_mean_cv  rmse_std   fit_time  fit_time_std  \\\n",
       "Base               -0.121691     -0.127615  0.025785   0.180082      0.005066   \n",
       "Base (Clean)       -0.111065     -0.123350  0.022412   0.141219      0.010036   \n",
       "Base (FE)          -0.119309     -0.122990  0.025051   0.165539      0.009644   \n",
       "Elastic Net        -0.122982     -0.133691  0.026082   0.011573      0.002021   \n",
       "SVM                -0.105972     -0.114657  0.019492   0.607232      0.091940   \n",
       "Stacking           -0.102685     -0.111476  0.021145  43.934728      2.529728   \n",
       "HPP                -0.097006     -0.110070  0.022490  76.327743      3.864638   \n",
       "\n",
       "              proxi_margin  \n",
       "Base              0.011480  \n",
       "Base (Clean)      0.009838  \n",
       "Base (FE)         0.011204  \n",
       "Elastic Net       0.011663  \n",
       "SVM               0.008624  \n",
       "Stacking          0.009084  \n",
       "HPP               0.009762  "
      ]
     },
     "execution_count": 65,
     "metadata": {},
     "output_type": "execute_result"
    }
   ],
   "source": [
    "scores_mean"
   ]
  },
  {
   "cell_type": "code",
   "execution_count": 66,
   "id": "f25e4d1b-8a5c-47d1-ad45-03b7870cc7f9",
   "metadata": {},
   "outputs": [
    {
     "data": {
      "text/html": [
       "<div>\n",
       "<style scoped>\n",
       "    .dataframe tbody tr th:only-of-type {\n",
       "        vertical-align: middle;\n",
       "    }\n",
       "\n",
       "    .dataframe tbody tr th {\n",
       "        vertical-align: top;\n",
       "    }\n",
       "\n",
       "    .dataframe thead th {\n",
       "        text-align: right;\n",
       "    }\n",
       "</style>\n",
       "<table border=\"1\" class=\"dataframe\">\n",
       "  <thead>\n",
       "    <tr style=\"text-align: right;\">\n",
       "      <th></th>\n",
       "      <th>Base</th>\n",
       "      <th>Base (Clean)</th>\n",
       "      <th>Base (FE)</th>\n",
       "      <th>Elastic Net</th>\n",
       "      <th>SVM</th>\n",
       "      <th>Stacking</th>\n",
       "      <th>HPP</th>\n",
       "    </tr>\n",
       "  </thead>\n",
       "  <tbody>\n",
       "    <tr>\n",
       "      <th>0</th>\n",
       "      <td>-0.164297</td>\n",
       "      <td>-0.157211</td>\n",
       "      <td>-0.165730</td>\n",
       "      <td>-0.185009</td>\n",
       "      <td>-0.147900</td>\n",
       "      <td>-0.147111</td>\n",
       "      <td>-0.152636</td>\n",
       "    </tr>\n",
       "    <tr>\n",
       "      <th>1</th>\n",
       "      <td>-0.124559</td>\n",
       "      <td>-0.116307</td>\n",
       "      <td>-0.122431</td>\n",
       "      <td>-0.149690</td>\n",
       "      <td>-0.126961</td>\n",
       "      <td>-0.117125</td>\n",
       "      <td>-0.126294</td>\n",
       "    </tr>\n",
       "    <tr>\n",
       "      <th>2</th>\n",
       "      <td>-0.115516</td>\n",
       "      <td>-0.111120</td>\n",
       "      <td>-0.108931</td>\n",
       "      <td>-0.117060</td>\n",
       "      <td>-0.113427</td>\n",
       "      <td>-0.108163</td>\n",
       "      <td>-0.104814</td>\n",
       "    </tr>\n",
       "    <tr>\n",
       "      <th>3</th>\n",
       "      <td>-0.087887</td>\n",
       "      <td>-0.073590</td>\n",
       "      <td>-0.081623</td>\n",
       "      <td>-0.103142</td>\n",
       "      <td>-0.095110</td>\n",
       "      <td>-0.074047</td>\n",
       "      <td>-0.078293</td>\n",
       "    </tr>\n",
       "    <tr>\n",
       "      <th>4</th>\n",
       "      <td>-0.150361</td>\n",
       "      <td>-0.143345</td>\n",
       "      <td>-0.145733</td>\n",
       "      <td>-0.159411</td>\n",
       "      <td>-0.134562</td>\n",
       "      <td>-0.131761</td>\n",
       "      <td>-0.132686</td>\n",
       "    </tr>\n",
       "  </tbody>\n",
       "</table>\n",
       "</div>"
      ],
      "text/plain": [
       "       Base  Base (Clean)  Base (FE)  Elastic Net       SVM  Stacking  \\\n",
       "0 -0.164297     -0.157211  -0.165730    -0.185009 -0.147900 -0.147111   \n",
       "1 -0.124559     -0.116307  -0.122431    -0.149690 -0.126961 -0.117125   \n",
       "2 -0.115516     -0.111120  -0.108931    -0.117060 -0.113427 -0.108163   \n",
       "3 -0.087887     -0.073590  -0.081623    -0.103142 -0.095110 -0.074047   \n",
       "4 -0.150361     -0.143345  -0.145733    -0.159411 -0.134562 -0.131761   \n",
       "\n",
       "        HPP  \n",
       "0 -0.152636  \n",
       "1 -0.126294  \n",
       "2 -0.104814  \n",
       "3 -0.078293  \n",
       "4 -0.132686  "
      ]
     },
     "execution_count": 66,
     "metadata": {},
     "output_type": "execute_result"
    }
   ],
   "source": [
    "scores_cv_folds.head()"
   ]
  },
  {
   "cell_type": "code",
   "execution_count": 67,
   "id": "eb1c7a4c-b857-4646-93b0-db9c4580283c",
   "metadata": {},
   "outputs": [],
   "source": [
    "# xticks params\n",
    "xtickslabels = list(scores_mean.index)\n",
    "xticks = np.arange(0, len(xtickslabels))\n",
    "xticks_delta = 0.1\n",
    "xticks_cv = xticks\n",
    "xticks_test = xticks + xticks_delta\n",
    "# xaxis limits params\n",
    "xlim_delta = 0.35\n",
    "xlim_min = 0 - xlim_delta\n",
    "xlim_max = len(xtickslabels) - 1 + xlim_delta\n",
    "# erros for errorbars\n",
    "pi_error = 2*scores_mean['rmse_std']\n",
    "ci_error = scores_mean['proxi_margin']\n",
    "# color \n",
    "plot_palette = [palette[0]]*(len(scores_mean.index))\n",
    "lgd_alpha = 1 "
   ]
  },
  {
   "cell_type": "code",
   "execution_count": 68,
   "id": "b42f5117-f4bb-46a9-a3ad-233efb2cd3a2",
   "metadata": {},
   "outputs": [
    {
     "data": {
      "image/png": "[encoded data removed]",
      "text/plain": [
       "<Figure size 700x250 with 1 Axes>"
      ]
     },
     "metadata": {},
     "output_type": "display_data"
    },
    {
     "name": "stdout",
     "output_type": "stream",
     "text": [
      "Image 'final_bar.png' successfully saved into 'docs/img/Section8-Final-predictions' directory\n"
     ]
    }
   ],
   "source": [
    "fig = plt.figure(figsize=(7, 2.5))\n",
    "sns.barplot(\n",
    "    x=xticks,\n",
    "    y=-scores_mean['rmse_mean_test'],\n",
    "    width=0.4,\n",
    "    errorbar=('ci', 95),\n",
    "    err_kws={'color': palette[-1]},\n",
    "    color=palette[0],\n",
    "    zorder=10\n",
    ")\n",
    "plt.xlim(-0.5, 6.5)\n",
    "plt.ylim(0.089, 0.131)\n",
    "plt.yticks(np.arange(0.090, 0.1301, 0.01))\n",
    "plt.ylabel('RMSE')\n",
    "plt.title('RMSE on Test Dataset')\n",
    "plt.axhline(\n",
    "    y=0.100, xmin=0.02, xmax=0.98,\n",
    "    lw=0.75, linestyle=':', color=palette[-2], zorder=1)\n",
    "# plt.grid(False)\n",
    "\n",
    "# plt.tick_params(bottom=False, left=False)\n",
    "axis_rstyle(yticks=[0.08, 0.14, 0.02], grid=False)\n",
    "plt.gca().spines['bottom'].set_visible(False)\n",
    "plt.tick_params(axis='x', bottom=False, pad=5)\n",
    "plt.xticks(\n",
    "    ticks=xticks, labels=xtickslabels,\n",
    "    weight='bold', fontsize=9, color='0.3')\n",
    "\n",
    "plt.show()\n",
    "\n",
    "savefig('final_bar', save_img)"
   ]
  },
  {
   "cell_type": "code",
   "execution_count": 69,
   "id": "16d59f9e-227d-40cd-99b1-4f0d8f3a2c56",
   "metadata": {},
   "outputs": [
    {
     "data": {
      "image/png": "[encoded data removed]",
      "text/plain": [
       "<Figure size 900x400 with 2 Axes>"
      ]
     },
     "metadata": {},
     "output_type": "display_data"
    },
    {
     "name": "stdout",
     "output_type": "stream",
     "text": [
      "Image 'final_plot.png' successfully saved into 'docs/img/Section8-Final-predictions' directory\n"
     ]
    }
   ],
   "source": [
    "fig, ax = plt.subplots(2, 1, figsize=(9, 4), height_ratios=[1, 1])\n",
    "\n",
    "# ax 0\n",
    "# scatterplots\n",
    "ax[0].scatter(\n",
    "    x=xticks_cv, y=scores_mean['rmse_mean_cv'], s=5, ec='face', color=palette[0])\n",
    "ax[0].scatter(\n",
    "    x=xticks_test, y=scores_mean['rmse_mean_test'], s=14, ec='none', color=palette[1])\n",
    "# connection lines\n",
    "ax[0].plot(\n",
    "    xticks_cv, scores_mean['rmse_mean_cv'],\n",
    "    lw=0.5, ls=':', color=palette[0], alpha=0.75)\n",
    "ax[0].plot(\n",
    "    xticks_test, scores_mean['rmse_mean_test'],\n",
    "    lw=0.5, ls=':', color=palette[1], alpha=0.75)\n",
    "# pi intervals\n",
    "ax[0].errorbar(\n",
    "    x=xticks_cv, y=scores_mean['rmse_mean_cv'], yerr=pi_error,\n",
    "    linestyle='none', capsize=1.5, lw=0.5, color=palette[0], alpha=1)\n",
    "# ci intervals\n",
    "ax[0].errorbar(\n",
    "        x=xticks_cv, y=scores_mean['rmse_mean_cv'], yerr=ci_error,\n",
    "        linestyle='none', capsize=0, lw=2, color=palette[0])\n",
    "\n",
    "axis_rstyle(\n",
    "    yticks=[-0.200, -0.050, 0.05],\n",
    "    ylim=[-0.20, -0.05],\n",
    "    ax=ax[0])\n",
    "ax[0].spines['bottom'].set_visible(False)\n",
    "\n",
    "# labels and title\n",
    "ax[0].set_xlabel(None)\n",
    "# ax[0].set_title('Train and Test RMSE', pad=25)\n",
    "ax[0].set_ylabel('RMSE')\n",
    "# axes limits\n",
    "ax[0].set_xlim(xlim_min, xlim_max)\n",
    "\n",
    "# ticks (models names)\n",
    "ax[0].set_xticks(\n",
    "    ticks=xticks, labels=xtickslabels, weight='bold',\n",
    "    fontsize=9)\n",
    "# models names color\n",
    "ax[0].tick_params(axis='x', bottom=False, labelcolor=palette[0], pad=-3)\n",
    "# grid\n",
    "ax[0].grid(False)\n",
    "# baseline\n",
    "# ax[0].axhline(\n",
    "#     scores_cv_folds['Base'].mean(), 0.025, 0.975, lw=0.5, ls=':',\n",
    "#     color=palette[0])\n",
    "\n",
    "# legend handles\n",
    "handle_cv = Line2D(\n",
    "    [], [], label='Train RMSE (20-fold CV)', marker='o',\n",
    "    markersize=3, color=palette[0], linestyle='None', alpha=lgd_alpha)\n",
    "handle_test = Line2D(\n",
    "    [], [], label='Test RMSE', marker='o',\n",
    "    markersize=3, color=palette[1], linestyle='None', alpha=lgd_alpha)\n",
    "handle_pi = Line2D(\n",
    "    [], [], label='Prediction intervals (95%)', lw=1,\n",
    "    color=palette[0], alpha=0.75)\n",
    "handle_ci = Line2D(\n",
    "    [], [], label='Confidence intervals (95%)', lw=1.75,\n",
    "    color=palette[0], alpha=0.95)\n",
    "# legend\n",
    "ax[0].legend(\n",
    "    handles=[handle_cv, handle_test, handle_ci, handle_pi],\n",
    "    ncols=5, fontsize=8, alignment='left', markerscale=1,\n",
    "    handletextpad=0.75, handlelength=0.75,\n",
    "    bbox_to_anchor=(-0.025, 1.1), loc='lower left', frameon=False)\n",
    "\n",
    "# ax 1\n",
    "ax[1].scatter(\n",
    "    x=xticks_test, y=scores_mean['rmse_mean_test'], \n",
    "    s=14, ec='none', lw=0.5, color=palette[1], zorder=5)\n",
    "sns.swarmplot(\n",
    "    scores_cv_folds, size=3, palette=palette[:1]*7,\n",
    "    zorder=1, alpha=0.75, ax=ax[1])\n",
    "\n",
    "axis_rstyle(\n",
    "    yticks=[-0.200, -0.050, 0.050],\n",
    "    ylim=[-0.20, -0.05],\n",
    "    ax=ax[1])\n",
    "ax[1].spines['bottom'].set_visible(False)\n",
    "\n",
    "# move xticks to top\n",
    "ax[1].tick_params(\n",
    "    top=False, labeltop=False, bottom=False,\n",
    "    labelbottom=False, pad=5)\n",
    "# ylabel\n",
    "ax[1].set_ylabel('RMSE')\n",
    "# axes limits\n",
    "ax[1].set_xlim(xlim_min, xlim_max)\n",
    "# grid\n",
    "ax[1].grid(False)\n",
    "# baseline\n",
    "# ax[1].axhline(\n",
    "#     scores_cv_folds['Base'].mean(), 0.025, 0.975, lw=0.5, ls=':',\n",
    "#     color=palette[0])\n",
    "\n",
    "# subplots adjust\n",
    "plt.subplots_adjust(hspace=0.2)\n",
    "plt.show()\n",
    "\n",
    "savefig('final_plot', save_img, dpi=100, transparent=True)"
   ]
  },
  {
   "cell_type": "code",
   "execution_count": 70,
   "id": "cfce29b4-8375-423e-b379-be3d4adb0c18",
   "metadata": {},
   "outputs": [
    {
     "data": {
      "image/png": "[encoded data removed]",
      "text/plain": [
       "<Figure size 800x400 with 2 Axes>"
      ]
     },
     "metadata": {},
     "output_type": "display_data"
    },
    {
     "name": "stdout",
     "output_type": "stream",
     "text": [
      "Image 'stack_hpp_compare.png' successfully saved into 'docs/img/Section8-Final-predictions' directory\n"
     ]
    }
   ],
   "source": [
    "fig = plot_estimators_comparing(\n",
    "    data=scores_cv_folds[['Stacking', 'HPP']],\n",
    "    labels=['Stacking', 'HPP'],\n",
    "    ylabels=['RMSE', 'Delta'],\n",
    "    kind='bar',\n",
    "    figsize=(8, 4),\n",
    "    width=0.15,\n",
    "    palette=[alpha_color(palette[0], 0.85), palette[2]],\n",
    "    ax0_y_ticks=[-0.20, -0.05, 0.05],\n",
    "    ax1_y_ticks=[-0.010, 0.010, 0.005],\n",
    "    grid=True\n",
    ")\n",
    "savefig('stack_hpp_compare', save_img)"
   ]
  },
  {
   "cell_type": "markdown",
   "id": "4c388790-1bd7-4646-9f7b-b130ea389ef8",
   "metadata": {},
   "source": [
    "## Comparing Predicted and Actual values"
   ]
  },
  {
   "cell_type": "code",
   "execution_count": 71,
   "id": "609d61a8-1665-4f81-b650-337a1706283d",
   "metadata": {},
   "outputs": [],
   "source": [
    "data_pred_actual = \\\n",
    "    test_s1.join(scores_test_price_dict['HPP'].to_frame())"
   ]
  },
  {
   "cell_type": "code",
   "execution_count": 72,
   "id": "e90b27dc-0f61-4712-82af-aa97199bdd8b",
   "metadata": {},
   "outputs": [],
   "source": [
    "data_pred_actual = \\\n",
    "    data_pred_actual.rename(columns={'price': 'actual_log', 0: 'predicted_log'})"
   ]
  },
  {
   "cell_type": "code",
   "execution_count": 73,
   "id": "53b2b701-c71e-44a2-b2d8-c8952251b6d4",
   "metadata": {},
   "outputs": [],
   "source": [
    "data_pred_actual[['actual', 'predicted']] = \\\n",
    "    data_pred_actual[['actual_log', 'predicted_log']].apply(np.exp)"
   ]
  },
  {
   "cell_type": "code",
   "execution_count": 74,
   "id": "482ce36a-7177-4d0c-a1fb-a2d8b26bc561",
   "metadata": {},
   "outputs": [],
   "source": [
    "data_pred_actual['predicted'] = data_pred_actual['predicted'].round()"
   ]
  },
  {
   "cell_type": "code",
   "execution_count": 75,
   "id": "5daecee4-1644-4dfa-af7a-7e6e0b48bc3d",
   "metadata": {},
   "outputs": [],
   "source": [
    "data_pred_actual['residual'] = \\\n",
    "    data_pred_actual['actual'] - data_pred_actual['predicted']\n",
    "data_pred_actual['residual_log'] = \\\n",
    "    data_pred_actual['actual_log'] - data_pred_actual['predicted_log']"
   ]
  },
  {
   "cell_type": "code",
   "execution_count": 76,
   "id": "cb278b97-c1e0-4299-ab63-0eb5a7478ca4",
   "metadata": {},
   "outputs": [],
   "source": [
    "data_pred_actual['residual_frac'] = data_pred_actual['residual'] / data_pred_actual['actual']"
   ]
  },
  {
   "cell_type": "code",
   "execution_count": 77,
   "id": "802ae783-5db5-4a1c-829d-6b29f69cd646",
   "metadata": {},
   "outputs": [
    {
     "data": {
      "text/plain": [
       "(146, 87)"
      ]
     },
     "execution_count": 77,
     "metadata": {},
     "output_type": "execute_result"
    }
   ],
   "source": [
    "data_pred_actual.shape"
   ]
  },
  {
   "cell_type": "code",
   "execution_count": 78,
   "id": "44972e58-995a-41c8-bdc5-679a4ab2aaf2",
   "metadata": {},
   "outputs": [
    {
     "data": {
      "text/html": [
       "<div>\n",
       "<style scoped>\n",
       "    .dataframe tbody tr th:only-of-type {\n",
       "        vertical-align: middle;\n",
       "    }\n",
       "\n",
       "    .dataframe tbody tr th {\n",
       "        vertical-align: top;\n",
       "    }\n",
       "\n",
       "    .dataframe thead th {\n",
       "        text-align: right;\n",
       "    }\n",
       "</style>\n",
       "<table border=\"1\" class=\"dataframe\">\n",
       "  <thead>\n",
       "    <tr style=\"text-align: right;\">\n",
       "      <th></th>\n",
       "      <th>id</th>\n",
       "      <th>mssubclass</th>\n",
       "      <th>mszoning</th>\n",
       "      <th>lotfrontage</th>\n",
       "      <th>lotarea</th>\n",
       "      <th>street</th>\n",
       "      <th>alley</th>\n",
       "      <th>lotshape</th>\n",
       "      <th>landcontour</th>\n",
       "      <th>utilities</th>\n",
       "      <th>...</th>\n",
       "      <th>yrsold</th>\n",
       "      <th>saletype</th>\n",
       "      <th>salecondition</th>\n",
       "      <th>actual_log</th>\n",
       "      <th>predicted_log</th>\n",
       "      <th>actual</th>\n",
       "      <th>predicted</th>\n",
       "      <th>residual</th>\n",
       "      <th>residual_log</th>\n",
       "      <th>residual_frac</th>\n",
       "    </tr>\n",
       "  </thead>\n",
       "  <tbody>\n",
       "    <tr>\n",
       "      <th>892</th>\n",
       "      <td>893</td>\n",
       "      <td>10</td>\n",
       "      <td>3</td>\n",
       "      <td>70.0</td>\n",
       "      <td>8414</td>\n",
       "      <td>1</td>\n",
       "      <td>2</td>\n",
       "      <td>0</td>\n",
       "      <td>1</td>\n",
       "      <td>1</td>\n",
       "      <td>...</td>\n",
       "      <td>2006</td>\n",
       "      <td>5</td>\n",
       "      <td>4</td>\n",
       "      <td>11.947949</td>\n",
       "      <td>11.905037</td>\n",
       "      <td>154500.0</td>\n",
       "      <td>148010.0</td>\n",
       "      <td>6490.0</td>\n",
       "      <td>0.042913</td>\n",
       "      <td>0.042006</td>\n",
       "    </tr>\n",
       "    <tr>\n",
       "      <th>1105</th>\n",
       "      <td>1106</td>\n",
       "      <td>14</td>\n",
       "      <td>3</td>\n",
       "      <td>98.0</td>\n",
       "      <td>12256</td>\n",
       "      <td>1</td>\n",
       "      <td>2</td>\n",
       "      <td>1</td>\n",
       "      <td>1</td>\n",
       "      <td>1</td>\n",
       "      <td>...</td>\n",
       "      <td>2010</td>\n",
       "      <td>5</td>\n",
       "      <td>4</td>\n",
       "      <td>12.691580</td>\n",
       "      <td>12.702375</td>\n",
       "      <td>325000.0</td>\n",
       "      <td>328527.0</td>\n",
       "      <td>-3527.0</td>\n",
       "      <td>-0.010795</td>\n",
       "      <td>-0.010852</td>\n",
       "    </tr>\n",
       "    <tr>\n",
       "      <th>413</th>\n",
       "      <td>414</td>\n",
       "      <td>0</td>\n",
       "      <td>1</td>\n",
       "      <td>56.0</td>\n",
       "      <td>8960</td>\n",
       "      <td>1</td>\n",
       "      <td>0</td>\n",
       "      <td>0</td>\n",
       "      <td>1</td>\n",
       "      <td>1</td>\n",
       "      <td>...</td>\n",
       "      <td>2010</td>\n",
       "      <td>5</td>\n",
       "      <td>4</td>\n",
       "      <td>11.652687</td>\n",
       "      <td>11.590675</td>\n",
       "      <td>115000.0</td>\n",
       "      <td>108085.0</td>\n",
       "      <td>6915.0</td>\n",
       "      <td>0.062012</td>\n",
       "      <td>0.060130</td>\n",
       "    </tr>\n",
       "    <tr>\n",
       "      <th>522</th>\n",
       "      <td>523</td>\n",
       "      <td>5</td>\n",
       "      <td>1</td>\n",
       "      <td>50.0</td>\n",
       "      <td>5000</td>\n",
       "      <td>1</td>\n",
       "      <td>2</td>\n",
       "      <td>0</td>\n",
       "      <td>1</td>\n",
       "      <td>1</td>\n",
       "      <td>...</td>\n",
       "      <td>2006</td>\n",
       "      <td>5</td>\n",
       "      <td>4</td>\n",
       "      <td>11.976659</td>\n",
       "      <td>11.957282</td>\n",
       "      <td>159000.0</td>\n",
       "      <td>155949.0</td>\n",
       "      <td>3051.0</td>\n",
       "      <td>0.019377</td>\n",
       "      <td>0.019189</td>\n",
       "    </tr>\n",
       "    <tr>\n",
       "      <th>1036</th>\n",
       "      <td>1037</td>\n",
       "      <td>10</td>\n",
       "      <td>3</td>\n",
       "      <td>89.0</td>\n",
       "      <td>12898</td>\n",
       "      <td>1</td>\n",
       "      <td>2</td>\n",
       "      <td>1</td>\n",
       "      <td>3</td>\n",
       "      <td>1</td>\n",
       "      <td>...</td>\n",
       "      <td>2009</td>\n",
       "      <td>5</td>\n",
       "      <td>4</td>\n",
       "      <td>12.661914</td>\n",
       "      <td>12.744962</td>\n",
       "      <td>315500.0</td>\n",
       "      <td>342820.0</td>\n",
       "      <td>-27320.0</td>\n",
       "      <td>-0.083048</td>\n",
       "      <td>-0.086593</td>\n",
       "    </tr>\n",
       "  </tbody>\n",
       "</table>\n",
       "<p>5 rows × 87 columns</p>\n",
       "</div>"
      ],
      "text/plain": [
       "        id  mssubclass  mszoning  lotfrontage  lotarea  street  alley  \\\n",
       "892    893          10         3         70.0     8414       1      2   \n",
       "1105  1106          14         3         98.0    12256       1      2   \n",
       "413    414           0         1         56.0     8960       1      0   \n",
       "522    523           5         1         50.0     5000       1      2   \n",
       "1036  1037          10         3         89.0    12898       1      2   \n",
       "\n",
       "      lotshape  landcontour  utilities  ...  yrsold  saletype  salecondition  \\\n",
       "892          0            1          1  ...    2006         5              4   \n",
       "1105         1            1          1  ...    2010         5              4   \n",
       "413          0            1          1  ...    2010         5              4   \n",
       "522          0            1          1  ...    2006         5              4   \n",
       "1036         1            3          1  ...    2009         5              4   \n",
       "\n",
       "      actual_log  predicted_log    actual  predicted  residual  residual_log  \\\n",
       "892    11.947949      11.905037  154500.0   148010.0    6490.0      0.042913   \n",
       "1105   12.691580      12.702375  325000.0   328527.0   -3527.0     -0.010795   \n",
       "413    11.652687      11.590675  115000.0   108085.0    6915.0      0.062012   \n",
       "522    11.976659      11.957282  159000.0   155949.0    3051.0      0.019377   \n",
       "1036   12.661914      12.744962  315500.0   342820.0  -27320.0     -0.083048   \n",
       "\n",
       "      residual_frac  \n",
       "892        0.042006  \n",
       "1105      -0.010852  \n",
       "413        0.060130  \n",
       "522        0.019189  \n",
       "1036      -0.086593  \n",
       "\n",
       "[5 rows x 87 columns]"
      ]
     },
     "execution_count": 78,
     "metadata": {},
     "output_type": "execute_result"
    }
   ],
   "source": [
    "data_pred_actual.head()"
   ]
  },
  {
   "cell_type": "code",
   "execution_count": 79,
   "id": "5667574c-c808-4dc1-9ec3-564f1ac68d62",
   "metadata": {},
   "outputs": [
    {
     "data": {
      "image/png": "[encoded data removed]",
      "text/plain": [
       "<Figure size 875x400 with 2 Axes>"
      ]
     },
     "metadata": {},
     "output_type": "display_data"
    },
    {
     "name": "stdout",
     "output_type": "stream",
     "text": [
      "Image 'predicted_actual_residuals.png' successfully saved into 'docs/img/Section8-Final-predictions' directory\n"
     ]
    }
   ],
   "source": [
    "fig = plot_estimators_comparing(\n",
    "    data=data_pred_actual.sort_values('grlivarea')[['predicted', 'actual']],\n",
    "    labels=['Predicted', 'Actual'],\n",
    "    kind='line',\n",
    "    figsize=(8.75, 4),\n",
    "    markersize=1,\n",
    "    linewidth=0.25,\n",
    "    palette=[alpha_color(palette[0], 0.85), palette[3]],\n",
    "    ax0_y_ticks=[0, 800000, 200000],\n",
    "    ax1_y_ticks=[-100000, 150000, 50000],\n",
    "    x_ticks_weight='medium',\n",
    "    ticks_step=5\n",
    ")\n",
    "\n",
    "savefig('predicted_actual_residuals', save_img)"
   ]
  },
  {
   "cell_type": "markdown",
   "id": "7753e96e-f8cf-4d51-8029-81ef656184c6",
   "metadata": {},
   "source": [
    "#### Residuals"
   ]
  },
  {
   "cell_type": "code",
   "execution_count": 80,
   "id": "97129157-01f1-4f98-a747-7210bf49a8af",
   "metadata": {},
   "outputs": [
    {
     "data": {
      "image/png": "[encoded data removed]",
      "text/plain": [
       "<Figure size 800x250 with 1 Axes>"
      ]
     },
     "metadata": {},
     "output_type": "display_data"
    },
    {
     "name": "stdout",
     "output_type": "stream",
     "text": [
      "Image 'hpp_residuals.png' successfully saved into 'docs/img/Section8-Final-predictions' directory\n"
     ]
    }
   ],
   "source": [
    "fig, ax = plt.subplots(figsize=(8, 2.5))\n",
    "ax.hist(x=data_pred_actual['residual'], bins=50)\n",
    "ax.grid(False)\n",
    "axis_rstyle(xticks=(-100000, 150000, 50000), yticks=(0, 30, 5))\n",
    "plt.show()\n",
    "\n",
    "savefig('hpp_residuals', save_img)"
   ]
  },
  {
   "cell_type": "code",
   "execution_count": 81,
   "id": "83441830-99c4-46a2-a6a6-f79221fb6c8f",
   "metadata": {},
   "outputs": [
    {
     "data": {
      "text/html": [
       "<div>\n",
       "<style scoped>\n",
       "    .dataframe tbody tr th:only-of-type {\n",
       "        vertical-align: middle;\n",
       "    }\n",
       "\n",
       "    .dataframe tbody tr th {\n",
       "        vertical-align: top;\n",
       "    }\n",
       "\n",
       "    .dataframe thead th {\n",
       "        text-align: right;\n",
       "    }\n",
       "</style>\n",
       "<table border=\"1\" class=\"dataframe\">\n",
       "  <thead>\n",
       "    <tr style=\"text-align: right;\">\n",
       "      <th></th>\n",
       "      <th>Test</th>\n",
       "      <th>P or Statistic (s)</th>\n",
       "      <th>Condition</th>\n",
       "    </tr>\n",
       "  </thead>\n",
       "  <tbody>\n",
       "    <tr>\n",
       "      <th>0</th>\n",
       "      <td>Kolmogorov-Smirnov</td>\n",
       "      <td>0.0000</td>\n",
       "      <td>Not normal</td>\n",
       "    </tr>\n",
       "    <tr>\n",
       "      <th>1</th>\n",
       "      <td>Anderson-Darling (s)</td>\n",
       "      <td>6.2144</td>\n",
       "      <td>Not normal</td>\n",
       "    </tr>\n",
       "    <tr>\n",
       "      <th>2</th>\n",
       "      <td>Shapiro-Wilk</td>\n",
       "      <td>0.0000</td>\n",
       "      <td>Not normal</td>\n",
       "    </tr>\n",
       "    <tr>\n",
       "      <th>3</th>\n",
       "      <td>Jarque-Bera</td>\n",
       "      <td>0.0000</td>\n",
       "      <td>Not normal</td>\n",
       "    </tr>\n",
       "    <tr>\n",
       "      <th>4</th>\n",
       "      <td>D’Agostino-Pearson</td>\n",
       "      <td>0.0000</td>\n",
       "      <td>Not normal</td>\n",
       "    </tr>\n",
       "  </tbody>\n",
       "</table>\n",
       "</div>"
      ],
      "text/plain": [
       "                   Test  P or Statistic (s)   Condition\n",
       "0    Kolmogorov-Smirnov              0.0000  Not normal\n",
       "1  Anderson-Darling (s)              6.2144  Not normal\n",
       "2          Shapiro-Wilk              0.0000  Not normal\n",
       "3           Jarque-Bera              0.0000  Not normal\n",
       "4    D’Agostino-Pearson              0.0000  Not normal"
      ]
     },
     "execution_count": 81,
     "metadata": {},
     "output_type": "execute_result"
    }
   ],
   "source": [
    "test_normality(data_pred_actual['residual'])"
   ]
  },
  {
   "cell_type": "code",
   "execution_count": 82,
   "id": "cea3dada-3f0e-41a9-a7da-4966b33659c7",
   "metadata": {},
   "outputs": [],
   "source": [
    "cond1 = (data_pred_actual['residual'] > -50000)\n",
    "cond2 = (data_pred_actual['residual'] < 50000)"
   ]
  },
  {
   "cell_type": "code",
   "execution_count": 83,
   "id": "9c0c123b-61fc-4b55-b2f8-17a3d0fe5f2c",
   "metadata": {},
   "outputs": [
    {
     "data": {
      "text/html": [
       "<div>\n",
       "<style scoped>\n",
       "    .dataframe tbody tr th:only-of-type {\n",
       "        vertical-align: middle;\n",
       "    }\n",
       "\n",
       "    .dataframe tbody tr th {\n",
       "        vertical-align: top;\n",
       "    }\n",
       "\n",
       "    .dataframe thead th {\n",
       "        text-align: right;\n",
       "    }\n",
       "</style>\n",
       "<table border=\"1\" class=\"dataframe\">\n",
       "  <thead>\n",
       "    <tr style=\"text-align: right;\">\n",
       "      <th></th>\n",
       "      <th>id</th>\n",
       "      <th>actual_log</th>\n",
       "      <th>predicted_log</th>\n",
       "      <th>actual</th>\n",
       "      <th>predicted</th>\n",
       "      <th>residual</th>\n",
       "    </tr>\n",
       "  </thead>\n",
       "  <tbody>\n",
       "    <tr>\n",
       "      <th>218</th>\n",
       "      <td>219</td>\n",
       "      <td>12.649155</td>\n",
       "      <td>12.443084</td>\n",
       "      <td>311500.0</td>\n",
       "      <td>253491.0</td>\n",
       "      <td>58009.0</td>\n",
       "    </tr>\n",
       "    <tr>\n",
       "      <th>581</th>\n",
       "      <td>582</td>\n",
       "      <td>12.442302</td>\n",
       "      <td>12.734612</td>\n",
       "      <td>253293.0</td>\n",
       "      <td>339290.0</td>\n",
       "      <td>-85997.0</td>\n",
       "    </tr>\n",
       "    <tr>\n",
       "      <th>1024</th>\n",
       "      <td>1025</td>\n",
       "      <td>12.567237</td>\n",
       "      <td>12.795505</td>\n",
       "      <td>287000.0</td>\n",
       "      <td>360593.0</td>\n",
       "      <td>-73593.0</td>\n",
       "    </tr>\n",
       "    <tr>\n",
       "      <th>898</th>\n",
       "      <td>899</td>\n",
       "      <td>13.323927</td>\n",
       "      <td>13.090221</td>\n",
       "      <td>611657.0</td>\n",
       "      <td>484184.0</td>\n",
       "      <td>127473.0</td>\n",
       "    </tr>\n",
       "    <tr>\n",
       "      <th>691</th>\n",
       "      <td>692</td>\n",
       "      <td>13.534473</td>\n",
       "      <td>13.371493</td>\n",
       "      <td>755000.0</td>\n",
       "      <td>641454.0</td>\n",
       "      <td>113546.0</td>\n",
       "    </tr>\n",
       "    <tr>\n",
       "      <th>231</th>\n",
       "      <td>232</td>\n",
       "      <td>12.906692</td>\n",
       "      <td>12.763632</td>\n",
       "      <td>403000.0</td>\n",
       "      <td>349281.0</td>\n",
       "      <td>53719.0</td>\n",
       "    </tr>\n",
       "  </tbody>\n",
       "</table>\n",
       "</div>"
      ],
      "text/plain": [
       "        id  actual_log  predicted_log    actual  predicted  residual\n",
       "218    219   12.649155      12.443084  311500.0   253491.0   58009.0\n",
       "581    582   12.442302      12.734612  253293.0   339290.0  -85997.0\n",
       "1024  1025   12.567237      12.795505  287000.0   360593.0  -73593.0\n",
       "898    899   13.323927      13.090221  611657.0   484184.0  127473.0\n",
       "691    692   13.534473      13.371493  755000.0   641454.0  113546.0\n",
       "231    232   12.906692      12.763632  403000.0   349281.0   53719.0"
      ]
     },
     "execution_count": 83,
     "metadata": {},
     "output_type": "execute_result"
    }
   ],
   "source": [
    "columns_for_cutted = [\n",
    "    'id', 'actual_log', 'predicted_log', 'actual', 'predicted', 'residual'\n",
    "]\n",
    "data_pred_actual.loc[~(cond1 & cond2), columns_for_cutted]"
   ]
  },
  {
   "cell_type": "code",
   "execution_count": 84,
   "id": "958612ed-831e-4256-bcdf-08e2937eb556",
   "metadata": {},
   "outputs": [],
   "source": [
    "# data with residuals less than 50000 and more than -50000\n",
    "data_pred_actual_cutted = data_pred_actual.loc[(cond1 & cond2), :].copy()\n",
    "data_pred_actual_cutted = data_pred_actual_cutted.rename(columns={'residual': 'residual cutted'})"
   ]
  },
  {
   "cell_type": "code",
   "execution_count": 85,
   "id": "da828ba7-3f7d-4ff4-9504-426655ce788a",
   "metadata": {},
   "outputs": [
    {
     "data": {
      "text/html": [
       "<div>\n",
       "<style scoped>\n",
       "    .dataframe tbody tr th:only-of-type {\n",
       "        vertical-align: middle;\n",
       "    }\n",
       "\n",
       "    .dataframe tbody tr th {\n",
       "        vertical-align: top;\n",
       "    }\n",
       "\n",
       "    .dataframe thead th {\n",
       "        text-align: right;\n",
       "    }\n",
       "</style>\n",
       "<table border=\"1\" class=\"dataframe\">\n",
       "  <thead>\n",
       "    <tr style=\"text-align: right;\">\n",
       "      <th></th>\n",
       "      <th>Test</th>\n",
       "      <th>P or Statistic (s)</th>\n",
       "      <th>Condition</th>\n",
       "    </tr>\n",
       "  </thead>\n",
       "  <tbody>\n",
       "    <tr>\n",
       "      <th>0</th>\n",
       "      <td>Kolmogorov-Smirnov</td>\n",
       "      <td>0.0000</td>\n",
       "      <td>Not normal</td>\n",
       "    </tr>\n",
       "    <tr>\n",
       "      <th>1</th>\n",
       "      <td>Anderson-Darling (s)</td>\n",
       "      <td>0.9399</td>\n",
       "      <td>Not normal</td>\n",
       "    </tr>\n",
       "    <tr>\n",
       "      <th>2</th>\n",
       "      <td>Shapiro-Wilk</td>\n",
       "      <td>0.0651</td>\n",
       "      <td>Normal</td>\n",
       "    </tr>\n",
       "    <tr>\n",
       "      <th>3</th>\n",
       "      <td>Jarque-Bera</td>\n",
       "      <td>0.2119</td>\n",
       "      <td>Normal</td>\n",
       "    </tr>\n",
       "    <tr>\n",
       "      <th>4</th>\n",
       "      <td>D’Agostino-Pearson</td>\n",
       "      <td>0.2288</td>\n",
       "      <td>Normal</td>\n",
       "    </tr>\n",
       "  </tbody>\n",
       "</table>\n",
       "</div>"
      ],
      "text/plain": [
       "                   Test  P or Statistic (s)   Condition\n",
       "0    Kolmogorov-Smirnov              0.0000  Not normal\n",
       "1  Anderson-Darling (s)              0.9399  Not normal\n",
       "2          Shapiro-Wilk              0.0651      Normal\n",
       "3           Jarque-Bera              0.2119      Normal\n",
       "4    D’Agostino-Pearson              0.2288      Normal"
      ]
     },
     "execution_count": 85,
     "metadata": {},
     "output_type": "execute_result"
    }
   ],
   "source": [
    "test_normality(data_pred_actual_cutted['residual cutted'])"
   ]
  },
  {
   "cell_type": "code",
   "execution_count": 86,
   "id": "54ae6ce1-4a04-450d-a388-6373ae578f21",
   "metadata": {},
   "outputs": [
    {
     "data": {
      "image/png": "[encoded data removed]",
      "text/plain": [
       "<Figure size 800x250 with 1 Axes>"
      ]
     },
     "metadata": {},
     "output_type": "display_data"
    }
   ],
   "source": [
    "f = plt.figure(figsize=(8, 2.5))\n",
    "plt.hist(x=data_pred_actual_cutted['residual cutted'], bins=50)\n",
    "axis_rstyle(xticks=(-50000, 50000, 10000), yticks=(0, 12, 2))\n",
    "plt.grid(False)\n",
    "plt.show()"
   ]
  },
  {
   "cell_type": "code",
   "execution_count": 87,
   "id": "525adcb4-aa14-4d12-91f5-5bc12a165015",
   "metadata": {},
   "outputs": [],
   "source": [
    "normal_dist = np.random.normal(\n",
    "    loc=0, scale=data_pred_actual_cutted['residual cutted'].std(ddof=1), size=140)"
   ]
  },
  {
   "cell_type": "code",
   "execution_count": 88,
   "id": "2620891e-1039-474c-9771-180520d21ec8",
   "metadata": {},
   "outputs": [
    {
     "data": {
      "image/png": "[encoded data removed]",
      "text/plain": [
       "<Figure size 800x250 with 1 Axes>"
      ]
     },
     "metadata": {},
     "output_type": "display_data"
    },
    {
     "name": "stdout",
     "output_type": "stream",
     "text": [
      "Image 'residuals_distributions_compare.png' successfully saved into 'docs/img/Section8-Final-predictions' directory\n"
     ]
    }
   ],
   "source": [
    "fig = plt.figure(figsize=(8, 2.5))\n",
    "\n",
    "sns.kdeplot(\n",
    "    normal_dist, lw=0.01, fill=True, color=alpha_color(palette[0], 0.75),\n",
    "    label='Normal distribution')\n",
    "sns.kdeplot(\n",
    "    data_pred_actual['residual'], color=palette[1],\n",
    "    label='Residuals (original)')\n",
    "sns.kdeplot(\n",
    "    data_pred_actual_cutted['residual cutted'], color=palette[2],\n",
    "    label='Residuals (trimmed)')\n",
    "\n",
    "plt.legend(loc='lower left', bbox_to_anchor=(0, 1.05), frameon=False, ncols=3)\n",
    "# plt.title(\n",
    "#     'Comparison of Residual distributions with and without outliers',\n",
    "#     loc='left', pad=32)\n",
    "axis_rstyle(\n",
    "    xticks=(-150000, 200000, 50000), yticks=(0, 3.5*10**-5, 0.5*10**-5))\n",
    "plt.grid(False)\n",
    "plt.xlabel(None)\n",
    "plt.show()\n",
    "\n",
    "savefig('residuals_distributions_compare', save_img)"
   ]
  },
  {
   "cell_type": "code",
   "execution_count": 89,
   "id": "92274c0c-fdc4-4a16-ab4e-cd6f5c0a10be",
   "metadata": {},
   "outputs": [
    {
     "data": {
      "image/png": "[encoded data removed]",
      "text/plain": [
       "<Figure size 800x250 with 1 Axes>"
      ]
     },
     "metadata": {},
     "output_type": "display_data"
    },
    {
     "name": "stdout",
     "output_type": "stream",
     "text": [
      "Image 'actual_predicted.png' successfully saved into 'docs/img/Section8-Final-predictions' directory\n"
     ]
    }
   ],
   "source": [
    "fig = plt.figure(figsize=(8, 2.5))\n",
    "\n",
    "sns.scatterplot(\n",
    "    data=data_pred_actual.sort_values('actual'),\n",
    "    x=data_pred_actual['actual'],\n",
    "    y=data_pred_actual['predicted']\n",
    ")\n",
    "\n",
    "plt.axline([0, 0], [1, 1], lw=1, ls='--', color=palette[1])\n",
    "plt.xlabel('Actual')\n",
    "plt.ylabel('Predicted')\n",
    "plt.xlim(left=0)\n",
    "plt.ylim(bottom=0, top=750000)\n",
    "plt.grid(False)\n",
    "axis_rstyle(\n",
    "    xticks=[0, 800000, 100000],\n",
    "    yticks=[0, 700000, 100000])\n",
    "plt.show()\n",
    "\n",
    "savefig('actual_predicted', save_img)"
   ]
  },
  {
   "cell_type": "code",
   "execution_count": 90,
   "id": "41b075f0-4b47-4829-b9fa-2f757dc6edcc",
   "metadata": {},
   "outputs": [
    {
     "data": {
      "image/png": "[encoded data removed]",
      "text/plain": [
       "<Figure size 800x250 with 1 Axes>"
      ]
     },
     "metadata": {},
     "output_type": "display_data"
    }
   ],
   "source": [
    "f = plt.figure(figsize=(8, 2.5))\n",
    "\n",
    "sns.scatterplot(\n",
    "    data=data_pred_actual.sort_values('actual'),\n",
    "    x=data_pred_actual['actual'],\n",
    "    y=data_pred_actual['residual']\n",
    ")\n",
    "plt.axline([0, 0], [1, 0], lw=1, ls='--', color=palette[1])\n",
    "plt.xlim(left=0)\n",
    "plt.ylim(bottom=-180000, top=180000)\n",
    "plt.grid(False)\n",
    "plt.show()"
   ]
  },
  {
   "cell_type": "code",
   "execution_count": 91,
   "id": "05d0e5e6-0faa-40bf-9bae-3339304f402f",
   "metadata": {},
   "outputs": [
    {
     "data": {
      "image/png": "[encoded data removed]",
      "text/plain": [
       "<Figure size 800x250 with 1 Axes>"
      ]
     },
     "metadata": {},
     "output_type": "display_data"
    },
    {
     "name": "stdout",
     "output_type": "stream",
     "text": [
      "Image 'grlivarea_residuals.png' successfully saved into 'docs/img/Section8-Final-predictions' directory\n"
     ]
    }
   ],
   "source": [
    "fig = plt.figure(figsize=(8, 2.5))\n",
    "sns.scatterplot(\n",
    "    data=data_pred_actual.sort_values('grlivarea'),\n",
    "    x=data_pred_actual['grlivarea'],\n",
    "    y=data_pred_actual['residual'],\n",
    "    zorder=10\n",
    ")\n",
    "plt.axvline(1875, 0.1, 0.9, lw=1, ls='--', color=palette[1], zorder=9)\n",
    "plt.xlabel('Grlivarea')\n",
    "plt.ylabel('Residuals')\n",
    "# plt.ylim(bottom=-180000, top=180000)\n",
    "plt.grid(False)\n",
    "axis_rstyle(\n",
    "    xticks=[0, 4500, 500],\n",
    "    yticks=[-150000, 150000, 50000])\n",
    "plt.show()\n",
    "\n",
    "savefig('grlivarea_residuals', save_img)"
   ]
  },
  {
   "cell_type": "code",
   "execution_count": 92,
   "id": "5c70cb38-549b-422f-a59b-542fc7f76133",
   "metadata": {},
   "outputs": [
    {
     "data": {
      "text/plain": [
       "0.08428042038607002"
      ]
     },
     "execution_count": 92,
     "metadata": {},
     "output_type": "execute_result"
    }
   ],
   "source": [
    "mean_squared_error(\n",
    "    data_pred_actual.loc[data_pred_actual['grlivarea']<1800, 'actual_log'],\n",
    "    data_pred_actual.loc[data_pred_actual['grlivarea']<1800, 'predicted_log'],\n",
    "    squared=False\n",
    ")"
   ]
  },
  {
   "cell_type": "code",
   "execution_count": 93,
   "id": "339cda92-053c-497e-8c40-8a037b5910a8",
   "metadata": {},
   "outputs": [
    {
     "data": {
      "text/plain": [
       "0.13404655640977148"
      ]
     },
     "execution_count": 93,
     "metadata": {},
     "output_type": "execute_result"
    }
   ],
   "source": [
    "mean_squared_error(\n",
    "    data_pred_actual.loc[data_pred_actual['grlivarea']>1800, 'actual_log'],\n",
    "    data_pred_actual.loc[data_pred_actual['grlivarea']>1800, 'predicted_log'],\n",
    "    squared=False\n",
    ")"
   ]
  },
  {
   "cell_type": "code",
   "execution_count": 94,
   "id": "abf109ba-3f66-4e5d-a54a-a5098aa5dc18",
   "metadata": {},
   "outputs": [
    {
     "data": {
      "text/plain": [
       "<Axes: >"
      ]
     },
     "execution_count": 94,
     "metadata": {},
     "output_type": "execute_result"
    },
    {
     "data": {
      "image/png": "[encoded data removed]",
      "text/plain": [
       "<Figure size 1100x250 with 1 Axes>"
      ]
     },
     "metadata": {},
     "output_type": "display_data"
    }
   ],
   "source": [
    "f = plt.figure(figsize=(11, 2.5))\n",
    "data_pred_actual['residual_frac'].hist(bins=100)"
   ]
  },
  {
   "cell_type": "code",
   "execution_count": 95,
   "id": "80901b9e-a2c1-45eb-855c-24723ea1b374",
   "metadata": {},
   "outputs": [
    {
     "data": {
      "text/html": [
       "<div>\n",
       "<style scoped>\n",
       "    .dataframe tbody tr th:only-of-type {\n",
       "        vertical-align: middle;\n",
       "    }\n",
       "\n",
       "    .dataframe tbody tr th {\n",
       "        vertical-align: top;\n",
       "    }\n",
       "\n",
       "    .dataframe thead th {\n",
       "        text-align: right;\n",
       "    }\n",
       "</style>\n",
       "<table border=\"1\" class=\"dataframe\">\n",
       "  <thead>\n",
       "    <tr style=\"text-align: right;\">\n",
       "      <th></th>\n",
       "      <th>Test</th>\n",
       "      <th>P or Statistic (s)</th>\n",
       "      <th>Condition</th>\n",
       "    </tr>\n",
       "  </thead>\n",
       "  <tbody>\n",
       "    <tr>\n",
       "      <th>0</th>\n",
       "      <td>Kolmogorov-Smirnov</td>\n",
       "      <td>0.0000</td>\n",
       "      <td>Not normal</td>\n",
       "    </tr>\n",
       "    <tr>\n",
       "      <th>1</th>\n",
       "      <td>Anderson-Darling (s)</td>\n",
       "      <td>2.0907</td>\n",
       "      <td>Not normal</td>\n",
       "    </tr>\n",
       "    <tr>\n",
       "      <th>2</th>\n",
       "      <td>Shapiro-Wilk</td>\n",
       "      <td>0.0000</td>\n",
       "      <td>Not normal</td>\n",
       "    </tr>\n",
       "    <tr>\n",
       "      <th>3</th>\n",
       "      <td>Jarque-Bera</td>\n",
       "      <td>0.0000</td>\n",
       "      <td>Not normal</td>\n",
       "    </tr>\n",
       "    <tr>\n",
       "      <th>4</th>\n",
       "      <td>D’Agostino-Pearson</td>\n",
       "      <td>0.0000</td>\n",
       "      <td>Not normal</td>\n",
       "    </tr>\n",
       "  </tbody>\n",
       "</table>\n",
       "</div>"
      ],
      "text/plain": [
       "                   Test  P or Statistic (s)   Condition\n",
       "0    Kolmogorov-Smirnov              0.0000  Not normal\n",
       "1  Anderson-Darling (s)              2.0907  Not normal\n",
       "2          Shapiro-Wilk              0.0000  Not normal\n",
       "3           Jarque-Bera              0.0000  Not normal\n",
       "4    D’Agostino-Pearson              0.0000  Not normal"
      ]
     },
     "execution_count": 95,
     "metadata": {},
     "output_type": "execute_result"
    }
   ],
   "source": [
    "test_normality(data_pred_actual['residual_frac'])"
   ]
  },
  {
   "cell_type": "code",
   "execution_count": 96,
   "id": "2d4f72be-89fb-47b9-8e7b-fbfd4b85fdeb",
   "metadata": {},
   "outputs": [],
   "source": [
    "data_resid_frac = data_pred_actual.sort_values('grlivarea').copy()"
   ]
  },
  {
   "cell_type": "code",
   "execution_count": 97,
   "id": "9d1ff4da-c8bb-478e-9532-15e567fa742a",
   "metadata": {},
   "outputs": [
    {
     "data": {
      "text/html": [
       "<div>\n",
       "<style scoped>\n",
       "    .dataframe tbody tr th:only-of-type {\n",
       "        vertical-align: middle;\n",
       "    }\n",
       "\n",
       "    .dataframe tbody tr th {\n",
       "        vertical-align: top;\n",
       "    }\n",
       "\n",
       "    .dataframe thead th {\n",
       "        text-align: right;\n",
       "    }\n",
       "</style>\n",
       "<table border=\"1\" class=\"dataframe\">\n",
       "  <thead>\n",
       "    <tr style=\"text-align: right;\">\n",
       "      <th></th>\n",
       "      <th>id</th>\n",
       "      <th>mssubclass</th>\n",
       "      <th>mszoning</th>\n",
       "      <th>lotfrontage</th>\n",
       "      <th>lotarea</th>\n",
       "      <th>street</th>\n",
       "      <th>alley</th>\n",
       "      <th>lotshape</th>\n",
       "      <th>landcontour</th>\n",
       "      <th>utilities</th>\n",
       "      <th>...</th>\n",
       "      <th>yrsold</th>\n",
       "      <th>saletype</th>\n",
       "      <th>salecondition</th>\n",
       "      <th>actual_log</th>\n",
       "      <th>predicted_log</th>\n",
       "      <th>actual</th>\n",
       "      <th>predicted</th>\n",
       "      <th>residual</th>\n",
       "      <th>residual_log</th>\n",
       "      <th>residual_frac</th>\n",
       "    </tr>\n",
       "  </thead>\n",
       "  <tbody>\n",
       "    <tr>\n",
       "      <th>916</th>\n",
       "      <td>917</td>\n",
       "      <td>10</td>\n",
       "      <td>0</td>\n",
       "      <td>50.0</td>\n",
       "      <td>9000</td>\n",
       "      <td>1</td>\n",
       "      <td>2</td>\n",
       "      <td>0</td>\n",
       "      <td>1</td>\n",
       "      <td>1</td>\n",
       "      <td>...</td>\n",
       "      <td>2006</td>\n",
       "      <td>5</td>\n",
       "      <td>1</td>\n",
       "      <td>10.471950</td>\n",
       "      <td>10.767211</td>\n",
       "      <td>35311.0</td>\n",
       "      <td>47440.0</td>\n",
       "      <td>-12129.0</td>\n",
       "      <td>-0.295261</td>\n",
       "      <td>-0.343491</td>\n",
       "    </tr>\n",
       "    <tr>\n",
       "      <th>29</th>\n",
       "      <td>30</td>\n",
       "      <td>0</td>\n",
       "      <td>1</td>\n",
       "      <td>60.0</td>\n",
       "      <td>6324</td>\n",
       "      <td>1</td>\n",
       "      <td>2</td>\n",
       "      <td>1</td>\n",
       "      <td>1</td>\n",
       "      <td>1</td>\n",
       "      <td>...</td>\n",
       "      <td>2008</td>\n",
       "      <td>5</td>\n",
       "      <td>4</td>\n",
       "      <td>11.134589</td>\n",
       "      <td>10.976657</td>\n",
       "      <td>68500.0</td>\n",
       "      <td>58493.0</td>\n",
       "      <td>10007.0</td>\n",
       "      <td>0.157932</td>\n",
       "      <td>0.146088</td>\n",
       "    </tr>\n",
       "    <tr>\n",
       "      <th>614</th>\n",
       "      <td>615</td>\n",
       "      <td>1</td>\n",
       "      <td>1</td>\n",
       "      <td>21.0</td>\n",
       "      <td>1491</td>\n",
       "      <td>1</td>\n",
       "      <td>2</td>\n",
       "      <td>0</td>\n",
       "      <td>1</td>\n",
       "      <td>1</td>\n",
       "      <td>...</td>\n",
       "      <td>2010</td>\n",
       "      <td>5</td>\n",
       "      <td>4</td>\n",
       "      <td>11.231888</td>\n",
       "      <td>11.245633</td>\n",
       "      <td>75500.0</td>\n",
       "      <td>76545.0</td>\n",
       "      <td>-1045.0</td>\n",
       "      <td>-0.013745</td>\n",
       "      <td>-0.013841</td>\n",
       "    </tr>\n",
       "    <tr>\n",
       "      <th>649</th>\n",
       "      <td>650</td>\n",
       "      <td>1</td>\n",
       "      <td>1</td>\n",
       "      <td>21.0</td>\n",
       "      <td>1936</td>\n",
       "      <td>1</td>\n",
       "      <td>2</td>\n",
       "      <td>0</td>\n",
       "      <td>1</td>\n",
       "      <td>1</td>\n",
       "      <td>...</td>\n",
       "      <td>2007</td>\n",
       "      <td>5</td>\n",
       "      <td>4</td>\n",
       "      <td>11.344507</td>\n",
       "      <td>11.258188</td>\n",
       "      <td>84500.0</td>\n",
       "      <td>77512.0</td>\n",
       "      <td>6988.0</td>\n",
       "      <td>0.086318</td>\n",
       "      <td>0.082698</td>\n",
       "    </tr>\n",
       "    <tr>\n",
       "      <th>543</th>\n",
       "      <td>544</td>\n",
       "      <td>13</td>\n",
       "      <td>2</td>\n",
       "      <td>34.0</td>\n",
       "      <td>4058</td>\n",
       "      <td>1</td>\n",
       "      <td>2</td>\n",
       "      <td>0</td>\n",
       "      <td>1</td>\n",
       "      <td>1</td>\n",
       "      <td>...</td>\n",
       "      <td>2007</td>\n",
       "      <td>5</td>\n",
       "      <td>4</td>\n",
       "      <td>11.798104</td>\n",
       "      <td>11.740358</td>\n",
       "      <td>133000.0</td>\n",
       "      <td>125537.0</td>\n",
       "      <td>7463.0</td>\n",
       "      <td>0.057747</td>\n",
       "      <td>0.056113</td>\n",
       "    </tr>\n",
       "  </tbody>\n",
       "</table>\n",
       "<p>5 rows × 87 columns</p>\n",
       "</div>"
      ],
      "text/plain": [
       "      id  mssubclass  mszoning  lotfrontage  lotarea  street  alley  lotshape  \\\n",
       "916  917          10         0         50.0     9000       1      2         0   \n",
       "29    30           0         1         60.0     6324       1      2         1   \n",
       "614  615           1         1         21.0     1491       1      2         0   \n",
       "649  650           1         1         21.0     1936       1      2         0   \n",
       "543  544          13         2         34.0     4058       1      2         0   \n",
       "\n",
       "     landcontour  utilities  ...  yrsold  saletype  salecondition  actual_log  \\\n",
       "916            1          1  ...    2006         5              1   10.471950   \n",
       "29             1          1  ...    2008         5              4   11.134589   \n",
       "614            1          1  ...    2010         5              4   11.231888   \n",
       "649            1          1  ...    2007         5              4   11.344507   \n",
       "543            1          1  ...    2007         5              4   11.798104   \n",
       "\n",
       "     predicted_log    actual  predicted  residual  residual_log  residual_frac  \n",
       "916      10.767211   35311.0    47440.0  -12129.0     -0.295261      -0.343491  \n",
       "29       10.976657   68500.0    58493.0   10007.0      0.157932       0.146088  \n",
       "614      11.245633   75500.0    76545.0   -1045.0     -0.013745      -0.013841  \n",
       "649      11.258188   84500.0    77512.0    6988.0      0.086318       0.082698  \n",
       "543      11.740358  133000.0   125537.0    7463.0      0.057747       0.056113  \n",
       "\n",
       "[5 rows x 87 columns]"
      ]
     },
     "execution_count": 97,
     "metadata": {},
     "output_type": "execute_result"
    }
   ],
   "source": [
    "data_resid_frac.head()"
   ]
  },
  {
   "cell_type": "code",
   "execution_count": 98,
   "id": "9bcfd690-fe9a-4e8f-b3c0-9a1b52c11f08",
   "metadata": {},
   "outputs": [
    {
     "data": {
      "image/png": "[encoded data removed]",
      "text/plain": [
       "<Figure size 800x250 with 1 Axes>"
      ]
     },
     "metadata": {},
     "output_type": "display_data"
    },
    {
     "name": "stdout",
     "output_type": "stream",
     "text": [
      "Image 'residuals_grlivarea_scatter.png' successfully saved into 'docs/img/Section8-Final-predictions' directory\n"
     ]
    }
   ],
   "source": [
    "fig, ax = plt.subplots(figsize=(8, 2.5))\n",
    "\n",
    "plt.scatter(\n",
    "    x=data_resid_frac['grlivarea'],\n",
    "    y=data_resid_frac['residual'].abs(),\n",
    "    **scatter\n",
    ")\n",
    "\n",
    "plt.xlabel('Grlivarea')\n",
    "plt.ylabel('Residuals (abs)')\n",
    "plt.axvline(1875, 0.05, 0.9, lw=1, ls='--', color=palette[1], zorder=9)\n",
    "plt.ylim(top=145000)\n",
    "plt.grid(False)\n",
    "axis_rstyle(\n",
    "    offset_left=5,\n",
    "    offset_bottom=0,\n",
    "    xticks=[0, 4500, 500],\n",
    "    yticks=[0, 140000, 20000])\n",
    "plt.show()\n",
    "\n",
    "savefig('residuals_grlivarea_scatter', save_img)"
   ]
  },
  {
   "cell_type": "code",
   "execution_count": 99,
   "id": "e38b40fa-7012-42a2-8bba-cb6776afcefd",
   "metadata": {},
   "outputs": [
    {
     "data": {
      "image/png": "[encoded data removed]",
      "text/plain": [
       "<Figure size 800x250 with 1 Axes>"
      ]
     },
     "metadata": {},
     "output_type": "display_data"
    },
    {
     "name": "stdout",
     "output_type": "stream",
     "text": [
      "Image 'residuals_grlivarea_scatter_sorted.png' successfully saved into 'docs/img/Section8-Final-predictions' directory\n"
     ]
    }
   ],
   "source": [
    "fig, ax = plt.subplots(figsize=(8, 2.5))\n",
    "\n",
    "plt.scatter(\n",
    "    x=data_resid_frac['grlivarea'],\n",
    "    y=data_resid_frac['residual_frac'].abs(),\n",
    "    **scatter\n",
    ")\n",
    "\n",
    "plt.xlabel('Grlivarea')\n",
    "plt.ylabel('Residuals_frac (abs)')\n",
    "plt.axvline(1875, 0.05, 0.9, lw=1, ls='--', color=palette[1], zorder=9)\n",
    "plt.ylim(bottom=-0.025, top=0.45)\n",
    "plt.grid(False)\n",
    "axis_rstyle(\n",
    "    offset_bottom=0,\n",
    "    xticks=[0, 4500, 500],\n",
    "    yticks=[0.0, 0.5, 0.1])\n",
    "plt.show()\n",
    "\n",
    "savefig('residuals_grlivarea_scatter_sorted', save_img)"
   ]
  },
  {
   "cell_type": "code",
   "execution_count": 100,
   "id": "347c440f-e3ee-4cf7-833e-616697853964",
   "metadata": {},
   "outputs": [
    {
     "data": {
      "image/png": "[encoded data removed]",
      "text/plain": [
       "<Figure size 800x250 with 1 Axes>"
      ]
     },
     "metadata": {},
     "output_type": "display_data"
    },
    {
     "name": "stdout",
     "output_type": "stream",
     "text": [
      "Image 'actual_residual_frac.png' successfully saved into 'docs/img/Section8-Final-predictions' directory\n"
     ]
    }
   ],
   "source": [
    "fig = plt.figure(figsize=(8, 2.5))\n",
    "\n",
    "sns.scatterplot(\n",
    "    data=data_pred_actual.sort_values('actual'),\n",
    "    x=data_pred_actual['actual'],\n",
    "    y=data_pred_actual['residual_frac']\n",
    ")\n",
    "plt.axline([0, 0], [1, 0], lw=1, ls='--', color=palette[1])\n",
    "plt.xlabel('Actual')\n",
    "plt.ylabel('Residuals frac')\n",
    "plt.ylim(-0.5, 0.5)\n",
    "plt.grid(False)\n",
    "axis_rstyle(\n",
    "    offset_left=5,\n",
    "    xticks=[0, 800000, 100000],\n",
    "    yticks=[-0.5, 0.5, 0.25])\n",
    "plt.show()\n",
    "\n",
    "savefig('actual_residual_frac', save_img)"
   ]
  },
  {
   "cell_type": "code",
   "execution_count": 101,
   "id": "5bef5047-b19c-4966-99d2-bebb60f01525",
   "metadata": {},
   "outputs": [
    {
     "data": {
      "image/png": "[encoded data removed]",
      "text/plain": [
       "<Figure size 800x250 with 1 Axes>"
      ]
     },
     "metadata": {},
     "output_type": "display_data"
    },
    {
     "name": "stdout",
     "output_type": "stream",
     "text": [
      "Image 'grlivarea_residuals_frac.png' successfully saved into 'docs/img/Section8-Final-predictions' directory\n"
     ]
    }
   ],
   "source": [
    "fig = plt.figure(figsize=(8, 2.5))\n",
    "\n",
    "sns.scatterplot(\n",
    "    data=data_pred_actual.sort_values('grlivarea'),\n",
    "    x=data_pred_actual['grlivarea'],\n",
    "    y=data_pred_actual['residual_frac'],\n",
    "    zorder=10\n",
    ")\n",
    "sns.regplot(\n",
    "    x=data_pred_actual[data_pred_actual['grlivarea'] < 1900]['grlivarea'],\n",
    "    y=data_pred_actual[data_pred_actual['grlivarea'] < 1900]['residual_frac'],\n",
    "    lowess=True,\n",
    "    scatter=False,\n",
    "    line_kws={'lw': 1.2, 'color': palette[2], 'alpha': 0.5},\n",
    "    label='grlivarea < 1900'\n",
    ")\n",
    "sns.regplot(\n",
    "    x=data_pred_actual[data_pred_actual['grlivarea'] > 1900]['grlivarea'],\n",
    "    y=data_pred_actual[data_pred_actual['grlivarea'] > 1900]['residual_frac'],\n",
    "    lowess=True,\n",
    "    scatter=False,\n",
    "    line_kws={'lw': 1.2, 'color': palette[2], 'alpha': 0.5},\n",
    "    label='grlivarea > 1900'\n",
    ")\n",
    "plt.axvline(1875, 0.1, 0.9, lw=1, ls='--', color=palette[1])\n",
    "plt.xlabel('Grlivarea')\n",
    "plt.ylabel('Residuals (frac)')\n",
    "plt.ylim(-0.5, 0.5)\n",
    "plt.grid(False)\n",
    "axis_rstyle(\n",
    "    xticks=[0, 4500, 500],\n",
    "    yticks=[-0.5, 0.5, 0.25]\n",
    ")\n",
    "plt.show()\n",
    "            \n",
    "savefig('grlivarea_residuals_frac', save_img)"
   ]
  },
  {
   "cell_type": "markdown",
   "id": "c1ba5169-6b80-4bd4-addf-2998aa997ed3",
   "metadata": {},
   "source": [
    "### Save Session"
   ]
  },
  {
   "cell_type": "code",
   "execution_count": 102,
   "id": "01f3197b-9187-49aa-a211-da8877013c98",
   "metadata": {},
   "outputs": [],
   "source": [
    "save_session(session_name)"
   ]
  },
  {
   "cell_type": "markdown",
   "id": "ba2014de-d95c-4d15-acd5-bd1826705d54",
   "metadata": {},
   "source": [
    "### Execution time"
   ]
  },
  {
   "cell_type": "code",
   "execution_count": 103,
   "id": "8ac03a29-7e0c-4396-9e92-ac515c41dc5d",
   "metadata": {},
   "outputs": [
    {
     "name": "stdout",
     "output_type": "stream",
     "text": [
      "Execution time: 0:00:28\n"
     ]
    }
   ],
   "source": [
    "print(f'Execution time: {stopwatch.stop(start)}')"
   ]
  }
 ],
 "metadata": {
  "kernelspec": {
   "display_name": "kgl_house_prices",
   "language": "python",
   "name": "kgl_house_prices"
  },
  "language_info": {
   "codemirror_mode": {
    "name": "ipython",
    "version": 3
   },
   "file_extension": ".py",
   "mimetype": "text/x-python",
   "name": "python",
   "nbconvert_exporter": "python",
   "pygments_lexer": "ipython3",
   "version": "3.12.2"
  }
 },
 "nbformat": 4,
 "nbformat_minor": 5
}
