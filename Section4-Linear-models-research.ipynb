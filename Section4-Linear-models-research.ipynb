{
 "cells": [
  {
   "cell_type": "code",
   "execution_count": 1,
   "id": "f45046a0-b83c-44f5-8da0-9197ff36e527",
   "metadata": {},
   "outputs": [],
   "source": [
    "# run stopwatch\n",
    "from tools import Stopwatch\n",
    "stopwatch = Stopwatch()\n",
    "start = stopwatch.start()"
   ]
  },
  {
   "cell_type": "markdown",
   "id": "67e8ca2a-e3c6-4fec-af58-e52e820505fa",
   "metadata": {},
   "source": [
    "### Load libraries, functions, palette, theme"
   ]
  },
  {
   "cell_type": "code",
   "execution_count": 2,
   "id": "156c338e-62ed-4435-981d-5c7f81305a7e",
   "metadata": {},
   "outputs": [],
   "source": [
    "%run _libraries.ipynb"
   ]
  },
  {
   "cell_type": "code",
   "execution_count": 3,
   "id": "45726f39-7d42-41e0-b5d6-bc6270e2e3ee",
   "metadata": {},
   "outputs": [],
   "source": [
    "%run _functions.ipynb"
   ]
  },
  {
   "cell_type": "code",
   "execution_count": 4,
   "id": "3073aef9-d355-4650-a94d-286fc29a0ee0",
   "metadata": {},
   "outputs": [],
   "source": [
    "dir_save = 'Section4-Linear-models-research'"
   ]
  },
  {
   "cell_type": "markdown",
   "id": "baa1fd59-4575-498c-84b8-09c392751fac",
   "metadata": {},
   "source": [
    "# Section IV. Linear Models Comparing"
   ]
  },
  {
   "cell_type": "markdown",
   "id": "d57108fd-2603-4508-982a-2527dab9dc77",
   "metadata": {},
   "source": [
    "## Load Saved Section if exists"
   ]
  },
  {
   "cell_type": "raw",
   "id": "4cc1f28b-603d-4be1-a929-5010e2aa8e39",
   "metadata": {},
   "source": [
    "if os.path.exists(f'sessions/{dir_save}'):\n",
    "    load_session(dir_save)\n",
    "else:\n",
    "    print(f\"No such session: 'sessions/{dir_save}'\")"
   ]
  },
  {
   "cell_type": "markdown",
   "id": "21ea5ea8-83fd-4764-969f-484dc3e9f70d",
   "metadata": {},
   "source": [
    "## Load Data"
   ]
  },
  {
   "cell_type": "code",
   "execution_count": 5,
   "id": "d90eebb5-a4f0-4559-876c-b7788eb6dd17",
   "metadata": {},
   "outputs": [],
   "source": [
    "# dicts\n",
    "datasets_dict = loadit(\n",
    "    'datasets_dict', dir='Section3-Feature-selection-and-Preprocessing')\n",
    "features_dict = loadit(\n",
    "    'features_dict', dir='Section3-Feature-selection-and-Preprocessing')\n",
    "simulation_datasets_dict = loadit(\n",
    "    'simulation_datasets_dict', dir='Section3-Feature-selection-and-Preprocessing')\n",
    "estimators_dict = loadit(\n",
    "    'estimators_dict', dir='Section3-Feature-selection-and-Preprocessing')\n",
    "evaluation_dict = loadit(\n",
    "    'evaluation_dict', dir='Section3-Feature-selection-and-Preprocessing')\n",
    "# datasets\n",
    "train = datasets_dict['train'].copy()\n",
    "train_cv = datasets_dict['train_cv'].copy()\n",
    "# features\n",
    "features = features_dict['features']\n",
    "numeric = features_dict['numeric']\n",
    "ordinal = features_dict['ordinal']\n",
    "categorical = features_dict['categorical']\n",
    "categorical_transform = features_dict['categorical_transform']\n",
    "factor = features_dict['factor']\n",
    "target = features_dict['target']"
   ]
  },
  {
   "cell_type": "markdown",
   "id": "1bdc245d-57c4-4460-9ed1-26c8af912579",
   "metadata": {},
   "source": [
    "## Elastic Net regularization effects"
   ]
  },
  {
   "cell_type": "markdown",
   "id": "a4c00c24-d1c1-482d-84a8-355306a1eb4d",
   "metadata": {},
   "source": [
    "### Datasets"
   ]
  },
  {
   "cell_type": "code",
   "execution_count": 6,
   "id": "6e37be9b-56c5-4d90-a2fe-5d10d8e7574e",
   "metadata": {},
   "outputs": [],
   "source": [
    "X = train_cv[features].copy()\n",
    "y = train_cv[target]"
   ]
  },
  {
   "cell_type": "code",
   "execution_count": 7,
   "id": "0f039a6b-d324-4716-9e6e-13d885c7e52c",
   "metadata": {},
   "outputs": [
    {
     "data": {
      "text/plain": [
       "(1311, 104)"
      ]
     },
     "execution_count": 7,
     "metadata": {},
     "output_type": "execute_result"
    }
   ],
   "source": [
    "X.shape"
   ]
  },
  {
   "cell_type": "code",
   "execution_count": 8,
   "id": "50901570-57d8-4f97-8fd2-8e7a81cc05fe",
   "metadata": {},
   "outputs": [
    {
     "data": {
      "text/html": [
       "<div>\n",
       "<style scoped>\n",
       "    .dataframe tbody tr th:only-of-type {\n",
       "        vertical-align: middle;\n",
       "    }\n",
       "\n",
       "    .dataframe tbody tr th {\n",
       "        vertical-align: top;\n",
       "    }\n",
       "\n",
       "    .dataframe thead th {\n",
       "        text-align: right;\n",
       "    }\n",
       "</style>\n",
       "<table border=\"1\" class=\"dataframe\">\n",
       "  <thead>\n",
       "    <tr style=\"text-align: right;\">\n",
       "      <th></th>\n",
       "      <th>mssubclass</th>\n",
       "      <th>lg_lotfrontage</th>\n",
       "      <th>lg_lotarea</th>\n",
       "      <th>yearbuilt</th>\n",
       "      <th>lg_yearremodadd</th>\n",
       "      <th>lg_masvnrarea</th>\n",
       "      <th>lg_bsmtfinsf_first</th>\n",
       "      <th>lg_bsmtfinsf_second</th>\n",
       "      <th>lg_bsmtunfsf</th>\n",
       "      <th>lg_totalbsmtsf</th>\n",
       "      <th>...</th>\n",
       "      <th>lowqualfinsf_exst</th>\n",
       "      <th>second_flrsf_exst</th>\n",
       "      <th>garagearea_exst</th>\n",
       "      <th>wooddecksf_exst</th>\n",
       "      <th>openporchsf_exst</th>\n",
       "      <th>enclosedporch_exst</th>\n",
       "      <th>three_ssnporch_exst</th>\n",
       "      <th>screenporch_exst</th>\n",
       "      <th>poolarea_exst</th>\n",
       "      <th>miscval_exst</th>\n",
       "    </tr>\n",
       "  </thead>\n",
       "  <tbody>\n",
       "    <tr>\n",
       "      <th>907</th>\n",
       "      <td>50</td>\n",
       "      <td>4.465908</td>\n",
       "      <td>9.350189</td>\n",
       "      <td>1936</td>\n",
       "      <td>7.594884</td>\n",
       "      <td>0.0</td>\n",
       "      <td>5.411646</td>\n",
       "      <td>0.0</td>\n",
       "      <td>6.678342</td>\n",
       "      <td>6.925595</td>\n",
       "      <td>...</td>\n",
       "      <td>0</td>\n",
       "      <td>1</td>\n",
       "      <td>1</td>\n",
       "      <td>0</td>\n",
       "      <td>0</td>\n",
       "      <td>0</td>\n",
       "      <td>0</td>\n",
       "      <td>1</td>\n",
       "      <td>0</td>\n",
       "      <td>0</td>\n",
       "    </tr>\n",
       "    <tr>\n",
       "      <th>782</th>\n",
       "      <td>20</td>\n",
       "      <td>4.219508</td>\n",
       "      <td>9.698061</td>\n",
       "      <td>2001</td>\n",
       "      <td>7.602401</td>\n",
       "      <td>0.0</td>\n",
       "      <td>0.000000</td>\n",
       "      <td>0.0</td>\n",
       "      <td>7.254178</td>\n",
       "      <td>7.254178</td>\n",
       "      <td>...</td>\n",
       "      <td>0</td>\n",
       "      <td>0</td>\n",
       "      <td>1</td>\n",
       "      <td>0</td>\n",
       "      <td>1</td>\n",
       "      <td>0</td>\n",
       "      <td>0</td>\n",
       "      <td>0</td>\n",
       "      <td>0</td>\n",
       "      <td>0</td>\n",
       "    </tr>\n",
       "    <tr>\n",
       "      <th>952</th>\n",
       "      <td>85</td>\n",
       "      <td>4.110874</td>\n",
       "      <td>8.881975</td>\n",
       "      <td>1972</td>\n",
       "      <td>7.602900</td>\n",
       "      <td>0.0</td>\n",
       "      <td>6.493754</td>\n",
       "      <td>0.0</td>\n",
       "      <td>4.691348</td>\n",
       "      <td>6.645091</td>\n",
       "      <td>...</td>\n",
       "      <td>0</td>\n",
       "      <td>0</td>\n",
       "      <td>1</td>\n",
       "      <td>1</td>\n",
       "      <td>0</td>\n",
       "      <td>0</td>\n",
       "      <td>0</td>\n",
       "      <td>0</td>\n",
       "      <td>0</td>\n",
       "      <td>0</td>\n",
       "    </tr>\n",
       "    <tr>\n",
       "      <th>620</th>\n",
       "      <td>30</td>\n",
       "      <td>3.828641</td>\n",
       "      <td>9.017847</td>\n",
       "      <td>1914</td>\n",
       "      <td>7.576097</td>\n",
       "      <td>0.0</td>\n",
       "      <td>3.737670</td>\n",
       "      <td>0.0</td>\n",
       "      <td>6.714171</td>\n",
       "      <td>6.762730</td>\n",
       "      <td>...</td>\n",
       "      <td>0</td>\n",
       "      <td>0</td>\n",
       "      <td>0</td>\n",
       "      <td>0</td>\n",
       "      <td>0</td>\n",
       "      <td>1</td>\n",
       "      <td>0</td>\n",
       "      <td>0</td>\n",
       "      <td>0</td>\n",
       "      <td>0</td>\n",
       "    </tr>\n",
       "    <tr>\n",
       "      <th>669</th>\n",
       "      <td>30</td>\n",
       "      <td>4.394449</td>\n",
       "      <td>9.358847</td>\n",
       "      <td>1922</td>\n",
       "      <td>7.576097</td>\n",
       "      <td>0.0</td>\n",
       "      <td>0.000000</td>\n",
       "      <td>0.0</td>\n",
       "      <td>6.552508</td>\n",
       "      <td>6.552508</td>\n",
       "      <td>...</td>\n",
       "      <td>0</td>\n",
       "      <td>0</td>\n",
       "      <td>1</td>\n",
       "      <td>0</td>\n",
       "      <td>0</td>\n",
       "      <td>1</td>\n",
       "      <td>0</td>\n",
       "      <td>0</td>\n",
       "      <td>0</td>\n",
       "      <td>0</td>\n",
       "    </tr>\n",
       "  </tbody>\n",
       "</table>\n",
       "<p>5 rows × 104 columns</p>\n",
       "</div>"
      ],
      "text/plain": [
       "    mssubclass  lg_lotfrontage  lg_lotarea  yearbuilt  lg_yearremodadd  \\\n",
       "907         50        4.465908    9.350189       1936         7.594884   \n",
       "782         20        4.219508    9.698061       2001         7.602401   \n",
       "952         85        4.110874    8.881975       1972         7.602900   \n",
       "620         30        3.828641    9.017847       1914         7.576097   \n",
       "669         30        4.394449    9.358847       1922         7.576097   \n",
       "\n",
       "     lg_masvnrarea  lg_bsmtfinsf_first  lg_bsmtfinsf_second  lg_bsmtunfsf  \\\n",
       "907            0.0            5.411646                  0.0      6.678342   \n",
       "782            0.0            0.000000                  0.0      7.254178   \n",
       "952            0.0            6.493754                  0.0      4.691348   \n",
       "620            0.0            3.737670                  0.0      6.714171   \n",
       "669            0.0            0.000000                  0.0      6.552508   \n",
       "\n",
       "     lg_totalbsmtsf  ...  lowqualfinsf_exst  second_flrsf_exst  \\\n",
       "907        6.925595  ...                  0                  1   \n",
       "782        7.254178  ...                  0                  0   \n",
       "952        6.645091  ...                  0                  0   \n",
       "620        6.762730  ...                  0                  0   \n",
       "669        6.552508  ...                  0                  0   \n",
       "\n",
       "     garagearea_exst  wooddecksf_exst  openporchsf_exst  enclosedporch_exst  \\\n",
       "907                1                0                 0                   0   \n",
       "782                1                0                 1                   0   \n",
       "952                1                1                 0                   0   \n",
       "620                0                0                 0                   1   \n",
       "669                1                0                 0                   1   \n",
       "\n",
       "     three_ssnporch_exst  screenporch_exst  poolarea_exst  miscval_exst  \n",
       "907                    0                 1              0             0  \n",
       "782                    0                 0              0             0  \n",
       "952                    0                 0              0             0  \n",
       "620                    0                 0              0             0  \n",
       "669                    0                 0              0             0  \n",
       "\n",
       "[5 rows x 104 columns]"
      ]
     },
     "execution_count": 8,
     "metadata": {},
     "output_type": "execute_result"
    }
   ],
   "source": [
    "X.head()"
   ]
  },
  {
   "cell_type": "code",
   "execution_count": 9,
   "id": "902b5828-9530-4697-8f81-90fd17d301c4",
   "metadata": {},
   "outputs": [
    {
     "data": {
      "text/plain": [
       "907    12.429216\n",
       "782    12.139399\n",
       "952    11.804849\n",
       "620    11.112448\n",
       "669    11.831379\n",
       "Name: price, dtype: float64"
      ]
     },
     "execution_count": 9,
     "metadata": {},
     "output_type": "execute_result"
    }
   ],
   "source": [
    "y.head()"
   ]
  },
  {
   "cell_type": "markdown",
   "id": "b3b7a1da-4142-424b-bb20-3f42f04722b7",
   "metadata": {},
   "source": [
    "### Preprocessors"
   ]
  },
  {
   "cell_type": "code",
   "execution_count": 10,
   "id": "210bf612-0047-488f-99d4-89500dfe8a65",
   "metadata": {},
   "outputs": [],
   "source": [
    "encoder = OrdinalEncoder(\n",
    "    encoding_method='ordered',\n",
    "    variables=categorical_transform,\n",
    "    missing_values='ignore',\n",
    "    unseen='encode'\n",
    ")"
   ]
  },
  {
   "cell_type": "code",
   "execution_count": 11,
   "id": "411740b2-557e-444e-803c-9dd70808fd95",
   "metadata": {},
   "outputs": [],
   "source": [
    "scaler = StandardScaler()"
   ]
  },
  {
   "cell_type": "markdown",
   "id": "d8d463ba-358d-49b0-888b-01ecf8734219",
   "metadata": {},
   "source": [
    "### Common Hyperparameters"
   ]
  },
  {
   "cell_type": "code",
   "execution_count": 12,
   "id": "f3bc1550-4199-4085-8e35-229a20e26f4a",
   "metadata": {},
   "outputs": [],
   "source": [
    "alphas = np.logspace(-3, 3, 30)\n",
    "n_folds = 5"
   ]
  },
  {
   "cell_type": "code",
   "execution_count": 13,
   "id": "8f9aa5fb-5367-497a-a931-b5e481bd8014",
   "metadata": {},
   "outputs": [
    {
     "data": {
      "image/png": "[encoded data removed]",
      "text/plain": [
       "<Figure size 700x200 with 1 Axes>"
      ]
     },
     "metadata": {},
     "output_type": "display_data"
    },
    {
     "name": "stdout",
     "output_type": "stream",
     "text": [
      "Image 'alphas_logspace.png' successfully saved into 'img/Section4-Linear-models-research' directory\n"
     ]
    }
   ],
   "source": [
    "fig = plt.figure(figsize=(7, 2))\n",
    "plt.plot(alphas)\n",
    "# plt.grid(False)\n",
    "plt.title('Alphas logspace')\n",
    "axis_rstyle(\n",
    "    x_ticks=[0, 30, 5],\n",
    "    y_ticks=[0, 1000, 200])\n",
    "plt.ylabel('Alpha')\n",
    "plt.show()\n",
    "\n",
    "savefig('alphas_logspace', dir_save)"
   ]
  },
  {
   "cell_type": "markdown",
   "id": "fb83a097-c187-49c5-8716-f8323b2186ea",
   "metadata": {},
   "source": [
    "### GridSearch"
   ]
  },
  {
   "cell_type": "code",
   "execution_count": 14,
   "id": "0809508c-b68f-46e8-ae6b-8a5d7ae597d6",
   "metadata": {},
   "outputs": [],
   "source": [
    "enet_cv_pipeline = Pipeline([\n",
    "    ('encoder', encoder),\n",
    "    ('scaler', scaler),\n",
    "    ('estimator', ElasticNet(max_iter=100000))\n",
    "])"
   ]
  },
  {
   "cell_type": "code",
   "execution_count": 15,
   "id": "0cb1b973-8458-4226-b5a3-255b09a62c5b",
   "metadata": {},
   "outputs": [
    {
     "data": {
      "text/html": [
       "<style>#sk-container-id-1 {color: black;}#sk-container-id-1 pre{padding: 0;}#sk-container-id-1 div.sk-toggleable {background-color: white;}#sk-container-id-1 label.sk-toggleable__label {cursor: pointer;display: block;width: 100%;margin-bottom: 0;padding: 0.3em;box-sizing: border-box;text-align: center;}#sk-container-id-1 label.sk-toggleable__label-arrow:before {content: \"▸\";float: left;margin-right: 0.25em;color: #696969;}#sk-container-id-1 label.sk-toggleable__label-arrow:hover:before {color: black;}#sk-container-id-1 div.sk-estimator:hover label.sk-toggleable__label-arrow:before {color: black;}#sk-container-id-1 div.sk-toggleable__content {max-height: 0;max-width: 0;overflow: hidden;text-align: left;background-color: #f0f8ff;}#sk-container-id-1 div.sk-toggleable__content pre {margin: 0.2em;color: black;border-radius: 0.25em;background-color: #f0f8ff;}#sk-container-id-1 input.sk-toggleable__control:checked~div.sk-toggleable__content {max-height: 200px;max-width: 100%;overflow: auto;}#sk-container-id-1 input.sk-toggleable__control:checked~label.sk-toggleable__label-arrow:before {content: \"▾\";}#sk-container-id-1 div.sk-estimator input.sk-toggleable__control:checked~label.sk-toggleable__label {background-color: #d4ebff;}#sk-container-id-1 div.sk-label input.sk-toggleable__control:checked~label.sk-toggleable__label {background-color: #d4ebff;}#sk-container-id-1 input.sk-hidden--visually {border: 0;clip: rect(1px 1px 1px 1px);clip: rect(1px, 1px, 1px, 1px);height: 1px;margin: -1px;overflow: hidden;padding: 0;position: absolute;width: 1px;}#sk-container-id-1 div.sk-estimator {font-family: monospace;background-color: #f0f8ff;border: 1px dotted black;border-radius: 0.25em;box-sizing: border-box;margin-bottom: 0.5em;}#sk-container-id-1 div.sk-estimator:hover {background-color: #d4ebff;}#sk-container-id-1 div.sk-parallel-item::after {content: \"\";width: 100%;border-bottom: 1px solid gray;flex-grow: 1;}#sk-container-id-1 div.sk-label:hover label.sk-toggleable__label {background-color: #d4ebff;}#sk-container-id-1 div.sk-serial::before {content: \"\";position: absolute;border-left: 1px solid gray;box-sizing: border-box;top: 0;bottom: 0;left: 50%;z-index: 0;}#sk-container-id-1 div.sk-serial {display: flex;flex-direction: column;align-items: center;background-color: white;padding-right: 0.2em;padding-left: 0.2em;position: relative;}#sk-container-id-1 div.sk-item {position: relative;z-index: 1;}#sk-container-id-1 div.sk-parallel {display: flex;align-items: stretch;justify-content: center;background-color: white;position: relative;}#sk-container-id-1 div.sk-item::before, #sk-container-id-1 div.sk-parallel-item::before {content: \"\";position: absolute;border-left: 1px solid gray;box-sizing: border-box;top: 0;bottom: 0;left: 50%;z-index: -1;}#sk-container-id-1 div.sk-parallel-item {display: flex;flex-direction: column;z-index: 1;position: relative;background-color: white;}#sk-container-id-1 div.sk-parallel-item:first-child::after {align-self: flex-end;width: 50%;}#sk-container-id-1 div.sk-parallel-item:last-child::after {align-self: flex-start;width: 50%;}#sk-container-id-1 div.sk-parallel-item:only-child::after {width: 0;}#sk-container-id-1 div.sk-dashed-wrapped {border: 1px dashed gray;margin: 0 0.4em 0.5em 0.4em;box-sizing: border-box;padding-bottom: 0.4em;background-color: white;}#sk-container-id-1 div.sk-label label {font-family: monospace;font-weight: bold;display: inline-block;line-height: 1.2em;}#sk-container-id-1 div.sk-label-container {text-align: center;}#sk-container-id-1 div.sk-container {/* jupyter's `normalize.less` sets `[hidden] { display: none; }` but bootstrap.min.css set `[hidden] { display: none !important; }` so we also need the `!important` here to be able to override the default hidden behavior on the sphinx rendered scikit-learn.org. See: https://github.com/scikit-learn/scikit-learn/issues/21755 */display: inline-block !important;position: relative;}#sk-container-id-1 div.sk-text-repr-fallback {display: none;}</style><div id=\"sk-container-id-1\" class=\"sk-top-container\"><div class=\"sk-text-repr-fallback\"><pre>Pipeline(steps=[(&#x27;encoder&#x27;,\n",
       "                 OrdinalEncoder(missing_values=&#x27;ignore&#x27;, unseen=&#x27;encode&#x27;,\n",
       "                                variables=[&#x27;mszoning&#x27;, &#x27;street&#x27;, &#x27;alley&#x27;,\n",
       "                                           &#x27;lotshape&#x27;, &#x27;landcontour&#x27;,\n",
       "                                           &#x27;utilities&#x27;, &#x27;lotconfig&#x27;,\n",
       "                                           &#x27;landslope&#x27;, &#x27;neighborhood&#x27;,\n",
       "                                           &#x27;condition_first&#x27;,\n",
       "                                           &#x27;condition_second&#x27;, &#x27;bldgtype&#x27;,\n",
       "                                           &#x27;housestyle&#x27;, &#x27;roofstyle&#x27;,\n",
       "                                           &#x27;roofmatl&#x27;, &#x27;exterior_first&#x27;,\n",
       "                                           &#x27;exterior_second&#x27;, &#x27;masvnrtype&#x27;,\n",
       "                                           &#x27;foundation&#x27;, &#x27;heating&#x27;,\n",
       "                                           &#x27;centralair&#x27;, &#x27;electrical&#x27;,\n",
       "                                           &#x27;paveddrive&#x27;, &#x27;fence&#x27;, &#x27;miscfeature&#x27;,\n",
       "                                           &#x27;saletype&#x27;, &#x27;salecondition&#x27;,\n",
       "                                           &#x27;mssubclass&#x27;])),\n",
       "                (&#x27;scaler&#x27;, StandardScaler()),\n",
       "                (&#x27;estimator&#x27;, ElasticNet(max_iter=100000))])</pre><b>In a Jupyter environment, please rerun this cell to show the HTML representation or trust the notebook. <br />On GitHub, the HTML representation is unable to render, please try loading this page with nbviewer.org.</b></div><div class=\"sk-container\" hidden><div class=\"sk-item sk-dashed-wrapped\"><div class=\"sk-label-container\"><div class=\"sk-label sk-toggleable\"><input class=\"sk-toggleable__control sk-hidden--visually\" id=\"sk-estimator-id-1\" type=\"checkbox\" ><label for=\"sk-estimator-id-1\" class=\"sk-toggleable__label sk-toggleable__label-arrow\">Pipeline</label><div class=\"sk-toggleable__content\"><pre>Pipeline(steps=[(&#x27;encoder&#x27;,\n",
       "                 OrdinalEncoder(missing_values=&#x27;ignore&#x27;, unseen=&#x27;encode&#x27;,\n",
       "                                variables=[&#x27;mszoning&#x27;, &#x27;street&#x27;, &#x27;alley&#x27;,\n",
       "                                           &#x27;lotshape&#x27;, &#x27;landcontour&#x27;,\n",
       "                                           &#x27;utilities&#x27;, &#x27;lotconfig&#x27;,\n",
       "                                           &#x27;landslope&#x27;, &#x27;neighborhood&#x27;,\n",
       "                                           &#x27;condition_first&#x27;,\n",
       "                                           &#x27;condition_second&#x27;, &#x27;bldgtype&#x27;,\n",
       "                                           &#x27;housestyle&#x27;, &#x27;roofstyle&#x27;,\n",
       "                                           &#x27;roofmatl&#x27;, &#x27;exterior_first&#x27;,\n",
       "                                           &#x27;exterior_second&#x27;, &#x27;masvnrtype&#x27;,\n",
       "                                           &#x27;foundation&#x27;, &#x27;heating&#x27;,\n",
       "                                           &#x27;centralair&#x27;, &#x27;electrical&#x27;,\n",
       "                                           &#x27;paveddrive&#x27;, &#x27;fence&#x27;, &#x27;miscfeature&#x27;,\n",
       "                                           &#x27;saletype&#x27;, &#x27;salecondition&#x27;,\n",
       "                                           &#x27;mssubclass&#x27;])),\n",
       "                (&#x27;scaler&#x27;, StandardScaler()),\n",
       "                (&#x27;estimator&#x27;, ElasticNet(max_iter=100000))])</pre></div></div></div><div class=\"sk-serial\"><div class=\"sk-item\"><div class=\"sk-estimator sk-toggleable\"><input class=\"sk-toggleable__control sk-hidden--visually\" id=\"sk-estimator-id-2\" type=\"checkbox\" ><label for=\"sk-estimator-id-2\" class=\"sk-toggleable__label sk-toggleable__label-arrow\">OrdinalEncoder</label><div class=\"sk-toggleable__content\"><pre>OrdinalEncoder(missing_values=&#x27;ignore&#x27;, unseen=&#x27;encode&#x27;,\n",
       "               variables=[&#x27;mszoning&#x27;, &#x27;street&#x27;, &#x27;alley&#x27;, &#x27;lotshape&#x27;,\n",
       "                          &#x27;landcontour&#x27;, &#x27;utilities&#x27;, &#x27;lotconfig&#x27;, &#x27;landslope&#x27;,\n",
       "                          &#x27;neighborhood&#x27;, &#x27;condition_first&#x27;, &#x27;condition_second&#x27;,\n",
       "                          &#x27;bldgtype&#x27;, &#x27;housestyle&#x27;, &#x27;roofstyle&#x27;, &#x27;roofmatl&#x27;,\n",
       "                          &#x27;exterior_first&#x27;, &#x27;exterior_second&#x27;, &#x27;masvnrtype&#x27;,\n",
       "                          &#x27;foundation&#x27;, &#x27;heating&#x27;, &#x27;centralair&#x27;, &#x27;electrical&#x27;,\n",
       "                          &#x27;paveddrive&#x27;, &#x27;fence&#x27;, &#x27;miscfeature&#x27;, &#x27;saletype&#x27;,\n",
       "                          &#x27;salecondition&#x27;, &#x27;mssubclass&#x27;])</pre></div></div></div><div class=\"sk-item\"><div class=\"sk-estimator sk-toggleable\"><input class=\"sk-toggleable__control sk-hidden--visually\" id=\"sk-estimator-id-3\" type=\"checkbox\" ><label for=\"sk-estimator-id-3\" class=\"sk-toggleable__label sk-toggleable__label-arrow\">StandardScaler</label><div class=\"sk-toggleable__content\"><pre>StandardScaler()</pre></div></div></div><div class=\"sk-item\"><div class=\"sk-estimator sk-toggleable\"><input class=\"sk-toggleable__control sk-hidden--visually\" id=\"sk-estimator-id-4\" type=\"checkbox\" ><label for=\"sk-estimator-id-4\" class=\"sk-toggleable__label sk-toggleable__label-arrow\">ElasticNet</label><div class=\"sk-toggleable__content\"><pre>ElasticNet(max_iter=100000)</pre></div></div></div></div></div></div></div>"
      ],
      "text/plain": [
       "Pipeline(steps=[('encoder',\n",
       "                 OrdinalEncoder(missing_values='ignore', unseen='encode',\n",
       "                                variables=['mszoning', 'street', 'alley',\n",
       "                                           'lotshape', 'landcontour',\n",
       "                                           'utilities', 'lotconfig',\n",
       "                                           'landslope', 'neighborhood',\n",
       "                                           'condition_first',\n",
       "                                           'condition_second', 'bldgtype',\n",
       "                                           'housestyle', 'roofstyle',\n",
       "                                           'roofmatl', 'exterior_first',\n",
       "                                           'exterior_second', 'masvnrtype',\n",
       "                                           'foundation', 'heating',\n",
       "                                           'centralair', 'electrical',\n",
       "                                           'paveddrive', 'fence', 'miscfeature',\n",
       "                                           'saletype', 'salecondition',\n",
       "                                           'mssubclass'])),\n",
       "                ('scaler', StandardScaler()),\n",
       "                ('estimator', ElasticNet(max_iter=100000))])"
      ]
     },
     "execution_count": 15,
     "metadata": {},
     "output_type": "execute_result"
    }
   ],
   "source": [
    "enet_cv_pipeline"
   ]
  },
  {
   "cell_type": "code",
   "execution_count": 16,
   "id": "d5495f51-7087-4de0-91c2-a873c8a0505a",
   "metadata": {},
   "outputs": [],
   "source": [
    "enet_params = [{\n",
    "    'estimator__alpha': alphas\n",
    "}]"
   ]
  },
  {
   "cell_type": "code",
   "execution_count": 17,
   "id": "378204c6-95f9-40d1-a36c-07568a3d5253",
   "metadata": {},
   "outputs": [],
   "source": [
    "enet_cv = GridSearchCV(\n",
    "    estimator=enet_cv_pipeline,\n",
    "    param_grid=enet_params,\n",
    "    scoring='neg_root_mean_squared_error',\n",
    "    cv=n_folds,\n",
    "    refit=False\n",
    ")"
   ]
  },
  {
   "cell_type": "code",
   "execution_count": 18,
   "id": "6be5e303-7054-4b96-a457-f75486d93962",
   "metadata": {},
   "outputs": [
    {
     "name": "stdout",
     "output_type": "stream",
     "text": [
      "Execution time: 0:00:37\n"
     ]
    }
   ],
   "source": [
    "st = stopwatch.start()\n",
    "enet_cv.fit(X, y)\n",
    "print(f'Execution time: {stopwatch.stop(st)}')"
   ]
  },
  {
   "cell_type": "code",
   "execution_count": 19,
   "id": "42c78e70-dcad-4025-9144-aab179eb98a2",
   "metadata": {},
   "outputs": [
    {
     "data": {
      "text/plain": [
       "0.11780220227243528"
      ]
     },
     "execution_count": 19,
     "metadata": {},
     "output_type": "execute_result"
    }
   ],
   "source": [
    "enet_cv_best_score = abs(enet_cv.best_score_)\n",
    "enet_cv_best_score"
   ]
  },
  {
   "cell_type": "code",
   "execution_count": 20,
   "id": "fb7ef28d-9780-4ad5-a0c8-59250f639aad",
   "metadata": {},
   "outputs": [
    {
     "data": {
      "text/plain": [
       "{'alpha': 0.001}"
      ]
     },
     "execution_count": 20,
     "metadata": {},
     "output_type": "execute_result"
    }
   ],
   "source": [
    "enet_cv_best_params = {}\n",
    "\n",
    "for key in enet_cv.best_params_.keys():\n",
    "    new_key = key.lstrip('estimator')\n",
    "    new_key = new_key.lstrip('__')\n",
    "    enet_cv_best_params[new_key] = enet_cv.best_params_[key]\n",
    "    \n",
    "enet_cv_best_params"
   ]
  },
  {
   "cell_type": "code",
   "execution_count": 21,
   "id": "20df2b37-c748-4d3f-9c29-e331aaf4a493",
   "metadata": {},
   "outputs": [
    {
     "data": {
      "text/plain": [
       "0"
      ]
     },
     "execution_count": 21,
     "metadata": {},
     "output_type": "execute_result"
    }
   ],
   "source": [
    "enet_cv_best_idx = enet_cv.best_index_\n",
    "enet_cv_best_idx"
   ]
  },
  {
   "cell_type": "code",
   "execution_count": 22,
   "id": "ed865069-8584-40b4-b628-806e4321780c",
   "metadata": {},
   "outputs": [],
   "source": [
    "enet_results = pd.DataFrame(enet_cv.cv_results_)"
   ]
  },
  {
   "cell_type": "code",
   "execution_count": 23,
   "id": "61d7b764-e602-4800-9141-2f2ce2065234",
   "metadata": {},
   "outputs": [
    {
     "data": {
      "text/html": [
       "<div>\n",
       "<style scoped>\n",
       "    .dataframe tbody tr th:only-of-type {\n",
       "        vertical-align: middle;\n",
       "    }\n",
       "\n",
       "    .dataframe tbody tr th {\n",
       "        vertical-align: top;\n",
       "    }\n",
       "\n",
       "    .dataframe thead th {\n",
       "        text-align: right;\n",
       "    }\n",
       "</style>\n",
       "<table border=\"1\" class=\"dataframe\">\n",
       "  <thead>\n",
       "    <tr style=\"text-align: right;\">\n",
       "      <th></th>\n",
       "      <th>mean_fit_time</th>\n",
       "      <th>std_fit_time</th>\n",
       "      <th>mean_score_time</th>\n",
       "      <th>std_score_time</th>\n",
       "      <th>param_estimator__alpha</th>\n",
       "      <th>params</th>\n",
       "      <th>split0_test_score</th>\n",
       "      <th>split1_test_score</th>\n",
       "      <th>split2_test_score</th>\n",
       "      <th>split3_test_score</th>\n",
       "      <th>split4_test_score</th>\n",
       "      <th>mean_test_score</th>\n",
       "      <th>std_test_score</th>\n",
       "      <th>rank_test_score</th>\n",
       "    </tr>\n",
       "  </thead>\n",
       "  <tbody>\n",
       "    <tr>\n",
       "      <th>0</th>\n",
       "      <td>0.258812</td>\n",
       "      <td>0.036204</td>\n",
       "      <td>0.073571</td>\n",
       "      <td>0.004081</td>\n",
       "      <td>0.001</td>\n",
       "      <td>{'estimator__alpha': 0.001}</td>\n",
       "      <td>-0.121056</td>\n",
       "      <td>-0.117530</td>\n",
       "      <td>-0.127069</td>\n",
       "      <td>-0.105913</td>\n",
       "      <td>-0.117443</td>\n",
       "      <td>-0.117802</td>\n",
       "      <td>0.006900</td>\n",
       "      <td>1</td>\n",
       "    </tr>\n",
       "    <tr>\n",
       "      <th>1</th>\n",
       "      <td>0.199593</td>\n",
       "      <td>0.021278</td>\n",
       "      <td>0.072284</td>\n",
       "      <td>0.006058</td>\n",
       "      <td>0.00161</td>\n",
       "      <td>{'estimator__alpha': 0.0016102620275609393}</td>\n",
       "      <td>-0.121724</td>\n",
       "      <td>-0.118353</td>\n",
       "      <td>-0.127824</td>\n",
       "      <td>-0.106611</td>\n",
       "      <td>-0.117451</td>\n",
       "      <td>-0.118393</td>\n",
       "      <td>0.006924</td>\n",
       "      <td>2</td>\n",
       "    </tr>\n",
       "    <tr>\n",
       "      <th>2</th>\n",
       "      <td>0.185872</td>\n",
       "      <td>0.010255</td>\n",
       "      <td>0.071497</td>\n",
       "      <td>0.003569</td>\n",
       "      <td>0.002593</td>\n",
       "      <td>{'estimator__alpha': 0.002592943797404667}</td>\n",
       "      <td>-0.122506</td>\n",
       "      <td>-0.120474</td>\n",
       "      <td>-0.129290</td>\n",
       "      <td>-0.108059</td>\n",
       "      <td>-0.117159</td>\n",
       "      <td>-0.119498</td>\n",
       "      <td>0.006960</td>\n",
       "      <td>3</td>\n",
       "    </tr>\n",
       "    <tr>\n",
       "      <th>3</th>\n",
       "      <td>0.182981</td>\n",
       "      <td>0.011229</td>\n",
       "      <td>0.070548</td>\n",
       "      <td>0.001901</td>\n",
       "      <td>0.004175</td>\n",
       "      <td>{'estimator__alpha': 0.0041753189365604}</td>\n",
       "      <td>-0.123097</td>\n",
       "      <td>-0.122284</td>\n",
       "      <td>-0.130471</td>\n",
       "      <td>-0.108922</td>\n",
       "      <td>-0.116673</td>\n",
       "      <td>-0.120289</td>\n",
       "      <td>0.007181</td>\n",
       "      <td>4</td>\n",
       "    </tr>\n",
       "    <tr>\n",
       "      <th>4</th>\n",
       "      <td>0.175474</td>\n",
       "      <td>0.002874</td>\n",
       "      <td>0.067479</td>\n",
       "      <td>0.002287</td>\n",
       "      <td>0.006723</td>\n",
       "      <td>{'estimator__alpha': 0.006723357536499335}</td>\n",
       "      <td>-0.123214</td>\n",
       "      <td>-0.123222</td>\n",
       "      <td>-0.131506</td>\n",
       "      <td>-0.108492</td>\n",
       "      <td>-0.116150</td>\n",
       "      <td>-0.120517</td>\n",
       "      <td>0.007734</td>\n",
       "      <td>5</td>\n",
       "    </tr>\n",
       "  </tbody>\n",
       "</table>\n",
       "</div>"
      ],
      "text/plain": [
       "   mean_fit_time  std_fit_time  mean_score_time  std_score_time  \\\n",
       "0       0.258812      0.036204         0.073571        0.004081   \n",
       "1       0.199593      0.021278         0.072284        0.006058   \n",
       "2       0.185872      0.010255         0.071497        0.003569   \n",
       "3       0.182981      0.011229         0.070548        0.001901   \n",
       "4       0.175474      0.002874         0.067479        0.002287   \n",
       "\n",
       "  param_estimator__alpha                                       params  \\\n",
       "0                  0.001                  {'estimator__alpha': 0.001}   \n",
       "1                0.00161  {'estimator__alpha': 0.0016102620275609393}   \n",
       "2               0.002593   {'estimator__alpha': 0.002592943797404667}   \n",
       "3               0.004175     {'estimator__alpha': 0.0041753189365604}   \n",
       "4               0.006723   {'estimator__alpha': 0.006723357536499335}   \n",
       "\n",
       "   split0_test_score  split1_test_score  split2_test_score  split3_test_score  \\\n",
       "0          -0.121056          -0.117530          -0.127069          -0.105913   \n",
       "1          -0.121724          -0.118353          -0.127824          -0.106611   \n",
       "2          -0.122506          -0.120474          -0.129290          -0.108059   \n",
       "3          -0.123097          -0.122284          -0.130471          -0.108922   \n",
       "4          -0.123214          -0.123222          -0.131506          -0.108492   \n",
       "\n",
       "   split4_test_score  mean_test_score  std_test_score  rank_test_score  \n",
       "0          -0.117443        -0.117802        0.006900                1  \n",
       "1          -0.117451        -0.118393        0.006924                2  \n",
       "2          -0.117159        -0.119498        0.006960                3  \n",
       "3          -0.116673        -0.120289        0.007181                4  \n",
       "4          -0.116150        -0.120517        0.007734                5  "
      ]
     },
     "execution_count": 23,
     "metadata": {},
     "output_type": "execute_result"
    }
   ],
   "source": [
    "enet_results.head()"
   ]
  },
  {
   "cell_type": "code",
   "execution_count": 24,
   "id": "923316eb-21b8-4f69-a6da-a8120f7c629f",
   "metadata": {},
   "outputs": [],
   "source": [
    "param_cols = [\n",
    "    'param_estimator__alpha'\n",
    "]\n",
    "round_list = [4, 1]"
   ]
  },
  {
   "cell_type": "code",
   "execution_count": 25,
   "id": "8ac06f69-d211-4b54-9c14-8bd62e3463db",
   "metadata": {},
   "outputs": [],
   "source": [
    "# add params compact column\n",
    "enet_results = cv_results_params_transform(\n",
    "    enet_results, param_cols, round_list)"
   ]
  },
  {
   "cell_type": "code",
   "execution_count": 26,
   "id": "6acc7dff-5d9c-4817-b960-fceea3a221be",
   "metadata": {},
   "outputs": [],
   "source": [
    "# abs all numeric\n",
    "enet_results = enet_results.apply(\n",
    "    lambda x: x.abs() if x.dtype.kind in 'iufc' else x)"
   ]
  },
  {
   "cell_type": "code",
   "execution_count": 27,
   "id": "1ea66053-7828-4cb4-9ac1-d54bc4b5d8c8",
   "metadata": {},
   "outputs": [
    {
     "data": {
      "text/plain": [
       "0"
      ]
     },
     "execution_count": 27,
     "metadata": {},
     "output_type": "execute_result"
    }
   ],
   "source": [
    "loc_best_idx = enet_results['mean_test_score']==enet_cv_best_score\n",
    "best_score_idx = enet_results[loc_best_idx].index.item()\n",
    "best_score_idx"
   ]
  },
  {
   "cell_type": "code",
   "execution_count": 28,
   "id": "73307b57-5eb6-4ed0-9504-f01b80efca49",
   "metadata": {},
   "outputs": [
    {
     "data": {
      "text/html": [
       "<div>\n",
       "<style scoped>\n",
       "    .dataframe tbody tr th:only-of-type {\n",
       "        vertical-align: middle;\n",
       "    }\n",
       "\n",
       "    .dataframe tbody tr th {\n",
       "        vertical-align: top;\n",
       "    }\n",
       "\n",
       "    .dataframe thead th {\n",
       "        text-align: right;\n",
       "    }\n",
       "</style>\n",
       "<table border=\"1\" class=\"dataframe\">\n",
       "  <thead>\n",
       "    <tr style=\"text-align: right;\">\n",
       "      <th></th>\n",
       "      <th>parameters</th>\n",
       "      <th>variable</th>\n",
       "      <th>rmse</th>\n",
       "    </tr>\n",
       "  </thead>\n",
       "  <tbody>\n",
       "    <tr>\n",
       "      <th>0</th>\n",
       "      <td>0.001</td>\n",
       "      <td>split0_test_score</td>\n",
       "      <td>0.121056</td>\n",
       "    </tr>\n",
       "    <tr>\n",
       "      <th>1</th>\n",
       "      <td>0.0016</td>\n",
       "      <td>split0_test_score</td>\n",
       "      <td>0.121724</td>\n",
       "    </tr>\n",
       "    <tr>\n",
       "      <th>2</th>\n",
       "      <td>0.0026</td>\n",
       "      <td>split0_test_score</td>\n",
       "      <td>0.122506</td>\n",
       "    </tr>\n",
       "    <tr>\n",
       "      <th>3</th>\n",
       "      <td>0.0042</td>\n",
       "      <td>split0_test_score</td>\n",
       "      <td>0.123097</td>\n",
       "    </tr>\n",
       "    <tr>\n",
       "      <th>4</th>\n",
       "      <td>0.0067</td>\n",
       "      <td>split0_test_score</td>\n",
       "      <td>0.123214</td>\n",
       "    </tr>\n",
       "  </tbody>\n",
       "</table>\n",
       "</div>"
      ],
      "text/plain": [
       "  parameters           variable      rmse\n",
       "0      0.001  split0_test_score  0.121056\n",
       "1     0.0016  split0_test_score  0.121724\n",
       "2     0.0026  split0_test_score  0.122506\n",
       "3     0.0042  split0_test_score  0.123097\n",
       "4     0.0067  split0_test_score  0.123214"
      ]
     },
     "execution_count": 28,
     "metadata": {},
     "output_type": "execute_result"
    }
   ],
   "source": [
    "vars_plot = [\n",
    "    'parameters',\n",
    "    'split0_test_score', 'split1_test_score', 'split2_test_score',\n",
    "    'split3_test_score', 'split4_test_score'\n",
    "]\n",
    "cv_results_prep = pd.melt(\n",
    "    enet_results, id_vars='parameters',\n",
    "    value_vars=vars_plot, value_name='rmse')\n",
    "cv_results_prep.head()"
   ]
  },
  {
   "cell_type": "code",
   "execution_count": 29,
   "id": "c70b9db3-8726-4d67-a5cd-c4697ce04c60",
   "metadata": {},
   "outputs": [
    {
     "data": {
      "image/png": "[encoded data removed]",
      "text/plain": [
       "<Figure size 700x250 with 1 Axes>"
      ]
     },
     "metadata": {},
     "output_type": "display_data"
    },
    {
     "name": "stdout",
     "output_type": "stream",
     "text": [
      "Image 'regularization.png' successfully saved into 'img/Section4-Linear-models-research' directory\n"
     ]
    }
   ],
   "source": [
    "fig, ax = plt.subplots(figsize=(7, 2.5))\n",
    "\n",
    "sns.lineplot(\n",
    "    data=cv_results_prep,\n",
    "    x='parameters',\n",
    "    y='rmse',\n",
    "    err_kws=({'alpha': 0.1})\n",
    ")\n",
    "sns.scatterplot(\n",
    "    data=enet_results[enet_results['rank_test_score']==1],\n",
    "    x='parameters',\n",
    "    y='mean_test_score',\n",
    "    s=50, color=palette[1], facecolor='none',\n",
    "    ec=palette[1], linewidth=1.5, zorder=10, alpha=0.9\n",
    ")\n",
    "plt.xlabel(str.capitalize('Alpha'))\n",
    "plt.ylabel('MRSE')\n",
    "# ax.set_title('Elastic Net: regularization effect')\n",
    "ax.tick_params(axis='x', rotation=60)\n",
    "axis_rstyle(margin=(0.015, 0.25))\n",
    "\n",
    "plt.grid(False)\n",
    "plt.show()\n",
    "\n",
    "savefig('regularization', dir_save)"
   ]
  },
  {
   "cell_type": "markdown",
   "id": "a4b8b9f6-a9db-4ca3-bb4c-63b5112c7599",
   "metadata": {},
   "source": [
    "### ELASTIC NET Model"
   ]
  },
  {
   "cell_type": "code",
   "execution_count": 30,
   "id": "a9097ac3-09d0-470f-8080-bc7cea4b0b55",
   "metadata": {},
   "outputs": [],
   "source": [
    "enet_regressor = ElasticNet(\n",
    "    **enet_cv_best_params,\n",
    "    random_state=seed\n",
    ")"
   ]
  },
  {
   "cell_type": "code",
   "execution_count": 31,
   "id": "fd2b9627-c06b-48c8-a230-6075c71a13a6",
   "metadata": {},
   "outputs": [],
   "source": [
    "enet = Pipeline([\n",
    "    ('encoder', encoder),\n",
    "    ('scaler', scaler),\n",
    "    ('estimator', enet_regressor)\n",
    "])"
   ]
  },
  {
   "cell_type": "code",
   "execution_count": 32,
   "id": "3efa6e37-b8f7-43c3-af31-e7c40f5d6416",
   "metadata": {},
   "outputs": [
    {
     "data": {
      "text/html": [
       "<style>#sk-container-id-2 {color: black;}#sk-container-id-2 pre{padding: 0;}#sk-container-id-2 div.sk-toggleable {background-color: white;}#sk-container-id-2 label.sk-toggleable__label {cursor: pointer;display: block;width: 100%;margin-bottom: 0;padding: 0.3em;box-sizing: border-box;text-align: center;}#sk-container-id-2 label.sk-toggleable__label-arrow:before {content: \"▸\";float: left;margin-right: 0.25em;color: #696969;}#sk-container-id-2 label.sk-toggleable__label-arrow:hover:before {color: black;}#sk-container-id-2 div.sk-estimator:hover label.sk-toggleable__label-arrow:before {color: black;}#sk-container-id-2 div.sk-toggleable__content {max-height: 0;max-width: 0;overflow: hidden;text-align: left;background-color: #f0f8ff;}#sk-container-id-2 div.sk-toggleable__content pre {margin: 0.2em;color: black;border-radius: 0.25em;background-color: #f0f8ff;}#sk-container-id-2 input.sk-toggleable__control:checked~div.sk-toggleable__content {max-height: 200px;max-width: 100%;overflow: auto;}#sk-container-id-2 input.sk-toggleable__control:checked~label.sk-toggleable__label-arrow:before {content: \"▾\";}#sk-container-id-2 div.sk-estimator input.sk-toggleable__control:checked~label.sk-toggleable__label {background-color: #d4ebff;}#sk-container-id-2 div.sk-label input.sk-toggleable__control:checked~label.sk-toggleable__label {background-color: #d4ebff;}#sk-container-id-2 input.sk-hidden--visually {border: 0;clip: rect(1px 1px 1px 1px);clip: rect(1px, 1px, 1px, 1px);height: 1px;margin: -1px;overflow: hidden;padding: 0;position: absolute;width: 1px;}#sk-container-id-2 div.sk-estimator {font-family: monospace;background-color: #f0f8ff;border: 1px dotted black;border-radius: 0.25em;box-sizing: border-box;margin-bottom: 0.5em;}#sk-container-id-2 div.sk-estimator:hover {background-color: #d4ebff;}#sk-container-id-2 div.sk-parallel-item::after {content: \"\";width: 100%;border-bottom: 1px solid gray;flex-grow: 1;}#sk-container-id-2 div.sk-label:hover label.sk-toggleable__label {background-color: #d4ebff;}#sk-container-id-2 div.sk-serial::before {content: \"\";position: absolute;border-left: 1px solid gray;box-sizing: border-box;top: 0;bottom: 0;left: 50%;z-index: 0;}#sk-container-id-2 div.sk-serial {display: flex;flex-direction: column;align-items: center;background-color: white;padding-right: 0.2em;padding-left: 0.2em;position: relative;}#sk-container-id-2 div.sk-item {position: relative;z-index: 1;}#sk-container-id-2 div.sk-parallel {display: flex;align-items: stretch;justify-content: center;background-color: white;position: relative;}#sk-container-id-2 div.sk-item::before, #sk-container-id-2 div.sk-parallel-item::before {content: \"\";position: absolute;border-left: 1px solid gray;box-sizing: border-box;top: 0;bottom: 0;left: 50%;z-index: -1;}#sk-container-id-2 div.sk-parallel-item {display: flex;flex-direction: column;z-index: 1;position: relative;background-color: white;}#sk-container-id-2 div.sk-parallel-item:first-child::after {align-self: flex-end;width: 50%;}#sk-container-id-2 div.sk-parallel-item:last-child::after {align-self: flex-start;width: 50%;}#sk-container-id-2 div.sk-parallel-item:only-child::after {width: 0;}#sk-container-id-2 div.sk-dashed-wrapped {border: 1px dashed gray;margin: 0 0.4em 0.5em 0.4em;box-sizing: border-box;padding-bottom: 0.4em;background-color: white;}#sk-container-id-2 div.sk-label label {font-family: monospace;font-weight: bold;display: inline-block;line-height: 1.2em;}#sk-container-id-2 div.sk-label-container {text-align: center;}#sk-container-id-2 div.sk-container {/* jupyter's `normalize.less` sets `[hidden] { display: none; }` but bootstrap.min.css set `[hidden] { display: none !important; }` so we also need the `!important` here to be able to override the default hidden behavior on the sphinx rendered scikit-learn.org. See: https://github.com/scikit-learn/scikit-learn/issues/21755 */display: inline-block !important;position: relative;}#sk-container-id-2 div.sk-text-repr-fallback {display: none;}</style><div id=\"sk-container-id-2\" class=\"sk-top-container\"><div class=\"sk-text-repr-fallback\"><pre>Pipeline(steps=[(&#x27;encoder&#x27;,\n",
       "                 OrdinalEncoder(missing_values=&#x27;ignore&#x27;, unseen=&#x27;encode&#x27;,\n",
       "                                variables=[&#x27;mszoning&#x27;, &#x27;street&#x27;, &#x27;alley&#x27;,\n",
       "                                           &#x27;lotshape&#x27;, &#x27;landcontour&#x27;,\n",
       "                                           &#x27;utilities&#x27;, &#x27;lotconfig&#x27;,\n",
       "                                           &#x27;landslope&#x27;, &#x27;neighborhood&#x27;,\n",
       "                                           &#x27;condition_first&#x27;,\n",
       "                                           &#x27;condition_second&#x27;, &#x27;bldgtype&#x27;,\n",
       "                                           &#x27;housestyle&#x27;, &#x27;roofstyle&#x27;,\n",
       "                                           &#x27;roofmatl&#x27;, &#x27;exterior_first&#x27;,\n",
       "                                           &#x27;exterior_second&#x27;, &#x27;masvnrtype&#x27;,\n",
       "                                           &#x27;foundation&#x27;, &#x27;heating&#x27;,\n",
       "                                           &#x27;centralair&#x27;, &#x27;electrical&#x27;,\n",
       "                                           &#x27;paveddrive&#x27;, &#x27;fence&#x27;, &#x27;miscfeature&#x27;,\n",
       "                                           &#x27;saletype&#x27;, &#x27;salecondition&#x27;,\n",
       "                                           &#x27;mssubclass&#x27;])),\n",
       "                (&#x27;scaler&#x27;, StandardScaler()),\n",
       "                (&#x27;estimator&#x27;, ElasticNet(alpha=0.001, random_state=42))])</pre><b>In a Jupyter environment, please rerun this cell to show the HTML representation or trust the notebook. <br />On GitHub, the HTML representation is unable to render, please try loading this page with nbviewer.org.</b></div><div class=\"sk-container\" hidden><div class=\"sk-item sk-dashed-wrapped\"><div class=\"sk-label-container\"><div class=\"sk-label sk-toggleable\"><input class=\"sk-toggleable__control sk-hidden--visually\" id=\"sk-estimator-id-5\" type=\"checkbox\" ><label for=\"sk-estimator-id-5\" class=\"sk-toggleable__label sk-toggleable__label-arrow\">Pipeline</label><div class=\"sk-toggleable__content\"><pre>Pipeline(steps=[(&#x27;encoder&#x27;,\n",
       "                 OrdinalEncoder(missing_values=&#x27;ignore&#x27;, unseen=&#x27;encode&#x27;,\n",
       "                                variables=[&#x27;mszoning&#x27;, &#x27;street&#x27;, &#x27;alley&#x27;,\n",
       "                                           &#x27;lotshape&#x27;, &#x27;landcontour&#x27;,\n",
       "                                           &#x27;utilities&#x27;, &#x27;lotconfig&#x27;,\n",
       "                                           &#x27;landslope&#x27;, &#x27;neighborhood&#x27;,\n",
       "                                           &#x27;condition_first&#x27;,\n",
       "                                           &#x27;condition_second&#x27;, &#x27;bldgtype&#x27;,\n",
       "                                           &#x27;housestyle&#x27;, &#x27;roofstyle&#x27;,\n",
       "                                           &#x27;roofmatl&#x27;, &#x27;exterior_first&#x27;,\n",
       "                                           &#x27;exterior_second&#x27;, &#x27;masvnrtype&#x27;,\n",
       "                                           &#x27;foundation&#x27;, &#x27;heating&#x27;,\n",
       "                                           &#x27;centralair&#x27;, &#x27;electrical&#x27;,\n",
       "                                           &#x27;paveddrive&#x27;, &#x27;fence&#x27;, &#x27;miscfeature&#x27;,\n",
       "                                           &#x27;saletype&#x27;, &#x27;salecondition&#x27;,\n",
       "                                           &#x27;mssubclass&#x27;])),\n",
       "                (&#x27;scaler&#x27;, StandardScaler()),\n",
       "                (&#x27;estimator&#x27;, ElasticNet(alpha=0.001, random_state=42))])</pre></div></div></div><div class=\"sk-serial\"><div class=\"sk-item\"><div class=\"sk-estimator sk-toggleable\"><input class=\"sk-toggleable__control sk-hidden--visually\" id=\"sk-estimator-id-6\" type=\"checkbox\" ><label for=\"sk-estimator-id-6\" class=\"sk-toggleable__label sk-toggleable__label-arrow\">OrdinalEncoder</label><div class=\"sk-toggleable__content\"><pre>OrdinalEncoder(missing_values=&#x27;ignore&#x27;, unseen=&#x27;encode&#x27;,\n",
       "               variables=[&#x27;mszoning&#x27;, &#x27;street&#x27;, &#x27;alley&#x27;, &#x27;lotshape&#x27;,\n",
       "                          &#x27;landcontour&#x27;, &#x27;utilities&#x27;, &#x27;lotconfig&#x27;, &#x27;landslope&#x27;,\n",
       "                          &#x27;neighborhood&#x27;, &#x27;condition_first&#x27;, &#x27;condition_second&#x27;,\n",
       "                          &#x27;bldgtype&#x27;, &#x27;housestyle&#x27;, &#x27;roofstyle&#x27;, &#x27;roofmatl&#x27;,\n",
       "                          &#x27;exterior_first&#x27;, &#x27;exterior_second&#x27;, &#x27;masvnrtype&#x27;,\n",
       "                          &#x27;foundation&#x27;, &#x27;heating&#x27;, &#x27;centralair&#x27;, &#x27;electrical&#x27;,\n",
       "                          &#x27;paveddrive&#x27;, &#x27;fence&#x27;, &#x27;miscfeature&#x27;, &#x27;saletype&#x27;,\n",
       "                          &#x27;salecondition&#x27;, &#x27;mssubclass&#x27;])</pre></div></div></div><div class=\"sk-item\"><div class=\"sk-estimator sk-toggleable\"><input class=\"sk-toggleable__control sk-hidden--visually\" id=\"sk-estimator-id-7\" type=\"checkbox\" ><label for=\"sk-estimator-id-7\" class=\"sk-toggleable__label sk-toggleable__label-arrow\">StandardScaler</label><div class=\"sk-toggleable__content\"><pre>StandardScaler()</pre></div></div></div><div class=\"sk-item\"><div class=\"sk-estimator sk-toggleable\"><input class=\"sk-toggleable__control sk-hidden--visually\" id=\"sk-estimator-id-8\" type=\"checkbox\" ><label for=\"sk-estimator-id-8\" class=\"sk-toggleable__label sk-toggleable__label-arrow\">ElasticNet</label><div class=\"sk-toggleable__content\"><pre>ElasticNet(alpha=0.001, random_state=42)</pre></div></div></div></div></div></div></div>"
      ],
      "text/plain": [
       "Pipeline(steps=[('encoder',\n",
       "                 OrdinalEncoder(missing_values='ignore', unseen='encode',\n",
       "                                variables=['mszoning', 'street', 'alley',\n",
       "                                           'lotshape', 'landcontour',\n",
       "                                           'utilities', 'lotconfig',\n",
       "                                           'landslope', 'neighborhood',\n",
       "                                           'condition_first',\n",
       "                                           'condition_second', 'bldgtype',\n",
       "                                           'housestyle', 'roofstyle',\n",
       "                                           'roofmatl', 'exterior_first',\n",
       "                                           'exterior_second', 'masvnrtype',\n",
       "                                           'foundation', 'heating',\n",
       "                                           'centralair', 'electrical',\n",
       "                                           'paveddrive', 'fence', 'miscfeature',\n",
       "                                           'saletype', 'salecondition',\n",
       "                                           'mssubclass'])),\n",
       "                ('scaler', StandardScaler()),\n",
       "                ('estimator', ElasticNet(alpha=0.001, random_state=42))])"
      ]
     },
     "execution_count": 32,
     "metadata": {},
     "output_type": "execute_result"
    }
   ],
   "source": [
    "enet.fit(X,y)"
   ]
  },
  {
   "cell_type": "code",
   "execution_count": 33,
   "id": "9672b318-56f3-4593-8c57-bbd43c208eb0",
   "metadata": {},
   "outputs": [],
   "source": [
    "enet_summary = pd.DataFrame({\n",
    "    'feature': enet.feature_names_in_,\n",
    "    'coeff': enet.named_steps['estimator'].coef_,\n",
    "    'intercept': enet.named_steps['estimator'].intercept_\n",
    "}).sort_values('coeff', key=abs, ascending=False)"
   ]
  },
  {
   "cell_type": "code",
   "execution_count": 34,
   "id": "685a8378-905d-49e0-95c9-860afe4716c0",
   "metadata": {},
   "outputs": [
    {
     "data": {
      "text/plain": [
       "(88, 3)"
      ]
     },
     "execution_count": 34,
     "metadata": {},
     "output_type": "execute_result"
    }
   ],
   "source": [
    "enet_summary[enet_summary['coeff'] != 0].shape"
   ]
  },
  {
   "cell_type": "code",
   "execution_count": 35,
   "id": "4e2bdf31-bb3e-4837-a58a-55735955e034",
   "metadata": {},
   "outputs": [
    {
     "data": {
      "text/html": [
       "<div>\n",
       "<style scoped>\n",
       "    .dataframe tbody tr th:only-of-type {\n",
       "        vertical-align: middle;\n",
       "    }\n",
       "\n",
       "    .dataframe tbody tr th {\n",
       "        vertical-align: top;\n",
       "    }\n",
       "\n",
       "    .dataframe thead th {\n",
       "        text-align: right;\n",
       "    }\n",
       "</style>\n",
       "<table border=\"1\" class=\"dataframe\">\n",
       "  <thead>\n",
       "    <tr style=\"text-align: right;\">\n",
       "      <th></th>\n",
       "      <th>feature</th>\n",
       "      <th>coeff</th>\n",
       "      <th>intercept</th>\n",
       "    </tr>\n",
       "  </thead>\n",
       "  <tbody>\n",
       "    <tr>\n",
       "      <th>13</th>\n",
       "      <td>lg_grlivarea</td>\n",
       "      <td>0.109304</td>\n",
       "      <td>12.024989</td>\n",
       "    </tr>\n",
       "    <tr>\n",
       "      <th>9</th>\n",
       "      <td>lg_totalbsmtsf</td>\n",
       "      <td>0.082895</td>\n",
       "      <td>12.024989</td>\n",
       "    </tr>\n",
       "    <tr>\n",
       "      <th>92</th>\n",
       "      <td>totalbsmtsf_exst</td>\n",
       "      <td>-0.080347</td>\n",
       "      <td>12.024989</td>\n",
       "    </tr>\n",
       "    <tr>\n",
       "      <th>35</th>\n",
       "      <td>overallqual</td>\n",
       "      <td>0.072446</td>\n",
       "      <td>12.024989</td>\n",
       "    </tr>\n",
       "    <tr>\n",
       "      <th>79</th>\n",
       "      <td>lg_flrsfmean</td>\n",
       "      <td>0.051306</td>\n",
       "      <td>12.024989</td>\n",
       "    </tr>\n",
       "    <tr>\n",
       "      <th>34</th>\n",
       "      <td>overallcond</td>\n",
       "      <td>0.043021</td>\n",
       "      <td>12.024989</td>\n",
       "    </tr>\n",
       "    <tr>\n",
       "      <th>60</th>\n",
       "      <td>neighborhood</td>\n",
       "      <td>0.035840</td>\n",
       "      <td>12.024989</td>\n",
       "    </tr>\n",
       "    <tr>\n",
       "      <th>19</th>\n",
       "      <td>kitchenabvgr</td>\n",
       "      <td>-0.034390</td>\n",
       "      <td>12.024989</td>\n",
       "    </tr>\n",
       "    <tr>\n",
       "      <th>2</th>\n",
       "      <td>lg_lotarea</td>\n",
       "      <td>0.031234</td>\n",
       "      <td>12.024989</td>\n",
       "    </tr>\n",
       "    <tr>\n",
       "      <th>6</th>\n",
       "      <td>lg_bsmtfinsf_first</td>\n",
       "      <td>0.027962</td>\n",
       "      <td>12.024989</td>\n",
       "    </tr>\n",
       "  </tbody>\n",
       "</table>\n",
       "</div>"
      ],
      "text/plain": [
       "               feature     coeff  intercept\n",
       "13        lg_grlivarea  0.109304  12.024989\n",
       "9       lg_totalbsmtsf  0.082895  12.024989\n",
       "92    totalbsmtsf_exst -0.080347  12.024989\n",
       "35         overallqual  0.072446  12.024989\n",
       "79        lg_flrsfmean  0.051306  12.024989\n",
       "34         overallcond  0.043021  12.024989\n",
       "60        neighborhood  0.035840  12.024989\n",
       "19        kitchenabvgr -0.034390  12.024989\n",
       "2           lg_lotarea  0.031234  12.024989\n",
       "6   lg_bsmtfinsf_first  0.027962  12.024989"
      ]
     },
     "execution_count": 35,
     "metadata": {},
     "output_type": "execute_result"
    }
   ],
   "source": [
    "enet_summary.head(10)"
   ]
  },
  {
   "cell_type": "markdown",
   "id": "328a315b-5356-41e7-a905-ee4231ca31ba",
   "metadata": {},
   "source": [
    "### Features Research with Elastic Net"
   ]
  },
  {
   "cell_type": "code",
   "execution_count": 36,
   "id": "cf627729-5397-488c-a583-b61cff92ad2b",
   "metadata": {},
   "outputs": [],
   "source": [
    "X_fr = X.copy()"
   ]
  },
  {
   "cell_type": "raw",
   "id": "574254bf-c0bc-4e9d-8a16-dcf847bac1f1",
   "metadata": {},
   "source": [
    "# alphas = np.logspace(-3, -0.3, 30)\n",
    "alphas = np.logspace(-3, 3, 30)"
   ]
  },
  {
   "cell_type": "raw",
   "id": "c9616db9-d940-4bd5-9861-7b488be6c856",
   "metadata": {},
   "source": [
    "len(alphas)"
   ]
  },
  {
   "cell_type": "code",
   "execution_count": 37,
   "id": "98ff9765-78d2-46a7-a67a-abdd7216e934",
   "metadata": {},
   "outputs": [],
   "source": [
    "pipe = Pipeline([\n",
    "    ('encoder', encoder),\n",
    "    ('scaler', scaler),\n",
    "])"
   ]
  },
  {
   "cell_type": "code",
   "execution_count": 38,
   "id": "566b7b7f-f12a-4337-9fd9-53eabe4f23ba",
   "metadata": {},
   "outputs": [],
   "source": [
    "X_fr[features] = pipe.fit_transform(X_fr[features], y)"
   ]
  },
  {
   "cell_type": "code",
   "execution_count": 39,
   "id": "1e2be107-e1c8-4b37-92fa-7938d7593dc9",
   "metadata": {},
   "outputs": [
    {
     "name": "stdout",
     "output_type": "stream",
     "text": [
      "Execution time: 0:00:12\n"
     ]
    }
   ],
   "source": [
    "st = stopwatch.start()\n",
    "results_sim_dict = simulation_enet_features(X_fr, y, alphas)\n",
    "print(f'Execution time: {stopwatch.stop(st)}')"
   ]
  },
  {
   "cell_type": "code",
   "execution_count": 40,
   "id": "892b68b8-0474-4103-b050-6a6a507e3c03",
   "metadata": {},
   "outputs": [],
   "source": [
    "elnet_features_df = pd.DataFrame(results_sim_dict)"
   ]
  },
  {
   "cell_type": "code",
   "execution_count": 41,
   "id": "5cca32f3-93e6-4708-8bbe-39457b4e9d36",
   "metadata": {},
   "outputs": [],
   "source": [
    "# save the list of lists with chosen features by enet in variable\n",
    "features_chosen = elnet_features_df['features_list'].copy()"
   ]
  },
  {
   "cell_type": "code",
   "execution_count": 42,
   "id": "31c56282-1ddb-460c-8bad-599470dd75bd",
   "metadata": {},
   "outputs": [],
   "source": [
    "# modificate column 'features_list': list of strings -> string\n",
    "# for more aesthetic view in df\n",
    "elnet_features_df['features_list'] = \\\n",
    "    elnet_features_df['features_list'].apply(lambda x: ' , '.join(x))"
   ]
  },
  {
   "cell_type": "code",
   "execution_count": 43,
   "id": "eee0cfe6-8722-4ae5-81b9-ed9e96eb778f",
   "metadata": {},
   "outputs": [
    {
     "data": {
      "text/html": [
       "<div>\n",
       "<style scoped>\n",
       "    .dataframe tbody tr th:only-of-type {\n",
       "        vertical-align: middle;\n",
       "    }\n",
       "\n",
       "    .dataframe tbody tr th {\n",
       "        vertical-align: top;\n",
       "    }\n",
       "\n",
       "    .dataframe thead th {\n",
       "        text-align: right;\n",
       "    }\n",
       "</style>\n",
       "<table border=\"1\" class=\"dataframe\">\n",
       "  <thead>\n",
       "    <tr style=\"text-align: right;\">\n",
       "      <th></th>\n",
       "      <th>score</th>\n",
       "      <th>alpha</th>\n",
       "      <th>features_num</th>\n",
       "      <th>vif_max_value</th>\n",
       "      <th>features_list</th>\n",
       "    </tr>\n",
       "  </thead>\n",
       "  <tbody>\n",
       "    <tr>\n",
       "      <th>0</th>\n",
       "      <td>0.106288</td>\n",
       "      <td>0.001000</td>\n",
       "      <td>88</td>\n",
       "      <td>504.2</td>\n",
       "      <td>mssubclass , lg_lotfrontage , lg_lotarea , lg_...</td>\n",
       "    </tr>\n",
       "    <tr>\n",
       "      <th>1</th>\n",
       "      <td>0.107548</td>\n",
       "      <td>0.001610</td>\n",
       "      <td>79</td>\n",
       "      <td>176.2</td>\n",
       "      <td>mssubclass , lg_lotfrontage , lg_lotarea , lg_...</td>\n",
       "    </tr>\n",
       "    <tr>\n",
       "      <th>2</th>\n",
       "      <td>0.109254</td>\n",
       "      <td>0.002593</td>\n",
       "      <td>68</td>\n",
       "      <td>157.3</td>\n",
       "      <td>mssubclass , lg_lotfrontage , lg_lotarea , lg_...</td>\n",
       "    </tr>\n",
       "    <tr>\n",
       "      <th>3</th>\n",
       "      <td>0.110799</td>\n",
       "      <td>0.004175</td>\n",
       "      <td>59</td>\n",
       "      <td>153.3</td>\n",
       "      <td>mssubclass , lg_lotfrontage , lg_lotarea , lg_...</td>\n",
       "    </tr>\n",
       "    <tr>\n",
       "      <th>4</th>\n",
       "      <td>0.112194</td>\n",
       "      <td>0.006723</td>\n",
       "      <td>55</td>\n",
       "      <td>152.8</td>\n",
       "      <td>mssubclass , lg_lotfrontage , lg_lotarea , lg_...</td>\n",
       "    </tr>\n",
       "    <tr>\n",
       "      <th>5</th>\n",
       "      <td>0.113713</td>\n",
       "      <td>0.010826</td>\n",
       "      <td>44</td>\n",
       "      <td>150.7</td>\n",
       "      <td>mssubclass , lg_lotarea , lg_bsmtfinsf_first ,...</td>\n",
       "    </tr>\n",
       "    <tr>\n",
       "      <th>6</th>\n",
       "      <td>0.116445</td>\n",
       "      <td>0.017433</td>\n",
       "      <td>38</td>\n",
       "      <td>150.2</td>\n",
       "      <td>mssubclass , lg_lotarea , lg_bsmtfinsf_first ,...</td>\n",
       "    </tr>\n",
       "    <tr>\n",
       "      <th>7</th>\n",
       "      <td>0.121491</td>\n",
       "      <td>0.028072</td>\n",
       "      <td>33</td>\n",
       "      <td>555.5</td>\n",
       "      <td>mssubclass , lg_lotarea , yearbuilt , lg_bsmtf...</td>\n",
       "    </tr>\n",
       "    <tr>\n",
       "      <th>8</th>\n",
       "      <td>0.130344</td>\n",
       "      <td>0.045204</td>\n",
       "      <td>28</td>\n",
       "      <td>148.3</td>\n",
       "      <td>mssubclass , lg_lotarea , lg_bsmtfinsf_first ,...</td>\n",
       "    </tr>\n",
       "    <tr>\n",
       "      <th>9</th>\n",
       "      <td>0.145161</td>\n",
       "      <td>0.072790</td>\n",
       "      <td>24</td>\n",
       "      <td>250.4</td>\n",
       "      <td>mssubclass , lg_lotarea , lg_yearremodadd , lg...</td>\n",
       "    </tr>\n",
       "    <tr>\n",
       "      <th>10</th>\n",
       "      <td>0.166577</td>\n",
       "      <td>0.117210</td>\n",
       "      <td>14</td>\n",
       "      <td>5.5</td>\n",
       "      <td>mssubclass , lg_lotarea , lg_first_flrsf , gar...</td>\n",
       "    </tr>\n",
       "    <tr>\n",
       "      <th>11</th>\n",
       "      <td>0.197446</td>\n",
       "      <td>0.188739</td>\n",
       "      <td>8</td>\n",
       "      <td>3.5</td>\n",
       "      <td>garagecars , overallqual , bsmtqual , kitchenq...</td>\n",
       "    </tr>\n",
       "    <tr>\n",
       "      <th>12</th>\n",
       "      <td>0.249915</td>\n",
       "      <td>0.303920</td>\n",
       "      <td>5</td>\n",
       "      <td>3.3</td>\n",
       "      <td>garagecars , overallqual , neighborhood , lg_f...</td>\n",
       "    </tr>\n",
       "    <tr>\n",
       "      <th>13</th>\n",
       "      <td>0.336384</td>\n",
       "      <td>0.489390</td>\n",
       "      <td>3</td>\n",
       "      <td>2.3</td>\n",
       "      <td>overallqual , neighborhood , lg_flrsfmean</td>\n",
       "    </tr>\n",
       "  </tbody>\n",
       "</table>\n",
       "</div>"
      ],
      "text/plain": [
       "       score     alpha  features_num  vif_max_value  \\\n",
       "0   0.106288  0.001000            88          504.2   \n",
       "1   0.107548  0.001610            79          176.2   \n",
       "2   0.109254  0.002593            68          157.3   \n",
       "3   0.110799  0.004175            59          153.3   \n",
       "4   0.112194  0.006723            55          152.8   \n",
       "5   0.113713  0.010826            44          150.7   \n",
       "6   0.116445  0.017433            38          150.2   \n",
       "7   0.121491  0.028072            33          555.5   \n",
       "8   0.130344  0.045204            28          148.3   \n",
       "9   0.145161  0.072790            24          250.4   \n",
       "10  0.166577  0.117210            14            5.5   \n",
       "11  0.197446  0.188739             8            3.5   \n",
       "12  0.249915  0.303920             5            3.3   \n",
       "13  0.336384  0.489390             3            2.3   \n",
       "\n",
       "                                        features_list  \n",
       "0   mssubclass , lg_lotfrontage , lg_lotarea , lg_...  \n",
       "1   mssubclass , lg_lotfrontage , lg_lotarea , lg_...  \n",
       "2   mssubclass , lg_lotfrontage , lg_lotarea , lg_...  \n",
       "3   mssubclass , lg_lotfrontage , lg_lotarea , lg_...  \n",
       "4   mssubclass , lg_lotfrontage , lg_lotarea , lg_...  \n",
       "5   mssubclass , lg_lotarea , lg_bsmtfinsf_first ,...  \n",
       "6   mssubclass , lg_lotarea , lg_bsmtfinsf_first ,...  \n",
       "7   mssubclass , lg_lotarea , yearbuilt , lg_bsmtf...  \n",
       "8   mssubclass , lg_lotarea , lg_bsmtfinsf_first ,...  \n",
       "9   mssubclass , lg_lotarea , lg_yearremodadd , lg...  \n",
       "10  mssubclass , lg_lotarea , lg_first_flrsf , gar...  \n",
       "11  garagecars , overallqual , bsmtqual , kitchenq...  \n",
       "12  garagecars , overallqual , neighborhood , lg_f...  \n",
       "13          overallqual , neighborhood , lg_flrsfmean  "
      ]
     },
     "execution_count": 43,
     "metadata": {},
     "output_type": "execute_result"
    }
   ],
   "source": [
    "elnet_features_df[elnet_features_df['features_num'] > 0]"
   ]
  },
  {
   "cell_type": "code",
   "execution_count": 44,
   "id": "f468df1a-690d-4d90-9800-6c714fecb22d",
   "metadata": {},
   "outputs": [],
   "source": [
    "alpha_log = np.log(elnet_features_df['alpha'])"
   ]
  },
  {
   "cell_type": "code",
   "execution_count": 45,
   "id": "28c657df-ad26-44cb-85f3-ea23e279a457",
   "metadata": {},
   "outputs": [
    {
     "data": {
      "image/png": "[encoded data removed]",
      "text/plain": [
       "<Figure size 700x250 with 2 Axes>"
      ]
     },
     "metadata": {},
     "output_type": "display_data"
    },
    {
     "name": "stdout",
     "output_type": "stream",
     "text": [
      "Image 'features_plot.png' successfully saved into 'img/Section4-Linear-models-research' directory\n"
     ]
    }
   ],
   "source": [
    "xup_labels = elnet_features_df['features_num'].values\n",
    "ticks = [int(i) for i in np.arange(-7, 7.1, 1)]\n",
    "\n",
    "fig, ax = plt.subplots(figsize=(7, 2.5))\n",
    "# f = plt.figure(figsize=(7, 2.5))\n",
    "# plt.title('Features by Elastic Net', loc='left', pad=12)\n",
    "plt.scatter(\n",
    "    x=alpha_log, y=elnet_features_df['score'],\n",
    "    ec='face', lw=0, s=10, alpha=0.95)\n",
    "plt.xlabel('log(ALPHA)')\n",
    "plt.ylabel('RMSE')\n",
    "plt.xlim(-7.25, 7.25)\n",
    "plt.ylim(0.08, 0.40)\n",
    "plt.xticks(ticks=ticks, labels=ticks)\n",
    "plt.grid(False)\n",
    "\n",
    "axis_rstyle()\n",
    "# top xaxis\n",
    "xaxis_top = plt.twiny()\n",
    "xaxis_top.set_xlim(-7.25, 7.25)\n",
    "xaxis_top.set_xticks(ticks=alpha_log)\n",
    "xaxis_top.spines['top'].set_position(('outward', 5))\n",
    "xaxis_top.tick_params(left=False, bottom=False, top=False)\n",
    "xaxis_top.set_xticklabels(labels=xup_labels, weight='normal', fontsize=8)\n",
    "xaxis_top.grid(False)\n",
    "xaxis_top.spines['left'].set_visible(False)\n",
    "xaxis_top.spines['bottom'].set_visible(False)\n",
    "# vertical red liness\n",
    "plt.axvline(\n",
    "    -1.65, ymin=0.02, ymax=0.98, linestyle='--',\n",
    "    lw=1, color=palette[1], alpha=0.95)\n",
    "plt.axvline(\n",
    "    -3.55, ymin=0.02, ymax=0.98, linestyle='--',\n",
    "    lw=1, color=palette[1], alpha=0.95)\n",
    "ax.spines['bottom'].set_position(('outward', 12))\n",
    "\n",
    "plt.show()\n",
    "\n",
    "savefig('features_plot', dir_save)"
   ]
  },
  {
   "cell_type": "code",
   "execution_count": 46,
   "id": "9270460b-7438-43d4-a950-90fde6c4ccf0",
   "metadata": {},
   "outputs": [],
   "source": [
    "features_chosen = \\\n",
    "    [element for sublist in features_chosen for element in sublist]"
   ]
  },
  {
   "cell_type": "code",
   "execution_count": 47,
   "id": "64273f1e-7ee4-4fdf-83cf-5099bc9c909a",
   "metadata": {},
   "outputs": [],
   "source": [
    "features_chosen_dict = {i:features_chosen.count(i) for i in features_chosen}"
   ]
  },
  {
   "cell_type": "code",
   "execution_count": 48,
   "id": "2c98bf62-d3a1-473f-a70b-2f83f46d4fde",
   "metadata": {},
   "outputs": [],
   "source": [
    "features_chosen_enet = pd.DataFrame({\n",
    "    'feature': features_chosen_dict.keys(),\n",
    "    'appeared': features_chosen_dict.values()\n",
    "})\n",
    "features_chosen_enet = (features_chosen_enet\n",
    "                        .sort_values('appeared', ascending=False)\n",
    "                        .reset_index(drop=True))"
   ]
  },
  {
   "cell_type": "markdown",
   "id": "edd73962-a0ee-4da1-93e4-d00f7510d616",
   "metadata": {},
   "source": [
    "## Linear Regression for HousePricePredictor"
   ]
  },
  {
   "cell_type": "markdown",
   "id": "d56819e1-aa13-4a30-82f3-1d99afdeacc2",
   "metadata": {},
   "source": [
    "### Features Selection"
   ]
  },
  {
   "cell_type": "markdown",
   "id": "9436f688-26d9-4bf0-a351-961ef9ed1ebc",
   "metadata": {},
   "source": [
    "#### Correlation Matrix"
   ]
  },
  {
   "cell_type": "code",
   "execution_count": 49,
   "id": "a606b238-f117-4fb3-9b5e-8944a1397242",
   "metadata": {},
   "outputs": [],
   "source": [
    "corr_df = train[numeric + ordinal + [target]].corr()"
   ]
  },
  {
   "cell_type": "code",
   "execution_count": 50,
   "id": "65003da7-5c1d-4950-8684-3c7bb5f2543e",
   "metadata": {},
   "outputs": [
    {
     "data": {
      "image/png": "[encoded data removed]",
      "text/plain": [
       "<Figure size 700x300 with 1 Axes>"
      ]
     },
     "metadata": {},
     "output_type": "display_data"
    },
    {
     "name": "stdout",
     "output_type": "stream",
     "text": [
      "Image 'corr_matrix_linear.png' successfully saved into 'img/Section4-Linear-models-research' directory\n"
     ]
    }
   ],
   "source": [
    "fig = plot_corr_matrix(\n",
    "    data=corr_df, target=target, num_features=10,\n",
    "    width=0.7, height=0.3, annot=6.5, labelsize=6.5,\n",
    "    linecolor=theme, full=True, abs_results=True, df=False, df_limit=None)\n",
    "plt.show()\n",
    "\n",
    "savefig('corr_matrix_linear', dir_save, dpi=125)"
   ]
  },
  {
   "cell_type": "code",
   "execution_count": 51,
   "id": "d743e6f2-85fd-4b11-ad98-8b915d318f69",
   "metadata": {},
   "outputs": [
    {
     "data": {
      "text/html": [
       "<div>\n",
       "<style scoped>\n",
       "    .dataframe tbody tr th:only-of-type {\n",
       "        vertical-align: middle;\n",
       "    }\n",
       "\n",
       "    .dataframe tbody tr th {\n",
       "        vertical-align: top;\n",
       "    }\n",
       "\n",
       "    .dataframe thead th {\n",
       "        text-align: right;\n",
       "    }\n",
       "</style>\n",
       "<table border=\"1\" class=\"dataframe\">\n",
       "  <thead>\n",
       "    <tr style=\"text-align: right;\">\n",
       "      <th></th>\n",
       "      <th>feature</th>\n",
       "      <th>appeared</th>\n",
       "    </tr>\n",
       "  </thead>\n",
       "  <tbody>\n",
       "    <tr>\n",
       "      <th>0</th>\n",
       "      <td>overallqual</td>\n",
       "      <td>14</td>\n",
       "    </tr>\n",
       "    <tr>\n",
       "      <th>1</th>\n",
       "      <td>lg_flrsfmean</td>\n",
       "      <td>14</td>\n",
       "    </tr>\n",
       "    <tr>\n",
       "      <th>2</th>\n",
       "      <td>neighborhood</td>\n",
       "      <td>14</td>\n",
       "    </tr>\n",
       "    <tr>\n",
       "      <th>3</th>\n",
       "      <td>garagecars</td>\n",
       "      <td>13</td>\n",
       "    </tr>\n",
       "    <tr>\n",
       "      <th>4</th>\n",
       "      <td>garagefinish</td>\n",
       "      <td>12</td>\n",
       "    </tr>\n",
       "    <tr>\n",
       "      <th>5</th>\n",
       "      <td>bsmtqual</td>\n",
       "      <td>12</td>\n",
       "    </tr>\n",
       "    <tr>\n",
       "      <th>6</th>\n",
       "      <td>kitchenqual</td>\n",
       "      <td>12</td>\n",
       "    </tr>\n",
       "    <tr>\n",
       "      <th>7</th>\n",
       "      <td>exterqual</td>\n",
       "      <td>11</td>\n",
       "    </tr>\n",
       "    <tr>\n",
       "      <th>8</th>\n",
       "      <td>mssubclass</td>\n",
       "      <td>11</td>\n",
       "    </tr>\n",
       "    <tr>\n",
       "      <th>9</th>\n",
       "      <td>lg_first_flrsf</td>\n",
       "      <td>11</td>\n",
       "    </tr>\n",
       "  </tbody>\n",
       "</table>\n",
       "</div>"
      ],
      "text/plain": [
       "          feature  appeared\n",
       "0     overallqual        14\n",
       "1    lg_flrsfmean        14\n",
       "2    neighborhood        14\n",
       "3      garagecars        13\n",
       "4    garagefinish        12\n",
       "5        bsmtqual        12\n",
       "6     kitchenqual        12\n",
       "7       exterqual        11\n",
       "8      mssubclass        11\n",
       "9  lg_first_flrsf        11"
      ]
     },
     "execution_count": 51,
     "metadata": {},
     "output_type": "execute_result"
    }
   ],
   "source": [
    "features_chosen_enet.head(10)"
   ]
  },
  {
   "cell_type": "code",
   "execution_count": 52,
   "id": "0b70267f-f8d6-4d03-84e6-f03327dd37ef",
   "metadata": {},
   "outputs": [
    {
     "data": {
      "text/html": [
       "<div>\n",
       "<style scoped>\n",
       "    .dataframe tbody tr th:only-of-type {\n",
       "        vertical-align: middle;\n",
       "    }\n",
       "\n",
       "    .dataframe tbody tr th {\n",
       "        vertical-align: top;\n",
       "    }\n",
       "\n",
       "    .dataframe thead th {\n",
       "        text-align: right;\n",
       "    }\n",
       "</style>\n",
       "<table border=\"1\" class=\"dataframe\">\n",
       "  <thead>\n",
       "    <tr style=\"text-align: right;\">\n",
       "      <th></th>\n",
       "      <th>feature</th>\n",
       "      <th>coeff</th>\n",
       "      <th>intercept</th>\n",
       "    </tr>\n",
       "  </thead>\n",
       "  <tbody>\n",
       "    <tr>\n",
       "      <th>13</th>\n",
       "      <td>lg_grlivarea</td>\n",
       "      <td>0.109304</td>\n",
       "      <td>12.024989</td>\n",
       "    </tr>\n",
       "    <tr>\n",
       "      <th>9</th>\n",
       "      <td>lg_totalbsmtsf</td>\n",
       "      <td>0.082895</td>\n",
       "      <td>12.024989</td>\n",
       "    </tr>\n",
       "    <tr>\n",
       "      <th>92</th>\n",
       "      <td>totalbsmtsf_exst</td>\n",
       "      <td>-0.080347</td>\n",
       "      <td>12.024989</td>\n",
       "    </tr>\n",
       "    <tr>\n",
       "      <th>35</th>\n",
       "      <td>overallqual</td>\n",
       "      <td>0.072446</td>\n",
       "      <td>12.024989</td>\n",
       "    </tr>\n",
       "    <tr>\n",
       "      <th>79</th>\n",
       "      <td>lg_flrsfmean</td>\n",
       "      <td>0.051306</td>\n",
       "      <td>12.024989</td>\n",
       "    </tr>\n",
       "    <tr>\n",
       "      <th>34</th>\n",
       "      <td>overallcond</td>\n",
       "      <td>0.043021</td>\n",
       "      <td>12.024989</td>\n",
       "    </tr>\n",
       "    <tr>\n",
       "      <th>60</th>\n",
       "      <td>neighborhood</td>\n",
       "      <td>0.035840</td>\n",
       "      <td>12.024989</td>\n",
       "    </tr>\n",
       "    <tr>\n",
       "      <th>19</th>\n",
       "      <td>kitchenabvgr</td>\n",
       "      <td>-0.034390</td>\n",
       "      <td>12.024989</td>\n",
       "    </tr>\n",
       "    <tr>\n",
       "      <th>2</th>\n",
       "      <td>lg_lotarea</td>\n",
       "      <td>0.031234</td>\n",
       "      <td>12.024989</td>\n",
       "    </tr>\n",
       "    <tr>\n",
       "      <th>6</th>\n",
       "      <td>lg_bsmtfinsf_first</td>\n",
       "      <td>0.027962</td>\n",
       "      <td>12.024989</td>\n",
       "    </tr>\n",
       "    <tr>\n",
       "      <th>23</th>\n",
       "      <td>garagecars</td>\n",
       "      <td>0.025688</td>\n",
       "      <td>12.024989</td>\n",
       "    </tr>\n",
       "    <tr>\n",
       "      <th>49</th>\n",
       "      <td>functional</td>\n",
       "      <td>0.023481</td>\n",
       "      <td>12.024989</td>\n",
       "    </tr>\n",
       "    <tr>\n",
       "      <th>85</th>\n",
       "      <td>houseage</td>\n",
       "      <td>-0.022885</td>\n",
       "      <td>12.024989</td>\n",
       "    </tr>\n",
       "    <tr>\n",
       "      <th>98</th>\n",
       "      <td>openporchsf_exst</td>\n",
       "      <td>-0.022587</td>\n",
       "      <td>12.024989</td>\n",
       "    </tr>\n",
       "    <tr>\n",
       "      <th>26</th>\n",
       "      <td>lg_openporchsf</td>\n",
       "      <td>0.021870</td>\n",
       "      <td>12.024989</td>\n",
       "    </tr>\n",
       "  </tbody>\n",
       "</table>\n",
       "</div>"
      ],
      "text/plain": [
       "               feature     coeff  intercept\n",
       "13        lg_grlivarea  0.109304  12.024989\n",
       "9       lg_totalbsmtsf  0.082895  12.024989\n",
       "92    totalbsmtsf_exst -0.080347  12.024989\n",
       "35         overallqual  0.072446  12.024989\n",
       "79        lg_flrsfmean  0.051306  12.024989\n",
       "34         overallcond  0.043021  12.024989\n",
       "60        neighborhood  0.035840  12.024989\n",
       "19        kitchenabvgr -0.034390  12.024989\n",
       "2           lg_lotarea  0.031234  12.024989\n",
       "6   lg_bsmtfinsf_first  0.027962  12.024989\n",
       "23          garagecars  0.025688  12.024989\n",
       "49          functional  0.023481  12.024989\n",
       "85            houseage -0.022885  12.024989\n",
       "98    openporchsf_exst -0.022587  12.024989\n",
       "26      lg_openporchsf  0.021870  12.024989"
      ]
     },
     "execution_count": 52,
     "metadata": {},
     "output_type": "execute_result"
    }
   ],
   "source": [
    "enet_summary.head(15)"
   ]
  },
  {
   "cell_type": "code",
   "execution_count": 53,
   "id": "5dde3242-44bc-4aa2-8a3c-628a7739e1f7",
   "metadata": {},
   "outputs": [
    {
     "name": "stdout",
     "output_type": "stream",
     "text": [
      "['overallqual', 'lg_flrsfmean', 'neighborhood', 'garagecars', 'garagefinish', 'bsmtqual', 'kitchenqual', 'exterqual', 'mssubclass', 'lg_first_flrsf', 'modage', 'lg_lotarea', 'lg_bsmtfullbath', 'lg_grlivarea', 'fireplacequ', 'houseage', 'fireplaces', 'lg_bsmtfinsf_first', 'salecondition', 'centralair', 'bsmtexposure', 'functional', 'heatingqc', 'mszoning', 'overallcond', 'saletype', 'condition_first', 'garageage', 'exterior_first', 'kitchensize', 'foundation', 'poolqc', 'landcontour', 'roofstyle', 'bsmtfintype_first', 'paveddrive', 'kitchenabvgr', 'lg_wooddecksf', 'lg_screenporch', 'fence', 'totrmsabvgrd', 'fullbath', 'street', 'lotshape', 'utilities', 'halfbath', 'masvnrtype', 'roofmatl', 'bathsfracbedr', 'heating', 'alley', 'lotconfig', 'yrsold', 'lg_lotfrontage', 'garagetype', 'garagequal', 'miscval_exst', 'masvnrarea_exst', 'bsmtfinsf_second_exst', 'totalbsmtsf_exst', 'electrical', 'lg_bsmtunfsf', 'mosold', 'landslope', 'lg_totalbsmtsf', 'openporchsf_exst', 'three_ssnporch_exst', 'exterior_second', 'housestyle', 'extercond', 'second_flrsf_exst', 'yearremodadd_exst', 'kitchenfracrms', 'miscfeature', 'lg_openporchsf', 'bsmtfintype_second', 'lg_enclosedporch', 'miscval', 'bedroomabvgr', 'wooddecksf_exst', 'yearbuilt', 'bedroomfracrms', 'garagecond', 'bsmtcond', 'lg_bsmthalfbath', 'garagearea_exst', 'lowqualfinsf_exst', 'bsmtfinsf_first_exst', 'bedroomsize', 'lg_masvnrarea', 'lg_yearremodadd']\n"
     ]
    }
   ],
   "source": [
    "print(features_chosen_enet['feature'].tolist())"
   ]
  },
  {
   "cell_type": "code",
   "execution_count": 54,
   "id": "86960552-65f8-4c41-bfb4-2fd751486f01",
   "metadata": {},
   "outputs": [
    {
     "name": "stdout",
     "output_type": "stream",
     "text": [
      "['mszoning', 'street', 'alley', 'lotshape', 'landcontour', 'utilities', 'lotconfig', 'landslope', 'neighborhood', 'condition_first', 'condition_second', 'bldgtype', 'housestyle', 'roofstyle', 'roofmatl', 'exterior_first', 'exterior_second', 'masvnrtype', 'foundation', 'heating', 'centralair', 'electrical', 'paveddrive', 'fence', 'miscfeature', 'saletype', 'salecondition', 'mssubclass']\n"
     ]
    }
   ],
   "source": [
    "print(categorical)"
   ]
  },
  {
   "cell_type": "code",
   "execution_count": 55,
   "id": "697469fb-a06e-4f63-80fc-aa0dccbde937",
   "metadata": {},
   "outputs": [],
   "source": [
    "features_linear = [\n",
    "    'lg_flrsfmean', 'overallqual', 'houseage',\n",
    "    'lg_lotarea', 'overallcond', 'bsmtqual',\n",
    "    'garagecars', 'kitchenqual', 'exterqual',  \n",
    "]"
   ]
  },
  {
   "cell_type": "code",
   "execution_count": 56,
   "id": "d90dae78-e409-45bc-bb26-318cc7b47b6a",
   "metadata": {},
   "outputs": [
    {
     "data": {
      "text/plain": [
       "9"
      ]
     },
     "execution_count": 56,
     "metadata": {},
     "output_type": "execute_result"
    }
   ],
   "source": [
    "len(features_linear)"
   ]
  },
  {
   "cell_type": "code",
   "execution_count": 57,
   "id": "d3feeab3-0c1e-43c2-9f9f-488ec4618423",
   "metadata": {},
   "outputs": [],
   "source": [
    "data = train[features_linear + [target]].copy()"
   ]
  },
  {
   "cell_type": "code",
   "execution_count": 58,
   "id": "6e088f9d-77f3-4f57-a5f0-9c209047c203",
   "metadata": {},
   "outputs": [],
   "source": [
    "data_raw = data.copy()"
   ]
  },
  {
   "cell_type": "code",
   "execution_count": 59,
   "id": "ef1589ff-5835-4f0a-8348-a48ca10dc938",
   "metadata": {},
   "outputs": [],
   "source": [
    "data_cv = train_cv[features_linear + [target]].copy()"
   ]
  },
  {
   "cell_type": "markdown",
   "id": "26f5895c-8228-4019-8a86-81893264931d",
   "metadata": {},
   "source": [
    "### Cut outliers"
   ]
  },
  {
   "cell_type": "code",
   "execution_count": 60,
   "id": "87eb1dd3-4175-459a-83f7-bfe80d49441b",
   "metadata": {},
   "outputs": [
    {
     "data": {
      "text/plain": [
       "(1311, 10)"
      ]
     },
     "execution_count": 60,
     "metadata": {},
     "output_type": "execute_result"
    }
   ],
   "source": [
    "data.shape"
   ]
  },
  {
   "cell_type": "code",
   "execution_count": 61,
   "id": "d5ed50d1-6617-4b69-bd35-ac970290ab3a",
   "metadata": {},
   "outputs": [
    {
     "data": {
      "image/png": "[encoded data removed]",
      "text/plain": [
       "<Figure size 800x250 with 1 Axes>"
      ]
     },
     "metadata": {},
     "output_type": "display_data"
    }
   ],
   "source": [
    "sns.histplot(data[target], bins=42, alpha=1);"
   ]
  },
  {
   "cell_type": "code",
   "execution_count": 62,
   "id": "aec4616d-87b5-4bd4-99ce-09fd4968dbae",
   "metadata": {},
   "outputs": [],
   "source": [
    "target_trim = OutlierTrimmer(\n",
    "    capping_method='iqr',\n",
    "    tail='both',\n",
    "    fold=1.5,\n",
    "    variables=target)"
   ]
  },
  {
   "cell_type": "code",
   "execution_count": 63,
   "id": "dd2159b7-3fae-4c71-b02e-6601ef049d55",
   "metadata": {},
   "outputs": [
    {
     "data": {
      "text/html": [
       "<style>#sk-container-id-3 {color: black;}#sk-container-id-3 pre{padding: 0;}#sk-container-id-3 div.sk-toggleable {background-color: white;}#sk-container-id-3 label.sk-toggleable__label {cursor: pointer;display: block;width: 100%;margin-bottom: 0;padding: 0.3em;box-sizing: border-box;text-align: center;}#sk-container-id-3 label.sk-toggleable__label-arrow:before {content: \"▸\";float: left;margin-right: 0.25em;color: #696969;}#sk-container-id-3 label.sk-toggleable__label-arrow:hover:before {color: black;}#sk-container-id-3 div.sk-estimator:hover label.sk-toggleable__label-arrow:before {color: black;}#sk-container-id-3 div.sk-toggleable__content {max-height: 0;max-width: 0;overflow: hidden;text-align: left;background-color: #f0f8ff;}#sk-container-id-3 div.sk-toggleable__content pre {margin: 0.2em;color: black;border-radius: 0.25em;background-color: #f0f8ff;}#sk-container-id-3 input.sk-toggleable__control:checked~div.sk-toggleable__content {max-height: 200px;max-width: 100%;overflow: auto;}#sk-container-id-3 input.sk-toggleable__control:checked~label.sk-toggleable__label-arrow:before {content: \"▾\";}#sk-container-id-3 div.sk-estimator input.sk-toggleable__control:checked~label.sk-toggleable__label {background-color: #d4ebff;}#sk-container-id-3 div.sk-label input.sk-toggleable__control:checked~label.sk-toggleable__label {background-color: #d4ebff;}#sk-container-id-3 input.sk-hidden--visually {border: 0;clip: rect(1px 1px 1px 1px);clip: rect(1px, 1px, 1px, 1px);height: 1px;margin: -1px;overflow: hidden;padding: 0;position: absolute;width: 1px;}#sk-container-id-3 div.sk-estimator {font-family: monospace;background-color: #f0f8ff;border: 1px dotted black;border-radius: 0.25em;box-sizing: border-box;margin-bottom: 0.5em;}#sk-container-id-3 div.sk-estimator:hover {background-color: #d4ebff;}#sk-container-id-3 div.sk-parallel-item::after {content: \"\";width: 100%;border-bottom: 1px solid gray;flex-grow: 1;}#sk-container-id-3 div.sk-label:hover label.sk-toggleable__label {background-color: #d4ebff;}#sk-container-id-3 div.sk-serial::before {content: \"\";position: absolute;border-left: 1px solid gray;box-sizing: border-box;top: 0;bottom: 0;left: 50%;z-index: 0;}#sk-container-id-3 div.sk-serial {display: flex;flex-direction: column;align-items: center;background-color: white;padding-right: 0.2em;padding-left: 0.2em;position: relative;}#sk-container-id-3 div.sk-item {position: relative;z-index: 1;}#sk-container-id-3 div.sk-parallel {display: flex;align-items: stretch;justify-content: center;background-color: white;position: relative;}#sk-container-id-3 div.sk-item::before, #sk-container-id-3 div.sk-parallel-item::before {content: \"\";position: absolute;border-left: 1px solid gray;box-sizing: border-box;top: 0;bottom: 0;left: 50%;z-index: -1;}#sk-container-id-3 div.sk-parallel-item {display: flex;flex-direction: column;z-index: 1;position: relative;background-color: white;}#sk-container-id-3 div.sk-parallel-item:first-child::after {align-self: flex-end;width: 50%;}#sk-container-id-3 div.sk-parallel-item:last-child::after {align-self: flex-start;width: 50%;}#sk-container-id-3 div.sk-parallel-item:only-child::after {width: 0;}#sk-container-id-3 div.sk-dashed-wrapped {border: 1px dashed gray;margin: 0 0.4em 0.5em 0.4em;box-sizing: border-box;padding-bottom: 0.4em;background-color: white;}#sk-container-id-3 div.sk-label label {font-family: monospace;font-weight: bold;display: inline-block;line-height: 1.2em;}#sk-container-id-3 div.sk-label-container {text-align: center;}#sk-container-id-3 div.sk-container {/* jupyter's `normalize.less` sets `[hidden] { display: none; }` but bootstrap.min.css set `[hidden] { display: none !important; }` so we also need the `!important` here to be able to override the default hidden behavior on the sphinx rendered scikit-learn.org. See: https://github.com/scikit-learn/scikit-learn/issues/21755 */display: inline-block !important;position: relative;}#sk-container-id-3 div.sk-text-repr-fallback {display: none;}</style><div id=\"sk-container-id-3\" class=\"sk-top-container\"><div class=\"sk-text-repr-fallback\"><pre>OutlierTrimmer(capping_method=&#x27;iqr&#x27;, fold=1.5, tail=&#x27;both&#x27;, variables=&#x27;price&#x27;)</pre><b>In a Jupyter environment, please rerun this cell to show the HTML representation or trust the notebook. <br />On GitHub, the HTML representation is unable to render, please try loading this page with nbviewer.org.</b></div><div class=\"sk-container\" hidden><div class=\"sk-item\"><div class=\"sk-estimator sk-toggleable\"><input class=\"sk-toggleable__control sk-hidden--visually\" id=\"sk-estimator-id-9\" type=\"checkbox\" checked><label for=\"sk-estimator-id-9\" class=\"sk-toggleable__label sk-toggleable__label-arrow\">OutlierTrimmer</label><div class=\"sk-toggleable__content\"><pre>OutlierTrimmer(capping_method=&#x27;iqr&#x27;, fold=1.5, tail=&#x27;both&#x27;, variables=&#x27;price&#x27;)</pre></div></div></div></div></div>"
      ],
      "text/plain": [
       "OutlierTrimmer(capping_method='iqr', fold=1.5, tail='both', variables='price')"
      ]
     },
     "execution_count": 63,
     "metadata": {},
     "output_type": "execute_result"
    }
   ],
   "source": [
    "target_trim.fit(data)"
   ]
  },
  {
   "cell_type": "code",
   "execution_count": 64,
   "id": "0831092c-aa51-41aa-94d8-5660b09247c8",
   "metadata": {},
   "outputs": [],
   "source": [
    "data = target_trim.transform(data)"
   ]
  },
  {
   "cell_type": "code",
   "execution_count": 65,
   "id": "67810e56-61fd-449d-8995-f8b35e5c0f7c",
   "metadata": {},
   "outputs": [
    {
     "data": {
      "image/png": "[encoded data removed]",
      "text/plain": [
       "<Figure size 800x250 with 1 Axes>"
      ]
     },
     "metadata": {},
     "output_type": "display_data"
    }
   ],
   "source": [
    "sns.histplot(data[target], bins=42, alpha=1);"
   ]
  },
  {
   "cell_type": "code",
   "execution_count": 66,
   "id": "5077d015-2fe1-4dd4-bc92-65d97ac76c6d",
   "metadata": {},
   "outputs": [
    {
     "data": {
      "text/plain": [
       "(1287, 10)"
      ]
     },
     "execution_count": 66,
     "metadata": {},
     "output_type": "execute_result"
    }
   ],
   "source": [
    "data.shape"
   ]
  },
  {
   "cell_type": "markdown",
   "id": "cb3de343-25be-4f27-818e-6da455b809b1",
   "metadata": {},
   "source": [
    "#### LINEAR REGRESSION"
   ]
  },
  {
   "cell_type": "code",
   "execution_count": 67,
   "id": "837846ab-9685-4936-a54a-38bee04dad69",
   "metadata": {},
   "outputs": [
    {
     "data": {
      "text/html": [
       "<div>\n",
       "<style scoped>\n",
       "    .dataframe tbody tr th:only-of-type {\n",
       "        vertical-align: middle;\n",
       "    }\n",
       "\n",
       "    .dataframe tbody tr th {\n",
       "        vertical-align: top;\n",
       "    }\n",
       "\n",
       "    .dataframe thead th {\n",
       "        text-align: right;\n",
       "    }\n",
       "</style>\n",
       "<table border=\"1\" class=\"dataframe\">\n",
       "  <thead>\n",
       "    <tr style=\"text-align: right;\">\n",
       "      <th></th>\n",
       "      <th>lg_flrsfmean</th>\n",
       "      <th>overallqual</th>\n",
       "      <th>houseage</th>\n",
       "      <th>lg_lotarea</th>\n",
       "      <th>overallcond</th>\n",
       "      <th>bsmtqual</th>\n",
       "      <th>garagecars</th>\n",
       "      <th>kitchenqual</th>\n",
       "      <th>exterqual</th>\n",
       "      <th>price</th>\n",
       "    </tr>\n",
       "  </thead>\n",
       "  <tbody>\n",
       "    <tr>\n",
       "      <th>907</th>\n",
       "      <td>0.890837</td>\n",
       "      <td>0.658296</td>\n",
       "      <td>1.086695</td>\n",
       "      <td>0.460637</td>\n",
       "      <td>1.282781</td>\n",
       "      <td>0.589113</td>\n",
       "      <td>-1.035399</td>\n",
       "      <td>0.751124</td>\n",
       "      <td>1.063566</td>\n",
       "      <td>12.429216</td>\n",
       "    </tr>\n",
       "    <tr>\n",
       "      <th>782</th>\n",
       "      <td>0.208510</td>\n",
       "      <td>0.658296</td>\n",
       "      <td>-0.946281</td>\n",
       "      <td>1.132222</td>\n",
       "      <td>-0.519712</td>\n",
       "      <td>0.589113</td>\n",
       "      <td>0.312573</td>\n",
       "      <td>0.751124</td>\n",
       "      <td>1.063566</td>\n",
       "      <td>12.139399</td>\n",
       "    </tr>\n",
       "    <tr>\n",
       "      <th>952</th>\n",
       "      <td>-1.915383</td>\n",
       "      <td>-0.805701</td>\n",
       "      <td>0.004627</td>\n",
       "      <td>-0.443275</td>\n",
       "      <td>2.184027</td>\n",
       "      <td>0.589113</td>\n",
       "      <td>-1.035399</td>\n",
       "      <td>-0.768511</td>\n",
       "      <td>-0.692523</td>\n",
       "      <td>11.804849</td>\n",
       "    </tr>\n",
       "    <tr>\n",
       "      <th>620</th>\n",
       "      <td>-1.513143</td>\n",
       "      <td>-2.269698</td>\n",
       "      <td>1.873653</td>\n",
       "      <td>-0.180967</td>\n",
       "      <td>-2.322204</td>\n",
       "      <td>-0.561896</td>\n",
       "      <td>-2.383371</td>\n",
       "      <td>-0.768511</td>\n",
       "      <td>-0.692523</td>\n",
       "      <td>11.112448</td>\n",
       "    </tr>\n",
       "    <tr>\n",
       "      <th>669</th>\n",
       "      <td>-0.448245</td>\n",
       "      <td>-1.537699</td>\n",
       "      <td>1.545754</td>\n",
       "      <td>0.477350</td>\n",
       "      <td>-0.519712</td>\n",
       "      <td>-1.712905</td>\n",
       "      <td>-1.035399</td>\n",
       "      <td>-2.288146</td>\n",
       "      <td>-0.692523</td>\n",
       "      <td>11.831379</td>\n",
       "    </tr>\n",
       "  </tbody>\n",
       "</table>\n",
       "</div>"
      ],
      "text/plain": [
       "     lg_flrsfmean  overallqual  houseage  lg_lotarea  overallcond  bsmtqual  \\\n",
       "907      0.890837     0.658296  1.086695    0.460637     1.282781  0.589113   \n",
       "782      0.208510     0.658296 -0.946281    1.132222    -0.519712  0.589113   \n",
       "952     -1.915383    -0.805701  0.004627   -0.443275     2.184027  0.589113   \n",
       "620     -1.513143    -2.269698  1.873653   -0.180967    -2.322204 -0.561896   \n",
       "669     -0.448245    -1.537699  1.545754    0.477350    -0.519712 -1.712905   \n",
       "\n",
       "     garagecars  kitchenqual  exterqual      price  \n",
       "907   -1.035399     0.751124   1.063566  12.429216  \n",
       "782    0.312573     0.751124   1.063566  12.139399  \n",
       "952   -1.035399    -0.768511  -0.692523  11.804849  \n",
       "620   -2.383371    -0.768511  -0.692523  11.112448  \n",
       "669   -1.035399    -2.288146  -0.692523  11.831379  "
      ]
     },
     "execution_count": 67,
     "metadata": {},
     "output_type": "execute_result"
    }
   ],
   "source": [
    "data.head()"
   ]
  },
  {
   "cell_type": "code",
   "execution_count": 68,
   "id": "b9c6213c-2719-46c5-b0eb-9796c8923824",
   "metadata": {},
   "outputs": [],
   "source": [
    "data, formula = lr_model_data_formula(\n",
    "    data=data, target='price', predictors=features_linear)"
   ]
  },
  {
   "cell_type": "code",
   "execution_count": 69,
   "id": "7e0bcfc7-f170-4a62-b28a-f49f7260e35b",
   "metadata": {},
   "outputs": [
    {
     "data": {
      "text/plain": [
       "(1287, 10)"
      ]
     },
     "execution_count": 69,
     "metadata": {},
     "output_type": "execute_result"
    }
   ],
   "source": [
    "data.shape"
   ]
  },
  {
   "cell_type": "code",
   "execution_count": 70,
   "id": "e5ab6ace-55ae-44c0-b7fb-8eca75297a00",
   "metadata": {},
   "outputs": [
    {
     "data": {
      "text/plain": [
       "'price ~ lg_flrsfmean + overallqual + houseage + lg_lotarea + overallcond + bsmtqual + garagecars + kitchenqual + exterqual'"
      ]
     },
     "execution_count": 70,
     "metadata": {},
     "output_type": "execute_result"
    }
   ],
   "source": [
    "formula"
   ]
  },
  {
   "cell_type": "code",
   "execution_count": 71,
   "id": "a7ad5d8e-7926-4b7f-8ff8-09004caa6077",
   "metadata": {},
   "outputs": [],
   "source": [
    "# cov_type='HC3' - for robust confidence intervals (in case of heteroscedasticity)\n",
    "lr = smf.ols(formula=formula, data=data).fit(cov_type='HC3')"
   ]
  },
  {
   "cell_type": "code",
   "execution_count": 72,
   "id": "e88a8083-2e72-4438-85f3-72181b8944c7",
   "metadata": {},
   "outputs": [
    {
     "data": {
      "text/html": [
       "<table class=\"simpletable\">\n",
       "<caption>OLS Regression Results</caption>\n",
       "<tr>\n",
       "  <th>Dep. Variable:</th>          <td>price</td>      <th>  R-squared:         </th> <td>   0.883</td>\n",
       "</tr>\n",
       "<tr>\n",
       "  <th>Model:</th>                   <td>OLS</td>       <th>  Adj. R-squared:    </th> <td>   0.882</td>\n",
       "</tr>\n",
       "<tr>\n",
       "  <th>Method:</th>             <td>Least Squares</td>  <th>  F-statistic:       </th> <td>   1079.</td>\n",
       "</tr>\n",
       "<tr>\n",
       "  <th>Date:</th>             <td>Fri, 16 Feb 2024</td> <th>  Prob (F-statistic):</th>  <td>  0.00</td> \n",
       "</tr>\n",
       "<tr>\n",
       "  <th>Time:</th>                 <td>12:05:30</td>     <th>  Log-Likelihood:    </th> <td>  857.47</td>\n",
       "</tr>\n",
       "<tr>\n",
       "  <th>No. Observations:</th>      <td>  1287</td>      <th>  AIC:               </th> <td>  -1695.</td>\n",
       "</tr>\n",
       "<tr>\n",
       "  <th>Df Residuals:</th>          <td>  1277</td>      <th>  BIC:               </th> <td>  -1643.</td>\n",
       "</tr>\n",
       "<tr>\n",
       "  <th>Df Model:</th>              <td>     9</td>      <th>                     </th>     <td> </td>   \n",
       "</tr>\n",
       "<tr>\n",
       "  <th>Covariance Type:</th>         <td>HC3</td>       <th>                     </th>     <td> </td>   \n",
       "</tr>\n",
       "</table>\n",
       "<table class=\"simpletable\">\n",
       "<tr>\n",
       "        <td></td>          <th>coef</th>     <th>std err</th>      <th>z</th>      <th>P>|z|</th>  <th>[0.025</th>    <th>0.975]</th>  \n",
       "</tr>\n",
       "<tr>\n",
       "  <th>Intercept</th>    <td>   12.0263</td> <td>    0.004</td> <td> 3422.955</td> <td> 0.000</td> <td>   12.019</td> <td>   12.033</td>\n",
       "</tr>\n",
       "<tr>\n",
       "  <th>lg_flrsfmean</th> <td>    0.1444</td> <td>    0.005</td> <td>   26.261</td> <td> 0.000</td> <td>    0.134</td> <td>    0.155</td>\n",
       "</tr>\n",
       "<tr>\n",
       "  <th>overallqual</th>  <td>    0.0880</td> <td>    0.007</td> <td>   12.850</td> <td> 0.000</td> <td>    0.075</td> <td>    0.101</td>\n",
       "</tr>\n",
       "<tr>\n",
       "  <th>houseage</th>     <td>   -0.0854</td> <td>    0.007</td> <td>  -12.912</td> <td> 0.000</td> <td>   -0.098</td> <td>   -0.072</td>\n",
       "</tr>\n",
       "<tr>\n",
       "  <th>lg_lotarea</th>   <td>    0.0613</td> <td>    0.004</td> <td>   14.534</td> <td> 0.000</td> <td>    0.053</td> <td>    0.070</td>\n",
       "</tr>\n",
       "<tr>\n",
       "  <th>overallcond</th>  <td>    0.0559</td> <td>    0.004</td> <td>   12.679</td> <td> 0.000</td> <td>    0.047</td> <td>    0.065</td>\n",
       "</tr>\n",
       "<tr>\n",
       "  <th>bsmtqual</th>     <td>    0.0460</td> <td>    0.005</td> <td>    9.310</td> <td> 0.000</td> <td>    0.036</td> <td>    0.056</td>\n",
       "</tr>\n",
       "<tr>\n",
       "  <th>garagecars</th>   <td>    0.0316</td> <td>    0.006</td> <td>    5.566</td> <td> 0.000</td> <td>    0.020</td> <td>    0.043</td>\n",
       "</tr>\n",
       "<tr>\n",
       "  <th>kitchenqual</th>  <td>    0.0268</td> <td>    0.005</td> <td>    4.878</td> <td> 0.000</td> <td>    0.016</td> <td>    0.038</td>\n",
       "</tr>\n",
       "<tr>\n",
       "  <th>exterqual</th>    <td>    0.0200</td> <td>    0.005</td> <td>    3.701</td> <td> 0.000</td> <td>    0.009</td> <td>    0.031</td>\n",
       "</tr>\n",
       "</table>\n",
       "<table class=\"simpletable\">\n",
       "<tr>\n",
       "  <th>Omnibus:</th>       <td>183.083</td> <th>  Durbin-Watson:     </th> <td>   1.977</td> \n",
       "</tr>\n",
       "<tr>\n",
       "  <th>Prob(Omnibus):</th> <td> 0.000</td>  <th>  Jarque-Bera (JB):  </th> <td> 643.905</td> \n",
       "</tr>\n",
       "<tr>\n",
       "  <th>Skew:</th>          <td>-0.671</td>  <th>  Prob(JB):          </th> <td>1.51e-140</td>\n",
       "</tr>\n",
       "<tr>\n",
       "  <th>Kurtosis:</th>      <td> 6.195</td>  <th>  Cond. No.          </th> <td>    4.37</td> \n",
       "</tr>\n",
       "</table><br/><br/>Notes:<br/>[1] Standard Errors are heteroscedasticity robust (HC3)"
      ],
      "text/latex": [
       "\\begin{center}\n",
       "\\begin{tabular}{lclc}\n",
       "\\toprule\n",
       "\\textbf{Dep. Variable:}    &      price       & \\textbf{  R-squared:         } &     0.883   \\\\\n",
       "\\textbf{Model:}            &       OLS        & \\textbf{  Adj. R-squared:    } &     0.882   \\\\\n",
       "\\textbf{Method:}           &  Least Squares   & \\textbf{  F-statistic:       } &     1079.   \\\\\n",
       "\\textbf{Date:}             & Fri, 16 Feb 2024 & \\textbf{  Prob (F-statistic):} &     0.00    \\\\\n",
       "\\textbf{Time:}             &     12:05:30     & \\textbf{  Log-Likelihood:    } &    857.47   \\\\\n",
       "\\textbf{No. Observations:} &        1287      & \\textbf{  AIC:               } &    -1695.   \\\\\n",
       "\\textbf{Df Residuals:}     &        1277      & \\textbf{  BIC:               } &    -1643.   \\\\\n",
       "\\textbf{Df Model:}         &           9      & \\textbf{                     } &             \\\\\n",
       "\\textbf{Covariance Type:}  &       HC3        & \\textbf{                     } &             \\\\\n",
       "\\bottomrule\n",
       "\\end{tabular}\n",
       "\\begin{tabular}{lcccccc}\n",
       "                       & \\textbf{coef} & \\textbf{std err} & \\textbf{z} & \\textbf{P$> |$z$|$} & \\textbf{[0.025} & \\textbf{0.975]}  \\\\\n",
       "\\midrule\n",
       "\\textbf{Intercept}     &      12.0263  &        0.004     &  3422.955  &         0.000        &       12.019    &       12.033     \\\\\n",
       "\\textbf{lg\\_flrsfmean} &       0.1444  &        0.005     &    26.261  &         0.000        &        0.134    &        0.155     \\\\\n",
       "\\textbf{overallqual}   &       0.0880  &        0.007     &    12.850  &         0.000        &        0.075    &        0.101     \\\\\n",
       "\\textbf{houseage}      &      -0.0854  &        0.007     &   -12.912  &         0.000        &       -0.098    &       -0.072     \\\\\n",
       "\\textbf{lg\\_lotarea}   &       0.0613  &        0.004     &    14.534  &         0.000        &        0.053    &        0.070     \\\\\n",
       "\\textbf{overallcond}   &       0.0559  &        0.004     &    12.679  &         0.000        &        0.047    &        0.065     \\\\\n",
       "\\textbf{bsmtqual}      &       0.0460  &        0.005     &     9.310  &         0.000        &        0.036    &        0.056     \\\\\n",
       "\\textbf{garagecars}    &       0.0316  &        0.006     &     5.566  &         0.000        &        0.020    &        0.043     \\\\\n",
       "\\textbf{kitchenqual}   &       0.0268  &        0.005     &     4.878  &         0.000        &        0.016    &        0.038     \\\\\n",
       "\\textbf{exterqual}     &       0.0200  &        0.005     &     3.701  &         0.000        &        0.009    &        0.031     \\\\\n",
       "\\bottomrule\n",
       "\\end{tabular}\n",
       "\\begin{tabular}{lclc}\n",
       "\\textbf{Omnibus:}       & 183.083 & \\textbf{  Durbin-Watson:     } &     1.977  \\\\\n",
       "\\textbf{Prob(Omnibus):} &   0.000 & \\textbf{  Jarque-Bera (JB):  } &   643.905  \\\\\n",
       "\\textbf{Skew:}          &  -0.671 & \\textbf{  Prob(JB):          } & 1.51e-140  \\\\\n",
       "\\textbf{Kurtosis:}      &   6.195 & \\textbf{  Cond. No.          } &      4.37  \\\\\n",
       "\\bottomrule\n",
       "\\end{tabular}\n",
       "%\\caption{OLS Regression Results}\n",
       "\\end{center}\n",
       "\n",
       "Notes: \\newline\n",
       " [1] Standard Errors are heteroscedasticity robust (HC3)"
      ],
      "text/plain": [
       "<class 'statsmodels.iolib.summary.Summary'>\n",
       "\"\"\"\n",
       "                            OLS Regression Results                            \n",
       "==============================================================================\n",
       "Dep. Variable:                  price   R-squared:                       0.883\n",
       "Model:                            OLS   Adj. R-squared:                  0.882\n",
       "Method:                 Least Squares   F-statistic:                     1079.\n",
       "Date:                Fri, 16 Feb 2024   Prob (F-statistic):               0.00\n",
       "Time:                        12:05:30   Log-Likelihood:                 857.47\n",
       "No. Observations:                1287   AIC:                            -1695.\n",
       "Df Residuals:                    1277   BIC:                            -1643.\n",
       "Df Model:                           9                                         \n",
       "Covariance Type:                  HC3                                         \n",
       "================================================================================\n",
       "                   coef    std err          z      P>|z|      [0.025      0.975]\n",
       "--------------------------------------------------------------------------------\n",
       "Intercept       12.0263      0.004   3422.955      0.000      12.019      12.033\n",
       "lg_flrsfmean     0.1444      0.005     26.261      0.000       0.134       0.155\n",
       "overallqual      0.0880      0.007     12.850      0.000       0.075       0.101\n",
       "houseage        -0.0854      0.007    -12.912      0.000      -0.098      -0.072\n",
       "lg_lotarea       0.0613      0.004     14.534      0.000       0.053       0.070\n",
       "overallcond      0.0559      0.004     12.679      0.000       0.047       0.065\n",
       "bsmtqual         0.0460      0.005      9.310      0.000       0.036       0.056\n",
       "garagecars       0.0316      0.006      5.566      0.000       0.020       0.043\n",
       "kitchenqual      0.0268      0.005      4.878      0.000       0.016       0.038\n",
       "exterqual        0.0200      0.005      3.701      0.000       0.009       0.031\n",
       "==============================================================================\n",
       "Omnibus:                      183.083   Durbin-Watson:                   1.977\n",
       "Prob(Omnibus):                  0.000   Jarque-Bera (JB):              643.905\n",
       "Skew:                          -0.671   Prob(JB):                    1.51e-140\n",
       "Kurtosis:                       6.195   Cond. No.                         4.37\n",
       "==============================================================================\n",
       "\n",
       "Notes:\n",
       "[1] Standard Errors are heteroscedasticity robust (HC3)\n",
       "\"\"\""
      ]
     },
     "execution_count": 72,
     "metadata": {},
     "output_type": "execute_result"
    }
   ],
   "source": [
    "lr.summary()"
   ]
  },
  {
   "cell_type": "code",
   "execution_count": 73,
   "id": "cbed0139-5dcc-4c04-adba-47a6ea03e00f",
   "metadata": {},
   "outputs": [],
   "source": [
    "y_pred_lr = lr.predict(data[features_linear])"
   ]
  },
  {
   "cell_type": "code",
   "execution_count": 74,
   "id": "5256019a-4aba-42ce-87de-87773b1f09c8",
   "metadata": {},
   "outputs": [],
   "source": [
    "rmse_lr = mean_squared_error(data[target], y_pred_lr, squared=False)"
   ]
  },
  {
   "cell_type": "code",
   "execution_count": 75,
   "id": "9f4017d4-c210-411a-a9d1-ecbc74d0e24c",
   "metadata": {},
   "outputs": [
    {
     "data": {
      "text/plain": [
       "0.12428313100053122"
      ]
     },
     "execution_count": 75,
     "metadata": {},
     "output_type": "execute_result"
    }
   ],
   "source": [
    "rmse_lr"
   ]
  },
  {
   "cell_type": "code",
   "execution_count": 76,
   "id": "e94032db-7bde-43e5-ad3d-ba97cdcec94f",
   "metadata": {},
   "outputs": [
    {
     "data": {
      "image/png": "[encoded data removed]",
      "text/plain": [
       "<Figure size 250x307 with 1 Axes>"
      ]
     },
     "metadata": {},
     "output_type": "display_data"
    }
   ],
   "source": [
    "f = plot_lr_coef(lr, figsize=(2.5, 3.07))"
   ]
  },
  {
   "cell_type": "code",
   "execution_count": 77,
   "id": "b8c104a4-b96b-442e-8358-1d0949290045",
   "metadata": {},
   "outputs": [
    {
     "data": {
      "image/png": "[encoded data removed]",
      "text/plain": [
       "<Figure size 1100x900 with 5 Axes>"
      ]
     },
     "metadata": {},
     "output_type": "display_data"
    },
    {
     "name": "stdout",
     "output_type": "stream",
     "text": [
      "Image 'regression_diagnostics.png' successfully saved into 'img/Section4-Linear-models-research' directory\n"
     ]
    }
   ],
   "source": [
    "fig = plot_regression_diagnostics(\n",
    "    model=lr, \n",
    "    data=data,\n",
    "    target=target,\n",
    "    figsize=(11, 9)\n",
    ")\n",
    "fig.suptitle('Regression diagnostic plots', x=0.210, y=0.908, fontsize=10)\n",
    "plt.show()\n",
    "\n",
    "savefig('regression_diagnostics', dir_save)"
   ]
  },
  {
   "cell_type": "code",
   "execution_count": 78,
   "id": "3d4976d9-8f56-4d70-9210-3108fa7a75fb",
   "metadata": {},
   "outputs": [
    {
     "data": {
      "text/html": [
       "<div>\n",
       "<style scoped>\n",
       "    .dataframe tbody tr th:only-of-type {\n",
       "        vertical-align: middle;\n",
       "    }\n",
       "\n",
       "    .dataframe tbody tr th {\n",
       "        vertical-align: top;\n",
       "    }\n",
       "\n",
       "    .dataframe thead th {\n",
       "        text-align: right;\n",
       "    }\n",
       "</style>\n",
       "<table border=\"1\" class=\"dataframe\">\n",
       "  <thead>\n",
       "    <tr style=\"text-align: right;\">\n",
       "      <th></th>\n",
       "      <th>Test</th>\n",
       "      <th>Category</th>\n",
       "      <th>P or Statistic (s)</th>\n",
       "      <th>Condition</th>\n",
       "    </tr>\n",
       "  </thead>\n",
       "  <tbody>\n",
       "    <tr>\n",
       "      <th>0</th>\n",
       "      <td>Ramsey’s RESET</td>\n",
       "      <td>Model</td>\n",
       "      <td>0.0000</td>\n",
       "      <td>Non-linear effects</td>\n",
       "    </tr>\n",
       "    <tr>\n",
       "      <th>1</th>\n",
       "      <td>Fisher Criterion</td>\n",
       "      <td>Model</td>\n",
       "      <td>0.0000</td>\n",
       "      <td>Significant</td>\n",
       "    </tr>\n",
       "    <tr>\n",
       "      <th>2</th>\n",
       "      <td>VIF (s)</td>\n",
       "      <td>Predictors</td>\n",
       "      <td>3.2070</td>\n",
       "      <td>No multicollinearity</td>\n",
       "    </tr>\n",
       "    <tr>\n",
       "      <th>3</th>\n",
       "      <td>Condition Number (s)</td>\n",
       "      <td>Predictors</td>\n",
       "      <td>4.3654</td>\n",
       "      <td>No multicollinearity</td>\n",
       "    </tr>\n",
       "    <tr>\n",
       "      <th>4</th>\n",
       "      <td>Cook's Distance (s)</td>\n",
       "      <td>Residuals</td>\n",
       "      <td>83</td>\n",
       "      <td>Outliers detected</td>\n",
       "    </tr>\n",
       "    <tr>\n",
       "      <th>5</th>\n",
       "      <td>One Sample t-test</td>\n",
       "      <td>Residuals</td>\n",
       "      <td>1.0000</td>\n",
       "      <td>Mean equals zero</td>\n",
       "    </tr>\n",
       "    <tr>\n",
       "      <th>6</th>\n",
       "      <td>One Sample Wilcoxon test</td>\n",
       "      <td>Residuals</td>\n",
       "      <td>0.1093</td>\n",
       "      <td>Mean equals zero</td>\n",
       "    </tr>\n",
       "    <tr>\n",
       "      <th>7</th>\n",
       "      <td>One Sample Bootstrap test (s)</td>\n",
       "      <td>Residuals</td>\n",
       "      <td>10000</td>\n",
       "      <td>Mean equals zero</td>\n",
       "    </tr>\n",
       "    <tr>\n",
       "      <th>8</th>\n",
       "      <td>Kolmogorov-Smirnov</td>\n",
       "      <td>Residuals</td>\n",
       "      <td>0.0000</td>\n",
       "      <td>Not normal</td>\n",
       "    </tr>\n",
       "    <tr>\n",
       "      <th>9</th>\n",
       "      <td>Anderson-Darling (s)</td>\n",
       "      <td>Residuals</td>\n",
       "      <td>5.9447</td>\n",
       "      <td>Not normal</td>\n",
       "    </tr>\n",
       "    <tr>\n",
       "      <th>10</th>\n",
       "      <td>Shapiro-Wilk</td>\n",
       "      <td>Residuals</td>\n",
       "      <td>0.0000</td>\n",
       "      <td>Not normal</td>\n",
       "    </tr>\n",
       "    <tr>\n",
       "      <th>11</th>\n",
       "      <td>Jarque-Bera</td>\n",
       "      <td>Residuals</td>\n",
       "      <td>0.0000</td>\n",
       "      <td>Not normal</td>\n",
       "    </tr>\n",
       "    <tr>\n",
       "      <th>12</th>\n",
       "      <td>D’Agostino-Pearson</td>\n",
       "      <td>Residuals</td>\n",
       "      <td>0.0000</td>\n",
       "      <td>Not normal</td>\n",
       "    </tr>\n",
       "    <tr>\n",
       "      <th>13</th>\n",
       "      <td>White's</td>\n",
       "      <td>Residuals</td>\n",
       "      <td>0.0264</td>\n",
       "      <td>Heteroscedasticity</td>\n",
       "    </tr>\n",
       "    <tr>\n",
       "      <th>14</th>\n",
       "      <td>Breusch-Pagan-Lagrange</td>\n",
       "      <td>Residuals</td>\n",
       "      <td>0.0009</td>\n",
       "      <td>Heteroscedasticity</td>\n",
       "    </tr>\n",
       "    <tr>\n",
       "      <th>15</th>\n",
       "      <td>Goldfeld-Quandt</td>\n",
       "      <td>Residuals</td>\n",
       "      <td>0.9429</td>\n",
       "      <td>Homoscedasticity</td>\n",
       "    </tr>\n",
       "    <tr>\n",
       "      <th>16</th>\n",
       "      <td>Durbin-Watson (s)</td>\n",
       "      <td>Residuals</td>\n",
       "      <td>1.9800</td>\n",
       "      <td>No autocorrelation</td>\n",
       "    </tr>\n",
       "    <tr>\n",
       "      <th>17</th>\n",
       "      <td>Breusch-Godfrey</td>\n",
       "      <td>Residuals</td>\n",
       "      <td>0.6575</td>\n",
       "      <td>No autocorrelation</td>\n",
       "    </tr>\n",
       "  </tbody>\n",
       "</table>\n",
       "</div>"
      ],
      "text/plain": [
       "                             Test    Category P or Statistic (s)  \\\n",
       "0                  Ramsey’s RESET       Model             0.0000   \n",
       "1                Fisher Criterion       Model             0.0000   \n",
       "2                         VIF (s)  Predictors             3.2070   \n",
       "3            Condition Number (s)  Predictors             4.3654   \n",
       "4             Cook's Distance (s)   Residuals                 83   \n",
       "5               One Sample t-test   Residuals             1.0000   \n",
       "6        One Sample Wilcoxon test   Residuals             0.1093   \n",
       "7   One Sample Bootstrap test (s)   Residuals              10000   \n",
       "8              Kolmogorov-Smirnov   Residuals             0.0000   \n",
       "9            Anderson-Darling (s)   Residuals             5.9447   \n",
       "10                   Shapiro-Wilk   Residuals             0.0000   \n",
       "11                    Jarque-Bera   Residuals             0.0000   \n",
       "12             D’Agostino-Pearson   Residuals             0.0000   \n",
       "13                        White's   Residuals             0.0264   \n",
       "14         Breusch-Pagan-Lagrange   Residuals             0.0009   \n",
       "15                Goldfeld-Quandt   Residuals             0.9429   \n",
       "16              Durbin-Watson (s)   Residuals             1.9800   \n",
       "17                Breusch-Godfrey   Residuals             0.6575   \n",
       "\n",
       "               Condition  \n",
       "0     Non-linear effects  \n",
       "1            Significant  \n",
       "2   No multicollinearity  \n",
       "3   No multicollinearity  \n",
       "4      Outliers detected  \n",
       "5       Mean equals zero  \n",
       "6       Mean equals zero  \n",
       "7       Mean equals zero  \n",
       "8             Not normal  \n",
       "9             Not normal  \n",
       "10            Not normal  \n",
       "11            Not normal  \n",
       "12            Not normal  \n",
       "13    Heteroscedasticity  \n",
       "14    Heteroscedasticity  \n",
       "15      Homoscedasticity  \n",
       "16    No autocorrelation  \n",
       "17    No autocorrelation  "
      ]
     },
     "execution_count": 78,
     "metadata": {},
     "output_type": "execute_result"
    }
   ],
   "source": [
    "regression_diagnostics(lr, data[features_linear], alpha=0.05)"
   ]
  },
  {
   "cell_type": "code",
   "execution_count": 79,
   "id": "2bf7580b-872c-4b09-86cf-07376108dbf2",
   "metadata": {},
   "outputs": [],
   "source": [
    "outliers_idxs = get_cooksd_outliers_idxs(model=lr, data=data)"
   ]
  },
  {
   "cell_type": "code",
   "execution_count": 80,
   "id": "b3cb13bf-3cd2-4a5a-936e-381e7899a54f",
   "metadata": {},
   "outputs": [],
   "source": [
    "residuals_df = pd.concat(\n",
    "    objs=[y_pred_lr.rename('Predicted'), lr.resid.rename('Residuals')],\n",
    "    axis=1)"
   ]
  },
  {
   "cell_type": "code",
   "execution_count": 81,
   "id": "4a8a7491-597d-4af3-8ae2-526b236d5cee",
   "metadata": {},
   "outputs": [
    {
     "data": {
      "text/plain": [
       "(1287, 2)"
      ]
     },
     "execution_count": 81,
     "metadata": {},
     "output_type": "execute_result"
    }
   ],
   "source": [
    "residuals_df.shape"
   ]
  },
  {
   "cell_type": "code",
   "execution_count": 82,
   "id": "105fea6f-fac0-4452-80c0-323acd99b1ae",
   "metadata": {},
   "outputs": [
    {
     "data": {
      "text/plain": [
       "0.12433144320099562"
      ]
     },
     "execution_count": 82,
     "metadata": {},
     "output_type": "execute_result"
    }
   ],
   "source": [
    "residuals_df['Residuals'].std()"
   ]
  },
  {
   "cell_type": "code",
   "execution_count": 83,
   "id": "928f3a6c-8f7b-46fb-9434-3e64708cd12f",
   "metadata": {},
   "outputs": [],
   "source": [
    "residuals_trim = OutlierTrimmer(\n",
    "    capping_method='iqr',\n",
    "    tail='both',\n",
    "    fold=1.5,\n",
    "    variables='Residuals')"
   ]
  },
  {
   "cell_type": "code",
   "execution_count": 84,
   "id": "7b836a5c-c013-4c50-830c-643ec01015ff",
   "metadata": {},
   "outputs": [],
   "source": [
    "residuals_df_trimmed = residuals_trim.fit_transform(residuals_df)\n",
    "residuals_df_trimmed = residuals_df_trimmed.rename(columns={'Residuals': 'Residuals trimmed'})"
   ]
  },
  {
   "cell_type": "code",
   "execution_count": 85,
   "id": "035bc06f-64fb-49c8-a444-e6eb80eb6546",
   "metadata": {},
   "outputs": [
    {
     "data": {
      "text/plain": [
       "(1248, 2)"
      ]
     },
     "execution_count": 85,
     "metadata": {},
     "output_type": "execute_result"
    }
   ],
   "source": [
    "residuals_df_trimmed.shape"
   ]
  },
  {
   "cell_type": "code",
   "execution_count": 86,
   "id": "9da3c6d6-cba7-4183-8f1d-fae7be744767",
   "metadata": {},
   "outputs": [
    {
     "data": {
      "text/html": [
       "<div>\n",
       "<style scoped>\n",
       "    .dataframe tbody tr th:only-of-type {\n",
       "        vertical-align: middle;\n",
       "    }\n",
       "\n",
       "    .dataframe tbody tr th {\n",
       "        vertical-align: top;\n",
       "    }\n",
       "\n",
       "    .dataframe thead th {\n",
       "        text-align: right;\n",
       "    }\n",
       "</style>\n",
       "<table border=\"1\" class=\"dataframe\">\n",
       "  <thead>\n",
       "    <tr style=\"text-align: right;\">\n",
       "      <th></th>\n",
       "      <th>Test</th>\n",
       "      <th>P or Statistic (s)</th>\n",
       "      <th>Condition</th>\n",
       "    </tr>\n",
       "  </thead>\n",
       "  <tbody>\n",
       "    <tr>\n",
       "      <th>0</th>\n",
       "      <td>Kolmogorov-Smirnov</td>\n",
       "      <td>0.0000</td>\n",
       "      <td>Not normal</td>\n",
       "    </tr>\n",
       "    <tr>\n",
       "      <th>1</th>\n",
       "      <td>Anderson-Darling (s)</td>\n",
       "      <td>0.5592</td>\n",
       "      <td>Normal</td>\n",
       "    </tr>\n",
       "    <tr>\n",
       "      <th>2</th>\n",
       "      <td>Shapiro-Wilk</td>\n",
       "      <td>0.0126</td>\n",
       "      <td>Not normal</td>\n",
       "    </tr>\n",
       "    <tr>\n",
       "      <th>3</th>\n",
       "      <td>Jarque-Bera</td>\n",
       "      <td>0.0977</td>\n",
       "      <td>Normal</td>\n",
       "    </tr>\n",
       "    <tr>\n",
       "      <th>4</th>\n",
       "      <td>D’Agostino-Pearson</td>\n",
       "      <td>0.0849</td>\n",
       "      <td>Normal</td>\n",
       "    </tr>\n",
       "  </tbody>\n",
       "</table>\n",
       "</div>"
      ],
      "text/plain": [
       "                   Test  P or Statistic (s)   Condition\n",
       "0    Kolmogorov-Smirnov              0.0000  Not normal\n",
       "1  Anderson-Darling (s)              0.5592      Normal\n",
       "2          Shapiro-Wilk              0.0126  Not normal\n",
       "3           Jarque-Bera              0.0977      Normal\n",
       "4    D’Agostino-Pearson              0.0849      Normal"
      ]
     },
     "execution_count": 86,
     "metadata": {},
     "output_type": "execute_result"
    }
   ],
   "source": [
    "test_normality(residuals_df_trimmed['Residuals trimmed'])"
   ]
  },
  {
   "cell_type": "code",
   "execution_count": 87,
   "id": "495d6499-52e7-4d46-bd7b-5073d8b4eee3",
   "metadata": {},
   "outputs": [
    {
     "data": {
      "text/plain": [
       "0.10351815888623953"
      ]
     },
     "execution_count": 87,
     "metadata": {},
     "output_type": "execute_result"
    }
   ],
   "source": [
    "residuals_df_trimmed['Residuals trimmed'].std()"
   ]
  },
  {
   "cell_type": "code",
   "execution_count": 88,
   "id": "d76155f4-3850-4ff0-9b38-efaeb56f85e7",
   "metadata": {},
   "outputs": [],
   "source": [
    "normal_dist = np.random.normal(\n",
    "    loc=0, scale=residuals_df['Residuals'].std(ddof=1), size=1288)"
   ]
  },
  {
   "cell_type": "code",
   "execution_count": 89,
   "id": "4eed6480-10d5-4caa-a9d4-98a720416f33",
   "metadata": {},
   "outputs": [
    {
     "data": {
      "text/html": [
       "<div>\n",
       "<style scoped>\n",
       "    .dataframe tbody tr th:only-of-type {\n",
       "        vertical-align: middle;\n",
       "    }\n",
       "\n",
       "    .dataframe tbody tr th {\n",
       "        vertical-align: top;\n",
       "    }\n",
       "\n",
       "    .dataframe thead th {\n",
       "        text-align: right;\n",
       "    }\n",
       "</style>\n",
       "<table border=\"1\" class=\"dataframe\">\n",
       "  <thead>\n",
       "    <tr style=\"text-align: right;\">\n",
       "      <th></th>\n",
       "      <th>Test</th>\n",
       "      <th>P or Statistic (s)</th>\n",
       "      <th>Condition</th>\n",
       "    </tr>\n",
       "  </thead>\n",
       "  <tbody>\n",
       "    <tr>\n",
       "      <th>0</th>\n",
       "      <td>Kolmogorov-Smirnov</td>\n",
       "      <td>0.0000</td>\n",
       "      <td>Not normal</td>\n",
       "    </tr>\n",
       "    <tr>\n",
       "      <th>1</th>\n",
       "      <td>Anderson-Darling (s)</td>\n",
       "      <td>0.8309</td>\n",
       "      <td>Not normal</td>\n",
       "    </tr>\n",
       "    <tr>\n",
       "      <th>2</th>\n",
       "      <td>Shapiro-Wilk</td>\n",
       "      <td>0.0105</td>\n",
       "      <td>Not normal</td>\n",
       "    </tr>\n",
       "    <tr>\n",
       "      <th>3</th>\n",
       "      <td>Jarque-Bera</td>\n",
       "      <td>0.0187</td>\n",
       "      <td>Not normal</td>\n",
       "    </tr>\n",
       "    <tr>\n",
       "      <th>4</th>\n",
       "      <td>D’Agostino-Pearson</td>\n",
       "      <td>0.0434</td>\n",
       "      <td>Not normal</td>\n",
       "    </tr>\n",
       "  </tbody>\n",
       "</table>\n",
       "</div>"
      ],
      "text/plain": [
       "                   Test  P or Statistic (s)   Condition\n",
       "0    Kolmogorov-Smirnov              0.0000  Not normal\n",
       "1  Anderson-Darling (s)              0.8309  Not normal\n",
       "2          Shapiro-Wilk              0.0105  Not normal\n",
       "3           Jarque-Bera              0.0187  Not normal\n",
       "4    D’Agostino-Pearson              0.0434  Not normal"
      ]
     },
     "execution_count": 89,
     "metadata": {},
     "output_type": "execute_result"
    }
   ],
   "source": [
    "test_normality(normal_dist)"
   ]
  },
  {
   "cell_type": "code",
   "execution_count": 90,
   "id": "40601cca-9473-4461-a88b-92639c3e9488",
   "metadata": {},
   "outputs": [
    {
     "data": {
      "text/html": [
       "<div>\n",
       "<style scoped>\n",
       "    .dataframe tbody tr th:only-of-type {\n",
       "        vertical-align: middle;\n",
       "    }\n",
       "\n",
       "    .dataframe tbody tr th {\n",
       "        vertical-align: top;\n",
       "    }\n",
       "\n",
       "    .dataframe thead th {\n",
       "        text-align: right;\n",
       "    }\n",
       "</style>\n",
       "<table border=\"1\" class=\"dataframe\">\n",
       "  <thead>\n",
       "    <tr style=\"text-align: right;\">\n",
       "      <th></th>\n",
       "      <th>Kurtosis</th>\n",
       "      <th>Type</th>\n",
       "    </tr>\n",
       "  </thead>\n",
       "  <tbody>\n",
       "    <tr>\n",
       "      <th>Residuals</th>\n",
       "      <td>3.212255</td>\n",
       "      <td>Too Peaked</td>\n",
       "    </tr>\n",
       "    <tr>\n",
       "      <th>Normal distribution</th>\n",
       "      <td>0.390916</td>\n",
       "      <td>Normal</td>\n",
       "    </tr>\n",
       "    <tr>\n",
       "      <th>Residuals trimmed</th>\n",
       "      <td>-0.204763</td>\n",
       "      <td>Normal</td>\n",
       "    </tr>\n",
       "  </tbody>\n",
       "</table>\n",
       "</div>"
      ],
      "text/plain": [
       "                     Kurtosis        Type\n",
       "Residuals            3.212255  Too Peaked\n",
       "Normal distribution  0.390916      Normal\n",
       "Residuals trimmed   -0.204763      Normal"
      ]
     },
     "execution_count": 90,
     "metadata": {},
     "output_type": "execute_result"
    }
   ],
   "source": [
    "kurtosis(pd.concat([\n",
    "    pd.DataFrame(normal_dist, columns=['Normal distribution']),\n",
    "    residuals_df['Residuals'].to_frame(),\n",
    "    residuals_df_trimmed['Residuals trimmed'].to_frame()\n",
    "]))\n",
    "    "
   ]
  },
  {
   "cell_type": "code",
   "execution_count": 91,
   "id": "2620891e-1039-474c-9771-180520d21ec8",
   "metadata": {},
   "outputs": [
    {
     "data": {
      "image/png": "[encoded data removed]",
      "text/plain": [
       "<Figure size 1000x250 with 1 Axes>"
      ]
     },
     "metadata": {},
     "output_type": "display_data"
    },
    {
     "name": "stdout",
     "output_type": "stream",
     "text": [
      "Image 'residuals_distributions_comparing.png' successfully saved into 'img/Section4-Linear-models-research' directory\n"
     ]
    }
   ],
   "source": [
    "fig = plt.figure(figsize=(10, 2.5))\n",
    "\n",
    "sns.kdeplot(normal_dist, lw=0.01, fill=True, color=alpha_color(palette[0], 0.75), label='Normal distribution')\n",
    "sns.kdeplot(residuals_df['Residuals'], color=palette[1], label='Residuals (original)')\n",
    "sns.kdeplot(residuals_df_trimmed['Residuals trimmed'], color=palette[3], label='Residuals (trimmed)')\n",
    "\n",
    "plt.legend(**legend_inline, ncols=3)\n",
    "plt.title('Comparison of Residual distributions with and without outliers', **title_inline)\n",
    "axis_rstyle(x_ticks=(-1.0, 1.0, 0.5), y_ticks=(0, 4, 1))\n",
    "plt.grid(False)\n",
    "plt.xlabel(None)\n",
    "plt.show()\n",
    "\n",
    "savefig('residuals_distributions_comparing', dir_save)"
   ]
  },
  {
   "cell_type": "markdown",
   "id": "45905d32-98f0-42f6-af9b-8245d9b9f125",
   "metadata": {},
   "source": [
    "### Simulations and comparing with ELASTIC NET"
   ]
  },
  {
   "cell_type": "code",
   "execution_count": 92,
   "id": "09c3a18c-73cc-4182-9bdc-058d62ccf56f",
   "metadata": {},
   "outputs": [
    {
     "data": {
      "text/plain": [
       "(1311, 10)"
      ]
     },
     "execution_count": 92,
     "metadata": {},
     "output_type": "execute_result"
    }
   ],
   "source": [
    "data_cv.shape"
   ]
  },
  {
   "cell_type": "code",
   "execution_count": 93,
   "id": "4b5ef134-9336-4ca9-9add-d70afa543b7c",
   "metadata": {},
   "outputs": [
    {
     "data": {
      "text/html": [
       "<div>\n",
       "<style scoped>\n",
       "    .dataframe tbody tr th:only-of-type {\n",
       "        vertical-align: middle;\n",
       "    }\n",
       "\n",
       "    .dataframe tbody tr th {\n",
       "        vertical-align: top;\n",
       "    }\n",
       "\n",
       "    .dataframe thead th {\n",
       "        text-align: right;\n",
       "    }\n",
       "</style>\n",
       "<table border=\"1\" class=\"dataframe\">\n",
       "  <thead>\n",
       "    <tr style=\"text-align: right;\">\n",
       "      <th></th>\n",
       "      <th>lg_flrsfmean</th>\n",
       "      <th>overallqual</th>\n",
       "      <th>houseage</th>\n",
       "      <th>lg_lotarea</th>\n",
       "      <th>overallcond</th>\n",
       "      <th>bsmtqual</th>\n",
       "      <th>garagecars</th>\n",
       "      <th>kitchenqual</th>\n",
       "      <th>exterqual</th>\n",
       "      <th>price</th>\n",
       "    </tr>\n",
       "  </thead>\n",
       "  <tbody>\n",
       "    <tr>\n",
       "      <th>907</th>\n",
       "      <td>6.935370</td>\n",
       "      <td>7</td>\n",
       "      <td>70</td>\n",
       "      <td>9.350189</td>\n",
       "      <td>7</td>\n",
       "      <td>4</td>\n",
       "      <td>1</td>\n",
       "      <td>4</td>\n",
       "      <td>4</td>\n",
       "      <td>12.429216</td>\n",
       "    </tr>\n",
       "    <tr>\n",
       "      <th>782</th>\n",
       "      <td>6.735990</td>\n",
       "      <td>7</td>\n",
       "      <td>8</td>\n",
       "      <td>9.698061</td>\n",
       "      <td>5</td>\n",
       "      <td>4</td>\n",
       "      <td>2</td>\n",
       "      <td>4</td>\n",
       "      <td>4</td>\n",
       "      <td>12.139399</td>\n",
       "    </tr>\n",
       "    <tr>\n",
       "      <th>952</th>\n",
       "      <td>6.115373</td>\n",
       "      <td>5</td>\n",
       "      <td>37</td>\n",
       "      <td>8.881975</td>\n",
       "      <td>8</td>\n",
       "      <td>4</td>\n",
       "      <td>1</td>\n",
       "      <td>3</td>\n",
       "      <td>3</td>\n",
       "      <td>11.804849</td>\n",
       "    </tr>\n",
       "    <tr>\n",
       "      <th>620</th>\n",
       "      <td>6.232910</td>\n",
       "      <td>3</td>\n",
       "      <td>94</td>\n",
       "      <td>9.017847</td>\n",
       "      <td>3</td>\n",
       "      <td>3</td>\n",
       "      <td>0</td>\n",
       "      <td>3</td>\n",
       "      <td>3</td>\n",
       "      <td>11.112448</td>\n",
       "    </tr>\n",
       "    <tr>\n",
       "      <th>669</th>\n",
       "      <td>6.544081</td>\n",
       "      <td>4</td>\n",
       "      <td>84</td>\n",
       "      <td>9.358847</td>\n",
       "      <td>5</td>\n",
       "      <td>2</td>\n",
       "      <td>1</td>\n",
       "      <td>2</td>\n",
       "      <td>3</td>\n",
       "      <td>11.831379</td>\n",
       "    </tr>\n",
       "  </tbody>\n",
       "</table>\n",
       "</div>"
      ],
      "text/plain": [
       "     lg_flrsfmean  overallqual  houseage  lg_lotarea  overallcond  bsmtqual  \\\n",
       "907      6.935370            7        70    9.350189            7         4   \n",
       "782      6.735990            7         8    9.698061            5         4   \n",
       "952      6.115373            5        37    8.881975            8         4   \n",
       "620      6.232910            3        94    9.017847            3         3   \n",
       "669      6.544081            4        84    9.358847            5         2   \n",
       "\n",
       "     garagecars  kitchenqual  exterqual      price  \n",
       "907           1            4          4  12.429216  \n",
       "782           2            4          4  12.139399  \n",
       "952           1            3          3  11.804849  \n",
       "620           0            3          3  11.112448  \n",
       "669           1            2          3  11.831379  "
      ]
     },
     "execution_count": 93,
     "metadata": {},
     "output_type": "execute_result"
    }
   ],
   "source": [
    "data_cv.head()"
   ]
  },
  {
   "cell_type": "markdown",
   "id": "aa1b323e-6b59-464a-9b69-501fdcad536a",
   "metadata": {},
   "source": [
    "#### Hyperparameters Search"
   ]
  },
  {
   "cell_type": "code",
   "execution_count": 94,
   "id": "40620eea-a75f-42f5-b277-48e5790b2114",
   "metadata": {},
   "outputs": [],
   "source": [
    "enet_cv_pipeline = Pipeline([\n",
    "    ('scaler', StandardScaler()),\n",
    "    ('estimator', ElasticNet(max_iter=100000))\n",
    "])"
   ]
  },
  {
   "cell_type": "code",
   "execution_count": 95,
   "id": "96c5ded5-4b27-4754-9379-978ba4cc2e1b",
   "metadata": {},
   "outputs": [
    {
     "data": {
      "text/html": [
       "<style>#sk-container-id-4 {color: black;}#sk-container-id-4 pre{padding: 0;}#sk-container-id-4 div.sk-toggleable {background-color: white;}#sk-container-id-4 label.sk-toggleable__label {cursor: pointer;display: block;width: 100%;margin-bottom: 0;padding: 0.3em;box-sizing: border-box;text-align: center;}#sk-container-id-4 label.sk-toggleable__label-arrow:before {content: \"▸\";float: left;margin-right: 0.25em;color: #696969;}#sk-container-id-4 label.sk-toggleable__label-arrow:hover:before {color: black;}#sk-container-id-4 div.sk-estimator:hover label.sk-toggleable__label-arrow:before {color: black;}#sk-container-id-4 div.sk-toggleable__content {max-height: 0;max-width: 0;overflow: hidden;text-align: left;background-color: #f0f8ff;}#sk-container-id-4 div.sk-toggleable__content pre {margin: 0.2em;color: black;border-radius: 0.25em;background-color: #f0f8ff;}#sk-container-id-4 input.sk-toggleable__control:checked~div.sk-toggleable__content {max-height: 200px;max-width: 100%;overflow: auto;}#sk-container-id-4 input.sk-toggleable__control:checked~label.sk-toggleable__label-arrow:before {content: \"▾\";}#sk-container-id-4 div.sk-estimator input.sk-toggleable__control:checked~label.sk-toggleable__label {background-color: #d4ebff;}#sk-container-id-4 div.sk-label input.sk-toggleable__control:checked~label.sk-toggleable__label {background-color: #d4ebff;}#sk-container-id-4 input.sk-hidden--visually {border: 0;clip: rect(1px 1px 1px 1px);clip: rect(1px, 1px, 1px, 1px);height: 1px;margin: -1px;overflow: hidden;padding: 0;position: absolute;width: 1px;}#sk-container-id-4 div.sk-estimator {font-family: monospace;background-color: #f0f8ff;border: 1px dotted black;border-radius: 0.25em;box-sizing: border-box;margin-bottom: 0.5em;}#sk-container-id-4 div.sk-estimator:hover {background-color: #d4ebff;}#sk-container-id-4 div.sk-parallel-item::after {content: \"\";width: 100%;border-bottom: 1px solid gray;flex-grow: 1;}#sk-container-id-4 div.sk-label:hover label.sk-toggleable__label {background-color: #d4ebff;}#sk-container-id-4 div.sk-serial::before {content: \"\";position: absolute;border-left: 1px solid gray;box-sizing: border-box;top: 0;bottom: 0;left: 50%;z-index: 0;}#sk-container-id-4 div.sk-serial {display: flex;flex-direction: column;align-items: center;background-color: white;padding-right: 0.2em;padding-left: 0.2em;position: relative;}#sk-container-id-4 div.sk-item {position: relative;z-index: 1;}#sk-container-id-4 div.sk-parallel {display: flex;align-items: stretch;justify-content: center;background-color: white;position: relative;}#sk-container-id-4 div.sk-item::before, #sk-container-id-4 div.sk-parallel-item::before {content: \"\";position: absolute;border-left: 1px solid gray;box-sizing: border-box;top: 0;bottom: 0;left: 50%;z-index: -1;}#sk-container-id-4 div.sk-parallel-item {display: flex;flex-direction: column;z-index: 1;position: relative;background-color: white;}#sk-container-id-4 div.sk-parallel-item:first-child::after {align-self: flex-end;width: 50%;}#sk-container-id-4 div.sk-parallel-item:last-child::after {align-self: flex-start;width: 50%;}#sk-container-id-4 div.sk-parallel-item:only-child::after {width: 0;}#sk-container-id-4 div.sk-dashed-wrapped {border: 1px dashed gray;margin: 0 0.4em 0.5em 0.4em;box-sizing: border-box;padding-bottom: 0.4em;background-color: white;}#sk-container-id-4 div.sk-label label {font-family: monospace;font-weight: bold;display: inline-block;line-height: 1.2em;}#sk-container-id-4 div.sk-label-container {text-align: center;}#sk-container-id-4 div.sk-container {/* jupyter's `normalize.less` sets `[hidden] { display: none; }` but bootstrap.min.css set `[hidden] { display: none !important; }` so we also need the `!important` here to be able to override the default hidden behavior on the sphinx rendered scikit-learn.org. See: https://github.com/scikit-learn/scikit-learn/issues/21755 */display: inline-block !important;position: relative;}#sk-container-id-4 div.sk-text-repr-fallback {display: none;}</style><div id=\"sk-container-id-4\" class=\"sk-top-container\"><div class=\"sk-text-repr-fallback\"><pre>Pipeline(steps=[(&#x27;scaler&#x27;, StandardScaler()),\n",
       "                (&#x27;estimator&#x27;, ElasticNet(max_iter=100000))])</pre><b>In a Jupyter environment, please rerun this cell to show the HTML representation or trust the notebook. <br />On GitHub, the HTML representation is unable to render, please try loading this page with nbviewer.org.</b></div><div class=\"sk-container\" hidden><div class=\"sk-item sk-dashed-wrapped\"><div class=\"sk-label-container\"><div class=\"sk-label sk-toggleable\"><input class=\"sk-toggleable__control sk-hidden--visually\" id=\"sk-estimator-id-10\" type=\"checkbox\" ><label for=\"sk-estimator-id-10\" class=\"sk-toggleable__label sk-toggleable__label-arrow\">Pipeline</label><div class=\"sk-toggleable__content\"><pre>Pipeline(steps=[(&#x27;scaler&#x27;, StandardScaler()),\n",
       "                (&#x27;estimator&#x27;, ElasticNet(max_iter=100000))])</pre></div></div></div><div class=\"sk-serial\"><div class=\"sk-item\"><div class=\"sk-estimator sk-toggleable\"><input class=\"sk-toggleable__control sk-hidden--visually\" id=\"sk-estimator-id-11\" type=\"checkbox\" ><label for=\"sk-estimator-id-11\" class=\"sk-toggleable__label sk-toggleable__label-arrow\">StandardScaler</label><div class=\"sk-toggleable__content\"><pre>StandardScaler()</pre></div></div></div><div class=\"sk-item\"><div class=\"sk-estimator sk-toggleable\"><input class=\"sk-toggleable__control sk-hidden--visually\" id=\"sk-estimator-id-12\" type=\"checkbox\" ><label for=\"sk-estimator-id-12\" class=\"sk-toggleable__label sk-toggleable__label-arrow\">ElasticNet</label><div class=\"sk-toggleable__content\"><pre>ElasticNet(max_iter=100000)</pre></div></div></div></div></div></div></div>"
      ],
      "text/plain": [
       "Pipeline(steps=[('scaler', StandardScaler()),\n",
       "                ('estimator', ElasticNet(max_iter=100000))])"
      ]
     },
     "execution_count": 95,
     "metadata": {},
     "output_type": "execute_result"
    }
   ],
   "source": [
    "enet_cv_pipeline"
   ]
  },
  {
   "cell_type": "code",
   "execution_count": 96,
   "id": "94bb8922-3b87-44d8-b4df-3b4703af606f",
   "metadata": {},
   "outputs": [],
   "source": [
    "alphas = np.logspace(-3, 3, 30)\n",
    "l1_ratio = np.arange(0.1, 1.0, 0.1)\n",
    "n_folds_cv = 20\n",
    "\n",
    "X = data_cv.loc[:, data_cv.columns!=target]\n",
    "y = data_cv[target]"
   ]
  },
  {
   "cell_type": "code",
   "execution_count": 97,
   "id": "5f474b30-596b-4f97-b8fe-e2137545b639",
   "metadata": {},
   "outputs": [],
   "source": [
    "enet_params = [{\n",
    "    'estimator__alpha': alphas,\n",
    "    'estimator__l1_ratio': l1_ratio\n",
    "}]"
   ]
  },
  {
   "cell_type": "code",
   "execution_count": 98,
   "id": "a5d2200c-684d-475a-8b7e-3b1fbf55d5fe",
   "metadata": {},
   "outputs": [
    {
     "name": "stdout",
     "output_type": "stream",
     "text": [
      "Execution time: 0:00:00\n"
     ]
    }
   ],
   "source": [
    "st = stopwatch.start()\n",
    "enet_cv = GridSearchCV(\n",
    "    estimator=enet_cv_pipeline,\n",
    "    param_grid=enet_params,\n",
    "    scoring='neg_root_mean_squared_error',\n",
    "    cv=n_folds_cv,\n",
    "    refit=False\n",
    ")\n",
    "print(f'Execution time: {stopwatch.stop(st)}')"
   ]
  },
  {
   "cell_type": "code",
   "execution_count": 99,
   "id": "b7778c5d-7b37-4ced-b2e5-dfb1e76195ff",
   "metadata": {},
   "outputs": [
    {
     "data": {
      "text/html": [
       "<style>#sk-container-id-5 {color: black;}#sk-container-id-5 pre{padding: 0;}#sk-container-id-5 div.sk-toggleable {background-color: white;}#sk-container-id-5 label.sk-toggleable__label {cursor: pointer;display: block;width: 100%;margin-bottom: 0;padding: 0.3em;box-sizing: border-box;text-align: center;}#sk-container-id-5 label.sk-toggleable__label-arrow:before {content: \"▸\";float: left;margin-right: 0.25em;color: #696969;}#sk-container-id-5 label.sk-toggleable__label-arrow:hover:before {color: black;}#sk-container-id-5 div.sk-estimator:hover label.sk-toggleable__label-arrow:before {color: black;}#sk-container-id-5 div.sk-toggleable__content {max-height: 0;max-width: 0;overflow: hidden;text-align: left;background-color: #f0f8ff;}#sk-container-id-5 div.sk-toggleable__content pre {margin: 0.2em;color: black;border-radius: 0.25em;background-color: #f0f8ff;}#sk-container-id-5 input.sk-toggleable__control:checked~div.sk-toggleable__content {max-height: 200px;max-width: 100%;overflow: auto;}#sk-container-id-5 input.sk-toggleable__control:checked~label.sk-toggleable__label-arrow:before {content: \"▾\";}#sk-container-id-5 div.sk-estimator input.sk-toggleable__control:checked~label.sk-toggleable__label {background-color: #d4ebff;}#sk-container-id-5 div.sk-label input.sk-toggleable__control:checked~label.sk-toggleable__label {background-color: #d4ebff;}#sk-container-id-5 input.sk-hidden--visually {border: 0;clip: rect(1px 1px 1px 1px);clip: rect(1px, 1px, 1px, 1px);height: 1px;margin: -1px;overflow: hidden;padding: 0;position: absolute;width: 1px;}#sk-container-id-5 div.sk-estimator {font-family: monospace;background-color: #f0f8ff;border: 1px dotted black;border-radius: 0.25em;box-sizing: border-box;margin-bottom: 0.5em;}#sk-container-id-5 div.sk-estimator:hover {background-color: #d4ebff;}#sk-container-id-5 div.sk-parallel-item::after {content: \"\";width: 100%;border-bottom: 1px solid gray;flex-grow: 1;}#sk-container-id-5 div.sk-label:hover label.sk-toggleable__label {background-color: #d4ebff;}#sk-container-id-5 div.sk-serial::before {content: \"\";position: absolute;border-left: 1px solid gray;box-sizing: border-box;top: 0;bottom: 0;left: 50%;z-index: 0;}#sk-container-id-5 div.sk-serial {display: flex;flex-direction: column;align-items: center;background-color: white;padding-right: 0.2em;padding-left: 0.2em;position: relative;}#sk-container-id-5 div.sk-item {position: relative;z-index: 1;}#sk-container-id-5 div.sk-parallel {display: flex;align-items: stretch;justify-content: center;background-color: white;position: relative;}#sk-container-id-5 div.sk-item::before, #sk-container-id-5 div.sk-parallel-item::before {content: \"\";position: absolute;border-left: 1px solid gray;box-sizing: border-box;top: 0;bottom: 0;left: 50%;z-index: -1;}#sk-container-id-5 div.sk-parallel-item {display: flex;flex-direction: column;z-index: 1;position: relative;background-color: white;}#sk-container-id-5 div.sk-parallel-item:first-child::after {align-self: flex-end;width: 50%;}#sk-container-id-5 div.sk-parallel-item:last-child::after {align-self: flex-start;width: 50%;}#sk-container-id-5 div.sk-parallel-item:only-child::after {width: 0;}#sk-container-id-5 div.sk-dashed-wrapped {border: 1px dashed gray;margin: 0 0.4em 0.5em 0.4em;box-sizing: border-box;padding-bottom: 0.4em;background-color: white;}#sk-container-id-5 div.sk-label label {font-family: monospace;font-weight: bold;display: inline-block;line-height: 1.2em;}#sk-container-id-5 div.sk-label-container {text-align: center;}#sk-container-id-5 div.sk-container {/* jupyter's `normalize.less` sets `[hidden] { display: none; }` but bootstrap.min.css set `[hidden] { display: none !important; }` so we also need the `!important` here to be able to override the default hidden behavior on the sphinx rendered scikit-learn.org. See: https://github.com/scikit-learn/scikit-learn/issues/21755 */display: inline-block !important;position: relative;}#sk-container-id-5 div.sk-text-repr-fallback {display: none;}</style><div id=\"sk-container-id-5\" class=\"sk-top-container\"><div class=\"sk-text-repr-fallback\"><pre>GridSearchCV(cv=20,\n",
       "             estimator=Pipeline(steps=[(&#x27;scaler&#x27;, StandardScaler()),\n",
       "                                       (&#x27;estimator&#x27;,\n",
       "                                        ElasticNet(max_iter=100000))]),\n",
       "             param_grid=[{&#x27;estimator__alpha&#x27;: array([1.00000000e-03, 1.61026203e-03, 2.59294380e-03, 4.17531894e-03,\n",
       "       6.72335754e-03, 1.08263673e-02, 1.74332882e-02, 2.80721620e-02,\n",
       "       4.52035366e-02, 7.27895384e-02, 1.17210230e-01, 1.88739182e-01,\n",
       "       3.03919538e-01...-01, 1.26896100e+00,\n",
       "       2.04335972e+00, 3.29034456e+00, 5.29831691e+00, 8.53167852e+00,\n",
       "       1.37382380e+01, 2.21221629e+01, 3.56224789e+01, 5.73615251e+01,\n",
       "       9.23670857e+01, 1.48735211e+02, 2.39502662e+02, 3.85662042e+02,\n",
       "       6.21016942e+02, 1.00000000e+03]),\n",
       "                          &#x27;estimator__l1_ratio&#x27;: array([0.1, 0.2, 0.3, 0.4, 0.5, 0.6, 0.7, 0.8, 0.9])}],\n",
       "             refit=False, scoring=&#x27;neg_root_mean_squared_error&#x27;)</pre><b>In a Jupyter environment, please rerun this cell to show the HTML representation or trust the notebook. <br />On GitHub, the HTML representation is unable to render, please try loading this page with nbviewer.org.</b></div><div class=\"sk-container\" hidden><div class=\"sk-item sk-dashed-wrapped\"><div class=\"sk-label-container\"><div class=\"sk-label sk-toggleable\"><input class=\"sk-toggleable__control sk-hidden--visually\" id=\"sk-estimator-id-13\" type=\"checkbox\" ><label for=\"sk-estimator-id-13\" class=\"sk-toggleable__label sk-toggleable__label-arrow\">GridSearchCV</label><div class=\"sk-toggleable__content\"><pre>GridSearchCV(cv=20,\n",
       "             estimator=Pipeline(steps=[(&#x27;scaler&#x27;, StandardScaler()),\n",
       "                                       (&#x27;estimator&#x27;,\n",
       "                                        ElasticNet(max_iter=100000))]),\n",
       "             param_grid=[{&#x27;estimator__alpha&#x27;: array([1.00000000e-03, 1.61026203e-03, 2.59294380e-03, 4.17531894e-03,\n",
       "       6.72335754e-03, 1.08263673e-02, 1.74332882e-02, 2.80721620e-02,\n",
       "       4.52035366e-02, 7.27895384e-02, 1.17210230e-01, 1.88739182e-01,\n",
       "       3.03919538e-01...-01, 1.26896100e+00,\n",
       "       2.04335972e+00, 3.29034456e+00, 5.29831691e+00, 8.53167852e+00,\n",
       "       1.37382380e+01, 2.21221629e+01, 3.56224789e+01, 5.73615251e+01,\n",
       "       9.23670857e+01, 1.48735211e+02, 2.39502662e+02, 3.85662042e+02,\n",
       "       6.21016942e+02, 1.00000000e+03]),\n",
       "                          &#x27;estimator__l1_ratio&#x27;: array([0.1, 0.2, 0.3, 0.4, 0.5, 0.6, 0.7, 0.8, 0.9])}],\n",
       "             refit=False, scoring=&#x27;neg_root_mean_squared_error&#x27;)</pre></div></div></div><div class=\"sk-parallel\"><div class=\"sk-parallel-item\"><div class=\"sk-item\"><div class=\"sk-label-container\"><div class=\"sk-label sk-toggleable\"><input class=\"sk-toggleable__control sk-hidden--visually\" id=\"sk-estimator-id-14\" type=\"checkbox\" ><label for=\"sk-estimator-id-14\" class=\"sk-toggleable__label sk-toggleable__label-arrow\">estimator: Pipeline</label><div class=\"sk-toggleable__content\"><pre>Pipeline(steps=[(&#x27;scaler&#x27;, StandardScaler()),\n",
       "                (&#x27;estimator&#x27;, ElasticNet(max_iter=100000))])</pre></div></div></div><div class=\"sk-serial\"><div class=\"sk-item\"><div class=\"sk-serial\"><div class=\"sk-item\"><div class=\"sk-estimator sk-toggleable\"><input class=\"sk-toggleable__control sk-hidden--visually\" id=\"sk-estimator-id-15\" type=\"checkbox\" ><label for=\"sk-estimator-id-15\" class=\"sk-toggleable__label sk-toggleable__label-arrow\">StandardScaler</label><div class=\"sk-toggleable__content\"><pre>StandardScaler()</pre></div></div></div><div class=\"sk-item\"><div class=\"sk-estimator sk-toggleable\"><input class=\"sk-toggleable__control sk-hidden--visually\" id=\"sk-estimator-id-16\" type=\"checkbox\" ><label for=\"sk-estimator-id-16\" class=\"sk-toggleable__label sk-toggleable__label-arrow\">ElasticNet</label><div class=\"sk-toggleable__content\"><pre>ElasticNet(max_iter=100000)</pre></div></div></div></div></div></div></div></div></div></div></div></div>"
      ],
      "text/plain": [
       "GridSearchCV(cv=20,\n",
       "             estimator=Pipeline(steps=[('scaler', StandardScaler()),\n",
       "                                       ('estimator',\n",
       "                                        ElasticNet(max_iter=100000))]),\n",
       "             param_grid=[{'estimator__alpha': array([1.00000000e-03, 1.61026203e-03, 2.59294380e-03, 4.17531894e-03,\n",
       "       6.72335754e-03, 1.08263673e-02, 1.74332882e-02, 2.80721620e-02,\n",
       "       4.52035366e-02, 7.27895384e-02, 1.17210230e-01, 1.88739182e-01,\n",
       "       3.03919538e-01...-01, 1.26896100e+00,\n",
       "       2.04335972e+00, 3.29034456e+00, 5.29831691e+00, 8.53167852e+00,\n",
       "       1.37382380e+01, 2.21221629e+01, 3.56224789e+01, 5.73615251e+01,\n",
       "       9.23670857e+01, 1.48735211e+02, 2.39502662e+02, 3.85662042e+02,\n",
       "       6.21016942e+02, 1.00000000e+03]),\n",
       "                          'estimator__l1_ratio': array([0.1, 0.2, 0.3, 0.4, 0.5, 0.6, 0.7, 0.8, 0.9])}],\n",
       "             refit=False, scoring='neg_root_mean_squared_error')"
      ]
     },
     "execution_count": 99,
     "metadata": {},
     "output_type": "execute_result"
    }
   ],
   "source": [
    "enet_cv.fit(X, y)"
   ]
  },
  {
   "cell_type": "code",
   "execution_count": 100,
   "id": "d9fc5db6-dd96-49d9-abe5-780e0bec307b",
   "metadata": {},
   "outputs": [
    {
     "data": {
      "text/plain": [
       "0.1336913451258356"
      ]
     },
     "execution_count": 100,
     "metadata": {},
     "output_type": "execute_result"
    }
   ],
   "source": [
    "enet_cv_best_score = abs(enet_cv.best_score_)\n",
    "enet_cv_best_score"
   ]
  },
  {
   "cell_type": "code",
   "execution_count": 101,
   "id": "8e1c531e-cfe0-4af1-aaa3-b1a03d0ad004",
   "metadata": {},
   "outputs": [
    {
     "data": {
      "text/plain": [
       "{'alpha': 0.006723357536499335, 'l1_ratio': 0.1}"
      ]
     },
     "execution_count": 101,
     "metadata": {},
     "output_type": "execute_result"
    }
   ],
   "source": [
    "enet_cv_best_params = {}\n",
    "\n",
    "for key in enet_cv.best_params_.keys():\n",
    "    new_key = key.lstrip('estimator')\n",
    "    new_key = new_key.lstrip('__')\n",
    "    enet_cv_best_params[new_key] = enet_cv.best_params_[key]\n",
    "    \n",
    "enet_cv_best_params"
   ]
  },
  {
   "cell_type": "code",
   "execution_count": 102,
   "id": "cb24e1f0-1a87-4d4c-bb21-40cb40ce776a",
   "metadata": {},
   "outputs": [],
   "source": [
    "enet = ElasticNet(**enet_cv_best_params)"
   ]
  },
  {
   "cell_type": "code",
   "execution_count": 103,
   "id": "0ccb4958-f4c6-4634-bd3b-f304fa329633",
   "metadata": {},
   "outputs": [
    {
     "data": {
      "text/html": [
       "<style>#sk-container-id-6 {color: black;}#sk-container-id-6 pre{padding: 0;}#sk-container-id-6 div.sk-toggleable {background-color: white;}#sk-container-id-6 label.sk-toggleable__label {cursor: pointer;display: block;width: 100%;margin-bottom: 0;padding: 0.3em;box-sizing: border-box;text-align: center;}#sk-container-id-6 label.sk-toggleable__label-arrow:before {content: \"▸\";float: left;margin-right: 0.25em;color: #696969;}#sk-container-id-6 label.sk-toggleable__label-arrow:hover:before {color: black;}#sk-container-id-6 div.sk-estimator:hover label.sk-toggleable__label-arrow:before {color: black;}#sk-container-id-6 div.sk-toggleable__content {max-height: 0;max-width: 0;overflow: hidden;text-align: left;background-color: #f0f8ff;}#sk-container-id-6 div.sk-toggleable__content pre {margin: 0.2em;color: black;border-radius: 0.25em;background-color: #f0f8ff;}#sk-container-id-6 input.sk-toggleable__control:checked~div.sk-toggleable__content {max-height: 200px;max-width: 100%;overflow: auto;}#sk-container-id-6 input.sk-toggleable__control:checked~label.sk-toggleable__label-arrow:before {content: \"▾\";}#sk-container-id-6 div.sk-estimator input.sk-toggleable__control:checked~label.sk-toggleable__label {background-color: #d4ebff;}#sk-container-id-6 div.sk-label input.sk-toggleable__control:checked~label.sk-toggleable__label {background-color: #d4ebff;}#sk-container-id-6 input.sk-hidden--visually {border: 0;clip: rect(1px 1px 1px 1px);clip: rect(1px, 1px, 1px, 1px);height: 1px;margin: -1px;overflow: hidden;padding: 0;position: absolute;width: 1px;}#sk-container-id-6 div.sk-estimator {font-family: monospace;background-color: #f0f8ff;border: 1px dotted black;border-radius: 0.25em;box-sizing: border-box;margin-bottom: 0.5em;}#sk-container-id-6 div.sk-estimator:hover {background-color: #d4ebff;}#sk-container-id-6 div.sk-parallel-item::after {content: \"\";width: 100%;border-bottom: 1px solid gray;flex-grow: 1;}#sk-container-id-6 div.sk-label:hover label.sk-toggleable__label {background-color: #d4ebff;}#sk-container-id-6 div.sk-serial::before {content: \"\";position: absolute;border-left: 1px solid gray;box-sizing: border-box;top: 0;bottom: 0;left: 50%;z-index: 0;}#sk-container-id-6 div.sk-serial {display: flex;flex-direction: column;align-items: center;background-color: white;padding-right: 0.2em;padding-left: 0.2em;position: relative;}#sk-container-id-6 div.sk-item {position: relative;z-index: 1;}#sk-container-id-6 div.sk-parallel {display: flex;align-items: stretch;justify-content: center;background-color: white;position: relative;}#sk-container-id-6 div.sk-item::before, #sk-container-id-6 div.sk-parallel-item::before {content: \"\";position: absolute;border-left: 1px solid gray;box-sizing: border-box;top: 0;bottom: 0;left: 50%;z-index: -1;}#sk-container-id-6 div.sk-parallel-item {display: flex;flex-direction: column;z-index: 1;position: relative;background-color: white;}#sk-container-id-6 div.sk-parallel-item:first-child::after {align-self: flex-end;width: 50%;}#sk-container-id-6 div.sk-parallel-item:last-child::after {align-self: flex-start;width: 50%;}#sk-container-id-6 div.sk-parallel-item:only-child::after {width: 0;}#sk-container-id-6 div.sk-dashed-wrapped {border: 1px dashed gray;margin: 0 0.4em 0.5em 0.4em;box-sizing: border-box;padding-bottom: 0.4em;background-color: white;}#sk-container-id-6 div.sk-label label {font-family: monospace;font-weight: bold;display: inline-block;line-height: 1.2em;}#sk-container-id-6 div.sk-label-container {text-align: center;}#sk-container-id-6 div.sk-container {/* jupyter's `normalize.less` sets `[hidden] { display: none; }` but bootstrap.min.css set `[hidden] { display: none !important; }` so we also need the `!important` here to be able to override the default hidden behavior on the sphinx rendered scikit-learn.org. See: https://github.com/scikit-learn/scikit-learn/issues/21755 */display: inline-block !important;position: relative;}#sk-container-id-6 div.sk-text-repr-fallback {display: none;}</style><div id=\"sk-container-id-6\" class=\"sk-top-container\"><div class=\"sk-text-repr-fallback\"><pre>ElasticNet(alpha=0.006723357536499335, l1_ratio=0.1)</pre><b>In a Jupyter environment, please rerun this cell to show the HTML representation or trust the notebook. <br />On GitHub, the HTML representation is unable to render, please try loading this page with nbviewer.org.</b></div><div class=\"sk-container\" hidden><div class=\"sk-item\"><div class=\"sk-estimator sk-toggleable\"><input class=\"sk-toggleable__control sk-hidden--visually\" id=\"sk-estimator-id-17\" type=\"checkbox\" checked><label for=\"sk-estimator-id-17\" class=\"sk-toggleable__label sk-toggleable__label-arrow\">ElasticNet</label><div class=\"sk-toggleable__content\"><pre>ElasticNet(alpha=0.006723357536499335, l1_ratio=0.1)</pre></div></div></div></div></div>"
      ],
      "text/plain": [
       "ElasticNet(alpha=0.006723357536499335, l1_ratio=0.1)"
      ]
     },
     "execution_count": 103,
     "metadata": {},
     "output_type": "execute_result"
    }
   ],
   "source": [
    "enet"
   ]
  },
  {
   "cell_type": "code",
   "execution_count": 104,
   "id": "8b1ffd75-0cbc-4707-bcda-58f275302eb0",
   "metadata": {},
   "outputs": [],
   "source": [
    "data_cv[features_linear] = StandardScaler().fit_transform(data_cv[features_linear])"
   ]
  },
  {
   "cell_type": "code",
   "execution_count": 105,
   "id": "06ab5428-00bb-4b97-8805-4ff8c1b932f5",
   "metadata": {},
   "outputs": [
    {
     "data": {
      "text/html": [
       "<div>\n",
       "<style scoped>\n",
       "    .dataframe tbody tr th:only-of-type {\n",
       "        vertical-align: middle;\n",
       "    }\n",
       "\n",
       "    .dataframe tbody tr th {\n",
       "        vertical-align: top;\n",
       "    }\n",
       "\n",
       "    .dataframe thead th {\n",
       "        text-align: right;\n",
       "    }\n",
       "</style>\n",
       "<table border=\"1\" class=\"dataframe\">\n",
       "  <thead>\n",
       "    <tr style=\"text-align: right;\">\n",
       "      <th></th>\n",
       "      <th>lg_flrsfmean</th>\n",
       "      <th>overallqual</th>\n",
       "      <th>houseage</th>\n",
       "      <th>lg_lotarea</th>\n",
       "      <th>overallcond</th>\n",
       "      <th>bsmtqual</th>\n",
       "      <th>garagecars</th>\n",
       "      <th>kitchenqual</th>\n",
       "      <th>exterqual</th>\n",
       "      <th>price</th>\n",
       "    </tr>\n",
       "  </thead>\n",
       "  <tbody>\n",
       "    <tr>\n",
       "      <th>907</th>\n",
       "      <td>0.890837</td>\n",
       "      <td>0.658296</td>\n",
       "      <td>1.086695</td>\n",
       "      <td>0.460637</td>\n",
       "      <td>1.282781</td>\n",
       "      <td>0.589113</td>\n",
       "      <td>-1.035399</td>\n",
       "      <td>0.751124</td>\n",
       "      <td>1.063566</td>\n",
       "      <td>12.429216</td>\n",
       "    </tr>\n",
       "    <tr>\n",
       "      <th>782</th>\n",
       "      <td>0.208510</td>\n",
       "      <td>0.658296</td>\n",
       "      <td>-0.946281</td>\n",
       "      <td>1.132222</td>\n",
       "      <td>-0.519712</td>\n",
       "      <td>0.589113</td>\n",
       "      <td>0.312573</td>\n",
       "      <td>0.751124</td>\n",
       "      <td>1.063566</td>\n",
       "      <td>12.139399</td>\n",
       "    </tr>\n",
       "    <tr>\n",
       "      <th>952</th>\n",
       "      <td>-1.915383</td>\n",
       "      <td>-0.805701</td>\n",
       "      <td>0.004627</td>\n",
       "      <td>-0.443275</td>\n",
       "      <td>2.184027</td>\n",
       "      <td>0.589113</td>\n",
       "      <td>-1.035399</td>\n",
       "      <td>-0.768511</td>\n",
       "      <td>-0.692523</td>\n",
       "      <td>11.804849</td>\n",
       "    </tr>\n",
       "    <tr>\n",
       "      <th>620</th>\n",
       "      <td>-1.513143</td>\n",
       "      <td>-2.269698</td>\n",
       "      <td>1.873653</td>\n",
       "      <td>-0.180967</td>\n",
       "      <td>-2.322204</td>\n",
       "      <td>-0.561896</td>\n",
       "      <td>-2.383371</td>\n",
       "      <td>-0.768511</td>\n",
       "      <td>-0.692523</td>\n",
       "      <td>11.112448</td>\n",
       "    </tr>\n",
       "    <tr>\n",
       "      <th>669</th>\n",
       "      <td>-0.448245</td>\n",
       "      <td>-1.537699</td>\n",
       "      <td>1.545754</td>\n",
       "      <td>0.477350</td>\n",
       "      <td>-0.519712</td>\n",
       "      <td>-1.712905</td>\n",
       "      <td>-1.035399</td>\n",
       "      <td>-2.288146</td>\n",
       "      <td>-0.692523</td>\n",
       "      <td>11.831379</td>\n",
       "    </tr>\n",
       "  </tbody>\n",
       "</table>\n",
       "</div>"
      ],
      "text/plain": [
       "     lg_flrsfmean  overallqual  houseage  lg_lotarea  overallcond  bsmtqual  \\\n",
       "907      0.890837     0.658296  1.086695    0.460637     1.282781  0.589113   \n",
       "782      0.208510     0.658296 -0.946281    1.132222    -0.519712  0.589113   \n",
       "952     -1.915383    -0.805701  0.004627   -0.443275     2.184027  0.589113   \n",
       "620     -1.513143    -2.269698  1.873653   -0.180967    -2.322204 -0.561896   \n",
       "669     -0.448245    -1.537699  1.545754    0.477350    -0.519712 -1.712905   \n",
       "\n",
       "     garagecars  kitchenqual  exterqual      price  \n",
       "907   -1.035399     0.751124   1.063566  12.429216  \n",
       "782    0.312573     0.751124   1.063566  12.139399  \n",
       "952   -1.035399    -0.768511  -0.692523  11.804849  \n",
       "620   -2.383371    -0.768511  -0.692523  11.112448  \n",
       "669   -1.035399    -2.288146  -0.692523  11.831379  "
      ]
     },
     "execution_count": 105,
     "metadata": {},
     "output_type": "execute_result"
    }
   ],
   "source": [
    "data_cv.head()"
   ]
  },
  {
   "cell_type": "code",
   "execution_count": 106,
   "id": "6adfabf2-db15-4152-ab10-809b58aceb1e",
   "metadata": {},
   "outputs": [
    {
     "data": {
      "text/html": [
       "<style>#sk-container-id-7 {color: black;}#sk-container-id-7 pre{padding: 0;}#sk-container-id-7 div.sk-toggleable {background-color: white;}#sk-container-id-7 label.sk-toggleable__label {cursor: pointer;display: block;width: 100%;margin-bottom: 0;padding: 0.3em;box-sizing: border-box;text-align: center;}#sk-container-id-7 label.sk-toggleable__label-arrow:before {content: \"▸\";float: left;margin-right: 0.25em;color: #696969;}#sk-container-id-7 label.sk-toggleable__label-arrow:hover:before {color: black;}#sk-container-id-7 div.sk-estimator:hover label.sk-toggleable__label-arrow:before {color: black;}#sk-container-id-7 div.sk-toggleable__content {max-height: 0;max-width: 0;overflow: hidden;text-align: left;background-color: #f0f8ff;}#sk-container-id-7 div.sk-toggleable__content pre {margin: 0.2em;color: black;border-radius: 0.25em;background-color: #f0f8ff;}#sk-container-id-7 input.sk-toggleable__control:checked~div.sk-toggleable__content {max-height: 200px;max-width: 100%;overflow: auto;}#sk-container-id-7 input.sk-toggleable__control:checked~label.sk-toggleable__label-arrow:before {content: \"▾\";}#sk-container-id-7 div.sk-estimator input.sk-toggleable__control:checked~label.sk-toggleable__label {background-color: #d4ebff;}#sk-container-id-7 div.sk-label input.sk-toggleable__control:checked~label.sk-toggleable__label {background-color: #d4ebff;}#sk-container-id-7 input.sk-hidden--visually {border: 0;clip: rect(1px 1px 1px 1px);clip: rect(1px, 1px, 1px, 1px);height: 1px;margin: -1px;overflow: hidden;padding: 0;position: absolute;width: 1px;}#sk-container-id-7 div.sk-estimator {font-family: monospace;background-color: #f0f8ff;border: 1px dotted black;border-radius: 0.25em;box-sizing: border-box;margin-bottom: 0.5em;}#sk-container-id-7 div.sk-estimator:hover {background-color: #d4ebff;}#sk-container-id-7 div.sk-parallel-item::after {content: \"\";width: 100%;border-bottom: 1px solid gray;flex-grow: 1;}#sk-container-id-7 div.sk-label:hover label.sk-toggleable__label {background-color: #d4ebff;}#sk-container-id-7 div.sk-serial::before {content: \"\";position: absolute;border-left: 1px solid gray;box-sizing: border-box;top: 0;bottom: 0;left: 50%;z-index: 0;}#sk-container-id-7 div.sk-serial {display: flex;flex-direction: column;align-items: center;background-color: white;padding-right: 0.2em;padding-left: 0.2em;position: relative;}#sk-container-id-7 div.sk-item {position: relative;z-index: 1;}#sk-container-id-7 div.sk-parallel {display: flex;align-items: stretch;justify-content: center;background-color: white;position: relative;}#sk-container-id-7 div.sk-item::before, #sk-container-id-7 div.sk-parallel-item::before {content: \"\";position: absolute;border-left: 1px solid gray;box-sizing: border-box;top: 0;bottom: 0;left: 50%;z-index: -1;}#sk-container-id-7 div.sk-parallel-item {display: flex;flex-direction: column;z-index: 1;position: relative;background-color: white;}#sk-container-id-7 div.sk-parallel-item:first-child::after {align-self: flex-end;width: 50%;}#sk-container-id-7 div.sk-parallel-item:last-child::after {align-self: flex-start;width: 50%;}#sk-container-id-7 div.sk-parallel-item:only-child::after {width: 0;}#sk-container-id-7 div.sk-dashed-wrapped {border: 1px dashed gray;margin: 0 0.4em 0.5em 0.4em;box-sizing: border-box;padding-bottom: 0.4em;background-color: white;}#sk-container-id-7 div.sk-label label {font-family: monospace;font-weight: bold;display: inline-block;line-height: 1.2em;}#sk-container-id-7 div.sk-label-container {text-align: center;}#sk-container-id-7 div.sk-container {/* jupyter's `normalize.less` sets `[hidden] { display: none; }` but bootstrap.min.css set `[hidden] { display: none !important; }` so we also need the `!important` here to be able to override the default hidden behavior on the sphinx rendered scikit-learn.org. See: https://github.com/scikit-learn/scikit-learn/issues/21755 */display: inline-block !important;position: relative;}#sk-container-id-7 div.sk-text-repr-fallback {display: none;}</style><div id=\"sk-container-id-7\" class=\"sk-top-container\"><div class=\"sk-text-repr-fallback\"><pre>ElasticNet(alpha=0.006723357536499335, l1_ratio=0.1)</pre><b>In a Jupyter environment, please rerun this cell to show the HTML representation or trust the notebook. <br />On GitHub, the HTML representation is unable to render, please try loading this page with nbviewer.org.</b></div><div class=\"sk-container\" hidden><div class=\"sk-item\"><div class=\"sk-estimator sk-toggleable\"><input class=\"sk-toggleable__control sk-hidden--visually\" id=\"sk-estimator-id-18\" type=\"checkbox\" checked><label for=\"sk-estimator-id-18\" class=\"sk-toggleable__label sk-toggleable__label-arrow\">ElasticNet</label><div class=\"sk-toggleable__content\"><pre>ElasticNet(alpha=0.006723357536499335, l1_ratio=0.1)</pre></div></div></div></div></div>"
      ],
      "text/plain": [
       "ElasticNet(alpha=0.006723357536499335, l1_ratio=0.1)"
      ]
     },
     "execution_count": 106,
     "metadata": {},
     "output_type": "execute_result"
    }
   ],
   "source": [
    "enet.fit(data_cv[features_linear], data_cv[target])"
   ]
  },
  {
   "cell_type": "code",
   "execution_count": 107,
   "id": "55d80d96-9b45-4b4e-9017-09ff4396dcd1",
   "metadata": {},
   "outputs": [],
   "source": [
    "enet_coef = pd.concat([\n",
    "    pd.Series(enet.feature_names_in_, name='feature'),\n",
    "    pd.Series(enet.coef_, name='enet')\n",
    "], axis=1)\n",
    "\n",
    "# add Intercept as first row\n",
    "enet_coef.loc[-1] = ['Intercept', enet.intercept_]\n",
    "enet_coef.index = enet_coef.index + 1\n",
    "enet_coef = enet_coef.sort_index()"
   ]
  },
  {
   "cell_type": "code",
   "execution_count": 108,
   "id": "66c53bbb-1aaf-4a6b-a4cf-ed1a16db69d8",
   "metadata": {},
   "outputs": [
    {
     "data": {
      "text/html": [
       "<div>\n",
       "<style scoped>\n",
       "    .dataframe tbody tr th:only-of-type {\n",
       "        vertical-align: middle;\n",
       "    }\n",
       "\n",
       "    .dataframe tbody tr th {\n",
       "        vertical-align: top;\n",
       "    }\n",
       "\n",
       "    .dataframe thead th {\n",
       "        text-align: right;\n",
       "    }\n",
       "</style>\n",
       "<table border=\"1\" class=\"dataframe\">\n",
       "  <thead>\n",
       "    <tr style=\"text-align: right;\">\n",
       "      <th></th>\n",
       "      <th>feature</th>\n",
       "      <th>enet</th>\n",
       "    </tr>\n",
       "  </thead>\n",
       "  <tbody>\n",
       "    <tr>\n",
       "      <th>0</th>\n",
       "      <td>Intercept</td>\n",
       "      <td>12.024989</td>\n",
       "    </tr>\n",
       "    <tr>\n",
       "      <th>1</th>\n",
       "      <td>lg_flrsfmean</td>\n",
       "      <td>0.146236</td>\n",
       "    </tr>\n",
       "    <tr>\n",
       "      <th>2</th>\n",
       "      <td>overallqual</td>\n",
       "      <td>0.094140</td>\n",
       "    </tr>\n",
       "    <tr>\n",
       "      <th>3</th>\n",
       "      <td>houseage</td>\n",
       "      <td>-0.087181</td>\n",
       "    </tr>\n",
       "    <tr>\n",
       "      <th>4</th>\n",
       "      <td>lg_lotarea</td>\n",
       "      <td>0.062462</td>\n",
       "    </tr>\n",
       "    <tr>\n",
       "      <th>5</th>\n",
       "      <td>overallcond</td>\n",
       "      <td>0.058608</td>\n",
       "    </tr>\n",
       "    <tr>\n",
       "      <th>6</th>\n",
       "      <td>bsmtqual</td>\n",
       "      <td>0.042682</td>\n",
       "    </tr>\n",
       "    <tr>\n",
       "      <th>7</th>\n",
       "      <td>garagecars</td>\n",
       "      <td>0.035288</td>\n",
       "    </tr>\n",
       "    <tr>\n",
       "      <th>8</th>\n",
       "      <td>kitchenqual</td>\n",
       "      <td>0.028962</td>\n",
       "    </tr>\n",
       "    <tr>\n",
       "      <th>9</th>\n",
       "      <td>exterqual</td>\n",
       "      <td>0.018759</td>\n",
       "    </tr>\n",
       "  </tbody>\n",
       "</table>\n",
       "</div>"
      ],
      "text/plain": [
       "        feature       enet\n",
       "0     Intercept  12.024989\n",
       "1  lg_flrsfmean   0.146236\n",
       "2   overallqual   0.094140\n",
       "3      houseage  -0.087181\n",
       "4    lg_lotarea   0.062462\n",
       "5   overallcond   0.058608\n",
       "6      bsmtqual   0.042682\n",
       "7    garagecars   0.035288\n",
       "8   kitchenqual   0.028962\n",
       "9     exterqual   0.018759"
      ]
     },
     "execution_count": 108,
     "metadata": {},
     "output_type": "execute_result"
    }
   ],
   "source": [
    "enet_coef"
   ]
  },
  {
   "cell_type": "code",
   "execution_count": 109,
   "id": "58dd85c2-77ff-4d6b-a06a-de5a328bc8dc",
   "metadata": {},
   "outputs": [],
   "source": [
    "model_names = ['LR', 'ENet']\n",
    "result_simulation_regressions = simulation_regressions(\n",
    "    data_raw, target, lr, enet, model_names,\n",
    "    sample_frac=1, n_folds=1000)"
   ]
  },
  {
   "cell_type": "code",
   "execution_count": 110,
   "id": "21e3f5fb-2c64-42ec-a582-ada469ff56b5",
   "metadata": {},
   "outputs": [
    {
     "data": {
      "text/html": [
       "<div>\n",
       "<style scoped>\n",
       "    .dataframe tbody tr th:only-of-type {\n",
       "        vertical-align: middle;\n",
       "    }\n",
       "\n",
       "    .dataframe tbody tr th {\n",
       "        vertical-align: top;\n",
       "    }\n",
       "\n",
       "    .dataframe thead th {\n",
       "        text-align: right;\n",
       "    }\n",
       "</style>\n",
       "<table border=\"1\" class=\"dataframe\">\n",
       "  <thead>\n",
       "    <tr style=\"text-align: right;\">\n",
       "      <th></th>\n",
       "      <th>LR</th>\n",
       "      <th>ENet</th>\n",
       "    </tr>\n",
       "  </thead>\n",
       "  <tbody>\n",
       "    <tr>\n",
       "      <th>0</th>\n",
       "      <td>0.128730</td>\n",
       "      <td>0.128211</td>\n",
       "    </tr>\n",
       "    <tr>\n",
       "      <th>1</th>\n",
       "      <td>0.125578</td>\n",
       "      <td>0.125245</td>\n",
       "    </tr>\n",
       "    <tr>\n",
       "      <th>2</th>\n",
       "      <td>0.134619</td>\n",
       "      <td>0.133933</td>\n",
       "    </tr>\n",
       "    <tr>\n",
       "      <th>3</th>\n",
       "      <td>0.135801</td>\n",
       "      <td>0.135461</td>\n",
       "    </tr>\n",
       "    <tr>\n",
       "      <th>4</th>\n",
       "      <td>0.134806</td>\n",
       "      <td>0.133968</td>\n",
       "    </tr>\n",
       "  </tbody>\n",
       "</table>\n",
       "</div>"
      ],
      "text/plain": [
       "         LR      ENet\n",
       "0  0.128730  0.128211\n",
       "1  0.125578  0.125245\n",
       "2  0.134619  0.133933\n",
       "3  0.135801  0.135461\n",
       "4  0.134806  0.133968"
      ]
     },
     "execution_count": 110,
     "metadata": {},
     "output_type": "execute_result"
    }
   ],
   "source": [
    "result_simulation_regressions.head()"
   ]
  },
  {
   "cell_type": "code",
   "execution_count": 111,
   "id": "57812dfa-9b93-4e2d-ab91-332460c43e98",
   "metadata": {},
   "outputs": [
    {
     "data": {
      "text/plain": [
       "LR      0.135263\n",
       "ENet    0.134729\n",
       "dtype: float64"
      ]
     },
     "execution_count": 111,
     "metadata": {},
     "output_type": "execute_result"
    }
   ],
   "source": [
    "result_simulation_regressions.mean()"
   ]
  },
  {
   "cell_type": "code",
   "execution_count": 112,
   "id": "1ef06f5b-9ef8-42f6-8a56-c1d103dc27c5",
   "metadata": {},
   "outputs": [
    {
     "data": {
      "text/plain": [
       "LR      0.005134\n",
       "ENet    0.004975\n",
       "dtype: float64"
      ]
     },
     "execution_count": 112,
     "metadata": {},
     "output_type": "execute_result"
    }
   ],
   "source": [
    "result_simulation_regressions.std()"
   ]
  },
  {
   "cell_type": "code",
   "execution_count": 113,
   "id": "ba97b4ec-cf6f-44b4-80e5-118235f84d75",
   "metadata": {},
   "outputs": [
    {
     "data": {
      "text/html": [
       "<div>\n",
       "<style scoped>\n",
       "    .dataframe tbody tr th:only-of-type {\n",
       "        vertical-align: middle;\n",
       "    }\n",
       "\n",
       "    .dataframe tbody tr th {\n",
       "        vertical-align: top;\n",
       "    }\n",
       "\n",
       "    .dataframe thead th {\n",
       "        text-align: right;\n",
       "    }\n",
       "</style>\n",
       "<table border=\"1\" class=\"dataframe\">\n",
       "  <thead>\n",
       "    <tr style=\"text-align: right;\">\n",
       "      <th></th>\n",
       "      <th>Test</th>\n",
       "      <th>P or Statistic (s)</th>\n",
       "      <th>Condition</th>\n",
       "    </tr>\n",
       "  </thead>\n",
       "  <tbody>\n",
       "    <tr>\n",
       "      <th>0</th>\n",
       "      <td>Kolmogorov-Smirnov</td>\n",
       "      <td>0.0000</td>\n",
       "      <td>Not normal</td>\n",
       "    </tr>\n",
       "    <tr>\n",
       "      <th>1</th>\n",
       "      <td>Anderson-Darling (s)</td>\n",
       "      <td>0.3013</td>\n",
       "      <td>Normal</td>\n",
       "    </tr>\n",
       "    <tr>\n",
       "      <th>2</th>\n",
       "      <td>Shapiro-Wilk</td>\n",
       "      <td>0.0608</td>\n",
       "      <td>Normal</td>\n",
       "    </tr>\n",
       "    <tr>\n",
       "      <th>3</th>\n",
       "      <td>Jarque-Bera</td>\n",
       "      <td>0.1807</td>\n",
       "      <td>Normal</td>\n",
       "    </tr>\n",
       "    <tr>\n",
       "      <th>4</th>\n",
       "      <td>D’Agostino-Pearson</td>\n",
       "      <td>0.1846</td>\n",
       "      <td>Normal</td>\n",
       "    </tr>\n",
       "  </tbody>\n",
       "</table>\n",
       "</div>"
      ],
      "text/plain": [
       "                   Test  P or Statistic (s)   Condition\n",
       "0    Kolmogorov-Smirnov              0.0000  Not normal\n",
       "1  Anderson-Darling (s)              0.3013      Normal\n",
       "2          Shapiro-Wilk              0.0608      Normal\n",
       "3           Jarque-Bera              0.1807      Normal\n",
       "4    D’Agostino-Pearson              0.1846      Normal"
      ]
     },
     "execution_count": 113,
     "metadata": {},
     "output_type": "execute_result"
    }
   ],
   "source": [
    "test_normality(result_simulation_regressions['LR'])"
   ]
  },
  {
   "cell_type": "code",
   "execution_count": 114,
   "id": "98a2275d-15db-46ab-8d9c-226f293df537",
   "metadata": {},
   "outputs": [
    {
     "data": {
      "text/html": [
       "<div>\n",
       "<style scoped>\n",
       "    .dataframe tbody tr th:only-of-type {\n",
       "        vertical-align: middle;\n",
       "    }\n",
       "\n",
       "    .dataframe tbody tr th {\n",
       "        vertical-align: top;\n",
       "    }\n",
       "\n",
       "    .dataframe thead th {\n",
       "        text-align: right;\n",
       "    }\n",
       "</style>\n",
       "<table border=\"1\" class=\"dataframe\">\n",
       "  <thead>\n",
       "    <tr style=\"text-align: right;\">\n",
       "      <th></th>\n",
       "      <th>Test</th>\n",
       "      <th>P or Statistic (s)</th>\n",
       "      <th>Condition</th>\n",
       "    </tr>\n",
       "  </thead>\n",
       "  <tbody>\n",
       "    <tr>\n",
       "      <th>0</th>\n",
       "      <td>Kolmogorov-Smirnov</td>\n",
       "      <td>0.0000</td>\n",
       "      <td>Not normal</td>\n",
       "    </tr>\n",
       "    <tr>\n",
       "      <th>1</th>\n",
       "      <td>Anderson-Darling (s)</td>\n",
       "      <td>0.3407</td>\n",
       "      <td>Normal</td>\n",
       "    </tr>\n",
       "    <tr>\n",
       "      <th>2</th>\n",
       "      <td>Shapiro-Wilk</td>\n",
       "      <td>0.0303</td>\n",
       "      <td>Not normal</td>\n",
       "    </tr>\n",
       "    <tr>\n",
       "      <th>3</th>\n",
       "      <td>Jarque-Bera</td>\n",
       "      <td>0.1550</td>\n",
       "      <td>Normal</td>\n",
       "    </tr>\n",
       "    <tr>\n",
       "      <th>4</th>\n",
       "      <td>D’Agostino-Pearson</td>\n",
       "      <td>0.1585</td>\n",
       "      <td>Normal</td>\n",
       "    </tr>\n",
       "  </tbody>\n",
       "</table>\n",
       "</div>"
      ],
      "text/plain": [
       "                   Test  P or Statistic (s)   Condition\n",
       "0    Kolmogorov-Smirnov              0.0000  Not normal\n",
       "1  Anderson-Darling (s)              0.3407      Normal\n",
       "2          Shapiro-Wilk              0.0303  Not normal\n",
       "3           Jarque-Bera              0.1550      Normal\n",
       "4    D’Agostino-Pearson              0.1585      Normal"
      ]
     },
     "execution_count": 114,
     "metadata": {},
     "output_type": "execute_result"
    }
   ],
   "source": [
    "test_normality(result_simulation_regressions['ENet'])"
   ]
  },
  {
   "cell_type": "code",
   "execution_count": 115,
   "id": "c6882615-bac5-43f6-8e10-08082951100f",
   "metadata": {},
   "outputs": [
    {
     "data": {
      "image/png": "[encoded data removed]",
      "text/plain": [
       "<Figure size 700x400 with 3 Axes>"
      ]
     },
     "metadata": {},
     "output_type": "display_data"
    },
    {
     "name": "stdout",
     "output_type": "stream",
     "text": [
      "Image 'simulations.png' successfully saved into 'img/Section4-Linear-models-research' directory\n"
     ]
    }
   ],
   "source": [
    "fig = plot_lr_enet_comparison(result_simulation_regressions)\n",
    "# save plot\n",
    "savefig('simulations', dir_save)"
   ]
  },
  {
   "cell_type": "code",
   "execution_count": 116,
   "id": "7917b8fb-7c5b-4f2d-8a59-0403bdd77815",
   "metadata": {},
   "outputs": [],
   "source": [
    "lr_coef = lr.params.to_frame(name='lr')\n",
    "# add column with ci\n",
    "lr_coef = pd.concat([\n",
    "    lr_coef,\n",
    "    lr.conf_int().rename(columns={0: 'ci_min', 1: 'ci_max'})\n",
    "], axis=1)\n",
    "lr_coef = lr_coef.reset_index(names='feature')"
   ]
  },
  {
   "cell_type": "code",
   "execution_count": 117,
   "id": "94ae409f-c244-4874-b2f3-9d2acd8037b8",
   "metadata": {},
   "outputs": [
    {
     "data": {
      "text/html": [
       "<div>\n",
       "<style scoped>\n",
       "    .dataframe tbody tr th:only-of-type {\n",
       "        vertical-align: middle;\n",
       "    }\n",
       "\n",
       "    .dataframe tbody tr th {\n",
       "        vertical-align: top;\n",
       "    }\n",
       "\n",
       "    .dataframe thead th {\n",
       "        text-align: right;\n",
       "    }\n",
       "</style>\n",
       "<table border=\"1\" class=\"dataframe\">\n",
       "  <thead>\n",
       "    <tr style=\"text-align: right;\">\n",
       "      <th></th>\n",
       "      <th>feature</th>\n",
       "      <th>lr</th>\n",
       "      <th>ci_min</th>\n",
       "      <th>ci_max</th>\n",
       "    </tr>\n",
       "  </thead>\n",
       "  <tbody>\n",
       "    <tr>\n",
       "      <th>0</th>\n",
       "      <td>Intercept</td>\n",
       "      <td>12.026297</td>\n",
       "      <td>12.019411</td>\n",
       "      <td>12.033183</td>\n",
       "    </tr>\n",
       "    <tr>\n",
       "      <th>1</th>\n",
       "      <td>lg_flrsfmean</td>\n",
       "      <td>0.144424</td>\n",
       "      <td>0.133645</td>\n",
       "      <td>0.155203</td>\n",
       "    </tr>\n",
       "    <tr>\n",
       "      <th>2</th>\n",
       "      <td>overallqual</td>\n",
       "      <td>0.087951</td>\n",
       "      <td>0.074537</td>\n",
       "      <td>0.101366</td>\n",
       "    </tr>\n",
       "    <tr>\n",
       "      <th>3</th>\n",
       "      <td>houseage</td>\n",
       "      <td>-0.085404</td>\n",
       "      <td>-0.098368</td>\n",
       "      <td>-0.072440</td>\n",
       "    </tr>\n",
       "    <tr>\n",
       "      <th>4</th>\n",
       "      <td>lg_lotarea</td>\n",
       "      <td>0.061270</td>\n",
       "      <td>0.053008</td>\n",
       "      <td>0.069532</td>\n",
       "    </tr>\n",
       "    <tr>\n",
       "      <th>5</th>\n",
       "      <td>overallcond</td>\n",
       "      <td>0.055904</td>\n",
       "      <td>0.047263</td>\n",
       "      <td>0.064546</td>\n",
       "    </tr>\n",
       "    <tr>\n",
       "      <th>6</th>\n",
       "      <td>bsmtqual</td>\n",
       "      <td>0.046012</td>\n",
       "      <td>0.036325</td>\n",
       "      <td>0.055698</td>\n",
       "    </tr>\n",
       "    <tr>\n",
       "      <th>7</th>\n",
       "      <td>garagecars</td>\n",
       "      <td>0.031576</td>\n",
       "      <td>0.020456</td>\n",
       "      <td>0.042695</td>\n",
       "    </tr>\n",
       "    <tr>\n",
       "      <th>8</th>\n",
       "      <td>kitchenqual</td>\n",
       "      <td>0.026770</td>\n",
       "      <td>0.016015</td>\n",
       "      <td>0.037526</td>\n",
       "    </tr>\n",
       "    <tr>\n",
       "      <th>9</th>\n",
       "      <td>exterqual</td>\n",
       "      <td>0.020048</td>\n",
       "      <td>0.009430</td>\n",
       "      <td>0.030665</td>\n",
       "    </tr>\n",
       "  </tbody>\n",
       "</table>\n",
       "</div>"
      ],
      "text/plain": [
       "        feature         lr     ci_min     ci_max\n",
       "0     Intercept  12.026297  12.019411  12.033183\n",
       "1  lg_flrsfmean   0.144424   0.133645   0.155203\n",
       "2   overallqual   0.087951   0.074537   0.101366\n",
       "3      houseage  -0.085404  -0.098368  -0.072440\n",
       "4    lg_lotarea   0.061270   0.053008   0.069532\n",
       "5   overallcond   0.055904   0.047263   0.064546\n",
       "6      bsmtqual   0.046012   0.036325   0.055698\n",
       "7    garagecars   0.031576   0.020456   0.042695\n",
       "8   kitchenqual   0.026770   0.016015   0.037526\n",
       "9     exterqual   0.020048   0.009430   0.030665"
      ]
     },
     "execution_count": 117,
     "metadata": {},
     "output_type": "execute_result"
    }
   ],
   "source": [
    "lr_coef"
   ]
  },
  {
   "cell_type": "code",
   "execution_count": 118,
   "id": "383ec000-eb6a-46da-8297-916f7c1a2366",
   "metadata": {},
   "outputs": [],
   "source": [
    "comparing_df = lr_coef.merge(enet_coef, on='feature')"
   ]
  },
  {
   "cell_type": "code",
   "execution_count": 119,
   "id": "9fb9d3cc-aa48-411a-beaa-e0d565fa3541",
   "metadata": {},
   "outputs": [
    {
     "data": {
      "text/html": [
       "<div>\n",
       "<style scoped>\n",
       "    .dataframe tbody tr th:only-of-type {\n",
       "        vertical-align: middle;\n",
       "    }\n",
       "\n",
       "    .dataframe tbody tr th {\n",
       "        vertical-align: top;\n",
       "    }\n",
       "\n",
       "    .dataframe thead th {\n",
       "        text-align: right;\n",
       "    }\n",
       "</style>\n",
       "<table border=\"1\" class=\"dataframe\">\n",
       "  <thead>\n",
       "    <tr style=\"text-align: right;\">\n",
       "      <th></th>\n",
       "      <th>feature</th>\n",
       "      <th>lr</th>\n",
       "      <th>ci_min</th>\n",
       "      <th>ci_max</th>\n",
       "      <th>enet</th>\n",
       "    </tr>\n",
       "  </thead>\n",
       "  <tbody>\n",
       "    <tr>\n",
       "      <th>0</th>\n",
       "      <td>Intercept</td>\n",
       "      <td>12.026297</td>\n",
       "      <td>12.019411</td>\n",
       "      <td>12.033183</td>\n",
       "      <td>12.024989</td>\n",
       "    </tr>\n",
       "    <tr>\n",
       "      <th>1</th>\n",
       "      <td>lg_flrsfmean</td>\n",
       "      <td>0.144424</td>\n",
       "      <td>0.133645</td>\n",
       "      <td>0.155203</td>\n",
       "      <td>0.146236</td>\n",
       "    </tr>\n",
       "    <tr>\n",
       "      <th>2</th>\n",
       "      <td>overallqual</td>\n",
       "      <td>0.087951</td>\n",
       "      <td>0.074537</td>\n",
       "      <td>0.101366</td>\n",
       "      <td>0.094140</td>\n",
       "    </tr>\n",
       "    <tr>\n",
       "      <th>3</th>\n",
       "      <td>houseage</td>\n",
       "      <td>-0.085404</td>\n",
       "      <td>-0.098368</td>\n",
       "      <td>-0.072440</td>\n",
       "      <td>-0.087181</td>\n",
       "    </tr>\n",
       "    <tr>\n",
       "      <th>4</th>\n",
       "      <td>lg_lotarea</td>\n",
       "      <td>0.061270</td>\n",
       "      <td>0.053008</td>\n",
       "      <td>0.069532</td>\n",
       "      <td>0.062462</td>\n",
       "    </tr>\n",
       "    <tr>\n",
       "      <th>5</th>\n",
       "      <td>overallcond</td>\n",
       "      <td>0.055904</td>\n",
       "      <td>0.047263</td>\n",
       "      <td>0.064546</td>\n",
       "      <td>0.058608</td>\n",
       "    </tr>\n",
       "    <tr>\n",
       "      <th>6</th>\n",
       "      <td>bsmtqual</td>\n",
       "      <td>0.046012</td>\n",
       "      <td>0.036325</td>\n",
       "      <td>0.055698</td>\n",
       "      <td>0.042682</td>\n",
       "    </tr>\n",
       "    <tr>\n",
       "      <th>7</th>\n",
       "      <td>garagecars</td>\n",
       "      <td>0.031576</td>\n",
       "      <td>0.020456</td>\n",
       "      <td>0.042695</td>\n",
       "      <td>0.035288</td>\n",
       "    </tr>\n",
       "    <tr>\n",
       "      <th>8</th>\n",
       "      <td>kitchenqual</td>\n",
       "      <td>0.026770</td>\n",
       "      <td>0.016015</td>\n",
       "      <td>0.037526</td>\n",
       "      <td>0.028962</td>\n",
       "    </tr>\n",
       "    <tr>\n",
       "      <th>9</th>\n",
       "      <td>exterqual</td>\n",
       "      <td>0.020048</td>\n",
       "      <td>0.009430</td>\n",
       "      <td>0.030665</td>\n",
       "      <td>0.018759</td>\n",
       "    </tr>\n",
       "  </tbody>\n",
       "</table>\n",
       "</div>"
      ],
      "text/plain": [
       "        feature         lr     ci_min     ci_max       enet\n",
       "0     Intercept  12.026297  12.019411  12.033183  12.024989\n",
       "1  lg_flrsfmean   0.144424   0.133645   0.155203   0.146236\n",
       "2   overallqual   0.087951   0.074537   0.101366   0.094140\n",
       "3      houseage  -0.085404  -0.098368  -0.072440  -0.087181\n",
       "4    lg_lotarea   0.061270   0.053008   0.069532   0.062462\n",
       "5   overallcond   0.055904   0.047263   0.064546   0.058608\n",
       "6      bsmtqual   0.046012   0.036325   0.055698   0.042682\n",
       "7    garagecars   0.031576   0.020456   0.042695   0.035288\n",
       "8   kitchenqual   0.026770   0.016015   0.037526   0.028962\n",
       "9     exterqual   0.020048   0.009430   0.030665   0.018759"
      ]
     },
     "execution_count": 119,
     "metadata": {},
     "output_type": "execute_result"
    }
   ],
   "source": [
    "comparing_df"
   ]
  },
  {
   "cell_type": "code",
   "execution_count": 120,
   "id": "94ef61ff-a897-4950-b01f-53ce67e0279f",
   "metadata": {},
   "outputs": [],
   "source": [
    "comparing_df_plot = comparing_df.iloc[1:].copy()\n",
    "comparing_df_plot.sort_values('lr', key=abs, ascending=True, inplace=True)\n",
    "comparing_df_plot.reset_index(drop=True, inplace=True)\n",
    "# xticks for plot\n",
    "xticks = np.arange(1, len(comparing_df_plot['feature'])+1)\n",
    "# yticks for plot\n",
    "yticks = comparing_df_plot.index.tolist()\n",
    "yticks = yticks[::-1]\n",
    "yticks = [(i+1) for i in yticks]\n",
    "ylabels = comparing_df_plot['feature'].values.tolist()\n",
    "ylabels = ylabels[::-1]\n",
    "ylabels = [str.upper(i) for i in ylabels]\n",
    "labels = comparing_df_plot['feature']\n",
    "# delta for points of scatterplots\n",
    "delta_coeff = 0.125"
   ]
  },
  {
   "cell_type": "code",
   "execution_count": 121,
   "id": "5b71b398-baef-41da-9ebd-4296446a2993",
   "metadata": {},
   "outputs": [
    {
     "name": "stdout",
     "output_type": "stream",
     "text": [
      "Image 'coefficients_comparing.png' successfully saved into 'img/Section4-Linear-models-research' directory\n"
     ]
    },
    {
     "data": {
      "image/png": "[encoded data removed]",
      "text/plain": [
       "<Figure size 300x400 with 1 Axes>"
      ]
     },
     "metadata": {},
     "output_type": "display_data"
    }
   ],
   "source": [
    "# figure\n",
    "fig = plt.figure(figsize=(3, 4))\n",
    "# scatterplots\n",
    "ax = plt.scatter(\n",
    "    x=comparing_df_plot['lr'], y=xticks+delta_coeff,\n",
    "    s=7, color=palette[0], alpha=0.9\n",
    ")\n",
    "ax = plt.scatter(\n",
    "    x=comparing_df_plot['enet'],y=xticks-delta_coeff,\n",
    "    s=7, color=palette[1], alpha=0.9\n",
    ")\n",
    "# plot errorbar\n",
    "yerr = ([comparing_df_plot['lr'] - comparing_df_plot['ci_min'],\n",
    "         comparing_df_plot['ci_max'] - comparing_df_plot['lr']])\n",
    "plt.errorbar(\n",
    "    x=comparing_df_plot['lr'], y=xticks+delta_coeff,\n",
    "    xerr=yerr, fmt='none', elinewidth=1, capsize=1.2,\n",
    "    capthick=1, alpha=0.9)\n",
    "# plot zero line\n",
    "plt.axvline(\n",
    "    0, ymin=0.02, ymax=0.98, color=palette[0], lw=0.75, alpha=0.25)\n",
    "# legend\n",
    "plt.legend(\n",
    "    labels=['LR', 'ENet'], loc='lower right', handletextpad=-0.15)\n",
    "# spines\n",
    "ax.axes.spines[['top', 'right']].set_visible(True)\n",
    "# ticks\n",
    "plt.yticks(ticks=yticks, labels=ylabels, weight='bold', fontsize=7)\n",
    "# title\n",
    "plt.title('Comparing LR and ENET coefficients')\n",
    "# remove grid\n",
    "plt.grid(False)\n",
    "# save plot\n",
    "savefig('coefficients_comparing', dir_save)"
   ]
  },
  {
   "cell_type": "markdown",
   "id": "ff1df0dd-7c41-4c16-93af-17522851e8e2",
   "metadata": {},
   "source": [
    "### Save Data"
   ]
  },
  {
   "cell_type": "code",
   "execution_count": 122,
   "id": "6eca108c-3eaa-4f42-959d-da31e155a774",
   "metadata": {},
   "outputs": [],
   "source": [
    "simulation_datasets_dict['train_enet'] = data_cv\n",
    "simulation_datasets_dict['features_enet'] = features_linear"
   ]
  },
  {
   "cell_type": "code",
   "execution_count": 123,
   "id": "088e9150-cd59-4a1b-bc4e-12849313c2df",
   "metadata": {},
   "outputs": [],
   "source": [
    "estimators_dict['enet'] = enet\n",
    "estimators_dict['lr'] = lr"
   ]
  },
  {
   "cell_type": "code",
   "execution_count": 124,
   "id": "5b8b225c-8538-4d2c-8007-89cb7da12218",
   "metadata": {},
   "outputs": [],
   "source": [
    "evaluation_dict['cv_enet'] = enet_cv"
   ]
  },
  {
   "cell_type": "code",
   "execution_count": 125,
   "id": "b4ec22a8-008d-4b59-9630-db3beb406ff7",
   "metadata": {},
   "outputs": [],
   "source": [
    "features_dict['features_linear'] = features_linear"
   ]
  },
  {
   "cell_type": "code",
   "execution_count": 126,
   "id": "38a5e7af-f531-4857-ae0f-3fdd1228946e",
   "metadata": {},
   "outputs": [],
   "source": [
    "saveit(features_dict, 'features_dict', dir_save)"
   ]
  },
  {
   "cell_type": "code",
   "execution_count": 127,
   "id": "5c4209c4-ed0c-4fd8-ab6a-72a4f823168b",
   "metadata": {},
   "outputs": [],
   "source": [
    "saveit(simulation_datasets_dict, 'simulation_datasets_dict', dir_save)"
   ]
  },
  {
   "cell_type": "code",
   "execution_count": 128,
   "id": "df7f7553-66b0-417b-86ba-68ba6478db2d",
   "metadata": {},
   "outputs": [],
   "source": [
    "saveit(estimators_dict, 'estimators_dict', dir_save)"
   ]
  },
  {
   "cell_type": "code",
   "execution_count": 129,
   "id": "020b8de0-06e1-4ed4-a86b-03cb54d6b426",
   "metadata": {},
   "outputs": [],
   "source": [
    "saveit(evaluation_dict, 'evaluation_dict', dir_save)"
   ]
  },
  {
   "cell_type": "markdown",
   "id": "5f76df99-dded-4520-9fb3-1615f33396dd",
   "metadata": {},
   "source": [
    "### Save Session"
   ]
  },
  {
   "cell_type": "code",
   "execution_count": 130,
   "id": "00ffafcd-e0b5-4f5e-9d4a-a4bbd707d7cc",
   "metadata": {},
   "outputs": [],
   "source": [
    "save_session(dir_save)"
   ]
  },
  {
   "cell_type": "markdown",
   "id": "1da41470-f624-4d12-969d-f99074c78ae9",
   "metadata": {},
   "source": [
    "### Execution time"
   ]
  },
  {
   "cell_type": "code",
   "execution_count": 131,
   "id": "ecbc947e-3ac5-41ee-9e72-c6f0bf3e8449",
   "metadata": {},
   "outputs": [
    {
     "name": "stdout",
     "output_type": "stream",
     "text": [
      "Execution time: 0:03:45\n"
     ]
    }
   ],
   "source": [
    "print(f'Execution time: {stopwatch.stop(start)}')"
   ]
  }
 ],
 "metadata": {
  "kernelspec": {
   "display_name": "venv_kgl_house_prices",
   "language": "python",
   "name": "venv_kgl_house_prices"
  },
  "language_info": {
   "codemirror_mode": {
    "name": "ipython",
    "version": 3
   },
   "file_extension": ".py",
   "mimetype": "text/x-python",
   "name": "python",
   "nbconvert_exporter": "python",
   "pygments_lexer": "ipython3",
   "version": "3.12.2"
  }
 },
 "nbformat": 4,
 "nbformat_minor": 5
}
