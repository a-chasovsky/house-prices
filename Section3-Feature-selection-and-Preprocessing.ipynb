{
 "cells": [
  {
   "cell_type": "code",
   "execution_count": 1,
   "id": "3bbc1d8b-df4a-45c9-b1a9-2fab83408dbd",
   "metadata": {},
   "outputs": [],
   "source": [
    "# run stopwatch\n",
    "from tools import Stopwatch\n",
    "stopwatch = Stopwatch()\n",
    "start = stopwatch.start()"
   ]
  },
  {
   "cell_type": "markdown",
   "id": "2b6438e0-d8b7-4fe4-aa7c-5198695bb714",
   "metadata": {},
   "source": [
    "### Load libraries, functions, palette, theme"
   ]
  },
  {
   "cell_type": "code",
   "execution_count": 2,
   "id": "b5b96163-fffd-46d1-b95d-4a5e3932ec2b",
   "metadata": {},
   "outputs": [],
   "source": [
    "%run _libraries.ipynb"
   ]
  },
  {
   "cell_type": "code",
   "execution_count": 3,
   "id": "8d06220a-864c-4291-ad74-3781176db5c3",
   "metadata": {},
   "outputs": [],
   "source": [
    "%run _functions.ipynb"
   ]
  },
  {
   "cell_type": "code",
   "execution_count": 4,
   "id": "fee867a6-f6c5-451b-b345-0e9116178ce0",
   "metadata": {},
   "outputs": [],
   "source": [
    "dir_save = 'Section3-Feature-selection-and-Preprocessing'"
   ]
  },
  {
   "cell_type": "markdown",
   "id": "8b7fdea7-4651-4eec-bc73-8891b18dbb26",
   "metadata": {},
   "source": [
    "# Section III. Feature selection and Preprocessing"
   ]
  },
  {
   "cell_type": "markdown",
   "id": "25715c8d-8a3d-418d-ba1a-2338fe4d1f2e",
   "metadata": {},
   "source": [
    "## Load Saved Section if exists"
   ]
  },
  {
   "cell_type": "raw",
   "id": "ee0aa0a0-2dc9-49fb-ac2c-6d4c5b196afe",
   "metadata": {},
   "source": [
    "if os.path.exists(f'sessions/{dir_save}'):\n",
    "    load_session(dir_save)\n",
    "else:\n",
    "    print(f\"No such session: 'sessions/{dir_save}'\")"
   ]
  },
  {
   "cell_type": "markdown",
   "id": "0d8930ae-fc87-4341-a1e1-e74a61c77abd",
   "metadata": {},
   "source": [
    "## Load Data"
   ]
  },
  {
   "cell_type": "code",
   "execution_count": 5,
   "id": "ad0de18f-5457-4891-8c47-e5b6f476a443",
   "metadata": {},
   "outputs": [],
   "source": [
    "# dicts\n",
    "datasets_dict = loadit(\n",
    "    'datasets_dict', dir='Section2-Explore-and-Clean')\n",
    "features_dict = loadit(\n",
    "    'features_dict', dir='Section1-Overview-and-Base-model')\n",
    "transform_dict = loadit(\n",
    "    'transform_dict', dir='Section1-Overview-and-Base-model')\n",
    "groups_dict = loadit(\n",
    "    'groups_dict', dir='Section2-Explore-and-Clean')\n",
    "simulation_datasets_dict = loadit(\n",
    "    'simulation_datasets_dict', dir='Section2-Explore-and-Clean')\n",
    "estimators_dict = loadit(\n",
    "    'estimators_dict', dir='Section2-Explore-and-Clean')\n",
    "evaluation_dict = loadit(\n",
    "    'evaluation_dict', dir='Section2-Explore-and-Clean')\n",
    "# datasets\n",
    "train = datasets_dict['train'].copy()\n",
    "train_raw = datasets_dict['train'].copy()\n",
    "# features\n",
    "features = features_dict['features']\n",
    "numeric = features_dict['numeric']\n",
    "ordinal = features_dict['ordinal']\n",
    "categorical = features_dict['categorical']\n",
    "categorical_transform = features_dict['categorical_transform']\n",
    "target = features_dict['target']"
   ]
  },
  {
   "cell_type": "markdown",
   "id": "00091be9-3007-472d-b2bc-9dd2c7904f2e",
   "metadata": {},
   "source": [
    "## Feature Selection"
   ]
  },
  {
   "cell_type": "markdown",
   "id": "cdd13bec-b974-40ac-a974-8f45cf2d21be",
   "metadata": {},
   "source": [
    "### Feature Engineering\n",
    "\n",
    "Explore features groups and try to find ways to create new features."
   ]
  },
  {
   "cell_type": "markdown",
   "id": "9b3777ef-0d08-46a7-a819-8b8bd70f5188",
   "metadata": {},
   "source": [
    "#### Square Feet Features\n",
    "\n",
    "**New Features**:\n",
    "1. Floors square mean: mean of 'first_flrsf' and 'second_flrsf' (with weight: 0.5).  \n",
    "   *Suggestion*: people interest in first floor square more than in second (coeff: 0.5). So, mean of floors' square with weight would work better, than living area square. "
   ]
  },
  {
   "cell_type": "code",
   "execution_count": 6,
   "id": "24baa72a-76a6-4edf-8046-3e3650522a95",
   "metadata": {},
   "outputs": [],
   "source": [
    "features_square = groups_dict['features_square']"
   ]
  },
  {
   "cell_type": "code",
   "execution_count": 7,
   "id": "9573744c-512f-4b9b-8b74-033f4537c48a",
   "metadata": {},
   "outputs": [],
   "source": [
    "train_square = create_df_group(features_square)"
   ]
  },
  {
   "cell_type": "code",
   "execution_count": 8,
   "id": "9fc12af3-5cc1-4b0b-86fd-5b4524b9565e",
   "metadata": {},
   "outputs": [
    {
     "data": {
      "text/html": [
       "<div>\n",
       "<style scoped>\n",
       "    .dataframe tbody tr th:only-of-type {\n",
       "        vertical-align: middle;\n",
       "    }\n",
       "\n",
       "    .dataframe tbody tr th {\n",
       "        vertical-align: top;\n",
       "    }\n",
       "\n",
       "    .dataframe thead th {\n",
       "        text-align: right;\n",
       "    }\n",
       "</style>\n",
       "<table border=\"1\" class=\"dataframe\">\n",
       "  <thead>\n",
       "    <tr style=\"text-align: right;\">\n",
       "      <th></th>\n",
       "      <th>bsmtfinsf_first</th>\n",
       "      <th>bsmtfinsf_second</th>\n",
       "      <th>bsmtunfsf</th>\n",
       "      <th>totalbsmtsf</th>\n",
       "      <th>first_flrsf</th>\n",
       "      <th>second_flrsf</th>\n",
       "      <th>grlivarea</th>\n",
       "      <th>lowqualfinsf</th>\n",
       "      <th>masvnrarea</th>\n",
       "      <th>wooddecksf</th>\n",
       "      <th>openporchsf</th>\n",
       "      <th>enclosedporch</th>\n",
       "      <th>three_ssnporch</th>\n",
       "      <th>screenporch</th>\n",
       "      <th>poolarea</th>\n",
       "      <th>price</th>\n",
       "    </tr>\n",
       "  </thead>\n",
       "  <tbody>\n",
       "    <tr>\n",
       "      <th>907</th>\n",
       "      <td>223</td>\n",
       "      <td>0</td>\n",
       "      <td>794</td>\n",
       "      <td>1017</td>\n",
       "      <td>1020</td>\n",
       "      <td>1037</td>\n",
       "      <td>2057</td>\n",
       "      <td>0</td>\n",
       "      <td>0.0</td>\n",
       "      <td>0</td>\n",
       "      <td>0</td>\n",
       "      <td>0</td>\n",
       "      <td>0</td>\n",
       "      <td>322</td>\n",
       "      <td>0</td>\n",
       "      <td>12.429216</td>\n",
       "    </tr>\n",
       "    <tr>\n",
       "      <th>782</th>\n",
       "      <td>0</td>\n",
       "      <td>0</td>\n",
       "      <td>1413</td>\n",
       "      <td>1413</td>\n",
       "      <td>1430</td>\n",
       "      <td>0</td>\n",
       "      <td>1430</td>\n",
       "      <td>0</td>\n",
       "      <td>0.0</td>\n",
       "      <td>0</td>\n",
       "      <td>33</td>\n",
       "      <td>0</td>\n",
       "      <td>0</td>\n",
       "      <td>0</td>\n",
       "      <td>0</td>\n",
       "      <td>12.139399</td>\n",
       "    </tr>\n",
       "    <tr>\n",
       "      <th>952</th>\n",
       "      <td>660</td>\n",
       "      <td>0</td>\n",
       "      <td>108</td>\n",
       "      <td>768</td>\n",
       "      <td>768</td>\n",
       "      <td>0</td>\n",
       "      <td>768</td>\n",
       "      <td>0</td>\n",
       "      <td>0.0</td>\n",
       "      <td>192</td>\n",
       "      <td>0</td>\n",
       "      <td>0</td>\n",
       "      <td>0</td>\n",
       "      <td>0</td>\n",
       "      <td>0</td>\n",
       "      <td>11.804849</td>\n",
       "    </tr>\n",
       "    <tr>\n",
       "      <th>620</th>\n",
       "      <td>41</td>\n",
       "      <td>0</td>\n",
       "      <td>823</td>\n",
       "      <td>864</td>\n",
       "      <td>864</td>\n",
       "      <td>0</td>\n",
       "      <td>864</td>\n",
       "      <td>0</td>\n",
       "      <td>0.0</td>\n",
       "      <td>0</td>\n",
       "      <td>0</td>\n",
       "      <td>100</td>\n",
       "      <td>0</td>\n",
       "      <td>0</td>\n",
       "      <td>0</td>\n",
       "      <td>11.112448</td>\n",
       "    </tr>\n",
       "    <tr>\n",
       "      <th>669</th>\n",
       "      <td>0</td>\n",
       "      <td>0</td>\n",
       "      <td>700</td>\n",
       "      <td>700</td>\n",
       "      <td>1180</td>\n",
       "      <td>0</td>\n",
       "      <td>1180</td>\n",
       "      <td>0</td>\n",
       "      <td>0.0</td>\n",
       "      <td>0</td>\n",
       "      <td>0</td>\n",
       "      <td>67</td>\n",
       "      <td>0</td>\n",
       "      <td>0</td>\n",
       "      <td>0</td>\n",
       "      <td>11.831379</td>\n",
       "    </tr>\n",
       "  </tbody>\n",
       "</table>\n",
       "</div>"
      ],
      "text/plain": [
       "     bsmtfinsf_first  bsmtfinsf_second  bsmtunfsf  totalbsmtsf  first_flrsf  \\\n",
       "907              223                 0        794         1017         1020   \n",
       "782                0                 0       1413         1413         1430   \n",
       "952              660                 0        108          768          768   \n",
       "620               41                 0        823          864          864   \n",
       "669                0                 0        700          700         1180   \n",
       "\n",
       "     second_flrsf  grlivarea  lowqualfinsf  masvnrarea  wooddecksf  \\\n",
       "907          1037       2057             0         0.0           0   \n",
       "782             0       1430             0         0.0           0   \n",
       "952             0        768             0         0.0         192   \n",
       "620             0        864             0         0.0           0   \n",
       "669             0       1180             0         0.0           0   \n",
       "\n",
       "     openporchsf  enclosedporch  three_ssnporch  screenporch  poolarea  \\\n",
       "907            0              0               0          322         0   \n",
       "782           33              0               0            0         0   \n",
       "952            0              0               0            0         0   \n",
       "620            0            100               0            0         0   \n",
       "669            0             67               0            0         0   \n",
       "\n",
       "         price  \n",
       "907  12.429216  \n",
       "782  12.139399  \n",
       "952  11.804849  \n",
       "620  11.112448  \n",
       "669  11.831379  "
      ]
     },
     "execution_count": 8,
     "metadata": {},
     "output_type": "execute_result"
    }
   ],
   "source": [
    "train_square.head()"
   ]
  },
  {
   "cell_type": "code",
   "execution_count": 9,
   "id": "56eda015-7d74-48f9-927c-8987a504f60e",
   "metadata": {},
   "outputs": [
    {
     "data": {
      "text/plain": [
       "(1311, 16)"
      ]
     },
     "execution_count": 9,
     "metadata": {},
     "output_type": "execute_result"
    }
   ],
   "source": [
    "train_square.shape"
   ]
  },
  {
   "cell_type": "code",
   "execution_count": 10,
   "id": "ccd57f6c-af38-48d8-9dba-947f9bb88d96",
   "metadata": {},
   "outputs": [],
   "source": [
    "train_square['flrsfmean'] = \\\n",
    "    (train_square['first_flrsf'] + 0.7*train_square['second_flrsf']) / 1.7"
   ]
  },
  {
   "cell_type": "code",
   "execution_count": 11,
   "id": "2f59e675-282b-4be9-baa3-f03d7bb5e143",
   "metadata": {},
   "outputs": [
    {
     "data": {
      "text/html": [
       "<div>\n",
       "<style scoped>\n",
       "    .dataframe tbody tr th:only-of-type {\n",
       "        vertical-align: middle;\n",
       "    }\n",
       "\n",
       "    .dataframe tbody tr th {\n",
       "        vertical-align: top;\n",
       "    }\n",
       "\n",
       "    .dataframe thead th {\n",
       "        text-align: right;\n",
       "    }\n",
       "</style>\n",
       "<table border=\"1\" class=\"dataframe\">\n",
       "  <thead>\n",
       "    <tr style=\"text-align: right;\">\n",
       "      <th></th>\n",
       "      <th>price</th>\n",
       "    </tr>\n",
       "  </thead>\n",
       "  <tbody>\n",
       "    <tr>\n",
       "      <th>flrsfmean</th>\n",
       "      <td>0.769461</td>\n",
       "    </tr>\n",
       "    <tr>\n",
       "      <th>grlivarea</th>\n",
       "      <td>0.717235</td>\n",
       "    </tr>\n",
       "    <tr>\n",
       "      <th>totalbsmtsf</th>\n",
       "      <td>0.644327</td>\n",
       "    </tr>\n",
       "    <tr>\n",
       "      <th>first_flrsf</th>\n",
       "      <td>0.613694</td>\n",
       "    </tr>\n",
       "    <tr>\n",
       "      <th>masvnrarea</th>\n",
       "      <td>0.417913</td>\n",
       "    </tr>\n",
       "    <tr>\n",
       "      <th>bsmtfinsf_first</th>\n",
       "      <td>0.371451</td>\n",
       "    </tr>\n",
       "    <tr>\n",
       "      <th>wooddecksf</th>\n",
       "      <td>0.336964</td>\n",
       "    </tr>\n",
       "    <tr>\n",
       "      <th>openporchsf</th>\n",
       "      <td>0.316891</td>\n",
       "    </tr>\n",
       "    <tr>\n",
       "      <th>second_flrsf</th>\n",
       "      <td>0.307639</td>\n",
       "    </tr>\n",
       "    <tr>\n",
       "      <th>bsmtunfsf</th>\n",
       "      <td>0.230184</td>\n",
       "    </tr>\n",
       "    <tr>\n",
       "      <th>enclosedporch</th>\n",
       "      <td>-0.174617</td>\n",
       "    </tr>\n",
       "    <tr>\n",
       "      <th>screenporch</th>\n",
       "      <td>0.129970</td>\n",
       "    </tr>\n",
       "    <tr>\n",
       "      <th>poolarea</th>\n",
       "      <td>0.079257</td>\n",
       "    </tr>\n",
       "    <tr>\n",
       "      <th>three_ssnporch</th>\n",
       "      <td>0.058380</td>\n",
       "    </tr>\n",
       "    <tr>\n",
       "      <th>lowqualfinsf</th>\n",
       "      <td>-0.030425</td>\n",
       "    </tr>\n",
       "    <tr>\n",
       "      <th>bsmtfinsf_second</th>\n",
       "      <td>0.009974</td>\n",
       "    </tr>\n",
       "  </tbody>\n",
       "</table>\n",
       "</div>"
      ],
      "text/plain": [
       "                     price\n",
       "flrsfmean         0.769461\n",
       "grlivarea         0.717235\n",
       "totalbsmtsf       0.644327\n",
       "first_flrsf       0.613694\n",
       "masvnrarea        0.417913\n",
       "bsmtfinsf_first   0.371451\n",
       "wooddecksf        0.336964\n",
       "openporchsf       0.316891\n",
       "second_flrsf      0.307639\n",
       "bsmtunfsf         0.230184\n",
       "enclosedporch    -0.174617\n",
       "screenporch       0.129970\n",
       "poolarea          0.079257\n",
       "three_ssnporch    0.058380\n",
       "lowqualfinsf     -0.030425\n",
       "bsmtfinsf_second  0.009974"
      ]
     },
     "execution_count": 11,
     "metadata": {},
     "output_type": "execute_result"
    }
   ],
   "source": [
    "correlation_w_target(train_square, target)"
   ]
  },
  {
   "cell_type": "code",
   "execution_count": 12,
   "id": "e5dc3f68-e32b-4647-bb22-bc62ab88b203",
   "metadata": {},
   "outputs": [
    {
     "data": {
      "image/png": "[encoded data removed]",
      "text/plain": [
       "<Figure size 1100x300 with 2 Axes>"
      ]
     },
     "metadata": {},
     "output_type": "display_data"
    },
    {
     "name": "stdout",
     "output_type": "stream",
     "text": [
      "Image 'flrsfmean.svg' successfully saved into 'img/Section3-Feature-selection-and-Preprocessing' directory\n"
     ]
    }
   ],
   "source": [
    "fig, ax = plt.subplots(1, 2, figsize=(11,3))\n",
    "fig.suptitle(\n",
    "    'Live area and Floors mean square vs Price', x=0.2535, fontsize=10\n",
    ")\n",
    "sns.regplot(\n",
    "    x=train_square['grlivarea'], y=train_square['price'],\n",
    "    scatter_kws={'s': 3}, ax=ax[0]\n",
    ")\n",
    "ax[0].set_xlabel('Grlivarea')\n",
    "ax[0].set_ylabel('Price')\n",
    "axis_rstyle(\n",
    "    ax=ax[0],\n",
    "    x_ticks=[0, 5000, 1000],\n",
    "    y_ticks=[10.5, 14.0, 0.5]\n",
    ")\n",
    "\n",
    "sns.regplot(\n",
    "    x=train_square['flrsfmean'], y=train_square['price'],\n",
    "    scatter_kws={'s': 3}, ax=ax[1]\n",
    ")\n",
    "ax[1].set_xlabel('Flrsfmean')\n",
    "ax[1].set_ylabel(None)\n",
    "axis_rstyle(\n",
    "    ax=ax[1],\n",
    "    x_ticks=[0, 5000, 1000],\n",
    "    y_ticks=[10.5, 14.0, 0.5]\n",
    ")\n",
    "\n",
    "plt.show()\n",
    "\n",
    "savefig('flrsfmean', dir_save)"
   ]
  },
  {
   "cell_type": "code",
   "execution_count": 13,
   "id": "48f7663d-201d-4427-9a09-4626f9f78e6b",
   "metadata": {},
   "outputs": [
    {
     "data": {
      "image/png": "[encoded data removed]",
      "text/plain": [
       "<Figure size 7500x300 with 25 Axes>"
      ]
     },
     "metadata": {},
     "output_type": "display_data"
    },
    {
     "name": "stdout",
     "output_type": "stream",
     "text": [
      "Image 'neighborhood.svg' successfully saved into 'img/Section3-Feature-selection-and-Preprocessing' directory\n"
     ]
    }
   ],
   "source": [
    "g_data = pd.concat([train, train_square['flrsfmean']], axis=1)\n",
    "fig = sns.FacetGrid(g_data, col='neighborhood')\n",
    "fig.fig.set_tight_layout(True)\n",
    "fig.map(sns.scatterplot, 'flrsfmean', target, **scatter);\n",
    "plt.show()\n",
    "\n",
    "savefig('neighborhood', dir_save)"
   ]
  },
  {
   "cell_type": "markdown",
   "id": "1a09f25f-45ee-4cc3-af6b-a2cbe9b2a70e",
   "metadata": {},
   "source": [
    "#### Rooms Features\n",
    "\n",
    "**New features**:\n",
    "1. Bedroom realtive size: bedrooms number / living area\n",
    "2. Kitchen realtive size: kitchens number / living area\n",
    "3. Bedrooms as fraction of rooms number: bedrooms number / rooms number\n",
    "4. Kitchen as fraction of rooms number: kitchen number / rooms number\n",
    "5. Bathrooms as fraction of bedrooms number: full bathrooms number / bedrooms number"
   ]
  },
  {
   "cell_type": "code",
   "execution_count": 14,
   "id": "dfdf3357-4750-4625-8b31-98090a897071",
   "metadata": {},
   "outputs": [],
   "source": [
    "features_rooms = groups_dict['features_rooms']"
   ]
  },
  {
   "cell_type": "code",
   "execution_count": 15,
   "id": "3ee68411-8cb5-440c-9d69-347320027f0e",
   "metadata": {},
   "outputs": [],
   "source": [
    "train_rooms = create_df_group(features_rooms)"
   ]
  },
  {
   "cell_type": "code",
   "execution_count": 16,
   "id": "7ac04a1d-ba6f-4a70-944e-75419fc7d1b6",
   "metadata": {},
   "outputs": [
    {
     "data": {
      "text/html": [
       "<div>\n",
       "<style scoped>\n",
       "    .dataframe tbody tr th:only-of-type {\n",
       "        vertical-align: middle;\n",
       "    }\n",
       "\n",
       "    .dataframe tbody tr th {\n",
       "        vertical-align: top;\n",
       "    }\n",
       "\n",
       "    .dataframe thead th {\n",
       "        text-align: right;\n",
       "    }\n",
       "</style>\n",
       "<table border=\"1\" class=\"dataframe\">\n",
       "  <thead>\n",
       "    <tr style=\"text-align: right;\">\n",
       "      <th></th>\n",
       "      <th>bedroomabvgr</th>\n",
       "      <th>kitchenabvgr</th>\n",
       "      <th>totrmsabvgrd</th>\n",
       "      <th>bsmtfullbath</th>\n",
       "      <th>bsmthalfbath</th>\n",
       "      <th>fullbath</th>\n",
       "      <th>halfbath</th>\n",
       "      <th>price</th>\n",
       "    </tr>\n",
       "  </thead>\n",
       "  <tbody>\n",
       "    <tr>\n",
       "      <th>907</th>\n",
       "      <td>3</td>\n",
       "      <td>1</td>\n",
       "      <td>6</td>\n",
       "      <td>0</td>\n",
       "      <td>0</td>\n",
       "      <td>1</td>\n",
       "      <td>1</td>\n",
       "      <td>12.429216</td>\n",
       "    </tr>\n",
       "    <tr>\n",
       "      <th>782</th>\n",
       "      <td>3</td>\n",
       "      <td>1</td>\n",
       "      <td>6</td>\n",
       "      <td>0</td>\n",
       "      <td>0</td>\n",
       "      <td>2</td>\n",
       "      <td>0</td>\n",
       "      <td>12.139399</td>\n",
       "    </tr>\n",
       "    <tr>\n",
       "      <th>952</th>\n",
       "      <td>2</td>\n",
       "      <td>1</td>\n",
       "      <td>5</td>\n",
       "      <td>0</td>\n",
       "      <td>1</td>\n",
       "      <td>1</td>\n",
       "      <td>0</td>\n",
       "      <td>11.804849</td>\n",
       "    </tr>\n",
       "    <tr>\n",
       "      <th>620</th>\n",
       "      <td>2</td>\n",
       "      <td>1</td>\n",
       "      <td>5</td>\n",
       "      <td>1</td>\n",
       "      <td>0</td>\n",
       "      <td>1</td>\n",
       "      <td>0</td>\n",
       "      <td>11.112448</td>\n",
       "    </tr>\n",
       "    <tr>\n",
       "      <th>669</th>\n",
       "      <td>2</td>\n",
       "      <td>1</td>\n",
       "      <td>5</td>\n",
       "      <td>0</td>\n",
       "      <td>0</td>\n",
       "      <td>1</td>\n",
       "      <td>0</td>\n",
       "      <td>11.831379</td>\n",
       "    </tr>\n",
       "  </tbody>\n",
       "</table>\n",
       "</div>"
      ],
      "text/plain": [
       "     bedroomabvgr  kitchenabvgr  totrmsabvgrd  bsmtfullbath  bsmthalfbath  \\\n",
       "907             3             1             6             0             0   \n",
       "782             3             1             6             0             0   \n",
       "952             2             1             5             0             1   \n",
       "620             2             1             5             1             0   \n",
       "669             2             1             5             0             0   \n",
       "\n",
       "     fullbath  halfbath      price  \n",
       "907         1         1  12.429216  \n",
       "782         2         0  12.139399  \n",
       "952         1         0  11.804849  \n",
       "620         1         0  11.112448  \n",
       "669         1         0  11.831379  "
      ]
     },
     "execution_count": 16,
     "metadata": {},
     "output_type": "execute_result"
    }
   ],
   "source": [
    "train_rooms.head()"
   ]
  },
  {
   "cell_type": "code",
   "execution_count": 17,
   "id": "63d89338-b29a-49fd-b055-070f2c7c01de",
   "metadata": {},
   "outputs": [],
   "source": [
    "train_rooms['bedroomsize'] = \\\n",
    "    train_rooms['bedroomabvgr'] / train['grlivarea']"
   ]
  },
  {
   "cell_type": "code",
   "execution_count": 18,
   "id": "bbd3fc2a-df39-46ce-9fd8-e679a0f704fa",
   "metadata": {},
   "outputs": [],
   "source": [
    "train_rooms['kitchensize'] = \\\n",
    "    train_rooms['kitchenabvgr'] / train['grlivarea']"
   ]
  },
  {
   "cell_type": "code",
   "execution_count": 19,
   "id": "c8f13bd9-3210-4103-ace1-bba180d3b0a9",
   "metadata": {},
   "outputs": [],
   "source": [
    "train_rooms['bedroomfracrms'] = \\\n",
    "    train_rooms['bedroomabvgr'] / train_rooms['totrmsabvgrd']"
   ]
  },
  {
   "cell_type": "code",
   "execution_count": 20,
   "id": "ed91d192-01bc-4484-9340-c8b46f797770",
   "metadata": {},
   "outputs": [],
   "source": [
    "train_rooms['kitchenfracrms'] = \\\n",
    "    train_rooms['kitchenabvgr'] / train_rooms['totrmsabvgrd']"
   ]
  },
  {
   "cell_type": "code",
   "execution_count": 21,
   "id": "6810f1b1-7bbb-490e-971b-ccab4b5da22b",
   "metadata": {},
   "outputs": [],
   "source": [
    "train_rooms['bathsfracbedr'] = \\\n",
    "    train_rooms['fullbath'] / train_rooms['bedroomabvgr']"
   ]
  },
  {
   "cell_type": "code",
   "execution_count": 22,
   "id": "803a7318-5b43-4aa9-9c05-d7966c330dba",
   "metadata": {},
   "outputs": [],
   "source": [
    "for f in ['bedroomfracrms', 'kitchenfracrms', 'bathsfracbedr']:\n",
    "    train_rooms[f] = np.round(train_rooms[f], 4)"
   ]
  },
  {
   "cell_type": "code",
   "execution_count": 23,
   "id": "c5e2e306-267c-468e-b736-e4da6010201d",
   "metadata": {},
   "outputs": [
    {
     "data": {
      "text/html": [
       "<div>\n",
       "<style scoped>\n",
       "    .dataframe tbody tr th:only-of-type {\n",
       "        vertical-align: middle;\n",
       "    }\n",
       "\n",
       "    .dataframe tbody tr th {\n",
       "        vertical-align: top;\n",
       "    }\n",
       "\n",
       "    .dataframe thead th {\n",
       "        text-align: right;\n",
       "    }\n",
       "</style>\n",
       "<table border=\"1\" class=\"dataframe\">\n",
       "  <thead>\n",
       "    <tr style=\"text-align: right;\">\n",
       "      <th></th>\n",
       "      <th>price</th>\n",
       "    </tr>\n",
       "  </thead>\n",
       "  <tbody>\n",
       "    <tr>\n",
       "      <th>kitchensize</th>\n",
       "      <td>-0.712279</td>\n",
       "    </tr>\n",
       "    <tr>\n",
       "      <th>fullbath</th>\n",
       "      <td>0.587186</td>\n",
       "    </tr>\n",
       "    <tr>\n",
       "      <th>bedroomsize</th>\n",
       "      <td>-0.560241</td>\n",
       "    </tr>\n",
       "    <tr>\n",
       "      <th>kitchenfracrms</th>\n",
       "      <td>-0.550854</td>\n",
       "    </tr>\n",
       "    <tr>\n",
       "      <th>totrmsabvgrd</th>\n",
       "      <td>0.522715</td>\n",
       "    </tr>\n",
       "    <tr>\n",
       "      <th>bathsfracbedr</th>\n",
       "      <td>0.370568</td>\n",
       "    </tr>\n",
       "    <tr>\n",
       "      <th>bedroomfracrms</th>\n",
       "      <td>-0.310517</td>\n",
       "    </tr>\n",
       "    <tr>\n",
       "      <th>halfbath</th>\n",
       "      <td>0.301483</td>\n",
       "    </tr>\n",
       "    <tr>\n",
       "      <th>bsmtfullbath</th>\n",
       "      <td>0.227932</td>\n",
       "    </tr>\n",
       "    <tr>\n",
       "      <th>bedroomabvgr</th>\n",
       "      <td>0.194230</td>\n",
       "    </tr>\n",
       "    <tr>\n",
       "      <th>kitchenabvgr</th>\n",
       "      <td>-0.149757</td>\n",
       "    </tr>\n",
       "    <tr>\n",
       "      <th>bsmthalfbath</th>\n",
       "      <td>-0.019213</td>\n",
       "    </tr>\n",
       "  </tbody>\n",
       "</table>\n",
       "</div>"
      ],
      "text/plain": [
       "                   price\n",
       "kitchensize    -0.712279\n",
       "fullbath        0.587186\n",
       "bedroomsize    -0.560241\n",
       "kitchenfracrms -0.550854\n",
       "totrmsabvgrd    0.522715\n",
       "bathsfracbedr   0.370568\n",
       "bedroomfracrms -0.310517\n",
       "halfbath        0.301483\n",
       "bsmtfullbath    0.227932\n",
       "bedroomabvgr    0.194230\n",
       "kitchenabvgr   -0.149757\n",
       "bsmthalfbath   -0.019213"
      ]
     },
     "execution_count": 23,
     "metadata": {},
     "output_type": "execute_result"
    }
   ],
   "source": [
    "correlation_w_target(train_rooms, target)"
   ]
  },
  {
   "cell_type": "code",
   "execution_count": 24,
   "id": "322d6876-5a4e-441e-ac94-87f78339f13a",
   "metadata": {},
   "outputs": [
    {
     "data": {
      "image/png": "[encoded data removed]",
      "text/plain": [
       "<Figure size 1100x300 with 2 Axes>"
      ]
     },
     "metadata": {},
     "output_type": "display_data"
    },
    {
     "name": "stdout",
     "output_type": "stream",
     "text": [
      "Image 'bedroom_kitchen.svg' successfully saved into 'img/Section3-Feature-selection-and-Preprocessing' directory\n"
     ]
    }
   ],
   "source": [
    "fig = plt.figure(figsize=(11,3))\n",
    "fig.suptitle('Bedroomsize and Kitchensize vs Price', x=0.241, fontsize=10)\n",
    "plt.subplot(1,2,1)\n",
    "sns.scatterplot(x=train_rooms['bedroomsize'], y=train[target], **scatter)\n",
    "plt.xlabel(str.capitalize('Bedroomsize'))\n",
    "plt.ylabel(str.capitalize('Price'))\n",
    "axis_rstyle(\n",
    "    x_ticks=[0, 0.005, 0.0005],\n",
    "    y_ticks=[10.5, 14.0, 0.5]\n",
    ")\n",
    "\n",
    "plt.subplot(1,2,2)\n",
    "sns.scatterplot(x=train_rooms['kitchensize'], y=train[target], **scatter)\n",
    "plt.xlabel(str.capitalize('Kitchensize'))\n",
    "plt.ylabel(None)\n",
    "axis_rstyle(\n",
    "    x_ticks=[0, 0.005, 0.0005],\n",
    "    y_ticks=[10.5, 14.0, 0.5]\n",
    ")\n",
    "\n",
    "plt.show()\n",
    "\n",
    "savefig('bedroom_kitchen', dir_save)"
   ]
  },
  {
   "cell_type": "code",
   "execution_count": 25,
   "id": "22390dee-7eb0-4f56-896e-bb112672f1aa",
   "metadata": {},
   "outputs": [
    {
     "data": {
      "image/png": "[encoded data removed]",
      "text/plain": [
       "<Figure size 800x250 with 1 Axes>"
      ]
     },
     "metadata": {},
     "output_type": "display_data"
    }
   ],
   "source": [
    "sns.scatterplot(x=train_rooms['bedroomfracrms'], y=train[target]);"
   ]
  },
  {
   "cell_type": "code",
   "execution_count": 26,
   "id": "a4e2a53d-a930-4a6f-9ef0-6c2d23fd6006",
   "metadata": {},
   "outputs": [
    {
     "data": {
      "image/png": "[encoded data removed]",
      "text/plain": [
       "<Figure size 800x250 with 1 Axes>"
      ]
     },
     "metadata": {},
     "output_type": "display_data"
    }
   ],
   "source": [
    "sns.pointplot(\n",
    "    x=train_rooms['bedroomfracrms'], y=train[target], **point);"
   ]
  },
  {
   "cell_type": "code",
   "execution_count": 27,
   "id": "6f63dfbb-4abe-4c73-a268-68e099771ed3",
   "metadata": {},
   "outputs": [
    {
     "data": {
      "image/png": "[encoded data removed]",
      "text/plain": [
       "<Figure size 800x250 with 1 Axes>"
      ]
     },
     "metadata": {},
     "output_type": "display_data"
    }
   ],
   "source": [
    "sns.scatterplot(x=train_rooms['kitchenfracrms'], y=train[target]);"
   ]
  },
  {
   "cell_type": "code",
   "execution_count": 28,
   "id": "86ced627-506f-45b6-ae27-77e4fe0b7558",
   "metadata": {},
   "outputs": [
    {
     "data": {
      "image/png": "[encoded data removed]",
      "text/plain": [
       "<Figure size 800x250 with 1 Axes>"
      ]
     },
     "metadata": {},
     "output_type": "display_data"
    }
   ],
   "source": [
    "sns.pointplot(\n",
    "    x=train_rooms['kitchenfracrms'], y=train[target], **point);"
   ]
  },
  {
   "cell_type": "code",
   "execution_count": 29,
   "id": "d2315767-92f7-4658-9049-151f94f3bd3f",
   "metadata": {},
   "outputs": [
    {
     "data": {
      "image/png": "[encoded data removed]",
      "text/plain": [
       "<Figure size 800x250 with 1 Axes>"
      ]
     },
     "metadata": {},
     "output_type": "display_data"
    }
   ],
   "source": [
    "sns.pointplot(\n",
    "    x=train_rooms['bathsfracbedr'], y=train[target], **point);"
   ]
  },
  {
   "cell_type": "markdown",
   "id": "3534bcfd-fa6c-42de-a584-a50ce58edc23",
   "metadata": {},
   "source": [
    "#### Year Features\n",
    "\n",
    "**New features**:\n",
    "1. House age at the moment of sale: year sold - year built\n",
    "2. Modernization age: year sold - modernization year"
   ]
  },
  {
   "cell_type": "code",
   "execution_count": 30,
   "id": "e78e360a-ff77-438a-a7c0-41c246df9d57",
   "metadata": {},
   "outputs": [],
   "source": [
    "features_year = groups_dict['features_year']\n",
    "train_year = create_df_group(features_year)"
   ]
  },
  {
   "cell_type": "code",
   "execution_count": 31,
   "id": "ed81b689-5558-42bb-afa6-4be5e09fc08a",
   "metadata": {},
   "outputs": [
    {
     "data": {
      "text/html": [
       "<div>\n",
       "<style scoped>\n",
       "    .dataframe tbody tr th:only-of-type {\n",
       "        vertical-align: middle;\n",
       "    }\n",
       "\n",
       "    .dataframe tbody tr th {\n",
       "        vertical-align: top;\n",
       "    }\n",
       "\n",
       "    .dataframe thead th {\n",
       "        text-align: right;\n",
       "    }\n",
       "</style>\n",
       "<table border=\"1\" class=\"dataframe\">\n",
       "  <thead>\n",
       "    <tr style=\"text-align: right;\">\n",
       "      <th></th>\n",
       "      <th>garageyrblt</th>\n",
       "      <th>mosold</th>\n",
       "      <th>yrsold</th>\n",
       "      <th>yearbuilt</th>\n",
       "      <th>yearremodadd</th>\n",
       "      <th>price</th>\n",
       "    </tr>\n",
       "  </thead>\n",
       "  <tbody>\n",
       "    <tr>\n",
       "      <th>907</th>\n",
       "      <td>1936.0</td>\n",
       "      <td>6</td>\n",
       "      <td>2006</td>\n",
       "      <td>1936</td>\n",
       "      <td>1987</td>\n",
       "      <td>12.429216</td>\n",
       "    </tr>\n",
       "    <tr>\n",
       "      <th>782</th>\n",
       "      <td>2001.0</td>\n",
       "      <td>6</td>\n",
       "      <td>2009</td>\n",
       "      <td>2001</td>\n",
       "      <td>2002</td>\n",
       "      <td>12.139399</td>\n",
       "    </tr>\n",
       "    <tr>\n",
       "      <th>952</th>\n",
       "      <td>1974.0</td>\n",
       "      <td>4</td>\n",
       "      <td>2009</td>\n",
       "      <td>1972</td>\n",
       "      <td>2003</td>\n",
       "      <td>11.804849</td>\n",
       "    </tr>\n",
       "    <tr>\n",
       "      <th>620</th>\n",
       "      <td>1914.0</td>\n",
       "      <td>9</td>\n",
       "      <td>2008</td>\n",
       "      <td>1914</td>\n",
       "      <td>1950</td>\n",
       "      <td>11.112448</td>\n",
       "    </tr>\n",
       "    <tr>\n",
       "      <th>669</th>\n",
       "      <td>1922.0</td>\n",
       "      <td>7</td>\n",
       "      <td>2006</td>\n",
       "      <td>1922</td>\n",
       "      <td>1950</td>\n",
       "      <td>11.831379</td>\n",
       "    </tr>\n",
       "  </tbody>\n",
       "</table>\n",
       "</div>"
      ],
      "text/plain": [
       "     garageyrblt  mosold  yrsold  yearbuilt  yearremodadd      price\n",
       "907       1936.0       6    2006       1936          1987  12.429216\n",
       "782       2001.0       6    2009       2001          2002  12.139399\n",
       "952       1974.0       4    2009       1972          2003  11.804849\n",
       "620       1914.0       9    2008       1914          1950  11.112448\n",
       "669       1922.0       7    2006       1922          1950  11.831379"
      ]
     },
     "execution_count": 31,
     "metadata": {},
     "output_type": "execute_result"
    }
   ],
   "source": [
    "train_year.head()"
   ]
  },
  {
   "cell_type": "code",
   "execution_count": 32,
   "id": "b554a8eb-a6f3-4a06-a191-28e32644d2ff",
   "metadata": {},
   "outputs": [],
   "source": [
    "train_year['houseage'] = train_year['yrsold'] - train_year['yearbuilt']\n",
    "train_year['modadd'] = \\\n",
    "    (train_year['yearremodadd']!=train_year['yearbuilt']).astype(int)\n",
    "# if modernization exist, age of modernization equals (year sold - year modernization)\n",
    "# if modernization doesn't exist, age of modernization equals (year sold - year built)\n",
    "train_year['modage'] = \\\n",
    "    np.where(train_year['modadd']==1,\n",
    "             train_year['yrsold'] - train_year['yearremodadd'],\n",
    "             train_year['yrsold'] - train_year['yearbuilt'])"
   ]
  },
  {
   "cell_type": "code",
   "execution_count": 33,
   "id": "8ef75b91-10e7-4604-8369-b9081c990254",
   "metadata": {},
   "outputs": [
    {
     "data": {
      "text/html": [
       "<div>\n",
       "<style scoped>\n",
       "    .dataframe tbody tr th:only-of-type {\n",
       "        vertical-align: middle;\n",
       "    }\n",
       "\n",
       "    .dataframe tbody tr th {\n",
       "        vertical-align: top;\n",
       "    }\n",
       "\n",
       "    .dataframe thead th {\n",
       "        text-align: right;\n",
       "    }\n",
       "</style>\n",
       "<table border=\"1\" class=\"dataframe\">\n",
       "  <thead>\n",
       "    <tr style=\"text-align: right;\">\n",
       "      <th></th>\n",
       "      <th>price</th>\n",
       "    </tr>\n",
       "  </thead>\n",
       "  <tbody>\n",
       "    <tr>\n",
       "      <th>houseage</th>\n",
       "      <td>-0.589174</td>\n",
       "    </tr>\n",
       "    <tr>\n",
       "      <th>yearbuilt</th>\n",
       "      <td>0.588250</td>\n",
       "    </tr>\n",
       "    <tr>\n",
       "      <th>garageyrblt</th>\n",
       "      <td>0.571488</td>\n",
       "    </tr>\n",
       "    <tr>\n",
       "      <th>modage</th>\n",
       "      <td>-0.565807</td>\n",
       "    </tr>\n",
       "    <tr>\n",
       "      <th>yearremodadd</th>\n",
       "      <td>0.563118</td>\n",
       "    </tr>\n",
       "    <tr>\n",
       "      <th>modadd</th>\n",
       "      <td>-0.083947</td>\n",
       "    </tr>\n",
       "    <tr>\n",
       "      <th>mosold</th>\n",
       "      <td>0.072531</td>\n",
       "    </tr>\n",
       "    <tr>\n",
       "      <th>yrsold</th>\n",
       "      <td>-0.041683</td>\n",
       "    </tr>\n",
       "  </tbody>\n",
       "</table>\n",
       "</div>"
      ],
      "text/plain": [
       "                 price\n",
       "houseage     -0.589174\n",
       "yearbuilt     0.588250\n",
       "garageyrblt   0.571488\n",
       "modage       -0.565807\n",
       "yearremodadd  0.563118\n",
       "modadd       -0.083947\n",
       "mosold        0.072531\n",
       "yrsold       -0.041683"
      ]
     },
     "execution_count": 33,
     "metadata": {},
     "output_type": "execute_result"
    }
   ],
   "source": [
    "correlation_w_target(train_year, target)"
   ]
  },
  {
   "cell_type": "markdown",
   "id": "704f1b85-a595-487f-8114-f107aed5249d",
   "metadata": {},
   "source": [
    "#### Create New Features in Train Dataset"
   ]
  },
  {
   "cell_type": "code",
   "execution_count": 34,
   "id": "8173a6a4-4570-4fa7-9016-32cc4894088f",
   "metadata": {},
   "outputs": [],
   "source": [
    "train['flrsfmean'] = \\\n",
    "    (train['first_flrsf'] + 0.7*train['second_flrsf']) / 1.7"
   ]
  },
  {
   "cell_type": "code",
   "execution_count": 35,
   "id": "3b4d5c33-7f26-4e96-aaab-87a9c2237eff",
   "metadata": {},
   "outputs": [],
   "source": [
    "train['bedroomsize'] = train['bedroomabvgr'] / train['grlivarea']"
   ]
  },
  {
   "cell_type": "code",
   "execution_count": 36,
   "id": "83ae0afa-eb67-4deb-987f-325db88284cd",
   "metadata": {},
   "outputs": [],
   "source": [
    "train['kitchensize'] = train['kitchenabvgr'] / train['grlivarea']"
   ]
  },
  {
   "cell_type": "code",
   "execution_count": 37,
   "id": "17ab0a1d-4730-4b13-92fc-28be6fdf314b",
   "metadata": {},
   "outputs": [],
   "source": [
    "train['bedroomfracrms'] = train['bedroomabvgr'] / train['totrmsabvgrd']\n",
    "\n",
    "# max value of 'bedroomfracrms' except inf\n",
    "loc_value = (~np.isinf(train['bedroomfracrms']), 'bedroomfracrms')\n",
    "value = train.loc[loc_value].max()\n",
    "\n",
    "# fill inf values with max value\n",
    "loc_r = np.isinf(train['bedroomfracrms'])\n",
    "train.loc[loc_r, 'bedroomfracrms'] = value"
   ]
  },
  {
   "cell_type": "code",
   "execution_count": 38,
   "id": "8410cb1f-f50b-4108-97ec-92e41f3bd26d",
   "metadata": {},
   "outputs": [],
   "source": [
    "train['kitchenfracrms'] = train['kitchenabvgr'] / train['totrmsabvgrd']\n",
    "\n",
    "# max value of 'kitchenfracrms' except inf\n",
    "loc_value = (~np.isinf(train['kitchenfracrms']), 'kitchenfracrms')\n",
    "value = train.loc[loc_value].max()\n",
    "\n",
    "# fill inf values with max value\n",
    "loc_r = np.isinf(train['kitchenfracrms'])\n",
    "train.loc[loc_r, 'kitchenfracrms'] = value\n",
    "\n",
    "# fill NaN values by 0\n",
    "train['kitchenfracrms'] = train['kitchenfracrms'].fillna(0)"
   ]
  },
  {
   "cell_type": "code",
   "execution_count": 39,
   "id": "c38661ef-1698-4ed6-927c-905b7191dc05",
   "metadata": {},
   "outputs": [],
   "source": [
    "train['bathsfracbedr'] = train['fullbath'] / train['bedroomabvgr']\n",
    "\n",
    "# max value of 'bathsfracbedr' except inf\n",
    "loc_value = (~np.isinf(train['bathsfracbedr']), 'bathsfracbedr')\n",
    "value = train.loc[loc_value].max()\n",
    "\n",
    "# fill inf values with max value\n",
    "loc_r = np.isinf(train['bathsfracbedr'])\n",
    "train.loc[loc_r, 'bathsfracbedr'] = value\n",
    "\n",
    "# fill NaN values by 0\n",
    "train['bathsfracbedr'] = train['bathsfracbedr'].fillna(0)"
   ]
  },
  {
   "cell_type": "code",
   "execution_count": 40,
   "id": "dc0c3715-4adc-4267-8f21-c2d53aadaf3c",
   "metadata": {},
   "outputs": [],
   "source": [
    "for f in ['bedroomfracrms', 'kitchenfracrms', 'bathsfracbedr']:\n",
    "    train[f] = np.round(train[f], 4)"
   ]
  },
  {
   "cell_type": "code",
   "execution_count": 41,
   "id": "5261466e-296c-4193-8ecb-f87b13cfd7fa",
   "metadata": {},
   "outputs": [],
   "source": [
    "# if 'yearremodadd' != 'yearbuilt' -> 1, else -> 0\n",
    "train['yearremodadd_exst'] = \\\n",
    "    (train['yearremodadd']!=train['yearbuilt']).astype(int)"
   ]
  },
  {
   "cell_type": "code",
   "execution_count": 42,
   "id": "17e90e32-57db-42b2-8b48-212a1345674a",
   "metadata": {},
   "outputs": [
    {
     "data": {
      "text/plain": [
       "array([1, 0])"
      ]
     },
     "execution_count": 42,
     "metadata": {},
     "output_type": "execute_result"
    }
   ],
   "source": [
    "train['yearremodadd_exst'].unique()"
   ]
  },
  {
   "cell_type": "code",
   "execution_count": 43,
   "id": "a33716a4-8b3c-4ba7-909f-d7483c370b16",
   "metadata": {},
   "outputs": [],
   "source": [
    "features_as_factor = ['yearremodadd_exst']\n",
    "\n",
    "features_to_factor = [\n",
    "    'masvnrarea', 'bsmtfinsf_first', 'bsmtfinsf_second', \n",
    "    'totalbsmtsf', 'bsmtunfsf', 'lowqualfinsf', 'second_flrsf', 'garagearea',\n",
    "    'wooddecksf', 'openporchsf', 'enclosedporch', 'three_ssnporch',\n",
    "    'screenporch', 'poolarea', 'miscval'\n",
    "]\n",
    "\n",
    "for feature in features_to_factor:\n",
    "    new_feature_name = feature + '_exst'\n",
    "    train[new_feature_name] = (train[feature]!=0).astype(int)\n",
    "    features_as_factor.append(new_feature_name)"
   ]
  },
  {
   "cell_type": "code",
   "execution_count": 44,
   "id": "33167060-bd17-47ed-a211-08ce45e7f7b8",
   "metadata": {},
   "outputs": [
    {
     "name": "stdout",
     "output_type": "stream",
     "text": [
      "['yearremodadd_exst', 'masvnrarea_exst', 'bsmtfinsf_first_exst', 'bsmtfinsf_second_exst', 'totalbsmtsf_exst', 'bsmtunfsf_exst', 'lowqualfinsf_exst', 'second_flrsf_exst', 'garagearea_exst', 'wooddecksf_exst', 'openporchsf_exst', 'enclosedporch_exst', 'three_ssnporch_exst', 'screenporch_exst', 'poolarea_exst', 'miscval_exst']\n"
     ]
    }
   ],
   "source": [
    "print(features_as_factor)"
   ]
  },
  {
   "cell_type": "code",
   "execution_count": 45,
   "id": "14b99640-c1af-49a0-9b48-6b81d8188e3e",
   "metadata": {},
   "outputs": [],
   "source": [
    "cond = (train['yearremodadd_exst']==1)\n",
    "outcome1 = (train['yrsold'] - train['yearremodadd'])\n",
    "outcome0 = (train['yrsold'] - train['yearbuilt'])\n",
    "\n",
    "train['modage'] = np.where(cond, outcome1, outcome0)"
   ]
  },
  {
   "cell_type": "code",
   "execution_count": 46,
   "id": "9b014ea1-e6f7-4a3f-933d-c255ebc21a0c",
   "metadata": {},
   "outputs": [],
   "source": [
    "train['houseage'] = train['yrsold'] - train['yearbuilt']\n",
    "train['garageage'] = train['yrsold'] - train['garageyrblt']"
   ]
  },
  {
   "cell_type": "code",
   "execution_count": 47,
   "id": "1e219fa3-e6ad-4c18-8be1-649236d2c510",
   "metadata": {},
   "outputs": [],
   "source": [
    "# make target column the last one\n",
    "col_to_move = train.pop(target)\n",
    "train.insert(len(train.columns), target, col_to_move)"
   ]
  },
  {
   "cell_type": "code",
   "execution_count": 48,
   "id": "ba4c8ba3-d098-4755-ac34-461e285e69d1",
   "metadata": {},
   "outputs": [],
   "source": [
    "# check for NaNs\n",
    "assert ~train.isna().values.any()"
   ]
  },
  {
   "cell_type": "code",
   "execution_count": 49,
   "id": "48c57c58-4be8-4e5a-a866-3acc5e9458b1",
   "metadata": {},
   "outputs": [],
   "source": [
    "# check for INF\n",
    "assert ~np.isinf(train[numeric]).values.any()"
   ]
  },
  {
   "cell_type": "markdown",
   "id": "890e03c5-ee2b-4dc9-a39d-208107724cd1",
   "metadata": {},
   "source": [
    "#### Add New Features to Features Lists"
   ]
  },
  {
   "cell_type": "code",
   "execution_count": 50,
   "id": "05d907a3-b1d9-4d40-a444-faf71cd2dba0",
   "metadata": {},
   "outputs": [],
   "source": [
    "# create lists with 'raw' features\n",
    "features_raw = features.copy()\n",
    "numeric_raw = numeric.copy()\n",
    "categorical_raw = categorical.copy()\n",
    "\n",
    "features_linear = features.copy()\n",
    "numeric_linear = numeric.copy()\n",
    "categorical_linear = categorical.copy()"
   ]
  },
  {
   "cell_type": "code",
   "execution_count": 51,
   "id": "ddd3107b-e60f-461f-b089-ca06ad0289b7",
   "metadata": {},
   "outputs": [
    {
     "data": {
      "text/plain": [
       "79"
      ]
     },
     "execution_count": 51,
     "metadata": {},
     "output_type": "execute_result"
    }
   ],
   "source": [
    "len(features_raw)"
   ]
  },
  {
   "cell_type": "code",
   "execution_count": 52,
   "id": "473f3eba-cb1c-44f7-bbc2-76c23a9bd5d1",
   "metadata": {},
   "outputs": [],
   "source": [
    "assert len(features_raw) == (len(numeric_raw)\n",
    "                             + len(ordinal)\n",
    "                             + len(categorical_raw))"
   ]
  },
  {
   "cell_type": "code",
   "execution_count": 53,
   "id": "0ca427cf-77b0-452b-8fdd-a9086d0182ba",
   "metadata": {},
   "outputs": [],
   "source": [
    "new_features = [\n",
    "    'flrsfmean', 'bedroomsize', 'kitchensize', 'bedroomfracrms',\n",
    "    'kitchenfracrms', 'bathsfracbedr', 'houseage', 'modage', 'garageage'\n",
    "]"
   ]
  },
  {
   "cell_type": "code",
   "execution_count": 54,
   "id": "89399b10-40aa-49f7-8b46-839a7e108289",
   "metadata": {},
   "outputs": [],
   "source": [
    "# add new features ti features lists\n",
    "features = features + new_features + features_as_factor\n",
    "# features = features + new_features\n",
    "numeric = numeric + new_features\n",
    "factor =  features_as_factor"
   ]
  },
  {
   "cell_type": "code",
   "execution_count": 55,
   "id": "0952269c-035b-4625-afe9-815edb998628",
   "metadata": {},
   "outputs": [
    {
     "data": {
      "text/plain": [
       "104"
      ]
     },
     "execution_count": 55,
     "metadata": {},
     "output_type": "execute_result"
    }
   ],
   "source": [
    "len(features)"
   ]
  },
  {
   "cell_type": "code",
   "execution_count": 56,
   "id": "5e5f7f6a-e244-4cb6-bbb6-53b1b1f9b5b6",
   "metadata": {},
   "outputs": [],
   "source": [
    "assert len(features) == (len(numeric)\n",
    "                         + len(ordinal)\n",
    "                         + len(categorical)\n",
    "                         + len(factor))"
   ]
  },
  {
   "cell_type": "markdown",
   "id": "393a1998-3ad1-4434-bac1-1e2d2539201f",
   "metadata": {},
   "source": [
    "### Logarithm Features \n",
    "\n",
    "Adding constant C=1"
   ]
  },
  {
   "cell_type": "code",
   "execution_count": 57,
   "id": "06544679-aff8-4259-ac52-bbe74fbfd346",
   "metadata": {},
   "outputs": [
    {
     "data": {
      "text/html": [
       "<div>\n",
       "<style scoped>\n",
       "    .dataframe tbody tr th:only-of-type {\n",
       "        vertical-align: middle;\n",
       "    }\n",
       "\n",
       "    .dataframe tbody tr th {\n",
       "        vertical-align: top;\n",
       "    }\n",
       "\n",
       "    .dataframe thead th {\n",
       "        text-align: right;\n",
       "    }\n",
       "</style>\n",
       "<table border=\"1\" class=\"dataframe\">\n",
       "  <thead>\n",
       "    <tr style=\"text-align: right;\">\n",
       "      <th></th>\n",
       "      <th>id</th>\n",
       "      <th>mssubclass</th>\n",
       "      <th>mszoning</th>\n",
       "      <th>lotfrontage</th>\n",
       "      <th>lotarea</th>\n",
       "      <th>street</th>\n",
       "      <th>alley</th>\n",
       "      <th>lotshape</th>\n",
       "      <th>landcontour</th>\n",
       "      <th>utilities</th>\n",
       "      <th>...</th>\n",
       "      <th>openporchsf_exst</th>\n",
       "      <th>enclosedporch_exst</th>\n",
       "      <th>three_ssnporch_exst</th>\n",
       "      <th>screenporch_exst</th>\n",
       "      <th>poolarea_exst</th>\n",
       "      <th>miscval_exst</th>\n",
       "      <th>modage</th>\n",
       "      <th>houseage</th>\n",
       "      <th>garageage</th>\n",
       "      <th>price</th>\n",
       "    </tr>\n",
       "  </thead>\n",
       "  <tbody>\n",
       "    <tr>\n",
       "      <th>907</th>\n",
       "      <td>908</td>\n",
       "      <td>50</td>\n",
       "      <td>RL</td>\n",
       "      <td>86.0</td>\n",
       "      <td>11500</td>\n",
       "      <td>Pave</td>\n",
       "      <td>NA</td>\n",
       "      <td>IR1</td>\n",
       "      <td>Lvl</td>\n",
       "      <td>AllPub</td>\n",
       "      <td>...</td>\n",
       "      <td>0</td>\n",
       "      <td>0</td>\n",
       "      <td>0</td>\n",
       "      <td>1</td>\n",
       "      <td>0</td>\n",
       "      <td>0</td>\n",
       "      <td>19</td>\n",
       "      <td>70</td>\n",
       "      <td>70.0</td>\n",
       "      <td>12.429216</td>\n",
       "    </tr>\n",
       "    <tr>\n",
       "      <th>782</th>\n",
       "      <td>783</td>\n",
       "      <td>20</td>\n",
       "      <td>RL</td>\n",
       "      <td>67.0</td>\n",
       "      <td>16285</td>\n",
       "      <td>Pave</td>\n",
       "      <td>NA</td>\n",
       "      <td>IR2</td>\n",
       "      <td>Lvl</td>\n",
       "      <td>AllPub</td>\n",
       "      <td>...</td>\n",
       "      <td>1</td>\n",
       "      <td>0</td>\n",
       "      <td>0</td>\n",
       "      <td>0</td>\n",
       "      <td>0</td>\n",
       "      <td>0</td>\n",
       "      <td>7</td>\n",
       "      <td>8</td>\n",
       "      <td>8.0</td>\n",
       "      <td>12.139399</td>\n",
       "    </tr>\n",
       "    <tr>\n",
       "      <th>952</th>\n",
       "      <td>953</td>\n",
       "      <td>85</td>\n",
       "      <td>RL</td>\n",
       "      <td>60.0</td>\n",
       "      <td>7200</td>\n",
       "      <td>Pave</td>\n",
       "      <td>NA</td>\n",
       "      <td>Reg</td>\n",
       "      <td>Lvl</td>\n",
       "      <td>AllPub</td>\n",
       "      <td>...</td>\n",
       "      <td>0</td>\n",
       "      <td>0</td>\n",
       "      <td>0</td>\n",
       "      <td>0</td>\n",
       "      <td>0</td>\n",
       "      <td>0</td>\n",
       "      <td>6</td>\n",
       "      <td>37</td>\n",
       "      <td>35.0</td>\n",
       "      <td>11.804849</td>\n",
       "    </tr>\n",
       "    <tr>\n",
       "      <th>620</th>\n",
       "      <td>621</td>\n",
       "      <td>30</td>\n",
       "      <td>RL</td>\n",
       "      <td>45.0</td>\n",
       "      <td>8248</td>\n",
       "      <td>Pave</td>\n",
       "      <td>Grvl</td>\n",
       "      <td>Reg</td>\n",
       "      <td>Lvl</td>\n",
       "      <td>AllPub</td>\n",
       "      <td>...</td>\n",
       "      <td>0</td>\n",
       "      <td>1</td>\n",
       "      <td>0</td>\n",
       "      <td>0</td>\n",
       "      <td>0</td>\n",
       "      <td>0</td>\n",
       "      <td>58</td>\n",
       "      <td>94</td>\n",
       "      <td>94.0</td>\n",
       "      <td>11.112448</td>\n",
       "    </tr>\n",
       "    <tr>\n",
       "      <th>669</th>\n",
       "      <td>670</td>\n",
       "      <td>30</td>\n",
       "      <td>RL</td>\n",
       "      <td>80.0</td>\n",
       "      <td>11600</td>\n",
       "      <td>Pave</td>\n",
       "      <td>NA</td>\n",
       "      <td>Reg</td>\n",
       "      <td>Lvl</td>\n",
       "      <td>AllPub</td>\n",
       "      <td>...</td>\n",
       "      <td>0</td>\n",
       "      <td>1</td>\n",
       "      <td>0</td>\n",
       "      <td>0</td>\n",
       "      <td>0</td>\n",
       "      <td>0</td>\n",
       "      <td>56</td>\n",
       "      <td>84</td>\n",
       "      <td>84.0</td>\n",
       "      <td>11.831379</td>\n",
       "    </tr>\n",
       "  </tbody>\n",
       "</table>\n",
       "<p>5 rows × 106 columns</p>\n",
       "</div>"
      ],
      "text/plain": [
       "      id mssubclass mszoning  lotfrontage  lotarea street alley lotshape  \\\n",
       "907  908         50       RL         86.0    11500   Pave    NA      IR1   \n",
       "782  783         20       RL         67.0    16285   Pave    NA      IR2   \n",
       "952  953         85       RL         60.0     7200   Pave    NA      Reg   \n",
       "620  621         30       RL         45.0     8248   Pave  Grvl      Reg   \n",
       "669  670         30       RL         80.0    11600   Pave    NA      Reg   \n",
       "\n",
       "    landcontour utilities  ... openporchsf_exst enclosedporch_exst  \\\n",
       "907         Lvl    AllPub  ...                0                  0   \n",
       "782         Lvl    AllPub  ...                1                  0   \n",
       "952         Lvl    AllPub  ...                0                  0   \n",
       "620         Lvl    AllPub  ...                0                  1   \n",
       "669         Lvl    AllPub  ...                0                  1   \n",
       "\n",
       "    three_ssnporch_exst screenporch_exst poolarea_exst miscval_exst modage  \\\n",
       "907                   0                1             0            0     19   \n",
       "782                   0                0             0            0      7   \n",
       "952                   0                0             0            0      6   \n",
       "620                   0                0             0            0     58   \n",
       "669                   0                0             0            0     56   \n",
       "\n",
       "     houseage  garageage      price  \n",
       "907        70       70.0  12.429216  \n",
       "782         8        8.0  12.139399  \n",
       "952        37       35.0  11.804849  \n",
       "620        94       94.0  11.112448  \n",
       "669        84       84.0  11.831379  \n",
       "\n",
       "[5 rows x 106 columns]"
      ]
     },
     "execution_count": 57,
     "metadata": {},
     "output_type": "execute_result"
    }
   ],
   "source": [
    "train.head()"
   ]
  },
  {
   "cell_type": "code",
   "execution_count": 58,
   "id": "e74a63d0-9175-4f52-8223-c8b8c4722a34",
   "metadata": {},
   "outputs": [],
   "source": [
    "features_log = numeric\n",
    "features_log_drop = [\n",
    "    'fullbath', 'halfbath', 'bedroomabvgr', 'kitchenabvgr', 'totrmsabvgrd',\n",
    "    'fireplaces', 'garagecars', 'miscval', 'mosold', 'yrsold',\n",
    "    'bedroomsize', 'kitchensize', 'bedroomfracrms', 'kitchenfracrms',\n",
    "    'bathsfracbedr', 'houseage', 'modage', 'garageage', 'yearbuilt',\n",
    "]\n",
    "features_log = [i for i in features_log if i not in features_log_drop]\n",
    "features_log = [i for i in features_log if i not in ordinal]"
   ]
  },
  {
   "cell_type": "code",
   "execution_count": 59,
   "id": "a37a09ac-10c0-4d93-9e7e-856948fe283e",
   "metadata": {},
   "outputs": [],
   "source": [
    "log_processor = LogCpTransformer(\n",
    "    variables=features_log,\n",
    "    base='e',\n",
    "    C=1\n",
    ")"
   ]
  },
  {
   "cell_type": "code",
   "execution_count": 60,
   "id": "3f2e1e93-e421-4e37-a067-63371dd61fcd",
   "metadata": {},
   "outputs": [
    {
     "data": {
      "text/html": [
       "<style>#sk-container-id-1 {color: black;}#sk-container-id-1 pre{padding: 0;}#sk-container-id-1 div.sk-toggleable {background-color: white;}#sk-container-id-1 label.sk-toggleable__label {cursor: pointer;display: block;width: 100%;margin-bottom: 0;padding: 0.3em;box-sizing: border-box;text-align: center;}#sk-container-id-1 label.sk-toggleable__label-arrow:before {content: \"▸\";float: left;margin-right: 0.25em;color: #696969;}#sk-container-id-1 label.sk-toggleable__label-arrow:hover:before {color: black;}#sk-container-id-1 div.sk-estimator:hover label.sk-toggleable__label-arrow:before {color: black;}#sk-container-id-1 div.sk-toggleable__content {max-height: 0;max-width: 0;overflow: hidden;text-align: left;background-color: #f0f8ff;}#sk-container-id-1 div.sk-toggleable__content pre {margin: 0.2em;color: black;border-radius: 0.25em;background-color: #f0f8ff;}#sk-container-id-1 input.sk-toggleable__control:checked~div.sk-toggleable__content {max-height: 200px;max-width: 100%;overflow: auto;}#sk-container-id-1 input.sk-toggleable__control:checked~label.sk-toggleable__label-arrow:before {content: \"▾\";}#sk-container-id-1 div.sk-estimator input.sk-toggleable__control:checked~label.sk-toggleable__label {background-color: #d4ebff;}#sk-container-id-1 div.sk-label input.sk-toggleable__control:checked~label.sk-toggleable__label {background-color: #d4ebff;}#sk-container-id-1 input.sk-hidden--visually {border: 0;clip: rect(1px 1px 1px 1px);clip: rect(1px, 1px, 1px, 1px);height: 1px;margin: -1px;overflow: hidden;padding: 0;position: absolute;width: 1px;}#sk-container-id-1 div.sk-estimator {font-family: monospace;background-color: #f0f8ff;border: 1px dotted black;border-radius: 0.25em;box-sizing: border-box;margin-bottom: 0.5em;}#sk-container-id-1 div.sk-estimator:hover {background-color: #d4ebff;}#sk-container-id-1 div.sk-parallel-item::after {content: \"\";width: 100%;border-bottom: 1px solid gray;flex-grow: 1;}#sk-container-id-1 div.sk-label:hover label.sk-toggleable__label {background-color: #d4ebff;}#sk-container-id-1 div.sk-serial::before {content: \"\";position: absolute;border-left: 1px solid gray;box-sizing: border-box;top: 0;bottom: 0;left: 50%;z-index: 0;}#sk-container-id-1 div.sk-serial {display: flex;flex-direction: column;align-items: center;background-color: white;padding-right: 0.2em;padding-left: 0.2em;position: relative;}#sk-container-id-1 div.sk-item {position: relative;z-index: 1;}#sk-container-id-1 div.sk-parallel {display: flex;align-items: stretch;justify-content: center;background-color: white;position: relative;}#sk-container-id-1 div.sk-item::before, #sk-container-id-1 div.sk-parallel-item::before {content: \"\";position: absolute;border-left: 1px solid gray;box-sizing: border-box;top: 0;bottom: 0;left: 50%;z-index: -1;}#sk-container-id-1 div.sk-parallel-item {display: flex;flex-direction: column;z-index: 1;position: relative;background-color: white;}#sk-container-id-1 div.sk-parallel-item:first-child::after {align-self: flex-end;width: 50%;}#sk-container-id-1 div.sk-parallel-item:last-child::after {align-self: flex-start;width: 50%;}#sk-container-id-1 div.sk-parallel-item:only-child::after {width: 0;}#sk-container-id-1 div.sk-dashed-wrapped {border: 1px dashed gray;margin: 0 0.4em 0.5em 0.4em;box-sizing: border-box;padding-bottom: 0.4em;background-color: white;}#sk-container-id-1 div.sk-label label {font-family: monospace;font-weight: bold;display: inline-block;line-height: 1.2em;}#sk-container-id-1 div.sk-label-container {text-align: center;}#sk-container-id-1 div.sk-container {/* jupyter's `normalize.less` sets `[hidden] { display: none; }` but bootstrap.min.css set `[hidden] { display: none !important; }` so we also need the `!important` here to be able to override the default hidden behavior on the sphinx rendered scikit-learn.org. See: https://github.com/scikit-learn/scikit-learn/issues/21755 */display: inline-block !important;position: relative;}#sk-container-id-1 div.sk-text-repr-fallback {display: none;}</style><div id=\"sk-container-id-1\" class=\"sk-top-container\"><div class=\"sk-text-repr-fallback\"><pre>LogCpTransformer(C=1,\n",
       "                 variables=[&#x27;lotfrontage&#x27;, &#x27;lotarea&#x27;, &#x27;yearremodadd&#x27;,\n",
       "                            &#x27;masvnrarea&#x27;, &#x27;bsmtfinsf_first&#x27;, &#x27;bsmtfinsf_second&#x27;,\n",
       "                            &#x27;bsmtunfsf&#x27;, &#x27;totalbsmtsf&#x27;, &#x27;first_flrsf&#x27;,\n",
       "                            &#x27;second_flrsf&#x27;, &#x27;lowqualfinsf&#x27;, &#x27;grlivarea&#x27;,\n",
       "                            &#x27;bsmtfullbath&#x27;, &#x27;bsmthalfbath&#x27;, &#x27;garageyrblt&#x27;,\n",
       "                            &#x27;garagearea&#x27;, &#x27;wooddecksf&#x27;, &#x27;openporchsf&#x27;,\n",
       "                            &#x27;enclosedporch&#x27;, &#x27;three_ssnporch&#x27;, &#x27;screenporch&#x27;,\n",
       "                            &#x27;poolarea&#x27;, &#x27;flrsfmean&#x27;])</pre><b>In a Jupyter environment, please rerun this cell to show the HTML representation or trust the notebook. <br />On GitHub, the HTML representation is unable to render, please try loading this page with nbviewer.org.</b></div><div class=\"sk-container\" hidden><div class=\"sk-item\"><div class=\"sk-estimator sk-toggleable\"><input class=\"sk-toggleable__control sk-hidden--visually\" id=\"sk-estimator-id-1\" type=\"checkbox\" checked><label for=\"sk-estimator-id-1\" class=\"sk-toggleable__label sk-toggleable__label-arrow\">LogCpTransformer</label><div class=\"sk-toggleable__content\"><pre>LogCpTransformer(C=1,\n",
       "                 variables=[&#x27;lotfrontage&#x27;, &#x27;lotarea&#x27;, &#x27;yearremodadd&#x27;,\n",
       "                            &#x27;masvnrarea&#x27;, &#x27;bsmtfinsf_first&#x27;, &#x27;bsmtfinsf_second&#x27;,\n",
       "                            &#x27;bsmtunfsf&#x27;, &#x27;totalbsmtsf&#x27;, &#x27;first_flrsf&#x27;,\n",
       "                            &#x27;second_flrsf&#x27;, &#x27;lowqualfinsf&#x27;, &#x27;grlivarea&#x27;,\n",
       "                            &#x27;bsmtfullbath&#x27;, &#x27;bsmthalfbath&#x27;, &#x27;garageyrblt&#x27;,\n",
       "                            &#x27;garagearea&#x27;, &#x27;wooddecksf&#x27;, &#x27;openporchsf&#x27;,\n",
       "                            &#x27;enclosedporch&#x27;, &#x27;three_ssnporch&#x27;, &#x27;screenporch&#x27;,\n",
       "                            &#x27;poolarea&#x27;, &#x27;flrsfmean&#x27;])</pre></div></div></div></div></div>"
      ],
      "text/plain": [
       "LogCpTransformer(C=1,\n",
       "                 variables=['lotfrontage', 'lotarea', 'yearremodadd',\n",
       "                            'masvnrarea', 'bsmtfinsf_first', 'bsmtfinsf_second',\n",
       "                            'bsmtunfsf', 'totalbsmtsf', 'first_flrsf',\n",
       "                            'second_flrsf', 'lowqualfinsf', 'grlivarea',\n",
       "                            'bsmtfullbath', 'bsmthalfbath', 'garageyrblt',\n",
       "                            'garagearea', 'wooddecksf', 'openporchsf',\n",
       "                            'enclosedporch', 'three_ssnporch', 'screenporch',\n",
       "                            'poolarea', 'flrsfmean'])"
      ]
     },
     "execution_count": 60,
     "metadata": {},
     "output_type": "execute_result"
    }
   ],
   "source": [
    "log_processor.fit(train[features_log])"
   ]
  },
  {
   "cell_type": "code",
   "execution_count": 61,
   "id": "5df76d40-05db-4d19-ab58-f16f1cb7f82e",
   "metadata": {},
   "outputs": [
    {
     "data": {
      "image/png": "[encoded data removed]",
      "text/plain": [
       "<Figure size 800x250 with 1 Axes>"
      ]
     },
     "metadata": {},
     "output_type": "display_data"
    }
   ],
   "source": [
    "train['garagearea'].hist(bins=50);"
   ]
  },
  {
   "cell_type": "code",
   "execution_count": 62,
   "id": "76bdbd2a-1a44-4b97-a10b-9ec3ee7da825",
   "metadata": {},
   "outputs": [],
   "source": [
    "train[features_log] = log_processor.transform(train[features_log])\n",
    "\n",
    "for feature in features_log:\n",
    "    train = train.rename(columns={feature: 'lg_'+feature})\n",
    "    # rename elements in features list: add 'lg_'\n",
    "    dct = {feature: 'lg_'+feature}\n",
    "    features = [dct.get(n, n) for n in features]\n",
    "    features_linear = [dct.get(n, n) for n in features_linear]\n",
    "    features_raw = [dct.get(n, n) for n in features_raw]\n",
    "    numeric = [dct.get(n, n) for n in numeric]\n",
    "    numeric_linear = [dct.get(n, n) for n in numeric_linear]\n",
    "    numeric_raw = [dct.get(n, n) for n in numeric_raw]"
   ]
  },
  {
   "cell_type": "code",
   "execution_count": 63,
   "id": "dc4def26-3a41-4742-a507-7962e13babb8",
   "metadata": {},
   "outputs": [
    {
     "data": {
      "image/png": "[encoded data removed]",
      "text/plain": [
       "<Figure size 800x250 with 1 Axes>"
      ]
     },
     "metadata": {},
     "output_type": "display_data"
    }
   ],
   "source": [
    "train['lg_garagearea'].hist(bins=50);"
   ]
  },
  {
   "cell_type": "markdown",
   "id": "3b97d351-2a5f-40a9-b3b6-927dcf4f9f8c",
   "metadata": {},
   "source": [
    "### Transformaton Pipeline Check"
   ]
  },
  {
   "cell_type": "code",
   "execution_count": 64,
   "id": "8dd60841-87aa-4b02-898d-9b53e4e21ed1",
   "metadata": {},
   "outputs": [],
   "source": [
    "features_creator = FeaturesCreator(factors=True)"
   ]
  },
  {
   "cell_type": "code",
   "execution_count": 65,
   "id": "252eafaa-380d-466a-a422-34aa14a5d6b8",
   "metadata": {},
   "outputs": [],
   "source": [
    "features_logger = FeaturesLogger(features_log=features_log)"
   ]
  },
  {
   "cell_type": "code",
   "execution_count": 66,
   "id": "53b9496b-55da-4215-8e3d-6dbd2b849404",
   "metadata": {},
   "outputs": [],
   "source": [
    "pipeline = Pipeline(steps=[\n",
    "    ('features_create', features_creator),\n",
    "    ('features_log', features_logger)\n",
    "])"
   ]
  },
  {
   "cell_type": "code",
   "execution_count": 67,
   "id": "f7fe4fcc-bdc6-427a-b0ff-dbe906a0a8ce",
   "metadata": {},
   "outputs": [],
   "source": [
    "train_transformed = pipeline.transform(train_raw)"
   ]
  },
  {
   "cell_type": "code",
   "execution_count": 68,
   "id": "f234738a-14ff-4045-ba4e-5170f8d7dc34",
   "metadata": {},
   "outputs": [],
   "source": [
    "col = train_transformed.pop('price')\n",
    "train_transformed.insert(len(train_transformed.columns), 'price', col)"
   ]
  },
  {
   "cell_type": "code",
   "execution_count": 69,
   "id": "bd239113-12e5-495e-b200-e01ae607332b",
   "metadata": {},
   "outputs": [],
   "source": [
    "assert train_transformed.equals(train)"
   ]
  },
  {
   "cell_type": "code",
   "execution_count": 70,
   "id": "858f8764-83eb-44df-8ca5-938b4482fbe6",
   "metadata": {},
   "outputs": [
    {
     "data": {
      "text/html": [
       "<div>\n",
       "<style scoped>\n",
       "    .dataframe tbody tr th:only-of-type {\n",
       "        vertical-align: middle;\n",
       "    }\n",
       "\n",
       "    .dataframe tbody tr th {\n",
       "        vertical-align: top;\n",
       "    }\n",
       "\n",
       "    .dataframe thead th {\n",
       "        text-align: right;\n",
       "    }\n",
       "</style>\n",
       "<table border=\"1\" class=\"dataframe\">\n",
       "  <thead>\n",
       "    <tr style=\"text-align: right;\">\n",
       "      <th></th>\n",
       "      <th>id</th>\n",
       "      <th>mssubclass</th>\n",
       "      <th>mszoning</th>\n",
       "      <th>lg_lotfrontage</th>\n",
       "      <th>lg_lotarea</th>\n",
       "      <th>street</th>\n",
       "      <th>alley</th>\n",
       "      <th>lotshape</th>\n",
       "      <th>landcontour</th>\n",
       "      <th>utilities</th>\n",
       "      <th>...</th>\n",
       "      <th>openporchsf_exst</th>\n",
       "      <th>enclosedporch_exst</th>\n",
       "      <th>three_ssnporch_exst</th>\n",
       "      <th>screenporch_exst</th>\n",
       "      <th>poolarea_exst</th>\n",
       "      <th>miscval_exst</th>\n",
       "      <th>modage</th>\n",
       "      <th>houseage</th>\n",
       "      <th>garageage</th>\n",
       "      <th>price</th>\n",
       "    </tr>\n",
       "  </thead>\n",
       "  <tbody>\n",
       "  </tbody>\n",
       "</table>\n",
       "<p>0 rows × 106 columns</p>\n",
       "</div>"
      ],
      "text/plain": [
       "Empty DataFrame\n",
       "Columns: [id, mssubclass, mszoning, lg_lotfrontage, lg_lotarea, street, alley, lotshape, landcontour, utilities, lotconfig, landslope, neighborhood, condition_first, condition_second, bldgtype, housestyle, overallqual, overallcond, yearbuilt, lg_yearremodadd, roofstyle, roofmatl, exterior_first, exterior_second, masvnrtype, lg_masvnrarea, exterqual, extercond, foundation, bsmtqual, bsmtcond, bsmtexposure, bsmtfintype_first, lg_bsmtfinsf_first, bsmtfintype_second, lg_bsmtfinsf_second, lg_bsmtunfsf, lg_totalbsmtsf, heating, heatingqc, centralair, electrical, lg_first_flrsf, lg_second_flrsf, lg_lowqualfinsf, lg_grlivarea, lg_bsmtfullbath, lg_bsmthalfbath, fullbath, halfbath, bedroomabvgr, kitchenabvgr, kitchenqual, totrmsabvgrd, functional, fireplaces, fireplacequ, garagetype, lg_garageyrblt, garagefinish, garagecars, lg_garagearea, garagequal, garagecond, paveddrive, lg_wooddecksf, lg_openporchsf, lg_enclosedporch, lg_three_ssnporch, lg_screenporch, lg_poolarea, poolqc, fence, miscfeature, miscval, mosold, yrsold, saletype, salecondition, lg_flrsfmean, bedroomsize, kitchensize, bedroomfracrms, kitchenfracrms, bathsfracbedr, yearremodadd_exst, masvnrarea_exst, bsmtfinsf_first_exst, bsmtfinsf_second_exst, totalbsmtsf_exst, bsmtunfsf_exst, lowqualfinsf_exst, second_flrsf_exst, garagearea_exst, wooddecksf_exst, openporchsf_exst, enclosedporch_exst, three_ssnporch_exst, screenporch_exst, ...]\n",
       "Index: []\n",
       "\n",
       "[0 rows x 106 columns]"
      ]
     },
     "execution_count": 70,
     "metadata": {},
     "output_type": "execute_result"
    }
   ],
   "source": [
    "# display rows with differences\n",
    "train[~train.apply(tuple,1).isin(train_transformed.apply(tuple,1))]"
   ]
  },
  {
   "cell_type": "markdown",
   "id": "bee4eb6a-92fe-44db-ae95-0af8931e5bcc",
   "metadata": {},
   "source": [
    "### Correlation Matrix with New Features"
   ]
  },
  {
   "cell_type": "code",
   "execution_count": 71,
   "id": "81371c76-9529-4537-8425-ce83723fbda1",
   "metadata": {},
   "outputs": [],
   "source": [
    "corr_df = train[numeric + ordinal + [target]].corr()"
   ]
  },
  {
   "cell_type": "code",
   "execution_count": 72,
   "id": "63ccd212-07c4-438f-b447-e1e04f7d8a38",
   "metadata": {},
   "outputs": [
    {
     "data": {
      "image/png": "[encoded data removed]",
      "text/plain": [
       "<Figure size 750x250 with 1 Axes>"
      ]
     },
     "metadata": {},
     "output_type": "display_data"
    },
    {
     "name": "stdout",
     "output_type": "stream",
     "text": [
      "Image 'corr_matrix_new.svg' successfully saved into 'img/Section3-Feature-selection-and-Preprocessing' directory\n"
     ]
    }
   ],
   "source": [
    "fig = plot_corr_matrix(\n",
    "    data=corr_df, target=target, num_features=10,\n",
    "    width=0.75, height=0.25, annot=6.5, labelsize=6.5,\n",
    "    linecolor=theme, full=True, abs_results=True,\n",
    "    df=False, df_limit=None\n",
    ")\n",
    "savefig('corr_matrix_new', dir_save, dpi=125)"
   ]
  },
  {
   "cell_type": "markdown",
   "id": "ebb26e29-9cf7-4228-bd63-cce30b41b150",
   "metadata": {},
   "source": [
    "## Preprocessing"
   ]
  },
  {
   "cell_type": "code",
   "execution_count": 73,
   "id": "61787e73-581a-42d4-8ac4-8915273f17b8",
   "metadata": {},
   "outputs": [
    {
     "data": {
      "text/html": [
       "<div>\n",
       "<style scoped>\n",
       "    .dataframe tbody tr th:only-of-type {\n",
       "        vertical-align: middle;\n",
       "    }\n",
       "\n",
       "    .dataframe tbody tr th {\n",
       "        vertical-align: top;\n",
       "    }\n",
       "\n",
       "    .dataframe thead th {\n",
       "        text-align: right;\n",
       "    }\n",
       "</style>\n",
       "<table border=\"1\" class=\"dataframe\">\n",
       "  <thead>\n",
       "    <tr style=\"text-align: right;\">\n",
       "      <th></th>\n",
       "      <th>id</th>\n",
       "      <th>mssubclass</th>\n",
       "      <th>mszoning</th>\n",
       "      <th>lg_lotfrontage</th>\n",
       "      <th>lg_lotarea</th>\n",
       "      <th>street</th>\n",
       "      <th>alley</th>\n",
       "      <th>lotshape</th>\n",
       "      <th>landcontour</th>\n",
       "      <th>utilities</th>\n",
       "      <th>...</th>\n",
       "      <th>openporchsf_exst</th>\n",
       "      <th>enclosedporch_exst</th>\n",
       "      <th>three_ssnporch_exst</th>\n",
       "      <th>screenporch_exst</th>\n",
       "      <th>poolarea_exst</th>\n",
       "      <th>miscval_exst</th>\n",
       "      <th>modage</th>\n",
       "      <th>houseage</th>\n",
       "      <th>garageage</th>\n",
       "      <th>price</th>\n",
       "    </tr>\n",
       "  </thead>\n",
       "  <tbody>\n",
       "    <tr>\n",
       "      <th>907</th>\n",
       "      <td>908</td>\n",
       "      <td>50</td>\n",
       "      <td>RL</td>\n",
       "      <td>4.465908</td>\n",
       "      <td>9.350189</td>\n",
       "      <td>Pave</td>\n",
       "      <td>NA</td>\n",
       "      <td>IR1</td>\n",
       "      <td>Lvl</td>\n",
       "      <td>AllPub</td>\n",
       "      <td>...</td>\n",
       "      <td>0</td>\n",
       "      <td>0</td>\n",
       "      <td>0</td>\n",
       "      <td>1</td>\n",
       "      <td>0</td>\n",
       "      <td>0</td>\n",
       "      <td>19</td>\n",
       "      <td>70</td>\n",
       "      <td>70.0</td>\n",
       "      <td>12.429216</td>\n",
       "    </tr>\n",
       "    <tr>\n",
       "      <th>782</th>\n",
       "      <td>783</td>\n",
       "      <td>20</td>\n",
       "      <td>RL</td>\n",
       "      <td>4.219508</td>\n",
       "      <td>9.698061</td>\n",
       "      <td>Pave</td>\n",
       "      <td>NA</td>\n",
       "      <td>IR2</td>\n",
       "      <td>Lvl</td>\n",
       "      <td>AllPub</td>\n",
       "      <td>...</td>\n",
       "      <td>1</td>\n",
       "      <td>0</td>\n",
       "      <td>0</td>\n",
       "      <td>0</td>\n",
       "      <td>0</td>\n",
       "      <td>0</td>\n",
       "      <td>7</td>\n",
       "      <td>8</td>\n",
       "      <td>8.0</td>\n",
       "      <td>12.139399</td>\n",
       "    </tr>\n",
       "    <tr>\n",
       "      <th>952</th>\n",
       "      <td>953</td>\n",
       "      <td>85</td>\n",
       "      <td>RL</td>\n",
       "      <td>4.110874</td>\n",
       "      <td>8.881975</td>\n",
       "      <td>Pave</td>\n",
       "      <td>NA</td>\n",
       "      <td>Reg</td>\n",
       "      <td>Lvl</td>\n",
       "      <td>AllPub</td>\n",
       "      <td>...</td>\n",
       "      <td>0</td>\n",
       "      <td>0</td>\n",
       "      <td>0</td>\n",
       "      <td>0</td>\n",
       "      <td>0</td>\n",
       "      <td>0</td>\n",
       "      <td>6</td>\n",
       "      <td>37</td>\n",
       "      <td>35.0</td>\n",
       "      <td>11.804849</td>\n",
       "    </tr>\n",
       "    <tr>\n",
       "      <th>620</th>\n",
       "      <td>621</td>\n",
       "      <td>30</td>\n",
       "      <td>RL</td>\n",
       "      <td>3.828641</td>\n",
       "      <td>9.017847</td>\n",
       "      <td>Pave</td>\n",
       "      <td>Grvl</td>\n",
       "      <td>Reg</td>\n",
       "      <td>Lvl</td>\n",
       "      <td>AllPub</td>\n",
       "      <td>...</td>\n",
       "      <td>0</td>\n",
       "      <td>1</td>\n",
       "      <td>0</td>\n",
       "      <td>0</td>\n",
       "      <td>0</td>\n",
       "      <td>0</td>\n",
       "      <td>58</td>\n",
       "      <td>94</td>\n",
       "      <td>94.0</td>\n",
       "      <td>11.112448</td>\n",
       "    </tr>\n",
       "    <tr>\n",
       "      <th>669</th>\n",
       "      <td>670</td>\n",
       "      <td>30</td>\n",
       "      <td>RL</td>\n",
       "      <td>4.394449</td>\n",
       "      <td>9.358847</td>\n",
       "      <td>Pave</td>\n",
       "      <td>NA</td>\n",
       "      <td>Reg</td>\n",
       "      <td>Lvl</td>\n",
       "      <td>AllPub</td>\n",
       "      <td>...</td>\n",
       "      <td>0</td>\n",
       "      <td>1</td>\n",
       "      <td>0</td>\n",
       "      <td>0</td>\n",
       "      <td>0</td>\n",
       "      <td>0</td>\n",
       "      <td>56</td>\n",
       "      <td>84</td>\n",
       "      <td>84.0</td>\n",
       "      <td>11.831379</td>\n",
       "    </tr>\n",
       "  </tbody>\n",
       "</table>\n",
       "<p>5 rows × 106 columns</p>\n",
       "</div>"
      ],
      "text/plain": [
       "      id mssubclass mszoning  lg_lotfrontage  lg_lotarea street alley  \\\n",
       "907  908         50       RL        4.465908    9.350189   Pave    NA   \n",
       "782  783         20       RL        4.219508    9.698061   Pave    NA   \n",
       "952  953         85       RL        4.110874    8.881975   Pave    NA   \n",
       "620  621         30       RL        3.828641    9.017847   Pave  Grvl   \n",
       "669  670         30       RL        4.394449    9.358847   Pave    NA   \n",
       "\n",
       "    lotshape landcontour utilities  ... openporchsf_exst enclosedporch_exst  \\\n",
       "907      IR1         Lvl    AllPub  ...                0                  0   \n",
       "782      IR2         Lvl    AllPub  ...                1                  0   \n",
       "952      Reg         Lvl    AllPub  ...                0                  0   \n",
       "620      Reg         Lvl    AllPub  ...                0                  1   \n",
       "669      Reg         Lvl    AllPub  ...                0                  1   \n",
       "\n",
       "    three_ssnporch_exst screenporch_exst poolarea_exst miscval_exst modage  \\\n",
       "907                   0                1             0            0     19   \n",
       "782                   0                0             0            0      7   \n",
       "952                   0                0             0            0      6   \n",
       "620                   0                0             0            0     58   \n",
       "669                   0                0             0            0     56   \n",
       "\n",
       "     houseage  garageage      price  \n",
       "907        70       70.0  12.429216  \n",
       "782         8        8.0  12.139399  \n",
       "952        37       35.0  11.804849  \n",
       "620        94       94.0  11.112448  \n",
       "669        84       84.0  11.831379  \n",
       "\n",
       "[5 rows x 106 columns]"
      ]
     },
     "execution_count": 73,
     "metadata": {},
     "output_type": "execute_result"
    }
   ],
   "source": [
    "train.head()"
   ]
  },
  {
   "cell_type": "code",
   "execution_count": 74,
   "id": "58051689-ded4-44ba-a5c8-4083f40e3627",
   "metadata": {},
   "outputs": [],
   "source": [
    "train_raw = train.copy()"
   ]
  },
  {
   "cell_type": "markdown",
   "id": "0484c575-917b-42b5-bee9-8ec7580367f2",
   "metadata": {},
   "source": [
    "### Create Train dataset for further GridSearch\n",
    "Transformations: only log, no encoding and scaling."
   ]
  },
  {
   "cell_type": "code",
   "execution_count": 75,
   "id": "d431b87a-59da-4e72-9801-cc09131dd4a3",
   "metadata": {},
   "outputs": [],
   "source": [
    "train_cv = train.copy()"
   ]
  },
  {
   "cell_type": "code",
   "execution_count": 76,
   "id": "dbc35a92-1cc0-4c78-a114-b20232839e93",
   "metadata": {},
   "outputs": [
    {
     "data": {
      "text/html": [
       "<div>\n",
       "<style scoped>\n",
       "    .dataframe tbody tr th:only-of-type {\n",
       "        vertical-align: middle;\n",
       "    }\n",
       "\n",
       "    .dataframe tbody tr th {\n",
       "        vertical-align: top;\n",
       "    }\n",
       "\n",
       "    .dataframe thead th {\n",
       "        text-align: right;\n",
       "    }\n",
       "</style>\n",
       "<table border=\"1\" class=\"dataframe\">\n",
       "  <thead>\n",
       "    <tr style=\"text-align: right;\">\n",
       "      <th></th>\n",
       "      <th>id</th>\n",
       "      <th>mssubclass</th>\n",
       "      <th>mszoning</th>\n",
       "      <th>lg_lotfrontage</th>\n",
       "      <th>lg_lotarea</th>\n",
       "      <th>street</th>\n",
       "      <th>alley</th>\n",
       "      <th>lotshape</th>\n",
       "      <th>landcontour</th>\n",
       "      <th>utilities</th>\n",
       "      <th>...</th>\n",
       "      <th>openporchsf_exst</th>\n",
       "      <th>enclosedporch_exst</th>\n",
       "      <th>three_ssnporch_exst</th>\n",
       "      <th>screenporch_exst</th>\n",
       "      <th>poolarea_exst</th>\n",
       "      <th>miscval_exst</th>\n",
       "      <th>modage</th>\n",
       "      <th>houseage</th>\n",
       "      <th>garageage</th>\n",
       "      <th>price</th>\n",
       "    </tr>\n",
       "  </thead>\n",
       "  <tbody>\n",
       "    <tr>\n",
       "      <th>907</th>\n",
       "      <td>908</td>\n",
       "      <td>50</td>\n",
       "      <td>RL</td>\n",
       "      <td>4.465908</td>\n",
       "      <td>9.350189</td>\n",
       "      <td>Pave</td>\n",
       "      <td>NA</td>\n",
       "      <td>IR1</td>\n",
       "      <td>Lvl</td>\n",
       "      <td>AllPub</td>\n",
       "      <td>...</td>\n",
       "      <td>0</td>\n",
       "      <td>0</td>\n",
       "      <td>0</td>\n",
       "      <td>1</td>\n",
       "      <td>0</td>\n",
       "      <td>0</td>\n",
       "      <td>19</td>\n",
       "      <td>70</td>\n",
       "      <td>70.0</td>\n",
       "      <td>12.429216</td>\n",
       "    </tr>\n",
       "    <tr>\n",
       "      <th>782</th>\n",
       "      <td>783</td>\n",
       "      <td>20</td>\n",
       "      <td>RL</td>\n",
       "      <td>4.219508</td>\n",
       "      <td>9.698061</td>\n",
       "      <td>Pave</td>\n",
       "      <td>NA</td>\n",
       "      <td>IR2</td>\n",
       "      <td>Lvl</td>\n",
       "      <td>AllPub</td>\n",
       "      <td>...</td>\n",
       "      <td>1</td>\n",
       "      <td>0</td>\n",
       "      <td>0</td>\n",
       "      <td>0</td>\n",
       "      <td>0</td>\n",
       "      <td>0</td>\n",
       "      <td>7</td>\n",
       "      <td>8</td>\n",
       "      <td>8.0</td>\n",
       "      <td>12.139399</td>\n",
       "    </tr>\n",
       "    <tr>\n",
       "      <th>952</th>\n",
       "      <td>953</td>\n",
       "      <td>85</td>\n",
       "      <td>RL</td>\n",
       "      <td>4.110874</td>\n",
       "      <td>8.881975</td>\n",
       "      <td>Pave</td>\n",
       "      <td>NA</td>\n",
       "      <td>Reg</td>\n",
       "      <td>Lvl</td>\n",
       "      <td>AllPub</td>\n",
       "      <td>...</td>\n",
       "      <td>0</td>\n",
       "      <td>0</td>\n",
       "      <td>0</td>\n",
       "      <td>0</td>\n",
       "      <td>0</td>\n",
       "      <td>0</td>\n",
       "      <td>6</td>\n",
       "      <td>37</td>\n",
       "      <td>35.0</td>\n",
       "      <td>11.804849</td>\n",
       "    </tr>\n",
       "    <tr>\n",
       "      <th>620</th>\n",
       "      <td>621</td>\n",
       "      <td>30</td>\n",
       "      <td>RL</td>\n",
       "      <td>3.828641</td>\n",
       "      <td>9.017847</td>\n",
       "      <td>Pave</td>\n",
       "      <td>Grvl</td>\n",
       "      <td>Reg</td>\n",
       "      <td>Lvl</td>\n",
       "      <td>AllPub</td>\n",
       "      <td>...</td>\n",
       "      <td>0</td>\n",
       "      <td>1</td>\n",
       "      <td>0</td>\n",
       "      <td>0</td>\n",
       "      <td>0</td>\n",
       "      <td>0</td>\n",
       "      <td>58</td>\n",
       "      <td>94</td>\n",
       "      <td>94.0</td>\n",
       "      <td>11.112448</td>\n",
       "    </tr>\n",
       "    <tr>\n",
       "      <th>669</th>\n",
       "      <td>670</td>\n",
       "      <td>30</td>\n",
       "      <td>RL</td>\n",
       "      <td>4.394449</td>\n",
       "      <td>9.358847</td>\n",
       "      <td>Pave</td>\n",
       "      <td>NA</td>\n",
       "      <td>Reg</td>\n",
       "      <td>Lvl</td>\n",
       "      <td>AllPub</td>\n",
       "      <td>...</td>\n",
       "      <td>0</td>\n",
       "      <td>1</td>\n",
       "      <td>0</td>\n",
       "      <td>0</td>\n",
       "      <td>0</td>\n",
       "      <td>0</td>\n",
       "      <td>56</td>\n",
       "      <td>84</td>\n",
       "      <td>84.0</td>\n",
       "      <td>11.831379</td>\n",
       "    </tr>\n",
       "  </tbody>\n",
       "</table>\n",
       "<p>5 rows × 106 columns</p>\n",
       "</div>"
      ],
      "text/plain": [
       "      id mssubclass mszoning  lg_lotfrontage  lg_lotarea street alley  \\\n",
       "907  908         50       RL        4.465908    9.350189   Pave    NA   \n",
       "782  783         20       RL        4.219508    9.698061   Pave    NA   \n",
       "952  953         85       RL        4.110874    8.881975   Pave    NA   \n",
       "620  621         30       RL        3.828641    9.017847   Pave  Grvl   \n",
       "669  670         30       RL        4.394449    9.358847   Pave    NA   \n",
       "\n",
       "    lotshape landcontour utilities  ... openporchsf_exst enclosedporch_exst  \\\n",
       "907      IR1         Lvl    AllPub  ...                0                  0   \n",
       "782      IR2         Lvl    AllPub  ...                1                  0   \n",
       "952      Reg         Lvl    AllPub  ...                0                  0   \n",
       "620      Reg         Lvl    AllPub  ...                0                  1   \n",
       "669      Reg         Lvl    AllPub  ...                0                  1   \n",
       "\n",
       "    three_ssnporch_exst screenporch_exst poolarea_exst miscval_exst modage  \\\n",
       "907                   0                1             0            0     19   \n",
       "782                   0                0             0            0      7   \n",
       "952                   0                0             0            0      6   \n",
       "620                   0                0             0            0     58   \n",
       "669                   0                0             0            0     56   \n",
       "\n",
       "     houseage  garageage      price  \n",
       "907        70       70.0  12.429216  \n",
       "782         8        8.0  12.139399  \n",
       "952        37       35.0  11.804849  \n",
       "620        94       94.0  11.112448  \n",
       "669        84       84.0  11.831379  \n",
       "\n",
       "[5 rows x 106 columns]"
      ]
     },
     "execution_count": 76,
     "metadata": {},
     "output_type": "execute_result"
    }
   ],
   "source": [
    "train_cv.head()"
   ]
  },
  {
   "cell_type": "markdown",
   "id": "f58fc2b8-f1ef-4b09-a1f4-e2a9ecac6c06",
   "metadata": {},
   "source": [
    "### Encoding"
   ]
  },
  {
   "cell_type": "code",
   "execution_count": 77,
   "id": "82a650f2-97b0-4deb-bdad-680f671ab207",
   "metadata": {},
   "outputs": [],
   "source": [
    "encoder = Encoder(features_transform=categorical_transform)"
   ]
  },
  {
   "cell_type": "code",
   "execution_count": 78,
   "id": "1bdc713e-98e0-4efd-a632-95d244407f66",
   "metadata": {},
   "outputs": [],
   "source": [
    "encoder.fit(train, train[target])"
   ]
  },
  {
   "cell_type": "code",
   "execution_count": 79,
   "id": "b8e7292a-8aba-41ee-99ba-8062ab605395",
   "metadata": {},
   "outputs": [],
   "source": [
    "train = encoder.transform(train)"
   ]
  },
  {
   "cell_type": "code",
   "execution_count": 80,
   "id": "4c8fce3a-b747-4bf7-88af-b339420687e9",
   "metadata": {},
   "outputs": [
    {
     "data": {
      "text/html": [
       "<div>\n",
       "<style scoped>\n",
       "    .dataframe tbody tr th:only-of-type {\n",
       "        vertical-align: middle;\n",
       "    }\n",
       "\n",
       "    .dataframe tbody tr th {\n",
       "        vertical-align: top;\n",
       "    }\n",
       "\n",
       "    .dataframe thead th {\n",
       "        text-align: right;\n",
       "    }\n",
       "</style>\n",
       "<table border=\"1\" class=\"dataframe\">\n",
       "  <thead>\n",
       "    <tr style=\"text-align: right;\">\n",
       "      <th></th>\n",
       "      <th>id</th>\n",
       "      <th>mssubclass</th>\n",
       "      <th>mszoning</th>\n",
       "      <th>lg_lotfrontage</th>\n",
       "      <th>lg_lotarea</th>\n",
       "      <th>street</th>\n",
       "      <th>alley</th>\n",
       "      <th>lotshape</th>\n",
       "      <th>landcontour</th>\n",
       "      <th>utilities</th>\n",
       "      <th>...</th>\n",
       "      <th>openporchsf_exst</th>\n",
       "      <th>enclosedporch_exst</th>\n",
       "      <th>three_ssnporch_exst</th>\n",
       "      <th>screenporch_exst</th>\n",
       "      <th>poolarea_exst</th>\n",
       "      <th>miscval_exst</th>\n",
       "      <th>modage</th>\n",
       "      <th>houseage</th>\n",
       "      <th>garageage</th>\n",
       "      <th>price</th>\n",
       "    </tr>\n",
       "  </thead>\n",
       "  <tbody>\n",
       "    <tr>\n",
       "      <th>907</th>\n",
       "      <td>908</td>\n",
       "      <td>5</td>\n",
       "      <td>3</td>\n",
       "      <td>4.465908</td>\n",
       "      <td>9.350189</td>\n",
       "      <td>1</td>\n",
       "      <td>2</td>\n",
       "      <td>1</td>\n",
       "      <td>1</td>\n",
       "      <td>1</td>\n",
       "      <td>...</td>\n",
       "      <td>0</td>\n",
       "      <td>0</td>\n",
       "      <td>0</td>\n",
       "      <td>1</td>\n",
       "      <td>0</td>\n",
       "      <td>0</td>\n",
       "      <td>19</td>\n",
       "      <td>70</td>\n",
       "      <td>70.0</td>\n",
       "      <td>12.429216</td>\n",
       "    </tr>\n",
       "    <tr>\n",
       "      <th>782</th>\n",
       "      <td>783</td>\n",
       "      <td>10</td>\n",
       "      <td>3</td>\n",
       "      <td>4.219508</td>\n",
       "      <td>9.698061</td>\n",
       "      <td>1</td>\n",
       "      <td>2</td>\n",
       "      <td>3</td>\n",
       "      <td>1</td>\n",
       "      <td>1</td>\n",
       "      <td>...</td>\n",
       "      <td>1</td>\n",
       "      <td>0</td>\n",
       "      <td>0</td>\n",
       "      <td>0</td>\n",
       "      <td>0</td>\n",
       "      <td>0</td>\n",
       "      <td>7</td>\n",
       "      <td>8</td>\n",
       "      <td>8.0</td>\n",
       "      <td>12.139399</td>\n",
       "    </tr>\n",
       "    <tr>\n",
       "      <th>952</th>\n",
       "      <td>953</td>\n",
       "      <td>7</td>\n",
       "      <td>3</td>\n",
       "      <td>4.110874</td>\n",
       "      <td>8.881975</td>\n",
       "      <td>1</td>\n",
       "      <td>2</td>\n",
       "      <td>0</td>\n",
       "      <td>1</td>\n",
       "      <td>1</td>\n",
       "      <td>...</td>\n",
       "      <td>0</td>\n",
       "      <td>0</td>\n",
       "      <td>0</td>\n",
       "      <td>0</td>\n",
       "      <td>0</td>\n",
       "      <td>0</td>\n",
       "      <td>6</td>\n",
       "      <td>37</td>\n",
       "      <td>35.0</td>\n",
       "      <td>11.804849</td>\n",
       "    </tr>\n",
       "    <tr>\n",
       "      <th>620</th>\n",
       "      <td>621</td>\n",
       "      <td>0</td>\n",
       "      <td>3</td>\n",
       "      <td>3.828641</td>\n",
       "      <td>9.017847</td>\n",
       "      <td>1</td>\n",
       "      <td>0</td>\n",
       "      <td>0</td>\n",
       "      <td>1</td>\n",
       "      <td>1</td>\n",
       "      <td>...</td>\n",
       "      <td>0</td>\n",
       "      <td>1</td>\n",
       "      <td>0</td>\n",
       "      <td>0</td>\n",
       "      <td>0</td>\n",
       "      <td>0</td>\n",
       "      <td>58</td>\n",
       "      <td>94</td>\n",
       "      <td>94.0</td>\n",
       "      <td>11.112448</td>\n",
       "    </tr>\n",
       "    <tr>\n",
       "      <th>669</th>\n",
       "      <td>670</td>\n",
       "      <td>0</td>\n",
       "      <td>3</td>\n",
       "      <td>4.394449</td>\n",
       "      <td>9.358847</td>\n",
       "      <td>1</td>\n",
       "      <td>2</td>\n",
       "      <td>0</td>\n",
       "      <td>1</td>\n",
       "      <td>1</td>\n",
       "      <td>...</td>\n",
       "      <td>0</td>\n",
       "      <td>1</td>\n",
       "      <td>0</td>\n",
       "      <td>0</td>\n",
       "      <td>0</td>\n",
       "      <td>0</td>\n",
       "      <td>56</td>\n",
       "      <td>84</td>\n",
       "      <td>84.0</td>\n",
       "      <td>11.831379</td>\n",
       "    </tr>\n",
       "  </tbody>\n",
       "</table>\n",
       "<p>5 rows × 106 columns</p>\n",
       "</div>"
      ],
      "text/plain": [
       "      id  mssubclass  mszoning  lg_lotfrontage  lg_lotarea  street  alley  \\\n",
       "907  908           5         3        4.465908    9.350189       1      2   \n",
       "782  783          10         3        4.219508    9.698061       1      2   \n",
       "952  953           7         3        4.110874    8.881975       1      2   \n",
       "620  621           0         3        3.828641    9.017847       1      0   \n",
       "669  670           0         3        4.394449    9.358847       1      2   \n",
       "\n",
       "     lotshape  landcontour  utilities  ...  openporchsf_exst  \\\n",
       "907         1            1          1  ...                 0   \n",
       "782         3            1          1  ...                 1   \n",
       "952         0            1          1  ...                 0   \n",
       "620         0            1          1  ...                 0   \n",
       "669         0            1          1  ...                 0   \n",
       "\n",
       "     enclosedporch_exst  three_ssnporch_exst  screenporch_exst  poolarea_exst  \\\n",
       "907                   0                    0                 1              0   \n",
       "782                   0                    0                 0              0   \n",
       "952                   0                    0                 0              0   \n",
       "620                   1                    0                 0              0   \n",
       "669                   1                    0                 0              0   \n",
       "\n",
       "     miscval_exst  modage  houseage  garageage      price  \n",
       "907             0      19        70       70.0  12.429216  \n",
       "782             0       7         8        8.0  12.139399  \n",
       "952             0       6        37       35.0  11.804849  \n",
       "620             0      58        94       94.0  11.112448  \n",
       "669             0      56        84       84.0  11.831379  \n",
       "\n",
       "[5 rows x 106 columns]"
      ]
     },
     "execution_count": 80,
     "metadata": {},
     "output_type": "execute_result"
    }
   ],
   "source": [
    "train.head()"
   ]
  },
  {
   "cell_type": "markdown",
   "id": "e6031687-464d-459c-9c2c-e19a5ffe2ffc",
   "metadata": {},
   "source": [
    "### Scaling"
   ]
  },
  {
   "cell_type": "code",
   "execution_count": 81,
   "id": "81893a92-73cc-47d5-a7d6-218e3aa531cb",
   "metadata": {},
   "outputs": [],
   "source": [
    "scaler = Scaler(features_transform=features)"
   ]
  },
  {
   "cell_type": "code",
   "execution_count": 82,
   "id": "d072ffd9-cb24-4368-a1dc-84c55f098cfa",
   "metadata": {},
   "outputs": [],
   "source": [
    "scaler.fit(train[features])"
   ]
  },
  {
   "cell_type": "code",
   "execution_count": 83,
   "id": "1a4d3805-f940-4f44-b3dc-ab148237c296",
   "metadata": {},
   "outputs": [],
   "source": [
    "train[features] = scaler.transform(train[features])"
   ]
  },
  {
   "cell_type": "markdown",
   "id": "37e2165c-7ab4-4793-8226-3f8b0bf34466",
   "metadata": {},
   "source": [
    "### Transformation Pipeline Check"
   ]
  },
  {
   "cell_type": "code",
   "execution_count": 84,
   "id": "c6be04c3-6374-433d-a9cf-cf2e3a843b88",
   "metadata": {},
   "outputs": [],
   "source": [
    "pipeline = Pipeline(steps=[\n",
    "    ('encoder', encoder),\n",
    "    ('scaler', scaler)\n",
    "])"
   ]
  },
  {
   "cell_type": "code",
   "execution_count": 85,
   "id": "55deb3cd-4891-4308-81a6-e3aa52a5419d",
   "metadata": {},
   "outputs": [],
   "source": [
    "train_transformed = pipeline.transform(train_raw)"
   ]
  },
  {
   "cell_type": "code",
   "execution_count": 86,
   "id": "4885d727-16cb-443d-a96e-28e6b35d562c",
   "metadata": {},
   "outputs": [],
   "source": [
    "assert train_transformed.equals(train)"
   ]
  },
  {
   "cell_type": "code",
   "execution_count": 87,
   "id": "6ed23c27",
   "metadata": {},
   "outputs": [
    {
     "data": {
      "text/html": [
       "<div>\n",
       "<style scoped>\n",
       "    .dataframe tbody tr th:only-of-type {\n",
       "        vertical-align: middle;\n",
       "    }\n",
       "\n",
       "    .dataframe tbody tr th {\n",
       "        vertical-align: top;\n",
       "    }\n",
       "\n",
       "    .dataframe thead th {\n",
       "        text-align: right;\n",
       "    }\n",
       "</style>\n",
       "<table border=\"1\" class=\"dataframe\">\n",
       "  <thead>\n",
       "    <tr style=\"text-align: right;\">\n",
       "      <th></th>\n",
       "      <th>id</th>\n",
       "      <th>mssubclass</th>\n",
       "      <th>mszoning</th>\n",
       "      <th>lg_lotfrontage</th>\n",
       "      <th>lg_lotarea</th>\n",
       "      <th>street</th>\n",
       "      <th>alley</th>\n",
       "      <th>lotshape</th>\n",
       "      <th>landcontour</th>\n",
       "      <th>utilities</th>\n",
       "      <th>...</th>\n",
       "      <th>openporchsf_exst</th>\n",
       "      <th>enclosedporch_exst</th>\n",
       "      <th>three_ssnporch_exst</th>\n",
       "      <th>screenporch_exst</th>\n",
       "      <th>poolarea_exst</th>\n",
       "      <th>miscval_exst</th>\n",
       "      <th>modage</th>\n",
       "      <th>houseage</th>\n",
       "      <th>garageage</th>\n",
       "      <th>price</th>\n",
       "    </tr>\n",
       "  </thead>\n",
       "  <tbody>\n",
       "  </tbody>\n",
       "</table>\n",
       "<p>0 rows × 106 columns</p>\n",
       "</div>"
      ],
      "text/plain": [
       "Empty DataFrame\n",
       "Columns: [id, mssubclass, mszoning, lg_lotfrontage, lg_lotarea, street, alley, lotshape, landcontour, utilities, lotconfig, landslope, neighborhood, condition_first, condition_second, bldgtype, housestyle, overallqual, overallcond, yearbuilt, lg_yearremodadd, roofstyle, roofmatl, exterior_first, exterior_second, masvnrtype, lg_masvnrarea, exterqual, extercond, foundation, bsmtqual, bsmtcond, bsmtexposure, bsmtfintype_first, lg_bsmtfinsf_first, bsmtfintype_second, lg_bsmtfinsf_second, lg_bsmtunfsf, lg_totalbsmtsf, heating, heatingqc, centralair, electrical, lg_first_flrsf, lg_second_flrsf, lg_lowqualfinsf, lg_grlivarea, lg_bsmtfullbath, lg_bsmthalfbath, fullbath, halfbath, bedroomabvgr, kitchenabvgr, kitchenqual, totrmsabvgrd, functional, fireplaces, fireplacequ, garagetype, lg_garageyrblt, garagefinish, garagecars, lg_garagearea, garagequal, garagecond, paveddrive, lg_wooddecksf, lg_openporchsf, lg_enclosedporch, lg_three_ssnporch, lg_screenporch, lg_poolarea, poolqc, fence, miscfeature, miscval, mosold, yrsold, saletype, salecondition, lg_flrsfmean, bedroomsize, kitchensize, bedroomfracrms, kitchenfracrms, bathsfracbedr, yearremodadd_exst, masvnrarea_exst, bsmtfinsf_first_exst, bsmtfinsf_second_exst, totalbsmtsf_exst, bsmtunfsf_exst, lowqualfinsf_exst, second_flrsf_exst, garagearea_exst, wooddecksf_exst, openporchsf_exst, enclosedporch_exst, three_ssnporch_exst, screenporch_exst, ...]\n",
       "Index: []\n",
       "\n",
       "[0 rows x 106 columns]"
      ]
     },
     "execution_count": 87,
     "metadata": {},
     "output_type": "execute_result"
    }
   ],
   "source": [
    "# display rows with differences\n",
    "train[~train.apply(tuple,1).isin(train_transformed.apply(tuple,1))]"
   ]
  },
  {
   "cell_type": "code",
   "execution_count": 88,
   "id": "7be06870-1d4c-4f30-842f-24a63c458db9",
   "metadata": {},
   "outputs": [
    {
     "data": {
      "text/html": [
       "<div>\n",
       "<style scoped>\n",
       "    .dataframe tbody tr th:only-of-type {\n",
       "        vertical-align: middle;\n",
       "    }\n",
       "\n",
       "    .dataframe tbody tr th {\n",
       "        vertical-align: top;\n",
       "    }\n",
       "\n",
       "    .dataframe thead th {\n",
       "        text-align: right;\n",
       "    }\n",
       "</style>\n",
       "<table border=\"1\" class=\"dataframe\">\n",
       "  <thead>\n",
       "    <tr style=\"text-align: right;\">\n",
       "      <th></th>\n",
       "      <th>id</th>\n",
       "      <th>mssubclass</th>\n",
       "      <th>mszoning</th>\n",
       "      <th>lg_lotfrontage</th>\n",
       "      <th>lg_lotarea</th>\n",
       "      <th>street</th>\n",
       "      <th>alley</th>\n",
       "      <th>lotshape</th>\n",
       "      <th>landcontour</th>\n",
       "      <th>utilities</th>\n",
       "      <th>...</th>\n",
       "      <th>openporchsf_exst</th>\n",
       "      <th>enclosedporch_exst</th>\n",
       "      <th>three_ssnporch_exst</th>\n",
       "      <th>screenporch_exst</th>\n",
       "      <th>poolarea_exst</th>\n",
       "      <th>miscval_exst</th>\n",
       "      <th>modage</th>\n",
       "      <th>houseage</th>\n",
       "      <th>garageage</th>\n",
       "      <th>price</th>\n",
       "    </tr>\n",
       "  </thead>\n",
       "  <tbody>\n",
       "    <tr>\n",
       "      <th>907</th>\n",
       "      <td>908</td>\n",
       "      <td>-1.096283</td>\n",
       "      <td>0.351287</td>\n",
       "      <td>0.834375</td>\n",
       "      <td>0.460637</td>\n",
       "      <td>0.061875</td>\n",
       "      <td>0.251891</td>\n",
       "      <td>0.856818</td>\n",
       "      <td>-0.109613</td>\n",
       "      <td>0.027629</td>\n",
       "      <td>...</td>\n",
       "      <td>-1.117459</td>\n",
       "      <td>-0.406612</td>\n",
       "      <td>-0.133631</td>\n",
       "      <td>3.371635</td>\n",
       "      <td>-0.067806</td>\n",
       "      <td>-0.194948</td>\n",
       "      <td>-0.195938</td>\n",
       "      <td>1.086695</td>\n",
       "      <td>1.457489</td>\n",
       "      <td>12.429216</td>\n",
       "    </tr>\n",
       "    <tr>\n",
       "      <th>782</th>\n",
       "      <td>783</td>\n",
       "      <td>0.207206</td>\n",
       "      <td>0.351287</td>\n",
       "      <td>0.035941</td>\n",
       "      <td>1.132222</td>\n",
       "      <td>0.061875</td>\n",
       "      <td>0.251891</td>\n",
       "      <td>3.884547</td>\n",
       "      <td>-0.109613</td>\n",
       "      <td>0.027629</td>\n",
       "      <td>...</td>\n",
       "      <td>0.894888</td>\n",
       "      <td>-0.406612</td>\n",
       "      <td>-0.133631</td>\n",
       "      <td>-0.296592</td>\n",
       "      <td>-0.067806</td>\n",
       "      <td>-0.194948</td>\n",
       "      <td>-0.776119</td>\n",
       "      <td>-0.946281</td>\n",
       "      <td>-0.882843</td>\n",
       "      <td>12.139399</td>\n",
       "    </tr>\n",
       "    <tr>\n",
       "      <th>952</th>\n",
       "      <td>953</td>\n",
       "      <td>-0.574887</td>\n",
       "      <td>0.351287</td>\n",
       "      <td>-0.316076</td>\n",
       "      <td>-0.443275</td>\n",
       "      <td>0.061875</td>\n",
       "      <td>0.251891</td>\n",
       "      <td>-0.657047</td>\n",
       "      <td>-0.109613</td>\n",
       "      <td>0.027629</td>\n",
       "      <td>...</td>\n",
       "      <td>-1.117459</td>\n",
       "      <td>-0.406612</td>\n",
       "      <td>-0.133631</td>\n",
       "      <td>-0.296592</td>\n",
       "      <td>-0.067806</td>\n",
       "      <td>-0.194948</td>\n",
       "      <td>-0.824467</td>\n",
       "      <td>0.004627</td>\n",
       "      <td>0.136334</td>\n",
       "      <td>11.804849</td>\n",
       "    </tr>\n",
       "    <tr>\n",
       "      <th>620</th>\n",
       "      <td>621</td>\n",
       "      <td>-2.399772</td>\n",
       "      <td>0.351287</td>\n",
       "      <td>-1.230620</td>\n",
       "      <td>-0.180967</td>\n",
       "      <td>0.061875</td>\n",
       "      <td>-4.640394</td>\n",
       "      <td>-0.657047</td>\n",
       "      <td>-0.109613</td>\n",
       "      <td>0.027629</td>\n",
       "      <td>...</td>\n",
       "      <td>-1.117459</td>\n",
       "      <td>2.459347</td>\n",
       "      <td>-0.133631</td>\n",
       "      <td>-0.296592</td>\n",
       "      <td>-0.067806</td>\n",
       "      <td>-0.194948</td>\n",
       "      <td>1.689649</td>\n",
       "      <td>1.873653</td>\n",
       "      <td>2.363424</td>\n",
       "      <td>11.112448</td>\n",
       "    </tr>\n",
       "    <tr>\n",
       "      <th>669</th>\n",
       "      <td>670</td>\n",
       "      <td>-2.399772</td>\n",
       "      <td>0.351287</td>\n",
       "      <td>0.602820</td>\n",
       "      <td>0.477350</td>\n",
       "      <td>0.061875</td>\n",
       "      <td>0.251891</td>\n",
       "      <td>-0.657047</td>\n",
       "      <td>-0.109613</td>\n",
       "      <td>0.027629</td>\n",
       "      <td>...</td>\n",
       "      <td>-1.117459</td>\n",
       "      <td>2.459347</td>\n",
       "      <td>-0.133631</td>\n",
       "      <td>-0.296592</td>\n",
       "      <td>-0.067806</td>\n",
       "      <td>-0.194948</td>\n",
       "      <td>1.592953</td>\n",
       "      <td>1.545754</td>\n",
       "      <td>1.985951</td>\n",
       "      <td>11.831379</td>\n",
       "    </tr>\n",
       "  </tbody>\n",
       "</table>\n",
       "<p>5 rows × 106 columns</p>\n",
       "</div>"
      ],
      "text/plain": [
       "      id  mssubclass  mszoning  lg_lotfrontage  lg_lotarea    street  \\\n",
       "907  908   -1.096283  0.351287        0.834375    0.460637  0.061875   \n",
       "782  783    0.207206  0.351287        0.035941    1.132222  0.061875   \n",
       "952  953   -0.574887  0.351287       -0.316076   -0.443275  0.061875   \n",
       "620  621   -2.399772  0.351287       -1.230620   -0.180967  0.061875   \n",
       "669  670   -2.399772  0.351287        0.602820    0.477350  0.061875   \n",
       "\n",
       "        alley  lotshape  landcontour  utilities  ...  openporchsf_exst  \\\n",
       "907  0.251891  0.856818    -0.109613   0.027629  ...         -1.117459   \n",
       "782  0.251891  3.884547    -0.109613   0.027629  ...          0.894888   \n",
       "952  0.251891 -0.657047    -0.109613   0.027629  ...         -1.117459   \n",
       "620 -4.640394 -0.657047    -0.109613   0.027629  ...         -1.117459   \n",
       "669  0.251891 -0.657047    -0.109613   0.027629  ...         -1.117459   \n",
       "\n",
       "     enclosedporch_exst  three_ssnporch_exst  screenporch_exst  poolarea_exst  \\\n",
       "907           -0.406612            -0.133631          3.371635      -0.067806   \n",
       "782           -0.406612            -0.133631         -0.296592      -0.067806   \n",
       "952           -0.406612            -0.133631         -0.296592      -0.067806   \n",
       "620            2.459347            -0.133631         -0.296592      -0.067806   \n",
       "669            2.459347            -0.133631         -0.296592      -0.067806   \n",
       "\n",
       "     miscval_exst    modage  houseage  garageage      price  \n",
       "907     -0.194948 -0.195938  1.086695   1.457489  12.429216  \n",
       "782     -0.194948 -0.776119 -0.946281  -0.882843  12.139399  \n",
       "952     -0.194948 -0.824467  0.004627   0.136334  11.804849  \n",
       "620     -0.194948  1.689649  1.873653   2.363424  11.112448  \n",
       "669     -0.194948  1.592953  1.545754   1.985951  11.831379  \n",
       "\n",
       "[5 rows x 106 columns]"
      ]
     },
     "execution_count": 88,
     "metadata": {},
     "output_type": "execute_result"
    }
   ],
   "source": [
    "train.head()"
   ]
  },
  {
   "cell_type": "markdown",
   "id": "724c6856-9e34-40c9-84c0-e6f1f21e9ca1",
   "metadata": {},
   "source": [
    "## Intermediate Model #2"
   ]
  },
  {
   "cell_type": "code",
   "execution_count": 89,
   "id": "acba46dd-e563-4f58-ac75-3ba23a3463bc",
   "metadata": {},
   "outputs": [],
   "source": [
    "train_im = train_cv.copy()"
   ]
  },
  {
   "cell_type": "code",
   "execution_count": 90,
   "id": "3bc69e39-39a7-4c4c-8a6d-0808cc8a303e",
   "metadata": {},
   "outputs": [
    {
     "data": {
      "text/html": [
       "<div>\n",
       "<style scoped>\n",
       "    .dataframe tbody tr th:only-of-type {\n",
       "        vertical-align: middle;\n",
       "    }\n",
       "\n",
       "    .dataframe tbody tr th {\n",
       "        vertical-align: top;\n",
       "    }\n",
       "\n",
       "    .dataframe thead th {\n",
       "        text-align: right;\n",
       "    }\n",
       "</style>\n",
       "<table border=\"1\" class=\"dataframe\">\n",
       "  <thead>\n",
       "    <tr style=\"text-align: right;\">\n",
       "      <th></th>\n",
       "      <th>id</th>\n",
       "      <th>mssubclass</th>\n",
       "      <th>mszoning</th>\n",
       "      <th>lg_lotfrontage</th>\n",
       "      <th>lg_lotarea</th>\n",
       "      <th>street</th>\n",
       "      <th>alley</th>\n",
       "      <th>lotshape</th>\n",
       "      <th>landcontour</th>\n",
       "      <th>utilities</th>\n",
       "      <th>...</th>\n",
       "      <th>openporchsf_exst</th>\n",
       "      <th>enclosedporch_exst</th>\n",
       "      <th>three_ssnporch_exst</th>\n",
       "      <th>screenporch_exst</th>\n",
       "      <th>poolarea_exst</th>\n",
       "      <th>miscval_exst</th>\n",
       "      <th>modage</th>\n",
       "      <th>houseage</th>\n",
       "      <th>garageage</th>\n",
       "      <th>price</th>\n",
       "    </tr>\n",
       "  </thead>\n",
       "  <tbody>\n",
       "    <tr>\n",
       "      <th>907</th>\n",
       "      <td>908</td>\n",
       "      <td>50</td>\n",
       "      <td>RL</td>\n",
       "      <td>4.465908</td>\n",
       "      <td>9.350189</td>\n",
       "      <td>Pave</td>\n",
       "      <td>NA</td>\n",
       "      <td>IR1</td>\n",
       "      <td>Lvl</td>\n",
       "      <td>AllPub</td>\n",
       "      <td>...</td>\n",
       "      <td>0</td>\n",
       "      <td>0</td>\n",
       "      <td>0</td>\n",
       "      <td>1</td>\n",
       "      <td>0</td>\n",
       "      <td>0</td>\n",
       "      <td>19</td>\n",
       "      <td>70</td>\n",
       "      <td>70.0</td>\n",
       "      <td>12.429216</td>\n",
       "    </tr>\n",
       "    <tr>\n",
       "      <th>782</th>\n",
       "      <td>783</td>\n",
       "      <td>20</td>\n",
       "      <td>RL</td>\n",
       "      <td>4.219508</td>\n",
       "      <td>9.698061</td>\n",
       "      <td>Pave</td>\n",
       "      <td>NA</td>\n",
       "      <td>IR2</td>\n",
       "      <td>Lvl</td>\n",
       "      <td>AllPub</td>\n",
       "      <td>...</td>\n",
       "      <td>1</td>\n",
       "      <td>0</td>\n",
       "      <td>0</td>\n",
       "      <td>0</td>\n",
       "      <td>0</td>\n",
       "      <td>0</td>\n",
       "      <td>7</td>\n",
       "      <td>8</td>\n",
       "      <td>8.0</td>\n",
       "      <td>12.139399</td>\n",
       "    </tr>\n",
       "    <tr>\n",
       "      <th>952</th>\n",
       "      <td>953</td>\n",
       "      <td>85</td>\n",
       "      <td>RL</td>\n",
       "      <td>4.110874</td>\n",
       "      <td>8.881975</td>\n",
       "      <td>Pave</td>\n",
       "      <td>NA</td>\n",
       "      <td>Reg</td>\n",
       "      <td>Lvl</td>\n",
       "      <td>AllPub</td>\n",
       "      <td>...</td>\n",
       "      <td>0</td>\n",
       "      <td>0</td>\n",
       "      <td>0</td>\n",
       "      <td>0</td>\n",
       "      <td>0</td>\n",
       "      <td>0</td>\n",
       "      <td>6</td>\n",
       "      <td>37</td>\n",
       "      <td>35.0</td>\n",
       "      <td>11.804849</td>\n",
       "    </tr>\n",
       "    <tr>\n",
       "      <th>620</th>\n",
       "      <td>621</td>\n",
       "      <td>30</td>\n",
       "      <td>RL</td>\n",
       "      <td>3.828641</td>\n",
       "      <td>9.017847</td>\n",
       "      <td>Pave</td>\n",
       "      <td>Grvl</td>\n",
       "      <td>Reg</td>\n",
       "      <td>Lvl</td>\n",
       "      <td>AllPub</td>\n",
       "      <td>...</td>\n",
       "      <td>0</td>\n",
       "      <td>1</td>\n",
       "      <td>0</td>\n",
       "      <td>0</td>\n",
       "      <td>0</td>\n",
       "      <td>0</td>\n",
       "      <td>58</td>\n",
       "      <td>94</td>\n",
       "      <td>94.0</td>\n",
       "      <td>11.112448</td>\n",
       "    </tr>\n",
       "    <tr>\n",
       "      <th>669</th>\n",
       "      <td>670</td>\n",
       "      <td>30</td>\n",
       "      <td>RL</td>\n",
       "      <td>4.394449</td>\n",
       "      <td>9.358847</td>\n",
       "      <td>Pave</td>\n",
       "      <td>NA</td>\n",
       "      <td>Reg</td>\n",
       "      <td>Lvl</td>\n",
       "      <td>AllPub</td>\n",
       "      <td>...</td>\n",
       "      <td>0</td>\n",
       "      <td>1</td>\n",
       "      <td>0</td>\n",
       "      <td>0</td>\n",
       "      <td>0</td>\n",
       "      <td>0</td>\n",
       "      <td>56</td>\n",
       "      <td>84</td>\n",
       "      <td>84.0</td>\n",
       "      <td>11.831379</td>\n",
       "    </tr>\n",
       "  </tbody>\n",
       "</table>\n",
       "<p>5 rows × 106 columns</p>\n",
       "</div>"
      ],
      "text/plain": [
       "      id mssubclass mszoning  lg_lotfrontage  lg_lotarea street alley  \\\n",
       "907  908         50       RL        4.465908    9.350189   Pave    NA   \n",
       "782  783         20       RL        4.219508    9.698061   Pave    NA   \n",
       "952  953         85       RL        4.110874    8.881975   Pave    NA   \n",
       "620  621         30       RL        3.828641    9.017847   Pave  Grvl   \n",
       "669  670         30       RL        4.394449    9.358847   Pave    NA   \n",
       "\n",
       "    lotshape landcontour utilities  ... openporchsf_exst enclosedporch_exst  \\\n",
       "907      IR1         Lvl    AllPub  ...                0                  0   \n",
       "782      IR2         Lvl    AllPub  ...                1                  0   \n",
       "952      Reg         Lvl    AllPub  ...                0                  0   \n",
       "620      Reg         Lvl    AllPub  ...                0                  1   \n",
       "669      Reg         Lvl    AllPub  ...                0                  1   \n",
       "\n",
       "    three_ssnporch_exst screenporch_exst poolarea_exst miscval_exst modage  \\\n",
       "907                   0                1             0            0     19   \n",
       "782                   0                0             0            0      7   \n",
       "952                   0                0             0            0      6   \n",
       "620                   0                0             0            0     58   \n",
       "669                   0                0             0            0     56   \n",
       "\n",
       "     houseage  garageage      price  \n",
       "907        70       70.0  12.429216  \n",
       "782         8        8.0  12.139399  \n",
       "952        37       35.0  11.804849  \n",
       "620        94       94.0  11.112448  \n",
       "669        84       84.0  11.831379  \n",
       "\n",
       "[5 rows x 106 columns]"
      ]
     },
     "execution_count": 90,
     "metadata": {},
     "output_type": "execute_result"
    }
   ],
   "source": [
    "train_im.head()"
   ]
  },
  {
   "cell_type": "code",
   "execution_count": 91,
   "id": "a082aaf8-ae9f-4075-bfd3-b7a1396de4d0",
   "metadata": {},
   "outputs": [
    {
     "data": {
      "text/plain": [
       "(1311, 106)"
      ]
     },
     "execution_count": 91,
     "metadata": {},
     "output_type": "execute_result"
    }
   ],
   "source": [
    "train_im.shape"
   ]
  },
  {
   "cell_type": "markdown",
   "id": "02b64b44-fc91-4d41-b4f2-439f4b4e9ad3",
   "metadata": {},
   "source": [
    "### Pipeline For GridSearch"
   ]
  },
  {
   "cell_type": "code",
   "execution_count": 92,
   "id": "ae67a136-c1eb-4640-b5c7-9d2f22dae8bf",
   "metadata": {},
   "outputs": [],
   "source": [
    "encoder_im = OrdinalEncoder(\n",
    "    encoding_method='ordered',\n",
    "    variables=categorical_transform,\n",
    "    missing_values='ignore',\n",
    "    unseen='encode'\n",
    ")"
   ]
  },
  {
   "cell_type": "code",
   "execution_count": 93,
   "id": "c5ddeb94-2396-4fe6-a1f3-91fd72b2f884",
   "metadata": {},
   "outputs": [],
   "source": [
    "lgb1 = LGBMRegressor()"
   ]
  },
  {
   "cell_type": "code",
   "execution_count": 94,
   "id": "26c7e2b5-2928-42d6-b85d-f2a9267702a2",
   "metadata": {},
   "outputs": [],
   "source": [
    "lgb_pipeline1 = Pipeline(steps=[\n",
    "    ('encoder', encoder_im),\n",
    "    ('estimator', lgb1)\n",
    "])"
   ]
  },
  {
   "cell_type": "markdown",
   "id": "f181d9a6-b977-4c1a-82df-54294463e467",
   "metadata": {},
   "source": [
    "### GridSearch Iteration 1"
   ]
  },
  {
   "cell_type": "code",
   "execution_count": 95,
   "id": "dbe13590-f091-45ef-b476-b728c8ea819d",
   "metadata": {},
   "outputs": [],
   "source": [
    "params1 = {\n",
    "    'estimator__n_estimators': [25, 50, 75],\n",
    "    'estimator__max_depth': [3, 6, 9],\n",
    "    'estimator__num_leaves': [5, 38, 300],\n",
    "    'estimator__learning_rate': [0.1, 0.3],\n",
    "    'estimator__random_state': [seed],\n",
    "    'estimator__verbose': [-1]\n",
    "}"
   ]
  },
  {
   "cell_type": "code",
   "execution_count": 96,
   "id": "2dceff47-f598-41cb-957b-edeb200d2189",
   "metadata": {},
   "outputs": [],
   "source": [
    "n_folds1 = 20"
   ]
  },
  {
   "cell_type": "code",
   "execution_count": 97,
   "id": "b8312f7e-ab57-4134-984e-775b97d314f0",
   "metadata": {},
   "outputs": [],
   "source": [
    "cv1 = GridSearchCV(\n",
    "    estimator=lgb_pipeline1, \n",
    "    param_grid=params1,\n",
    "    scoring='neg_root_mean_squared_error',\n",
    "    cv=n_folds1\n",
    ")"
   ]
  },
  {
   "cell_type": "code",
   "execution_count": 98,
   "id": "90158028-87c3-44a5-b78c-d112ca3dc6d3",
   "metadata": {},
   "outputs": [
    {
     "name": "stdout",
     "output_type": "stream",
     "text": [
      "Execution time: 0:06:22\n"
     ]
    }
   ],
   "source": [
    "st = stopwatch.start()\n",
    "cv1.fit(train_im[features], train_im[target])\n",
    "print(f'Execution time: {stopwatch.stop(st)}')"
   ]
  },
  {
   "cell_type": "code",
   "execution_count": 99,
   "id": "318b6da3-606c-47e9-96f8-f6dfa3d6e25b",
   "metadata": {},
   "outputs": [],
   "source": [
    "models1 = []\n",
    "\n",
    "range1 = range(len(cv1.cv_results_['params']))\n",
    "for i in range1:\n",
    "    models1.append(list(cv1.cv_results_['params'][i].values()))\n",
    "\n",
    "range2 = range(len(models1))\n",
    "for j in range2:\n",
    "    models1[j] = ' / '.join(str(i) for i in models1[j])"
   ]
  },
  {
   "cell_type": "code",
   "execution_count": 100,
   "id": "4e13f5bf-9dfe-4e36-ad2b-e73f082f2eee",
   "metadata": {},
   "outputs": [],
   "source": [
    "keys1 = []\n",
    "for i in range(0, n_folds1):\n",
    "    keys1.append(\n",
    "        'split' + str(i) + '_test_score'\n",
    "    )"
   ]
  },
  {
   "cell_type": "code",
   "execution_count": 101,
   "id": "013a8aab-09eb-4337-a05e-43d26fdb0515",
   "metadata": {},
   "outputs": [],
   "source": [
    "results1 = {key: cv1.cv_results_[key] for key in keys1}"
   ]
  },
  {
   "cell_type": "code",
   "execution_count": 102,
   "id": "a8abc96a-0647-440f-beaf-80a913c2c98c",
   "metadata": {},
   "outputs": [],
   "source": [
    "results_df1 = pd.DataFrame(results1)"
   ]
  },
  {
   "cell_type": "code",
   "execution_count": 103,
   "id": "7a51ba2f-6a56-497e-9ac8-0d331c3f74b4",
   "metadata": {},
   "outputs": [],
   "source": [
    "results_df1 = results_df1.T"
   ]
  },
  {
   "cell_type": "code",
   "execution_count": 104,
   "id": "1a778f74-90f2-4a81-bdfc-3a23b0b7c441",
   "metadata": {},
   "outputs": [],
   "source": [
    "idx_opt1 = np.argmax(cv1.cv_results_['mean_test_score'])"
   ]
  },
  {
   "cell_type": "code",
   "execution_count": 105,
   "id": "5bee2d4e-213c-4eff-93d5-293ac04c557b",
   "metadata": {},
   "outputs": [],
   "source": [
    "results_df1 = pd.melt(results_df1)"
   ]
  },
  {
   "cell_type": "code",
   "execution_count": 106,
   "id": "b4aceb52-5953-4e84-8ef9-3a5ea508f521",
   "metadata": {},
   "outputs": [],
   "source": [
    "results_df1['opt'] = results_df1['variable']==idx_opt1\n",
    "results_df1['opt'] = results_df1['opt'].astype(int)"
   ]
  },
  {
   "cell_type": "code",
   "execution_count": 107,
   "id": "e10be999-4243-4a02-81c2-769d937918ec",
   "metadata": {},
   "outputs": [
    {
     "data": {
      "image/png": "[encoded data removed]",
      "text/plain": [
       "<Figure size 2000x400 with 1 Axes>"
      ]
     },
     "metadata": {},
     "output_type": "display_data"
    }
   ],
   "source": [
    "plt.figure(figsize=(20,4))\n",
    "\n",
    "ax = sns.pointplot(\n",
    "    results_df1,\n",
    "    x='variable',\n",
    "    y='value',\n",
    "    hue='opt',\n",
    "    markersize=3,\n",
    "    linestyle='none',\n",
    "    capsize=0.2,\n",
    "    err_kws={'lw': 1},\n",
    "    palette=[palette[0], palette[1]]\n",
    ")\n",
    "    \n",
    "ax.set_xticks(ticks=list(set(results_df1['variable'])), labels=models1)\n",
    "plt.xticks(rotation=90)\n",
    "plt.xlabel(None)\n",
    "plt.ylabel(None)\n",
    "ax.get_legend().remove()\n",
    "\n",
    "plt.show()"
   ]
  },
  {
   "cell_type": "code",
   "execution_count": 108,
   "id": "37e927d3-f88f-437d-beae-592ce7bab319",
   "metadata": {},
   "outputs": [
    {
     "data": {
      "text/plain": [
       "-0.1240368"
      ]
     },
     "execution_count": 108,
     "metadata": {},
     "output_type": "execute_result"
    }
   ],
   "source": [
    "round(cv1.cv_results_['mean_test_score'][idx_opt1], 7)"
   ]
  },
  {
   "cell_type": "code",
   "execution_count": 109,
   "id": "76987d74-25b8-4432-a7a2-c48e3407baf3",
   "metadata": {},
   "outputs": [],
   "source": [
    "best_params1 = cv1.cv_results_['params'][idx_opt1]"
   ]
  },
  {
   "cell_type": "code",
   "execution_count": 110,
   "id": "b8d3eaa9-8c49-4a5b-adce-4b11c35c7487",
   "metadata": {},
   "outputs": [
    {
     "data": {
      "text/plain": [
       "{'estimator__learning_rate': 0.1,\n",
       " 'estimator__max_depth': 6,\n",
       " 'estimator__n_estimators': 75,\n",
       " 'estimator__num_leaves': 38,\n",
       " 'estimator__random_state': 42,\n",
       " 'estimator__verbose': -1}"
      ]
     },
     "execution_count": 110,
     "metadata": {},
     "output_type": "execute_result"
    }
   ],
   "source": [
    "best_params1"
   ]
  },
  {
   "cell_type": "markdown",
   "id": "d6e7cf28-a120-4837-8b3b-6eb3382d637f",
   "metadata": {},
   "source": [
    "### GridSearch Iteration 2"
   ]
  },
  {
   "cell_type": "code",
   "execution_count": 111,
   "id": "dbf12edd-bfe9-4a00-b614-9925ea2d8be2",
   "metadata": {},
   "outputs": [],
   "source": [
    "lgb2 = LGBMRegressor()"
   ]
  },
  {
   "cell_type": "code",
   "execution_count": 112,
   "id": "e0b2ad83-c3ec-41c3-9966-e90eabbaa329",
   "metadata": {},
   "outputs": [],
   "source": [
    "lgb_pipeline2 = Pipeline(steps=[\n",
    "    ('encoder', encoder_im),\n",
    "    ('estimator', lgb2)\n",
    "])"
   ]
  },
  {
   "cell_type": "code",
   "execution_count": 113,
   "id": "5478379f-954d-4be4-9c5b-3ffccd76a85c",
   "metadata": {},
   "outputs": [],
   "source": [
    "learning_rate = [best_params1['estimator__learning_rate']]\n",
    "\n",
    "max_depth_val = best_params1['estimator__max_depth']\n",
    "max_depth = list(np.arange(max_depth_val-2, max_depth_val+3))\n",
    "\n",
    "n_estimators_val = best_params1['estimator__n_estimators']\n",
    "n_estimators = [n_estimators_val-5, n_estimators_val, n_estimators_val+5]\n",
    "\n",
    "num_leaves_val = best_params1['estimator__num_leaves']\n",
    "num_leaves = [num_leaves_val-15, num_leaves_val, num_leaves_val+15]"
   ]
  },
  {
   "cell_type": "code",
   "execution_count": 114,
   "id": "ba9dd4ae-a581-41cb-bcc5-394d493e7b04",
   "metadata": {},
   "outputs": [],
   "source": [
    "params2 = {\n",
    "    'estimator__learning_rate': learning_rate,\n",
    "    'estimator__max_depth': max_depth,\n",
    "    'estimator__n_estimators': n_estimators,\n",
    "    'estimator__num_leaves': num_leaves,\n",
    "    'estimator__random_state': [seed],\n",
    "    'estimator__verbose': [-1]\n",
    "}"
   ]
  },
  {
   "cell_type": "code",
   "execution_count": 115,
   "id": "cb02cc60-c4fe-42dc-bb95-9e571ae4ef60",
   "metadata": {},
   "outputs": [
    {
     "data": {
      "text/plain": [
       "{'estimator__learning_rate': [0.1],\n",
       " 'estimator__max_depth': [4, 5, 6, 7, 8],\n",
       " 'estimator__n_estimators': [70, 75, 80],\n",
       " 'estimator__num_leaves': [23, 38, 53],\n",
       " 'estimator__random_state': [42],\n",
       " 'estimator__verbose': [-1]}"
      ]
     },
     "execution_count": 115,
     "metadata": {},
     "output_type": "execute_result"
    }
   ],
   "source": [
    "params2"
   ]
  },
  {
   "cell_type": "code",
   "execution_count": 116,
   "id": "f086e08d-6b83-4e58-aa29-11cb80f25090",
   "metadata": {},
   "outputs": [],
   "source": [
    "n_folds2 = 20"
   ]
  },
  {
   "cell_type": "code",
   "execution_count": 117,
   "id": "945e55c2-6422-4c4e-adcb-fbf22088564e",
   "metadata": {},
   "outputs": [],
   "source": [
    "cv2 = GridSearchCV(\n",
    "    estimator=lgb_pipeline2, \n",
    "    param_grid=params2,\n",
    "    scoring='neg_root_mean_squared_error',\n",
    "    cv=n_folds2\n",
    ")"
   ]
  },
  {
   "cell_type": "code",
   "execution_count": 118,
   "id": "1db5c824-b5be-4484-badb-664fc92c8476",
   "metadata": {},
   "outputs": [
    {
     "name": "stdout",
     "output_type": "stream",
     "text": [
      "Execution time: 0:05:45\n"
     ]
    }
   ],
   "source": [
    "st = stopwatch.start()\n",
    "cv2.fit(train_im[features], train_im[target])\n",
    "print(f'Execution time: {stopwatch.stop(st)}')"
   ]
  },
  {
   "cell_type": "code",
   "execution_count": 119,
   "id": "e42270e3-d68e-40d1-b408-043d0a140b88",
   "metadata": {},
   "outputs": [],
   "source": [
    "models2 = []\n",
    "\n",
    "range1 = range(len(cv2.cv_results_['params']))\n",
    "for i in range1:\n",
    "    models2.append(list(cv2.cv_results_['params'][i].values()))\n",
    "\n",
    "range2 = range(len(models2))\n",
    "for j in range2:\n",
    "    models2[j] = ' / '.join(str(i) for i in models2[j])"
   ]
  },
  {
   "cell_type": "code",
   "execution_count": 120,
   "id": "dcd25256-05a5-4901-be3b-1c47c41e42d8",
   "metadata": {},
   "outputs": [],
   "source": [
    "keys2 = []\n",
    "for i in range(0, n_folds2):\n",
    "    keys2.append(\n",
    "        'split' + str(i) + '_test_score'\n",
    "    )"
   ]
  },
  {
   "cell_type": "code",
   "execution_count": 121,
   "id": "c3fd0f92-5ffd-4b38-9ed3-4be85bb8bd7e",
   "metadata": {},
   "outputs": [],
   "source": [
    "results2 = {key: cv2.cv_results_[key] for key in keys2}"
   ]
  },
  {
   "cell_type": "code",
   "execution_count": 122,
   "id": "d1eb2c75-f7e7-4ff5-b57f-14faf0454129",
   "metadata": {},
   "outputs": [],
   "source": [
    "results_df2 = pd.DataFrame(results2)"
   ]
  },
  {
   "cell_type": "code",
   "execution_count": 123,
   "id": "e2ebc1ad-df00-4081-9f46-bfda599efbdf",
   "metadata": {},
   "outputs": [],
   "source": [
    "results_df2 = results_df2.T"
   ]
  },
  {
   "cell_type": "code",
   "execution_count": 124,
   "id": "6fbd92f5-1d4b-418f-a9c5-6a0f5cc35651",
   "metadata": {},
   "outputs": [],
   "source": [
    "idx_opt2 = np.argmax(cv2.cv_results_['mean_test_score'])"
   ]
  },
  {
   "cell_type": "code",
   "execution_count": 125,
   "id": "ac1a293f-5ded-4407-920e-014277985406",
   "metadata": {},
   "outputs": [],
   "source": [
    "results_df2 = pd.melt(results_df2)"
   ]
  },
  {
   "cell_type": "code",
   "execution_count": 126,
   "id": "332cf8a7-b25f-4a0a-b21d-c90492d3caa6",
   "metadata": {},
   "outputs": [],
   "source": [
    "results_df2['opt'] = results_df2['variable']==idx_opt2\n",
    "results_df2['opt'] = results_df2['opt'].astype(int)"
   ]
  },
  {
   "cell_type": "code",
   "execution_count": 127,
   "id": "3aa96d68-f990-4601-96e5-d5cba45ac68c",
   "metadata": {},
   "outputs": [
    {
     "data": {
      "image/png": "[encoded data removed]",
      "text/plain": [
       "<Figure size 2000x400 with 1 Axes>"
      ]
     },
     "metadata": {},
     "output_type": "display_data"
    }
   ],
   "source": [
    "plt.figure(figsize=(20,4))\n",
    "\n",
    "ax = sns.pointplot(\n",
    "    results_df2,\n",
    "    x='variable',\n",
    "    y='value',\n",
    "    hue='opt',\n",
    "    markersize=3,\n",
    "    linestyle='none',\n",
    "    capsize=0.2,\n",
    "    err_kws={'lw': 1},\n",
    "    palette=[palette[0], palette[1]]\n",
    ")\n",
    "    \n",
    "ax.set_xticks(ticks=list(set(results_df2['variable'])), labels=models2)\n",
    "plt.xticks(rotation=90)\n",
    "plt.xlabel(None)\n",
    "plt.ylabel(None)\n",
    "ax.get_legend().remove()\n",
    "\n",
    "plt.show()"
   ]
  },
  {
   "cell_type": "code",
   "execution_count": 128,
   "id": "2af83767-32a0-417e-8e12-5e5dfef77f32",
   "metadata": {},
   "outputs": [],
   "source": [
    "rmse_train_opt = cv2.cv_results_['mean_test_score'][idx_opt2]"
   ]
  },
  {
   "cell_type": "code",
   "execution_count": 129,
   "id": "15e55bac-9d5c-4b72-bd37-d55834a4bae2",
   "metadata": {},
   "outputs": [
    {
     "data": {
      "text/plain": [
       "-0.12298964051879369"
      ]
     },
     "execution_count": 129,
     "metadata": {},
     "output_type": "execute_result"
    }
   ],
   "source": [
    "rmse_train_opt"
   ]
  },
  {
   "cell_type": "code",
   "execution_count": 130,
   "id": "e8eea597-dfdf-4e6a-9ed7-3664c7f28176",
   "metadata": {},
   "outputs": [
    {
     "data": {
      "text/plain": [
       "-0.123"
      ]
     },
     "execution_count": 130,
     "metadata": {},
     "output_type": "execute_result"
    }
   ],
   "source": [
    "rmse_train_opt.round(4)"
   ]
  },
  {
   "cell_type": "code",
   "execution_count": 131,
   "id": "1db5c807-d766-4355-b413-2be6e82412e4",
   "metadata": {},
   "outputs": [],
   "source": [
    "params_opt = cv2.cv_results_['params'][idx_opt2]"
   ]
  },
  {
   "cell_type": "code",
   "execution_count": 132,
   "id": "a29f6b5d-b9c4-4839-8d94-3610bd519ffc",
   "metadata": {},
   "outputs": [
    {
     "data": {
      "text/plain": [
       "{'estimator__learning_rate': 0.1,\n",
       " 'estimator__max_depth': 7,\n",
       " 'estimator__n_estimators': 80,\n",
       " 'estimator__num_leaves': 23,\n",
       " 'estimator__random_state': 42,\n",
       " 'estimator__verbose': -1}"
      ]
     },
     "execution_count": 132,
     "metadata": {},
     "output_type": "execute_result"
    }
   ],
   "source": [
    "params_opt"
   ]
  },
  {
   "cell_type": "code",
   "execution_count": 133,
   "id": "4575b483-4cd8-4322-955b-e5aff0a80f9e",
   "metadata": {},
   "outputs": [],
   "source": [
    "params = {}\n",
    "for key in params_opt.keys():\n",
    "    new_key = key.lstrip('estimator')\n",
    "    new_key = new_key.lstrip('__')\n",
    "    params[new_key] = params_opt[key]"
   ]
  },
  {
   "cell_type": "code",
   "execution_count": 134,
   "id": "46ea2a81-97e1-4283-a5ce-1560f5227b09",
   "metadata": {},
   "outputs": [
    {
     "data": {
      "text/plain": [
       "{'learning_rate': 0.1,\n",
       " 'max_depth': 7,\n",
       " 'n_estimators': 80,\n",
       " 'num_leaves': 23,\n",
       " 'random_state': 42,\n",
       " 'verbose': -1}"
      ]
     },
     "execution_count": 134,
     "metadata": {},
     "output_type": "execute_result"
    }
   ],
   "source": [
    "params"
   ]
  },
  {
   "cell_type": "code",
   "execution_count": 135,
   "id": "d1068312-192a-42cb-87d4-1ea6deae8ac0",
   "metadata": {},
   "outputs": [],
   "source": [
    "lgb_opt = LGBMRegressor(**params)"
   ]
  },
  {
   "cell_type": "code",
   "execution_count": 136,
   "id": "0ccb1715-132e-45de-8a8a-9476998e46c3",
   "metadata": {},
   "outputs": [],
   "source": [
    "train_im[features] = encoder_im.fit_transform(\n",
    "    train_im[features], train_im[target])"
   ]
  },
  {
   "cell_type": "code",
   "execution_count": 137,
   "id": "20bb894d-fc05-4e71-9069-f5920f91058b",
   "metadata": {},
   "outputs": [
    {
     "data": {
      "text/html": [
       "<div>\n",
       "<style scoped>\n",
       "    .dataframe tbody tr th:only-of-type {\n",
       "        vertical-align: middle;\n",
       "    }\n",
       "\n",
       "    .dataframe tbody tr th {\n",
       "        vertical-align: top;\n",
       "    }\n",
       "\n",
       "    .dataframe thead th {\n",
       "        text-align: right;\n",
       "    }\n",
       "</style>\n",
       "<table border=\"1\" class=\"dataframe\">\n",
       "  <thead>\n",
       "    <tr style=\"text-align: right;\">\n",
       "      <th></th>\n",
       "      <th>id</th>\n",
       "      <th>mssubclass</th>\n",
       "      <th>mszoning</th>\n",
       "      <th>lg_lotfrontage</th>\n",
       "      <th>lg_lotarea</th>\n",
       "      <th>street</th>\n",
       "      <th>alley</th>\n",
       "      <th>lotshape</th>\n",
       "      <th>landcontour</th>\n",
       "      <th>utilities</th>\n",
       "      <th>...</th>\n",
       "      <th>openporchsf_exst</th>\n",
       "      <th>enclosedporch_exst</th>\n",
       "      <th>three_ssnporch_exst</th>\n",
       "      <th>screenporch_exst</th>\n",
       "      <th>poolarea_exst</th>\n",
       "      <th>miscval_exst</th>\n",
       "      <th>modage</th>\n",
       "      <th>houseage</th>\n",
       "      <th>garageage</th>\n",
       "      <th>price</th>\n",
       "    </tr>\n",
       "  </thead>\n",
       "  <tbody>\n",
       "    <tr>\n",
       "      <th>907</th>\n",
       "      <td>908</td>\n",
       "      <td>5</td>\n",
       "      <td>3</td>\n",
       "      <td>4.465908</td>\n",
       "      <td>9.350189</td>\n",
       "      <td>1</td>\n",
       "      <td>2</td>\n",
       "      <td>1</td>\n",
       "      <td>1</td>\n",
       "      <td>1</td>\n",
       "      <td>...</td>\n",
       "      <td>0</td>\n",
       "      <td>0</td>\n",
       "      <td>0</td>\n",
       "      <td>1</td>\n",
       "      <td>0</td>\n",
       "      <td>0</td>\n",
       "      <td>19</td>\n",
       "      <td>70</td>\n",
       "      <td>70.0</td>\n",
       "      <td>12.429216</td>\n",
       "    </tr>\n",
       "    <tr>\n",
       "      <th>782</th>\n",
       "      <td>783</td>\n",
       "      <td>10</td>\n",
       "      <td>3</td>\n",
       "      <td>4.219508</td>\n",
       "      <td>9.698061</td>\n",
       "      <td>1</td>\n",
       "      <td>2</td>\n",
       "      <td>3</td>\n",
       "      <td>1</td>\n",
       "      <td>1</td>\n",
       "      <td>...</td>\n",
       "      <td>1</td>\n",
       "      <td>0</td>\n",
       "      <td>0</td>\n",
       "      <td>0</td>\n",
       "      <td>0</td>\n",
       "      <td>0</td>\n",
       "      <td>7</td>\n",
       "      <td>8</td>\n",
       "      <td>8.0</td>\n",
       "      <td>12.139399</td>\n",
       "    </tr>\n",
       "    <tr>\n",
       "      <th>952</th>\n",
       "      <td>953</td>\n",
       "      <td>7</td>\n",
       "      <td>3</td>\n",
       "      <td>4.110874</td>\n",
       "      <td>8.881975</td>\n",
       "      <td>1</td>\n",
       "      <td>2</td>\n",
       "      <td>0</td>\n",
       "      <td>1</td>\n",
       "      <td>1</td>\n",
       "      <td>...</td>\n",
       "      <td>0</td>\n",
       "      <td>0</td>\n",
       "      <td>0</td>\n",
       "      <td>0</td>\n",
       "      <td>0</td>\n",
       "      <td>0</td>\n",
       "      <td>6</td>\n",
       "      <td>37</td>\n",
       "      <td>35.0</td>\n",
       "      <td>11.804849</td>\n",
       "    </tr>\n",
       "    <tr>\n",
       "      <th>620</th>\n",
       "      <td>621</td>\n",
       "      <td>0</td>\n",
       "      <td>3</td>\n",
       "      <td>3.828641</td>\n",
       "      <td>9.017847</td>\n",
       "      <td>1</td>\n",
       "      <td>0</td>\n",
       "      <td>0</td>\n",
       "      <td>1</td>\n",
       "      <td>1</td>\n",
       "      <td>...</td>\n",
       "      <td>0</td>\n",
       "      <td>1</td>\n",
       "      <td>0</td>\n",
       "      <td>0</td>\n",
       "      <td>0</td>\n",
       "      <td>0</td>\n",
       "      <td>58</td>\n",
       "      <td>94</td>\n",
       "      <td>94.0</td>\n",
       "      <td>11.112448</td>\n",
       "    </tr>\n",
       "    <tr>\n",
       "      <th>669</th>\n",
       "      <td>670</td>\n",
       "      <td>0</td>\n",
       "      <td>3</td>\n",
       "      <td>4.394449</td>\n",
       "      <td>9.358847</td>\n",
       "      <td>1</td>\n",
       "      <td>2</td>\n",
       "      <td>0</td>\n",
       "      <td>1</td>\n",
       "      <td>1</td>\n",
       "      <td>...</td>\n",
       "      <td>0</td>\n",
       "      <td>1</td>\n",
       "      <td>0</td>\n",
       "      <td>0</td>\n",
       "      <td>0</td>\n",
       "      <td>0</td>\n",
       "      <td>56</td>\n",
       "      <td>84</td>\n",
       "      <td>84.0</td>\n",
       "      <td>11.831379</td>\n",
       "    </tr>\n",
       "  </tbody>\n",
       "</table>\n",
       "<p>5 rows × 106 columns</p>\n",
       "</div>"
      ],
      "text/plain": [
       "      id  mssubclass  mszoning  lg_lotfrontage  lg_lotarea  street  alley  \\\n",
       "907  908           5         3        4.465908    9.350189       1      2   \n",
       "782  783          10         3        4.219508    9.698061       1      2   \n",
       "952  953           7         3        4.110874    8.881975       1      2   \n",
       "620  621           0         3        3.828641    9.017847       1      0   \n",
       "669  670           0         3        4.394449    9.358847       1      2   \n",
       "\n",
       "     lotshape  landcontour  utilities  ...  openporchsf_exst  \\\n",
       "907         1            1          1  ...                 0   \n",
       "782         3            1          1  ...                 1   \n",
       "952         0            1          1  ...                 0   \n",
       "620         0            1          1  ...                 0   \n",
       "669         0            1          1  ...                 0   \n",
       "\n",
       "     enclosedporch_exst  three_ssnporch_exst  screenporch_exst  poolarea_exst  \\\n",
       "907                   0                    0                 1              0   \n",
       "782                   0                    0                 0              0   \n",
       "952                   0                    0                 0              0   \n",
       "620                   1                    0                 0              0   \n",
       "669                   1                    0                 0              0   \n",
       "\n",
       "     miscval_exst  modage  houseage  garageage      price  \n",
       "907             0      19        70       70.0  12.429216  \n",
       "782             0       7         8        8.0  12.139399  \n",
       "952             0       6        37       35.0  11.804849  \n",
       "620             0      58        94       94.0  11.112448  \n",
       "669             0      56        84       84.0  11.831379  \n",
       "\n",
       "[5 rows x 106 columns]"
      ]
     },
     "execution_count": 137,
     "metadata": {},
     "output_type": "execute_result"
    }
   ],
   "source": [
    "train_im.head()"
   ]
  },
  {
   "cell_type": "code",
   "execution_count": 138,
   "id": "a5225e03-d2df-44ff-88a4-70c3e2908229",
   "metadata": {},
   "outputs": [
    {
     "data": {
      "text/html": [
       "<style>#sk-container-id-2 {color: black;}#sk-container-id-2 pre{padding: 0;}#sk-container-id-2 div.sk-toggleable {background-color: white;}#sk-container-id-2 label.sk-toggleable__label {cursor: pointer;display: block;width: 100%;margin-bottom: 0;padding: 0.3em;box-sizing: border-box;text-align: center;}#sk-container-id-2 label.sk-toggleable__label-arrow:before {content: \"▸\";float: left;margin-right: 0.25em;color: #696969;}#sk-container-id-2 label.sk-toggleable__label-arrow:hover:before {color: black;}#sk-container-id-2 div.sk-estimator:hover label.sk-toggleable__label-arrow:before {color: black;}#sk-container-id-2 div.sk-toggleable__content {max-height: 0;max-width: 0;overflow: hidden;text-align: left;background-color: #f0f8ff;}#sk-container-id-2 div.sk-toggleable__content pre {margin: 0.2em;color: black;border-radius: 0.25em;background-color: #f0f8ff;}#sk-container-id-2 input.sk-toggleable__control:checked~div.sk-toggleable__content {max-height: 200px;max-width: 100%;overflow: auto;}#sk-container-id-2 input.sk-toggleable__control:checked~label.sk-toggleable__label-arrow:before {content: \"▾\";}#sk-container-id-2 div.sk-estimator input.sk-toggleable__control:checked~label.sk-toggleable__label {background-color: #d4ebff;}#sk-container-id-2 div.sk-label input.sk-toggleable__control:checked~label.sk-toggleable__label {background-color: #d4ebff;}#sk-container-id-2 input.sk-hidden--visually {border: 0;clip: rect(1px 1px 1px 1px);clip: rect(1px, 1px, 1px, 1px);height: 1px;margin: -1px;overflow: hidden;padding: 0;position: absolute;width: 1px;}#sk-container-id-2 div.sk-estimator {font-family: monospace;background-color: #f0f8ff;border: 1px dotted black;border-radius: 0.25em;box-sizing: border-box;margin-bottom: 0.5em;}#sk-container-id-2 div.sk-estimator:hover {background-color: #d4ebff;}#sk-container-id-2 div.sk-parallel-item::after {content: \"\";width: 100%;border-bottom: 1px solid gray;flex-grow: 1;}#sk-container-id-2 div.sk-label:hover label.sk-toggleable__label {background-color: #d4ebff;}#sk-container-id-2 div.sk-serial::before {content: \"\";position: absolute;border-left: 1px solid gray;box-sizing: border-box;top: 0;bottom: 0;left: 50%;z-index: 0;}#sk-container-id-2 div.sk-serial {display: flex;flex-direction: column;align-items: center;background-color: white;padding-right: 0.2em;padding-left: 0.2em;position: relative;}#sk-container-id-2 div.sk-item {position: relative;z-index: 1;}#sk-container-id-2 div.sk-parallel {display: flex;align-items: stretch;justify-content: center;background-color: white;position: relative;}#sk-container-id-2 div.sk-item::before, #sk-container-id-2 div.sk-parallel-item::before {content: \"\";position: absolute;border-left: 1px solid gray;box-sizing: border-box;top: 0;bottom: 0;left: 50%;z-index: -1;}#sk-container-id-2 div.sk-parallel-item {display: flex;flex-direction: column;z-index: 1;position: relative;background-color: white;}#sk-container-id-2 div.sk-parallel-item:first-child::after {align-self: flex-end;width: 50%;}#sk-container-id-2 div.sk-parallel-item:last-child::after {align-self: flex-start;width: 50%;}#sk-container-id-2 div.sk-parallel-item:only-child::after {width: 0;}#sk-container-id-2 div.sk-dashed-wrapped {border: 1px dashed gray;margin: 0 0.4em 0.5em 0.4em;box-sizing: border-box;padding-bottom: 0.4em;background-color: white;}#sk-container-id-2 div.sk-label label {font-family: monospace;font-weight: bold;display: inline-block;line-height: 1.2em;}#sk-container-id-2 div.sk-label-container {text-align: center;}#sk-container-id-2 div.sk-container {/* jupyter's `normalize.less` sets `[hidden] { display: none; }` but bootstrap.min.css set `[hidden] { display: none !important; }` so we also need the `!important` here to be able to override the default hidden behavior on the sphinx rendered scikit-learn.org. See: https://github.com/scikit-learn/scikit-learn/issues/21755 */display: inline-block !important;position: relative;}#sk-container-id-2 div.sk-text-repr-fallback {display: none;}</style><div id=\"sk-container-id-2\" class=\"sk-top-container\"><div class=\"sk-text-repr-fallback\"><pre>LGBMRegressor(max_depth=7, n_estimators=80, num_leaves=23, random_state=42,\n",
       "              verbose=-1)</pre><b>In a Jupyter environment, please rerun this cell to show the HTML representation or trust the notebook. <br />On GitHub, the HTML representation is unable to render, please try loading this page with nbviewer.org.</b></div><div class=\"sk-container\" hidden><div class=\"sk-item\"><div class=\"sk-estimator sk-toggleable\"><input class=\"sk-toggleable__control sk-hidden--visually\" id=\"sk-estimator-id-2\" type=\"checkbox\" checked><label for=\"sk-estimator-id-2\" class=\"sk-toggleable__label sk-toggleable__label-arrow\">LGBMRegressor</label><div class=\"sk-toggleable__content\"><pre>LGBMRegressor(max_depth=7, n_estimators=80, num_leaves=23, random_state=42,\n",
       "              verbose=-1)</pre></div></div></div></div></div>"
      ],
      "text/plain": [
       "LGBMRegressor(max_depth=7, n_estimators=80, num_leaves=23, random_state=42,\n",
       "              verbose=-1)"
      ]
     },
     "execution_count": 138,
     "metadata": {},
     "output_type": "execute_result"
    }
   ],
   "source": [
    "lgb_opt.fit(train_im[features], train_im[target])"
   ]
  },
  {
   "cell_type": "code",
   "execution_count": 139,
   "id": "6783c56f-e149-4a57-885e-60b519e9d347",
   "metadata": {},
   "outputs": [],
   "source": [
    "feature_importance = pd.DataFrame({\n",
    "    'Feature': lgb_opt.feature_name_,\n",
    "    'Importance': lgb_opt.feature_importances_\n",
    "})\n",
    "feature_importance.sort_values('Importance', ascending=False, inplace=True)"
   ]
  },
  {
   "cell_type": "code",
   "execution_count": 140,
   "id": "5e9c0323-1610-43da-8a7b-d0b94658dfcf",
   "metadata": {},
   "outputs": [],
   "source": [
    "data_plot = feature_importance.loc[feature_importance['Importance'] > 0, :]\n",
    "data_plot = data_plot.sort_values('Importance', ascending=False)"
   ]
  },
  {
   "cell_type": "code",
   "execution_count": 141,
   "id": "2ccc6bef-3180-4346-abb7-13de8eb3fec6",
   "metadata": {},
   "outputs": [
    {
     "data": {
      "text/html": [
       "<div>\n",
       "<style scoped>\n",
       "    .dataframe tbody tr th:only-of-type {\n",
       "        vertical-align: middle;\n",
       "    }\n",
       "\n",
       "    .dataframe tbody tr th {\n",
       "        vertical-align: top;\n",
       "    }\n",
       "\n",
       "    .dataframe thead th {\n",
       "        text-align: right;\n",
       "    }\n",
       "</style>\n",
       "<table border=\"1\" class=\"dataframe\">\n",
       "  <thead>\n",
       "    <tr style=\"text-align: right;\">\n",
       "      <th></th>\n",
       "      <th>Feature</th>\n",
       "      <th>Importance</th>\n",
       "    </tr>\n",
       "  </thead>\n",
       "  <tbody>\n",
       "    <tr>\n",
       "      <th>79</th>\n",
       "      <td>lg_flrsfmean</td>\n",
       "      <td>97</td>\n",
       "    </tr>\n",
       "    <tr>\n",
       "      <th>2</th>\n",
       "      <td>lg_lotarea</td>\n",
       "      <td>96</td>\n",
       "    </tr>\n",
       "    <tr>\n",
       "      <th>80</th>\n",
       "      <td>bedroomsize</td>\n",
       "      <td>70</td>\n",
       "    </tr>\n",
       "    <tr>\n",
       "      <th>60</th>\n",
       "      <td>neighborhood</td>\n",
       "      <td>67</td>\n",
       "    </tr>\n",
       "    <tr>\n",
       "      <th>24</th>\n",
       "      <td>lg_garagearea</td>\n",
       "      <td>58</td>\n",
       "    </tr>\n",
       "  </tbody>\n",
       "</table>\n",
       "</div>"
      ],
      "text/plain": [
       "          Feature  Importance\n",
       "79   lg_flrsfmean          97\n",
       "2      lg_lotarea          96\n",
       "80    bedroomsize          70\n",
       "60   neighborhood          67\n",
       "24  lg_garagearea          58"
      ]
     },
     "execution_count": 141,
     "metadata": {},
     "output_type": "execute_result"
    }
   ],
   "source": [
    "data_plot.head()"
   ]
  },
  {
   "cell_type": "code",
   "execution_count": 142,
   "id": "4df4fed7-e9d3-462c-a812-2d985010870a",
   "metadata": {},
   "outputs": [],
   "source": [
    "values = data_plot['Importance'][:10]\n",
    "labels = data_plot['Feature'][:10]"
   ]
  },
  {
   "cell_type": "code",
   "execution_count": 143,
   "id": "57a86e4d-6b5e-4d9d-9bcf-5ea395a6edd7",
   "metadata": {},
   "outputs": [
    {
     "data": {
      "image/png": "[encoded data removed]",
      "text/plain": [
       "<Figure size 300x250 with 1 Axes>"
      ]
     },
     "metadata": {},
     "output_type": "display_data"
    },
    {
     "name": "stdout",
     "output_type": "stream",
     "text": [
      "Image 'feature_importance.svg' successfully saved into 'img/Section3-Feature-selection-and-Preprocessing' directory\n"
     ]
    }
   ],
   "source": [
    "fig = plot_bar_horizontal(\n",
    "    values=values,\n",
    "    labels=labels,\n",
    "    labelsize=9,\n",
    "    labelcolor='0.3',\n",
    "    labelweight='medium',\n",
    "    figsize=(3, 2.5),\n",
    "    kind='lol',\n",
    "    width=0.5,\n",
    "    s=6,\n",
    "    x_lim_right=100\n",
    ")\n",
    "savefig('feature_importance', dir_save)"
   ]
  },
  {
   "cell_type": "markdown",
   "id": "af5983dd-e41b-4de0-9f78-757a43f8b579",
   "metadata": {},
   "source": [
    "## Save Data"
   ]
  },
  {
   "cell_type": "code",
   "execution_count": 144,
   "id": "eaf7da43-7df6-46d2-92f2-869d9024a0c7",
   "metadata": {},
   "outputs": [],
   "source": [
    "datasets_dict['train'] = train\n",
    "datasets_dict['train_cv'] = train_cv"
   ]
  },
  {
   "cell_type": "code",
   "execution_count": 145,
   "id": "1617e07e-86e1-4ce5-8bcf-8e124cbf6865",
   "metadata": {},
   "outputs": [],
   "source": [
    "features_dict['features'] = features\n",
    "features_dict['features_linear'] = features_linear\n",
    "features_dict['features_raw'] = features_raw\n",
    "\n",
    "features_dict['numeric'] = numeric\n",
    "features_dict['numeric_linear'] = numeric_linear\n",
    "features_dict['numeric_raw'] = numeric_raw\n",
    "\n",
    "features_dict['categorical'] = categorical\n",
    "features_dict['categorical_linear'] = categorical_linear\n",
    "features_dict['categorical_raw'] = categorical_raw\n",
    "\n",
    "features_dict['factor'] = factor"
   ]
  },
  {
   "cell_type": "code",
   "execution_count": 146,
   "id": "9a1c3dd0-a417-42ac-8bfc-114a95607692",
   "metadata": {},
   "outputs": [],
   "source": [
    "transform_dict['encoder'] = encoder\n",
    "transform_dict['scaler'] = scaler\n",
    "\n",
    "transform_dict['features_log'] = features_log\n",
    "transform_dict['transformer_features_creator'] = features_creator\n",
    "transform_dict['transformer_features_logger'] = features_logger"
   ]
  },
  {
   "cell_type": "code",
   "execution_count": 147,
   "id": "c2a62f60-e6f3-40f6-9045-c44b0c09e6b7",
   "metadata": {},
   "outputs": [],
   "source": [
    "simulation_datasets_dict['train_iter2'] = train_im\n",
    "simulation_datasets_dict['features_iter2'] = features"
   ]
  },
  {
   "cell_type": "code",
   "execution_count": 148,
   "id": "aeab745d-ac0d-44db-8ef4-0d41f2c7d17f",
   "metadata": {},
   "outputs": [],
   "source": [
    "estimators_dict['lgb_iter2'] = lgb_opt"
   ]
  },
  {
   "cell_type": "code",
   "execution_count": 149,
   "id": "733bb4fd-26fb-46ca-8dd5-9bcd9a92754e",
   "metadata": {},
   "outputs": [],
   "source": [
    "evaluation_dict['cv_iter2'] = cv2"
   ]
  },
  {
   "cell_type": "code",
   "execution_count": 150,
   "id": "33c608bc-8f3a-4097-ac05-bd3fd4fc5800",
   "metadata": {},
   "outputs": [],
   "source": [
    "saveit(datasets_dict, 'datasets_dict', dir_save)"
   ]
  },
  {
   "cell_type": "code",
   "execution_count": 151,
   "id": "251f96ac-a26c-4875-84e1-252b60f0ec2c",
   "metadata": {},
   "outputs": [],
   "source": [
    "saveit(features_dict, 'features_dict', dir_save)"
   ]
  },
  {
   "cell_type": "code",
   "execution_count": 152,
   "id": "419085ea-9377-4ee8-ae9c-71d62030be83",
   "metadata": {},
   "outputs": [],
   "source": [
    "saveit(transform_dict, 'transform_dict', dir_save)"
   ]
  },
  {
   "cell_type": "code",
   "execution_count": 153,
   "id": "5c4209c4-ed0c-4fd8-ab6a-72a4f823168b",
   "metadata": {},
   "outputs": [],
   "source": [
    "saveit(simulation_datasets_dict, 'simulation_datasets_dict', dir_save)"
   ]
  },
  {
   "cell_type": "code",
   "execution_count": 154,
   "id": "df7f7553-66b0-417b-86ba-68ba6478db2d",
   "metadata": {},
   "outputs": [],
   "source": [
    "saveit(estimators_dict, 'estimators_dict', dir_save)"
   ]
  },
  {
   "cell_type": "code",
   "execution_count": 155,
   "id": "53e6ee3f-ede0-45b5-b71c-31fae9db6d5a",
   "metadata": {},
   "outputs": [],
   "source": [
    "saveit(evaluation_dict, 'evaluation_dict', dir_save)"
   ]
  },
  {
   "cell_type": "code",
   "execution_count": 156,
   "id": "849ead22-8960-48c6-9fd0-47d56a5ea381",
   "metadata": {},
   "outputs": [],
   "source": [
    "saveit(params, 'params', dir_save)"
   ]
  },
  {
   "cell_type": "code",
   "execution_count": 157,
   "id": "6dc7a7df-0c9c-4c58-a980-7c85b7f1fee2",
   "metadata": {},
   "outputs": [],
   "source": [
    "saveit(feature_importance, 'feature_importance', dir_save)"
   ]
  },
  {
   "cell_type": "markdown",
   "id": "ae343ade-20b5-490a-86a3-f22128f6daab",
   "metadata": {},
   "source": [
    "### Save Session"
   ]
  },
  {
   "cell_type": "code",
   "execution_count": 158,
   "id": "0a57ed96-d9f0-4c88-a6b0-c412842289cf",
   "metadata": {},
   "outputs": [],
   "source": [
    "save_session(dir_save)"
   ]
  },
  {
   "cell_type": "markdown",
   "id": "247be3a1-fbe9-4b4f-bb71-d44285d5e4f8",
   "metadata": {},
   "source": [
    "### Execution time"
   ]
  },
  {
   "cell_type": "code",
   "execution_count": 159,
   "id": "9579f71d-9c17-4960-b1d6-84c8e0a1df8b",
   "metadata": {},
   "outputs": [
    {
     "name": "stdout",
     "output_type": "stream",
     "text": [
      "Execution time: 0:13:12\n"
     ]
    }
   ],
   "source": [
    "print(f'Execution time: {stopwatch.stop(start)}')"
   ]
  }
 ],
 "metadata": {
  "kernelspec": {
   "display_name": "venv_kgl_house_prices",
   "language": "python",
   "name": "venv_kgl_house_prices"
  },
  "language_info": {
   "codemirror_mode": {
    "name": "ipython",
    "version": 3
   },
   "file_extension": ".py",
   "mimetype": "text/x-python",
   "name": "python",
   "nbconvert_exporter": "python",
   "pygments_lexer": "ipython3",
   "version": "3.12.2"
  }
 },
 "nbformat": 4,
 "nbformat_minor": 5
}
